{
  "nbformat": 4,
  "nbformat_minor": 0,
  "metadata": {
    "colab": {
      "private_outputs": true,
      "provenance": [],
      "authorship_tag": "ABX9TyOYUb/qi+5KjtJHVq0DrKUs",
      "include_colab_link": true
    },
    "kernelspec": {
      "name": "python3",
      "display_name": "Python 3"
    },
    "language_info": {
      "name": "python"
    }
  },
  "cells": [
    {
      "cell_type": "markdown",
      "metadata": {
        "id": "view-in-github",
        "colab_type": "text"
      },
      "source": [
        "<a href=\"https://colab.research.google.com/github/quemariox/Estudos_python/blob/main/Curso_Rel%C3%A2mpago_de_Python.ipynb\" target=\"_parent\"><img src=\"https://colab.research.google.com/assets/colab-badge.svg\" alt=\"Open In Colab\"/></a>"
      ]
    },
    {
      "cell_type": "markdown",
      "source": [
        "# CAPÍTULO 2. Curso Relâmpago de Python"
      ],
      "metadata": {
        "id": "sXXh8GFBIQYT"
      }
    },
    {
      "cell_type": "markdown",
      "source": [
        "## 2.1. O Básico"
      ],
      "metadata": {
        "id": "JbAzATnhIcNu"
      }
    },
    {
      "cell_type": "markdown",
      "source": [
        "### 2.1.1. Formatação e espaço em branco"
      ],
      "metadata": {
        "id": "ySsrjvjzJFFI"
      }
    },
    {
      "cell_type": "markdown",
      "source": [
        "Muitas linguagens usam chaves para delimitar blocos de código. Python usa\n",
        "indentação:"
      ],
      "metadata": {
        "id": "Vfl5F6ThJZ4W"
      }
    },
    {
      "cell_type": "code",
      "source": [
        "for i in [1,2,3,4,5]:\n",
        "  print(i) #first line of \"for i\" block\n",
        "  for j in [1,2,3,4,5]:\n",
        "    print(j) #first line of \"for j\" block\n",
        "    print(i+j) #last line of \"for j\" block\n",
        "  print(i) #last line of \"for j\" block\n",
        "print('done looping')"
      ],
      "metadata": {
        "id": "bzJp4d45Ja5f"
      },
      "execution_count": null,
      "outputs": []
    },
    {
      "cell_type": "markdown",
      "source": [
        "Isso faz com que o código Python seja bem legível, mas também significa que você tem que ser muito cuidadoso com a sua formatação. O espaço em branco é ignorado dentro dos parênteses e colchetes, o que poder ser muito útil em computações intermináveis"
      ],
      "metadata": {
        "id": "sr6rLAMVK25H"
      }
    },
    {
      "cell_type": "code",
      "source": [
        "#being able to use whitespaces makes the code easier to read:\n",
        "long_computation = (1 + 2 + 3 + 4 + 5 + 6 + 7 + 8 + 9 + 10 + 11)\n",
        "\n",
        "list_of_lists = [[1,2,3],\n",
        "                 [4,5,6],\n",
        "                 [7,8,9]]\n",
        "\n",
        "#we can use the backslash to continue the statement on next line:\n",
        "two_plus_three = 2 + \\\n",
        "3\n",
        "print(two_plus_three)"
      ],
      "metadata": {
        "id": "QQDO72SiJK0l"
      },
      "execution_count": null,
      "outputs": []
    },
    {
      "cell_type": "markdown",
      "source": [
        "### 2.1.2. Módulos"
      ],
      "metadata": {
        "id": "uqW5ILegMzCa"
      }
    },
    {
      "cell_type": "markdown",
      "source": [
        "Alguns recursos de Python não são carregados por padrão. Isto inclui tanto recursos como parte da linguagem assim como recursos de terceiros, que você\n",
        "baixa por conta própria. Para usar esses recursos, você precisará import (importar) os módulos que os contêm. Você talvez queira fazer isso se o seu módulo tem um nome complicado ou se você vai digitar bastante. Por exemplo, ao visualizar dados com matplotlib, uma\n",
        "convenção padrão é:"
      ],
      "metadata": {
        "id": "F0x676yjNFTu"
      }
    },
    {
      "cell_type": "code",
      "source": [
        "#we can give the library a nickname:\n",
        "import matplotlib.pyplot as plt"
      ],
      "metadata": {
        "id": "L05DJ_ptNUKJ"
      },
      "execution_count": null,
      "outputs": []
    },
    {
      "cell_type": "markdown",
      "source": [
        "Se você precisar de alguns valores específicos de um módulo, pode importá-los explicitamente e usá-los sem qualificação. Se você fosse uma pessoa má, você poderia importar o conteúdo inteiro de um módulo dentro do seu conjunto de nomes, o que talvez pudesse sobrescrever\n",
        "variáveis que você já tinha definido"
      ],
      "metadata": {
        "id": "ARhkA42aNjbu"
      }
    },
    {
      "cell_type": "code",
      "source": [
        "from collections import defaultdict, Counter\n",
        "\n",
        "lookup = defaultdict(int)\n",
        "my_counter = Counter()\n",
        "\n",
        "print(lookup)\n",
        "print(my_counter)"
      ],
      "metadata": {
        "id": "6JE830nhNta1"
      },
      "execution_count": null,
      "outputs": []
    },
    {
      "cell_type": "markdown",
      "source": [
        "### 2.1.3. Aritmética"
      ],
      "metadata": {
        "id": "83bKS4c_PEOC"
      }
    },
    {
      "cell_type": "markdown",
      "source": [
        "Python 2.7 usa a divisão de inteiros por padrão, portanto 5/2 é igual a 2. Quase sempre isso não é o que queremos, então sempre começaremos nossos arquivos\n",
        "com a importação do método $division$ da biblioteca $__future__$.\n",
        "\n",
        "Depois disso, 5/2 é igual a 2.5. Todo exemplo de código neste livro usa esse novo estilo de divisão. Na grande maioria dos casos em que precisaremos de divisão de inteiros, poderemos obtê-la com uma barra dupla 5 // 2."
      ],
      "metadata": {
        "id": "oqUbA46XPJpP"
      }
    },
    {
      "cell_type": "code",
      "source": [
        "print(5/2) #it looks like Python 3 already fixed this...\n",
        "           #we don't need to import the future library\n",
        "\n",
        "#Euclidian division\n",
        "print(5//2) #integer part of division = 2\n",
        "print(5%2) #rest of the division = 1\n",
        "\n",
        "from __future__ import division\n",
        "print(5/2)"
      ],
      "metadata": {
        "id": "TghHrHVQPeoX"
      },
      "execution_count": null,
      "outputs": []
    },
    {
      "cell_type": "markdown",
      "source": [
        "### 2.1.4. Funções"
      ],
      "metadata": {
        "id": "mcqOUPG0R56H"
      }
    },
    {
      "cell_type": "markdown",
      "source": [
        "Uma função é uma regra para pegar zero e mais entradas e retornar uma saída correspondente. As funções de Python são de primeira classe, que significa que podemos atribuí-las a variáveis e passá-las para as funções como quaisquer outros argumentos:"
      ],
      "metadata": {
        "id": "P9rOVfxGR2cS"
      }
    },
    {
      "cell_type": "code",
      "source": [
        "def double_plus_three(x):\n",
        "  \"\"\"Esta função multiplica sua entrada por 2 e soma 3.\"\"\"\n",
        "  return 2*x + 3\n",
        "\n",
        "def apply_to_one(f):\n",
        "  \"\"\"Chama a função f com 1 como seu argumento.\"\"\"\n",
        "  return f(1)\n",
        "\n",
        "function_1 = double_plus_three  # Atribuímos a função double_plus_three à variável my_double\n",
        "x = apply_to_one(function_1)  # Passamos a variável function_1 (onde está armazenada a função duble_plus_three) para apply_to_one, que retorna 5\n",
        "\n",
        "print(x)"
      ],
      "metadata": {
        "id": "j8e8pJSJSKAZ"
      },
      "execution_count": null,
      "outputs": []
    },
    {
      "cell_type": "markdown",
      "source": [
        "Também é fácil criar pequenas funções anônimas, ou lambdas. Você pode atribuir lambdas a variáveis, apesar de que maioria das pessoas lhe dirão para usar def:"
      ],
      "metadata": {
        "id": "XV3l0IiELNUF"
      }
    },
    {
      "cell_type": "code",
      "source": [
        "y = apply_to_one(lambda x: x + 4) #é igual a 5\n",
        "\n",
        "another_double = lambda x: 2*x #não faça isso\n",
        "\n",
        "def another_double(x): return 2*x #faça isso"
      ],
      "metadata": {
        "id": "Ff3ATbt6LX6J"
      },
      "execution_count": null,
      "outputs": []
    },
    {
      "cell_type": "markdown",
      "source": [
        "Os parâmetros de função também podem receber argumentos padrões, que só precisam ser especificados quando você quiser um valor além do padrão:"
      ],
      "metadata": {
        "id": "bfx_6W0bMWi4"
      }
    },
    {
      "cell_type": "code",
      "source": [
        "def my_print(message=\"my default message\"): print(message)\n",
        "\n",
        "my_print(\"hello\") # exibe 'hello'\n",
        "my_print() # exibe 'my default message'"
      ],
      "metadata": {
        "id": "uUNejOWgMYAW"
      },
      "execution_count": null,
      "outputs": []
    },
    {
      "cell_type": "markdown",
      "source": [
        "Às vezes é útil especificar argumentos pelo nome:"
      ],
      "metadata": {
        "id": "In2UWo8QMi2j"
      }
    },
    {
      "cell_type": "code",
      "source": [
        "def subtract(a = 1, b = 8): return a - b\n",
        "\n",
        "x = subtract(10, 5) # retorna 5\n",
        "y = subtract(0, 5) # retorna -5\n",
        "z = subtract(b = 5) # retorna -4\n",
        "v = subtract(a = 3) # retorna -5\n",
        "w = subtract() # retorna -7\n",
        "\n",
        "print(x,y,z,v,w)"
      ],
      "metadata": {
        "id": "rEdQdzfsMqls"
      },
      "execution_count": null,
      "outputs": []
    },
    {
      "cell_type": "markdown",
      "source": [
        "### 2.1.5. Strings"
      ],
      "metadata": {
        "id": "tWYEdnUII4Ff"
      }
    },
    {
      "cell_type": "markdown",
      "source": [
        "As strings podem ser delimitadas por aspas simples ou duplas (mas elas devem combinar).\n",
        "\n",
        "O Python usa a barra invertida para codificar caracteres especiais. Se você quiser barras invertidas como barras invertidas (que você vê nos nomes dos diretórios ou expressões regulares no Windows), você pode criar uma string bruta usando $r\"\"$:\n",
        "\n",
        "Você pode criar strings múltiplas usando aspas triplas ou duplas:"
      ],
      "metadata": {
        "id": "3OykD1vPNdEA"
      }
    },
    {
      "cell_type": "code",
      "source": [
        "single_quoted_string = 'data science'\n",
        "double_quoted_string = \"data science\"\n",
        "\n",
        "tab_string = \"texto, texto, texto, antes ... \\t ... depois mais texto (notou o tab?)\" #representa o caractere tab\n",
        "print(tab_string)\n",
        "\n",
        "not_tab_string = r\"\\t\" # representa os caracteres '\\' e 't'\n",
        "len(tab_string) #é1\n",
        "print(not_tab_string)\n",
        "\n",
        "multi_line_string = \"\"\"esta é a primeira linha.\n",
        "e esta é a segunda\n",
        "e esta é a terceira\"\"\"\n",
        "print(multi_line_string)"
      ],
      "metadata": {
        "id": "EU6rPE0SNWHw"
      },
      "execution_count": null,
      "outputs": []
    },
    {
      "cell_type": "markdown",
      "source": [
        "### 2.1.6. Exceções"
      ],
      "metadata": {
        "id": "wUUtRvwlOoCd"
      }
    },
    {
      "cell_type": "markdown",
      "source": [
        "Quando algo dá errado, o Python exibe uma exceção. Se não for manipulada, o programa travará. Você pode manipulá-las usando try e except. Apesar de serem consideradas ruins em muitas linguagens, as exceções são\n",
        "usadas livremente no Python para dar uma limpeza no código e, ocasionalmente, faremos o mesmo."
      ],
      "metadata": {
        "id": "ANU2RBqQO8nx"
      }
    },
    {
      "cell_type": "code",
      "source": [
        "try:\n",
        "  print(0 / 0)\n",
        "except ZeroDivisionError:\n",
        "  print(\"cannot divide by zero\")"
      ],
      "metadata": {
        "id": "gDOZ_qcNO1sl"
      },
      "execution_count": null,
      "outputs": []
    },
    {
      "cell_type": "markdown",
      "source": [
        "### 2.1.7. Listas"
      ],
      "metadata": {
        "id": "GmkzeadrP6GX"
      }
    },
    {
      "cell_type": "markdown",
      "source": [
        "Provavelmente, a estrutura de dados mais básica em Python é a list. Uma lista é apenas uma coleção ordenada. É parecida com o array das outras linguagens, mas com algumas funcionalidades a mais."
      ],
      "metadata": {
        "id": "GJfWPo0JQPBc"
      }
    },
    {
      "cell_type": "code",
      "source": [
        "#tipos de lista\n",
        "integer_list = [1, 2, 3]\n",
        "heterogeneous_list = [\"string\", 0.1, True]\n",
        "list_of_lists = [ integer_list, heterogeneous_list, [] ]\n",
        "\n",
        "#métodos úteis\n",
        "list_length = len(integer_list) # é igual a 3\n",
        "list_sum = sum(integer_list) # é igual a 6\n",
        "print(list_sum, list_length)"
      ],
      "metadata": {
        "id": "u8X6Z6JfQY4Q"
      },
      "execution_count": null,
      "outputs": []
    },
    {
      "cell_type": "markdown",
      "source": [
        "Você pode ter ou configurar o elemento n-ésimo de uma lista com colchetes:"
      ],
      "metadata": {
        "id": "vsqQm23KQhuD"
      }
    },
    {
      "cell_type": "code",
      "source": [
        "x = list(range(10)) # é a lista [0, 1, ..., 9]\n",
        "print(x)\n",
        "\n",
        "zero = x[0] # é igual a 0, as listas são indexadas a partir de 0\n",
        "one = x[1] # é igual a 1\n",
        "nine = x[-1] # é igual a 9, 'Pythonic' para o último elemento\n",
        "eight = x[-2] # é igual a 8, 'Pythonic' para o anterior ao último elemento\n",
        "\n",
        "x[0] = -1 # agora x é [-1, 1, 2, 3, ..., 9]\n",
        "print(x)"
      ],
      "metadata": {
        "id": "30n1HqDhQoWQ"
      },
      "execution_count": null,
      "outputs": []
    },
    {
      "cell_type": "markdown",
      "source": [
        "Você também pode usar os colchetes para repartir as listas:"
      ],
      "metadata": {
        "id": "SoDFtkkeQ0Gi"
      }
    },
    {
      "cell_type": "code",
      "source": [
        "x = list(range(10)) # é a lista [0, 1, ..., 9]\n",
        "first_three = x[:3] # [-1, 1, 2]\n",
        "three_to_end = x[3:] # [3, 4, ..., 9]\n",
        "one_to_four = x[1:5] # [1, 2, 3, 4]\n",
        "last_three = x[-3:] # [7, 8, 9]\n",
        "without_first_and_last = x[1:-1] # [1, 2, ..., 8]\n",
        "copy_of_x = x[:] # [-1, 1, 2, ..., 9]\n",
        "\n",
        "print(x)\n",
        "print(first_three)\n",
        "print(three_to_end)\n",
        "print(one_to_four)\n",
        "print(last_three)\n",
        "print(without_first_and_last)\n",
        "print(copy_of_x)"
      ],
      "metadata": {
        "id": "zd4gYV6pQ0-e"
      },
      "execution_count": null,
      "outputs": []
    },
    {
      "cell_type": "markdown",
      "source": [
        "O Python possui o operador in para verificar a associação à lista. Essa verificação envolve examinar os elementos de uma lista um de cada vez, o que significa que você provavelmente não deveria usá-la a menos que você saiba\n",
        "que sua lista é pequena (ou a menos que você não se importe em quanto tempo a verificação durará)."
      ],
      "metadata": {
        "id": "lJlslosCRWE3"
      }
    },
    {
      "cell_type": "code",
      "source": [
        "stat_a = 1 in [1, 2, 3] # Verdadeiro\n",
        "stat_b = 0 in [1, 2, 3] # Falso\n",
        "\n",
        "print(stat_a)\n",
        "print(stat_b)"
      ],
      "metadata": {
        "id": "sydDoGFARXsF"
      },
      "execution_count": null,
      "outputs": []
    },
    {
      "cell_type": "markdown",
      "source": [
        "É fácil concatenar as listas juntas:"
      ],
      "metadata": {
        "id": "RcYiC1q5Vl7Z"
      }
    },
    {
      "cell_type": "code",
      "source": [
        "# alterando/extendendo a lista original\n",
        "x = [1,2,3]\n",
        "x.extend([4,5,6])\n",
        "print(x)\n",
        "\n",
        "# preservando a lista original\n",
        "x = [1,2,3]\n",
        "y = x + [4,5,6]\n",
        "print(x)\n",
        "print(y)\n",
        "\n",
        "# anexandp um itens ao final da lista\n",
        "x = [1,2,3]\n",
        "x.append(0)\n",
        "print(x)"
      ],
      "metadata": {
        "id": "sW-EcJaDVp14"
      },
      "execution_count": null,
      "outputs": []
    },
    {
      "cell_type": "markdown",
      "source": [
        "Às vezes é conveniente desfazer as listas se você sabe quantos elementos elas\n",
        "possuem. apesar de que você receberá um ValueError se não tiver os mesmos números de\n",
        "elementos dos dois lados."
      ],
      "metadata": {
        "id": "Ht3HVB0fprno"
      }
    },
    {
      "cell_type": "code",
      "source": [
        "# para guardar as posições da lista em um conjuto de variáveis é preciso conhecer o comprimento da lista\n",
        "lista = [1,2,3]\n",
        "x,y,_ = lista\n",
        "\n",
        "# é comum usar um sublinhado para um valor que você descartará:\n",
        "\n",
        "print(x)\n",
        "print(y)\n",
        "print(_) # esse não importa\n",
        "print(lista)"
      ],
      "metadata": {
        "id": "L534xqbDp2uI"
      },
      "execution_count": null,
      "outputs": []
    },
    {
      "cell_type": "markdown",
      "source": [
        "### 2.1.8. Tuplas"
      ],
      "metadata": {
        "id": "g4WFpKU6P9r3"
      }
    },
    {
      "cell_type": "markdown",
      "source": [
        "São as primas imutáveis das listas. Quase tudo que você pode fazer com uma lista, que não envolva modificá-la, é possível ser feito em uma tupla. Você especifica uma tupla ao usar parênteses (ou nada) em vez de colchetes:"
      ],
      "metadata": {
        "id": "iUT2qnYVqoyw"
      }
    },
    {
      "cell_type": "code",
      "source": [
        "my_list = [1,2] #criando lista\n",
        "my_tuple = (1,2) #criando tupla\n",
        "\n",
        "my_list[1] = 3 #listas são mutáveis\n",
        "\n",
        "#tuplas são imutáveis\n",
        "try:\n",
        "  my_tuple[1] = 3\n",
        "except TypeError:\n",
        "  print(\"Não se pode modificar uma tupla\")"
      ],
      "metadata": {
        "id": "Y1aFJz0dqxB1"
      },
      "execution_count": null,
      "outputs": []
    },
    {
      "cell_type": "markdown",
      "source": [
        "As tuplas são uma maneira eficaz de retornar múltiplos valores a partir das funções:"
      ],
      "metadata": {
        "id": "Hf5O4FQZrR82"
      }
    },
    {
      "cell_type": "code",
      "source": [
        "def sum_and_product(x, y):\n",
        "  return (x + y), (x * y) #tem duas saídas\n",
        "\n",
        "sp = sum_and_product(2,3) #a saída é a tupla (2+3, 2*3) = (5, 6)\n",
        "s,p = sum_and_product(2,3) #as saídas são s = 5 e p = 6, aqui usamos atribuição múltipla\n",
        "\n",
        "print(sp)\n",
        "print(s)\n",
        "print(p)"
      ],
      "metadata": {
        "id": "8Dc7KwrmrT6Q"
      },
      "execution_count": null,
      "outputs": []
    },
    {
      "cell_type": "markdown",
      "source": [
        "As tuplas (e listas) também podem ser usadas para atribuições múltiplas:"
      ],
      "metadata": {
        "id": "b5Tw4S2usOmu"
      }
    },
    {
      "cell_type": "code",
      "source": [
        "#atribuição múltipla\n",
        "x,y = 1,2\n",
        "print(x,y)\n",
        "\n",
        "#troca valores\n",
        "x,y = y,x\n",
        "print(x,y)"
      ],
      "metadata": {
        "id": "qfYRquRJsQuZ"
      },
      "execution_count": null,
      "outputs": []
    },
    {
      "cell_type": "markdown",
      "source": [
        "### 2.1.9. Dicionários"
      ],
      "metadata": {
        "id": "cbyPJR07P_N3"
      }
    },
    {
      "cell_type": "markdown",
      "source": [
        "Outra estrutura fundamental é um dicionário, que associa valores com chaves e permite que você recupere o valor correspondente de uma dada chave\n",
        "rapidamente:"
      ],
      "metadata": {
        "id": "YGq4GZrSss-Q"
      }
    },
    {
      "cell_type": "code",
      "source": [
        "empty_dict = {} #cria dicionário vazio\n",
        "empty_dict2 = dict() #outro jeito de criar um dicionário\n",
        "pontos = {'joel':80,'tim':95} #criando dicionário manualmente\n",
        "\n",
        "#procurando o valor pela chave\n",
        "pontuacao_joel = pontos['joel']\n",
        "pontuacao_tim = pontos['tim']\n",
        "print(pontuacao_joel)\n",
        "print(pontuacao_tim)\n",
        "\n",
        "#procurar por chaves que não existem retorna erro\n",
        "try:\n",
        "  pontuacao_kate = pontos['kate']\n",
        "  print(pontuacao_kate)\n",
        "except KeyError:\n",
        "  print('chave não encontrada!')\n",
        "\n",
        "#podemos verificar se uma chave existe no dicionário\n",
        "stat_a = 'joel' in pontos\n",
        "print(stat_a)\n",
        "\n",
        "stat_b = 'kate' in pontos\n",
        "print(stat_b)"
      ],
      "metadata": {
        "id": "eS8m2_G2svU1"
      },
      "execution_count": null,
      "outputs": []
    },
    {
      "cell_type": "markdown",
      "source": [
        "Os dicionários possuem o método get que retorna um valor padrão (em vez de levantar uma exceção) quando você procura por uma chave que não esteja no\n",
        "dicionário:"
      ],
      "metadata": {
        "id": "vqz0Q5ihuhiV"
      }
    },
    {
      "cell_type": "code",
      "source": [
        "pontuacao_joel = pontos.get('joel',0) #como a chave 'joel' existe seu valor será retornado\n",
        "print(pontuacao_joel)\n",
        "\n",
        "pontuacao_kate = pontos.get('kate',0) #como a chave 'kate' não existe o valor retornado será zero\n",
        "print(pontuacao_kate)"
      ],
      "metadata": {
        "id": "S4HgV02Tu6-H"
      },
      "execution_count": null,
      "outputs": []
    },
    {
      "cell_type": "markdown",
      "source": [
        "Podemos atribuir/sobrescrever pales de chave-valor usando os colchetes, tal qual é feito com as listas. Para remover valores usamos nome_dicionario.pop(nome_da_chave)\n"
      ],
      "metadata": {
        "id": "mZf1V87o0EJZ"
      }
    },
    {
      "cell_type": "code",
      "source": [
        "pontos = {'joel':80,'tim':95} #criando dicionário manualmente\n",
        "print(pontos)\n",
        "\n",
        "pontos['kate'] = 100 #finalmente adicionamos a kate\n",
        "print(pontos)\n",
        "\n",
        "pontos['josh'], pontos['marcus'] = 25, 39 #usando atribuição múltipla\n",
        "print(pontos)\n",
        "\n",
        "pontos.pop('tim') #removendo a chave 'tim'\n",
        "print(pontos)\n",
        "\n",
        "pontos['joel'] = 70 #mudando a pontuação de 'joel'\n",
        "print(pontos)\n",
        "\n",
        "num_students = len(pontos)\n",
        "print(num_students)"
      ],
      "metadata": {
        "id": "CNah9eKG0QaJ"
      },
      "execution_count": null,
      "outputs": []
    },
    {
      "cell_type": "markdown",
      "source": [
        "Frequentemente usaremos dicionários como uma simples maneira de representar dados estruturados:"
      ],
      "metadata": {
        "id": "O0eTqnXo11Pj"
      }
    },
    {
      "cell_type": "code",
      "source": [
        "tweet = {\n",
        "\"user\" : \"joelgrus\",\n",
        "\"text\" : \"Data Science is Awesome\",\n",
        "\"retweet_count\" : 100,\n",
        "\"hashtags\" : [\"#data\", \"#science\", \"#datascience\", \"#awesome\", \"#yolo\"]\n",
        "}\n",
        "print(tweet)"
      ],
      "metadata": {
        "id": "7AqlgimM13yU"
      },
      "execution_count": null,
      "outputs": []
    },
    {
      "cell_type": "markdown",
      "source": [
        "Além de procurar por chaves específicas, podemos olhar para todas elas:"
      ],
      "metadata": {
        "id": "5HZvoaad2Aut"
      }
    },
    {
      "cell_type": "code",
      "source": [
        "tweet_keys = tweet.keys() # lista de chaves\n",
        "print(tweet_keys)\n",
        "\n",
        "tweet_values = tweet.values() # lista de valores-chave\n",
        "print(tweet_values)\n",
        "\n",
        "tweet_items = tweet.items() # lista de (chave, valor) tuplas\n",
        "print(tweet_items)\n",
        "\n",
        "print(\"user\" in tweet_keys) # Verdadeiro, mas usa list in, mais lento\n",
        "print(\"user\" in tweet) # mais Pythonic, usa dict in, mais rápido\n",
        "print(\"joelgrus\" in tweet_values) # Verdadeiro"
      ],
      "metadata": {
        "id": "9ELfJGnz2Crp"
      },
      "execution_count": null,
      "outputs": []
    },
    {
      "cell_type": "markdown",
      "source": [
        "As chaves dos dicionários devem ser imutáveis; particularmente, você não pode usar lists como chaves. Se você precisar de uma chave multipart, você deveria usar uma tuple ou descobrir uma forma de transformar uma chave em uma string."
      ],
      "metadata": {
        "id": "Y_cDCVzC25wR"
      }
    },
    {
      "cell_type": "markdown",
      "source": [
        "**defaultdict**\n",
        "\n",
        "Imagine que você esteja tentando contar as palavras em um documento.\n",
        "- Um método claro é criar um dicionário no qual as chaves são palavras e os valores são contagens. Conforme você vai verificando cada palavra, você pode incrementar sua contagem se ela já estiver no dicionário e adicioná-la no dicionário se não estiver.\n",
        "\n",
        "- Você também poderia usar o método “perdão é melhor do que permissão” e apenas manipular a exceção a partir da tentativa de procurar pela chave perdida.\n",
        "\n",
        "- Uma terceira abordagem é usar get, que se comporta muito bem com as chaves\n",
        "perdidas."
      ],
      "metadata": {
        "id": "MA-bvXGu3vxm"
      }
    },
    {
      "cell_type": "code",
      "source": [
        "#criando arquivo\n",
        "%%writefile musica.txt\n",
        "Roda Viva\n",
        "Chico Buarque\n",
        "\n",
        "Tem dias que a gente se sente\n",
        "Como quem partiu ou morreu\n",
        "A gente estancou de repente\n",
        "Ou foi o mundo então que cresceu\n",
        "A gente quer ter voz ativa\n",
        "No nosso destino mandar\n",
        "Mas eis que chega a roda viva\n",
        "E carrega o destino pra lá\n",
        "\n",
        "Roda mundo, roda-gigante\n",
        "Roda moinho, roda pião\n",
        "\n",
        "O tempo rodou num instante\n",
        "Nas voltas do meu coração\n",
        "A gente vai contra a corrente\n",
        "Até não poder resistir\n",
        "Na volta do barco é que sente\n",
        "O quanto deixou de cumprir\n",
        "Faz tempo que a gente cultiva\n",
        "A mais linda roseira que há\n",
        "Mas eis que chega a roda viva\n",
        "E carrega a roseira pra lá\n",
        "\n",
        "Roda mundo, roda-gigante\n",
        "Roda moinho, roda pião"
      ],
      "metadata": {
        "id": "z1hQLAqw8OuD"
      },
      "execution_count": null,
      "outputs": []
    },
    {
      "cell_type": "code",
      "source": [
        "#definindo a função que lê o arquivo de texto e transforma\n",
        "def doc_read(nome_doc: str):\n",
        "  with open(nome_doc, mode='r', encoding='utf-8') as arquivo:\n",
        "    conteudo = []\n",
        "    for linha in arquivo: # Itera sobre cada linha do arquivo\n",
        "      palavras = linha.strip().split()  # Remove espaços e divide a linha em palavras e salva na lista palavras\n",
        "      conteudo.extend(palavras)  # Adiciona todas as palavras à lista conteudo\n",
        "\n",
        "  return conteudo\n",
        "\n",
        "#chamando a função para teste e salvando em uma variável list \"documento\"\n",
        "documento = doc_read('musica.txt')\n",
        "\n",
        "#criando dicionário de contagem de palavras\n",
        "contagem_palavras = {}\n",
        "\n",
        "# contando palavras com if/else\n",
        "for palavra in documento:\n",
        "  if palavra in contagem_palavras:\n",
        "    contagem_palavras[palavra] += 1\n",
        "  else:\n",
        "    contagem_palavras[palavra] = 1\n",
        "\n",
        "# contando palavras com try/except\n",
        "for palavra in documento:\n",
        "  try:\n",
        "    contagem_palavras[palavra] += 1\n",
        "  except:\n",
        "    contagem_palavras[palavra] = 1\n",
        "\n",
        "# contando palavras com .get()\n",
        "for palavra in documento:\n",
        "  contagem_antes = contagem_palavras.get(palavra,0) #verifica se a chave \"palavra\" já existe, caso sim, retorna sua contagem, caso não, retorna 0\n",
        "  contagem_palavras[palavra] = contagem_antes + 1 #adiciona +1 à contagem anterior da chave \"palavra\"word_counts = {}\n",
        "\n",
        "#exibe dicionário atualizado\n",
        "print(contagem_palavras)\n",
        "for chave, valor in contagem_palavras.items():\n",
        "  print(f'{chave}:{valor}')"
      ],
      "metadata": {
        "id": "X2fAWJ9i8fVz"
      },
      "execution_count": null,
      "outputs": []
    },
    {
      "cell_type": "markdown",
      "source": [
        "Tudo isso é levemente complicado, por isso o defaultdict é útil. Um defaultdict é como um dicionário comum, exceto que, quando você tenta procurar por uma chave que ele não possui, ele primeiro adiciona um valor para ela usando a\n",
        "função de argumento zero que você forneceu ao criá-lo. Para usar defaultdicts, você tem que importá-los das collections:"
      ],
      "metadata": {
        "id": "FgzNYmMFX1AE"
      }
    },
    {
      "cell_type": "code",
      "source": [
        "from collections import defaultdict\n",
        "\n",
        "contagem_palavras = defaultdict(int)\n",
        "\n",
        "for palavra in documento:\n",
        "  contagem_palavras[palavra] += 1\n",
        "\n",
        "print(contagem_palavras)"
      ],
      "metadata": {
        "id": "_ecch72gX6dt"
      },
      "execution_count": null,
      "outputs": []
    },
    {
      "cell_type": "markdown",
      "source": [
        "Eles também podem ser úteis com list ou dict ou até mesmo com suas próprias funções. Isso será útil quando você usar dicionários para “coletar” resultados por alguma chave e não quiser verificar toda vez para ver se ela ainda existe."
      ],
      "metadata": {
        "id": "-Sdx0e7sYQJf"
      }
    },
    {
      "cell_type": "code",
      "source": [
        "dd_list = defaultdict(list) # list() produz uma lista vazia\n",
        "dd_list[2].append(1) # agora dd_list contém {2: [1]}\n",
        "dd_list[3].append(4) # agora dd_list contém {2: [1], 3: [4]}\n",
        "print(dd_list)\n",
        "\n",
        "dd_dict = defaultdict(dict) # dict() produz um dict vazio\n",
        "dd_dict[\"Joel\"][\"City\"] = \"Seattle\" # { \"Joel\" : { \"City\" : Seattle\"}}\n",
        "\n",
        "dd_pair = defaultdict(lambda: [0, 0])\n",
        "dd_pair[2][1] = 1  # agora dd_pair contêm {2: [0,1]}"
      ],
      "metadata": {
        "id": "zsqyGFY0YTGu"
      },
      "execution_count": null,
      "outputs": []
    },
    {
      "cell_type": "markdown",
      "source": [
        "**Contador**\n",
        "\n",
        "Um Counter (contador) transforma uma sequência de valores em algo parecido com o objeto defaultdict(int) mapeando as chaves para as contagens. Primeiramente, o usaremos para criar histogramas:"
      ],
      "metadata": {
        "id": "g-nPyVK3YoyH"
      }
    },
    {
      "cell_type": "code",
      "source": [
        "from collections import Counter\n",
        "\n",
        "c = Counter([0,1,2,3,0]) # c é (basicamente) { 0 : 2, 1 : 1, 2 : 1, 3:1}\n",
        "print(c)"
      ],
      "metadata": {
        "id": "kvyz8YWlYycc"
      },
      "execution_count": null,
      "outputs": []
    },
    {
      "cell_type": "markdown",
      "source": [
        "Isso nos mostra uma forma simples de resolver nosso problema de word_counts:"
      ],
      "metadata": {
        "id": "JJo27KPPe2GR"
      }
    },
    {
      "cell_type": "code",
      "source": [
        "contagem_palavras = Counter(documento)\n",
        "print(contagem_palavras)"
      ],
      "metadata": {
        "id": "hP8iLOQ2e5En"
      },
      "execution_count": null,
      "outputs": []
    },
    {
      "cell_type": "markdown",
      "source": [
        "Uma instância Counter possui um método most_common que é frequentemente útil:"
      ],
      "metadata": {
        "id": "dG29INMVfMP0"
      }
    },
    {
      "cell_type": "code",
      "source": [
        "# imprime as dez palavas mais comuns e suas contas\n",
        "for palavras, contagem in contagem_palavras.most_common(10):\n",
        "  print (palavras, contagem)"
      ],
      "metadata": {
        "id": "-e0lx75zfL2y"
      },
      "execution_count": null,
      "outputs": []
    },
    {
      "cell_type": "code",
      "source": [
        "word_counts = {} #cria o dicionário\n",
        "\n",
        "for word in documento: #para cada palavra no documento\n",
        "  if word in word_counts: #se a palavra já estiver no dicionário\n",
        "    word_counts[word] += 1 #a sua chave recebe +1 no contador\n",
        "  else: #caso contrário\n",
        "    word_counds[word] = 1 #adiciona a palavra ao dicionário com contador 1"
      ],
      "metadata": {
        "id": "cuBakgcQ8VGW"
      },
      "execution_count": null,
      "outputs": []
    },
    {
      "cell_type": "markdown",
      "source": [
        "### 2.1.10. Conjuntos"
      ],
      "metadata": {
        "id": "8Eus4ceRQDWA"
      }
    },
    {
      "cell_type": "markdown",
      "source": [
        "### 2.1.11. Controle de Fluxo"
      ],
      "metadata": {
        "id": "pDkE_ZY1QGly"
      }
    },
    {
      "cell_type": "markdown",
      "source": [
        "### 2.1.12. Veracidade"
      ],
      "metadata": {
        "id": "Wpc2_AukQMS4"
      }
    }
  ]
}