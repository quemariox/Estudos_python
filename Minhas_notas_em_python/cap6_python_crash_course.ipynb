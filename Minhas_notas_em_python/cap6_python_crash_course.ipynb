{
 "cells": [
  {
   "cell_type": "markdown",
   "metadata": {},
   "source": [
    "# Capítulo 6. Dicionários"
   ]
  },
  {
   "cell_type": "markdown",
   "metadata": {},
   "source": [
    "Neste capítulo aprenderemos a usar dicionários Python, que permitem conectar informações relacionadas. Veremos como acessar as informações depois que elas estiverem em um dicionário e modificá-las. Pelo fato de os dicionários serem capazes de armazenar uma quantidade quase ilimitada de informações, mostraremos como percorrer os dados de um dicionário com um laço. Além disso, aprenderemos a aninhar dicionários em listas, listas em dicionários e até mesmo dicionários em outros dicionários."
   ]
  },
  {
   "cell_type": "markdown",
   "metadata": {},
   "source": [
    "## 6.1. Um dicionário simples"
   ]
  },
  {
   "cell_type": "markdown",
   "metadata": {},
   "source": [
    "Um dicionário em Python é uma coleção de pares chave-valor. Cada chave é conectada a um valor, e você pode usar uma chave para acessar o valor associado a ela. O valor de uma chave pode ser um número, uma string, uma lista ou até mesmo outro dicionário. De fato, podemos usar qualquer objeto que possa ser criado em Python como valor de um dicionário. \n",
    "\n",
    "Em Python, um dicionário é representado entre chaves, {}, com uma série de pares chave-valor entre elas, como mostramos no exemplo anterior: alien_0 = {'color': 'green', 'points': 5}. Um par chave-valor é um conjunto de valores associados um ao outro. \n",
    "\n",
    "Quando fornecemos uma chave, Python devolve o valor associado a essa chave. Toda chave é associada a seu valor por meio de dois-pontos, e pares chave-valor individuais são separados por vírgulas. Podemos armazenar quantos pares chave-valor quisermos em um dicionário."
   ]
  },
  {
   "cell_type": "code",
   "execution_count": 65,
   "metadata": {},
   "outputs": [
    {
     "name": "stdout",
     "output_type": "stream",
     "text": [
      "Dicionário: {'cor': 'verde', 'pontos': 5}\n",
      "valor da chave \"cor\": verde\n",
      "valor da chave \"pontos\": 5\n"
     ]
    }
   ],
   "source": [
    "#criando um dicionário\n",
    "alien_0 = {'cor':'verde','pontos':5} \n",
    "print('Dicionário:',alien_0)\n",
    "\n",
    "#acessando seus elementos\n",
    "print('valor da chave \"cor\":',alien_0['cor'])\n",
    "print('valor da chave \"pontos\":',alien_0['pontos'])"
   ]
  },
  {
   "cell_type": "markdown",
   "metadata": {},
   "source": [
    "Dicionários são estruturas dinâmicas, e você pode adicionar novos pares chave-valor a um dicionário a qualquer momento. Por exemplo, para acrescentar um novo par chave-valor, especifique o nome do dicionário, seguido da nova chave entre colchetes, juntamente com o novo valor."
   ]
  },
  {
   "cell_type": "code",
   "execution_count": 66,
   "metadata": {},
   "outputs": [
    {
     "name": "stdout",
     "output_type": "stream",
     "text": [
      "Dicionário: {'cor': 'verde', 'pontos': 5}\n",
      "Dicionário atualizado: {'cor': 'verde', 'pontos': 5, 'x_pos': 0, 'y_pos': 25}\n"
     ]
    }
   ],
   "source": [
    "#criando um dicionário\n",
    "alien_0 = {'cor':'verde','pontos':5} \n",
    "print('Dicionário:',alien_0)\n",
    "\n",
    "#adicionando pares chave-valor\n",
    "alien_0['x_pos'] = 0\n",
    "alien_0['y_pos'] = 25\n",
    "print('Dicionário atualizado:',alien_0)"
   ]
  },
  {
   "cell_type": "markdown",
   "metadata": {},
   "source": [
    "Python não se importa com a ordem em que armazenamos\n",
    "cada par chave-valor; ele só se importa com a conexão entre cada chave e seu valor."
   ]
  },
  {
   "cell_type": "markdown",
   "metadata": {},
   "source": [
    "### Começando com um dicionário vazio"
   ]
  },
  {
   "cell_type": "code",
   "execution_count": 67,
   "metadata": {},
   "outputs": [
    {
     "name": "stdout",
     "output_type": "stream",
     "text": [
      "Dicionário vazio: {}\n",
      "Dicionário adicionando chaves: {'cor': 'verde', 'pontos': 5}\n",
      "Dicionário chaves alteradas: {'cor': 'rosa', 'pontos': 10}\n"
     ]
    }
   ],
   "source": [
    "#criando um dicionário vazio\n",
    "alien_0 = {}\n",
    "print('Dicionário vazio:',alien_0)\n",
    "\n",
    "#adicionando chaves e seus valores\n",
    "alien_0['cor'] = 'verde'\n",
    "alien_0['pontos'] = 5\n",
    "print('Dicionário adicionando chaves:',alien_0)\n",
    "\n",
    "#modificando valores em um dicionário\n",
    "alien_0['cor'] = 'rosa'\n",
    "alien_0['pontos'] = 10\n",
    "print('Dicionário chaves alteradas:',alien_0)\n"
   ]
  },
  {
   "cell_type": "markdown",
   "metadata": {},
   "source": [
    "Para ver um exemplo mais interessante, vamos monitorar a posição de um alienígena que pode se deslocar com velocidades diferentes. Armazenaremos um valor que representa a velocidade atual do alienígena e, então, usaremos esse valor para determinar a distância que o alienígena deve se mover para a direita:"
   ]
  },
  {
   "cell_type": "code",
   "execution_count": 68,
   "metadata": {},
   "outputs": [
    {
     "name": "stdout",
     "output_type": "stream",
     "text": [
      "Start: {'t': 0, 'x': 10, 'y': 20, 'vx': 'lento', 'vy': 'lento'}\n",
      "Final: {'t': 10, 'x': 55, 'y': 65, 'vx': 'lento', 'vy': 'lento'}\n"
     ]
    }
   ],
   "source": [
    "#criando o dicionário\n",
    "alien_0 = {'t':0,'x':10,'y':20,'vx':'lento','vy':'lento'}\n",
    "\n",
    "print('Start:',alien_0)\n",
    "\n",
    "for t in range(1,10):\n",
    "    #incremento da posição x\n",
    "    if alien_0['vx'] == 'lento':\n",
    "        dx = 1\n",
    "        alien_0['x'] = alien_0['x'] + dx*t\n",
    "        alien_0['t'] = t + 1\n",
    "    elif alien_0['vx'] == 'medio':\n",
    "        dx = 2\n",
    "        alien_0['x'] = alien_0['x'] + dx*t\n",
    "        alien_0['t'] = t + 1   \n",
    "    elif alien_0['vx'] == 'rapido':\n",
    "        dx = 3 \n",
    "        alien_0['x'] = alien_0['x'] + dx*t\n",
    "        alien_0['t'] = t + 1\n",
    "    #incremento da posição y\n",
    "    if alien_0['vy'] == 'lento':\n",
    "        dy = 1\n",
    "        alien_0['y'] = alien_0['y'] + dy*t\n",
    "        alien_0['t'] = t + 1\n",
    "    elif alien_0['vy'] == 'medio':\n",
    "        dy = 2\n",
    "        alien_0['y'] = alien_0['y'] + dy*t\n",
    "        alien_0['t'] = t + 1\n",
    "    elif alien_0['vy'] == 'rapido':\n",
    "        dy = 3 \n",
    "        alien_0['y'] = alien_0['y'] + dy*t\n",
    "        alien_0['t'] = t + 1\n",
    "\n",
    "print('Final:',alien_0)\n"
   ]
  },
  {
   "cell_type": "markdown",
   "metadata": {},
   "source": [
    "Quando não houver mais necessidade de uma informação armazenada em um dicionário, podemos usar a instrução del para remover totalmente um par chave-valor. Tudo de que del precisa é do nome do dicionário e da chave que você deseja remover."
   ]
  },
  {
   "cell_type": "code",
   "execution_count": 69,
   "metadata": {},
   "outputs": [
    {
     "name": "stdout",
     "output_type": "stream",
     "text": [
      "{'cor': 'verde', 'pontos': 5}\n",
      "{'pontos': 5}\n",
      "{}\n"
     ]
    }
   ],
   "source": [
    "alien_0 = {'cor':'verde','pontos':5}\n",
    "print(alien_0)\n",
    "\n",
    "del alien_0['cor']\n",
    "print(alien_0)\n",
    "\n",
    "del alien_0['pontos']\n",
    "print(alien_0)"
   ]
  },
  {
   "cell_type": "markdown",
   "metadata": {},
   "source": [
    "Quando souber que precisará de mais de uma linha para definir um dicionário, tecle ENTER depois da chave de abertura. Em seguida, indente a próxima linha em um nível (quatro espaços) e escreva o primeiro par chave-valor, seguido de uma vírgula. A partir desse ponto, quando pressionar ENTER, seu editor de texto deverá indentar automaticamente todos os pares chave-valor subsequentes para que estejam de acordo com o primeiro par chave-valor."
   ]
  },
  {
   "cell_type": "code",
   "execution_count": 70,
   "metadata": {},
   "outputs": [
    {
     "name": "stdout",
     "output_type": "stream",
     "text": [
      "{'mario': 'python', 'alícia': 'javascript', 'véia': 'c#', 'véio': 'java', 'marlon': 'ruby', 'gabriel': 'node', 'alguem': 'c'}\n"
     ]
    }
   ],
   "source": [
    "fav_ling = {\n",
    "    'mario':'python','alícia':'javascript',\n",
    "    'véia':'c#','véio':'java','marlon':'ruby',\n",
    "    'gabriel':'node','alguem':'c'\n",
    "}   \n",
    "print(fav_ling)"
   ]
  },
  {
   "cell_type": "markdown",
   "metadata": {},
   "source": [
    "### Exercícios"
   ]
  },
  {
   "cell_type": "markdown",
   "metadata": {},
   "source": [
    "6.1 – Pessoa: Use um dicionário para armazenar informações sobre uma pessoa que você conheça. Armazene seu primeiro nome, o sobrenome, a idade e a cidade em que ela vive. Você deverá ter chaves como first_name, last_name, age e city. Mostre cada informação armazenada em seu dicionário."
   ]
  },
  {
   "cell_type": "code",
   "execution_count": 71,
   "metadata": {},
   "outputs": [
    {
     "name": "stdout",
     "output_type": "stream",
     "text": [
      "nome : mário\n",
      "sobrenome : miguel\n",
      "idade : 27\n",
      "cidade : juatuba\n"
     ]
    }
   ],
   "source": [
    "pessoa = {'nome':'mário','sobrenome':'miguel','idade':'27','cidade':'juatuba'}\n",
    "\n",
    "for chave in pessoa: #para cada \"chave\" em \"pessoa\"\n",
    "    print(chave,':',pessoa.get(chave)) #exiba \"chave\":\"valor\""
   ]
  },
  {
   "cell_type": "markdown",
   "metadata": {},
   "source": [
    "6.2 – Números favoritos: Use um dicionário para armazenar os números favoritos de algumas pessoas. Pense em cinco nomes e use-os como chaves em seu dicionário. Pense em um número favorito para cada pessoa e armazene cada um como um valor em seu dicionário. Exiba o nome de cada pessoa e seu número favorito. Para que seja mais divertido ainda, faça uma enquete com alguns amigos e obtenha alguns dados reais para o seu programa."
   ]
  },
  {
   "cell_type": "code",
   "execution_count": 72,
   "metadata": {},
   "outputs": [
    {
     "name": "stdout",
     "output_type": "stream",
     "text": [
      "José , cujo o nº favorito é: 1\n",
      "Luís , cujo o nº favorito é: 13\n",
      "Jair , cujo o nº favorito é: 22\n",
      "Carl , cujo o nº favorito é: 6\n",
      "Zig , cujo o nº favorito é: 1\n"
     ]
    }
   ],
   "source": [
    "fav_num = {'josé':1,'luís':13,'jair':22,'carl':6, 'zig':1}\n",
    "\n",
    "for chave in fav_num:\n",
    "    print(chave.title(),', cujo o nº favorito é:',fav_num.get(chave))"
   ]
  },
  {
   "cell_type": "markdown",
   "metadata": {},
   "source": [
    "6.3 – Glossário: Um dicionário Python pode ser usado para modelar um dicionário de verdade. No entanto, para evitar confusão, vamos chamá-lo de glossário.\n",
    "\n",
    "- Pense em cinco palavras relacionadas à programação que você conheceu nos capítulos anteriores. Use essas palavras como chaves em seu glossário e armazene seus significados como valores.\n",
    "- Mostre cada palavra e seu significado em uma saída formatada de modo elegante. Você pode exibir a palavra seguida de dois-pontos e depois o seu significado, ou apresentar a palavra em uma linha e então exibir seu\n",
    "significado indentado em uma segunda linha. Utilize o caractere de quebra de linha (\\n) para inserir uma linha em branco entre cada par palavra-significado em sua saída."
   ]
  },
  {
   "cell_type": "code",
   "execution_count": 73,
   "metadata": {},
   "outputs": [
    {
     "name": "stdout",
     "output_type": "stream",
     "text": [
      "1 . Front-end : Desenvolvimento da interface do usuário e experiência visual de um aplicativo ou site.\n",
      "\n",
      "\n",
      "2 . Back-end : Gerenciamento de servidores, bancos de dados e lógica de aplicação que suportam a parte visível ao usuário.\n",
      "\n",
      "\n",
      "3 . Análise de dados : Processamento e interpretação de dados para obter insights e suportar decisões empresariais.\n",
      "\n",
      "\n",
      "4 . Ciência de dados : Uso de métodos estatísticos e algoritmos para extrair conhecimento e previsões a partir de dados complexos.\n",
      "\n",
      "\n",
      "5 . Engenharia de dados : Construção e manutenção de infraestrutura e pipelines para coletar, armazenar e processar grandes volumes de dados.\n",
      "\n",
      "\n"
     ]
    }
   ],
   "source": [
    "glossario = {\n",
    "    \"Front-end\":\"Desenvolvimento da interface do usuário e experiência visual de um aplicativo ou site.\",\n",
    "    \"Back-end\":\"Gerenciamento de servidores, bancos de dados e lógica de aplicação que suportam a parte visível ao usuário.\",\n",
    "    \"Análise de dados\": \"Processamento e interpretação de dados para obter insights e suportar decisões empresariais.\",\n",
    "    \"Ciência de dados\": \"Uso de métodos estatísticos e algoritmos para extrair conhecimento e previsões a partir de dados complexos.\",\n",
    "    \"Engenharia de dados\": \"Construção e manutenção de infraestrutura e pipelines para coletar, armazenar e processar grandes volumes de dados.\"\n",
    "}\n",
    "\n",
    "i = 1\n",
    "for chave in glossario:\n",
    "    print(i,'.',chave,\":\",glossario.get(chave))\n",
    "    print('\\n')\n",
    "    i += 1"
   ]
  },
  {
   "cell_type": "markdown",
   "metadata": {},
   "source": [
    "## 6.2. Percorrendo um dicionário com um laço"
   ]
  },
  {
   "cell_type": "markdown",
   "metadata": {},
   "source": [
    "Um único dicionário Python pode conter apenas alguns pares chave-valor ou milhões deles. Como um dicionário pode conter uma grande quantidade de dados, Python permite percorrer um dicionário com um laço. Dicionários podem ser usados para armazenar informações de várias maneiras; assim, há diversos modos diferentes de percorrê-los com um laço. Podemos percorrer todos os pares chave-valor de um dicionário usando suas chaves ou seus valores."
   ]
  },
  {
   "cell_type": "markdown",
   "metadata": {},
   "source": [
    "`dicionario.itens()`: Retorna uma visão dos pares chave-valor do dicionário como tuplas.\n",
    "\n",
    "`dicionario.keys()`: Retorna uma visão de todas as chaves do dicionário.\n",
    "\n",
    "`dicionario.values()`: Retorna uma visão de todos os valores do dicionário.\n",
    "\n",
    "`dicionario.get(chave, valor_padrao=None)`: Retorna o valor para a chave especificada, ou valor_padrao se a chave não existir"
   ]
  },
  {
   "cell_type": "code",
   "execution_count": null,
   "metadata": {},
   "outputs": [],
   "source": [
    "#criando o dicionário\n",
    "user_0 = {'nick':'darth_marius','nome':'mário','sobrenome':'miguel'}\n",
    "print('Dicionário:',user_0,'\\n')\n",
    "\n",
    "#exibindo todas as chaves\n",
    "print('Lista de chaves:')\n",
    "for k in user_0.keys():\n",
    "    print('Chave:',k)\n",
    "print('\\n')\n",
    "\n",
    "#exibindo todos os valores \n",
    "print('Lista de valores:')\n",
    "for v in user_0.values():\n",
    "    print('Valor',v)\n",
    "print('\\n')\n",
    "\n",
    "#percorrendo o dicionário\n",
    "print('Lista de chaves-valores:')\n",
    "for k,v in user_0.items():\n",
    "    print(\"Chave:\" + k + \"\\tValor:\" + v)"
   ]
  },
  {
   "cell_type": "markdown",
   "metadata": {},
   "source": [
    "6.4 – Glossário 2: Agora que você já sabe como percorrer um dicionário com um laço, limpe o código do Exercício 6.3 (página 148), substituindo sua sequência de instruções print por um laço que percorra as chaves e os valores do dicionário. Quando tiver certeza de que seu laço funciona acrescente mais cinco termos de Python ao seu glossário. Ao executar seu programa novamente, essas palavras e significados novos deverão ser automaticamente incluídos na saída."
   ]
  },
  {
   "cell_type": "code",
   "execution_count": 90,
   "metadata": {},
   "outputs": [
    {
     "name": "stdout",
     "output_type": "stream",
     "text": [
      "1 . Front-end : Desenvolvimento da interface do usuário e experiência visual de um aplicativo ou site.\n",
      "2 . Back-end : Gerenciamento de servidores, bancos de dados e lógica de aplicação que suportam a parte visível ao usuário.\n",
      "3 . Análise de dados : Processamento e interpretação de dados para obter insights e suportar decisões empresariais.\n",
      "4 . Ciência de dados : Uso de métodos estatísticos e algoritmos para extrair conhecimento e previsões a partir de dados complexos.\n",
      "5 . Engenharia de dados : Construção e manutenção de infraestrutura e pipelines para coletar, armazenar e processar grandes volumes de dados.\n"
     ]
    }
   ],
   "source": [
    "#criando o dicionário\n",
    "glossario = {\n",
    "    \"Front-end\":\"Desenvolvimento da interface do usuário e experiência visual de um aplicativo ou site.\",\n",
    "    \"Back-end\":\"Gerenciamento de servidores, bancos de dados e lógica de aplicação que suportam a parte visível ao usuário.\",\n",
    "    \"Análise de dados\": \"Processamento e interpretação de dados para obter insights e suportar decisões empresariais.\",\n",
    "    \"Ciência de dados\": \"Uso de métodos estatísticos e algoritmos para extrair conhecimento e previsões a partir de dados complexos.\",\n",
    "    \"Engenharia de dados\": \"Construção e manutenção de infraestrutura e pipelines para coletar, armazenar e processar grandes volumes de dados.\"\n",
    "}\n",
    "#percorrendo  o dicionário\n",
    "i = 1\n",
    "for k,v in glossario.items():\n",
    "    print(i,\".\",k,\":\",v)\n",
    "    i += 1"
   ]
  },
  {
   "cell_type": "markdown",
   "metadata": {},
   "source": [
    "6.5 – Rios: Crie um dicionário que contenha três rios importantes e o país que cada rio corta. Um par chave-valor poderia ser 'nilo': 'egito'.\n",
    "\n",
    "- Use um laço para exibir uma frase sobre cada rio, por exemplo, O Nilo corre pelo Egito.\n",
    "- Use um laço para exibir o nome de cada rio incluído no dicionário.\n",
    "- Use um laço para exibir o nome de cada país incluído no dicionário."
   ]
  },
  {
   "cell_type": "code",
   "execution_count": null,
   "metadata": {},
   "outputs": [],
   "source": [
    "rios = {'nilo':'egito','amazônas':'brasil','amarelo':'china'}\n",
    "\n",
    "print('Chaves-Valores:')\n",
    "for k,v in rios.items():\n",
    "    print('O rio ' + k.title() + ' fica no(a) ' + v.title() )\n",
    "print('\\n')\n",
    "\n",
    "print('Chaves:')\n",
    "for k in rios.keys():\n",
    "    print('Rio:',k.title()) \n",
    "print('\\n')\n",
    "\n",
    "print('Valores:')\n",
    "for v in rios.values():\n",
    "    print('País:',v.title()) "
   ]
  },
  {
   "cell_type": "markdown",
   "metadata": {},
   "source": [
    "6.6 – Enquete: Utilize o código em favorite_languages.py \n",
    "\n",
    "- Crie uma lista de pessoas que devam participar da enquete sobre linguagem favorita. Inclua alguns nomes que já estejam no dicionário e outros que não estão.\n",
    "- Percorra a lista de pessoas que devem participar da enquete. Se elas já tiverem respondido à enquete, mostre uma mensagem agradecendo-lhes por responder. Se ainda não participaram da enquete, apresente uma mensagem convidando-as a responder."
   ]
  },
  {
   "cell_type": "code",
   "execution_count": 99,
   "metadata": {},
   "outputs": [
    {
     "name": "stdout",
     "output_type": "stream",
     "text": [
      "José Você já participou da enquete, suma daqui!\n",
      "Luís Você já participou da enquete, suma daqui!\n",
      "Olá Paulo gostaria de responder a uma enquete?\n",
      "Olá Mário gostaria de responder a uma enquete?\n",
      "Carl Você já participou da enquete, suma daqui!\n",
      "Zig Você já participou da enquete, suma daqui!\n",
      "Olá Ester gostaria de responder a uma enquete?\n",
      "Jair Você já participou da enquete, suma daqui!\n"
     ]
    }
   ],
   "source": [
    "nomes = ['josé','luís','paulo','mário','carl','zig','ester','jair']\n",
    "fav_num = {'josé':1,'luís':13,'jair':22,'carl':6, 'zig':1}\n",
    "\n",
    "for nome in nomes:\n",
    "    if nome in fav_num.keys():\n",
    "        print(nome.title() + ' Você já participou da enquete, suma daqui!')\n",
    "    else:\n",
    "        print('Olá ' + nome.title() + ' gostaria de responder a uma enquete?')"
   ]
  },
  {
   "cell_type": "markdown",
   "metadata": {},
   "source": [
    "## 6.3. Informações aninhadas"
   ]
  },
  {
   "cell_type": "markdown",
   "metadata": {},
   "source": [
    "Às vezes, você vai querer armazenar um conjunto de dicionários em uma lista ou uma lista de itens como um valor em um dicionário. Isso é conhecido como aninhar informações. Podemos aninhar um conjunto de dicionários em uma lista, uma lista de itens em um dicionário ou até mesmo um dicionário em outro dicionário. Aninhar informações é um recurso eficaz, como mostrarão os próximos exemplos."
   ]
  },
  {
   "cell_type": "markdown",
   "metadata": {},
   "source": [
    "### Lista de dicionários"
   ]
  },
  {
   "cell_type": "markdown",
   "metadata": {},
   "source": [
    "Criando manualmente"
   ]
  },
  {
   "cell_type": "code",
   "execution_count": 110,
   "metadata": {},
   "outputs": [
    {
     "name": "stdout",
     "output_type": "stream",
     "text": [
      "Alien 1: {'cor': 'vermelho', 'pontos': 15}\n",
      "Alien 2: {'cor': 'amarelo', 'pontos': 10}\n",
      "Alien 3: {'cor': 'verde', 'pontos': 5}\n"
     ]
    }
   ],
   "source": [
    "#dicionários de aliens\n",
    "alien_0 = {'cor':'vermelho','pontos':15}\n",
    "alien_1 = {'cor':'amarelo','pontos':10}\n",
    "alien_2 = {'cor':'verde','pontos':5}\n",
    "\n",
    "#lista de dicionários\n",
    "aliens = [alien_0, alien_1, alien_2]\n",
    "\n",
    "#exibindo os dicionários da lista\n",
    "cont = 1\n",
    "for alien in aliens:\n",
    "    print('Alien ' + str(cont) + ': ' + str(alien))\n",
    "    cont += 1"
   ]
  },
  {
   "cell_type": "markdown",
   "metadata": {},
   "source": [
    "Criando com um loop"
   ]
  },
  {
   "cell_type": "code",
   "execution_count": null,
   "metadata": {},
   "outputs": [],
   "source": [
    "aliens = []\n",
    "\n",
    "#criando 30 dicionários de \"novo_alien\" e adicionando à lista \"aliens\"\n",
    "for alien in range(30):\n",
    "    novo_alien = {'cor':'verde','pontos':5,'vel':'lento'}\n",
    "    aliens.append(novo_alien)\n",
    "\n",
    "#exibindo os 5 primeiros aliens da lista \"aliens\"\n",
    "cont = 0\n",
    "for alien in aliens[:5]:\n",
    "    print('Alien ' + str(cont) + ': ' + str(alien))\n",
    "    cont += 1\n",
    "\n",
    "#alterando as características dos aliens\n",
    "for alien in aliens[15:26]:\n",
    "    alien['cor'] = 'amarelo'\n",
    "    alien['pontos'] = 10\n",
    "    alien['vel'] = 'medio'\n",
    "for alien in aliens [26:]:\n",
    "    alien['cor'] = 'vermelho'\n",
    "    alien['pontos'] = 15\n",
    "    alien['vel'] = 'rápido'\n",
    "\n",
    "#exibindo os 5 primeiros aliens da lista \"aliens\"\n",
    "cont = 0\n",
    "for alien in aliens[:]:\n",
    "    print('Alien ' + str(cont) + ': ' + str(alien))\n",
    "    cont += 1"
   ]
  },
  {
   "cell_type": "markdown",
   "metadata": {},
   "source": [
    "### Uma lista em um dicionário"
   ]
  },
  {
   "cell_type": "markdown",
   "metadata": {},
   "source": [
    "Criando um dicionário com listas em seus valores "
   ]
  },
  {
   "cell_type": "code",
   "execution_count": null,
   "metadata": {},
   "outputs": [],
   "source": [
    "#criando um dicionário cujo os valores são listas\n",
    "pizza = {'tamanho':['p','m','g','xg'],\n",
    "        'massa':['fina','grossa'],\n",
    "        'borda':['simples','recheada'],\n",
    "        'adicionais':['bacon','queijo','nutella']}\n",
    "\n",
    "#exibindo os ítens do dicionário\n",
    "print('Dicionário completo:') \n",
    "for k,v in pizza.items():\n",
    "    print(k,' : ',v)\n",
    "print('\\n')\n",
    "\n",
    "#exibindo as chaves\n",
    "print('Lista de chaves:')\n",
    "for k in pizza.keys():\n",
    "    print(k)\n",
    "print('\\n')\n",
    "\n",
    "#exibindo os valores\n",
    "print('Lista de valores:')\n",
    "for v in pizza.values():\n",
    "    print(v)"
   ]
  },
  {
   "cell_type": "markdown",
   "metadata": {},
   "source": [
    "Passeando pelas listas(valores) "
   ]
  },
  {
   "cell_type": "code",
   "execution_count": null,
   "metadata": {},
   "outputs": [],
   "source": [
    "#criando um dicionário cujo os valores são listas\n",
    "pizza = {'tamanho':['p','m','g','xg'],\n",
    "        'massa':['fina','grossa'],\n",
    "        'borda':['simples','recheada'],\n",
    "        'adicional':['bacon','queijo','nutella']}\n",
    "\n",
    "#exibindo lista de tamanhos\n",
    "print('Tamanhos:')\n",
    "for i in pizza['tamanho']:\n",
    "    print(i)\n",
    "print('\\n')\n",
    "\n",
    "#exibindo lista de massas\n",
    "print('Massas:')\n",
    "for i in pizza['massa']:\n",
    "    print(i)\n",
    "print('\\n')\n",
    "\n",
    "#exibindo lista de bordas\n",
    "print('Bordas:')\n",
    "for i in pizza['borda']:\n",
    "    print(i)\n",
    "print('\\n')\n",
    "\n",
    "#exibindo lista de massas\n",
    "print('Adicionais:')\n",
    "for i in pizza['adicional']:\n",
    "    print(i)\n",
    "print('\\n')"
   ]
  },
  {
   "cell_type": "markdown",
   "metadata": {},
   "source": [
    "Abrindo as chaves e valores simultaneamente:"
   ]
  },
  {
   "cell_type": "code",
   "execution_count": null,
   "metadata": {},
   "outputs": [],
   "source": [
    "#criando um dicionário cujo os valores são listas\n",
    "pizza = {'tamanho':['p','m','g','xg'],\n",
    "        'massa':['fina','grossa'],\n",
    "        'borda':['simples','recheada'],\n",
    "        'adicional':['bacon','queijo','nutella']}\n",
    "\n",
    "cont_k = 1\n",
    "for k in pizza.keys():\n",
    "    print(str(cont_k) + '.' + k.title() + ':')\n",
    "    cont_k += 1\n",
    "    cont_v = 1\n",
    "    for v in pizza[k]:\n",
    "        print('\\t' + str(cont_v) + '. ' + v.title())\n",
    "        cont_v += 1"
   ]
  },
  {
   "cell_type": "markdown",
   "metadata": {},
   "source": [
    "### Dicionários de dicionários"
   ]
  },
  {
   "cell_type": "markdown",
   "metadata": {},
   "source": [
    "Podemos aninhar um dicionário em outro dicionário, mas o código poderá ficar complicado rapidamente se isso for feito. Por exemplo, se você tiver vários usuários em um site, cada um com um nome único, os nomes dos usuários poderão ser usados como chaves em um dicionário. \n",
    "\n",
    "Você poderá então armazenar informações sobre cada usuário usando um dicionário como o valor associado a cada nome de usuário. Na listagem a seguir, armazenamos três informações sobre cada usuário:\n",
    "\n",
    "                            \"seu primeiro nome, o sobrenome e a localidade.\" \n",
    "\n",
    "Acessaremos essas informações percorrendo os nomes dos usuários em um laço e o dicionário de informações associado a cada nome de usuário:"
   ]
  },
  {
   "cell_type": "code",
   "execution_count": 161,
   "metadata": {},
   "outputs": [
    {
     "name": "stdout",
     "output_type": "stream",
     "text": [
      "\n",
      " Usuário: Aeinstein\n",
      " Informações: Albert Einstein mora em Princeton.\n",
      "\n",
      " Usuário: Mcurie\n",
      " Informações: Marie Curie mora em Paris.\n"
     ]
    }
   ],
   "source": [
    "#criando um dicionário onde os valores são dicionários\n",
    "users = {\n",
    "        'aeinstein': {'nome': 'albert', 'sobrenome': 'einstein', 'lugar': 'princeton', },\n",
    "        'mcurie': {'nome': 'marie', 'sobrenome': 'curie', 'lugar': 'paris', },\n",
    "}\n",
    "\n",
    "for k, vd in users.items():\n",
    "    print('\\n Usuário: ' + k.title())\n",
    "    print(f\"\"\" Informações: {vd['nome'].title()} {vd['sobrenome'].title()} mora em {vd['lugar'].title()}.\"\"\")"
   ]
  },
  {
   "cell_type": "markdown",
   "metadata": {},
   "source": [
    "### Exercícios"
   ]
  },
  {
   "cell_type": "markdown",
   "metadata": {},
   "source": [
    "6.7 – Pessoas: Comece com o programa que você escreveu no Exercício 6.1. Crie dois novos dicionários que representem pessoas diferentes e armazene os três dicionários em uma lista chamada people. Percorra sua lista\n",
    "de pessoas com um laço. À medida que percorrer a lista, apresente tudo que você sabe sobre cada pessoa."
   ]
  },
  {
   "cell_type": "code",
   "execution_count": 180,
   "metadata": {},
   "outputs": [
    {
     "name": "stdout",
     "output_type": "stream",
     "text": [
      "Mário Miguel tem 27 anos e mora em Juatuba\n",
      "Marlon Miguel tem 23 anos e mora em Juatuba\n",
      "Alícia Santos Miguel tem 5 anos e mora em Florestal\n"
     ]
    }
   ],
   "source": [
    "#criando dicionários \n",
    "pessoa0 = {'nome':'mário','sobrenome':'miguel','idade':'27','cidade':'juatuba'}\n",
    "pessoa1 = {'nome':'marlon','sobrenome':'miguel','idade':'23','cidade':'juatuba'}\n",
    "pessoa2 = {'nome':'alícia','sobrenome':'santos miguel','idade':'5','cidade':'florestal'}\n",
    "\n",
    "#lista de pessoas\n",
    "pessoas = [pessoa0,pessoa1,pessoa2]\n",
    "\n",
    "#percorrendo a lista de dicionários\n",
    "for pessoa in pessoas:\n",
    "    print(pessoa['nome'].title() + ' ' + pessoa['sobrenome'].title()\\\n",
    "          + ' tem ' + pessoa['idade'] + ' anos e mora em ' + pessoa['cidade'].title())"
   ]
  },
  {
   "cell_type": "markdown",
   "metadata": {},
   "source": [
    "6.8 – Animais de estimação: Crie vários dicionários, em que o nome de cada dicionário seja o nome de um animal de estimação. Em cada dicionário, inclua o tipo do animal e o nome do dono. Armazene esses dicionários em uma lista chamada pets. Em seguida, percorra sua lista com um laço e, à medida que fizer isso, apresente tudo que você sabe sobre cada animal de estimação."
   ]
  },
  {
   "cell_type": "code",
   "execution_count": 193,
   "metadata": {},
   "outputs": [
    {
     "name": "stdout",
     "output_type": "stream",
     "text": [
      "O cão kiara pertence a aparecida\n",
      "O cão bibola pertence a mário antônio\n",
      "O gato lion pertence a papai do céu\n"
     ]
    }
   ],
   "source": [
    "#criando dicionários \n",
    "kiara = {'nome':'kiara','tipo':'cão', 'dono':'aparecida'}\n",
    "bibola = {'nome':'bibola','tipo':'cão', 'dono':'mário antônio'}\n",
    "lion = {'nome':'lion','tipo':'gato', 'dono':'papai do céu'}\n",
    "\n",
    "#lista de pets\n",
    "pets = [kiara, bibola, lion]\n",
    "\n",
    "#percorrendo a lista de dicionários\n",
    "for pet in pets:\n",
    "    print('O ' + pet['tipo'] + ' ' + pet['nome'] + ' pertence a ' + pet['dono'])"
   ]
  },
  {
   "cell_type": "markdown",
   "metadata": {},
   "source": [
    "6.9 – Lugares favoritos: Crie um dicionário chamado favorite_places. Pense em três nomes para usar como chaves do dicionário e armazene de um a três lugares favoritos para cada pessoa. Para deixar este exercício um pouco mais interessante, peça a alguns amigos que nomeiem alguns de seus lugares favoritos. Percorra o dicionário com um laço e apresente o nome de cada pessoa e seus lugares favoritos."
   ]
  },
  {
   "cell_type": "code",
   "execution_count": 231,
   "metadata": {},
   "outputs": [
    {
     "name": "stdout",
     "output_type": "stream",
     "text": [
      "Mario gosta dos seguintes lugares:\n",
      "\t 1 . Brasil\n",
      "\t 2 . China\n",
      "\t 3 . Quarto\n",
      "Marlon gosta dos seguintes lugares:\n",
      "\t 1 . Brasil\n",
      "\t 2 . Eua\n",
      "\t 3 . Israel\n",
      "Alicia gosta dos seguintes lugares:\n",
      "\t 1 . Florestal\n",
      "\t 2 . Juatuba\n"
     ]
    }
   ],
   "source": [
    "lugares_favoritos = {'mario':['brasil','china','quarto'],\n",
    "           'marlon':['brasil','eua','israel'],\n",
    "           'alicia':['florestal','juatuba']\n",
    "           }\n",
    "\n",
    "for k, vl in lugares_favoritos.items():\n",
    "    print(k.title(),'gosta dos seguintes lugares:')\n",
    "    cont = 1\n",
    "    for lugar in vl:\n",
    "        print('\\t',cont,'.',lugar.title())\n",
    "        cont += 1\n"
   ]
  },
  {
   "cell_type": "markdown",
   "metadata": {},
   "source": [
    "6.10 – Números favoritos: Modifique o seu programa do Exercício 6.2 para que cada pessoa possa ter mais de um número favorito. Em seguida, apresente o nome de cada pessoa, juntamente com seus números favoritos."
   ]
  },
  {
   "cell_type": "code",
   "execution_count": 242,
   "metadata": {},
   "outputs": [
    {
     "name": "stdout",
     "output_type": "stream",
     "text": [
      "Mario tem como seus números favoritos:\n",
      "1\n",
      "2\n",
      "Carlos tem como seus números favoritos:\n",
      "4\n",
      "7\n",
      "Paulo tem como seus números favoritos:\n",
      "9\n",
      "Ana tem como seus números favoritos:\n",
      "2\n",
      "3\n",
      "8\n",
      "Mariane tem como seus números favoritos:\n",
      "5\n"
     ]
    }
   ],
   "source": [
    "#criando dicionário\n",
    "fav_num = {'mario':[1,2],'carlos':[4,7],'paulo':[9],'ana':[2,3,8],'mariane':[5]}\n",
    "\n",
    "#percorrendo o dicionário\n",
    "for k, vl in fav_num.items():\n",
    "    print(k.title(),'tem como seus números favoritos:')\n",
    "    for numero in vl:\n",
    "        print(numero)"
   ]
  },
  {
   "cell_type": "markdown",
   "metadata": {},
   "source": [
    "\n",
    "6.11 – Cidades: Crie um dicionário chamado cities. Use os nomes de três cidades como chaves em seu dicionário. Crie um dicionário com informações sobre cada cidade e inclua o país em que a cidade está localizada, a população aproximada e um fato sobre essa cidade. As chaves do dicionário de cada cidade devem ser algo como country, population e fact. Apresente o nome de cada cidade e todas as informações que você armazenou sobre ela."
   ]
  },
  {
   "cell_type": "code",
   "execution_count": 252,
   "metadata": {},
   "outputs": [
    {
     "name": "stdout",
     "output_type": "stream",
     "text": [
      "Sobre a cidade de Juatuba :\n",
      "\t País : Brasil\n",
      "\t Pop : 30 mil\n",
      "\t Fato : É a terra dos juás\n",
      "Sobre a cidade de Tokio :\n",
      "\t País : Japão\n",
      "\t Pop : 14 milhões\n",
      "\t Fato : É a terra do cyberpunk\n",
      "Sobre a cidade de Cairo :\n",
      "\t País : Egito\n",
      "\t Pop : 10 milhões\n",
      "\t Fato : É a terra dos faraós\n"
     ]
    }
   ],
   "source": [
    "cidades = {'juatuba':{'país':'brasil','pop':'30 mil','fato':'é a terra dos Juás'},\n",
    "           'tokio':{'país':'japão','pop':'14 milhões','fato':'é a terra do cyberpunk'},\n",
    "           'cairo':{'país':'egito','pop':'10 milhões','fato':'é a terra dos faraós'},\n",
    "}\n",
    "\n",
    "for k, vd in cidades.items():\n",
    "    print('Sobre a cidade de',k.title(),':')\n",
    "    for kvd, vdvd in vd.items():\n",
    "        print('\\t',kvd.title(),':', vdvd.capitalize())\n",
    "        \n"
   ]
  },
  {
   "cell_type": "markdown",
   "metadata": {},
   "source": [
    "\n",
    "6.12 – Extensões: Estamos trabalhando agora com exemplos complexos o bastante para poderem ser estendidos de várias maneiras. Use um dos programas de exemplo deste capítulo e estenda-o acrescentando novas chaves e valores, alterando o contexto do programa ou melhorando a formatação da saída."
   ]
  }
 ],
 "metadata": {
  "kernelspec": {
   "display_name": "Python 3",
   "language": "python",
   "name": "python3"
  },
  "language_info": {
   "codemirror_mode": {
    "name": "ipython",
    "version": 3
   },
   "file_extension": ".py",
   "mimetype": "text/x-python",
   "name": "python",
   "nbconvert_exporter": "python",
   "pygments_lexer": "ipython3",
   "version": "3.10.12"
  }
 },
 "nbformat": 4,
 "nbformat_minor": 2
}
