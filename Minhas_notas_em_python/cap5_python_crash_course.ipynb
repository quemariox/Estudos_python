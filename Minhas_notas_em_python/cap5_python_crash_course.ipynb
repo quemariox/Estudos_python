{
 "cells": [
  {
   "cell_type": "markdown",
   "metadata": {},
   "source": [
    "# Capítulo 5. Instruções if/elif/else"
   ]
  },
  {
   "cell_type": "markdown",
   "metadata": {},
   "source": [
    "## 5.1. Testes condicionais e operadores "
   ]
  },
  {
   "cell_type": "markdown",
   "metadata": {},
   "source": [
    "É importante saber diferenciair o operador atribuição '=' e o operador igualdade(comparador) '=='."
   ]
  },
  {
   "cell_type": "code",
   "execution_count": 1,
   "metadata": {},
   "outputs": [
    {
     "name": "stdout",
     "output_type": "stream",
     "text": [
      "Audi\n",
      "BMW\n",
      "Subaru\n",
      "Toyota\n"
     ]
    }
   ],
   "source": [
    "carros = ['audi', 'bmw', 'subaru', 'toyota']\n",
    "\n",
    "for carro in carros:\n",
    "    if carro == 'bmw': \n",
    "        print(carro.upper()) #caixa alta apenas para a 'bmw'    \n",
    "    else:\n",
    "        print(carro.title().strip())"
   ]
  },
  {
   "cell_type": "markdown",
   "metadata": {},
   "source": [
    "O operador de igualdade(comparador) faz distinção entre maiúsculos e minúsculos. \n",
    "\n",
    "Os sites impõem determinadas regras para os dados fornecidos pelos usuários de modo semelhante a esse. Por exemplo, um site pode usar um teste condicional desse tipo para garantir que todos os usuários tenham um nome realmente único, e não apenas uma variação quanto ao uso de letras maiúsculas em relação ao nome de usuário de outra pessoa. Quando alguém submeter um novo nome de usuário, esse nome será convertido para letras minúsculas e comparado às versões com letras minúsculas de todos os nomes de usuário existentes. Durante essa verificação, um nome de usuário como 'John' será rejeitado se houver qualquer variação de 'john' já em uso."
   ]
  },
  {
   "cell_type": "code",
   "execution_count": 2,
   "metadata": {},
   "outputs": [],
   "source": [
    "#adicione nome = 'Mario' e depois nome = 'mario'\n",
    "pergunta = str(input('Deseja cadastrar um nome? [s/n]'))\n",
    "base_nomes = []\n",
    "while pergunta == 's':\n",
    "    nome = str(input('Digite seu nome'))\n",
    "    if nome.lower() in base_nomes:\n",
    "        print('usuário já está cadastrado!')\n",
    "        pergunta = str(input('Deseja cadastrar outro nome? [s/n]'))\n",
    "    else:\n",
    "        base_nomes.append(nome.lower())\n",
    "        pergunta = str(input('Deseja cadastrar outro nome? [s/n]'))\n",
    "print(list(base_nomes)) "
   ]
  },
  {
   "cell_type": "markdown",
   "metadata": {},
   "source": [
    "Se quiser determinar se dois valores não são iguais, você poderá combinar um ponto de exclamação e um sinal de igualdade (!=)."
   ]
  },
  {
   "cell_type": "code",
   "execution_count": null,
   "metadata": {},
   "outputs": [
    {
     "name": "stdout",
     "output_type": "stream",
     "text": [
      "True\n",
      "False\n"
     ]
    }
   ],
   "source": [
    "print(2 != 1) #retorna True\n",
    "print(2 != 2) #retorna False"
   ]
  },
  {
   "cell_type": "markdown",
   "metadata": {},
   "source": [
    "Também é possível fazer comparações numéricaverdadeiras"
   ]
  },
  {
   "cell_type": "code",
   "execution_count": null,
   "metadata": {},
   "outputs": [
    {
     "name": "stdout",
     "output_type": "stream",
     "text": [
      "Nada de festa de 18 anos para você amigo...\n"
     ]
    }
   ],
   "source": [
    "idade = int(input('qual a sua idade?    '))\n",
    "if idade != 18:\n",
    "    print('Nada de festa de 18 anos para você amigo...')\n",
    "else:\n",
    "    print('Prepare o pó! Apenas prepare!')"
   ]
  },
  {
   "cell_type": "markdown",
   "metadata": {},
   "source": [
    "Podemos usar operadores lógicos `and`, `or` e `not` para combinar preposições"
   ]
  },
  {
   "cell_type": "code",
   "execution_count": null,
   "metadata": {},
   "outputs": [
    {
     "name": "stdout",
     "output_type": "stream",
     "text": [
      "AND com ambas verdadeiras retorna True\n",
      "OR com apenas uma verdadeira retorna True\n",
      "NOT com uma falsa retorna True\n"
     ]
    }
   ],
   "source": [
    "idade1 = 42\n",
    "idade2 = 36\n",
    "\n",
    "if idade1 > 40 and idade2 < 40:\n",
    "    print(\"AND com ambas verdadeiras retorna True\")\n",
    "if idade1 > 50 or idade2 < 40:\n",
    "    print(\"OR com apenas uma verdadeira retorna True\")\n",
    "if not(idade1 > 50):\n",
    "    print(\"NOT com uma falsa retorna True\")"
   ]
  },
  {
   "cell_type": "markdown",
   "metadata": {},
   "source": [
    "Também podemos avaliar a pertinência de um elemento a uma lista usando `in`"
   ]
  },
  {
   "cell_type": "code",
   "execution_count": null,
   "metadata": {},
   "outputs": [
    {
     "name": "stdout",
     "output_type": "stream",
     "text": [
      "True\n",
      "False\n"
     ]
    }
   ],
   "source": [
    "adicionais = ['milho','cebola','chedar','bacon']\n",
    "\n",
    "print('milho' in adicionais) #retorna True\n",
    "print('banana' in adicionais) #retorna False"
   ]
  },
  {
   "cell_type": "markdown",
   "metadata": {},
   "source": [
    "## 5.2. Usando if/elif/else"
   ]
  },
  {
   "cell_type": "markdown",
   "metadata": {},
   "source": [
    "Muitas vezes, você precisará testar mais de duas situações possíveis; para avaliar isso, a sintaxe if-elif-else de Python poderá ser usada. Python executa apenas um bloco em uma cadeia if-elif-else. Cada teste condicional é executado em sequência, até que um deles passe. Quando um teste passar, o código após esse teste será executado e Python ignorará o restante dos testes.\n",
    "\n",
    "Python não exige um bloco else no final de uma cadeia if-elif. Às vezes, um bloco else é útil; outras vezes, é mais claro usar uma instrução elif adicional que capture a condição específica de interesse:"
   ]
  },
  {
   "cell_type": "code",
   "execution_count": null,
   "metadata": {},
   "outputs": [
    {
     "name": "stdout",
     "output_type": "stream",
     "text": [
      "Sua entrada custa 20 reais.\n",
      "Bem vindo ao rolê! Divirta-se!\n"
     ]
    }
   ],
   "source": [
    "idade = float(input('Qual sua idade?'))\n",
    "\n",
    "if idade < 5: \n",
    "    preco = 0\n",
    "    print(f'Sua entrada custa {preco} reais.')\n",
    "elif idade < 10:\n",
    "    preco = 5 \n",
    "    print(f'Sua entrada custa {preco} reais.')\n",
    "elif idade < 18:\n",
    "    preco = 10\n",
    "    print(f'Sua entrada custa {preco} reais.')\n",
    "else: #pode ser substituido por \"elif idade >= 18:\" caso queira omitir o else\n",
    "    preco = 20\n",
    "    print(f'Sua entrada custa {preco} reais.')\n",
    "    \n",
    "print('Bem vindo ao rolê! Divirta-se!')"
   ]
  },
  {
   "cell_type": "markdown",
   "metadata": {},
   "source": [
    "### Exercícios"
   ]
  },
  {
   "cell_type": "markdown",
   "metadata": {},
   "source": [
    "5.3 – Cores de alienígenas #1: Suponha que um alienígena acabou de ser atingido em um jogo. Crie uma variável chamada alien_color e atribua-lhe um valor igual a 'green', 'yellow' ou 'red'.\n",
    "\n",
    "- Escreva uma instrução if para testar se a cor do alienígena é verde. Se for, mostre uma mensagem informando que o jogador acabou de ganhar cinco pontos.\n",
    "- Escreva uma versão desse programa em que o teste if passe e outro em que ele falhe. (A versão que falha não terá nenhuma saída.) \n",
    "\n",
    "5.4 – Cores de alienígenas #2: Escolha uma cor para um alienígena, como foi feito no\n",
    "Exercício 5.3, e escreva uma cadeia if-else.\n",
    "\n",
    "- Se a cor do alienígena for verde, mostre uma frase informando que o jogador acabou de ganhar cinco pontos por atingir o alienígena.\n",
    "- Se a cor do alienígena não for verde, mostre uma frase informando que o jogador acabou de ganhar dez pontos.\n",
    "- Escreva uma versão desse programa que execute o bloco if e outro que execute o bloco else."
   ]
  },
  {
   "cell_type": "code",
   "execution_count": null,
   "metadata": {},
   "outputs": [
    {
     "name": "stdout",
     "output_type": "stream",
     "text": [
      "Ganhou 5 pts.\n"
     ]
    }
   ],
   "source": [
    "cor = 'verde'\n",
    "#['verde','amarelo','vermelho']\n",
    "\n",
    "if cor == 'verde':\n",
    "    print(\"Ganhou 5 pts.\")\n",
    "else: \n",
    "    print('Ganhou 10 pts.')"
   ]
  },
  {
   "cell_type": "markdown",
   "metadata": {},
   "source": [
    "5.5 – Cores de alienígenas #3: Transforme sua cadeia if-else do Exercício 5.4 em uma cadeia if-elif-else.\n",
    "\n",
    "- Se o alienígena for verde, mostre uma mensagem informando que o jogador ganhou cinco pontos.\n",
    "- Se o alienígena for amarelo, mostre uma mensagem informando que o jogador ganhou dez pontos.\n",
    "- Se o alienígena for vermelho, mostre uma mensagem informando que o jogador ganhou quinze pontos.\n",
    "- Escreva três versões desse programa, garantindo que cada mensagem seja exibida para a cor apropriada do alienígena."
   ]
  },
  {
   "cell_type": "code",
   "execution_count": null,
   "metadata": {},
   "outputs": [
    {
     "name": "stdout",
     "output_type": "stream",
     "text": [
      "Ganhou 15 pts.\n"
     ]
    }
   ],
   "source": [
    "#cor = 'verde'\n",
    "#cor = 'amarelo'\n",
    "cor = 'vermelho'\n",
    "\n",
    "if cor == 'verde':\n",
    "    print(\"Ganhou 5 pts.\")\n",
    "elif cor == 'amarelo':\n",
    "    print(\"Ganhou 10 pts.\")\n",
    "elif cor == 'vermelho': \n",
    "    print('Ganhou 15 pts.')"
   ]
  },
  {
   "cell_type": "markdown",
   "metadata": {},
   "source": [
    "5.6 – Estágios da vida: Escreva uma cadeia if-elif-else que determine o estágio da vida de uma pessoa. Defina um valor para a variável age e então: \n",
    "\n",
    "- Se a pessoa tiver menos de 2 anos de idade, mostre uma mensagem dizendo que ela é um bebê.\n",
    "- Se a pessoa tiver pelo menos 2 anos, mas menos de 4, mostre uma mensagem dizendo que ela é uma criança.\n",
    "- Se a pessoa tiver pelo menos 4 anos, mas menos de 13, mostre uma mensagem dizendo que ela é um(a) garoto(a).\n",
    "- Se a pessoa tiver pelo menos 13 anos, mas menos de 20, mostre uma mensagem dizendo que ela é um(a) adolescente.\n",
    "- Se a pessoa tiver pelo menos 20 anos, mas menos de 65, mostre uma mensagem dizendo que ela é adulto.\n",
    "- Se a pessoa tiver 65 anos ou mais, mostre uma mensagem dizendo que essa pessoa é idoso."
   ]
  },
  {
   "cell_type": "code",
   "execution_count": null,
   "metadata": {},
   "outputs": [
    {
     "name": "stdout",
     "output_type": "stream",
     "text": [
      "Você é um idoso\n"
     ]
    }
   ],
   "source": [
    "idade = int(input(\"Qual sua idade?\"))\n",
    "\n",
    "if idade < 2:\n",
    "    print(\"Você é um bebê.\")\n",
    "elif idade < 4:\n",
    "    print(\"Você é uma criança.\")\n",
    "elif idade < 13:\n",
    "    print(\"Você é um(a) garoto(a).\")\n",
    "elif idade < 20:\n",
    "    print(\"Você é um(a) adolescente.\")\n",
    "elif idade < 65:\n",
    "    print(\"Você é um(a) adulto.\")\n",
    "else:\n",
    "    print(\"Você é um idoso.\")"
   ]
  },
  {
   "cell_type": "markdown",
   "metadata": {},
   "source": [
    "5.7 – Fruta favorita: Faça uma lista de suas frutas favoritas e, então, escreva uma série de instruções if independentes que verifiquem se determinadas frutas estão em sua lista.\n",
    "\n",
    "- Crie uma lista com suas três frutas favoritas e chame-a de favorite_fruits.\n",
    "- Escreva cinco instruções if. Cada instrução deve verificar se uma determinada fruta está em sua lista. Se estiver, o bloco if deverá exibir uma frase, por exemplo, Você realmente gosta de bananas!"
   ]
  },
  {
   "cell_type": "code",
   "execution_count": null,
   "metadata": {},
   "outputs": [
    {
     "name": "stdout",
     "output_type": "stream",
     "text": [
      "Você realmente gosta de maças.\n",
      "Você realmente gosta de bananas.\n",
      "Você realmente gosta de melancia.\n"
     ]
    }
   ],
   "source": [
    "frutas = ['maça','banana','melancia']\n",
    "\n",
    "if 'maça' in frutas:\n",
    "    print(\"Você realmente gosta de maças.\")\n",
    "if 'banana' in frutas:\n",
    "    print(\"Você realmente gosta de bananas.\")\n",
    "if 'kiwi' in frutas:\n",
    "    print(\"Você realmente gosta de kiwi.\")\n",
    "if 'laranja' in frutas:\n",
    "    print(\"Você realmente gosta de laranja.\")\n",
    "if 'melancia' in frutas:\n",
    "    print(\"Você realmente gosta de melancia.\")"
   ]
  },
  {
   "cell_type": "markdown",
   "metadata": {},
   "source": [
    "### Condicionais e Listas"
   ]
  },
  {
   "cell_type": "markdown",
   "metadata": {},
   "source": [
    "Algumas tarefas interessantes podem ser feitas se combinarmos listas com instruções if. Podemos prestar atenção em valores especiais, que devam ser tratados de modo diferente de outros valores da lista."
   ]
  },
  {
   "cell_type": "code",
   "execution_count": null,
   "metadata": {},
   "outputs": [],
   "source": [
    "adicionais = ['milho','bacon','azeitona','mussarela']\n",
    "\n",
    "#colocando adicionais na pizza:\n",
    "for ingr in adicionais:\n",
    "    print(ingr.title(),\"Adicionado à sua pizza\")\n",
    "print(\"Pizza finalizada!\")\n",
    "print(\"\\n\")\n",
    "\n",
    "#inserindo o condicional if:\n",
    "for ingr in adicionais:\n",
    "    if ingr == 'bacon':\n",
    "        print(\"Foi mal, estamos sem \",ingr)\n",
    "    else: \n",
    "        print(ingr.title(),\"Adicionado à sua pizza\")\n",
    "print(\"Pizza finalizada!\")"
   ]
  },
  {
   "cell_type": "markdown",
   "metadata": {},
   "source": [
    "Podemos introduzir um testes de verificação para averiguar se a lista esta vazia:"
   ]
  },
  {
   "cell_type": "code",
   "execution_count": null,
   "metadata": {},
   "outputs": [],
   "source": [
    "adicionais = ['milho','bacon','azeitona','mussarela']\n",
    "#dicionais = []\n",
    "\n",
    "if adicionais:\n",
    "    for ingr in adicionais:\n",
    "        print(ingr.title(),\"foi adicionado à sua pizza.\")\n",
    "else:\n",
    "    print(\"Tem certeza que deseja uma pizza sem nada?\")\n",
    "\n",
    "print(\"Sua pizza está pronta!\")"
   ]
  },
  {
   "cell_type": "markdown",
   "metadata": {},
   "source": [
    "Também podemos comparar se o adicional pedido está na lista dos adicionais disponíveis"
   ]
  },
  {
   "cell_type": "code",
   "execution_count": 20,
   "metadata": {},
   "outputs": [
    {
     "name": "stdout",
     "output_type": "stream",
     "text": [
      "Lamento Feijoada não está disponível!\n",
      "Milho adicionado à sua pizza!\n",
      "Bacon adicionado à sua pizza!\n",
      "Azeitona adicionado à sua pizza!\n",
      "Mussarela adicionado à sua pizza!\n"
     ]
    }
   ],
   "source": [
    "disponiveis = ['milho','azeitona','bacon','picles','azeitona','mussarela','presunto']\n",
    "adicionais = ['feijoada','milho','bacon','azeitona','mussarela']\n",
    "#adicionais = []\n",
    "\n",
    "if adicionais: #verifica se a lista de adicionais está vazia\n",
    "    for ingr in adicionais:\n",
    "        if ingr in disponiveis: #verifica se o ingrediente está disponível\n",
    "            print(ingr.title(),\"adicionado à sua pizza!\")\n",
    "        else: \n",
    "            print(\"Lamento\",ingr.title(),\"não está disponível!\")\n",
    "else:\n",
    "    print(\"Você quer uma pizza sem nada???\")"
   ]
  },
  {
   "cell_type": "markdown",
   "metadata": {},
   "source": [
    "### Exercícios"
   ]
  },
  {
   "cell_type": "markdown",
   "metadata": {},
   "source": [
    "5.8 – Olá admin: Crie uma lista com cinco ou mais nomes de usuários, incluindo o nome 'admin'. Suponha que você esteja escrevendo um código que exibirá uma saudação a cada usuário depois que eles fizerem login em um site. Percorra a lista com um laço e mostre uma saudação para cada usuário: \n",
    "\n",
    "- Se o nome do usuário for 'admin', mostre uma saudação especial, por exemplo, Olá admin, gostaria de ver um relatório de status?\n",
    "- Caso contrário, mostre uma saudação genérica, como Olá Eric, obrigado por fazer login novamente."
   ]
  },
  {
   "cell_type": "code",
   "execution_count": 23,
   "metadata": {},
   "outputs": [
    {
     "name": "stdout",
     "output_type": "stream",
     "text": [
      "Olá, como vai João ?\n",
      "Olá Admin gostaria de ver um relatório de status?\n",
      "Olá, como vai José ?\n",
      "Olá, como vai Paulo ?\n",
      "Olá, como vai Carlos ?\n"
     ]
    }
   ],
   "source": [
    "users = ['joão','admin','josé','paulo','carlos']\n",
    "for user in users:\n",
    "    if user.lower() == 'admin':\n",
    "        print('Olá',user.title(), 'gostaria de ver um relatório de status?')\n",
    "    else:\n",
    "        print('Olá, como vai', user.title(),'?')"
   ]
  },
  {
   "cell_type": "markdown",
   "metadata": {},
   "source": [
    "5.9 – Sem usuários: Acrescente um teste if em hello_admin.py para garantir que a lista de usuários não esteja vazia.\n",
    "\n",
    "- Se a lista estiver vazia, mostre a mensagem Precisamos encontrar alguns usuários!\n",
    "- Remova todos os nomes de usuário de sua lista e certifique-se de que a mensagem correta seja exibida."
   ]
  },
  {
   "cell_type": "code",
   "execution_count": 25,
   "metadata": {},
   "outputs": [
    {
     "name": "stdout",
     "output_type": "stream",
     "text": [
      "Olá, como vai João ?\n",
      "Olá Admin gostaria de ver um relatório de status?\n",
      "Olá, como vai José ?\n",
      "Olá, como vai Paulo ?\n",
      "Olá, como vai Carlos ?\n"
     ]
    }
   ],
   "source": [
    "users = ['joão','admin','josé','paulo','carlos']\n",
    "#users = [] \n",
    "\n",
    "if users:\n",
    "    for user in users:\n",
    "        if user.lower() == 'admin':\n",
    "            print('Olá',user.title(), 'gostaria de ver um relatório de status?')\n",
    "        else:\n",
    "            print('Olá, como vai', user.title(),'?')\n",
    "else: \n",
    "    print('Precisamos encontrar novos usuários!')"
   ]
  },
  {
   "cell_type": "markdown",
   "metadata": {},
   "source": [
    "5.10 – Verificando nomes de usuários: Faça o seguinte para criar um programa que simule o modo como os sites garantem que todos tenham um nome de usuário único.\n",
    "\n",
    "- Crie uma lista chamada current_users com cinco ou mais nomes de usuários.\n",
    "- Crie outra lista chamada new_users com cinco nomes de usuários. Garanta que um ou dois dos novos usuários também estejam na lista current_users.\n",
    "- Percorra a lista new_users com um laço para ver se cada novo nome de usuário já foi usado. Em caso afirmativo, mostre uma mensagem informando que a pessoa deverá fornecer um novo nome. Se um nome de usuário não foi usado, apresente uma mensagem dizendo que o nome do usuário está\n",
    "disponível.\n",
    "- Certifique-se de que sua comparação não levará em conta as diferenças entre letras maiúsculas e minúsculas. Se 'John' foi usado, 'JOHN' não deverá ser aceito."
   ]
  },
  {
   "cell_type": "code",
   "execution_count": 31,
   "metadata": {},
   "outputs": [
    {
     "name": "stdout",
     "output_type": "stream",
     "text": [
      " Base antiga: ['joão', 'mario', 'josé', 'paulo', 'carlos'] \n",
      "\n",
      "joão já está cadastrado em nossa base!\n",
      "Mario já está cadastrado em nossa base!\n",
      "marcia foi adicionado à nossa base\n",
      "\n",
      " Base atualizada: ['joão', 'mario', 'josé', 'paulo', 'carlos', 'marcia']\n"
     ]
    }
   ],
   "source": [
    "users = ['joão','mario','josé','paulo','carlos']\n",
    "print(' Base antiga:', users,'\\n')\n",
    "\n",
    "novos_users = ['joão','Mario','marcia']\n",
    "\n",
    "for n_user in novos_users:\n",
    "    if n_user.lower() in users:\n",
    "        print(n_user,'já está cadastrado em nossa base!')\n",
    "    else:\n",
    "        print(n_user.lower(),'foi adicionado à nossa base')\n",
    "        users.append(n_user)\n",
    "\n",
    "print('\\n','Base atualizada:', users)"
   ]
  },
  {
   "cell_type": "markdown",
   "metadata": {},
   "source": [
    "5.11 – Números ordinais: Números ordinais indicam sua posição em uma lista, por exemplo, 1st ou 2nd, em inglês. A maioria dos números ordinais nessa língua termina com th, exceto 1, 2 e 3.\n",
    "\n",
    "- Armazene os números de 1 a 9 em uma lista.\n",
    "- Percorra a lista com um laço.\n",
    "- Use uma cadeia if-elif-else no laço para exibir a terminação apropriada para cada número ordinal. Sua saída deverá conter \"1st 2nd 3rd 4th 5th 6th 7th 8th 9th\", e cada resultado deve estar em uma linha separada."
   ]
  },
  {
   "cell_type": "code",
   "execution_count": 36,
   "metadata": {},
   "outputs": [
    {
     "name": "stdout",
     "output_type": "stream",
     "text": [
      "[1, 2, 3, 4, 5, 6, 7, 8, 9]\n",
      "1 st\n",
      "2 nd\n",
      "3 rd\n",
      "4 th\n",
      "5 th\n",
      "6 th\n",
      "7 th\n",
      "8 th\n",
      "9 th\n"
     ]
    }
   ],
   "source": [
    "num = [x for x in range(1, 10)]\n",
    "print(num)\n",
    "\n",
    "for n in num:\n",
    "    if n == 1:\n",
    "        print(n,'st')\n",
    "    elif n == 2:\n",
    "        print(n,'nd')\n",
    "    elif n == 3:\n",
    "        print(n,'rd')\n",
    "    else:\n",
    "        print(n,'th')"
   ]
  }
 ],
 "metadata": {
  "kernelspec": {
   "display_name": "Python 3",
   "language": "python",
   "name": "python3"
  },
  "language_info": {
   "codemirror_mode": {
    "name": "ipython",
    "version": 3
   },
   "file_extension": ".py",
   "mimetype": "text/x-python",
   "name": "python",
   "nbconvert_exporter": "python",
   "pygments_lexer": "ipython3",
   "version": "3.10.12"
  }
 },
 "nbformat": 4,
 "nbformat_minor": 2
}
