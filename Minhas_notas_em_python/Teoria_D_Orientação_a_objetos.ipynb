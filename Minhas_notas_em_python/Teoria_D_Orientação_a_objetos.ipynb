{
  "nbformat": 4,
  "nbformat_minor": 0,
  "metadata": {
    "colab": {
      "private_outputs": true,
      "provenance": [],
      "authorship_tag": "ABX9TyP434ShE/NGBIsglLWfztQc",
      "include_colab_link": true
    },
    "kernelspec": {
      "name": "python3",
      "display_name": "Python 3"
    },
    "language_info": {
      "name": "python"
    }
  },
  "cells": [
    {
      "cell_type": "markdown",
      "metadata": {
        "id": "view-in-github",
        "colab_type": "text"
      },
      "source": [
        "<a href=\"https://colab.research.google.com/github/quemariox/Estudos_python/blob/main/Minhas_notas_em_python/Teoria_D_Orienta%C3%A7%C3%A3o_a_objetos.ipynb\" target=\"_parent\"><img src=\"https://colab.research.google.com/assets/colab-badge.svg\" alt=\"Open In Colab\"/></a>"
      ]
    },
    {
      "cell_type": "markdown",
      "source": [
        "# OOP em Python"
      ],
      "metadata": {
        "id": "Ocac3QpgEJnZ"
      }
    },
    {
      "cell_type": "markdown",
      "source": [
        "## 1. Classe e objetos"
      ],
      "metadata": {
        "id": "zCvyIhgTDrop"
      }
    },
    {
      "cell_type": "markdown",
      "source": [
        "### 1.1. Criando a classe"
      ],
      "metadata": {
        "id": "I4h5g32OCvew"
      }
    },
    {
      "cell_type": "markdown",
      "source": [
        "1. Em Python, definimos uma nova classe fornecendo um nome e um conjunto de métodos que são sintaticamente semelhantes às definições de função.\n",
        "\n",
        "2. O primeiro método que todas as classes devem fornecer é o construtor. O construtor define a maneira como os objetos de dados são criados.\n",
        "\n",
        "  - Para criar um objeto Fraction, precisaremos fornecer dois dados, o numerador e denominador. Em Python, o método construtor é sempre chamado __init__ (com dois underscores antes e depois de init) e é mostrado na Listagem 2.\n",
        "\n",
        "  - Note que a lista formal de parâmetros contém três itens (self, cima, baixo). O self é um parâmetro especial que sempre deve ser usado como uma referência ao próprio objeto. Deve ser sempre o primeiro parâmetro formal; no entanto, esse parâmetro nunca receberá um valor na chamada.\n",
        "\n"
      ],
      "metadata": {
        "id": "we3P-D7iB0aJ"
      }
    },
    {
      "cell_type": "code",
      "execution_count": null,
      "metadata": {
        "id": "Dh_Vp4os-fgm"
      },
      "outputs": [],
      "source": [
        "#definindo a classe:\n",
        "class Fraction:\n",
        "  def __init__(self, cima, baixo):\n",
        "    self.num = cima\n",
        "    self.den = baixo"
      ]
    },
    {
      "cell_type": "markdown",
      "source": [
        "4. Como descrito anteriormente, as frações requerem dois objetos de dados de estado, o numerador e o denominador. A notação self.num no construtor define que um objeto Fraction tenha um objeto de dados interno chamado num como parte de seu estado. Da mesma forma, self.den cria o denominador. Os valores dos dois parâmetros formais são inicialmente atribuídos ao estado, permitindo que o novo objeto Fraction receba o seu valor inicial.\n",
        "\n"
      ],
      "metadata": {
        "id": "plmLpsxNCa7s"
      }
    },
    {
      "cell_type": "markdown",
      "source": [
        "### 1.2. Criando objetos"
      ],
      "metadata": {
        "id": "pp02nTeSC339"
      }
    },
    {
      "cell_type": "markdown",
      "source": [
        "5. Para criar uma instância da classe Fraction, devemos invocar o construtor. Isso acontece quando usamos o nome da classe e passamos valores necessários para iniciar o estado (note que nunca invocamos __init__ diretamente). O código abaixo cria um objeto myfraction que representa a fração 3/5."
      ],
      "metadata": {
        "id": "E1-wLuyrEUqZ"
      }
    },
    {
      "cell_type": "code",
      "source": [
        "#definindo um objeto\n",
        "myfraction = Fraction(3,5)\n",
        "\n",
        "#tentando exibir o objeto (falha...)\n",
        "print(myfraction)\n",
        "#<__main__.Fraction object at 0x7e1de4eaf3d0>"
      ],
      "metadata": {
        "id": "7-64VHf8_G5c"
      },
      "execution_count": null,
      "outputs": []
    },
    {
      "cell_type": "markdown",
      "source": [
        "### 1.3. Métodos"
      ],
      "metadata": {
        "id": "j-lsyq2ll3hc"
      }
    },
    {
      "cell_type": "markdown",
      "source": [
        "#### 1.3.1. Método $__str__$"
      ],
      "metadata": {
        "id": "0hUtHngJmBAu"
      }
    },
    {
      "cell_type": "markdown",
      "source": [
        "6. O objeto Fraction, myfraction, não sabe como responder a esse pedido para imprimir. A função print requer que o objeto se converta em uma string (cadeia de caracteres) para que a string possa ser escrita na saída. A única escolha do myfraction é mostrar a referência real que é armazenada na variável (o próprio endereço). Isto não é o que nós queremos.\n",
        "\n",
        "7. Existem duas maneiras de resolver este problema. Uma é definindo um método chamado show (mostrar) que permitirá que o objeto Fraction seja impresso como uma string. Se criarmos um objeto Fraction como antes, nós podemos lhe pedir para se mostrar, ou em outras palavras, para imprimir seu valor no formato apropriado. Infelizmente, isso geralmente não funciona. Para que a impressão funcione corretamente, precisamos dizer à classe Fraction como se converter em uma string. Isto é o que a função print precisa para fazer o trabalho dela."
      ],
      "metadata": {
        "id": "-G7RYcYrFSfZ"
      }
    },
    {
      "cell_type": "code",
      "source": [
        "#redefinindo a classe com o método show(self)\n",
        "class Fraction:\n",
        "  def __init__(self, cima, baixo):\n",
        "    self.num = cima\n",
        "    self.den = baixo\n",
        "  def show(self):\n",
        "    print(self.num,\"/\",self.den)\n",
        "\n",
        "#criando objeto myfraction\n",
        "myfraction = Fraction(3,5)\n",
        "\n",
        "#usando o método show()\n",
        "myfraction.show()"
      ],
      "metadata": {
        "id": "XTsnYSwvFkTS"
      },
      "execution_count": null,
      "outputs": []
    },
    {
      "cell_type": "markdown",
      "source": [
        "8. No Python, todas as classes têm um conjunto de métodos padrão que são fornecidos mas podem não funcionar corretamente. Um desses, __str__, é o método para converter um objeto em uma string. A implementação default para este método é retornar a string correspondente ao endereço da instância, como já vimos. O que precisamos fazer é fornecer uma implementação “melhor” para esse método. Dizemos que esta implementação sobrescreve a anterior, ou que redefine o comportamento do método.\n",
        "\n",
        "9. Para fazer isso, nós simplesmente definimos um método com o nome $__str__$ e fornecemos uma nova implementação como mostrado abaixo. Esta definição não precisa de nenhuma outra informação exceto o parâmetro especial self. Por sua vez, o método irá construir uma string convertendo cada pedaço dos dados de estado interno em strings e depois colocando um caractere / entre as strings por concatenação. A string resultante será retornada sempre que um objeto Fraction for solicitado para se converter em string. Observe que há várias maneiras de se usar essa função."
      ],
      "metadata": {
        "id": "ll6APgoZHSN6"
      }
    },
    {
      "cell_type": "code",
      "source": [
        "#redefinindo a classe sobrescrevendo o método __str__(self)\n",
        "class Fraction:\n",
        "  def __init__(self, cima, baixo):\n",
        "    self.num = cima\n",
        "    self.den = baixo\n",
        "  def __str__(self):\n",
        "    return str(self.num)+\"/\"+str(self.den)\n",
        "\n",
        "#criando objeto myfraction\n",
        "myfraction = Fraction(3,5)\n",
        "\n",
        "#multiplas formas de exibição\n",
        "print(myfraction)\n",
        "print(\"Eu comi\", myfraction,\"da pizza\")"
      ],
      "metadata": {
        "id": "4OMuObR3HbQR"
      },
      "execution_count": null,
      "outputs": []
    },
    {
      "cell_type": "markdown",
      "source": [
        "#### 1.3.2. Método $__add__$"
      ],
      "metadata": {
        "id": "PG601fqKmJgk"
      }
    },
    {
      "cell_type": "markdown",
      "source": [
        "10. Podemos sobrescrever muitos outros métodos para nossa nova classe Fraction. Algumas das mais importantes são as operações aritméticas básicas. Nós gostaríamos de poder criar dois objetos do tipo Fraction e depois adicioná-los usando a notação padrão “+”. Neste ponto, se tentarmos adicionar duas Frações, obtemos o seguinte:\n",
        "\n"
      ],
      "metadata": {
        "id": "_GeeV7V_R_I2"
      }
    },
    {
      "cell_type": "code",
      "source": [
        "f1 = Fraction(1,2)\n",
        "f2 = Fraction(1,3)\n",
        "f1 + f2\n",
        "\n",
        "#TypeError: unsupported operand type(s) for +: 'Fraction' and 'Fraction'\n",
        "# o operador + não entende os operandos da classe Fraction"
      ],
      "metadata": {
        "id": "qc489bP5XIO5"
      },
      "execution_count": null,
      "outputs": []
    },
    {
      "cell_type": "markdown",
      "source": [
        "11. Podemos consertar isso fornecendo à classe Fraction um método que sobrescreve o método de adição. Em Python, esse método é chamado __add__ e requer dois parâmetros. O primeiro, self, é sempre necessário, e o segundo representa o outro operando na expressão.\n",
        "\n",
        "```\n",
        "f1.__add__(f2)\n",
        "```"
      ],
      "metadata": {
        "id": "hdS7N1gFYIwv"
      }
    },
    {
      "cell_type": "code",
      "source": [
        "#redefinindo a classe sobrescrevendo o método __add__(self, other)\n",
        "\n",
        "class Fraction:\n",
        "  def __init__(self, cima, baixo):\n",
        "    self.num = cima\n",
        "    self.den = baixo\n",
        "\n",
        "  def __str__(self):\n",
        "    return str(self.num)+\"/\"+str(self.den)\n",
        "\n",
        "  def __add__(self, other):\n",
        "    novonum = self.num*other.den + self.den*other.num\n",
        "    novoden = self.den * other.den\n",
        "\n",
        "    return Fraction(novonum, novoden)\n",
        "\n",
        "#definindo os objetos\n",
        "f1 = Fraction(1,2)\n",
        "f2 = Fraction(1,4)\n",
        "\n",
        "#somando\n",
        "f3 = f1 + f2\n",
        "\n",
        "print(f3)"
      ],
      "metadata": {
        "id": "9wWC0XzVYmoA"
      },
      "execution_count": null,
      "outputs": []
    },
    {
      "cell_type": "markdown",
      "source": [
        "12. Já está muito bom, mas ainda podemos implementar uma maneira de apresentar as frações na forma irredutível, para isso usamos o algoritmo de Euclides.\n",
        "  - O algoritmo de Euclides afirma que o máximo divisor comum de dois inteiros m e n é n se n é um divisor próprio de m. No entanto, se n não for um divisor próprio de m, então a resposta é o máximo divisor comum de n e o resto da divisão de m por n.\n",
        "\n",
        "```\n",
        "def mdc(m, n):\n",
        "    while n != 0:\n",
        "        m, n = n, m % n\n",
        "    return m\n",
        "\n",
        "print(mdc(20, 10))\n",
        "```"
      ],
      "metadata": {
        "id": "bTFT8QpeYVZK"
      }
    },
    {
      "cell_type": "code",
      "source": [
        "#algorítmo de Euclides (simplifica a fração)\n",
        "def mdc(m, n):\n",
        "    while n != 0:\n",
        "        m, n = n, m % n\n",
        "    return m\n",
        "\n",
        "#redefinindo a classe sobrescrevendo o método __add__(self, other)\n",
        "class Fraction:\n",
        "  #método construtor\n",
        "  def __init__(self, cima, baixo):\n",
        "    self.num = cima\n",
        "    self.den = baixo\n",
        "  #exibição\n",
        "  def __str__(self):\n",
        "    return str(self.num)+\"/\"+str(self.den)\n",
        "\n",
        "  #soma\n",
        "  def __add__(self, other):\n",
        "    novonum = self.num*other.den + self.den*other.num\n",
        "    novoden = self.den * other.den\n",
        "    comum = mdc(novonum, novoden)\n",
        "    return Fraction(novonum//comum, novoden//comum) #Corrected the typo here\n",
        "\n",
        "#definindo os objetos\n",
        "f1 = Fraction(1,2)\n",
        "f2 = Fraction(1,4)\n",
        "\n",
        "#somando\n",
        "f3 = f1 + f2\n",
        "\n",
        "print(f3)"
      ],
      "metadata": {
        "id": "_liOs7sBbtAn"
      },
      "execution_count": null,
      "outputs": []
    },
    {
      "cell_type": "markdown",
      "source": [
        "#### 1.3.3. Método $__eq__$"
      ],
      "metadata": {
        "id": "7bB9nC44me1t"
      }
    },
    {
      "cell_type": "markdown",
      "source": [
        "13. Um grupo adicional de métodos que precisamos incluir no nosso exemplo da classe Fraction permitirá que duas frações se comparem uma com a outra.\n",
        "  - **Shallow equality:** Suponha que temos dois objetos Fraction f1 e f2. f1 == f2 só será True se eles forem referências ao mesmo objeto. Dois objetos diferentes com os mesmos numeradores e denominadores não seriam iguais sob esta implementação. Isso é chamado de igualdade rasa (shallow equality)\n",
        "\n",
        "  - **Deep equality:** Podemos criar igualdade profunda (deep equality) – igualdade pelo mesmo valor, não a mesma referência - sobrescrevendo o método __eq__. O método __eq__ é outro método padrão disponível em qualquer classe. O método __eq__ compara dois objetos e retorna True se seus valores forem os mesmos, False caso contrário.\n"
      ],
      "metadata": {
        "id": "SfVopUhdeBdN"
      }
    },
    {
      "cell_type": "code",
      "source": [
        "#algorítmo de Euclides (simplifica a fração)\n",
        "def mdc(m, n):\n",
        "    while n != 0:\n",
        "        m, n = n, m % n\n",
        "    return m\n",
        "\n",
        "#redefinindo a classe sobrescrevendo o método __add__(self, other)\n",
        "class Fraction:\n",
        "  #método construtor\n",
        "  def __init__(self, cima, baixo):\n",
        "    self.num = cima\n",
        "    self.den = baixo\n",
        "  #exibição\n",
        "  def __str__(self):\n",
        "    return str(self.num)+\"/\"+str(self.den)\n",
        "\n",
        "  #soma\n",
        "  def __add__(self, other):\n",
        "    novonum = self.num*other.den + self.den*other.num\n",
        "    novoden = self.den * other.den\n",
        "    comum = mdc(novonum, novoden)\n",
        "    return Fraction(novonum//comum, novoden//comum) #Corrected the typo here\n",
        "\n",
        "  #igualdade\n",
        "  def __eq__(self, other):\n",
        "    firstnum = self.num * other.den\n",
        "    secondnum = other.num * self.den\n",
        "\n",
        "    return firstnum == secondnum\n",
        "\n",
        "\n",
        "#definindo os objetos\n",
        "f1 = Fraction(1,4)\n",
        "f2 = Fraction(1,4)\n",
        "\n",
        "print(f1 + f2)\n",
        "print(f1 == f2)"
      ],
      "metadata": {
        "id": "JzZjQ58PgHCm"
      },
      "execution_count": null,
      "outputs": []
    },
    {
      "cell_type": "markdown",
      "source": [
        "## 2. Herança: circuitos e portas lógicas"
      ],
      "metadata": {
        "id": "RARJ3h3inY4V"
      }
    },
    {
      "cell_type": "markdown",
      "source": [
        "### 2.1. Portas binárias e unárias"
      ],
      "metadata": {
        "id": "ra4uPGUfx6kX"
      }
    },
    {
      "cell_type": "markdown",
      "source": [
        "1. Herança é a capacidade de uma classe de ser relacionada a outra classe de maneira muito semelhante à forma que as pessoas podem ser relacionadas umas às outras. Assim como crianças herdam características de seus pais, classes filhas podem herdar dados e comportamentos característicos de uma classe pai. Essas classes são muitas vezes chamadas de subclasses e superclasses.\n",
        "\n",
        "2. Para implementar um circuito, vamos primeiro construir uma representação para portas lógicas. Portas lógicas são facilmente organizadas em uma hierarquia de herança de classe. No topo da hierarquia, a classe LogicGate representa as características mais gerais das portas lógicas, ou seja, um rótulo para a porta e uma linha de saída. O próximo nível de subclasses divide as portas lógicas em duas famílias, aquelas que possuem uma linha de entrada (unary gate) e aquelas que possuem duas (binary gate). Abaixo disso aparecem as funções lógicas específicas de cada uma:\n",
        "\n",
        "- LogicGate:\n",
        "  - BinaryGate:\n",
        "    - And\n",
        "    - Or\n",
        "  - UnaryGate:\n",
        "    - Not\n",
        "\n",
        "3. Agora podemos começar a implementar as classes iniciando com a mais geral, LogicGate. Como observado anteriormente, cada porta tem um rótulo (label) para identificação e uma única linha de saída (output). Além disso, precisamos de métodos para permitir que um usuário de uma porta pergunte pelo seu rótulo (getLabel).\n",
        "\n",
        "4. O outro comportamento que toda porta lógica precisa é a capacidade de saber seu valor de saída (getOutput). Isso exigirá que a porta realize a lógica apropriada baseada na entrada atual. Para produzir a saída, a porta precisa saber especificamente qual é essa lógica. Isso significa chamar um método para executar a computação lógica (performGateLogic)."
      ],
      "metadata": {
        "id": "a1cx76h6ntGK"
      }
    },
    {
      "cell_type": "code",
      "source": [
        "class LogicGate:\n",
        "  def __init__(self,n):\n",
        "    self.label = n\n",
        "    self.output = None\n",
        "\n",
        "  def getLabel(self):\n",
        "    return self.label\n",
        "\n",
        "  def getOutput(self):\n",
        "    self.output = self.performGateLogic()\n",
        "    return self.output"
      ],
      "metadata": {
        "id": "gtFSYgF5pK77"
      },
      "execution_count": null,
      "outputs": []
    },
    {
      "cell_type": "markdown",
      "source": [
        "5. Categorizamos as portas lógicas com base no número de linhas de entrada. A porta AND possui duas linhas de entrada. A porta OR também possui duas linhas de entrada. A porta NOT têm uma única linha de entrada. A classe BinaryGate (porta binária) será uma subclasse de LogicGate (porta lógica) e adicionará duas linhas de entrada. A classe UnaryGate (porta unária) também será uma subclasse de LogicGate mas terá apenas uma única linha de entrada. No design de circuitos de computadores, essas linhas são às vezes chamadas de “pinos” (do inglês pin) de forma que vamos usar essa terminologia em nossa implementação."
      ],
      "metadata": {
        "id": "SvkI2ZZZqQ1f"
      }
    },
    {
      "cell_type": "code",
      "source": [
        "class BinaryGate(LogicGate):\n",
        "  def __init__(self,n):\n",
        "    LogicGate.__init__(self,n)\n",
        "    self.pinA = None\n",
        "    self.pinB = None\n",
        "\n",
        "  def getPinA(self):\n",
        "    return int(input(\"Digite a entrada do Pino A para a porta \"+ self.getLabel()+\"-->\"))\n",
        "\n",
        "  def getPinB(self):\n",
        "    return int(input(\"Digite a entrada do Pino B para a porta \"+ self.getLabel()+\"-->\"))"
      ],
      "metadata": {
        "id": "Id17ogeDqSjC"
      },
      "execution_count": null,
      "outputs": []
    },
    {
      "cell_type": "code",
      "source": [
        "class UnaryGate(LogicGate):\n",
        "  def __init__(self,n):\n",
        "    LogicGate.__init__(self,n)\n",
        "    self.pin = None\n",
        "\n",
        "  def getPin(self):\n",
        "    return int(input(\"Digite a entrada do Pino para a porta \"+ self.getLabel()+\"-->\"))"
      ],
      "metadata": {
        "id": "fW7M1B-6qk2H"
      },
      "execution_count": null,
      "outputs": []
    },
    {
      "cell_type": "markdown",
      "source": [
        "### 2.2. Portas AND, OR e NOT"
      ],
      "metadata": {
        "id": "Cv3mXzjVy7Ow"
      }
    },
    {
      "cell_type": "markdown",
      "source": [
        "6. Agora que temos uma classe geral para portas, dependendo do número de linhas de entrada, podemos construir portais específicas que possuem um comportamento exclusivo. Por exemplo, a classe AndGate (porta AND) será uma subclasse de BinaryGate desde que as portas AND possuam duas linhas de entrada. Como anteriormente, a primeira linha do construtor chama o construtor da classe pai (BinaryGate), que por sua vez chama o construtor de sua classe pai (LogicGate). Note que a classe AndGate não fornece novos dados, uma vez que herda duas linhas de entrada, uma linha de saída e um rótulo."
      ],
      "metadata": {
        "id": "9yTtVpncrhK-"
      }
    },
    {
      "cell_type": "code",
      "source": [
        "class AndGate(BinaryGate):\n",
        "  def __init__(self,n):\n",
        "    BinaryGate.__init__(self,n)\n",
        "  def performGateLogic(self):\n",
        "    a = self.getPinA()\n",
        "    b = self.getPinB()\n",
        "    if a==1 and b==1:\n",
        "        return 1\n",
        "    else:\n",
        "        return 0"
      ],
      "metadata": {
        "id": "M6FQStzzrmmV"
      },
      "execution_count": null,
      "outputs": []
    },
    {
      "cell_type": "markdown",
      "source": [
        "7. A única coisa que a classe AndGate precisa adicionar é o comportamento específico que executa a operação booleana descrita anteriormente. Este é o lugar onde podemos fornecer o método performGateLogic. Para uma porta AND, este método primeiro deve obter os dois valores de entrada e, em seguida, retornará 1 apenas se os dois valores de entrada forem 1.\n",
        "\n",
        "8. Podemos mostrar a classe AndGate em ação criando uma instância e pedindo para calcular sua saída. O fragmento a seguir mostra um objeto AndGate, g1, que possui um rótulo interno \"G1\". Quando nós chamamos o método getOutput, o objeto deve primeiro chamar seu método performGateLogic que por sua vez consulta as duas linhas de entrada. Quando os valores são fornecidos, a saída correta é mostrada."
      ],
      "metadata": {
        "id": "lkt4iGajsUmz"
      }
    },
    {
      "cell_type": "code",
      "source": [
        "g1 = AndGate('G1')\n",
        "g1.getOutput()"
      ],
      "metadata": {
        "id": "oHVgBKUDsGqG"
      },
      "execution_count": null,
      "outputs": []
    },
    {
      "cell_type": "code",
      "source": [
        "class OrGate(BinaryGate):\n",
        "  def __init__(self,n):\n",
        "    BinaryGate.__init__(self,n)\n",
        "  def performGateLogic(self):\n",
        "    a = self.getPinA()\n",
        "    b = self.getPinB()\n",
        "    if a ==1 or b==1:\n",
        "        return 1\n",
        "    else:\n",
        "        return 0"
      ],
      "metadata": {
        "id": "Q1UIqxpcsyj9"
      },
      "execution_count": null,
      "outputs": []
    },
    {
      "cell_type": "code",
      "source": [
        "class NotGate(UnaryGate):\n",
        "  def __init__(self,n):\n",
        "    UnaryGate.__init__(self,n)\n",
        "  def performGateLogic(self):\n",
        "    if self.getPin():\n",
        "      return 0\n",
        "    else:\n",
        "      return 1"
      ],
      "metadata": {
        "id": "U1ylFwmRtCsG"
      },
      "execution_count": null,
      "outputs": []
    },
    {
      "cell_type": "markdown",
      "source": [
        "### 2.3. Concetores"
      ],
      "metadata": {
        "id": "9fbszd5VzFwL"
      }
    },
    {
      "cell_type": "markdown",
      "source": [
        "9. Agora que temos as portas básicas funcionando, podemos voltar nossa atenção para a construção de circuitos. Para criar um circuito, precisamos conectar portas, a saída de uma deve fluir para a entrada de outra. Para fazer isso, vamos implementar uma nova classe chamada Connector. A classe Connector não irá residir na hierarquia de portas. Ela irá, no entanto, usar a hierarquia de portas para que cada conector tenha duas portas, uma em cada extremidade"
      ],
      "metadata": {
        "id": "va4jeZbutUVg"
      }
    },
    {
      "cell_type": "code",
      "source": [
        "class Connector:\n",
        "  def __init__(self, fgate, tgate):\n",
        "    self.fromgate = fgate\n",
        "    self.togate = tgate\n",
        "\n",
        "    tgate.setNextPin(self)\n",
        "\n",
        "  def getFrom(self):\n",
        "    return self.fromgate\n",
        "\n",
        "  def getTo(self):\n",
        "    return self.togate"
      ],
      "metadata": {
        "id": "xOaw0PZ5xUP6"
      },
      "execution_count": null,
      "outputs": []
    },
    {
      "cell_type": "markdown",
      "source": [
        "10. Na classe BinaryGate, para portas com duas linhas possíveis de entrada, o conector deve ser conectado a apenas uma linha. Se ambas estiverem disponíveis, escolheremos pinA por default. Se pinA já estiver conectado, então vamos escolher pinB. Não é possível conectar com um porta sem linhas de entrada disponíveis."
      ],
      "metadata": {
        "id": "Ytsy6rBCxakc"
      }
    },
    {
      "cell_type": "code",
      "source": [
        "def setNextPin(self,source):\n",
        "  if self.pinA == None:\n",
        "    self.pinA = source\n",
        "  else:\n",
        "    if self.pinB == None:\n",
        "      self.pinB = source\n",
        "    else:\n",
        "      raise RuntimeError(\"Erro: NÃO HÁ PINO LIVRE\")"
      ],
      "metadata": {
        "id": "-_elq6wexeEu"
      },
      "execution_count": null,
      "outputs": []
    },
    {
      "cell_type": "markdown",
      "source": [
        "11. Agora é possível obter informações de dois lugares: externamente, como antes, e da saída de um gate conectado a essa linha de entrada. Isso requer uma mudança nos métodos getPinA e getPinB. Se a linha de entrada não estiver conectada a nada (None), então pergunte ao usuário externamente como antes. No entanto, se houver uma conexão, a conexão é acessada e o valor de saída do fromgate é recuperado. Isso, por sua vez, faz com que essa porta processe sua lógica. Isso continua até que todas as entradas estejam disponíveis e o valor final de saída torna-se a entrada necessária para a porta em questão. Em certo sentido, o circuito funciona voltando para trás até encontrar a entrada necessária para finalmente produzir a saída."
      ],
      "metadata": {
        "id": "__dg9jn3xri1"
      }
    },
    {
      "cell_type": "code",
      "source": [
        "def getPinA(self):\n",
        "  if self.pinA == None:\n",
        "    return input(\"Digite a entrada do Pino A para a porta \" + self.getName()+\"-->\")\n",
        "  else:\n",
        "    return self.pinA.getFrom().getOutput()"
      ],
      "metadata": {
        "id": "6MZIU60GxyZN"
      },
      "execution_count": null,
      "outputs": []
    },
    {
      "cell_type": "markdown",
      "source": [
        "### 2.4. Código completo"
      ],
      "metadata": {
        "id": "E7L0GY7Ax28D"
      }
    },
    {
      "cell_type": "code",
      "source": [
        "class LogicGate:\n",
        "  def __init__(self,n):\n",
        "    self.name = n\n",
        "    self.output = None\n",
        "\n",
        "  def getName(self):\n",
        "    return self.name\n",
        "\n",
        "  def getOutput(self):\n",
        "    self.output = self.performGateLogic()\n",
        "    return self.output\n",
        "\n",
        "\n",
        "class BinaryGate(LogicGate):\n",
        "  def __init__(self,n):\n",
        "    LogicGate.__init__(self,n)\n",
        "    self.pinA = None\n",
        "    self.pinB = None\n",
        "\n",
        "  def getPinA(self):\n",
        "    if self.pinA == None:\n",
        "      return int(input(\"Digite a entrada do Pino A para a porta \"+self.getName()+\"-->\"))\n",
        "    else:\n",
        "      return self.pinA.getFrom().getOutput()\n",
        "\n",
        "  def getPinB(self):\n",
        "    if self.pinB == None:\n",
        "      return int(input(\"Digite a entrada do Pino B para a porta \"+self.getName()+\"-->\"))\n",
        "    else:\n",
        "      return self.pinB.getFrom().getOutput()\n",
        "\n",
        "  def setNextPin(self,source):\n",
        "      if self.pinA == None:\n",
        "         self.pinA = source\n",
        "      else:\n",
        "        if self.pinB == None:\n",
        "          self.pinB = source\n",
        "        else:\n",
        "          print(\"Erro: NÃO HÁ PINO LIVRE\")\n",
        "\n",
        "\n",
        "class AndGate(BinaryGate):\n",
        "  def __init__(self,n):\n",
        "    BinaryGate.__init__(self,n)\n",
        "\n",
        "  def performGateLogic(self):\n",
        "    a = self.getPinA()\n",
        "    b = self.getPinB()\n",
        "    if a==1 and b==1:\n",
        "      return 1\n",
        "    else:\n",
        "      return 0\n",
        "\n",
        "\n",
        "class OrGate(BinaryGate):\n",
        "  def __init__(self,n):\n",
        "    BinaryGate.__init__(self,n)\n",
        "\n",
        "  def performGateLogic(self):\n",
        "    a = self.getPinA()\n",
        "    b = self.getPinB()\n",
        "    if a ==1 or b==1:\n",
        "      return 1\n",
        "    else:\n",
        "      return 0\n",
        "\n",
        "\n",
        "class UnaryGate(LogicGate):\n",
        "  def __init__(self,n):\n",
        "    LogicGate.__init__(self,n)\n",
        "    self.pin = None\n",
        "\n",
        "  def getPin(self):\n",
        "    if self.pin == None:\n",
        "      return int(input(\"Digite a entrada do Pino para a porta \"+self.getName()+\"-->\"))\n",
        "    else:\n",
        "      return self.pin.getFrom().getOutput()\n",
        "\n",
        "  def setNextPin(self,source):\n",
        "    if self.pin == None:\n",
        "      self.pin = source\n",
        "    else:\n",
        "      print(\"Erro: NÃO HÁ PINO LIVRE\")\n",
        "\n",
        "\n",
        "class NotGate(UnaryGate):\n",
        "  def __init__(self,n):\n",
        "    UnaryGate.__init__(self,n)\n",
        "\n",
        "  def performGateLogic(self):\n",
        "    if self.getPin():\n",
        "      return 0\n",
        "    else:\n",
        "      return 1\n",
        "\n",
        "\n",
        "class Connector:\n",
        "  def __init__(self, fgate, tgate):\n",
        "    self.fromgate = fgate\n",
        "    self.togate = tgate\n",
        "    tgate.setNextPin(self)\n",
        "\n",
        "  def getFrom(self):\n",
        "    return self.fromgate\n",
        "\n",
        "  def getTo(self):\n",
        "    return self.togate\n",
        "\n",
        "def main():\n",
        "   g1 = AndGate(\"G1\")\n",
        "   g2 = AndGate(\"G2\")\n",
        "   g3 = OrGate(\"G3\")\n",
        "   g4 = NotGate(\"G4\")\n",
        "   c1 = Connector(g1,g3)\n",
        "   c2 = Connector(g2,g3)\n",
        "   c3 = Connector(g3,g4)\n",
        "   print(g4.getOutput())\n",
        "\n",
        "main()"
      ],
      "metadata": {
        "id": "Pe48xF9FtU-k"
      },
      "execution_count": null,
      "outputs": []
    },
    {
      "cell_type": "markdown",
      "source": [
        "# Referências\n"
      ],
      "metadata": {
        "id": "QOV2og8vD-Uc"
      }
    },
    {
      "cell_type": "markdown",
      "source": [
        "https://panda.ime.usp.br/panda/static/pythonds_pt/01-Introducao/13-poo.html"
      ],
      "metadata": {
        "id": "iuNCYffJEDJs"
      }
    }
  ]
}