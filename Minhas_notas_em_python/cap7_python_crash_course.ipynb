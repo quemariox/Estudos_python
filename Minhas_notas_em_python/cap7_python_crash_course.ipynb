{
 "cells": [
  {
   "cell_type": "markdown",
   "metadata": {},
   "source": [
    "# Capítulo 7. Entrada de usuário e laços while"
   ]
  },
  {
   "cell_type": "markdown",
   "metadata": {},
   "source": [
    "## 7.1. Como a função imput() trabalha"
   ]
  },
  {
   "cell_type": "markdown",
   "metadata": {},
   "source": [
    "Entrada de dados, casting de tipos e verificação de condicionais"
   ]
  },
  {
   "cell_type": "code",
   "execution_count": 5,
   "metadata": {},
   "outputs": [
    {
     "name": "stdout",
     "output_type": "stream",
     "text": [
      "Mário  tem 77 anos e 1.78 m de altura.\n",
      "você já se alistou?\n",
      "você já vota?\n",
      "você já entrou com o processo de aposentadoria?\n"
     ]
    }
   ],
   "source": [
    "nome = input('qual o seu nome? ')\n",
    "idade = int(input('qual sua idade? '))\n",
    "altura = float(input('qual a sua altura? '))\n",
    "\n",
    "print(nome,'tem',idade,'anos e',altura,'m de altura. \\n')\n",
    "\n",
    "if idade > 16:\n",
    "    print('você já se alistou?')\n",
    "if idade > 18:\n",
    "    print('você já vota?')\n",
    "if idade > 65:\n",
    "    print('você já entrou com o processo de aposentadoria?')"
   ]
  },
  {
   "cell_type": "markdown",
   "metadata": {},
   "source": [
    "Verificação de paridade"
   ]
  },
  {
   "cell_type": "code",
   "execution_count": 7,
   "metadata": {},
   "outputs": [
    {
     "name": "stdout",
     "output_type": "stream",
     "text": [
      "34 é par!\n"
     ]
    }
   ],
   "source": [
    "n = int(input('digite um número inteiro: '))\n",
    "\n",
    "if n%2 == 0:\n",
    "    print(n,'é par!')\n",
    "else:\n",
    "    print(n,'é ímpar')"
   ]
  },
  {
   "cell_type": "markdown",
   "metadata": {},
   "source": [
    "Verificação de primos"
   ]
  },
  {
   "cell_type": "code",
   "execution_count": 10,
   "metadata": {},
   "outputs": [
    {
     "name": "stdout",
     "output_type": "stream",
     "text": [
      "[2, 4, 5, 8, 10, 16, 20, 25, 32, 40, 50, 80, 100, 125, 160, 200, 250, 400, 500, 625, 800, 1000, 1250, 2000, 2500, 3125, 4000, 5000, 6250, 10000, 12500, 20000, 25000, 50000]\n"
     ]
    }
   ],
   "source": [
    "n = int(input('digite um número inteiro: '))\n",
    "\n",
    "divisores = [x for x in range(2,n)]\n",
    "div_n = []\n",
    "for x in divisores:\n",
    "    if n%x == 0:\n",
    "        div_n.append(x)\n",
    "print(div_n)"
   ]
  },
  {
   "cell_type": "markdown",
   "metadata": {},
   "source": [
    "### Exercícios"
   ]
  },
  {
   "cell_type": "markdown",
   "metadata": {},
   "source": [
    "7.1 – Locação de automóveis: Escreva um programa que pergunte ao usuário qual tipo de carro ele gostaria de alugar. Mostre uma mensagem sobre esse carro, por exemplo, “Deixe-me ver se consigo um Subaru para você.”"
   ]
  },
  {
   "cell_type": "code",
   "execution_count": 12,
   "metadata": {},
   "outputs": [
    {
     "name": "stdout",
     "output_type": "stream",
     "text": [
      "Deixe me ver se temos um Clio para você...\n"
     ]
    }
   ],
   "source": [
    "carro = input('Qual carro você quer alugar?' )\n",
    "print('Deixe me ver se temos um',carro.title(),'para você...')"
   ]
  },
  {
   "cell_type": "markdown",
   "metadata": {},
   "source": [
    "7.2 – Lugares em um restaurante: Escreva um programa que pergunte ao usuário quantas pessoas estão em seu grupo para jantar. Se a resposta for maior que oito, exiba uma mensagem dizendo que eles deverão esperar uma mesa. Caso contrário, informe que sua mesa está pronta."
   ]
  },
  {
   "cell_type": "code",
   "execution_count": 14,
   "metadata": {},
   "outputs": [
    {
     "name": "stdout",
     "output_type": "stream",
     "text": [
      "A sua mesa está pronta!\n"
     ]
    }
   ],
   "source": [
    "n = int(input('Quantas pessoas vão jantar? '))\n",
    "if n <= 8:\n",
    "    print('A sua mesa está pronta!')\n",
    "else:\n",
    "    print('Estamos preparando sua mesa, por favor aguarde...')"
   ]
  },
  {
   "cell_type": "markdown",
   "metadata": {},
   "source": [
    "7.3 – Múltiplos de dez: Peça um número ao usuário e, em seguida, informe se o número é múltiplo de dez ou não."
   ]
  },
  {
   "cell_type": "code",
   "execution_count": 16,
   "metadata": {},
   "outputs": [
    {
     "name": "stdout",
     "output_type": "stream",
     "text": [
      "2 não é múltiplo de 10.\n"
     ]
    }
   ],
   "source": [
    "n = int(input('Digite um número inteiro: '))\n",
    "if n%10 == 0:\n",
    "    print(n,'é múltiplo de 10.')\n",
    "else:\n",
    "    print(n,'não é múltiplo de 10.')"
   ]
  },
  {
   "cell_type": "markdown",
   "metadata": {},
   "source": [
    "## 7.2. Introdução aos laços while"
   ]
  },
  {
   "cell_type": "markdown",
   "metadata": {},
   "source": [
    "O laço for toma uma coleção de itens e executa um bloco de código uma vez para cada item da coleção. Em comparação, o laço while executa durante o tempo em que, ou enquanto, uma determinada condição for verdadeira."
   ]
  },
  {
   "cell_type": "markdown",
   "metadata": {},
   "source": [
    "Contadores"
   ]
  },
  {
   "cell_type": "code",
   "execution_count": null,
   "metadata": {},
   "outputs": [],
   "source": [
    "#contagem simples\n",
    "cont = 0\n",
    "while cont <= 5:\n",
    "    print(cont)\n",
    "    cont += 1\n",
    "print('acabou...\\n')\n",
    "\n",
    "#contagem invertida\n",
    "cont = 5\n",
    "while cont >= 0:\n",
    "    print(cont)\n",
    "    cont -= 1\n",
    "print('acabou...\\n')\n",
    "\n",
    "#contagem com saltos\n",
    "cont = 0\n",
    "salto = 20\n",
    "while cont <= 100:\n",
    "    print(cont)\n",
    "    cont += salto\n",
    "print('acabou...\\n')"
   ]
  },
  {
   "cell_type": "markdown",
   "metadata": {},
   "source": [
    "Usuário decidindo se quer sair"
   ]
  },
  {
   "cell_type": "code",
   "execution_count": 27,
   "metadata": {},
   "outputs": [
    {
     "name": "stdout",
     "output_type": "stream",
     "text": [
      "então vamos continuar...\n",
      "então vamos continuar...\n",
      "então vamos continuar...\n",
      "então vamos continuar...\n",
      "acabou...\n"
     ]
    }
   ],
   "source": [
    "msg = ''\n",
    "while msg.lower() != 'n':\n",
    "    msg = input('deseja continuar? [s/n] ')\n",
    "    print('então vamos continuar...') \n",
    "print('acabou...')"
   ]
  },
  {
   "cell_type": "markdown",
   "metadata": {},
   "source": [
    "### Usando uma `flag`"
   ]
  },
  {
   "cell_type": "markdown",
   "metadata": {},
   "source": [
    "No exemplo anterior, tínhamos um programa que executava determinadas tarefas enquanto uma dada condição era verdadeira. E como ficaria em programas mais complicados, em que muitos eventos diferentes poderiam fazer o programa parar de executar?"
   ]
  },
  {
   "cell_type": "markdown",
   "metadata": {},
   "source": [
    "Para um programa que deva executar somente enquanto muitas condições forem verdadeiras, podemos definir uma variável que determina se o programa como um todo deve estar ativo. Essa variável, chamada de flag, atua como um sinal para o programa. Podemos\n",
    "escrever nossos programas de modo que executem enquanto a flag estiver definida com True e parem de executar quando qualquer um dos vários eventos definir o valor da flag com False. Como resultado, nossa instrução while geral precisa verificar apenas uma condição: se a flag, no momento, é True. Então todos os nossos demais testes (para ver se um evento que deve definir a flag com False ocorreu) podem estar bem organizados no restante do programa."
   ]
  },
  {
   "cell_type": "code",
   "execution_count": 31,
   "metadata": {},
   "outputs": [
    {
     "name": "stdout",
     "output_type": "stream",
     "text": [
      "então vamos continuar...\n",
      "então vamos continuar...\n",
      "acabou...\n"
     ]
    }
   ],
   "source": [
    "flag = True\n",
    "while flag: \n",
    "    msg = input('deseja continuar? [s/n] ')\n",
    "    if msg == 'n': \n",
    "        flag = False\n",
    "    else: \n",
    "        print('então vamos continuar...') \n",
    "print('acabou...')"
   ]
  },
  {
   "cell_type": "markdown",
   "metadata": {},
   "source": [
    "### Saindo do laço com `brak`"
   ]
  },
  {
   "cell_type": "markdown",
   "metadata": {},
   "source": [
    "Para sair de um laço while de imediato, sem executar qualquer código restante no laço, independentemente do resultado de qualquer teste condicional, utilize a instrução break. A instrução break direciona o fluxo de seu programa; podemos usá-la para controlar quais linhas de código são ou não são executadas, de modo que o programa execute apenas o código que você quiser, quando você quiser."
   ]
  },
  {
   "cell_type": "code",
   "execution_count": 29,
   "metadata": {},
   "outputs": [
    {
     "name": "stdout",
     "output_type": "stream",
     "text": [
      "Cairo uma linda cidade sem dúvidas.\n",
      "Juatuba uma linda cidade sem dúvidas.\n"
     ]
    }
   ],
   "source": [
    "while True:\n",
    "    cidade = input('Digite uma cidade ou [n] para sair: ')\n",
    "    if cidade.lower() == 'n':\n",
    "        break\n",
    "    else:\n",
    "        print(cidade.title(),'uma linda cidade sem dúvidas.')\n",
    "print('acabou...')"
   ]
  },
  {
   "cell_type": "markdown",
   "metadata": {},
   "source": [
    "### Usando `continue` em um laço"
   ]
  },
  {
   "cell_type": "markdown",
   "metadata": {},
   "source": [
    "Em vez de sair totalmente de um laço sem executar o restante de seu código, podemos usar a instrução continue para retornar ao início, com base no resultado de um teste condicional."
   ]
  },
  {
   "cell_type": "code",
   "execution_count": 32,
   "metadata": {},
   "outputs": [
    {
     "name": "stdout",
     "output_type": "stream",
     "text": [
      "1\n",
      "3\n",
      "5\n",
      "7\n",
      "9\n"
     ]
    }
   ],
   "source": [
    "n = 0\n",
    "while n < 10:\n",
    "    n += 1\n",
    "    if n%2 == 0:\n",
    "        continue\n",
    "    print(n)"
   ]
  },
  {
   "cell_type": "markdown",
   "metadata": {},
   "source": [
    "### Exercícios"
   ]
  },
  {
   "cell_type": "markdown",
   "metadata": {},
   "source": [
    "7.4 – Ingredientes para uma pizza: Escreva um laço que peça ao usuário para fornecer uma série de ingredientes para uma pizza até que o valor 'quit' seja fornecido. À medida que cada ingrediente é especificado, apresente uma mensagem informando que você acrescentará esse ingrediente à pizza."
   ]
  },
  {
   "cell_type": "code",
   "execution_count": 35,
   "metadata": {},
   "outputs": [
    {
     "name": "stdout",
     "output_type": "stream",
     "text": [
      "Sua pizza com: ['asdasd', 'asd', 'asdasd'] está a caminho...\n"
     ]
    }
   ],
   "source": [
    "ingr = ''\n",
    "adicionais = []\n",
    "\n",
    "while ingr.lower() != 'q':\n",
    "    ingr = input('Digite o adicional ou [Q] para sair: ')\n",
    "    adicionais.append(ingr)\n",
    "\n",
    "adicionais.pop() #remove o 'q' do final da lista\n",
    "print('Sua pizza com:',adicionais,'está a caminho...')"
   ]
  },
  {
   "cell_type": "markdown",
   "metadata": {},
   "source": [
    "7.5 – Ingressos para o cinema: Um cinema cobra preços diferentes para os ingressos de acordo com a idade de uma pessoa. Se uma pessoa tiver menos de 3 anos de idade, o ingresso será gratuito; se tiver entre 3 e 12 anos, o ingresso custará 10 dólares; se tiver mais de 12 anos, o ingresso custará 15 dólares. Escreva um laço em que você pergunte a idade aos usuários e, então, informe-lhes o preço do ingresso do cinema."
   ]
  },
  {
   "cell_type": "code",
   "execution_count": 40,
   "metadata": {},
   "outputs": [
    {
     "name": "stdout",
     "output_type": "stream",
     "text": [
      "['bacon', 'carne']\n"
     ]
    }
   ],
   "source": [
    "pergunta = input('Deseja comprar ingressos? [s/n] ')\n",
    "\n",
    "while pergunta.lower() != 'n':\n",
    "    idade = int(input('Qual é a sua idade? '))\n",
    "\n",
    "    if idade < 3: print('Entrada gratuita!')\n",
    "    elif 3 <= idade <= 12: print('Entrada custa 10 dólares!')\n",
    "    else: print('Entrada custa 20 dólares!')\n",
    "    \n",
    "    pergunta = input('Deseja comprar ingressos? [s/n] ')\n",
    "print('Divirta-se!!!')"
   ]
  },
  {
   "cell_type": "markdown",
   "metadata": {},
   "source": [
    "7.6 – Três saídas: Escreva versões diferentes do Exercício 7.4 ou do Exercício 7.5 que faça o seguinte, pelo menos uma vez: \n",
    "\n",
    "• use um teste condicional na instrução while para encerrar o laço; \n",
    "• use uma variável active para controlar o tempo que o laço executará; \n",
    "• use uma instrução break para sair do laço quando o usuário fornecer o valor 'quit'.\n",
    "\n",
    "                                #####FAREMOS COM O 7.4#####\n",
    "`7.4 – Ingredientes para uma pizza: Escreva um laço que peça ao usuário para fornecer uma série de ingredientes para uma pizza até que o valor 'quit' seja fornecido. À medida que cada ingrediente é especificado, apresente uma mensagem informando que você acrescentará esse ingrediente à pizza.`"
   ]
  },
  {
   "cell_type": "code",
   "execution_count": 42,
   "metadata": {},
   "outputs": [
    {
     "name": "stdout",
     "output_type": "stream",
     "text": [
      "Sua pizza com ['bacon', 'tomate', 'mussarela'] está a caminho!\n"
     ]
    }
   ],
   "source": [
    "#use um teste condicional na instrução while para encerrar o laço\n",
    "adic = []\n",
    "ingr = input('Digite seu adicional ou [Q] para sair.')\n",
    "\n",
    "while ingr.lower() != 'q':\n",
    "    adic.append(ingr)\n",
    "    ingr = input('Digite seu adicional ou [Q] para sair.')\n",
    "\n",
    "print('Sua pizza com',adic,'está a caminho!')"
   ]
  },
  {
   "cell_type": "code",
   "execution_count": 43,
   "metadata": {},
   "outputs": [
    {
     "name": "stdout",
     "output_type": "stream",
     "text": [
      "Sua pizza com ['bacon', 'tomate', 'mussarela'] está a caminho!\n"
     ]
    }
   ],
   "source": [
    "#use uma variável active para controlar o tempo que o laço executará; \n",
    "active = True\n",
    "adic = []\n",
    "ingr = input('Digite seu adicional ou [Q] para sair.')\n",
    "\n",
    "while active:\n",
    "    adic.append(ingr)\n",
    "    ingr = input('Digite seu adicional ou [Q] para sair.')\n",
    "    if ingr.lower() == 'q':\n",
    "        active = False\n",
    "    \n",
    "print('Sua pizza com',adic,'está a caminho!')"
   ]
  },
  {
   "cell_type": "code",
   "execution_count": 46,
   "metadata": {},
   "outputs": [
    {
     "name": "stdout",
     "output_type": "stream",
     "text": [
      "Sua pizza com ['bacon', 'tomate', 'mussarela'] está a caminho!\n"
     ]
    }
   ],
   "source": [
    "#use uma instrução break para sair do laço quando o usuário fornecer o valor 'quit'.\n",
    "adic = []\n",
    "ingr = input('Digite seu adicional ou [Q] para sair.')\n",
    "\n",
    "while True:\n",
    "    if ingr.lower() == 'q':\n",
    "        break\n",
    "    else:\n",
    "        adic.append(ingr)\n",
    "    ingr = input('Digite seu adicional ou [Q] para sair.')\n",
    "\n",
    "print('Sua pizza com',adic,'está a caminho!')"
   ]
  },
  {
   "cell_type": "markdown",
   "metadata": {},
   "source": [
    "7.7 – Infinito: Escreva um laço que nunca termine e execute-o. (Para encerrar o laço, pressione CTRL-C ou feche a janela que está exibindo a saída.)"
   ]
  },
  {
   "cell_type": "markdown",
   "metadata": {},
   "source": [
    "## 7.3. Usando um laço while com listas e dicionários"
   ]
  },
  {
   "cell_type": "markdown",
   "metadata": {},
   "source": [
    "Até agora trabalhamos com apenas uma informação do usuário a cada vez. Recebemos a entrada do usuário e então a exibimos ou apresentamos uma resposta a ela. Na próxima passagem pelo laço while, recebíamos outro valor de entrada e respondíamos a ela. Contudo, para controlar muitos usuários e informações, precisaremos usar listas e dicionários com nossos laços while.\n",
    "\n",
    "Um laço for é eficiente para percorrer uma lista, mas você não deve modificar uma lista em um laço for, pois Python terá problemas para manter o controle dos itens da lista. Para modificar uma lista enquanto trabalhar com ela, utilize um laço while. Usar laços while com listas e dicionários permite coletar, armazenar e organizar muitas entradas a fim de analisá-las e apresentá-las posteriormente."
   ]
  },
  {
   "cell_type": "markdown",
   "metadata": {},
   "source": [
    "Tranferindo ítens de uma lista para outra"
   ]
  },
  {
   "cell_type": "markdown",
   "metadata": {},
   "source": [
    "Considere uma lista de usuários recém-registrados em um site, porém não verificados. Depois de conferir esses usuários, como podemos transferi-los para uma lista separada de usuários confirmados? Uma maneira seria usar um laço while para extrair os usuários da lista de usuários não confirmados à medida que os verificarmos e então adicioná-los em uma lista separada de usuários confirmados."
   ]
  },
  {
   "cell_type": "code",
   "execution_count": 1,
   "metadata": {},
   "outputs": [
    {
     "name": "stdout",
     "output_type": "stream",
     "text": [
      "Verificando usuário: Ana\n",
      "Verificando usuário: José\n",
      "Verificando usuário: Paulo\n",
      "Verificando usuário: Mario\n",
      "['ana', 'josé', 'paulo', 'mario']\n"
     ]
    }
   ],
   "source": [
    "nao_conf = ['mario','paulo','josé','ana']\n",
    "conf = []\n",
    "\n",
    "while nao_conf:\n",
    "    user = nao_conf.pop()\n",
    "    print('Verificando usuário:',user.title())\n",
    "    conf.append(user)\n",
    "print(conf)"
   ]
  },
  {
   "cell_type": "markdown",
   "metadata": {},
   "source": [
    "Removendo todas as instâncias de valores específicos de uma lista"
   ]
  },
  {
   "cell_type": "markdown",
   "metadata": {},
   "source": [
    "No Capítulo 3 usamos remove() para remover um valor específico de uma lista. A função remove() era apropriada porque o valor em que estávamos interessados aparecia apenas uma vez na lista. Porém, e se quiséssemos remover da lista todas as instâncias de um valor?"
   ]
  },
  {
   "cell_type": "code",
   "execution_count": 2,
   "metadata": {},
   "outputs": [
    {
     "name": "stdout",
     "output_type": "stream",
     "text": [
      "['dog', 'dog', 'goldfish', 'rabbit']\n"
     ]
    }
   ],
   "source": [
    "pets = ['dog', 'cat', 'dog', 'goldfish', 'cat', 'rabbit',\n",
    "'cat']\n",
    "\n",
    "while 'cat' in pets:\n",
    "    pets.remove('cat')\n",
    "print(pets)"
   ]
  },
  {
   "cell_type": "markdown",
   "metadata": {},
   "source": [
    "Preenchendo um dicionário com dados de entrada do usuário"
   ]
  },
  {
   "cell_type": "code",
   "execution_count": 4,
   "metadata": {},
   "outputs": [
    {
     "name": "stdout",
     "output_type": "stream",
     "text": [
      "{'mario': 'preto', 'marcos': 'vermelho', 'dara': 'azul'}\n"
     ]
    }
   ],
   "source": [
    "respostas = {} #dicionário vazio\n",
    "active = True #flag\n",
    "\n",
    "while active: \n",
    "    nome = input('Qual o seu nome? ')\n",
    "    resp = input('Qual sua cor favorita? ')\n",
    "    respostas[nome] = resp\n",
    "\n",
    "    repetir = input('Adicionar mais dados? [s/n] ')\n",
    "\n",
    "    if repetir.lower() == 'n':\n",
    "        active = False\n",
    "print(respostas)"
   ]
  },
  {
   "cell_type": "markdown",
   "metadata": {},
   "source": [
    "### Exercícios"
   ]
  },
  {
   "cell_type": "markdown",
   "metadata": {},
   "source": [
    "7.8 – Lanchonete: Crie uma lista chamada sandwich_orders e a preencha com os nomes de vários sanduíches. Em seguida, crie uma lista vazia chamada finished_sandwiches. Percorra a lista de pedidos de sanduíches com um laço e mostre uma mensagem para cada pedido, por exemplo, Preparei seu sanduíche de atum. À medida que cada sanduíche for preparado transfira-o para a lista de sanduíches prontos Depois que todos os sanduíches estiverem prontos mostre uma mensagem que liste cada sanduíche preparado."
   ]
  },
  {
   "cell_type": "code",
   "execution_count": 10,
   "metadata": {},
   "outputs": [
    {
     "name": "stdout",
     "output_type": "stream",
     "text": [
      "lista de pedidos: ['fazer', 'fan', 'twister', 'harley', 'falcon'] \n",
      "\n",
      "Preparando o seu falcon ... por favor aguarde.\n",
      "Seu falcon saiu para a entrega.\n",
      "Preparando o seu harley ... por favor aguarde.\n",
      "Seu harley saiu para a entrega.\n",
      "Preparando o seu twister ... por favor aguarde.\n",
      "Seu twister saiu para a entrega.\n",
      "Preparando o seu fan ... por favor aguarde.\n",
      "Seu fan saiu para a entrega.\n",
      "Preparando o seu fazer ... por favor aguarde.\n",
      "Seu fazer saiu para a entrega.\n",
      "\n",
      "lista de entregas: ['falcon', 'harley', 'twister', 'fan', 'fazer']\n",
      "lista de pedidos: []\n"
     ]
    }
   ],
   "source": [
    "pedidos = ['fazer','fan','twister','harley','falcon']\n",
    "entregas = []\n",
    "\n",
    "print('lista de pedidos:',pedidos,'\\n')\n",
    "while pedidos:\n",
    "    sanduiche = pedidos.pop()\n",
    "    print('Preparando o seu',sanduiche,'... por favor aguarde.')\n",
    "    entregas.append(sanduiche)\n",
    "    print('Seu',sanduiche,'saiu para a entrega.')\n",
    "print('\\nlista de entregas:',entregas)\n",
    "print('lista de pedidos:',pedidos)"
   ]
  },
  {
   "cell_type": "markdown",
   "metadata": {},
   "source": [
    "7.9 – Sem pastrami: Usando a lista sandwich_orders do Exercício 7.8, garanta que o sanduíche de 'pastrami' apareça na lista pelo menos três vezes. Acrescente um código próximo ao início de seu programa para exibir uma mensagem informando que a lanchonete está sem pastrami e, então, use um laço while para remover todas as ocorrências de 'pastrami' e sandwich_orders. Garanta que nenhum sanduíche de pastrami acabe em finished_sandwiches."
   ]
  },
  {
   "cell_type": "code",
   "execution_count": 4,
   "metadata": {},
   "outputs": [
    {
     "name": "stdout",
     "output_type": "stream",
     "text": [
      " Pedidos: ['pastrami', 'fazer', 'fan', 'pastrami', 'twister', 'pastrami', 'harley', 'falcon', 'pastrami'] \n",
      " Entregas: []\n",
      " Estamos sem pastrami no momento...\n",
      " Pedidos: [] \n",
      " Entregas: ['falcon', 'harley', 'twister', 'fan', 'fazer']\n"
     ]
    }
   ],
   "source": [
    "pedidos = ['pastrami','fazer','fan','pastrami','twister','pastrami','harley','falcon','pastrami']\n",
    "entregas = []\n",
    "\n",
    "print(' Pedidos:',pedidos,'\\n Entregas:',entregas)\n",
    "\n",
    "print(' Estamos sem pastrami no momento...')\n",
    "while pedidos:\n",
    "    if 'pastrami' in pedidos:\n",
    "        pedidos.remove('pastrami')\n",
    "        continue\n",
    "    sanduiche = pedidos.pop()\n",
    "    entregas.append(sanduiche)\n",
    "print(' Pedidos:',pedidos,'\\n Entregas:',entregas)"
   ]
  },
  {
   "cell_type": "markdown",
   "metadata": {},
   "source": [
    "7.10 – Férias dos sonhos: Escreva um programa que faça uma enquete sobre as férias dos sonhos dos usuários. Escreva um prompt semelhante a este: Se pudesse visitar um lugar do mundo, para onde você iria? Inclua um bloco de código que apresente os resultados da enquete."
   ]
  },
  {
   "cell_type": "code",
   "execution_count": 7,
   "metadata": {},
   "outputs": [
    {
     "name": "stdout",
     "output_type": "stream",
     "text": [
      "{'josé': 'paris', 'cairo': 'joana', 'marcola': 'luanda'}\n"
     ]
    }
   ],
   "source": [
    "resps = {}\n",
    "while True:\n",
    "    nome = input('Qual o seu nome? ')\n",
    "    lugar = input('Para onde você gostaria de viajar?')\n",
    "    resps[nome] = lugar\n",
    "\n",
    "    ficar = input('Deseja continuar? [s/n]')\n",
    "    if ficar.lower() == 'n': break\n",
    "print(resps)"
   ]
  }
 ],
 "metadata": {
  "kernelspec": {
   "display_name": "Python 3",
   "language": "python",
   "name": "python3"
  },
  "language_info": {
   "codemirror_mode": {
    "name": "ipython",
    "version": 3
   },
   "file_extension": ".py",
   "mimetype": "text/x-python",
   "name": "python",
   "nbconvert_exporter": "python",
   "pygments_lexer": "ipython3",
   "version": "3.10.12"
  }
 },
 "nbformat": 4,
 "nbformat_minor": 2
}
