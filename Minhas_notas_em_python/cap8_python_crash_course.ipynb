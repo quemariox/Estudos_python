{
 "cells": [
  {
   "cell_type": "markdown",
   "metadata": {},
   "source": [
    "# Capítulo 8. Funções"
   ]
  },
  {
   "cell_type": "markdown",
   "metadata": {},
   "source": [
    "## 8.1. Defindo uma função e passando argumentos"
   ]
  },
  {
   "cell_type": "markdown",
   "metadata": {},
   "source": [
    "Neste capítulo aprenderemos a escrever funções, que são blocos de código nomeados, concebidos para realizar uma tarefa específica. Quando queremos executar uma tarefa em particular, definida em uma função, chamamos o nome da função responsável por ela. Se precisar executar essa tarefa várias vezes durante seu programa, não será necessário digitar todo o código para a mesma tarefa repetidamente: basta chamar a função dedicada ao tratamento dessa tarefa e a chamada dirá a Python para executar o código da função. Você perceberá que usar funções permite escrever, ler, testar e corrigir seus programas de modo mais fácil."
   ]
  },
  {
   "cell_type": "markdown",
   "metadata": {},
   "source": [
    "### 8.1.1. Definindo uma função"
   ]
  },
  {
   "cell_type": "markdown",
   "metadata": {},
   "source": [
    "O texto entre aspas triplas é um comentário chamado docstring, que descreve o que a função faz. As docstrings são colocadas entre aspas triplas, que Python procura quando gera a documentação das funções\n",
    "de seus programas."
   ]
  },
  {
   "cell_type": "code",
   "execution_count": 18,
   "metadata": {},
   "outputs": [
    {
     "name": "stdout",
     "output_type": "stream",
     "text": [
      "Olá, como vai você?\n"
     ]
    }
   ],
   "source": [
    "#definindo a função sem parâmetro\n",
    "def saudacao():\n",
    "    \"\"\"\"Exibe uma saudação simples\"\"\" \n",
    "    print('Olá, como vai você?')\n",
    "\n",
    "#chamando a função\n",
    "saudacao()"
   ]
  },
  {
   "cell_type": "markdown",
   "metadata": {},
   "source": [
    "### 8.1.2. Passando informações para uma função"
   ]
  },
  {
   "cell_type": "code",
   "execution_count": 19,
   "metadata": {},
   "outputs": [
    {
     "name": "stdout",
     "output_type": "stream",
     "text": [
      "Olá Mário ,como vai você?\n"
     ]
    }
   ],
   "source": [
    "#definindo função com parâmetro\n",
    "def saudacao(pessoa: str):\n",
    "    \"\"\"\"Exibe uma saudação simples\"\"\" \n",
    "    print('Olá',pessoa.title(),',como vai você?')\n",
    "\n",
    "#chamando a função\n",
    "saudacao('mário')"
   ]
  },
  {
   "cell_type": "markdown",
   "metadata": {},
   "source": [
    "### 8.1.3. Argumentos x Parâmetros"
   ]
  },
  {
   "cell_type": "markdown",
   "metadata": {},
   "source": [
    "A variável `pessoa` na definição de `saudacao()` é um exemplo de parâmetro **parâmetro : uma informação de que a função precisa para executar sua tarefa**. O valor `mário` em `saudacao('mário')` é um exemplo de argumento. Um **argumento é uma informação passada para uma função em sua chamada**. Quando chamamos a função, colocamos entre parênteses o valor com que queremos que a função trabalhe. Nesse caso, o argumento `mário` foi passado para a função `saudacao()` e o valor foi armazenado no parâmetro username. \n",
    "\n",
    "Em outras palavras **ARGUMENTO É O VALOR DO PARÂMETRO**"
   ]
  },
  {
   "cell_type": "markdown",
   "metadata": {},
   "source": [
    "### 8.1.4. Exercícios"
   ]
  },
  {
   "cell_type": "markdown",
   "metadata": {},
   "source": [
    "8.1 – Mensagem: Escreva uma função chamada display_message() que mostre uma frase informando a todos o que você está aprendendo neste capítulo. Chame a função e certifique-se de que a mensagem seja exibida corretamente."
   ]
  },
  {
   "cell_type": "code",
   "execution_count": 20,
   "metadata": {},
   "outputs": [
    {
     "name": "stdout",
     "output_type": "stream",
     "text": [
      "Estamos aprendendo sobre funções!\n"
     ]
    }
   ],
   "source": [
    "#definindo a função\n",
    "def msg():\n",
    "    print('Estamos aprendendo sobre funções!')\n",
    "    \n",
    "#chamando a função\n",
    "msg()"
   ]
  },
  {
   "cell_type": "markdown",
   "metadata": {},
   "source": [
    "8.2 – Livro favorito: Escreva uma função chamada favorite_book() que aceite um parâmetro title. A função deve exibir uma mensagem como Um dos meus livros favoritos é Alice no país das maravilhas. Chame a função e não se\n",
    "esqueça de incluir o título do livro como argumento na chamada da função."
   ]
  },
  {
   "cell_type": "code",
   "execution_count": 21,
   "metadata": {},
   "outputs": [
    {
     "name": "stdout",
     "output_type": "stream",
     "text": [
      "O livro favorito é O Crepúsculo Dos Ídolos\n"
     ]
    }
   ],
   "source": [
    "#definindo a função\n",
    "def livro_fav(nome: str):\n",
    "    print('O livro favorito é',nome.title())\n",
    "\n",
    "#chamando a função\n",
    "livro_fav('O crepúsculo dos ídolos')"
   ]
  },
  {
   "cell_type": "markdown",
   "metadata": {},
   "source": [
    "### 8.1.5. Passando argumentos para uma função: "
   ]
  },
  {
   "cell_type": "markdown",
   "metadata": {},
   "source": [
    "Pelo fato de ser possível que uma definição de função tenha vários parâmetros, uma chamada de função pode precisar de diversos argumentos. Os argumentos podem ser passados para as funções de\n",
    "várias maneiras. Podemos usar argumentos posicionais, que devem estar na mesma ordem em que os parâmetros foram escritos, argumentos nomeados (keyword arguments), em que cada argumento é constituído de um nome de variável e de um valor, ou por meio de listas e dicionários de valores. Vamos analisar cada um deles."
   ]
  },
  {
   "cell_type": "markdown",
   "metadata": {},
   "source": [
    "#### Argumentos posicionais"
   ]
  },
  {
   "cell_type": "markdown",
   "metadata": {},
   "source": [
    "Quando chamamos uma função, Python precisa fazer a correspondência entre cada argumento da chamada da função e um parâmetro da definição. A maneira mais simples de fazer isso é contar com a ordem dos argumentos fornecidos. Valores cuja correspondência seja feita dessa maneira são chamados de argumentos posicionais.\n",
    "\n",
    "Podemos usar tantos argumentos posicionais quantos forem necessários nas funções. Python trabalha com os argumentos fornecidos na chamada da função e faz a correspondência de cada um com o parâmetro associado na definição da função.\n",
    "\n",
    "Podemos obter resultados inesperados se confundirmos a ordem dos argumentos em uma chamada de função quando argumentos posicionais forem usados"
   ]
  },
  {
   "cell_type": "code",
   "execution_count": 22,
   "metadata": {},
   "outputs": [
    {
     "name": "stdout",
     "output_type": "stream",
     "text": [
      "Eu tenho um cão cujo o nome é Bibola\n"
     ]
    }
   ],
   "source": [
    "def descricao_pet(especie, nome):\n",
    "    \"\"\"Exibe informações sobre um animal de estimação\"\"\"\n",
    "    print('Eu tenho um',especie.lower(),'cujo o nome é',nome.title())\n",
    "\n",
    "descricao_pet('cão','bibola') #argumento POSICIONAL"
   ]
  },
  {
   "cell_type": "markdown",
   "metadata": {},
   "source": [
    "#### Argumentos nomeados"
   ]
  },
  {
   "cell_type": "markdown",
   "metadata": {},
   "source": [
    "Um argumento nomeado (keyword argument) é um par nome-valor passado para uma função. Associamos diretamente o nome e o valor no próprio argumento para que não haja confusão quando ele for passado\n",
    "para a função (você não acabará com um harry chamado Hamster). Argumentos nomeados fazem com que você não precise se preocupar com a ordem correta de seus argumentos na chamada da função e deixam claro o papel de cada valor na chamada."
   ]
  },
  {
   "cell_type": "code",
   "execution_count": 23,
   "metadata": {},
   "outputs": [
    {
     "name": "stdout",
     "output_type": "stream",
     "text": [
      "Eu tenho um cao cujo o nome é Bibola\n"
     ]
    }
   ],
   "source": [
    "def descricao_pet(especie, nome):\n",
    "    \"\"\"Exibe informações sobre um animal de estimação\"\"\"\n",
    "    print('Eu tenho um',especie.lower(),'cujo o nome é',nome.title())\n",
    "\n",
    "descricao_pet(nome = 'bibola',especie = 'cao') #argumento NOMEADO"
   ]
  },
  {
   "cell_type": "markdown",
   "metadata": {},
   "source": [
    "#### Valores Default"
   ]
  },
  {
   "cell_type": "markdown",
   "metadata": {},
   "source": [
    "Ao escrever uma função, podemos definir um valor default para cada parâmetro. Se um argumento para um parâmetro for especificado na chamada da função, Python usará o valor desse argumento. Se não for,\n",
    "o valor default do parâmetro será utilizado. Portanto, se um valor default for definido para um parâmetro, você poderá excluir o argumento\n",
    "correspondente, que normalmente seria especificado na chamada da função. Usar valores default pode simplificar suas chamadas de função e deixar mais claro o modo como suas funções normalmente são\n",
    "utilizadas."
   ]
  },
  {
   "cell_type": "code",
   "execution_count": 24,
   "metadata": {},
   "outputs": [
    {
     "name": "stdout",
     "output_type": "stream",
     "text": [
      "Eu tenho um cao cujo o nome é Bibola\n"
     ]
    }
   ],
   "source": [
    "def descricao_pet(nome: str,especie = 'cao'): #argumentos DEFAULT deve ser definido por último\n",
    "    \"\"\"Exibe informações sobre um animal de estimação\"\"\"\n",
    "    print('Eu tenho um',especie.lower(),'cujo o nome é',nome.title())\n",
    "\n",
    "descricao_pet('bibola') #a espécie já é DEFAULT, restando apenas fornecer o nome"
   ]
  },
  {
   "cell_type": "markdown",
   "metadata": {},
   "source": [
    "### 8.1.6. Exercícios8"
   ]
  },
  {
   "cell_type": "markdown",
   "metadata": {},
   "source": [
    "8.3 – Camiseta: Escreva uma função chamada make_shirt() que aceite um tamanho e o texto de uma mensagem que deverá ser estampada na camiseta. A função deve exibir uma frase que mostre o tamanho da camiseta e a\n",
    "mensagem estampada. Chame a função uma vez usando argumentos posicionais para criar uma camiseta. Chame a função uma segunda vez usando argumentos nomeados."
   ]
  },
  {
   "cell_type": "code",
   "execution_count": 25,
   "metadata": {},
   "outputs": [
    {
     "name": "stdout",
     "output_type": "stream",
     "text": [
      "Sua camiseta de tamanho XG com a frase Sensação Sensacional!!! está pronta.\n"
     ]
    }
   ],
   "source": [
    "def camiseta(tamanho:str, msg:str):\n",
    "    print('Sua camiseta de tamanho',tamanho.upper(),'com a frase',msg,'está pronta.')\n",
    "\n",
    "camiseta('xg','Sensação Sensacional!!!')"
   ]
  },
  {
   "cell_type": "markdown",
   "metadata": {},
   "source": [
    "8.4 – Camisetas grandes: Modifique a função make_shirt() de modo que as camisetas sejam grandes por default, com uma mensagem Eu amo Python. Crie uma camiseta grande e outra média com a mensagem default, e uma camiseta de qualquer tamanho com uma mensagem diferente."
   ]
  },
  {
   "cell_type": "code",
   "execution_count": 26,
   "metadata": {},
   "outputs": [
    {
     "name": "stdout",
     "output_type": "stream",
     "text": [
      "Sua camiseta de tamanho \"G\" com a frase I love Python!!! está pronta.\n",
      "Sua camiseta de tamanho M com a frase I love Python!!! está pronta.\n",
      "Sua camiseta de tamanho P com a frase \"É que eu sou tão baixinha... <3\" está pronta.\n"
     ]
    }
   ],
   "source": [
    "def camiseta(msg='I love Python!!!', tamanho='\"G\"'):\n",
    "    print('Sua camiseta de tamanho',tamanho.upper(),'com a frase',msg,'está pronta.')\n",
    "\n",
    "camiseta()#msg e tamanho DEFAULT\n",
    "camiseta(tamanho='M') #msg DEFAULT\n",
    "camiseta(tamanho='P',msg='\"É que eu sou tão baixinha... <3\"') \n"
   ]
  },
  {
   "cell_type": "markdown",
   "metadata": {},
   "source": [
    "8.5 – Cidades: Escreva uma função chamada describe_city() que aceite o nome de uma cidade e seu país. A função deve exibir uma frase simples, como Reykjavik está localizada na Islândia. Forneça um valor default ao parâmetro que representa o país. Chame sua função para três cidades diferentes em que pelo menos uma delas não esteja no país default."
   ]
  },
  {
   "cell_type": "code",
   "execution_count": 27,
   "metadata": {},
   "outputs": [
    {
     "name": "stdout",
     "output_type": "stream",
     "text": [
      "A cidade de Juatuba (Brasil) é conhecida como terra dos juás\n",
      "A cidade de Florestal (Brasil) é conhecida como terra das florestas\n",
      "A cidade de Califórnia (Estados Unidos) é conhecida como terra da Mia Khalifa\n"
     ]
    }
   ],
   "source": [
    "def descricao_cidade(nome: str, descricao: str, pais = 'Brasil'):\n",
    "    print('A cidade de',nome.title(),f'({pais.title()})','é conhecida como',descricao)\n",
    "\n",
    "descricao_cidade('Juatuba','terra dos juás') #país DEFAULT\n",
    "descricao_cidade('Florestal','terra das florestas') #país DEFAULT\n",
    "descricao_cidade('Califórnia','terra da Mia Khalifa','Estados Unidos') #parâmetro POSICIONAL"
   ]
  },
  {
   "cell_type": "markdown",
   "metadata": {},
   "source": [
    "## 8.2. Valores de retorno"
   ]
  },
  {
   "cell_type": "markdown",
   "metadata": {},
   "source": [
    "### 8.2.1. Retornando um valor simples"
   ]
  },
  {
   "cell_type": "markdown",
   "metadata": {},
   "source": [
    "Quando chamamos uma função que devolve um valor, precisamos fornecer uma variável em que o valor de retorno possa ser armazenado."
   ]
  },
  {
   "cell_type": "code",
   "execution_count": 28,
   "metadata": {},
   "outputs": [
    {
     "data": {
      "text/plain": [
       "'Jimi Hendrix'"
      ]
     },
     "execution_count": 28,
     "metadata": {},
     "output_type": "execute_result"
    }
   ],
   "source": [
    "def formata_nome(nome:str, sobrenome: str):\n",
    "    musico = nome.title() + ' ' +sobrenome.title()\n",
    "    return musico\n",
    "\n",
    "formata_nome('jimi','hendrix')"
   ]
  },
  {
   "cell_type": "markdown",
   "metadata": {},
   "source": [
    "### 8.2.2. Valores opcionais"
   ]
  },
  {
   "cell_type": "code",
   "execution_count": 29,
   "metadata": {},
   "outputs": [
    {
     "data": {
      "text/plain": [
       "'Mário Lucas Miguel'"
      ]
     },
     "execution_count": 29,
     "metadata": {},
     "output_type": "execute_result"
    }
   ],
   "source": [
    "def formata_nome(nome:str,sobrenome:str,nome_meio = ''): #argumentos DEFAULT devem ser passados no final\n",
    "    if nome_meio: \n",
    "        musico = nome.title() + ' ' + nome_meio.title() + ' ' + sobrenome.title()\n",
    "    else:\n",
    "        musico = nome.title() + ' ' + sobrenome.title()\n",
    "    return musico\n",
    "\n",
    "formata_nome('mário','miguel','lucas') "
   ]
  },
  {
   "cell_type": "markdown",
   "metadata": {},
   "source": [
    "### 8.2.3. Devolvendo um dicionário"
   ]
  },
  {
   "cell_type": "markdown",
   "metadata": {},
   "source": [
    "Uma função pode devolver qualquer tipo de valor necessário, incluindo estruturas de dados mais complexas como listas e dicionários."
   ]
  },
  {
   "cell_type": "code",
   "execution_count": 30,
   "metadata": {},
   "outputs": [
    {
     "data": {
      "text/plain": [
       "{'primeiro_nome': 'Mário', 'ultimo_nome': 'Miguel'}"
      ]
     },
     "execution_count": 30,
     "metadata": {},
     "output_type": "execute_result"
    }
   ],
   "source": [
    "def constroi_pessoa(nome:str,sobrenome:str):\n",
    "    pessoa = {'primeiro_nome':nome.title(),'ultimo_nome':sobrenome.title()}\n",
    "    return pessoa\n",
    "\n",
    "constroi_pessoa('mário','miguel')"
   ]
  },
  {
   "cell_type": "markdown",
   "metadata": {},
   "source": [
    "### 8.2.4. Usando uma função com laço while"
   ]
  },
  {
   "cell_type": "code",
   "execution_count": 31,
   "metadata": {},
   "outputs": [],
   "source": [
    "def formata_nome(nome:str, sobrenome: str):\n",
    "    musico = nome.title() + ' ' +sobrenome.title()\n",
    "    return musico\n",
    "\n",
    "while True:\n",
    "    continuar = input('Inserir dados: [s/n]')\n",
    "    if continuar.lower() == 's':\n",
    "        n1 = input('Primeiro nome: ')\n",
    "        n2 = input('Sobrenome: ')\n",
    "        print(formata_nome(n1,n2))\n",
    "    else: \n",
    "        break  "
   ]
  },
  {
   "cell_type": "markdown",
   "metadata": {},
   "source": [
    "### 8.2.5. Exercícios"
   ]
  },
  {
   "cell_type": "markdown",
   "metadata": {},
   "source": [
    "8.6 – Nomes de cidade: Escreva uma função chamada city_country() que aceite o nome de uma cidade e seu país. A função deve devolver uma string formatada assim: \"Santiago, Chile\" Chame sua função com pelo menos três pares cidade-país e apresente o valor devolvido."
   ]
  },
  {
   "cell_type": "code",
   "execution_count": 32,
   "metadata": {},
   "outputs": [
    {
     "data": {
      "text/plain": [
       "'Santiago Chile'"
      ]
     },
     "execution_count": 32,
     "metadata": {},
     "output_type": "execute_result"
    }
   ],
   "source": [
    "def cidade_pais(nome:str, pais:str):\n",
    "    formatado = nome.title() + ' ' + pais.title()\n",
    "    return formatado\n",
    "\n",
    "cidade_pais('santiago', 'chile')"
   ]
  },
  {
   "cell_type": "markdown",
   "metadata": {},
   "source": [
    "8.7 – Álbum: Escreva uma função chamada make_album() que construa um dicionário descrevendo um álbum musical. A função deve aceitar o nome de um artista e o título de um álbum e deve devolver um dicionário contendo essas\n",
    "duas informações. Use a função para criar três dicionários que representem álbuns diferentes. Apresente cada valor devolvido para mostrar que os dicionários estão armazenando as informações do álbum corretamente.\n",
    "Acrescente um parâmetro opcional em make_album() que permita armazenar o número de faixas em um álbum. Se a linha que fizer a chamada incluir um valor para o número de faixas, acrescente esse valor ao dicionário do álbum. Faça pelo menos uma nova chamada da função incluindo o número de faixas em um álbum."
   ]
  },
  {
   "cell_type": "code",
   "execution_count": 33,
   "metadata": {},
   "outputs": [
    {
     "name": "stdout",
     "output_type": "stream",
     "text": [
      "{'artista': 'Angra', 'nome_album': 'Aurora Consurgens'}\n",
      "{'artista': 'Angra', 'nome_album': 'Temple of Shadows', 'n_faixas': '13'}\n"
     ]
    }
   ],
   "source": [
    "def make_album(artista:str,nome_album:str,n_faixas=''):\n",
    "    if n_faixas != '':\n",
    "        album = {'artista':artista, 'nome_album':nome_album, 'n_faixas':n_faixas}\n",
    "    else: \n",
    "        album = {'artista':artista, 'nome_album':nome_album}\n",
    "    return album\n",
    "\n",
    "print(make_album('Angra','Aurora Consurgens')) #sem n_faixas\n",
    "print(make_album('Angra','Temple of Shadows','13'))#com n_faixas"
   ]
  },
  {
   "cell_type": "markdown",
   "metadata": {},
   "source": [
    "8.8 – Álbuns dos usuários: Comece com o seu programa do Exercício 8.7. Escreva um laço while que permita aos usuários fornecer o nome de um artista e o título de um álbum. Depois que tiver essas informações, chame make_album() com as entradas do usuário e apresente o dicionário criado. Lembre-se de incluir um valor de saída no laço while."
   ]
  },
  {
   "cell_type": "code",
   "execution_count": 34,
   "metadata": {},
   "outputs": [],
   "source": [
    "def make_album(artista:str,nome_album:str):\n",
    "    album = {'artista':artista, 'nome_album':nome_album}\n",
    "    return album\n",
    "\n",
    "while True:\n",
    "    continuar = input('Deseja inserir dados? [s/n]')\n",
    "    if continuar != 'n':\n",
    "        nome_artista = input('Qual o nome do artista? ')\n",
    "        nome_album = input('Qual o nome do album? ')\n",
    "        print(make_album(nome_artista,nome_album))\n",
    "    else:\n",
    "        break"
   ]
  },
  {
   "cell_type": "markdown",
   "metadata": {},
   "source": [
    "## 8.3. Passando uma lista para uma função"
   ]
  },
  {
   "cell_type": "markdown",
   "metadata": {},
   "source": [
    "Com frequência, você achará útil passar uma lista para uma função, seja uma lista de nomes, de números ou de objetos mais complexos, como dicionários. Se passarmos uma lista a uma função, ela terá acesso direto ao conteúdo dessa lista."
   ]
  },
  {
   "cell_type": "code",
   "execution_count": 46,
   "metadata": {},
   "outputs": [
    {
     "name": "stdout",
     "output_type": "stream",
     "text": [
      "Olá José seja bem vindo.\n",
      "Olá Maria seja bem vindo.\n"
     ]
    }
   ],
   "source": [
    "def saudacao(lista_nomes: list):\n",
    "    for nome in lista_nomes:\n",
    "        msg = 'Olá ' + nome.title() + ' seja bem vindo.'\n",
    "        print(msg)\n",
    "\n",
    "turminha = ['josé','maria']\n",
    "\n",
    "saudacao(turminha)"
   ]
  },
  {
   "cell_type": "markdown",
   "metadata": {},
   "source": [
    "### 8.3.1. Modificando uma lista em uma função"
   ]
  },
  {
   "cell_type": "markdown",
   "metadata": {},
   "source": [
    "Quando passamos uma lista a uma função, ela pode ser modificada. Qualquer alteração feita na lista no corpo da função é permanente, permitindo trabalhar de modo eficiente, mesmo quando lidamos com grandes quantidades de dados."
   ]
  },
  {
   "cell_type": "code",
   "execution_count": 61,
   "metadata": {},
   "outputs": [
    {
     "name": "stdout",
     "output_type": "stream",
     "text": [
      "lista de entrada: ['coração', 'arminha', 'cachorrinho']\n",
      "lista de saída: []\n",
      "\n",
      "\t\t TRANSFERINDO ITENS ENTRE AS LISTAS...\n",
      "\n",
      "lista de entrada: []\n",
      "lista de saída: ['cachorrinho', 'arminha', 'coração']\n"
     ]
    }
   ],
   "source": [
    "def impressao(lista_entrada,lista_saida):\n",
    "    print('lista de entrada:',lista_entrada)\n",
    "    print('lista de saída:',lista_saida)  \n",
    "    print('\\n\\t\\t TRANSFERINDO ITENS ENTRE AS LISTAS...\\n')  \n",
    "    while lista_entrada:\n",
    "        modelo = lista_entrada.pop()\n",
    "        lista_saida.append(modelo)\n",
    "    print('lista de entrada:',lista_entrada)\n",
    "    print('lista de saída:',lista_saida) \n",
    "\n",
    "lista_nao_impressos = ['coração','arminha','cachorrinho']\n",
    "lista_impressos = []\n",
    "\n",
    "impressao(lista_nao_impressos,lista_impressos)\n"
   ]
  },
  {
   "cell_type": "markdown",
   "metadata": {},
   "source": [
    "### 8.3.2. Evitando que uma função modifique uma lista"
   ]
  },
  {
   "cell_type": "markdown",
   "metadata": {},
   "source": [
    "Você pode enviar uma cópia de uma lista para uma função assim: `nome_da_função(nome_da_lista[:])` A notação de fatia `[:]` cria uma cópia da lista para ser enviada à função."
   ]
  },
  {
   "cell_type": "code",
   "execution_count": 66,
   "metadata": {},
   "outputs": [
    {
     "name": "stdout",
     "output_type": "stream",
     "text": [
      "lista de entrada: ['coração', 'arminha', 'cachorrinho']\n",
      "lista de saída: []\n",
      "\n",
      "\t\t TRANSFERINDO ITENS ENTRE AS LISTAS...\n",
      "\n",
      "lista de entrada: []\n",
      "lista de saída: ['cachorrinho', 'arminha', 'coração']\n",
      "\n",
      "A lista original permanece inalterada:  ['coração', 'arminha', 'cachorrinho']\n"
     ]
    }
   ],
   "source": [
    "def impressao(lista_entrada,lista_saida):\n",
    "    print('lista de entrada:',lista_entrada)\n",
    "    print('lista de saída:',lista_saida)  \n",
    "    print('\\n\\t\\t TRANSFERINDO ITENS ENTRE AS LISTAS...\\n')  \n",
    "    while lista_entrada:\n",
    "        modelo = lista_entrada.pop()\n",
    "        lista_saida.append(modelo)\n",
    "    print('lista de entrada:',lista_entrada)\n",
    "    print('lista de saída:',lista_saida) \n",
    "\n",
    "lista_nao_impressos = ['coração','arminha','cachorrinho']\n",
    "lista_impressos = []\n",
    "\n",
    "impressao(lista_nao_impressos[:],lista_impressos) #criamos uma copia da 'lista_nao_impressos' usando [:]\n",
    "\n",
    "print('\\nA lista original permanece inalterada: ',lista_nao_impressos)"
   ]
  },
  {
   "cell_type": "markdown",
   "metadata": {},
   "source": [
    "### 8.3.3. Exercícios"
   ]
  },
  {
   "cell_type": "markdown",
   "metadata": {},
   "source": [
    "8.9 – Mágicos: Crie uma lista de nomes de mágicos. Passe a lista para uma função chamada show_magicians() que exiba o nome de cada mágico da lista."
   ]
  },
  {
   "cell_type": "code",
   "execution_count": 67,
   "metadata": {},
   "outputs": [
    {
     "name": "stdout",
     "output_type": "stream",
     "text": [
      "Eu\n",
      "Você\n",
      "Zooboomafoo\n"
     ]
    }
   ],
   "source": [
    "def mostrar_magos(lista_nomes:list):\n",
    "    for nome in lista_nomes:\n",
    "        print(nome.title())\n",
    "\n",
    "magos = ['eu','você','zooboomafoo']\n",
    "\n",
    "mostrar_magos(magos)"
   ]
  },
  {
   "cell_type": "markdown",
   "metadata": {},
   "source": [
    "8.10 – Grandes mágicos: Comece com uma cópia de seu programa do Exercício 8.9. Escreva uma função chamada make_great() que modifique a lista de mágicos acrescentando a expressão o Grande ao nome de cada mágico. Chame show_magicians() para ver se a lista foi realmente modificada."
   ]
  },
  {
   "cell_type": "code",
   "execution_count": 2,
   "metadata": {},
   "outputs": [
    {
     "name": "stdout",
     "output_type": "stream",
     "text": [
      "Grande Merlin\n",
      "Grande Salazar\n",
      "Grande Hermes\n"
     ]
    }
   ],
   "source": [
    "def tornar_grande(lista_nomes: list):\n",
    "    for i in range(len(lista_nomes)):\n",
    "        lista_nomes[i] = 'Grande ' + lista_nomes[i]\n",
    "        \n",
    "\n",
    "def mostrar_magos(lista_nomes: list):\n",
    "    for nome in lista_nomes:\n",
    "        print(nome.title())\n",
    "\n",
    "magos = ['merlin','salazar','hermes']\n",
    "\n",
    "tornar_grande(magos)\n",
    "mostrar_magos(magos)"
   ]
  },
  {
   "cell_type": "markdown",
   "metadata": {},
   "source": [
    "8.11 – Mágicos inalterados: Comece com o trabalho feito no Exercício 8.10. Chame a função make_great() com uma cópia da lista de nomes de mágicos. Como a lista original não será alterada, devolva a nova lista e armazene-a em uma lista separada. Chame show_magicians() com cada lista para mostrar que você tem uma lista de nomes originais e uma lista com a expressão o Grande adicionada ao nome de cada mágico."
   ]
  },
  {
   "cell_type": "code",
   "execution_count": 8,
   "metadata": {},
   "outputs": [
    {
     "name": "stdout",
     "output_type": "stream",
     "text": [
      "Lista original:\n",
      "Merlin\n",
      "Salazar\n",
      "Hermes\n",
      "\n",
      "Nova lista com os nomes modificados:\n",
      "Grande Merlin\n",
      "Grande Salazar\n",
      "Grande Hermes\n"
     ]
    }
   ],
   "source": [
    "def tornar_grande(lista_nomes: list) -> list:\n",
    "    nova_lista = lista_nomes[:]\n",
    "    for i in range(len(nova_lista)):\n",
    "        nova_lista[i] = 'Grande ' + nova_lista[i]\n",
    "    return nova_lista\n",
    "\n",
    "def mostrar_magos(lista_nomes: list):\n",
    "    for nome in lista_nomes:\n",
    "        print(nome.title())\n",
    "\n",
    "magos = ['merlin', 'salazar', 'hermes']\n",
    "\n",
    "# Criar uma nova lista com os nomes modificados\n",
    "nova_lista = tornar_grande(magos[:])  # usando cópia\n",
    "\n",
    "# Mostrar a lista original\n",
    "print(\"Lista original:\")\n",
    "mostrar_magos(magos)\n",
    "\n",
    "# Mostrar a nova lista com os nomes modificados\n",
    "print(\"\\nNova lista com os nomes modificados:\")\n",
    "mostrar_magos(nova_lista)"
   ]
  },
  {
   "cell_type": "markdown",
   "metadata": {},
   "source": [
    "## 8.4. Passando um número arbitrário de argumentos"
   ]
  },
  {
   "cell_type": "markdown",
   "metadata": {},
   "source": [
    "Às vezes, você não saberá com antecedência quantos argumentos uma função deve aceitar. Felizmente, Python permite que uma função receba um número arbitrário de argumentos da instrução de chamada. `*argumento`\n",
    "\n",
    "O asterisco no nome do parâmetro `*toppings` diz a Python para\n",
    "criar uma tupla vazia chamada toppings e reunir os valores recebidos nessa tupla. A instrução print no corpo da função gera uma saída que mostra que Python é capaz de tratar uma chamada de função com um valor e outra chamada com três valores. As chamadas são tratadas de modo semelhante. Observe que Python agrupa os argumentos em uma tupla, mesmo que a função receba apenas um valor."
   ]
  },
  {
   "cell_type": "code",
   "execution_count": 1,
   "metadata": {},
   "outputs": [
    {
     "name": "stdout",
     "output_type": "stream",
     "text": [
      "('pepperoni', 'tomate', 'bacon')\n"
     ]
    }
   ],
   "source": [
    "#Exibindo a tupla de ingredientes \n",
    "\n",
    "def fazer_pizza(*ingredientes):\n",
    "    print(ingredientes)\n",
    "\n",
    "fazer_pizza('pepperoni','tomate','bacon')"
   ]
  },
  {
   "cell_type": "code",
   "execution_count": 8,
   "metadata": {},
   "outputs": [
    {
     "name": "stdout",
     "output_type": "stream",
     "text": [
      "Eis os ingredientes da pizza\n",
      " -  Pepperoni\n",
      " -  Tomate\n",
      " -  Bacon\n"
     ]
    }
   ],
   "source": [
    "#Enumerando os elementos da tupla de ingredientes\n",
    "\n",
    "def fazer_pizza(*ingredientes):\n",
    "    print('Eis os ingredientes da pizza')\n",
    "    for ingr in ingredientes:\n",
    "        print(' - ',ingr.title())\n",
    "\n",
    "fazer_pizza('pepperoni','tomate','bacon')"
   ]
  },
  {
   "cell_type": "markdown",
   "metadata": {},
   "source": [
    "### 8.4.1. Misturando argumentos posicionais e arbitrários"
   ]
  },
  {
   "cell_type": "markdown",
   "metadata": {},
   "source": [
    "Se quiser que uma função aceite vários tipos de argumentos, o\n",
    "parâmetro que aceita um número arbitrário de argumentos deve ser colocado por último na definição da função. Python faz a\n",
    "correspondência de argumentos posicionais e nomeados antes, e depois agrupa qualquer argumento remanescente no último parâmetro."
   ]
  },
  {
   "cell_type": "code",
   "execution_count": 11,
   "metadata": {},
   "outputs": [
    {
     "name": "stdout",
     "output_type": "stream",
     "text": [
      "Os ingredientes para sua pizza G são:\n",
      " -  Pepperoni\n",
      " -  Tomate\n",
      " -  Bacon\n"
     ]
    }
   ],
   "source": [
    "def fazer_pizza(tamanho,*ingredientes):\n",
    "    print('Os ingredientes para sua pizza',tamanho.upper(),'são:')\n",
    "    for ingr in ingredientes:\n",
    "        print(' - ',ingr.title())\n",
    "\n",
    "fazer_pizza('G','pepperoni','tomate','bacon')"
   ]
  },
  {
   "cell_type": "markdown",
   "metadata": {},
   "source": [
    "### 8.4.2. Usando argumentos nomeados arbitrários"
   ]
  },
  {
   "cell_type": "markdown",
   "metadata": {},
   "source": [
    "Às vezes, você vai querer aceitar um número arbitrário de argumentos, mas não saberá com antecedência qual tipo de informação será passada para a função. Nesse caso, podemos escrever funções que aceitem tantos pares chave-valor quantos forem fornecidos pela instrução que faz a chamada.\n",
    "\n",
    "Um exemplo envolve criar perfis de usuários: você sabe que obterá informações sobre um usuário, mas não tem certeza quanto ao tipo de informação que receberá."
   ]
  },
  {
   "cell_type": "code",
   "execution_count": 13,
   "metadata": {},
   "outputs": [
    {
     "name": "stdout",
     "output_type": "stream",
     "text": [
      "{'primeiro_nome': 'albert', 'ultimo_nome': 'einstein', 'localizacao': 'princeton', 'area': 'fisica'}\n"
     ]
    }
   ],
   "source": [
    "def construir_perfil(primeiro_nome, ultimo_nome, **info_usuario):\n",
    "    \"\"\"Constrói um dicionário contendo tudo que sabemos sobre um usuário.\"\"\"\n",
    "    perfil = {} #cria dicionário vazio\n",
    "    perfil['primeiro_nome'] = primeiro_nome #adiciona o primeiro_nome ao dicionário\n",
    "    perfil['ultimo_nome'] = ultimo_nome #adiciona o ultimo_nome ao dicionário\n",
    "    for chave, valor in info_usuario.items(): #percorre os demais parâmetros \n",
    "        perfil[chave] = valor #adiciona os pares chave-valor ao dicionário\n",
    "    return perfil #retorna o dicionário perfil\n",
    "\n",
    "perfil_usuario = construir_perfil('albert', 'einstein', localizacao='princeton', area='fisica')\n",
    "print(perfil_usuario)\n"
   ]
  },
  {
   "cell_type": "markdown",
   "metadata": {},
   "source": [
    "### 8.4.3. Exercícios"
   ]
  },
  {
   "cell_type": "markdown",
   "metadata": {},
   "source": [
    "8.12 – Sanduíches: Escreva uma função que aceite uma lista de itens que uma pessoa quer em um sanduíche. A função deve ter um parâmetro que agrupe tantos itens quantos forem fornecidos pela chamada da função e deve apresentar um resumo do sanduíche pedido. Chame a função três vezes usando um número diferente de argumentos a cada vez."
   ]
  },
  {
   "cell_type": "code",
   "execution_count": 18,
   "metadata": {},
   "outputs": [
    {
     "name": "stdout",
     "output_type": "stream",
     "text": [
      "Estamos preparando seus sanduiches com os seguintes ingredientes:\n",
      " -  Tomate\n",
      " -  Alface\n",
      " -  Cenoura\n",
      " -  Pão\n",
      "Estamos preparando seus sanduiches com os seguintes ingredientes:\n",
      " -  Carne\n",
      " -  Tomate\n",
      " -  Picles\n",
      " -  Abacaxi\n",
      " -  Pão\n",
      "Estamos preparando seus sanduiches com os seguintes ingredientes:\n",
      " -  Palmito\n",
      " -  Almondegas\n",
      " -  Pão Sem Casca\n"
     ]
    }
   ],
   "source": [
    "def fazer_sanduiche(*ingredientes):\n",
    "    print('Estamos preparando seus sanduiches com os seguintes ingredientes:')\n",
    "    for ingr in ingredientes:\n",
    "        print(' - ',ingr.title())\n",
    "\n",
    "fazer_sanduiche('tomate','alface','cenoura','pão')\n",
    "fazer_sanduiche('carne','tomate','picles','abacaxi','pão')\n",
    "fazer_sanduiche('palmito', 'almondegas','pão sem casca')"
   ]
  },
  {
   "cell_type": "markdown",
   "metadata": {},
   "source": [
    "8.13 – Perfil do usuário: Comece com uma cópia de user_profile.py, da página. Crie um perfil seu chamando build_profile(), usando seu primeiro nome e o sobrenome, além de três outros pares chave-valor que o descrevam."
   ]
  },
  {
   "cell_type": "code",
   "execution_count": 21,
   "metadata": {},
   "outputs": [
    {
     "name": "stdout",
     "output_type": "stream",
     "text": [
      "{'primeiro_nome': 'Mário', 'ultimo_nome': 'Miguel', 'altura': '1.78 m', 'pais': 'Brasil', 'classe': 'proletariado'}\n"
     ]
    }
   ],
   "source": [
    "def criar_perfil(primeiro_nome, ultimo_nome,**informacoes):\n",
    "    perfil = {} #cria o dicionário vazio \"perfil\"\n",
    "\n",
    "    perfil['primeiro_nome'] = primeiro_nome #adiciona o nome ao dicionário\n",
    "    perfil['ultimo_nome'] = ultimo_nome #adiciona o sobrenome ao dicionário\n",
    "\n",
    "    for chave, valor in informacoes.items(): #percorre o dicionário de informações adicionais\n",
    "        perfil[chave] = valor\n",
    "    \n",
    "    print(perfil)\n",
    "\n",
    "criar_perfil('Mário','Miguel',altura='1.78 m', pais='Brasil', classe='proletariado')"
   ]
  },
  {
   "cell_type": "markdown",
   "metadata": {},
   "source": [
    "8.14 – Carros: Escreva uma função que armazene informações sobre um carro em um dicionário. A função sempre deve receber o nome de um fabricante e um modelo. Um número arbitrário de argumentos nomeados então deverá ser aceito. Chame a função com as informações necessárias e dois outros pares nome-valor, por exemplo, uma cor ou um opcional. Sua função deve ser apropriada para uma chamada como esta: car = make_car(‘subaru’, ‘outback’, color=’blue’, tow_package=True) Mostre o dicionário devolvido para garantir que todas as informações foram armazenadas corretamente."
   ]
  },
  {
   "cell_type": "code",
   "execution_count": 28,
   "metadata": {},
   "outputs": [
    {
     "name": "stdout",
     "output_type": "stream",
     "text": [
      "{'nome': 'subaru', 'fabricante': 'outback', 'color': 'blue', 'tow_package': True} \n",
      "\n",
      "Nome : subaru\n",
      "Fabricante : outback\n",
      "Color : blue\n",
      "Tow_Package : True\n"
     ]
    }
   ],
   "source": [
    "def catalalogo_carros(nome, fabricante,**informacoes):\n",
    "    ficha = {}\n",
    "    ficha['nome'] = nome\n",
    "    ficha['fabricante'] = fabricante\n",
    "    for chave,valor in informacoes.items():\n",
    "        ficha[chave] = valor\n",
    "    print(ficha,'\\n')\n",
    "    for chave,valor in ficha.items():\n",
    "        print(chave.title(),':',valor)\n",
    "\n",
    "car = catalalogo_carros('subaru', 'outback', color='blue', tow_package=True)"
   ]
  },
  {
   "cell_type": "markdown",
   "metadata": {},
   "source": [
    "## 8.5. Armazenando funções em módulos"
   ]
  },
  {
   "cell_type": "markdown",
   "metadata": {},
   "source": [
    "Uma vantagem das funções é a maneira como elas separam blocos de código de seu programa principal. Ao usar nomes descritivos para suas funções, será bem mais fácil entender o seu programa principal. Você pode dar um passo além armazenando suas funções em um arquivo separado chamado módulo e, então, importar esse módulo em seu programa principal. Uma instrução import diz a Python para deixar o\n",
    "código de um módulo disponível no arquivo de programa em execução no momento.\n",
    "\n",
    "Armazenar suas funções em um arquivo separado permite ocultar os detalhes do código de seu programa e se concentrar na lógica de nível mais alto. Também permite reutilizar funções em muitos programas diferentes. Quando armazenamos funções em arquivos separados, podemos compartilhar esses arquivos com outros programadores sem a necessidade de compartilhar o programa todo. Saber como importar funções também possibilita usar bibliotecas de funções que outros programadores escreveram."
   ]
  },
  {
   "cell_type": "markdown",
   "metadata": {},
   "source": [
    "### 8.5.1. Importando um módulo completo"
   ]
  },
  {
   "cell_type": "markdown",
   "metadata": {},
   "source": [
    "Para começar a importar funções, inicialmente precisamos criar um módulo. Um módulo é um arquivo terminado em .py que contém o código que queremos importar para o nosso programa.\n",
    "\n",
    "Vamos criar um arquivo separado `sanduiche.py` que contém a função `fazer_sanduiche()` e a função `tem_nao` conforme o código abaixo:\n",
    "\n",
    "```\n",
    "def fazer_sanduix(tamanho,*ingredientes):\n",
    "    print('Estamos preparando seu sanduiche...')\n",
    "    print('TAMANHO:',tamanho)\n",
    "    for ingr in ingredientes:\n",
    "        print(' - ',ingr,'foi adicionado...')\n",
    "    print('Seu sanduiche está a caminho')\n",
    "\n",
    "def tem_nao():\n",
    "    print('TEM PÃO VÉIO AQUI NÃO, MALUCO!')\n",
    "```"
   ]
  },
  {
   "cell_type": "code",
   "execution_count": 2,
   "metadata": {},
   "outputs": [
    {
     "name": "stdout",
     "output_type": "stream",
     "text": [
      "Estamos preparando seu sanduiche...\n",
      "TAMANHO: 16\n",
      " -  pao foi adicionado...\n",
      " -  carne foi adicionado...\n",
      " -  salada foi adicionado...\n",
      "Seu sanduiche está a caminho\n"
     ]
    }
   ],
   "source": [
    "import sanduiches #importa o módulo (nome do arquivo)\n",
    "\n",
    "sanduiches.fazer_sanduix(16,'pao','carne','salada') #usa a função (nome do arquivo.nome da função)"
   ]
  },
  {
   "cell_type": "markdown",
   "metadata": {},
   "source": [
    "### 8.5.2. Importando funções específicas"
   ]
  },
  {
   "cell_type": "code",
   "execution_count": 2,
   "metadata": {},
   "outputs": [
    {
     "name": "stdout",
     "output_type": "stream",
     "text": [
      "TEM PÃO VÉIO AQUI NÃO, MALUCO!\n"
     ]
    }
   ],
   "source": [
    "from sanduiches import tem_nao\n",
    "\n",
    "print(tem_nao())"
   ]
  },
  {
   "cell_type": "markdown",
   "metadata": {},
   "source": [
    "### 8.5.3. Usando a palavra reservada as para atribuir um alias a uma função"
   ]
  },
  {
   "cell_type": "markdown",
   "metadata": {},
   "source": [
    "Se o nome de uma função que você importar puder entrar em conflito com um nome existente em seu programa ou se o nome da função for longo, podemos usar um alias único e conciso, que é um nome alternativo, semelhante a um apelido para a função. Dê esse apelido especial à função quando importá-la."
   ]
  },
  {
   "cell_type": "code",
   "execution_count": 1,
   "metadata": {},
   "outputs": [
    {
     "data": {
      "text/plain": [
       "'TEM PÃO VÉIO AQUI NÃO, MALUCO!'"
      ]
     },
     "execution_count": 1,
     "metadata": {},
     "output_type": "execute_result"
    }
   ],
   "source": [
    "from sanduiches import tem_nao as tn\n",
    "\n",
    "tn()"
   ]
  },
  {
   "cell_type": "markdown",
   "metadata": {},
   "source": [
    "### 8.5.4. Usando a palavra reservada as para atribuir um alias a um módulo"
   ]
  },
  {
   "cell_type": "markdown",
   "metadata": {},
   "source": [
    "Também podemos fornecer um alias para um nome de módulo. Dar um alias conciso a um módulo, por exemplo, p para pizza, permite chamar mais rapidamente as funções do módulo."
   ]
  },
  {
   "cell_type": "code",
   "execution_count": 3,
   "metadata": {},
   "outputs": [
    {
     "name": "stdout",
     "output_type": "stream",
     "text": [
      "Estamos preparando seu sanduiche...\n",
      "TAMANHO: grande\n",
      " -  pão foi adicionado...\n",
      " -  salada foi adicionado...\n",
      " -  molho foi adicionado...\n",
      "Seu sanduiche está a caminho\n"
     ]
    }
   ],
   "source": [
    "import sanduiches as sdc\n",
    "\n",
    "sdc.fazer_sanduix('grande','pão','salada','molho')"
   ]
  },
  {
   "cell_type": "markdown",
   "metadata": {},
   "source": [
    "### 8.5.5. Importando todas as funções de um módulo"
   ]
  },
  {
   "cell_type": "code",
   "execution_count": 5,
   "metadata": {},
   "outputs": [
    {
     "name": "stdout",
     "output_type": "stream",
     "text": [
      "Estamos preparando seu sanduiche...\n",
      "TAMANHO: grande\n",
      " -  pão foi adicionado...\n",
      " -  salada foi adicionado...\n",
      " -  molho foi adicionado...\n",
      "Seu sanduiche está a caminho\n"
     ]
    },
    {
     "data": {
      "text/plain": [
       "'TEM PÃO VÉIO AQUI NÃO, MALUCO!'"
      ]
     },
     "execution_count": 5,
     "metadata": {},
     "output_type": "execute_result"
    }
   ],
   "source": [
    "import sanduiches as sdc\n",
    "from sanduiches import*\n",
    "\n",
    "sdc.fazer_sanduix('grande','pão','salada','molho')\n",
    "sdc.tem_nao()"
   ]
  },
  {
   "cell_type": "markdown",
   "metadata": {},
   "source": [
    "8.15 – Impressão de modelos: Coloque as funções do exemplo print_models.py em um arquivo separado de nome printing_functions.py. Escreva uma instrução import no início de print_models.py e modifique o arquivo para usar as funções importadas. "
   ]
  },
  {
   "cell_type": "code",
   "execution_count": 2,
   "metadata": {},
   "outputs": [
    {
     "name": "stdout",
     "output_type": "stream",
     "text": [
      "Entrada: [1, 2, 3, 4, 5] Saída: []\n",
      "Imprimindo os objetos da lista de entrada\n",
      "[5, 4, 3, 2, 1]\n",
      "Entrada: [] Saída [5, 4, 3, 2, 1]\n"
     ]
    }
   ],
   "source": [
    "import impressoes\n",
    "\n",
    "entrada = [1,2,3,4,5]\n",
    "saida = []\n",
    "print('Entrada:',entrada,'Saída:',saida)\n",
    "\n",
    "impressoes.imprimir(entrada,saida)\n",
    "print('Entrada:',entrada,'Saída',saida)"
   ]
  },
  {
   "cell_type": "markdown",
   "metadata": {},
   "source": [
    "8.16 – Importações: Usando um programa que você tenha escrito e que contenha uma única função, armazene essa função em um arquivo separado. Importe a função para o arquivo principal de seu programa e chame-a usando cada uma das seguintes abordagens: import nome_do_módulo from nome_do_módulo import nome_da_função from nome_do_módulo import nome_da_função as nf import nome_do_módulo as nm from nome_do_módulo import*"
   ]
  },
  {
   "cell_type": "code",
   "execution_count": 8,
   "metadata": {},
   "outputs": [
    {
     "name": "stdout",
     "output_type": "stream",
     "text": [
      "Imprimindo os objetos da lista de entrada\n",
      "[5, 4, 3, 2, 1]\n",
      "Imprimindo os objetos da lista de entrada\n",
      "[5, 4, 3, 2, 1]\n",
      "Imprimindo os objetos da lista de entrada\n",
      "[5, 4, 3, 2, 1]\n",
      "Imprimindo os objetos da lista de entrada\n",
      "[5, 4, 3, 2, 1]\n"
     ]
    }
   ],
   "source": [
    "lista_entrada = [1,2,3,4,5]\n",
    "lista_saida = []\n",
    "\n",
    "import impressoes #importando todo o módulo\n",
    "impressoes.imprimir(lista_entrada,lista_saida)\n",
    "\n",
    "import impressoes as i #importando todo o módulo com um apelido\n",
    "i.imprimir(lista_entrada,lista_saida)\n",
    "\n",
    "from impressoes import imprimir #importando apenas uma função\n",
    "imprimir(lista_entrada,lista_saida)\n",
    "\n",
    "from impressoes import imprimir as imp #importando apenas uma função com seu apelido\n",
    "imp(lista_entrada,lista_saida)"
   ]
  },
  {
   "cell_type": "markdown",
   "metadata": {},
   "source": [
    "8.17 – Estilizando funções: Escolha quaisquer três programas que você escreveu neste capítulo e garanta que estejam de acordo com as diretrizes de estilo descritas nesta seção."
   ]
  }
 ],
 "metadata": {
  "kernelspec": {
   "display_name": "Python 3",
   "language": "python",
   "name": "python3"
  },
  "language_info": {
   "codemirror_mode": {
    "name": "ipython",
    "version": 3
   },
   "file_extension": ".py",
   "mimetype": "text/x-python",
   "name": "python",
   "nbconvert_exporter": "python",
   "pygments_lexer": "ipython3",
   "version": "3.10.12"
  }
 },
 "nbformat": 4,
 "nbformat_minor": 2
}
