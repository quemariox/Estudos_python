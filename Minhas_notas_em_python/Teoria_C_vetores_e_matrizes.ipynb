{
  "nbformat": 4,
  "nbformat_minor": 0,
  "metadata": {
    "colab": {
      "private_outputs": true,
      "provenance": [],
      "authorship_tag": "ABX9TyP6w/mvncCQZElPjJTg/k+X",
      "include_colab_link": true
    },
    "kernelspec": {
      "name": "python3",
      "display_name": "Python 3"
    },
    "language_info": {
      "name": "python"
    }
  },
  "cells": [
    {
      "cell_type": "markdown",
      "metadata": {
        "id": "view-in-github",
        "colab_type": "text"
      },
      "source": [
        "<a href=\"https://colab.research.google.com/github/quemariox/Estudos_python/blob/main/Minhas_notas_em_python/Teoria_C_vetores_e_matrizes.ipynb\" target=\"_parent\"><img src=\"https://colab.research.google.com/assets/colab-badge.svg\" alt=\"Open In Colab\"/></a>"
      ]
    },
    {
      "cell_type": "markdown",
      "source": [
        "# 1. Vetores"
      ],
      "metadata": {
        "id": "dn7KHIplBoUL"
      }
    },
    {
      "cell_type": "markdown",
      "source": [
        "## 1.1. Diferentes métodos de construção"
      ],
      "metadata": {
        "id": "EiIrmk0ILjQi"
      }
    },
    {
      "cell_type": "markdown",
      "source": [
        "### 1.1.1. Usando numpy"
      ],
      "metadata": {
        "id": "iISa7zzQOlLX"
      }
    },
    {
      "cell_type": "markdown",
      "source": [
        "O NumPy é uma biblioteca poderosa para computação científica em Python e oferece diversos métodos para manipulação e análise de vetores (arrays). Esses são apenas alguns dos muitos métodos disponíveis no NumPy para trabalhar com vetores. Eles permitem realizar operações complexas de maneira eficiente e são amplamente utilizados em diversos campos, como ciência de dados, aprendizado de máquina e processamento de imagens.\n",
        "\n",
        "#### 1. Criação de Arrays\n",
        "\n",
        "- **`np.array()`**: Cria um array a partir de uma lista ou tupla.\n",
        "  ```python\n",
        "  import numpy as np\n",
        "  vetor = np.array([1, 2, 3, 4, 5])\n",
        "  ```\n",
        "\n",
        "- **`np.zeros()`**: Cria um array de zeros.\n",
        "  ```python\n",
        "  vetor = np.zeros(5)\n",
        "  ```\n",
        "\n",
        "- **`np.ones()`**: Cria um array de uns.\n",
        "  ```python\n",
        "  vetor = np.ones(5)\n",
        "  ```\n",
        "\n",
        "- **`np.arange()`**: Cria um array com valores em um intervalo.\n",
        "  ```python\n",
        "  vetor = np.arange(1, 6)\n",
        "  ```\n",
        "\n",
        "- **`np.linspace()`**: Cria um array com valores espaçados linearmente.\n",
        "  ```python\n",
        "  vetor = np.linspace(0, 1, 5)\n",
        "  ```\n",
        "\n",
        "#### 2. Aritmética de Arrays\n",
        "\n",
        "- **`np.add()`**: Adiciona elementos de dois arrays.\n",
        "  ```python\n",
        "  a = np.array([1, 2, 3])\n",
        "  b = np.array([4, 5, 6])\n",
        "  c = np.add(a, b)\n",
        "  ```\n",
        "\n",
        "- **`np.subtract()`**: Subtrai elementos de dois arrays.\n",
        "  ```python\n",
        "  c = np.subtract(a, b)\n",
        "  ```\n",
        "\n",
        "- **`np.multiply()`**: Multiplica elementos de dois arrays.\n",
        "  ```python\n",
        "  c = np.multiply(a, b)\n",
        "  ```\n",
        "\n",
        "- **`np.divide()`**: Divide elementos de dois arrays.\n",
        "  ```python\n",
        "  c = np.divide(a, b)\n",
        "  ```\n",
        "\n",
        "#### 3. Estatísticas\n",
        "\n",
        "- **`np.mean()`**: Calcula a média dos elementos do array.\n",
        "  ```python\n",
        "  media = np.mean(vetor)\n",
        "  ```\n",
        "\n",
        "- **`np.median()`**: Calcula a mediana dos elementos do array.\n",
        "  ```python\n",
        "  mediana = np.median(vetor)\n",
        "  ```\n",
        "\n",
        "- **`np.std()`**: Calcula o desvio padrão dos elementos do array.\n",
        "  ```python\n",
        "  desvio_padrao = np.std(vetor)\n",
        "  ```\n",
        "\n",
        "- **`np.sum()`**: Calcula a soma dos elementos do array.\n",
        "  ```python\n",
        "  soma = np.sum(vetor)\n",
        "  ```\n",
        "\n",
        "- **`np.min()`**: Encontra o valor mínimo do array.\n",
        "  ```python\n",
        "  valor_minimo = np.min(vetor)\n",
        "  ```\n",
        "\n",
        "- **`np.max()`**: Encontra o valor máximo do array.\n",
        "  ```python\n",
        "  valor_maximo = np.max(vetor)\n",
        "  ```\n",
        "\n",
        "#### 4. Manipulação de Arrays\n",
        "\n",
        "- **`np.reshape()`**: Redimensiona o array sem alterar os dados.\n",
        "  ```python\n",
        "  matriz = np.arange(1, 10).reshape(3, 3)\n",
        "  ```\n",
        "\n",
        "- **`np.transpose()`**: Transpõe o array.\n",
        "  ```python\n",
        "  matriz_transposta = matriz.transpose()\n",
        "  ```\n",
        "\n",
        "- **`np.concatenate()`**: Concatena dois ou mais arrays.\n",
        "  ```python\n",
        "  vetor_concatenado = np.concatenate((a, b))\n",
        "  ```\n",
        "\n",
        "- **`np.split()`**: Divide o array em vários sub-arrays.\n",
        "  ```python\n",
        "  sub_arrays = np.split(vetor, 5)\n",
        "  ```\n",
        "\n",
        "#### 5. Indexação e Fatiamento\n",
        "\n",
        "- **Indexação**: Acessa elementos específicos do array.\n",
        "  ```python\n",
        "  elemento = vetor[2]  # Acessa o terceiro elemento\n",
        "  ```\n",
        "\n",
        "- **Fatiamento**: Acessa uma subseção do array.\n",
        "  ```python\n",
        "  sub_vetor = vetor[1:4]  # Acessa do segundo ao quarto elemento\n",
        "  ```\n",
        "\n",
        "#### 6. Métodos Lógicos e Condicionais\n",
        "\n",
        "- **`np.where()`**: Retorna os índices onde a condição é verdadeira.\n",
        "  ```python\n",
        "  indices = np.where(vetor > 2)\n",
        "  ```\n",
        "\n",
        "- **`np.any()`**: Verifica se algum dos elementos do array é verdadeiro.\n",
        "  ```python\n",
        "  algum_verdadeiro = np.any(vetor > 2)\n",
        "  ```\n",
        "\n",
        "- **`np.all()`**: Verifica se todos os elementos do array são verdadeiros.\n",
        "  ```python\n",
        "  todos_verdadeiros = np.all(vetor > 0)\n",
        "  ```"
      ],
      "metadata": {
        "id": "ZnJ-eLFAPePF"
      }
    },
    {
      "cell_type": "markdown",
      "source": [
        "### 1.1.2. Sem bibliotecas"
      ],
      "metadata": {
        "id": "hQ9880MJOCp5"
      }
    },
    {
      "cell_type": "code",
      "source": [
        "#inserindo diretamente os valores\n",
        "vec_1 = [1,2,3]\n",
        "print(vec_1)\n",
        "\n",
        "#usando list comprehension\n",
        "vec_2 = [2*i for i in range(1,5)]\n",
        "print(vec_2)\n",
        "\n",
        "#usando append\n",
        "vec_3 = []\n",
        "for i in range(4):\n",
        "  vec_3.append(i)\n",
        "print(vec_3)\n",
        "\n",
        "#usando extend\n",
        "vec_4 = []\n",
        "vec_4.extend(i for i in range(3))\n",
        "print(vec_4)"
      ],
      "metadata": {
        "id": "moQYRhjuLl3Q"
      },
      "execution_count": null,
      "outputs": []
    },
    {
      "cell_type": "code",
      "source": [
        "import numpy as np\n",
        "\n",
        "vetor = np.array([1, 2, 3, 4, 5])\n",
        "print(vetor)\n"
      ],
      "metadata": {
        "id": "URygqqb8Oquh"
      },
      "execution_count": null,
      "outputs": []
    },
    {
      "cell_type": "markdown",
      "source": [
        "## 1.2. Soma de dois vetores"
      ],
      "metadata": {
        "id": "paxOIB_rZyPI"
      }
    },
    {
      "cell_type": "code",
      "source": [
        "def soma_vec(vec_a: list,vec_b: list):\n",
        "  if len(vec_a) == len(vec_b):\n",
        "    dim = len(vec_a)\n",
        "    vetor_soma = [vec_a[i] + vec_b[i] for i in range(dim)]\n",
        "\n",
        "  elif len(vec_a) > len(vec_b):\n",
        "    dim = len(vec_a)\n",
        "    for j in range (len(vec_b), len(vec_a)):\n",
        "      vec_b.append(0)\n",
        "    vetor_soma = [vec_a[i] + vec_b[i] for i in range(dim)]\n",
        "\n",
        "  elif len(vec_b) > len(vec_a):\n",
        "    dim = len(vec_b)\n",
        "    for k in range (len(vec_a), len(vec_b)):\n",
        "      vec_a.append(0)\n",
        "    vetor_soma = [vec_a[i] + vec_b[i] for i in range(dim)]\n",
        "\n",
        "  return vetor_soma\n",
        "\n",
        "print(soma_vec([1,2],[3,4,2,3,4]))\n",
        ""
      ],
      "metadata": {
        "id": "f_xlBph3RxG4"
      },
      "execution_count": null,
      "outputs": []
    },
    {
      "cell_type": "markdown",
      "source": [
        "## 1.3. Diferença de dois vetores"
      ],
      "metadata": {
        "id": "WeHD_svMZ4wR"
      }
    },
    {
      "cell_type": "code",
      "source": [
        "def dif_vec(vec_a: list,vec_b: list):\n",
        "  if len(vec_a) == len(vec_b):\n",
        "    dim = len(vec_a)\n",
        "    vetor_diferenca = [vec_a[i] - vec_b[i] for i in range(dim)]\n",
        "\n",
        "  elif len(vec_a) > len(vec_b):\n",
        "    dim = len(vec_a)\n",
        "    for j in range (len(vec_b), len(vec_a)):\n",
        "      vec_b.append(0)\n",
        "    vetor_diferenca = [vec_a[i] - vec_b[i] for i in range(dim)]\n",
        "\n",
        "  elif len(vec_b) > len(vec_a):\n",
        "    dim = len(vec_b)\n",
        "    for k in range (len(vec_a), len(vec_b)):\n",
        "      vec_a.append(0)\n",
        "    vetor_diferenca = [vec_a[i] - vec_b[i] for i in range(dim)]\n",
        "\n",
        "  return vetor_diferenca\n",
        "\n",
        "print(dif_vec([1,2],[3,4,2,3,4]))\n",
        ""
      ],
      "metadata": {
        "id": "UMwsafihYXau"
      },
      "execution_count": null,
      "outputs": []
    },
    {
      "cell_type": "markdown",
      "source": [
        "## 1.4. Múltiplicação por escalar"
      ],
      "metadata": {
        "id": "LgPKtmkzbYN1"
      }
    },
    {
      "cell_type": "code",
      "source": [
        "def mult_esc(num: float, vec: list):\n",
        "  dim = (len(vec))\n",
        "  vetor_mult = [num*vec[i] for i in range(dim)]\n",
        "\n",
        "  return vetor_mult\n",
        "\n",
        "print(mult_esc(-2,[1,2,3]))"
      ],
      "metadata": {
        "id": "wHJlm1q4be2D"
      },
      "execution_count": null,
      "outputs": []
    },
    {
      "cell_type": "markdown",
      "source": [
        "## 1.5. Produto interno"
      ],
      "metadata": {
        "id": "KUbbXpVQbjkX"
      }
    },
    {
      "cell_type": "code",
      "source": [
        "def inner_prod(vec_a: list, vec_b: list):\n",
        "  escalar_prod = 0\n",
        "  if len(vec_a) == len(vec_b):\n",
        "    dim = len(vec_a)\n",
        "    for i in range(dim):\n",
        "      escalar_prod += vec_a[i]*vec_b[i]\n",
        "\n",
        "  elif len(vec_a) > len(vec_b):\n",
        "    dim = len(vec_a)\n",
        "    for i in range (len(vec_b), len(vec_a)):\n",
        "      vec_b.append(0)\n",
        "    for i in range(dim):\n",
        "      escalar_prod += vec_a[i]*vec_b[i]\n",
        "\n",
        "  elif len(vec_b) > len(vec_a):\n",
        "    dim = len(vec_b)\n",
        "    for k in range (len(vec_a), len(vec_b)):\n",
        "      vec_a.append(0)\n",
        "    for i in range(dim):\n",
        "      escalar_prod += vec_a[i]*vec_b[i]\n",
        "\n",
        "  return escalar_prod\n",
        "\n",
        "print(inner_prod([1,2,3],[3,2,1]))"
      ],
      "metadata": {
        "id": "-HLfjlePbsrU"
      },
      "execution_count": null,
      "outputs": []
    },
    {
      "cell_type": "markdown",
      "source": [
        "## 1.6. Norma"
      ],
      "metadata": {
        "id": "SDznoocf-QZw"
      }
    },
    {
      "cell_type": "code",
      "source": [
        "import numpy as np\n",
        "\n",
        "def norm(vec: list):\n",
        "  modulo_quad = 0\n",
        "  for i in range(len(vec)):\n",
        "    modulo_quad += vec[i]*vec[i]\n",
        "\n",
        "  return np.sqrt(modulo_quad)\n",
        "\n",
        "print(norm([1,1,1]))"
      ],
      "metadata": {
        "id": "0GTREKar-RvH"
      },
      "execution_count": null,
      "outputs": []
    },
    {
      "cell_type": "markdown",
      "source": [
        "## 1.7. Produto vetorial"
      ],
      "metadata": {
        "id": "nE9Ze3oEbou8"
      }
    },
    {
      "cell_type": "code",
      "source": [
        "def ext_prod(vec_a: list, vec_b: list):\n",
        "  vetor_prod = [None]*3\n",
        "  vetor_prod[0] = vec_a[1]*vec_b[2] - vec_a[2]*vec_b[1]\n",
        "  vetor_prod[1] = vec_a[2]*vec_b[1] - vec_a[1]*vec_b[2]\n",
        "  vetor_prod[2] = vec_a[0]*vec_b[1] - vec_a[1]*vec_b[0]\n",
        "\n",
        "  return vetor_prod\n",
        "\n",
        "print(ext_prod([1,0,0],[0,1,0]))"
      ],
      "metadata": {
        "id": "UocHE0b1btUL"
      },
      "execution_count": null,
      "outputs": []
    },
    {
      "cell_type": "markdown",
      "source": [
        "# 2. Matrizes"
      ],
      "metadata": {
        "id": "9lAMbGPKB-Zm"
      }
    },
    {
      "cell_type": "markdown",
      "source": [
        "## 2.1. Diferentes métodos de construção"
      ],
      "metadata": {
        "id": "kA-7tuyBCFmt"
      }
    },
    {
      "cell_type": "markdown",
      "source": [
        "### 2.1.1. Usando numpy"
      ],
      "metadata": {
        "id": "pqGOBOzC7hzp"
      }
    },
    {
      "cell_type": "markdown",
      "source": [
        "#### 1. Matrizes com NumPy\n",
        "\n",
        "NumPy é uma biblioteca poderosa para computação numérica em Python, especialmente útil para trabalhar com arrays multidimensionais, incluindo matrizes. Ela oferece funcionalidades avançadas e eficientes para criação, manipulação e operações sobre matrizes.\n",
        "\n",
        "NumPy facilita significativamente o trabalho com matrizes e operações matemáticas avançadas, tornando-o essencial para tarefas de ciência de dados, aprendizado de máquina e outras aplicações científicas e de engenharia.\n",
        "\n",
        "#### 2. Instalação do NumPy\n",
        "\n",
        "Para usar NumPy, você precisa instalar a biblioteca. Isso pode ser feito usando o `pip`:\n",
        "\n",
        "```bash\n",
        "pip install numpy\n",
        "```\n",
        "\n",
        "#### 3. Criando Matrizes com NumPy\n",
        "\n",
        "##### Importando NumPy\n",
        "\n",
        "```python\n",
        "import numpy as np\n",
        "```\n",
        "\n",
        "##### Criando uma Matriz 3x3\n",
        "\n",
        "```python\n",
        "# Criando uma matriz 3x3 com valores específicos\n",
        "matriz = np.array([[1, 2, 3], [4, 5, 6], [7, 8, 9]])\n",
        "print(matriz)\n",
        "```\n",
        "\n",
        "##### Matriz de Zeros\n",
        "\n",
        "```python\n",
        "# Criando uma matriz 3x3 inicializada com zeros\n",
        "matriz_zeros = np.zeros((3, 3))\n",
        "print(matriz_zeros)\n",
        "```\n",
        "\n",
        "##### Matriz de Uns\n",
        "\n",
        "```python\n",
        "# Criando uma matriz 3x3 inicializada com uns\n",
        "matriz_uns = np.ones((3, 3))\n",
        "print(matriz_uns)\n",
        "```\n",
        "\n",
        "##### Matriz de Valores Aleatórios\n",
        "\n",
        "```python\n",
        "# Criando uma matriz 3x3 com valores aleatórios\n",
        "matriz_aleatoria = np.random.rand(3, 3)\n",
        "print(matriz_aleatoria)\n",
        "```\n",
        "\n",
        "#### 4. Operações com Matrizes\n",
        "\n",
        "##### Soma de Matrizes\n",
        "\n",
        "```python\n",
        "# Criando duas matrizes 3x3\n",
        "matriz_a = np.array([[1, 2, 3], [4, 5, 6], [7, 8, 9]])\n",
        "matriz_b = np.array([[9, 8, 7], [6, 5, 4], [3, 2, 1]])\n",
        "\n",
        "# Somando as matrizes\n",
        "matriz_soma = matriz_a + matriz_b\n",
        "print(matriz_soma)\n",
        "```\n",
        "\n",
        "##### Produto Elemento a Elemento\n",
        "\n",
        "```python\n",
        "# Produto elemento a elemento\n",
        "matriz_produto = matriz_a * matriz_b\n",
        "print(matriz_produto)\n",
        "```\n",
        "\n",
        "##### Produto de Matrizes (Produto Escalar)\n",
        "\n",
        "```python\n",
        "# Produto escalar de matrizes\n",
        "matriz_produto_escalar = np.dot(matriz_a, matriz_b)\n",
        "print(matriz_produto_escalar)\n",
        "```\n",
        "\n",
        "##### Transposta da Matriz\n",
        "\n",
        "```python\n",
        "# Transposta da matriz\n",
        "matriz_transposta = np.transpose(matriz_a)\n",
        "print(matriz_transposta)\n",
        "```\n",
        "\n",
        "#### 5. Funções e Métodos Úteis\n",
        "\n",
        "##### Determinante\n",
        "\n",
        "```python\n",
        "# Determinante da matriz\n",
        "determinante = np.linalg.det(matriz)\n",
        "print(determinante)\n",
        "```\n",
        "\n",
        "##### Inversa\n",
        "\n",
        "```python\n",
        "# Inversa da matriz\n",
        "matriz_inversa = np.linalg.inv(matriz)\n",
        "print(matriz_inversa)\n",
        "```\n",
        "\n",
        "##### Resolução de Sistema Linear\n",
        "\n",
        "```python\n",
        "# Resolvendo um sistema linear Ax = B\n",
        "A = np.array([[3, 1], [1, 2]])\n",
        "B = np.array([9, 8])\n",
        "x = np.linalg.solve(A, B)\n",
        "print(x)\n",
        "```\n",
        "\n",
        "#### 6. Exemplos Completos\n",
        "\n",
        "##### Exemplo 1: Criação e Operações Básicas\n",
        "\n",
        "```python\n",
        "import numpy as np\n",
        "\n",
        "# Criando uma matriz 3x3 com valores específicos\n",
        "matriz = np.array([[1, 2, 3], [4, 5, 6], [7, 8, 9]])\n",
        "print(\"Matriz original:\")\n",
        "print(matriz)\n",
        "\n",
        "# Transposta da matriz\n",
        "print(\"Transposta da matriz:\")\n",
        "print(matriz.T)\n",
        "\n",
        "# Determinante da matriz\n",
        "print(\"Determinante da matriz:\")\n",
        "print(np.linalg.det(matriz))\n",
        "\n",
        "# Inversa da matriz (somente possível para matrizes quadradas não singulares)\n",
        "try:\n",
        "    print(\"Inversa da matriz:\")\n",
        "    print(np.linalg.inv(matriz))\n",
        "except np.linalg.LinAlgError:\n",
        "    print(\"A matriz não é invertível\")\n",
        "```\n",
        "\n",
        "##### Exemplo 2: Resolução de Sistema Linear\n",
        "\n",
        "```python\n",
        "import numpy as np\n",
        "\n",
        "# Coeficientes do sistema (matriz A)\n",
        "A = np.array([[3, 1], [1, 2]])\n",
        "\n",
        "# Termos independentes (vetor B)\n",
        "B = np.array([9, 8])\n",
        "\n",
        "# Resolvendo o sistema linear Ax = B\n",
        "x = np.linalg.solve(A, B)\n",
        "print(\"Solução do sistema Ax = B:\")\n",
        "print(x)\n",
        "```"
      ],
      "metadata": {
        "id": "rSdXmIl98MN1"
      }
    },
    {
      "cell_type": "markdown",
      "source": [
        "### 2.1.2. Sem usar bibliotecas"
      ],
      "metadata": {
        "id": "98QrVLT07mPL"
      }
    },
    {
      "cell_type": "code",
      "source": [
        "# Criando uma matriz 3x3 com valores iniciais\n",
        "matriz = [\n",
        "    [1, 2, 3],\n",
        "    [4, 5, 6],\n",
        "    [7, 8, 9]\n",
        "]\n",
        "\n",
        "# Acessando elementos da matriz\n",
        "print(matriz[0][0])  # Saída: 1\n",
        "print(matriz[1][1])  # Saída: 5\n",
        "print(matriz[2][2])  # Saída: 9\n",
        "print(matriz)"
      ],
      "metadata": {
        "id": "ZXL8egj6CHsF"
      },
      "execution_count": null,
      "outputs": []
    },
    {
      "cell_type": "code",
      "source": [
        "# Criando uma matriz 3x3 inicializada com zeros\n",
        "matriz = [[0 for _ in range(3)] for _ in range(3)]\n",
        "\n",
        "# Imprimindo a matriz\n",
        "for linha in matriz:\n",
        "    print(linha)\n",
        "\n",
        "# Preenchendo a matriz com valores\n",
        "valor = 1\n",
        "for i in range(3):\n",
        "    for j in range(3):\n",
        "        matriz[i][j] = valor\n",
        "        valor += 1\n",
        "\n",
        "# Imprimindo a matriz\n",
        "for linha in matriz:\n",
        "    print(linha)"
      ],
      "metadata": {
        "id": "-rWY63CDQNkB"
      },
      "execution_count": null,
      "outputs": []
    },
    {
      "cell_type": "code",
      "source": [
        "# Criando matriz por uma relação entre os índices\n",
        "matriz = []\n",
        "for i in range(2):\n",
        "  linha = []\n",
        "  for j in range(2):\n",
        "    elemento = i + j\n",
        "    linha.append(elemento)\n",
        "  matriz.append(linha)\n",
        "\n",
        "for linha in matriz:\n",
        "  print(linha)"
      ],
      "metadata": {
        "id": "uhnb0ktIQfOD"
      },
      "execution_count": null,
      "outputs": []
    },
    {
      "cell_type": "markdown",
      "source": [
        "## 2.2. Soma de matrizes"
      ],
      "metadata": {
        "id": "dSdIspUXRI7e"
      }
    },
    {
      "cell_type": "code",
      "source": [
        "matriz_1 = [[1,2,3],[4,5,6],[7,8,9]]\n",
        "matriz_2 = [[9,8,7],[6,5,4],[3,2,1]]\n",
        "\n",
        "def sum_matrix(matr_a: list, matr_b: list):\n",
        "  matriz_soma = []\n",
        "  for i in range(3):\n",
        "    linha = []\n",
        "    for j in range(3):\n",
        "      elemento = matr_a[i][j] + matr_b[i][j]\n",
        "      linha.append(elemento)\n",
        "    matriz_soma.append(linha)\n",
        "\n",
        "  return matriz_soma\n",
        "\n",
        "print('matriz soma: \\n')\n",
        "print(sum_matrix(matriz_1, matriz_2))"
      ],
      "metadata": {
        "id": "QcD33znnRVCN"
      },
      "execution_count": null,
      "outputs": []
    },
    {
      "cell_type": "markdown",
      "source": [
        "## 2.3. Diferença de matrizes"
      ],
      "metadata": {
        "id": "3VXRrI01CQkE"
      }
    },
    {
      "cell_type": "code",
      "source": [
        "matriz_1 = [[1,2,3],[4,5,6],[7,8,9]]\n",
        "matriz_2 = [[9,8,7],[6,5,4],[3,2,1]]\n",
        "\n",
        "def dif_matrix(matr_a: list, matr_b: list):\n",
        "  matriz_diferenca = []\n",
        "  for i in range(3):\n",
        "    linha = []\n",
        "    for j in range(3):\n",
        "      elemento = matr_a[i][j] - matr_b[i][j]\n",
        "      linha.append(elemento)\n",
        "    matriz_diferenca.append(linha)\n",
        "\n",
        "  return matriz_diferenca\n",
        "\n",
        "print(dif_matrix(matriz_1, matriz_2))"
      ],
      "metadata": {
        "id": "CO654tzo7cUA"
      },
      "execution_count": null,
      "outputs": []
    },
    {
      "cell_type": "markdown",
      "source": [
        "## 2.4. Multiplicação por escalar"
      ],
      "metadata": {
        "id": "gfivRfBPUUtv"
      }
    },
    {
      "cell_type": "code",
      "source": [
        "matriz_1 = [[1,2,3],[4,5,6],[7,8,9]]\n",
        "\n",
        "def mult_esc_matrix(num: int, matr: list):\n",
        "  matriz_redim = []\n",
        "  for i in range(3):\n",
        "    linha = []\n",
        "    for j in range(3):\n",
        "      elemento = 3*matr[i][j]\n",
        "      linha.append(elemento)\n",
        "    matriz_redim.append(linha)\n",
        "\n",
        "  return matriz_redim\n",
        "\n",
        "print(mult_esc_matrix(3, matriz_1))"
      ],
      "metadata": {
        "id": "mDDBCu2NUZMp"
      },
      "execution_count": null,
      "outputs": []
    },
    {
      "cell_type": "markdown",
      "source": [
        "## 2.5. Produto (termo a termo)"
      ],
      "metadata": {
        "id": "3Jdx8B1ADlJz"
      }
    },
    {
      "cell_type": "code",
      "source": [
        "matriz_1 = [[1,2,3],[4,5,6],[7,8,9]]\n",
        "matriz_2 = [[9,8,7],[6,5,4],[3,2,1]]\n",
        "\n",
        "def prod_tat(matr_a: list, matr_b: list):\n",
        "  matriz_prod_tat = []\n",
        "  for i in range(3):\n",
        "    linha = []\n",
        "    for j in range(3):\n",
        "      elemento = matr_a[i][j] * matr_b[i][j]\n",
        "      linha.append(elemento)\n",
        "    matriz_prod_tat.append(linha)\n",
        "\n",
        "  return matriz_prod_tat\n",
        "\n",
        "print(prod_tat(matriz_1, matriz_2))"
      ],
      "metadata": {
        "id": "4dmKbNtnDpkt"
      },
      "execution_count": null,
      "outputs": []
    },
    {
      "cell_type": "markdown",
      "source": [
        "## 2.6. Produto (matricial)"
      ],
      "metadata": {
        "id": "WrY7dVLYFTBO"
      }
    },
    {
      "cell_type": "code",
      "source": [
        "matriz_1 = [[1,2,3],[4,5,6],[7,8,9]]\n",
        "matriz_2 = [[9,8,7],[6,5,4],[3,2,1]]\n",
        "\n",
        "def prod_matrix(matr_a: list, matr_b: list):\n",
        "  matriz_produto = [[0 for _ in range(3)] for _ in range(3)] #inicia a matriz produto com zeros\n",
        "  for i in range(3):\n",
        "    linha_a = matr_a[i] #vetor com a linha [i] da matriz A\n",
        "    for j in range(3):\n",
        "      coluna_b = [linha[j] for linha in matr_b] #vetor com a coluna [j] da matriz B\n",
        "      produto_escalar = 0\n",
        "      for k in range(3):\n",
        "        produto_escalar += linha_a[k]*coluna_b[k] #calcula o produto escalar\n",
        "      matriz_produto[i][j] = produto_escalar #armazena o resultado na matriz produto\n",
        "\n",
        "  return matriz_produto\n",
        "\n",
        "print(prod_matrix(matriz_1, matriz_2))"
      ],
      "metadata": {
        "id": "FTk9ama-FYW2"
      },
      "execution_count": null,
      "outputs": []
    },
    {
      "cell_type": "markdown",
      "source": [
        "# 3. Aplicações em manipulação de arquivos"
      ],
      "metadata": {
        "id": "mWJreh4wWuWj"
      }
    },
    {
      "cell_type": "code",
      "source": [
        "%%writefile banco.csv\n",
        "age,job,marital,education,default,balance,housing,loan\n",
        "30,unemployed,married,primary,no,1787,no,no\n",
        "33,services,married,secondary,no,4789,yes,yes\n",
        "35,management,single,tertiary,no,1350,yes,no\n",
        "30,management,married,tertiary,no,1476,yes,yes\n",
        "59,blue-collar,married,secondary,no,0,yes,no\n",
        "35,management,single,tertiary,no,747,no,no\n",
        "36,self-employed,married,tertiary,no,307,yes,no\n",
        "39,technician,married,secondary,no,147,yes,no\n",
        "41,entrepreneur,married,tertiary,no,221,yes,no\n",
        "43,services,married,primary,no,-88,yes,yes"
      ],
      "metadata": {
        "id": "nxFgXD6gXnjR"
      },
      "execution_count": null,
      "outputs": []
    },
    {
      "cell_type": "markdown",
      "source": [
        "## 3.1. Lendo arquivo"
      ],
      "metadata": {
        "id": "Yqks2Lqoi2YZ"
      }
    },
    {
      "cell_type": "code",
      "source": [
        "# Abrindo e lendo um arquivo\n",
        "def leitura(nome_arq : str):\n",
        "  with open(file = nome_arq, mode = 'r', encoding = 'utf-8') as arquivo:\n",
        "    # Lê o cabeçalho\n",
        "    cabecalho = arquivo.readline().strip().split(',')\n",
        "    print(cabecalho)\n",
        "\n",
        "    arq_vec = []\n",
        "\n",
        "    # Lê as linhas restantes do arquivo\n",
        "    linha = arquivo.readline().strip()\n",
        "    while linha:\n",
        "      arq_vec.append(linha.split(','))\n",
        "      linha = arquivo.readline().strip()\n",
        "  return arq_vec\n",
        "\n",
        "leitura('banco.csv')\n"
      ],
      "metadata": {
        "id": "Sv8oEe23XqR2"
      },
      "execution_count": null,
      "outputs": []
    },
    {
      "cell_type": "markdown",
      "source": [
        "## 3.2. Extraindo linha"
      ],
      "metadata": {
        "id": "11HM0Gc_i9QA"
      }
    },
    {
      "cell_type": "code",
      "source": [
        "def leitura_linha(nome_arq: str, num_linha: int):\n",
        "  with open(file = nome_arq, mode = 'r', encoding = 'utf-8' ) as arquivo:\n",
        "\n",
        "    # Lê cabeçalho\n",
        "    cabecalho = arquivo.readline().strip().split(',')\n",
        "\n",
        "    # Lê as linhas restantes do arquivo\n",
        "    linha = arquivo.readline().strip()\n",
        "\n",
        "    for i in range(0, num_linha - 1):\n",
        "      linha_vec = arquivo.readline().strip().split(',')\n",
        "\n",
        "  return linha_vec\n",
        "\n",
        "print(leitura_linha('banco.csv', 3))"
      ],
      "metadata": {
        "id": "84nkthx3ivlW"
      },
      "execution_count": null,
      "outputs": []
    },
    {
      "cell_type": "markdown",
      "source": [
        "## 3.3. Extraindo coluna"
      ],
      "metadata": {
        "id": "jufing6Mn6aA"
      }
    },
    {
      "cell_type": "code",
      "source": [
        "def leitura_coluna(nome_arq: str, num_coluna: int):\n",
        "  with open(file = nome_arq, mode = 'r', encoding = 'utf-8') as arquivo:\n",
        "\n",
        "    # Lê cabeçalho\n",
        "    cabecalho = arquivo.readline().strip().split(',')\n",
        "\n",
        "    # Lê o restante do documento\n",
        "    coluna_vec = []\n",
        "    linha = arquivo.readline().strip()\n",
        "\n",
        "    while linha:\n",
        "      linha_vec = linha.split(',')\n",
        "      if len(linha_vec) > num_coluna:\n",
        "        coluna_vec.append(linha_vec[num_coluna])\n",
        "\n",
        "      linha = arquivo.readline().strip()\n",
        "\n",
        "  return coluna_vec\n",
        "\n",
        "print(leitura_coluna('banco.csv', 7))"
      ],
      "metadata": {
        "id": "7zLlQF9dn9e1"
      },
      "execution_count": null,
      "outputs": []
    }
  ]
}