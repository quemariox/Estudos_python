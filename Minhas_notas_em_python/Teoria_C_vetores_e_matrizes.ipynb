{
  "nbformat": 4,
  "nbformat_minor": 0,
  "metadata": {
    "colab": {
      "private_outputs": true,
      "provenance": [],
      "authorship_tag": "ABX9TyPIbpzM7ojzJOmR1lb3wINc",
      "include_colab_link": true
    },
    "kernelspec": {
      "name": "python3",
      "display_name": "Python 3"
    },
    "language_info": {
      "name": "python"
    }
  },
  "cells": [
    {
      "cell_type": "markdown",
      "metadata": {
        "id": "view-in-github",
        "colab_type": "text"
      },
      "source": [
        "<a href=\"https://colab.research.google.com/github/quemariox/Estudos_python/blob/main/Minhas_notas_em_python/Teoria_C_vetores_e_matrizes.ipynb\" target=\"_parent\"><img src=\"https://colab.research.google.com/assets/colab-badge.svg\" alt=\"Open In Colab\"/></a>"
      ]
    },
    {
      "cell_type": "markdown",
      "source": [
        "# 1. Vetores"
      ],
      "metadata": {
        "id": "dn7KHIplBoUL"
      }
    },
    {
      "cell_type": "markdown",
      "source": [
        "## 1.1. Diferentes métodos de construção"
      ],
      "metadata": {
        "id": "EiIrmk0ILjQi"
      }
    },
    {
      "cell_type": "markdown",
      "source": [
        "### 1.1.1. Usando numpy"
      ],
      "metadata": {
        "id": "iISa7zzQOlLX"
      }
    },
    {
      "cell_type": "markdown",
      "source": [
        "O NumPy é uma biblioteca poderosa para computação científica em Python e oferece diversos métodos para manipulação e análise de vetores (arrays). Esses são apenas alguns dos muitos métodos disponíveis no NumPy para trabalhar com vetores. Eles permitem realizar operações complexas de maneira eficiente e são amplamente utilizados em diversos campos, como ciência de dados, aprendizado de máquina e processamento de imagens.\n",
        "\n",
        "#### 1. Criação de Arrays\n",
        "\n",
        "- **`np.array()`**: Cria um array a partir de uma lista ou tupla.\n",
        "  ```python\n",
        "  import numpy as np\n",
        "  vetor = np.array([1, 2, 3, 4, 5])\n",
        "  ```\n",
        "\n",
        "- **`np.zeros()`**: Cria um array de zeros.\n",
        "  ```python\n",
        "  vetor = np.zeros(5)\n",
        "  ```\n",
        "\n",
        "- **`np.ones()`**: Cria um array de uns.\n",
        "  ```python\n",
        "  vetor = np.ones(5)\n",
        "  ```\n",
        "\n",
        "- **`np.arange()`**: Cria um array com valores em um intervalo.\n",
        "  ```python\n",
        "  vetor = np.arange(1, 6)\n",
        "  ```\n",
        "\n",
        "- **`np.linspace()`**: Cria um array com valores espaçados linearmente.\n",
        "  ```python\n",
        "  vetor = np.linspace(0, 1, 5)\n",
        "  ```\n",
        "\n",
        "#### 2. Aritmética de Arrays\n",
        "\n",
        "- **`np.add()`**: Adiciona elementos de dois arrays.\n",
        "  ```python\n",
        "  a = np.array([1, 2, 3])\n",
        "  b = np.array([4, 5, 6])\n",
        "  c = np.add(a, b)\n",
        "  ```\n",
        "\n",
        "- **`np.subtract()`**: Subtrai elementos de dois arrays.\n",
        "  ```python\n",
        "  c = np.subtract(a, b)\n",
        "  ```\n",
        "\n",
        "- **`np.multiply()`**: Multiplica elementos de dois arrays.\n",
        "  ```python\n",
        "  c = np.multiply(a, b)\n",
        "  ```\n",
        "\n",
        "- **`np.divide()`**: Divide elementos de dois arrays.\n",
        "  ```python\n",
        "  c = np.divide(a, b)\n",
        "  ```\n",
        "\n",
        "#### 3. Estatísticas\n",
        "\n",
        "- **`np.mean()`**: Calcula a média dos elementos do array.\n",
        "  ```python\n",
        "  media = np.mean(vetor)\n",
        "  ```\n",
        "\n",
        "- **`np.median()`**: Calcula a mediana dos elementos do array.\n",
        "  ```python\n",
        "  mediana = np.median(vetor)\n",
        "  ```\n",
        "\n",
        "- **`np.std()`**: Calcula o desvio padrão dos elementos do array.\n",
        "  ```python\n",
        "  desvio_padrao = np.std(vetor)\n",
        "  ```\n",
        "\n",
        "- **`np.sum()`**: Calcula a soma dos elementos do array.\n",
        "  ```python\n",
        "  soma = np.sum(vetor)\n",
        "  ```\n",
        "\n",
        "- **`np.min()`**: Encontra o valor mínimo do array.\n",
        "  ```python\n",
        "  valor_minimo = np.min(vetor)\n",
        "  ```\n",
        "\n",
        "- **`np.max()`**: Encontra o valor máximo do array.\n",
        "  ```python\n",
        "  valor_maximo = np.max(vetor)\n",
        "  ```\n",
        "\n",
        "#### 4. Manipulação de Arrays\n",
        "\n",
        "- **`np.reshape()`**: Redimensiona o array sem alterar os dados.\n",
        "  ```python\n",
        "  matriz = np.arange(1, 10).reshape(3, 3)\n",
        "  ```\n",
        "\n",
        "- **`np.transpose()`**: Transpõe o array.\n",
        "  ```python\n",
        "  matriz_transposta = matriz.transpose()\n",
        "  ```\n",
        "\n",
        "- **`np.concatenate()`**: Concatena dois ou mais arrays.\n",
        "  ```python\n",
        "  vetor_concatenado = np.concatenate((a, b))\n",
        "  ```\n",
        "\n",
        "- **`np.split()`**: Divide o array em vários sub-arrays.\n",
        "  ```python\n",
        "  sub_arrays = np.split(vetor, 5)\n",
        "  ```\n",
        "\n",
        "#### 5. Indexação e Fatiamento\n",
        "\n",
        "- **Indexação**: Acessa elementos específicos do array.\n",
        "  ```python\n",
        "  elemento = vetor[2]  # Acessa o terceiro elemento\n",
        "  ```\n",
        "\n",
        "- **Fatiamento**: Acessa uma subseção do array.\n",
        "  ```python\n",
        "  sub_vetor = vetor[1:4]  # Acessa do segundo ao quarto elemento\n",
        "  ```\n",
        "\n",
        "#### 6. Métodos Lógicos e Condicionais\n",
        "\n",
        "- **`np.where()`**: Retorna os índices onde a condição é verdadeira.\n",
        "  ```python\n",
        "  indices = np.where(vetor > 2)\n",
        "  ```\n",
        "\n",
        "- **`np.any()`**: Verifica se algum dos elementos do array é verdadeiro.\n",
        "  ```python\n",
        "  algum_verdadeiro = np.any(vetor > 2)\n",
        "  ```\n",
        "\n",
        "- **`np.all()`**: Verifica se todos os elementos do array são verdadeiros.\n",
        "  ```python\n",
        "  todos_verdadeiros = np.all(vetor > 0)\n",
        "  ```"
      ],
      "metadata": {
        "id": "ZnJ-eLFAPePF"
      }
    },
    {
      "cell_type": "markdown",
      "source": [
        "### 1.1.2. Sem bibliotecas"
      ],
      "metadata": {
        "id": "hQ9880MJOCp5"
      }
    },
    {
      "cell_type": "code",
      "source": [
        "#inserindo diretamente os valores\n",
        "vec_1 = [1,2,3]\n",
        "print(vec_1)\n",
        "\n",
        "#usando list comprehension\n",
        "vec_2 = [2*i for i in range(1,5)]\n",
        "print(vec_2)\n",
        "\n",
        "#usando append\n",
        "vec_3 = []\n",
        "for i in range(4):\n",
        "  vec_3.append(i)\n",
        "print(vec_3)\n",
        "\n",
        "#usando extend\n",
        "vec_4 = []\n",
        "vec_4.extend(i for i in range(3))\n",
        "print(vec_4)"
      ],
      "metadata": {
        "id": "moQYRhjuLl3Q"
      },
      "execution_count": null,
      "outputs": []
    },
    {
      "cell_type": "code",
      "source": [
        "import numpy as np\n",
        "\n",
        "vetor = np.array([1, 2, 3, 4, 5])\n",
        "print(vetor)\n"
      ],
      "metadata": {
        "id": "URygqqb8Oquh"
      },
      "execution_count": null,
      "outputs": []
    },
    {
      "cell_type": "markdown",
      "source": [
        "## 1.2. Soma de dois vetores"
      ],
      "metadata": {
        "id": "paxOIB_rZyPI"
      }
    },
    {
      "cell_type": "code",
      "source": [
        "def soma_vec(vec_a: list,vec_b: list):\n",
        "  if len(vec_a) == len(vec_b):\n",
        "    dim = len(vec_a)\n",
        "    vetor_soma = [vec_a[i] + vec_b[i] for i in range(dim)]\n",
        "\n",
        "  elif len(vec_a) > len(vec_b):\n",
        "    dim = len(vec_a)\n",
        "    for j in range (len(vec_b), len(vec_a)):\n",
        "      vec_b.append(0)\n",
        "    vetor_soma = [vec_a[i] + vec_b[i] for i in range(dim)]\n",
        "\n",
        "  elif len(vec_b) > len(vec_a):\n",
        "    dim = len(vec_b)\n",
        "    for k in range (len(vec_a), len(vec_b)):\n",
        "      vec_a.append(0)\n",
        "    vetor_soma = [vec_a[i] + vec_b[i] for i in range(dim)]\n",
        "\n",
        "  return vetor_soma\n",
        "\n",
        "print(soma_vec([1,2],[3,4,2,3,4]))\n",
        ""
      ],
      "metadata": {
        "id": "f_xlBph3RxG4"
      },
      "execution_count": null,
      "outputs": []
    },
    {
      "cell_type": "markdown",
      "source": [
        "## 1.3. Diferença de dois vetores"
      ],
      "metadata": {
        "id": "WeHD_svMZ4wR"
      }
    },
    {
      "cell_type": "code",
      "source": [
        "def dif_vec(vec_a: list,vec_b: list):\n",
        "  if len(vec_a) == len(vec_b):\n",
        "    dim = len(vec_a)\n",
        "    vetor_diferenca = [vec_a[i] - vec_b[i] for i in range(dim)]\n",
        "\n",
        "  elif len(vec_a) > len(vec_b):\n",
        "    dim = len(vec_a)\n",
        "    for j in range (len(vec_b), len(vec_a)):\n",
        "      vec_b.append(0)\n",
        "    vetor_diferenca = [vec_a[i] - vec_b[i] for i in range(dim)]\n",
        "\n",
        "  elif len(vec_b) > len(vec_a):\n",
        "    dim = len(vec_b)\n",
        "    for k in range (len(vec_a), len(vec_b)):\n",
        "      vec_a.append(0)\n",
        "    vetor_diferenca = [vec_a[i] - vec_b[i] for i in range(dim)]\n",
        "\n",
        "  return vetor_diferenca\n",
        "\n",
        "print(dif_vec([1,2],[3,4,2,3,4]))\n",
        ""
      ],
      "metadata": {
        "id": "UMwsafihYXau"
      },
      "execution_count": null,
      "outputs": []
    },
    {
      "cell_type": "markdown",
      "source": [
        "## 1.4. Múltiplicação por escalar"
      ],
      "metadata": {
        "id": "LgPKtmkzbYN1"
      }
    },
    {
      "cell_type": "code",
      "source": [
        "def mult_esc(num: float, vec: list):\n",
        "  dim = (len(vec))\n",
        "  vetor_mult = [num*vec[i] for i in range(dim)]\n",
        "\n",
        "  return vetor_mult\n",
        "\n",
        "print(mult_esc(-2,[1,2,3]))"
      ],
      "metadata": {
        "id": "wHJlm1q4be2D"
      },
      "execution_count": null,
      "outputs": []
    },
    {
      "cell_type": "markdown",
      "source": [
        "## 1.5. Produto interno"
      ],
      "metadata": {
        "id": "KUbbXpVQbjkX"
      }
    },
    {
      "cell_type": "code",
      "source": [
        "def inner_prod(vec_a: list, vec_b: list):\n",
        "  escalar_prod = 0\n",
        "  if len(vec_a) == len(vec_b):\n",
        "    dim = len(vec_a)\n",
        "    for i in range(dim):\n",
        "      escalar_prod += vec_a[i]*vec_b[i]\n",
        "\n",
        "  elif len(vec_a) > len(vec_b):\n",
        "    dim = len(vec_a)\n",
        "    for i in range (len(vec_b), len(vec_a)):\n",
        "      vec_b.append(0)\n",
        "    for i in range(dim):\n",
        "      escalar_prod += vec_a[i]*vec_b[i]\n",
        "\n",
        "  elif len(vec_b) > len(vec_a):\n",
        "    dim = len(vec_b)\n",
        "    for k in range (len(vec_a), len(vec_b)):\n",
        "      vec_a.append(0)\n",
        "    for i in range(dim):\n",
        "      escalar_prod += vec_a[i]*vec_b[i]\n",
        "\n",
        "  return escalar_prod\n",
        "\n",
        "print(inner_prod([1,2,3],[3,2,1]))"
      ],
      "metadata": {
        "id": "-HLfjlePbsrU"
      },
      "execution_count": null,
      "outputs": []
    },
    {
      "cell_type": "markdown",
      "source": [
        "## 1.6. Norma"
      ],
      "metadata": {
        "id": "SDznoocf-QZw"
      }
    },
    {
      "cell_type": "code",
      "source": [
        "import numpy as np\n",
        "\n",
        "def norm(vec: list):\n",
        "  modulo_quad = 0\n",
        "  for i in range(len(vec)):\n",
        "    modulo_quad += vec[i]*vec[i]\n",
        "\n",
        "  return np.sqrt(modulo_quad)\n",
        "\n",
        "print(norm([1,1,1]))"
      ],
      "metadata": {
        "id": "0GTREKar-RvH"
      },
      "execution_count": null,
      "outputs": []
    },
    {
      "cell_type": "markdown",
      "source": [
        "## 1.7. Produto vetorial"
      ],
      "metadata": {
        "id": "nE9Ze3oEbou8"
      }
    },
    {
      "cell_type": "code",
      "source": [
        "def ext_prod(vec_a: list, vec_b: list):\n",
        "  vetor_prod = [None]*3\n",
        "  vetor_prod[0] = vec_a[1]*vec_b[2] - vec_a[2]*vec_b[1]\n",
        "  vetor_prod[1] = vec_a[2]*vec_b[1] - vec_a[1]*vec_b[2]\n",
        "  vetor_prod[2] = vec_a[0]*vec_b[1] - vec_a[1]*vec_b[0]\n",
        "\n",
        "  return vetor_prod\n",
        "\n",
        "print(ext_prod([1,0,0],[0,1,0]))"
      ],
      "metadata": {
        "id": "UocHE0b1btUL"
      },
      "execution_count": null,
      "outputs": []
    },
    {
      "cell_type": "markdown",
      "source": [
        "# 2. Matrizes"
      ],
      "metadata": {
        "id": "9lAMbGPKB-Zm"
      }
    },
    {
      "cell_type": "markdown",
      "source": [
        "## 2.1. Diferentes métodos de construção"
      ],
      "metadata": {
        "id": "kA-7tuyBCFmt"
      }
    },
    {
      "cell_type": "code",
      "source": [
        "# Criando uma matriz 3x3 com valores iniciais\n",
        "matriz = [\n",
        "    [1, 2, 3],\n",
        "    [4, 5, 6],\n",
        "    [7, 8, 9]\n",
        "]\n",
        "\n",
        "# Acessando elementos da matriz\n",
        "print(matriz[0][0])  # Saída: 1\n",
        "print(matriz[1][1])  # Saída: 5\n",
        "print(matriz[2][2])  # Saída: 9\n",
        "print(matriz)"
      ],
      "metadata": {
        "id": "ZXL8egj6CHsF"
      },
      "execution_count": null,
      "outputs": []
    },
    {
      "cell_type": "code",
      "source": [
        "# Criando uma matriz 3x3 inicializada com zeros\n",
        "matriz = [[0 for _ in range(3)] for _ in range(3)]\n",
        "\n",
        "# Imprimindo a matriz\n",
        "for linha in matriz:\n",
        "    print(linha)\n",
        "\n",
        "# Preenchendo a matriz com valores\n",
        "valor = 1\n",
        "for i in range(3):\n",
        "    for j in range(3):\n",
        "        matriz[i][j] = valor\n",
        "        valor += 1\n",
        "\n",
        "# Imprimindo a matriz\n",
        "for linha in matriz:\n",
        "    print(linha)\n",
        "\n"
      ],
      "metadata": {
        "id": "-rWY63CDQNkB"
      },
      "execution_count": null,
      "outputs": []
    },
    {
      "cell_type": "code",
      "source": [
        "matriz = []\n",
        "for i in range(2):\n",
        "  linha = []\n",
        "  for j in range(2):\n",
        "    elemento = i + j\n",
        "    linha.append(elemento)\n",
        "  matriz.append(linha)\n",
        "\n",
        "for linha in matriz:\n",
        "  print(linha)"
      ],
      "metadata": {
        "id": "uhnb0ktIQfOD"
      },
      "execution_count": null,
      "outputs": []
    },
    {
      "cell_type": "markdown",
      "source": [
        "## 2.2. Soma de matrizes"
      ],
      "metadata": {
        "id": "dSdIspUXRI7e"
      }
    },
    {
      "cell_type": "code",
      "source": [
        "#criando matrizes inserindo manualmente\n",
        "matriz = []\n",
        "for i in range(3):\n",
        "  linha = []\n",
        "  for j in range(3):\n",
        "    valor = int(input(f'Digite o elemento [{i}][{j}]:   '))\n",
        "    linha.append(valor)\n",
        "  matriz.append(linha)\n",
        "\n",
        "#imprimindo a matriz\n",
        "for linha in matriz:\n",
        "  print(linha)\n"
      ],
      "metadata": {
        "id": "QcD33znnRVCN"
      },
      "execution_count": null,
      "outputs": []
    }
  ]
}