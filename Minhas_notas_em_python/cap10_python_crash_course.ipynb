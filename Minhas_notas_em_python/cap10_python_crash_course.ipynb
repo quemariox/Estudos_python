{
 "cells": [
  {
   "cell_type": "markdown",
   "metadata": {},
   "source": [
    "# Capítulo 10. Arquivos e Exceções"
   ]
  },
  {
   "cell_type": "markdown",
   "metadata": {},
   "source": [
    "## 10.1. Lendo dados de um arquivo"
   ]
  },
  {
   "cell_type": "markdown",
   "metadata": {},
   "source": [
    "### 10.1.1. Lendo um arquivo inteiro\n",
    "### 10.1.2. Paths de arquivo\n",
    "### 10.1.3. Lendo dados linha a linha\n",
    "### 10.1.4. Criando uma lista de linhas de um arquivo\n",
    "### 10.1.5. Trabalhando com o conteúdo de um arquivo\n",
    "### Arquivos grandes: um milhão de dígitos\n",
    "### Seu aniversário está contido em pi?"
   ]
  },
  {
   "cell_type": "markdown",
   "metadata": {},
   "source": [
    "## 10.2. Escrevendo dados em um arquivo"
   ]
  },
  {
   "cell_type": "markdown",
   "metadata": {},
   "source": [
    "### Escrevendo dados em um arquivo vazio\n",
    "### Escrevendo várias linhas\n",
    "### Concatenando dados em um arquivo"
   ]
  },
  {
   "cell_type": "markdown",
   "metadata": {},
   "source": [
    "## 10.3. Exceções"
   ]
  },
  {
   "cell_type": "markdown",
   "metadata": {},
   "source": [
    "### Tratando a exceção ZeroDivisionError\n",
    "### Usando blocos try-except\n",
    "### Usando exceções para evitar falhas\n",
    "### Bloco else\n",
    "### Tratando a exceção FileNotFoundError\n",
    "### Analisando textos\n",
    "### Trabalhando com vários arquivos\n",
    "### Falhando silenciosamente\n",
    "### Decidindo quais erros devem ser informados"
   ]
  },
  {
   "cell_type": "markdown",
   "metadata": {},
   "source": [
    "## 10.4. Armazenando dados"
   ]
  },
  {
   "cell_type": "markdown",
   "metadata": {},
   "source": [
    "### Usando json.dump() e json.load()\n",
    "### Salvando e lendo dados gerados pelo usuário\n",
    "### Refatoração"
   ]
  }
 ],
 "metadata": {
  "language_info": {
   "name": "python"
  }
 },
 "nbformat": 4,
 "nbformat_minor": 2
}
