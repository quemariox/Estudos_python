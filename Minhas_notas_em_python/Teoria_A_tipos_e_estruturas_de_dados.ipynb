{
  "nbformat": 4,
  "nbformat_minor": 0,
  "metadata": {
    "colab": {
      "private_outputs": true,
      "provenance": [],
      "authorship_tag": "ABX9TyMvbKmS2HywrmNn7BrG1zB3",
      "include_colab_link": true
    },
    "kernelspec": {
      "name": "python3",
      "display_name": "Python 3"
    },
    "language_info": {
      "name": "python"
    }
  },
  "cells": [
    {
      "cell_type": "markdown",
      "metadata": {
        "id": "view-in-github",
        "colab_type": "text"
      },
      "source": [
        "<a href=\"https://colab.research.google.com/github/quemariox/Estudos_python/blob/main/Minhas_notas_em_python/Teoria_A_tipos_e_estruturas_de_dados.ipynb\" target=\"_parent\"><img src=\"https://colab.research.google.com/assets/colab-badge.svg\" alt=\"Open In Colab\"/></a>"
      ]
    },
    {
      "cell_type": "markdown",
      "source": [
        "# 1. Introdução à Python - Parte 1: Tipos primitivos"
      ],
      "metadata": {
        "id": "z4Pk4v3R6RWe"
      }
    },
    {
      "cell_type": "markdown",
      "source": [
        "## 1.1. Origem e características"
      ],
      "metadata": {
        "id": "Ttz3_XyHcy45"
      }
    },
    {
      "cell_type": "markdown",
      "source": [
        "**Origem:**\n",
        "- Python é uma linguagem de programação criada em 1990 por Guido van Rossum, a versão 2.0 surgiu no ano 2000 e a versão 3.0 surgiu em 2008.\n",
        "- Atualmente é uma linguagem de grande popularidade com aplicações em ensino de programação, ciência de dados e computação científica.\n",
        "\n",
        "**Características da linguagem:**\n",
        "  \n",
        "  - **Linguagem de Alto Nível:** Python abstrai muitos detalhes complexos do hardware do computador, permitindo que os programadores escrevam código de maneira mais intuitiva e legível. Isso facilita o desenvolvimento rápido e a manutenção do código.\n",
        "\n",
        "  - **Dinâmica:** Em Python, a tipagem é dinâmica, o que significa que você não precisa declarar explicitamente os tipos das variáveis. O tipo de uma variável é determinado em tempo de execução, permitindo maior flexibilidade e simplicidade no código.\n",
        "\n",
        "  - **Multiparadigma:** Python suporta múltiplos paradigmas de programação, incluindo:\n",
        "    - *Programação Procedural:* Baseada em funções, permitindo a estruturação do código em procedimentos ou rotinas.\n",
        "    - *Programação Orientada a Objetos:* Organiza o código em classes e objetos, facilitando a modelagem de dados e comportamentos.\n",
        "    - *Programação Funcional:* Trata computação como a avaliação de funções matemáticas, utilizando conceitos como funções de ordem superior e imutabilidade.\n",
        "\n",
        "Essas características tornam Python uma linguagem versátil e popular, adequada para uma ampla variedade de tarefas, desde scripts simples até aplicações complexas."
      ],
      "metadata": {
        "id": "I2AK5BAx27Zm"
      }
    },
    {
      "cell_type": "markdown",
      "source": [
        "## 1.2. Ambientes e bibliotecas"
      ],
      "metadata": {
        "id": "97ZAO-abdWKE"
      }
    },
    {
      "cell_type": "markdown",
      "source": [
        "\n",
        "- *SciPy (2001):* Biblioteca que complementa o NumPy, oferecendo algoritmos e funções avançadas para matemática, ciência e engenharia.\n",
        "\n",
        "- *Matplotlib (2003):* Biblioteca de plotagem 2D que permite a criação de gráficos e visualizações variadas, sendo amplamente usada para geração de figuras estáticas, animadas e interativas.\n",
        "\n",
        "- *NumPy (2006):* Biblioteca fundamental para computação científica em Python, com suporte para arrays multidimensionais e uma coleção de funções matemáticas.\n",
        "\n",
        "- *scikit-learn (2007):* Biblioteca de aprendizado de máquina que oferece ferramentas eficientes e simples para análise de dados e mineração de dados.\n",
        "\n",
        "- *Pandas (2008):* Biblioteca essencial para manipulação e análise de dados, proporcionando estruturas de dados como DataFrames, que facilitam o trabalho com dados tabulares.\n",
        "\n",
        "- *Seaborn (2012):* é uma biblioteca de visualização de dados baseada no Matplotlib, que facilita a criação de gráficos estatísticos atraentes. Oferece integração perfeita com Pandas e suporta diversos tipos de gráficos, como scatter plots, box plots e heatmaps. É ideal para análise exploratória de dados.\n",
        "\n",
        "- *TensorFlow (2015):* é uma biblioteca de código aberto para computação numérica e aprendizado de máquina, desenvolvida pelo Google. Suporta uma ampla gama de algoritmos de machine learning e deep learning, escalando facilmente em várias CPUs e GPUs. Integra-se bem com Keras para construção e treinamento de modelos.\n",
        "\n",
        "- *Jupyter (2015):* Ambiente interativo de notebooks que permite a criação e compartilhamento de documentos que contêm código, visualizações e texto narrativo.\n",
        "\n",
        "- *Google Colab (2017):* Plataforma gratuita que permite executar notebooks Jupyter na nuvem, oferecendo acesso a recursos de computação, incluindo GPUs e TPUs."
      ],
      "metadata": {
        "id": "jKFKXl_sdeFN"
      }
    },
    {
      "cell_type": "markdown",
      "source": [
        "## 1.3. Tipos primitivos no python"
      ],
      "metadata": {
        "id": "W3untjqcfQLs"
      }
    },
    {
      "cell_type": "markdown",
      "source": [
        "- **`int`**: Representa números inteiros, positivos ou negativos, sem parte decimal. Exemplo: `42`, `-7`.\n",
        "\n",
        "- **`float`**: Representa números de ponto flutuante, com parte decimal. Exemplo: `3.14`, `-0.001`.\n",
        "\n",
        "- **`complex`**: Representa números complexos com parte real e imaginária. Exemplo: `2 + 3j`.\n",
        "\n",
        "- **`bool`**: Representa valores booleanos, `True` ou `False`, frequentemente usados em operações lógicas. Exemplo: `True`, `False`.\n",
        "\n",
        "- **`str`**: Representa sequências de caracteres, ou strings, usadas para manipular texto. Exemplo: `\"hello\"`, `'Python'`.\n",
        "\n",
        "- **`NoneType`**: Representa a ausência de valor ou um valor nulo. Há apenas uma instância deste tipo: `None`."
      ],
      "metadata": {
        "id": "eJttG9li41kh"
      }
    },
    {
      "cell_type": "markdown",
      "source": [
        "#  2. Introdução à Python - Parte 2: Estruturas de dados"
      ],
      "metadata": {
        "id": "Qy8Aq3wc4qTy"
      }
    },
    {
      "cell_type": "markdown",
      "source": [
        "## 2.1. Resumo"
      ],
      "metadata": {
        "id": "wZP2oN1zNL-R"
      }
    },
    {
      "cell_type": "markdown",
      "source": [
        "Os tipos compostos em Python são estruturas de dados que podem conter múltiplos itens. Eles são fundamentais para organizar e manipular coleções de dados. Os principais tipos compostos em Python:\n",
        "\n",
        "1. **Listas (list)**: Coleções ordenadas de itens que podem ser de diferentes tipos. Listas são mutáveis, permitindo a modificação de seus elementos após a criação.\n",
        "   ```python\n",
        "   minha_lista = [1, 2, 3, \"a\", \"b\", \"c\"]\n",
        "   minha_lista[0] = 10  # Modifica o primeiro elemento\n",
        "   ```\n",
        "\n",
        "2. **Strings (str)**: Sequências ordenadas de caracteres usadas para representar texto. São imutáveis, ou seja, qualquer operação que modifique uma string cria uma nova string.\n",
        "   ```python\n",
        "   minha_string = \"Hello, World!\"\n",
        "   nova_string = minha_string.upper()  # \"HELLO, WORLD!\"\n",
        "   ```\n",
        "\n",
        "3. **Tuplas (tuple)**: Coleções ordenadas de itens, semelhantes às listas, mas são imutáveis, ou seja, seus elementos não podem ser alterados após a criação.\n",
        "   ```python\n",
        "   minha_tupla = (1, 2, 3, \"a\", \"b\", \"c\")\n",
        "   # minha_tupla[0] = 10  # Isso geraria um erro\n",
        "   ```\n",
        "\n",
        "4. **Conjuntos (set)**: Coleções não ordenadas de itens únicos. São úteis para eliminar duplicatas e realizar operações matemáticas como união, interseção e diferença.\n",
        "   ```python\n",
        "   meu_conjunto = {1, 2, 3, 4, 4, 5}\n",
        "   # meu_conjunto = {1, 2, 3, 4, 5}\n",
        "   ```\n",
        "\n",
        "5. **Dicionários (dict)**: Coleções de pares chave-valor. Cada chave deve ser única e imutável, enquanto os valores podem ser de qualquer tipo e são acessados usando as chaves.\n",
        "   ```python\n",
        "   meu_dicionario = {\"nome\": \"Alice\", \"idade\": 25, \"cidade\": \"São Paulo\"}\n",
        "   meu_dicionario[\"idade\"] = 26  # Modifica o valor associado à chave \"idade\"\n",
        "   ```\n",
        "\n",
        "6. **Listas de Compreensão (list comprehension)**: Sintaxe concisa para criar listas de forma declarativa. Utilizadas para construir listas a partir de outros iteráveis, aplicando uma expressão e, opcionalmente, uma condição.\n",
        "   ```python\n",
        "   quadrados = [x**2 for x in range(10)]\n",
        "   # quadrados = [0, 1, 4, 9, 16, 25, 36, 49, 64, 81]\n",
        "   ```\n",
        "Esses tipos compostos oferecem flexibilidade e poder para lidar com diferentes formas de dados e realizar operações complexas de maneira eficiente e intuitiva em Python."
      ],
      "metadata": {
        "id": "eurWup5D8LCT"
      }
    },
    {
      "cell_type": "markdown",
      "source": [
        "## 2.2. lista = list[ordenada, mutável, permite elementos duplicados]"
      ],
      "metadata": {
        "id": "IN71x9sC90q6"
      }
    },
    {
      "cell_type": "markdown",
      "source": [
        "Em Python, listas são alocadas dinamicamente na memória. Elas são implementadas como arrays dinâmicos, que permitem o crescimento e a redução do tamanho conforme necessário. Isso significa que a lista pode expandir sua capacidade de armazenamento automaticamente quando novos elementos são adicionados, sem necessidade de alocação manual de memória pelo usuário. Internamente, Python usa uma estratégia de alocação que pode reservar mais espaço do que o necessário para evitar realocações frequentes.\n"
      ],
      "metadata": {
        "id": "72n3ezNa93Eh"
      }
    },
    {
      "cell_type": "markdown",
      "source": [
        "### 2.2.1. Pricipais métodos de listas"
      ],
      "metadata": {
        "id": "3-tub2r8ra7e"
      }
    },
    {
      "cell_type": "markdown",
      "source": [
        "Esses métodos oferecem uma ampla gama de operações para modificar e manipular listas em Python, tornando-as flexíveis e poderosas para várias tarefas.\n",
        "\n",
        "1. **`list.append(item)`**: Adiciona um item ao final da lista.\n",
        "   ```python\n",
        "   minha_lista = [1, 2, 3]\n",
        "   minha_lista.append(4)  # [1, 2, 3, 4]\n",
        "   ```\n",
        "\n",
        "2. **`list.extend(iterable)`**: Adiciona todos os itens de um iterável (como uma lista ou tupla) ao final da lista.\n",
        "   ```python\n",
        "   minha_lista = [1, 2]\n",
        "   minha_lista.extend([3, 4])  # [1, 2, 3, 4]\n",
        "   ```\n",
        "\n",
        "3. **`list.insert(index, item)`**: Insere um item em uma posição específica da lista. Os itens existentes são deslocados para a direita.\n",
        "   ```python\n",
        "   minha_lista = [1, 2, 3]\n",
        "   minha_lista.insert(1, 1.5)  # [1, 1.5, 2, 3]\n",
        "   ```\n",
        "\n",
        "4. **`list.remove(item)`**: Remove a primeira ocorrência de um item específico da lista. Gera um erro se o item não estiver presente.\n",
        "   ```python\n",
        "   minha_lista = [1, 2, 3, 2]\n",
        "   minha_lista.remove(2)  # [1, 3, 2]\n",
        "   ```\n",
        "\n",
        "5. **`list.pop([index])`**: Remove e retorna o item na posição especificada (ou o último item se nenhum índice for fornecido). Gera um erro se a lista estiver vazia.\n",
        "   ```python\n",
        "   minha_lista = [1, 2, 3]\n",
        "   item = minha_lista.pop()  # item = 3, minha_lista = [1, 2]\n",
        "   ```\n",
        "\n",
        "6. **`list.clear()`**: Remove todos os itens da lista.\n",
        "   ```python\n",
        "   minha_lista = [1, 2, 3]\n",
        "   minha_lista.clear()  # []\n",
        "   ```\n",
        "\n",
        "7. **`list.index(item, [start, [end]])`**: Retorna o índice da primeira ocorrência do item na lista. Pode opcionalmente especificar o intervalo de busca.\n",
        "   ```python\n",
        "   minha_lista = [1, 2, 3, 2]\n",
        "   indice = minha_lista.index(2)  # 1\n",
        "   ```\n",
        "\n",
        "8. **`list.count(item)`**: Retorna o número de vezes que o item aparece na lista.\n",
        "   ```python\n",
        "   minha_lista = [1, 2, 2, 3]\n",
        "   contagem = minha_lista.count(2)  # 2\n",
        "   ```\n",
        "\n",
        "9. **`list.sort(key=None, reverse=False)`**: Ordena os itens da lista no local (modifica a lista original). Pode aceitar uma função `key` para a ordenação e um parâmetro `reverse` para ordenar em ordem decrescente.\n",
        "   ```python\n",
        "   minha_lista = [3, 1, 2]\n",
        "   minha_lista.sort()  # [1, 2, 3]\n",
        "   ```\n",
        "\n",
        "10. **`list.reverse()`**: Inverte a ordem dos itens na lista no local.\n",
        "    ```python\n",
        "    minha_lista = [1, 2, 3]\n",
        "    minha_lista.reverse()  # [3, 2, 1]\n",
        "    ```\n",
        "\n",
        "11. **`list.copy()`**: Retorna uma cópia superficial da lista.\n",
        "    ```python\n",
        "    minha_lista = [1, 2, 3]\n",
        "    copia_lista = minha_lista.copy()  # [1, 2, 3]\n",
        "    ```"
      ],
      "metadata": {
        "id": "YJNIX1zXrisj"
      }
    },
    {
      "cell_type": "markdown",
      "source": [
        "### 2.2.2. Operações com listas"
      ],
      "metadata": {
        "id": "F7J2HmtEr23Y"
      }
    },
    {
      "cell_type": "markdown",
      "source": [
        "Essas operações são fundamentais para trabalhar com listas em Python e oferecem uma maneira eficiente de manipular e analisar dados.\n",
        "\n",
        "1. **Indexação**\n",
        "   - Acesso a elementos individuais usando índices.\n",
        "   ```python\n",
        "   minha_lista = [10, 20, 30]\n",
        "   elemento = minha_lista[1]  # 20\n",
        "   ```\n",
        "\n",
        "2. **Fatiamento (Slicing)**\n",
        "   - Extração de sublistas usando faixas de índices.\n",
        "   ```python\n",
        "   minha_lista = [1, 2, 3, 4, 5]\n",
        "   sublista = minha_lista[1:4]  # [2, 3, 4]\n",
        "   ```\n",
        "\n",
        "3. **Concatenção com o operador `+`**\n",
        "   - Combinação de duas listas em uma nova lista.\n",
        "   ```python\n",
        "   lista1 = [1, 2]\n",
        "   lista2 = [3, 4]\n",
        "   lista_combinada = lista1 + lista2  # [1, 2, 3, 4]\n",
        "   ```\n",
        "\n",
        "4. **Repetição com o operador `*`**\n",
        "   - Repetição dos elementos da lista.\n",
        "   ```python\n",
        "   minha_lista = [1, 2]\n",
        "   lista_repetida = minha_lista * 3  # [1, 2, 1, 2, 1, 2]\n",
        "   ```\n",
        "\n",
        "5. **Verificação de Pertinência com `in`**\n",
        "   - Verifica se um elemento está presente na lista.\n",
        "   ```python\n",
        "   minha_lista = [1, 2, 3]\n",
        "   elemento_presente = 2 in minha_lista  # True\n",
        "   ```\n",
        "\n",
        "6. **Comprimento com `len()`**\n",
        "   - Retorna o número de elementos na lista.\n",
        "   ```python\n",
        "   minha_lista = [1, 2, 3]\n",
        "   comprimento = len(minha_lista)  # 3\n",
        "   ```\n",
        "\n",
        "7. **Ordenação com `sorted()`**\n",
        "   - Retorna uma nova lista com os itens ordenados, sem modificar a lista original.\n",
        "   ```python\n",
        "   minha_lista = [3, 1, 2]\n",
        "   lista_ordenada = sorted(minha_lista)  # [1, 2, 3]\n",
        "   ```\n",
        "\n",
        "8. **Inversão com `reversed()`**\n",
        "   - Retorna um iterador que percorre a lista em ordem inversa, sem modificar a lista original.\n",
        "   ```python\n",
        "   minha_lista = [1, 2, 3]\n",
        "   lista_invertida = list(reversed(minha_lista))  # [3, 2, 1]\n",
        "   ```"
      ],
      "metadata": {
        "id": "E4Ny987ur6-s"
      }
    },
    {
      "cell_type": "markdown",
      "source": [
        "## 2.3. string = str('ordenada, imutável, permite elementos duplicados')"
      ],
      "metadata": {
        "id": "zUB67dR7D3MN"
      }
    },
    {
      "cell_type": "markdown",
      "source": [
        "Em Python, strings são alocadas dinamicamente na memória, mas, ao contrário das listas, são imutáveis. Isso significa que, uma vez criada uma string, seu conteúdo não pode ser alterado. Quando uma operação que modifica a string é realizada, uma nova string é criada e a antiga é descartada. Python utiliza uma estratégia de gerenciamento de memória que pode reservar espaço extra para otimizar a criação de novas strings, minimizando a necessidade de alocação frequente de memória. Internamente, Python também utiliza técnicas como interning para strings imutáveis comuns, o que ajuda a economizar memória e acelerar comparações."
      ],
      "metadata": {
        "id": "em2WsMPEkoMI"
      }
    },
    {
      "cell_type": "markdown",
      "source": [
        "### 2.3.1. Principais métodos de strings"
      ],
      "metadata": {
        "id": "fp2rAQMFiIMn"
      }
    },
    {
      "cell_type": "markdown",
      "source": [
        "Esses métodos facilitam a manipulação e análise de strings em Python, tornando a linguagem poderosa para processamento de texto.\n",
        "\n",
        "- **`str.upper()`**: Retorna uma cópia da string com todos os caracteres em maiúsculas.\n",
        "  ```python\n",
        "  \"hello\".upper()  # \"HELLO\"\n",
        "  ```\n",
        "\n",
        "- **`str.lower()`**: Retorna uma cópia da string com todos os caracteres em minúsculas.\n",
        "  ```python\n",
        "  \"HELLO\".lower()  # \"hello\"\n",
        "  ```\n",
        "\n",
        "- **`str.capitalize()`**: Retorna uma cópia da string com o primeiro caractere em maiúsculas e o restante em minúsculas.\n",
        "  ```python\n",
        "  \"hello world\".capitalize()  # \"Hello world\"\n",
        "  ```\n",
        "\n",
        "- **`str.title()`**: Retorna uma cópia da string com a primeira letra de cada palavra em maiúsculas.\n",
        "  ```python\n",
        "  \"hello world\".title()  # \"Hello World\"\n",
        "  ```\n",
        "\n",
        "- **`str.strip()`**: Remove espaços em branco do início e do final da string.\n",
        "  ```python\n",
        "  \"  hello  \".strip()  # \"hello\"\n",
        "  ```\n",
        "\n",
        "- **`str.lstrip()`**: Remove espaços em branco apenas do início da string.\n",
        "  ```python\n",
        "  \"  hello\".lstrip()  # \"hello\"\n",
        "  ```\n",
        "\n",
        "- **`str.rstrip()`**: Remove espaços em branco apenas do final da string.\n",
        "  ```python\n",
        "  \"hello  \".rstrip()  # \"hello\"\n",
        "  ```\n",
        "\n",
        "- **`str.replace(old, new)`**: Substitui todas as ocorrências de uma substring `old` por `new`.\n",
        "  ```python\n",
        "  \"hello world\".replace(\"world\", \"there\")  # \"hello there\"\n",
        "  ```\n",
        "\n",
        "- **`str.split(sep)`**: Divide a string em uma lista de substrings usando o delimitador `sep`.\n",
        "  ```python\n",
        "  \"a,b,c\".split(\",\")  # [\"a\", \"b\", \"c\"]\n",
        "  ```\n",
        "\n",
        "- **`str.join(iterable)`**: Concatena os elementos de um iterável (como uma lista) em uma única string, usando a string original como separador.\n",
        "  ```python\n",
        "  \",\".join([\"a\", \"b\", \"c\"])  # \"a,b,c\"\n",
        "  ```\n",
        "\n",
        "- **`str.find(sub)`**: Retorna o índice da primeira ocorrência da substring `sub` ou -1 se não for encontrada.\n",
        "  ```python\n",
        "  \"hello\".find(\"e\")  # 1\n",
        "  ```\n",
        "\n",
        "- **`str.endswith(suffix)`**: Retorna `True` se a string terminar com a substring `suffix`, caso contrário, `False`.\n",
        "  ```python\n",
        "  \"hello\".endswith(\"lo\")  # True\n",
        "  ```\n",
        "\n",
        "- **`str.startswith(prefix)`**: Retorna `True` se a string começar com a substring `prefix`, caso contrário, `False`.\n",
        "  ```python\n",
        "  \"hello\".startswith(\"he\")  # True\n",
        "  ```"
      ],
      "metadata": {
        "id": "ltdPqo67i5Rh"
      }
    },
    {
      "cell_type": "markdown",
      "source": [
        "### 2.3.2. Operações com strings"
      ],
      "metadata": {
        "id": "oS1-uSqND57g"
      }
    },
    {
      "cell_type": "markdown",
      "source": [
        "As strings em Python suportam algumas operações semelhantes às listas.\n",
        "\n",
        "1. **Indexação**\n",
        "   - **Listas**: Acesso aos elementos usando índices.\n",
        "     ```python\n",
        "     minha_lista = [1, 2, 3]\n",
        "     primeiro_elemento = minha_lista[0]  # 1\n",
        "     ```\n",
        "   - **Strings**: Acesso aos caracteres usando índices.\n",
        "     ```python\n",
        "     minha_string = \"hello\"\n",
        "     primeiro_caractere = minha_string[0]  # 'h'\n",
        "     ```\n",
        "\n",
        "2. **Fatiamento (Slicing)**\n",
        "   - **Listas**: Extração de sublistas usando faixas de índices.\n",
        "     ```python\n",
        "     minha_lista = [1, 2, 3, 4, 5]\n",
        "     sublista = minha_lista[1:4]  # [2, 3, 4]\n",
        "     ```\n",
        "   - **Strings**: Extração de substrings usando faixas de índices.\n",
        "     ```python\n",
        "     minha_string = \"hello\"\n",
        "     substring = minha_string[1:4]  # 'ell'\n",
        "     ```\n",
        "\n",
        "3. **Concatenção com o operador `+`**\n",
        "   - **Listas**: Combinação de duas listas em uma nova lista.\n",
        "     ```python\n",
        "     lista1 = [1, 2]\n",
        "     lista2 = [3, 4]\n",
        "     lista_combinada = lista1 + lista2  # [1, 2, 3, 4]\n",
        "     ```\n",
        "   - **Strings**: Combinação de duas strings em uma nova string.\n",
        "     ```python\n",
        "     string1 = \"hello\"\n",
        "     string2 = \"world\"\n",
        "     string_combinada = string1 + \" \" + string2  # 'hello world'\n",
        "     ```\n",
        "\n",
        "4. **Repetição com o operador `*`**\n",
        "   - **Listas**: Repetição dos elementos da lista.\n",
        "     ```python\n",
        "     minha_lista = [1, 2]\n",
        "     lista_repetida = minha_lista * 3  # [1, 2, 1, 2, 1, 2]\n",
        "     ```\n",
        "   - **Strings**: Repetição da string.\n",
        "     ```python\n",
        "     minha_string = \"abc\"\n",
        "     string_repetida = minha_string * 3  # 'abcabcabc'\n",
        "     ```\n",
        "\n",
        "5. **Verificação de Pertinência com `in`**\n",
        "   - **Listas**: Verifica se um elemento está presente na lista.\n",
        "     ```python\n",
        "     minha_lista = [1, 2, 3]\n",
        "     elemento_presente = 2 in minha_lista  # True\n",
        "     ```\n",
        "   - **Strings**: Verifica se uma substring está presente na string.\n",
        "     ```python\n",
        "     minha_string = \"hello\"\n",
        "     substring_presente = \"ell\" in minha_string  # True\n",
        "     ```\n",
        "\n",
        "6. **Comprimento com `len()`**\n",
        "   - **Listas**: Retorna o número de elementos na lista.\n",
        "     ```python\n",
        "     minha_lista = [1, 2, 3]\n",
        "     comprimento = len(minha_lista)  # 3\n",
        "     ```\n",
        "   - **Strings**: Retorna o número de caracteres na string.\n",
        "     ```python\n",
        "     minha_string = \"hello\"\n",
        "     comprimento = len(minha_string)  # 5\n",
        "     ```\n",
        "\n",
        "Essas operações permitem manipular e analisar tanto listas quanto strings de maneira semelhante, aproveitando a flexibilidade de ambas as estruturas de dados em Python."
      ],
      "metadata": {
        "id": "A4T1BE2pjvp2"
      }
    },
    {
      "cell_type": "markdown",
      "source": [],
      "metadata": {
        "id": "8xb1PfhvlIGc"
      }
    },
    {
      "cell_type": "markdown",
      "source": [
        "## 2.4. tupla = tuple(ordenada, imutável, permite elementos duplicados)"
      ],
      "metadata": {
        "id": "9OhtJwiDltP2"
      }
    },
    {
      "cell_type": "markdown",
      "source": [
        "Em Python, tuplas são alocadas dinamicamente na memória, mas são imutáveis, o que significa que seus elementos não podem ser alterados após a criação. Quando uma tupla é criada, seu tamanho e conteúdo são fixos. Python aloca a memória necessária para armazenar a tupla e seus elementos de forma eficiente, sem a necessidade de redimensionamento. Por serem imutáveis, as tuplas têm um custo menor em termos de sobrecarga de memória e operações de leitura, comparadas às listas. Além disso, Python pode otimizar o armazenamento de tuplas com elementos constantes através de técnicas como interning, especialmente para tuplas pequenas e frequentemente usadas."
      ],
      "metadata": {
        "id": "85hCMyuumtKy"
      }
    },
    {
      "cell_type": "markdown",
      "source": [
        "### 2.4.1. Principais métodos de tuplas"
      ],
      "metadata": {
        "id": "j_PDxaNjv4EU"
      }
    },
    {
      "cell_type": "markdown",
      "source": [
        "As tuplas em Python têm métodos limitados em comparação com listas, devido à sua natureza imutável.\n",
        "\n",
        "Esses métodos são úteis para buscar informações em tuplas e contar a frequência de elementos. Como as tuplas são imutáveis, não há métodos para alterar seu conteúdo ou tamanho.\n",
        "\n",
        "1. **`tuple.count(x)`**\n",
        "   - Conta o número de ocorrências de um elemento `x` na tupla.\n",
        "   ```python\n",
        "   minha_tupla = (1, 2, 2, 3)\n",
        "   contagem = minha_tupla.count(2)  # 2\n",
        "   ```\n",
        "\n",
        "2. **`tuple.index(x[, start[, end]])`**\n",
        "   - Retorna o índice da primeira ocorrência do elemento `x` na tupla. Pode opcionalmente limitar a busca a um intervalo definido pelos parâmetros `start` e `end`.\n",
        "   ```python\n",
        "   minha_tupla = (1, 2, 3, 2)\n",
        "   indice = minha_tupla.index(2)  # 1\n",
        "   ```"
      ],
      "metadata": {
        "id": "iMlWwYBdv_nW"
      }
    },
    {
      "cell_type": "markdown",
      "source": [
        "### 2.4.2. Operações com tuplas"
      ],
      "metadata": {
        "id": "eayHwqGPv8ID"
      }
    },
    {
      "cell_type": "markdown",
      "source": [
        "Essas operações permitem manipular e acessar dados em tuplas de maneira eficiente, apesar de sua imutabilidade.\n",
        "\n",
        "1. **Indexação**\n",
        "   - Acesso a elementos individuais usando índices.\n",
        "   ```python\n",
        "   minha_tupla = (10, 20, 30)\n",
        "   elemento = minha_tupla[1]  # 20\n",
        "   ```\n",
        "\n",
        "2. **Fatiamento (Slicing)**\n",
        "   - Extração de subtuplas usando faixas de índices.\n",
        "   ```python\n",
        "   minha_tupla = (1, 2, 3, 4, 5)\n",
        "   subtupla = minha_tupla[1:4]  # (2, 3, 4)\n",
        "   ```\n",
        "\n",
        "3. **Concatenção com o operador `+`**\n",
        "   - Combinação de duas tuplas em uma nova tupla.\n",
        "   ```python\n",
        "   tupla1 = (1, 2)\n",
        "   tupla2 = (3, 4)\n",
        "   tupla_combinada = tupla1 + tupla2  # (1, 2, 3, 4)\n",
        "   ```\n",
        "\n",
        "4. **Repetição com o operador `*`**\n",
        "   - Repetição dos elementos da tupla.\n",
        "   ```python\n",
        "   minha_tupla = (1, 2)\n",
        "   tupla_repetida = minha_tupla * 3  # (1, 2, 1, 2, 1, 2)\n",
        "   ```\n",
        "\n",
        "5. **Verificação de Pertinência com `in`**\n",
        "   - Verifica se um elemento está presente na tupla.\n",
        "   ```python\n",
        "   minha_tupla = (1, 2, 3)\n",
        "   elemento_presente = 2 in minha_tupla  # True\n",
        "   ```\n",
        "\n",
        "6. **Comprimento com `len()`**\n",
        "   - Retorna o número de elementos na tupla.\n",
        "   ```python\n",
        "   minha_tupla = (1, 2, 3)\n",
        "   comprimento = len(minha_tupla)  # 3\n",
        "   ```"
      ],
      "metadata": {
        "id": "_g_ejy3EwWtI"
      }
    },
    {
      "cell_type": "markdown",
      "source": [
        "## 2.5. conjunto = set{não ordenada, imutável, não permite elementos duplicados}"
      ],
      "metadata": {
        "id": "JHp-UxEzmbZd"
      }
    },
    {
      "cell_type": "markdown",
      "source": [
        "Em Python, conjuntos (`sets`) são alocados dinamicamente na memória e são estruturas de dados não ordenadas que armazenam itens únicos. Eles são implementados usando tabelas de hash, o que permite operações rápidas de inserção, exclusão e verificação de pertencimento. Ao adicionar ou remover elementos, a tabela de hash pode ser redimensionada automaticamente para manter a eficiência. Python gerencia a memória alocada para conjuntos de forma a minimizar o custo de operações frequentes e manter a performance, reatribuindo espaço conforme necessário. Os conjuntos também utilizam uma estratégia para evitar duplicatas, garantindo que cada elemento seja único dentro da coleção."
      ],
      "metadata": {
        "id": "2O-G9dCNmzME"
      }
    },
    {
      "cell_type": "markdown",
      "source": [
        "### 2.5.1. Principais métodos de conjuntos"
      ],
      "metadata": {
        "id": "Kn8_KmyfwtqK"
      }
    },
    {
      "cell_type": "markdown",
      "source": [
        "Os conjuntos (`sets`) em Python têm métodos que permitem manipular e realizar operações matemáticas com coleções de elementos únicos.\n",
        "\n",
        "Esses métodos fornecem funcionalidades abrangentes para manipular e realizar operações matemáticas com conjuntos em Python.\n",
        "\n",
        "1. **`set.add(elem)`**\n",
        "   - Adiciona um elemento `elem` ao conjunto. Se o elemento já estiver presente, o conjunto não será modificado.\n",
        "   ```python\n",
        "   meu_conjunto = {1, 2, 3}\n",
        "   meu_conjunto.add(4)  # {1, 2, 3, 4}\n",
        "   ```\n",
        "\n",
        "2. **`set.remove(elem)`**\n",
        "   - Remove um elemento `elem` do conjunto. Gera um erro se o elemento não estiver presente.\n",
        "   ```python\n",
        "   meu_conjunto = {1, 2, 3}\n",
        "   meu_conjunto.remove(2)  # {1, 3}\n",
        "   ```\n",
        "\n",
        "3. **`set.discard(elem)`**\n",
        "   - Remove um elemento `elem` do conjunto, mas não gera um erro se o elemento não estiver presente.\n",
        "   ```python\n",
        "   meu_conjunto = {1, 2, 3}\n",
        "   meu_conjunto.discard(2)  # {1, 3}\n",
        "   meu_conjunto.discard(4)  # {1, 3} (não gera erro)\n",
        "   ```\n",
        "\n",
        "4. **`set.pop()`**\n",
        "   - Remove e retorna um elemento arbitrário do conjunto. Gera um erro se o conjunto estiver vazio.\n",
        "   ```python\n",
        "   meu_conjunto = {1, 2, 3}\n",
        "   elemento = meu_conjunto.pop()  # Remove e retorna um elemento arbitrário\n",
        "   ```\n",
        "\n",
        "5. **`set.clear()`**\n",
        "   - Remove todos os elementos do conjunto.\n",
        "   ```python\n",
        "   meu_conjunto = {1, 2, 3}\n",
        "   meu_conjunto.clear()  # set()\n",
        "   ```\n",
        "\n",
        "6. **`set.copy()`**\n",
        "   - Retorna uma cópia superficial do conjunto.\n",
        "   ```python\n",
        "   meu_conjunto = {1, 2, 3}\n",
        "   copia_conjunto = meu_conjunto.copy()  # {1, 2, 3}\n",
        "   ```\n",
        "\n",
        "7. **`set.union(*sets)`**\n",
        "   - Retorna um novo conjunto contendo todos os elementos que estão em qualquer um dos conjuntos fornecidos.\n",
        "   ```python\n",
        "   conjunto1 = {1, 2}\n",
        "   conjunto2 = {2, 3}\n",
        "   uniao = conjunto1.union(conjunto2)  # {1, 2, 3}\n",
        "   ```\n",
        "\n",
        "8. **`set.intersection(*sets)`**\n",
        "   - Retorna um novo conjunto contendo todos os elementos que estão em todos os conjuntos fornecidos.\n",
        "   ```python\n",
        "   conjunto1 = {1, 2, 3}\n",
        "   conjunto2 = {2, 3, 4}\n",
        "   intersecao = conjunto1.intersection(conjunto2)  # {2, 3}\n",
        "   ```\n",
        "\n",
        "9. **`set.difference(*sets)`**\n",
        "   - Retorna um novo conjunto contendo todos os elementos que estão no conjunto original e não estão em nenhum dos conjuntos fornecidos.\n",
        "   ```python\n",
        "   conjunto1 = {1, 2, 3}\n",
        "   conjunto2 = {2, 3, 4}\n",
        "   diferenca = conjunto1.difference(conjunto2)  # {1}\n",
        "   ```\n",
        "\n",
        "10. **`set.symmetric_difference(other_set)`**\n",
        "    - Retorna um novo conjunto contendo todos os elementos que estão em exatamente um dos conjuntos fornecidos, mas não em ambos.\n",
        "    ```python\n",
        "    conjunto1 = {1, 2, 3}\n",
        "    conjunto2 = {2, 3, 4}\n",
        "    diff_simetrica = conjunto1.symmetric_difference(conjunto2)  # {1, 4}\n",
        "    ```"
      ],
      "metadata": {
        "id": "8mecCBgwwtiR"
      }
    },
    {
      "cell_type": "markdown",
      "source": [
        "### 2.5.2. Operações com conjuntos"
      ],
      "metadata": {
        "id": "8jHpuqqGxG-0"
      }
    },
    {
      "cell_type": "markdown",
      "source": [
        "Essas operações permitem realizar manipulações e análises avançadas em conjuntos, aproveitando a capacidade dos conjuntos de realizar cálculos matemáticos e lógicos de forma eficiente.\n",
        "\n",
        "1. **União com `|` e `set.union()`**\n",
        "   - Combina os elementos de dois ou mais conjuntos. O resultado contém todos os elementos que estão em qualquer um dos conjuntos.\n",
        "   ```python\n",
        "   conjunto1 = {1, 2, 3}\n",
        "   conjunto2 = {3, 4, 5}\n",
        "   uniao = conjunto1 | conjunto2  # {1, 2, 3, 4, 5}\n",
        "   uniao = conjunto1.union(conjunto2)  # {1, 2, 3, 4, 5}\n",
        "   ```\n",
        "\n",
        "2. **Interseção com `&` e `set.intersection()`**\n",
        "   - Retorna os elementos que estão em todos os conjuntos fornecidos.\n",
        "   ```python\n",
        "   conjunto1 = {1, 2, 3}\n",
        "   conjunto2 = {2, 3, 4}\n",
        "   interseccao = conjunto1 & conjunto2  # {2, 3}\n",
        "   interseccao = conjunto1.intersection(conjunto2)  # {2, 3}\n",
        "   ```\n",
        "\n",
        "3. **Diferença com `-` e `set.difference()`**\n",
        "   - Retorna os elementos que estão no primeiro conjunto e não estão nos conjuntos subsequentes.\n",
        "   ```python\n",
        "   conjunto1 = {1, 2, 3}\n",
        "   conjunto2 = {2, 3, 4}\n",
        "   diferenca = conjunto1 - conjunto2  # {1}\n",
        "   diferenca = conjunto1.difference(conjunto2)  # {1}\n",
        "   ```\n",
        "\n",
        "4. **Diferença Simétrica com `^` e `set.symmetric_difference()`**\n",
        "   - Retorna os elementos que estão em exatamente um dos conjuntos fornecidos, mas não em ambos.\n",
        "   ```python\n",
        "   conjunto1 = {1, 2, 3}\n",
        "   conjunto2 = {2, 3, 4}\n",
        "   diff_simetrica = conjunto1 ^ conjunto2  # {1, 4}\n",
        "   diff_simetrica = conjunto1.symmetric_difference(conjunto2)  # {1, 4}\n",
        "   ```\n",
        "\n",
        "5. **Subconjunto com `<=` e `set.issubset()`**\n",
        "   - Verifica se todos os elementos do conjunto estão em outro conjunto.\n",
        "   ```python\n",
        "   conjunto1 = {1, 2}\n",
        "   conjunto2 = {1, 2, 3}\n",
        "   e_subconjunto = conjunto1 <= conjunto2  # True\n",
        "   e_subconjunto = conjunto1.issubset(conjunto2)  # True\n",
        "   ```\n",
        "\n",
        "6. **Superconjunto com `>=` e `set.issuperset()`**\n",
        "   - Verifica se todos os elementos do outro conjunto estão no conjunto original.\n",
        "   ```python\n",
        "   conjunto1 = {1, 2, 3}\n",
        "   conjunto2 = {1, 2}\n",
        "   e_superconjunto = conjunto1 >= conjunto2  # True\n",
        "   e_superconjunto = conjunto1.issuperset(conjunto2)  # True\n",
        "   ```\n",
        "\n",
        "7. **Complemento (Diferença com relação a um conjunto universal)**\n",
        "   - Para obter o complemento em relação a um conjunto universal, você precisa usar a diferença com o conjunto universal. Não há um método direto para o complemento.\n",
        "   ```python\n",
        "   conjunto_universal = {1, 2, 3, 4, 5}\n",
        "   conjunto = {1, 2}\n",
        "   complemento = conjunto_universal - conjunto  # {3, 4, 5}\n",
        "   ```\n"
      ],
      "metadata": {
        "id": "mXPW80dqxKHy"
      }
    },
    {
      "cell_type": "markdown",
      "source": [
        "## 2.6. dicionário = dict{ 'chave'(imutável e única) : valor(mutável e admite repetição) }"
      ],
      "metadata": {
        "id": "ZzRmUm3XlzaS"
      }
    },
    {
      "cell_type": "markdown",
      "source": [
        "Em Python, dicionários são alocados dinamicamente na memória e são implementados como tabelas de hash. Isso permite que eles ofereçam operações rápidas de inserção, busca e exclusão de pares chave-valor. Quando um novo item é adicionado, o dicionário pode redimensionar sua tabela de hash para manter a eficiência, distribuindo elementos em buckets para reduzir colisões. Python gerencia a memória de dicionários de forma eficiente, utilizando técnicas como o redimensionamento automático da tabela de hash e a otimização de armazenamento para manter o desempenho durante operações frequentes. As chaves dos dicionários devem ser imutáveis, enquanto os valores podem ser de qualquer tipo."
      ],
      "metadata": {
        "id": "6Uhyz-sOm7F8"
      }
    },
    {
      "cell_type": "markdown",
      "source": [
        "### 2.6.1. Principais métodos em dicionários"
      ],
      "metadata": {
        "id": "cBMzHcUoxbMS"
      }
    },
    {
      "cell_type": "markdown",
      "source": [
        "Esses métodos são úteis para acessar, modificar e gerenciar os dados armazenados em dicionários de maneira eficiente.\n",
        "\n",
        "1. **`dict.get(key, default=None)`**\n",
        "   - Retorna o valor associado à chave `key`. Se a chave não existir, retorna o valor padrão `default` (ou `None` se não for fornecido).\n",
        "   ```python\n",
        "   meu_dicionario = {\"a\": 1, \"b\": 2}\n",
        "   valor = meu_dicionario.get(\"b\")  # 2\n",
        "   valor = meu_dicionario.get(\"c\", \"não encontrado\")  # \"não encontrado\"\n",
        "   ```\n",
        "\n",
        "2. **`dict.keys()`**\n",
        "   - Retorna uma visualização das chaves do dicionário.\n",
        "   ```python\n",
        "   meu_dicionario = {\"a\": 1, \"b\": 2}\n",
        "   chaves = meu_dicionario.keys()  # dict_keys(['a', 'b'])\n",
        "   ```\n",
        "\n",
        "3. **`dict.values()`**\n",
        "   - Retorna uma visualização dos valores do dicionário.\n",
        "   ```python\n",
        "   meu_dicionario = {\"a\": 1, \"b\": 2}\n",
        "   valores = meu_dicionario.values()  # dict_values([1, 2])\n",
        "   ```\n",
        "\n",
        "4. **`dict.items()`**\n",
        "   - Retorna uma visualização dos pares chave-valor do dicionário.\n",
        "   ```python\n",
        "   meu_dicionario = {\"a\": 1, \"b\": 2}\n",
        "   pares = meu_dicionario.items()  # dict_items([('a', 1), ('b', 2)])\n",
        "   ```\n",
        "\n",
        "5. **`dict.update([other])`**\n",
        "   - Atualiza o dicionário com os pares chave-valor de outro dicionário ou iterável de pares chave-valor. Substitui os valores existentes com os novos valores.\n",
        "   ```python\n",
        "   meu_dicionario = {\"a\": 1}\n",
        "   meu_dicionario.update({\"b\": 2, \"a\": 3})  # {\"a\": 3, \"b\": 2}\n",
        "   ```\n",
        "\n",
        "6. **`dict.pop(key, default=None)`**\n",
        "   - Remove e retorna o valor associado à chave `key`. Se a chave não existir e um valor padrão for fornecido, retorna o valor padrão. Caso contrário, gera um erro se a chave não existir.\n",
        "   ```python\n",
        "   meu_dicionario = {\"a\": 1, \"b\": 2}\n",
        "   valor = meu_dicionario.pop(\"a\")  # 1\n",
        "   valor = meu_dicionario.pop(\"c\", \"não encontrado\")  # \"não encontrado\"\n",
        "   ```\n",
        "\n",
        "7. **`dict.popitem()`**\n",
        "   - Remove e retorna um par chave-valor arbitrário do dicionário. Gera um erro se o dicionário estiver vazio.\n",
        "   ```python\n",
        "   meu_dicionario = {\"a\": 1, \"b\": 2}\n",
        "   item = meu_dicionario.popitem()  # ('b', 2) (ou ('a', 1), dependendo da implementação)\n",
        "   ```\n",
        "\n",
        "8. **`dict.clear()`**\n",
        "   - Remove todos os pares chave-valor do dicionário.\n",
        "   ```python\n",
        "   meu_dicionario = {\"a\": 1, \"b\": 2}\n",
        "   meu_dicionario.clear()  # {}\n",
        "   ```\n",
        "\n",
        "9. **`dict.copy()`**\n",
        "   - Retorna uma cópia superficial do dicionário.\n",
        "   ```python\n",
        "   meu_dicionario = {\"a\": 1, \"b\": 2}\n",
        "   copia_dicionario = meu_dicionario.copy()  # {\"a\": 1, \"b\": 2}\n",
        "   ```"
      ],
      "metadata": {
        "id": "OmEPykfQxgRl"
      }
    },
    {
      "cell_type": "markdown",
      "source": [
        "### 2.6.2. Operações com dicionários"
      ],
      "metadata": {
        "id": "izUvg44Fxl8V"
      }
    },
    {
      "cell_type": "markdown",
      "source": [
        "Essas operações ajudam a gerenciar e manipular dicionários de forma eficaz em Python, oferecendo diversas maneiras de acessar, modificar e interagir com os dados armazenados.\n",
        "\n",
        "1. **Acesso a Valores**\n",
        "   - Acessa o valor associado a uma chave usando a sintaxe de colchetes ou o método `get()`.\n",
        "   ```python\n",
        "   meu_dicionario = {\"nome\": \"Alice\", \"idade\": 30}\n",
        "   nome = meu_dicionario[\"nome\"]  # \"Alice\"\n",
        "   idade = meu_dicionario.get(\"idade\")  # 30\n",
        "   ```\n",
        "\n",
        "2. **Inserção e Atualização**\n",
        "   - Adiciona ou atualiza um par chave-valor no dicionário. Se a chave já existir, o valor é atualizado; caso contrário, um novo par é adicionado.\n",
        "   ```python\n",
        "   meu_dicionario = {\"nome\": \"Alice\"}\n",
        "   meu_dicionario[\"idade\"] = 30  # {\"nome\": \"Alice\", \"idade\": 30}\n",
        "   meu_dicionario[\"idade\"] = 31  # {\"nome\": \"Alice\", \"idade\": 31}\n",
        "   ```\n",
        "\n",
        "3. **Remoção de Itens**\n",
        "   - Remove um par chave-valor usando `pop()` ou `popitem()`. Também é possível remover todos os itens com `clear()`.\n",
        "   ```python\n",
        "   meu_dicionario = {\"nome\": \"Alice\", \"idade\": 30}\n",
        "   valor_removido = meu_dicionario.pop(\"idade\")  # 30\n",
        "   item_removido = meu_dicionario.popitem()  # (\"nome\", \"Alice\")\n",
        "   meu_dicionario.clear()  # {}\n",
        "   ```\n",
        "\n",
        "4. **Verificação de Chaves**\n",
        "   - Verifica se uma chave está presente no dicionário usando o operador `in`.\n",
        "   ```python\n",
        "   meu_dicionario = {\"nome\": \"Alice\"}\n",
        "   existe_nome = \"nome\" in meu_dicionario  # True\n",
        "   ```\n",
        "\n",
        "5. **Iteração**\n",
        "   - Itera sobre as chaves, valores ou pares chave-valor usando loops `for`.\n",
        "\n",
        "   ```python\n",
        "   meu_dicionario = {\"nome\": \"Alice\", \"idade\": 30}\n",
        "   for chave in meu_dicionario:\n",
        "       print(chave, meu_dicionario[chave])\n",
        "   # nome Alice\n",
        "   # idade 30\n",
        "   ```\n",
        "   for valor in meu_dicionario.values():\n",
        "       print(valor) # 30\n",
        "\n",
        "\n",
        "   ```\n",
        "   for chave, valor in meu_dicionario.items():\n",
        "       print(chave, valor)\n",
        "   # nome Alice\n",
        "   # idade 30\n",
        "   ```\n",
        "\n",
        "6. **Métodos de Visualização**\n",
        "   - Obtém visualizações das chaves, valores e pares chave-valor usando `keys()`, `values()` e `items()`.\n",
        "   ```python\n",
        "   meu_dicionario = {\"nome\": \"Alice\", \"idade\": 30}\n",
        "   chaves = meu_dicionario.keys()  # dict_keys(['nome', 'idade'])\n",
        "   valores = meu_dicionario.values()  # dict_values(['Alice', 30])\n",
        "   pares = meu_dicionario.items()  # dict_items([('nome', 'Alice'), ('idade', 30)])\n",
        "   ```\n",
        "\n",
        "7. **Cópia**\n",
        "   - Cria uma cópia superficial do dicionário usando `copy()`.\n",
        "   ```python\n",
        "   meu_dicionario = {\"nome\": \"Alice\", \"idade\": 30}\n",
        "   copia_dicionario = meu_dicionario.copy()  # {\"nome\": \"Alice\", \"idade\": 30}\n",
        "   ```\n",
        "\n",
        "8. **Atualização com `update()`**\n",
        "   - Atualiza o dicionário com os pares chave-valor de outro dicionário ou iterável.\n",
        "   ```python\n",
        "   meu_dicionario = {\"nome\": \"Alice\"}\n",
        "   meu_dicionario.update({\"idade\": 30, \"cidade\": \"São Paulo\"})\n",
        "   # {\"nome\": \"Alice\", \"idade\": 30, \"cidade\": \"São Paulo\"}\n",
        "   ```"
      ],
      "metadata": {
        "id": "Ots4vMXmymGj"
      }
    },
    {
      "cell_type": "markdown",
      "source": [
        "# Referências"
      ],
      "metadata": {
        "id": "2UPBz9yxfZ5p"
      }
    },
    {
      "cell_type": "markdown",
      "source": [
        "- Playlist sobre programação funcional: https://www.youtube.com/watch?v=wSnCxSrHcho&list=PLC-dUCVQghfewvnt_54Bz9da19z14dHQm&pp=iAQB\n",
        "\n",
        "- Documentação oficial da linguagem: https://docs.python.org/pt-br/3/tutorial/\n",
        "\n"
      ],
      "metadata": {
        "id": "g_9m-s9D59ht"
      }
    }
  ]
}