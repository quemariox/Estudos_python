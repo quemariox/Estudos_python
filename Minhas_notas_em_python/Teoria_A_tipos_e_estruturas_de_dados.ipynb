{
  "nbformat": 4,
  "nbformat_minor": 0,
  "metadata": {
    "colab": {
      "private_outputs": true,
      "provenance": [],
      "authorship_tag": "ABX9TyOJwaz3CRpNTu2mcMUT14TL",
      "include_colab_link": true
    },
    "kernelspec": {
      "name": "python3",
      "display_name": "Python 3"
    },
    "language_info": {
      "name": "python"
    }
  },
  "cells": [
    {
      "cell_type": "markdown",
      "metadata": {
        "id": "view-in-github",
        "colab_type": "text"
      },
      "source": [
        "<a href=\"https://colab.research.google.com/github/quemariox/Estudos_python/blob/main/Minhas_notas_em_python/Teoria_A_tipos_e_estruturas_de_dados.ipynb\" target=\"_parent\"><img src=\"https://colab.research.google.com/assets/colab-badge.svg\" alt=\"Open In Colab\"/></a>"
      ]
    },
    {
      "cell_type": "markdown",
      "source": [
        "# 1. Introdução à Python - Parte 1: Tipos primitivos"
      ],
      "metadata": {
        "id": "z4Pk4v3R6RWe"
      }
    },
    {
      "cell_type": "markdown",
      "source": [
        "## 1.1. Origem e características"
      ],
      "metadata": {
        "id": "Ttz3_XyHcy45"
      }
    },
    {
      "cell_type": "markdown",
      "source": [
        "**Origem:**\n",
        "- Python é uma linguagem de programação criada em 1990 por Guido van Rossum, a versão 2.0 surgiu no ano 2000 e a versão 3.0 surgiu em 2008.\n",
        "- Atualmente é uma linguagem de grande popularidade com aplicações em ensino de programação, ciência de dados e computação científica.\n",
        "\n",
        "**Características da linguagem:**\n",
        "  \n",
        "  - **Linguagem de Alto Nível:** Python abstrai muitos detalhes complexos do hardware do computador, permitindo que os programadores escrevam código de maneira mais intuitiva e legível. Isso facilita o desenvolvimento rápido e a manutenção do código.\n",
        "\n",
        "  - **Dinâmica:** Em Python, a tipagem é dinâmica, o que significa que você não precisa declarar explicitamente os tipos das variáveis. O tipo de uma variável é determinado em tempo de execução, permitindo maior flexibilidade e simplicidade no código.\n",
        "\n",
        "  - **Multiparadigma:** Python suporta múltiplos paradigmas de programação, incluindo:\n",
        "    - *Programação Procedural:* Baseada em funções, permitindo a estruturação do código em procedimentos ou rotinas.\n",
        "    - *Programação Orientada a Objetos:* Organiza o código em classes e objetos, facilitando a modelagem de dados e comportamentos.\n",
        "    - *Programação Funcional:* Trata computação como a avaliação de funções matemáticas, utilizando conceitos como funções de ordem superior e imutabilidade.\n",
        "\n",
        "Essas características tornam Python uma linguagem versátil e popular, adequada para uma ampla variedade de tarefas, desde scripts simples até aplicações complexas."
      ],
      "metadata": {
        "id": "I2AK5BAx27Zm"
      }
    },
    {
      "cell_type": "markdown",
      "source": [
        "## 1.2. Ambientes e bibliotecas"
      ],
      "metadata": {
        "id": "97ZAO-abdWKE"
      }
    },
    {
      "cell_type": "markdown",
      "source": [
        "\n",
        "- *SciPy (2001):* Biblioteca que complementa o NumPy, oferecendo algoritmos e funções avançadas para matemática, ciência e engenharia.\n",
        "\n",
        "- *Matplotlib (2003):* Biblioteca de plotagem 2D que permite a criação de gráficos e visualizações variadas, sendo amplamente usada para geração de figuras estáticas, animadas e interativas.\n",
        "\n",
        "- *NumPy (2006):* Biblioteca fundamental para computação científica em Python, com suporte para arrays multidimensionais e uma coleção de funções matemáticas.\n",
        "\n",
        "- *scikit-learn (2007):* Biblioteca de aprendizado de máquina que oferece ferramentas eficientes e simples para análise de dados e mineração de dados.\n",
        "\n",
        "- *Pandas (2008):* Biblioteca essencial para manipulação e análise de dados, proporcionando estruturas de dados como DataFrames, que facilitam o trabalho com dados tabulares.\n",
        "\n",
        "- *Seaborn (2012):* é uma biblioteca de visualização de dados baseada no Matplotlib, que facilita a criação de gráficos estatísticos atraentes. Oferece integração perfeita com Pandas e suporta diversos tipos de gráficos, como scatter plots, box plots e heatmaps. É ideal para análise exploratória de dados.\n",
        "\n",
        "- *TensorFlow (2015):* é uma biblioteca de código aberto para computação numérica e aprendizado de máquina, desenvolvida pelo Google. Suporta uma ampla gama de algoritmos de machine learning e deep learning, escalando facilmente em várias CPUs e GPUs. Integra-se bem com Keras para construção e treinamento de modelos.\n",
        "\n",
        "- *Jupyter (2015):* Ambiente interativo de notebooks que permite a criação e compartilhamento de documentos que contêm código, visualizações e texto narrativo.\n",
        "\n",
        "- *Google Colab (2017):* Plataforma gratuita que permite executar notebooks Jupyter na nuvem, oferecendo acesso a recursos de computação, incluindo GPUs e TPUs."
      ],
      "metadata": {
        "id": "jKFKXl_sdeFN"
      }
    },
    {
      "cell_type": "markdown",
      "source": [
        "## 1.3. Tipos primitivos no python"
      ],
      "metadata": {
        "id": "W3untjqcfQLs"
      }
    },
    {
      "cell_type": "markdown",
      "source": [
        "- **`int`**: Representa números inteiros, positivos ou negativos, sem parte decimal. Exemplo: `42`, `-7`.\n",
        "\n",
        "- **`float`**: Representa números de ponto flutuante, com parte decimal. Exemplo: `3.14`, `-0.001`.\n",
        "\n",
        "- **`complex`**: Representa números complexos com parte real e imaginária. Exemplo: `2 + 3j`.\n",
        "\n",
        "- **`bool`**: Representa valores booleanos, `True` ou `False`, frequentemente usados em operações lógicas. Exemplo: `True`, `False`.\n",
        "\n",
        "- **`str`**: Representa sequências de caracteres, ou strings, usadas para manipular texto. Exemplo: `\"hello\"`, `'Python'`.\n",
        "\n",
        "- **`NoneType`**: Representa a ausência de valor ou um valor nulo. Há apenas uma instância deste tipo: `None`."
      ],
      "metadata": {
        "id": "eJttG9li41kh"
      }
    },
    {
      "cell_type": "markdown",
      "source": [
        "#  2. Introdução à Python - Parte 2: Estruturas de dados"
      ],
      "metadata": {
        "id": "Qy8Aq3wc4qTy"
      }
    },
    {
      "cell_type": "markdown",
      "source": [
        "## 2.1. Resumo"
      ],
      "metadata": {
        "id": "wZP2oN1zNL-R"
      }
    },
    {
      "cell_type": "markdown",
      "source": [
        "Os tipos compostos em Python são estruturas de dados que podem conter múltiplos itens. Eles são fundamentais para organizar e manipular coleções de dados. Os principais tipos compostos em Python:\n",
        "\n",
        "1. **Listas (list)**: Coleções ordenadas de itens que podem ser de diferentes tipos. Listas são mutáveis, permitindo a modificação de seus elementos após a criação.\n",
        "   ```python\n",
        "   minha_lista = [1, 2, 3, \"a\", \"b\", \"c\"]\n",
        "   minha_lista[0] = 10  # Modifica o primeiro elemento\n",
        "   ```\n",
        "\n",
        "2. **Strings (str)**: Sequências ordenadas de caracteres usadas para representar texto. São imutáveis, ou seja, qualquer operação que modifique uma string cria uma nova string.\n",
        "   ```python\n",
        "   minha_string = \"Hello, World!\"\n",
        "   nova_string = minha_string.upper()  # \"HELLO, WORLD!\"\n",
        "   ```\n",
        "\n",
        "3. **Tuplas (tuple)**: Coleções ordenadas de itens, semelhantes às listas, mas são imutáveis, ou seja, seus elementos não podem ser alterados após a criação.\n",
        "   ```python\n",
        "   minha_tupla = (1, 2, 3, \"a\", \"b\", \"c\")\n",
        "   # minha_tupla[0] = 10  # Isso geraria um erro\n",
        "   ```\n",
        "\n",
        "4. **Conjuntos (set)**: Coleções não ordenadas de itens únicos. São úteis para eliminar duplicatas e realizar operações matemáticas como união, interseção e diferença.\n",
        "   ```python\n",
        "   meu_conjunto = {1, 2, 3, 4, 4, 5}\n",
        "   # meu_conjunto = {1, 2, 3, 4, 5}\n",
        "   ```\n",
        "\n",
        "5. **Dicionários (dict)**: Coleções de pares chave-valor. Cada chave deve ser única e imutável, enquanto os valores podem ser de qualquer tipo e são acessados usando as chaves.\n",
        "   ```python\n",
        "   meu_dicionario = {\"nome\": \"Alice\", \"idade\": 25, \"cidade\": \"São Paulo\"}\n",
        "   meu_dicionario[\"idade\"] = 26  # Modifica o valor associado à chave \"idade\"\n",
        "   ```\n",
        "\n",
        "6. **Listas de Compreensão (list comprehension)**: Sintaxe concisa para criar listas de forma declarativa. Utilizadas para construir listas a partir de outros iteráveis, aplicando uma expressão e, opcionalmente, uma condição.\n",
        "   ```python\n",
        "   quadrados = [x**2 for x in range(10)]\n",
        "   # quadrados = [0, 1, 4, 9, 16, 25, 36, 49, 64, 81]\n",
        "   ```\n",
        "Esses tipos compostos oferecem flexibilidade e poder para lidar com diferentes formas de dados e realizar operações complexas de maneira eficiente e intuitiva em Python."
      ],
      "metadata": {
        "id": "eurWup5D8LCT"
      }
    },
    {
      "cell_type": "markdown",
      "source": [
        "## 2.2. lista = list[ordenada, mutável, permite elementos duplicados]"
      ],
      "metadata": {
        "id": "IN71x9sC90q6"
      }
    },
    {
      "cell_type": "markdown",
      "source": [
        "Em Python, listas são alocadas dinamicamente na memória. Elas são implementadas como arrays dinâmicos, que permitem o crescimento e a redução do tamanho conforme necessário. Isso significa que a lista pode expandir sua capacidade de armazenamento automaticamente quando novos elementos são adicionados, sem necessidade de alocação manual de memória pelo usuário. Internamente, Python usa uma estratégia de alocação que pode reservar mais espaço do que o necessário para evitar realocações frequentes.\n"
      ],
      "metadata": {
        "id": "72n3ezNa93Eh"
      }
    },
    {
      "cell_type": "markdown",
      "source": [
        "### 2.2.1. Pricipais métodos de listas"
      ],
      "metadata": {
        "id": "3-tub2r8ra7e"
      }
    },
    {
      "cell_type": "markdown",
      "source": [
        "Esses métodos oferecem uma ampla gama de operações para modificar e manipular listas em Python, tornando-as flexíveis e poderosas para várias tarefas.\n",
        "\n",
        "1. **`list.append(item)`**: Adiciona um item ao final da lista.\n",
        "   ```python\n",
        "   minha_lista = [1, 2, 3]\n",
        "   minha_lista.append(4)  # [1, 2, 3, 4]\n",
        "   ```\n",
        "\n",
        "2. **`list.extend(iterable)`**: Adiciona todos os itens de um iterável (como uma lista ou tupla) ao final da lista.\n",
        "   ```python\n",
        "   minha_lista = [1, 2]\n",
        "   minha_lista.extend([3, 4])  # [1, 2, 3, 4]\n",
        "   ```\n",
        "\n",
        "3. **`list.insert(index, item)`**: Insere um item em uma posição específica da lista. Os itens existentes são deslocados para a direita.\n",
        "   ```python\n",
        "   minha_lista = [1, 2, 3]\n",
        "   minha_lista.insert(1, 1.5)  # [1, 1.5, 2, 3]\n",
        "   ```\n",
        "\n",
        "4. **`list.remove(item)`**: Remove a primeira ocorrência de um item específico da lista. Gera um erro se o item não estiver presente.\n",
        "   ```python\n",
        "   minha_lista = [1, 2, 3, 2]\n",
        "   minha_lista.remove(2)  # [1, 3, 2]\n",
        "   ```\n",
        "\n",
        "5. **`list.pop([index])`**: Remove e retorna o item na posição especificada (ou o último item se nenhum índice for fornecido). Gera um erro se a lista estiver vazia.\n",
        "   ```python\n",
        "   minha_lista = [1, 2, 3]\n",
        "   item = minha_lista.pop()  # item = 3, minha_lista = [1, 2]\n",
        "   ```\n",
        "\n",
        "6. **`list.clear()`**: Remove todos os itens da lista.\n",
        "   ```python\n",
        "   minha_lista = [1, 2, 3]\n",
        "   minha_lista.clear()  # []\n",
        "   ```\n",
        "\n",
        "7. **`list.index(item, [start, [end]])`**: Retorna o índice da primeira ocorrência do item na lista. Pode opcionalmente especificar o intervalo de busca.\n",
        "   ```python\n",
        "   minha_lista = [1, 2, 3, 2]\n",
        "   indice = minha_lista.index(2)  # 1\n",
        "   ```\n",
        "\n",
        "8. **`list.count(item)`**: Retorna o número de vezes que o item aparece na lista.\n",
        "   ```python\n",
        "   minha_lista = [1, 2, 2, 3]\n",
        "   contagem = minha_lista.count(2)  # 2\n",
        "   ```\n",
        "\n",
        "9. **`list.sort(key=None, reverse=False)`**: Ordena os itens da lista no local (modifica a lista original). Pode aceitar uma função `key` para a ordenação e um parâmetro `reverse` para ordenar em ordem decrescente.\n",
        "   ```python\n",
        "   minha_lista = [3, 1, 2]\n",
        "   minha_lista.sort()  # [1, 2, 3]\n",
        "   ```\n",
        "\n",
        "10. **`list.reverse()`**: Inverte a ordem dos itens na lista no local.\n",
        "    ```python\n",
        "    minha_lista = [1, 2, 3]\n",
        "    minha_lista.reverse()  # [3, 2, 1]\n",
        "    ```\n",
        "\n",
        "11. **`list.copy()`**: Retorna uma cópia superficial da lista.\n",
        "    ```python\n",
        "    minha_lista = [1, 2, 3]\n",
        "    copia_lista = minha_lista.copy()  # [1, 2, 3]\n",
        "    ```"
      ],
      "metadata": {
        "id": "YJNIX1zXrisj"
      }
    },
    {
      "cell_type": "markdown",
      "source": [
        "### 2.2.2. Operações com listas"
      ],
      "metadata": {
        "id": "F7J2HmtEr23Y"
      }
    },
    {
      "cell_type": "markdown",
      "source": [
        "Essas operações são fundamentais para trabalhar com listas em Python e oferecem uma maneira eficiente de manipular e analisar dados.\n",
        "\n",
        "1. **Indexação**\n",
        "   - Acesso a elementos individuais usando índices.\n",
        "   ```python\n",
        "   minha_lista = [10, 20, 30]\n",
        "   elemento = minha_lista[1]  # 20\n",
        "   ```\n",
        "\n",
        "2. **Fatiamento (Slicing)**\n",
        "   - Extração de sublistas usando faixas de índices.\n",
        "   ```python\n",
        "   minha_lista = [1, 2, 3, 4, 5]\n",
        "   sublista = minha_lista[1:4]  # [2, 3, 4]\n",
        "   ```\n",
        "\n",
        "3. **Concatenção com o operador `+`**\n",
        "   - Combinação de duas listas em uma nova lista.\n",
        "   ```python\n",
        "   lista1 = [1, 2]\n",
        "   lista2 = [3, 4]\n",
        "   lista_combinada = lista1 + lista2  # [1, 2, 3, 4]\n",
        "   ```\n",
        "\n",
        "4. **Repetição com o operador `*`**\n",
        "   - Repetição dos elementos da lista.\n",
        "   ```python\n",
        "   minha_lista = [1, 2]\n",
        "   lista_repetida = minha_lista * 3  # [1, 2, 1, 2, 1, 2]\n",
        "   ```\n",
        "\n",
        "5. **Verificação de Pertinência com `in`**\n",
        "   - Verifica se um elemento está presente na lista.\n",
        "   ```python\n",
        "   minha_lista = [1, 2, 3]\n",
        "   elemento_presente = 2 in minha_lista  # True\n",
        "   ```\n",
        "\n",
        "6. **Comprimento com `len()`**\n",
        "   - Retorna o número de elementos na lista.\n",
        "   ```python\n",
        "   minha_lista = [1, 2, 3]\n",
        "   comprimento = len(minha_lista)  # 3\n",
        "   ```\n",
        "\n",
        "7. **Ordenação com `sorted()`**\n",
        "   - Retorna uma nova lista com os itens ordenados, sem modificar a lista original.\n",
        "   ```python\n",
        "   minha_lista = [3, 1, 2]\n",
        "   lista_ordenada = sorted(minha_lista)  # [1, 2, 3]\n",
        "   ```\n",
        "\n",
        "8. **Inversão com `reversed()`**\n",
        "   - Retorna um iterador que percorre a lista em ordem inversa, sem modificar a lista original.\n",
        "   ```python\n",
        "   minha_lista = [1, 2, 3]\n",
        "   lista_invertida = list(reversed(minha_lista))  # [3, 2, 1]\n",
        "   ```"
      ],
      "metadata": {
        "id": "E4Ny987ur6-s"
      }
    },
    {
      "cell_type": "markdown",
      "source": [
        "## 2.3. string = str('ordenada, imutável, permite elementos duplicados')"
      ],
      "metadata": {
        "id": "zUB67dR7D3MN"
      }
    },
    {
      "cell_type": "markdown",
      "source": [
        "Em Python, strings são alocadas dinamicamente na memória, mas, ao contrário das listas, são imutáveis. Isso significa que, uma vez criada uma string, seu conteúdo não pode ser alterado. Quando uma operação que modifica a string é realizada, uma nova string é criada e a antiga é descartada. Python utiliza uma estratégia de gerenciamento de memória que pode reservar espaço extra para otimizar a criação de novas strings, minimizando a necessidade de alocação frequente de memória. Internamente, Python também utiliza técnicas como interning para strings imutáveis comuns, o que ajuda a economizar memória e acelerar comparações."
      ],
      "metadata": {
        "id": "em2WsMPEkoMI"
      }
    },
    {
      "cell_type": "markdown",
      "source": [
        "### 2.3.1. Principais métodos de strings"
      ],
      "metadata": {
        "id": "fp2rAQMFiIMn"
      }
    },
    {
      "cell_type": "markdown",
      "source": [
        "Esses métodos facilitam a manipulação e análise de strings em Python, tornando a linguagem poderosa para processamento de texto.\n",
        "\n",
        "- **`str.upper()`**: Retorna uma cópia da string com todos os caracteres em maiúsculas.\n",
        "  ```python\n",
        "  \"hello\".upper()  # \"HELLO\"\n",
        "  ```\n",
        "\n",
        "- **`str.lower()`**: Retorna uma cópia da string com todos os caracteres em minúsculas.\n",
        "  ```python\n",
        "  \"HELLO\".lower()  # \"hello\"\n",
        "  ```\n",
        "\n",
        "- **`str.capitalize()`**: Retorna uma cópia da string com o primeiro caractere em maiúsculas e o restante em minúsculas.\n",
        "  ```python\n",
        "  \"hello world\".capitalize()  # \"Hello world\"\n",
        "  ```\n",
        "\n",
        "- **`str.title()`**: Retorna uma cópia da string com a primeira letra de cada palavra em maiúsculas.\n",
        "  ```python\n",
        "  \"hello world\".title()  # \"Hello World\"\n",
        "  ```\n",
        "\n",
        "- **`str.strip()`**: Remove espaços em branco do início e do final da string.\n",
        "  ```python\n",
        "  \"  hello  \".strip()  # \"hello\"\n",
        "  ```\n",
        "\n",
        "- **`str.lstrip()`**: Remove espaços em branco apenas do início da string.\n",
        "  ```python\n",
        "  \"  hello\".lstrip()  # \"hello\"\n",
        "  ```\n",
        "\n",
        "- **`str.rstrip()`**: Remove espaços em branco apenas do final da string.\n",
        "  ```python\n",
        "  \"hello  \".rstrip()  # \"hello\"\n",
        "  ```\n",
        "\n",
        "- **`str.replace(old, new)`**: Substitui todas as ocorrências de uma substring `old` por `new`.\n",
        "  ```python\n",
        "  \"hello world\".replace(\"world\", \"there\")  # \"hello there\"\n",
        "  ```\n",
        "\n",
        "- **`str.split(sep)`**: Divide a string em uma lista de substrings usando o delimitador `sep`.\n",
        "  ```python\n",
        "  \"a,b,c\".split(\",\")  # [\"a\", \"b\", \"c\"]\n",
        "  ```\n",
        "\n",
        "- **`str.join(iterable)`**: Concatena os elementos de um iterável (como uma lista) em uma única string, usando a string original como separador.\n",
        "  ```python\n",
        "  \",\".join([\"a\", \"b\", \"c\"])  # \"a,b,c\"\n",
        "  ```\n",
        "\n",
        "- **`str.find(sub)`**: Retorna o índice da primeira ocorrência da substring `sub` ou -1 se não for encontrada.\n",
        "  ```python\n",
        "  \"hello\".find(\"e\")  # 1\n",
        "  ```\n",
        "\n",
        "- **`str.endswith(suffix)`**: Retorna `True` se a string terminar com a substring `suffix`, caso contrário, `False`.\n",
        "  ```python\n",
        "  \"hello\".endswith(\"lo\")  # True\n",
        "  ```\n",
        "\n",
        "- **`str.startswith(prefix)`**: Retorna `True` se a string começar com a substring `prefix`, caso contrário, `False`.\n",
        "  ```python\n",
        "  \"hello\".startswith(\"he\")  # True\n",
        "  ```"
      ],
      "metadata": {
        "id": "ltdPqo67i5Rh"
      }
    },
    {
      "cell_type": "markdown",
      "source": [
        "### 2.3.2. Operações com strings"
      ],
      "metadata": {
        "id": "oS1-uSqND57g"
      }
    },
    {
      "cell_type": "markdown",
      "source": [
        "As strings em Python suportam algumas operações semelhantes às listas.\n",
        "\n",
        "1. **Indexação**\n",
        "   - **Listas**: Acesso aos elementos usando índices.\n",
        "     ```python\n",
        "     minha_lista = [1, 2, 3]\n",
        "     primeiro_elemento = minha_lista[0]  # 1\n",
        "     ```\n",
        "   - **Strings**: Acesso aos caracteres usando índices.\n",
        "     ```python\n",
        "     minha_string = \"hello\"\n",
        "     primeiro_caractere = minha_string[0]  # 'h'\n",
        "     ```\n",
        "\n",
        "2. **Fatiamento (Slicing)**\n",
        "   - **Listas**: Extração de sublistas usando faixas de índices.\n",
        "     ```python\n",
        "     minha_lista = [1, 2, 3, 4, 5]\n",
        "     sublista = minha_lista[1:4]  # [2, 3, 4]\n",
        "     ```\n",
        "   - **Strings**: Extração de substrings usando faixas de índices.\n",
        "     ```python\n",
        "     minha_string = \"hello\"\n",
        "     substring = minha_string[1:4]  # 'ell'\n",
        "     ```\n",
        "\n",
        "3. **Concatenção com o operador `+`**\n",
        "   - **Listas**: Combinação de duas listas em uma nova lista.\n",
        "     ```python\n",
        "     lista1 = [1, 2]\n",
        "     lista2 = [3, 4]\n",
        "     lista_combinada = lista1 + lista2  # [1, 2, 3, 4]\n",
        "     ```\n",
        "   - **Strings**: Combinação de duas strings em uma nova string.\n",
        "     ```python\n",
        "     string1 = \"hello\"\n",
        "     string2 = \"world\"\n",
        "     string_combinada = string1 + \" \" + string2  # 'hello world'\n",
        "     ```\n",
        "\n",
        "4. **Repetição com o operador `*`**\n",
        "   - **Listas**: Repetição dos elementos da lista.\n",
        "     ```python\n",
        "     minha_lista = [1, 2]\n",
        "     lista_repetida = minha_lista * 3  # [1, 2, 1, 2, 1, 2]\n",
        "     ```\n",
        "   - **Strings**: Repetição da string.\n",
        "     ```python\n",
        "     minha_string = \"abc\"\n",
        "     string_repetida = minha_string * 3  # 'abcabcabc'\n",
        "     ```\n",
        "\n",
        "5. **Verificação de Pertinência com `in`**\n",
        "   - **Listas**: Verifica se um elemento está presente na lista.\n",
        "     ```python\n",
        "     minha_lista = [1, 2, 3]\n",
        "     elemento_presente = 2 in minha_lista  # True\n",
        "     ```\n",
        "   - **Strings**: Verifica se uma substring está presente na string.\n",
        "     ```python\n",
        "     minha_string = \"hello\"\n",
        "     substring_presente = \"ell\" in minha_string  # True\n",
        "     ```\n",
        "\n",
        "6. **Comprimento com `len()`**\n",
        "   - **Listas**: Retorna o número de elementos na lista.\n",
        "     ```python\n",
        "     minha_lista = [1, 2, 3]\n",
        "     comprimento = len(minha_lista)  # 3\n",
        "     ```\n",
        "   - **Strings**: Retorna o número de caracteres na string.\n",
        "     ```python\n",
        "     minha_string = \"hello\"\n",
        "     comprimento = len(minha_string)  # 5\n",
        "     ```\n",
        "\n",
        "Essas operações permitem manipular e analisar tanto listas quanto strings de maneira semelhante, aproveitando a flexibilidade de ambas as estruturas de dados em Python."
      ],
      "metadata": {
        "id": "A4T1BE2pjvp2"
      }
    },
    {
      "cell_type": "markdown",
      "source": [],
      "metadata": {
        "id": "8xb1PfhvlIGc"
      }
    },
    {
      "cell_type": "markdown",
      "source": [
        "## 2.4. tupla = tuple(ordenada, imutável, permite elementos duplicados)"
      ],
      "metadata": {
        "id": "9OhtJwiDltP2"
      }
    },
    {
      "cell_type": "markdown",
      "source": [
        "Em Python, tuplas são alocadas dinamicamente na memória, mas são imutáveis, o que significa que seus elementos não podem ser alterados após a criação. Quando uma tupla é criada, seu tamanho e conteúdo são fixos. Python aloca a memória necessária para armazenar a tupla e seus elementos de forma eficiente, sem a necessidade de redimensionamento. Por serem imutáveis, as tuplas têm um custo menor em termos de sobrecarga de memória e operações de leitura, comparadas às listas. Além disso, Python pode otimizar o armazenamento de tuplas com elementos constantes através de técnicas como interning, especialmente para tuplas pequenas e frequentemente usadas."
      ],
      "metadata": {
        "id": "85hCMyuumtKy"
      }
    },
    {
      "cell_type": "markdown",
      "source": [
        "## 2.5. conjunto = set(não ordenada, imutável, não permite elementos duplicados)"
      ],
      "metadata": {
        "id": "JHp-UxEzmbZd"
      }
    },
    {
      "cell_type": "markdown",
      "source": [
        "Em Python, conjuntos (`sets`) são alocados dinamicamente na memória e são estruturas de dados não ordenadas que armazenam itens únicos. Eles são implementados usando tabelas de hash, o que permite operações rápidas de inserção, exclusão e verificação de pertencimento. Ao adicionar ou remover elementos, a tabela de hash pode ser redimensionada automaticamente para manter a eficiência. Python gerencia a memória alocada para conjuntos de forma a minimizar o custo de operações frequentes e manter a performance, reatribuindo espaço conforme necessário. Os conjuntos também utilizam uma estratégia para evitar duplicatas, garantindo que cada elemento seja único dentro da coleção."
      ],
      "metadata": {
        "id": "2O-G9dCNmzME"
      }
    },
    {
      "cell_type": "markdown",
      "source": [
        "## 2.5. dicionário = dict{ 'chave'(imutável e única) : valor(mutável e admite repetição) }"
      ],
      "metadata": {
        "id": "ZzRmUm3XlzaS"
      }
    },
    {
      "cell_type": "markdown",
      "source": [
        "Em Python, dicionários são alocados dinamicamente na memória e são implementados como tabelas de hash. Isso permite que eles ofereçam operações rápidas de inserção, busca e exclusão de pares chave-valor. Quando um novo item é adicionado, o dicionário pode redimensionar sua tabela de hash para manter a eficiência, distribuindo elementos em buckets para reduzir colisões. Python gerencia a memória de dicionários de forma eficiente, utilizando técnicas como o redimensionamento automático da tabela de hash e a otimização de armazenamento para manter o desempenho durante operações frequentes. As chaves dos dicionários devem ser imutáveis, enquanto os valores podem ser de qualquer tipo."
      ],
      "metadata": {
        "id": "6Uhyz-sOm7F8"
      }
    },
    {
      "cell_type": "markdown",
      "source": [
        "# Referências"
      ],
      "metadata": {
        "id": "2UPBz9yxfZ5p"
      }
    },
    {
      "cell_type": "markdown",
      "source": [
        "- Playlist sobre programação funcional: https://www.youtube.com/watch?v=wSnCxSrHcho&list=PLC-dUCVQghfewvnt_54Bz9da19z14dHQm&pp=iAQB\n",
        "\n",
        "- Documentação oficial da linguagem: https://docs.python.org/pt-br/3/tutorial/\n",
        "\n"
      ],
      "metadata": {
        "id": "g_9m-s9D59ht"
      }
    }
  ]
}