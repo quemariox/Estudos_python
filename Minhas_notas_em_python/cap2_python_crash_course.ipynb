{
 "cells": [
  {
   "cell_type": "markdown",
   "metadata": {},
   "source": [
    "# Capítulo 2. Variáveis e tipos de dados simples"
   ]
  },
  {
   "cell_type": "markdown",
   "metadata": {},
   "source": [
    "## 2.1. Strings"
   ]
  },
  {
   "cell_type": "markdown",
   "metadata": {},
   "source": [
    "Uma string é simplesmente uma série de caracteres. Tudo que estiver entre aspas é considerada uma string em Python, e você pode usar aspas simples ou duplas em torno de suas strings, assim: \n",
    "- \"This is a string.\" \n",
    "- 'This is also a string.'\n",
    "\n",
    "Essa flexibilidade permite usar aspas e apóstrofos em suas strings: \n",
    "- 'I told my friend, \"Python is my favorite language!\"'\n",
    "- \"The language 'Python' is named after Monty Python, not the snake.\"\n",
    "- \"One of Python's strengths is its diverse and supportive community.\""
   ]
  },
  {
   "cell_type": "markdown",
   "metadata": {},
   "source": [
    "### Atribuição "
   ]
  },
  {
   "cell_type": "markdown",
   "metadata": {},
   "source": [
    "2.1 – Mensagem simples: Armazene uma mensagem em uma variável e, em seguida, exiba essa mensagem.\n",
    "\n",
    "2.2 – Mensagens simples: Armazene uma mensagem em uma variável e, em seguida, exiba essa mensagem. Então altere o valor de sua variável para uma nova mensagem e mostre essa nova mensagem."
   ]
  },
  {
   "cell_type": "code",
   "execution_count": 75,
   "metadata": {},
   "outputs": [
    {
     "name": "stdout",
     "output_type": "stream",
     "text": [
      "uma mensagem\n",
      "uma OUTRA mensagem\n"
     ]
    }
   ],
   "source": [
    "msg = 'uma mensagem'\n",
    "print(msg)\n",
    "\n",
    "msg = 'uma OUTRA mensagem'\n",
    "print(msg)"
   ]
  },
  {
   "cell_type": "markdown",
   "metadata": {},
   "source": [
    "### Mudando para letras maiúsculas e minúsculas em uma string usando métodos"
   ]
  },
  {
   "cell_type": "code",
   "execution_count": 76,
   "metadata": {},
   "outputs": [
    {
     "name": "stdout",
     "output_type": "stream",
     "text": [
      "Mário Lucas Miguel\n",
      "mário lucas miguel\n",
      "MÁRIO LUCAS MIGUEL\n"
     ]
    }
   ],
   "source": [
    "nome = 'mário lucas miguel'\n",
    "\n",
    "#método para formatar como título\n",
    "print(nome.title())\n",
    "\n",
    "#método para caixa baixa\n",
    "print(nome.lower())\n",
    "\n",
    "#método para caixa alta\n",
    "print(nome.upper())"
   ]
  },
  {
   "cell_type": "markdown",
   "metadata": {},
   "source": [
    "### Combinando ou concatenando strings"
   ]
  },
  {
   "cell_type": "code",
   "execution_count": 77,
   "metadata": {},
   "outputs": [
    {
     "name": "stdout",
     "output_type": "stream",
     "text": [
      "O nome completo é: Mário Lucas Miguel\n"
     ]
    }
   ],
   "source": [
    "nome_1 = 'mário'\n",
    "nome_2 = 'lucas'\n",
    "nome_3 = 'miguel'\n",
    "\n",
    "nome_completo =  nome_1 + ' ' + nome_2 + ' ' +nome_3\n",
    "nome_completo = nome_completo.title()\n",
    "print(\"O nome completo é: \" + nome_completo)"
   ]
  },
  {
   "cell_type": "markdown",
   "metadata": {},
   "source": [
    "### Acrescentando espaços em branco em strings com tabulações ou quebras de linha"
   ]
  },
  {
   "cell_type": "code",
   "execution_count": 78,
   "metadata": {},
   "outputs": [
    {
     "name": "stdout",
     "output_type": "stream",
     "text": [
      "Lingugens de programação: \n",
      "\t Python; \n",
      "\t C#; \n",
      "\t JavaScript\n"
     ]
    }
   ],
   "source": [
    "# \"\\t\": tabulações\n",
    "# \"\\n\": quebra de linha\n",
    "\n",
    "print(\"Lingugens de programação: \\n\\t Python; \\n\\t C#; \\n\\t JavaScript\")"
   ]
  },
  {
   "cell_type": "markdown",
   "metadata": {},
   "source": [
    "### Removendo espaços em branco"
   ]
  },
  {
   "cell_type": "code",
   "execution_count": 79,
   "metadata": {},
   "outputs": [
    {
     "name": "stdout",
     "output_type": "stream",
     "text": [
      "False\n",
      "msg\n",
      "msg\n",
      "msg\n",
      "True\n"
     ]
    }
   ],
   "source": [
    "#o python conta o espaço em branco como um caractere \n",
    "str1 = 'msg        ' #espaço no final\n",
    "str2 = '        msg' #espaço no início\n",
    "str3 = '    msg    ' #espaço antes e depois\n",
    "str4 = 'msg' #sem espaço\n",
    "\n",
    "print(str1 == str2 == str3 == str4) #False pois as strings são diferentes\n",
    "\n",
    "str1 = str1.rstrip() #remove espaços do final\n",
    "str2 = str2.lstrip() #remove espaços do início\n",
    "str3 = str3.strip() #remove espaços \n",
    "\n",
    "print(str1)\n",
    "print(str2)\n",
    "print(str3)\n",
    "print(str1 == str2 == str3 == str4) #True pois as strings agora são iguais\n"
   ]
  },
  {
   "cell_type": "markdown",
   "metadata": {},
   "source": [
    "### Exercícios"
   ]
  },
  {
   "cell_type": "markdown",
   "metadata": {},
   "source": [
    "2.3 – Mensagem pessoal: Armazene o nome de uma pessoa em uma variável e apresente uma mensagem a essa pessoa. Sua mensagem deve ser simples, como “Alô Eric, você gostaria de aprender um pouco de Python hoje?”.\n",
    "\n",
    "2.4 – Letras maiúsculas e minúsculas em nomes: Armazene o nome de uma pessoa em uma variável e então apresente o nome dessa pessoa em letras minúsculas, em letras maiúsculas e somente com a primeira letra maiúscula."
   ]
  },
  {
   "cell_type": "code",
   "execution_count": 80,
   "metadata": {},
   "outputs": [
    {
     "name": "stdout",
     "output_type": "stream",
     "text": [
      " Olá, . \n",
      " Como vai você? \n",
      " Gostaria de aprender um pouco de Python hoje?\n"
     ]
    }
   ],
   "source": [
    "nome = input('Qual o seu nome?')\n",
    "nome = nome.title().strip()\n",
    "print(f\" Olá, {nome}. \\n Como vai você? \\n Gostaria de aprender um pouco de Python hoje?\")"
   ]
  },
  {
   "cell_type": "markdown",
   "metadata": {},
   "source": [
    "2.5 – Citação famosa: Encontre uma citação de uma pessoa famosa que você admire. Exiba a citação e o nome do autor. Sua saída deverá ter a aparência a seguir, incluindo as aspas: Albert Einstein certa vez disse: “Uma pessoa que\n",
    "nunca cometeu um erro jamais tentou nada novo.”\n",
    "\n",
    "2.6 – Citação famosa 2: Repita o Exercício 2.5, porém, desta vez, armazene o nome da pessoa famosa em uma variável chamada famous_person. Em seguida, componha sua mensagem e armazene-a em uma nova variável chamada message. Exiba sua mensagem.\n",
    "\n",
    "2.7 – Removendo caracteres em branco de nomes: Armazene o nome de uma pessoa e inclua alguns caracteres em branco no início e no final do nome. Lembre-se de usar cada combinação de caracteres, \"\\t\" e \"\\n\", pelo menos uma vez. Exiba o nome uma vez, de modo que os espaços em branco em torno do nome sejam mostrados. Em seguida, exiba o nome usando cada uma das três funções de remoção de espaços: lstrip(), rstrip() e strip()."
   ]
  },
  {
   "cell_type": "code",
   "execution_count": 81,
   "metadata": {},
   "outputs": [
    {
     "name": "stdout",
     "output_type": "stream",
     "text": [
      "\t\"\" \n",
      " \t \t \t \t \t \t \t- .\n"
     ]
    }
   ],
   "source": [
    "autor = input('Digite o nome do autor: ')\n",
    "citacao = input('Digite a citação: ')\n",
    "\n",
    "autor = autor.title().strip()\n",
    "\n",
    "print(f'\\t\"{citacao}\" \\n \\t \\t \\t \\t \\t \\t \\t- {autor}.')"
   ]
  },
  {
   "cell_type": "markdown",
   "metadata": {},
   "source": [
    "## 2.2. Números"
   ]
  },
  {
   "cell_type": "markdown",
   "metadata": {},
   "source": [
    "Os números são usados com muita frequência em programação para armazenar pontuações em jogos, representar dados em visualizações, guardar informações em aplicações web e assim por diante. Python trata números de várias maneiras diferentes, de acordo com o modo como são usados. Vamos analisar inicialmente como Python trata inteiros, pois eles são os dados mais simples para trabalhar."
   ]
  },
  {
   "cell_type": "markdown",
   "metadata": {},
   "source": [
    "### Inteiros"
   ]
  },
  {
   "cell_type": "code",
   "execution_count": 82,
   "metadata": {},
   "outputs": [
    {
     "name": "stdout",
     "output_type": "stream",
     "text": [
      "5\n",
      "-1\n",
      "6\n",
      "0.6666666666666666\n",
      "2\n",
      "1\n",
      "9\n"
     ]
    }
   ],
   "source": [
    "print(2 + 3) #soma\n",
    "print(2 - 3) #subtração\n",
    "print(2 * 3)#multiplicação\n",
    "print(2 / 3) #divisão\n",
    "print(5 // 2) #parte inteira da divisão\n",
    "print(5 % 2) #resto da divisão\n",
    "print(3 ** 2) #potência"
   ]
  },
  {
   "cell_type": "markdown",
   "metadata": {},
   "source": [
    "A ordem das operações importa"
   ]
  },
  {
   "cell_type": "code",
   "execution_count": 83,
   "metadata": {},
   "outputs": [
    {
     "name": "stdout",
     "output_type": "stream",
     "text": [
      "14\n",
      "20\n"
     ]
    }
   ],
   "source": [
    "print(2 + 3*4)\n",
    "print((2+3)*4)"
   ]
  },
  {
   "cell_type": "markdown",
   "metadata": {},
   "source": [
    "### Ponto flutuante"
   ]
  },
  {
   "cell_type": "code",
   "execution_count": 84,
   "metadata": {},
   "outputs": [
    {
     "name": "stdout",
     "output_type": "stream",
     "text": [
      "0.4\n",
      "0.30000000000000004\n"
     ]
    }
   ],
   "source": [
    "print(2*0.2) #uma casa decimal\n",
    "print(3*0.1) #16 casas decimais"
   ]
  },
  {
   "cell_type": "markdown",
   "metadata": {},
   "source": [
    "### Evitando erros de tipo com a função str()"
   ]
  },
  {
   "cell_type": "markdown",
   "metadata": {},
   "source": [
    "Só podemos concatenar str com outras str. Por isso, as vezes é necessário fazer uma operação de TypeCasting para que seja possível transformar outros tipos em str."
   ]
  },
  {
   "cell_type": "code",
   "execution_count": 3,
   "metadata": {},
   "outputs": [
    {
     "name": "stdout",
     "output_type": "stream",
     "text": [
      "Mário Lucas Miguel tem 27 anos.\n"
     ]
    }
   ],
   "source": [
    "nome = input('Qual o seu nome?')\n",
    "idade = int(input(\"Qual sua idade\"))\n",
    "nome = nome.title().strip()\n",
    "\n",
    "#é preciso transformar o int \"idade\" em str para poder concatenar com outras str\n",
    "msg = nome + ' tem ' + str(idade) + ' anos.' \n",
    "print(msg)"
   ]
  },
  {
   "cell_type": "markdown",
   "metadata": {},
   "source": [
    "### Exercícios"
   ]
  },
  {
   "cell_type": "markdown",
   "metadata": {},
   "source": [
    "2.8 – Número oito: Escreva operações de adição, subtração, multiplicação e divisão que resultem no número 8. Lembre-se de colocar suas operações em instruções print para ver os resultados. Você deve criar quatro linhas como esta: print(5 + 3) Sua saída deve simplesmente ser composta de quatro linhas, com o número 8 em cada uma das linhas.\n",
    "\n",
    "2.9 – Número favorito: Armazene seu número favorito em uma variável. Em seguida, usando essa variável, crie uma mensagem que revele o seu número favorito. Exiba essa mensagem.\n",
    "\n",
    "2.10 – Acrescentando comentários: Escolha dois dos programas que você escreveu e acrescente pelo menos um comentário em cada um. Se você não tiver nada específico para escrever porque o programa é muito simples no momento, basta adicionar seu nome e a data de hoje no início de cada arquivo de programa. Em seguida, escreva uma frase que descreva o que o programa faz.\n",
    "\n",
    "2.11 – Zen de Python: Digite import this em uma sessão de terminal de Python e dê uma olhada nos princípios adicionais."
   ]
  },
  {
   "cell_type": "code",
   "execution_count": 5,
   "metadata": {},
   "outputs": [
    {
     "name": "stdout",
     "output_type": "stream",
     "text": [
      "8.0\n"
     ]
    }
   ],
   "source": [
    "#meu número favorito é 8\n",
    "print(2 + (2*3) - 4 + (4/2)**2)"
   ]
  },
  {
   "cell_type": "markdown",
   "metadata": {},
   "source": [
    "### Zen python"
   ]
  },
  {
   "cell_type": "code",
   "execution_count": 13,
   "metadata": {},
   "outputs": [],
   "source": [
    "#manifesto \"The Zen of Python\" de Tim Peters\n",
    "import this"
   ]
  },
  {
   "cell_type": "markdown",
   "metadata": {},
   "source": []
  }
 ],
 "metadata": {
  "kernelspec": {
   "display_name": "Python 3",
   "language": "python",
   "name": "python3"
  },
  "language_info": {
   "codemirror_mode": {
    "name": "ipython",
    "version": 3
   },
   "file_extension": ".py",
   "mimetype": "text/x-python",
   "name": "python",
   "nbconvert_exporter": "python",
   "pygments_lexer": "ipython3",
   "version": "3.10.12"
  }
 },
 "nbformat": 4,
 "nbformat_minor": 2
}
