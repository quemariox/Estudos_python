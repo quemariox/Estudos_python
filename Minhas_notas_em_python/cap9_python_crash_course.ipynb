{
 "cells": [
  {
   "cell_type": "markdown",
   "metadata": {},
   "source": [
    "# Capítulo 9. Classes"
   ]
  },
  {
   "cell_type": "markdown",
   "metadata": {},
   "source": [
    "## 9.1. Criando e usando uma classe"
   ]
  },
  {
   "cell_type": "markdown",
   "metadata": {},
   "source": [
    "Podemos modelar de tudo usando classes. Vamos começar escrevendo uma classe simples, Dog, que representa um cachorro – não um cachorro em particular, mas qualquer cachorro. O que sabemos sobre a maioria dos cachorros de estimação? Bem, todos eles têm um nome e uma idade. Também sabemos que a maioria deles senta e rola. Essas duas informações (nome e idade) e esses dois comportamentos (sentar e rolar) farão parte de nossa classe Dog, pois são comuns à maioria dos cachorros. Essa classe dirá à Python como criar um objeto que represente um cachorro. Depois que nossa classe estiver escrita, ela será usada para criar instâncias individuais, em que cada uma representará um cachorro específico."
   ]
  },
  {
   "cell_type": "markdown",
   "metadata": {},
   "source": [
    "### 9.1.1. Criando a classe 'Cao'"
   ]
  },
  {
   "cell_type": "markdown",
   "metadata": {},
   "source": [
    "Cada instância criada a partir da classe Dog armazenará um nome (nome) e uma idade (idade), e daremos a cada cachorro a capacidade de sentar (sentar()) e rolar (rolar()):"
   ]
  },
  {
   "cell_type": "code",
   "execution_count": 14,
   "metadata": {},
   "outputs": [],
   "source": [
    "class Cao(): #parentesis vazios, pois estamos criando a classe do zero\n",
    "    \"\"\"Uma tentativa de modelar um cachorro\"\"\"\n",
    "    def __init__(self, nome, idade): #método que cria instâncias da classe\n",
    "        self.nome = nome #pega o nome e guarda no nome da instância criada\n",
    "        self.idade = idade #pega a idade e guarda na idade da instância criada\n",
    "    def sentar(self): #ação de sentar... não depende de outro parâmetro \n",
    "        print(self.nome.title() + ' está sentado agora!')\n",
    "    def rolar(self): #ação de rolar... não depende de outro parâmetro \n",
    "        print(self.nome.title() + ' está rolando agora!')"
   ]
  },
  {
   "cell_type": "markdown",
   "metadata": {},
   "source": [
    "### 9.1.2. Criando uma instância a partir de uma classe"
   ]
  },
  {
   "cell_type": "markdown",
   "metadata": {},
   "source": [
    "Pense em uma classe como um conjunto de instruções para criar uma instância. A classe Dog é um conjunto de instruções que diz a Python como criar instâncias individuais que representem cachorros específicos. \n",
    "\n",
    "O método __init__() cria uma instância que representa esse cachorro em particular e define os atributos name e age com os valores que fornecemos. Esse método não tem uma instrução return explícita, mas Python devolve automaticamente uma instância que representa esse cachorro. Armazenamos essa instância na variável `cao1`"
   ]
  },
  {
   "cell_type": "code",
   "execution_count": 16,
   "metadata": {},
   "outputs": [
    {
     "name": "stdout",
     "output_type": "stream",
     "text": [
      "O nome do meu cão é Bibola .\n",
      "Meu cão tem 4 anos de idade.\n",
      "Bibola está sentado agora!\n",
      "Bibola está rolando agora!\n"
     ]
    }
   ],
   "source": [
    "#criando o objeto \"cao1\", instância da classe Cao()\n",
    "cao1 = Cao('Bibola', 4)\n",
    "\n",
    "#Invocando os atriutos 'nome' e 'idade' de cao1\n",
    "print('O nome do meu cão é',cao1.nome,'.')\n",
    "print('Meu cão tem',cao1.idade,'anos de idade.')\n",
    "\n",
    "#Invocando os métodos 'sentar()' e 'rolar()' \n",
    "cao1.sentar()\n",
    "cao1.rolar()"
   ]
  },
  {
   "cell_type": "code",
   "execution_count": 17,
   "metadata": {},
   "outputs": [
    {
     "name": "stdout",
     "output_type": "stream",
     "text": [
      "O nome do meu cão é Kiara .\n",
      "Meu cão tem 3 anos de idade.\n",
      "Kiara está sentado agora!\n",
      "Kiara está rolando agora!\n"
     ]
    }
   ],
   "source": [
    "#criando o objeto \"cao2\", instância da classe Cao()\n",
    "cao2 = Cao('Kiara',3)\n",
    "\n",
    "#Invocando os atriutos 'nome' e 'idade' de cao2\n",
    "print('O nome do meu cão é',cao2.nome,'.')\n",
    "print('Meu cão tem',cao2.idade,'anos de idade.')\n",
    "\n",
    "#Invocando os métodos 'sentar()' e 'rolar()' \n",
    "cao2.sentar()\n",
    "cao2.rolar()\n"
   ]
  },
  {
   "cell_type": "markdown",
   "metadata": {},
   "source": [
    "Mesmo que usássemos o mesmo nome e a mesma idade para o segundo cachorro, Python criaria uma instância separada da classe Dog. Você pode criar tantas instâncias de uma classe quantas forem necessárias, desde que dê a cada instância um nome de variável único ou que ela ocupe uma única posição em uma lista ou dicionário."
   ]
  },
  {
   "cell_type": "markdown",
   "metadata": {},
   "source": [
    "### 9.1.3. Exercícios"
   ]
  },
  {
   "cell_type": "markdown",
   "metadata": {},
   "source": [
    "9.1 – Restaurante: Crie uma classe chamada Restaurant. O método __init__() de Restaurant deve armazenar dois atributos: restaurant_name e cuisine_type. Crie um método chamado describe_restaurant() que mostre essas duas informações, e um método de nome open_restaurant() que exiba uma mensagem informando que o restaurante está aberto. Crie uma instância chamada restaurant a partir de sua classe.Mostre os dois atributos individualmente e, em seguida, chame os dois métodos.\n",
    "\n",
    "9.2 – Três restaurantes: Comece com a classe do Exercício 9.1. Crie três instâncias diferentes da classe e chame describe_restaurant() para cada instância."
   ]
  },
  {
   "cell_type": "code",
   "execution_count": 23,
   "metadata": {},
   "outputs": [
    {
     "name": "stdout",
     "output_type": "stream",
     "text": [
      "O(a) Cozinha Do Chico é um restaurante com Chapa e Churrasqueira\n",
      "O restaurante está aberto agora!\n",
      "O restaurante está fechado agora!\n",
      "O(a) Restaurante Da Ziza é um restaurante com Fogão à linha\n",
      "O restaurante está aberto agora!\n",
      "O restaurante está fechado agora!\n",
      "O(a) Cozinha Da Patrícia é um restaurante com Chapa, Fogão e Churrasqueira\n",
      "O restaurante está aberto agora!\n",
      "O restaurante está fechado agora!\n"
     ]
    }
   ],
   "source": [
    "class Restaurante():\n",
    "    def __init__(self,nome,cozinha):\n",
    "        self.nome = nome\n",
    "        self.cozinha = cozinha\n",
    "    def descricao(self):\n",
    "        print('O(a)',self.nome.title(),'é um restaurante com',self.cozinha)\n",
    "    def abrir(self):\n",
    "        print('O restaurante está aberto agora!')\n",
    "    def fechar(self):\n",
    "        print('O restaurante está fechado agora!')\n",
    "\n",
    "restaurante1 = Restaurante('Cozinha do Chico','Chapa e Churrasqueira')\n",
    "restaurante1.descricao()\n",
    "restaurante1.abrir()\n",
    "restaurante1.fechar()\n",
    "\n",
    "restaurante2 = Restaurante('restaurante da ziza','Fogão à linha')\n",
    "restaurante2.descricao()\n",
    "restaurante2.abrir()\n",
    "restaurante2.fechar()\n",
    "\n",
    "restaurante3 = Restaurante('Cozinha da patrícia','Chapa, Fogão e Churrasqueira')\n",
    "restaurante3.descricao()\n",
    "restaurante3.abrir()\n",
    "restaurante3.fechar()"
   ]
  },
  {
   "cell_type": "markdown",
   "metadata": {},
   "source": [
    "9.3 – Usuários: Crie uma classe chamada User. Crie dois atributos de nomes first_name e last_name e, então, crie vários outros atributos normalmente armazenados em um perfil de usuário. Escreva um método de nome describe_user() que apresente um resumo das informações do usuário. Escreva outro método chamado greet_user() que mostre uma saudação personalizada ao usuário.\n",
    "\n",
    "Crie várias instâncias que representem diferentes usuários e chame os dois métodos para cada usuário."
   ]
  },
  {
   "cell_type": "code",
   "execution_count": 8,
   "metadata": {},
   "outputs": [
    {
     "name": "stdout",
     "output_type": "stream",
     "text": [
      "\n",
      "Saudações, ó grandioso José Martin\n",
      "\n",
      "Nome: Mário \n",
      "Sobrenome: Miguel\n",
      "\n",
      "Saudações, ó grandioso Anna Dorey\n"
     ]
    }
   ],
   "source": [
    "class Usuario():\n",
    "    def __init__(self, nome, sobrenome):\n",
    "        self.nome = nome\n",
    "        self.sobrenome = sobrenome \n",
    "    def descricao(self):\n",
    "        print('\\nNome:',self.nome.title(),'\\nSobrenome:',self.sobrenome.title())\n",
    "    def saudacao(self):\n",
    "        print('\\nSaudações, ó grandioso',self.nome.title(),self.sobrenome.title())\n",
    "\n",
    "user1 = Usuario('josé','martin')\n",
    "user2 = Usuario('mário','miguel')\n",
    "user3 = Usuario('anna','doRey')\n",
    "\n",
    "user1.saudacao()\n",
    "user2.descricao()\n",
    "user3.saudacao()"
   ]
  },
  {
   "cell_type": "markdown",
   "metadata": {},
   "source": [
    "## 9.2. Trabalhando com classes e instâncias"
   ]
  },
  {
   "cell_type": "markdown",
   "metadata": {},
   "source": [
    "Podemos usar classes para representar muitas situações do mundo real. Depois que escrever uma classe, você gastará a maior parte de seu tempo trabalhando com instâncias dessa classe. Uma das primeiras tarefas que você vai querer fazer é modificar os atributos associados a uma instância em particular. Podemos modificar os atributos de uma instância diretamente, ou escrever métodos que atualizem os atributos\n",
    "de formas específicas."
   ]
  },
  {
   "cell_type": "markdown",
   "metadata": {},
   "source": [
    "### 9.2.1. Classe Carro()"
   ]
  },
  {
   "cell_type": "code",
   "execution_count": 14,
   "metadata": {},
   "outputs": [
    {
     "data": {
      "text/plain": [
       "'2016, marca Audi, modelo A4'"
      ]
     },
     "execution_count": 14,
     "metadata": {},
     "output_type": "execute_result"
    }
   ],
   "source": [
    "class Carro():\n",
    "    def __init__(self, marca, modelo, ano):\n",
    "        self.marca = marca\n",
    "        self.modelo = modelo\n",
    "        self.ano = ano\n",
    "    def descricao(self):\n",
    "        nome_completo = str(self.ano) + ', marca ' + self.marca.title() + ', modelo ' + self.modelo.title()\n",
    "        return nome_completo\n",
    "    \n",
    "carro1 = Carro('audi','a4',2016)\n",
    "carro1.descricao()"
   ]
  },
  {
   "cell_type": "markdown",
   "metadata": {},
   "source": [
    "### 9.2.2. Definindo um valor default para um atributo"
   ]
  },
  {
   "cell_type": "markdown",
   "metadata": {},
   "source": [
    "Todo atributo de uma classe precisa de um valor inicial, mesmo que esse valor seja 0 ou uma string vazia. Em alguns casos, por exemplo, quando definimos um valor default, faz sentido especificar esse valor inicial no corpo do método __init__(); se isso for feito para um atributo, você não\n",
    "precisará incluir um parâmetro para ele."
   ]
  },
  {
   "cell_type": "code",
   "execution_count": 45,
   "metadata": {},
   "outputs": [
    {
     "name": "stdout",
     "output_type": "stream",
     "text": [
      "2016, marca Audi, modelo A4\n",
      "A kilometragem do carro está em: 0km\n"
     ]
    }
   ],
   "source": [
    "class Carro():\n",
    "    def __init__(self, marca, modelo, ano): #\"odometro\" é default e vale 0\n",
    "        self.marca = marca\n",
    "        self.modelo = modelo\n",
    "        self.ano = ano\n",
    "        self.odometro = 0 #\"odometro\" é default e vale 0\n",
    "    def descricao(self):\n",
    "        nome_completo = str(self.ano) + ', marca ' + self.marca.title() + ', modelo ' + self.modelo.title()\n",
    "        return nome_completo\n",
    "    def ler_odometro(self):\n",
    "        print('A kilometragem do carro está em: ' + str(self.odometro) + 'km')\n",
    "    \n",
    "carro1 = Carro('audi','a4',2016)\n",
    "\n",
    "print(carro1.descricao())\n",
    "carro1.ler_odometro()"
   ]
  },
  {
   "cell_type": "markdown",
   "metadata": {},
   "source": [
    "### 9.2.3. Modificando valores de atributos"
   ]
  },
  {
   "cell_type": "markdown",
   "metadata": {},
   "source": [
    "#### Modificando o valor de um atributo diretamente"
   ]
  },
  {
   "cell_type": "markdown",
   "metadata": {},
   "source": [
    "A maneira mais simples de modificar o valor de um atributo é acessá-lo diretamente por meio de uma instância. A seguir, definimos o valor de leitura do hodômetro para 2300"
   ]
  },
  {
   "cell_type": "code",
   "execution_count": 47,
   "metadata": {},
   "outputs": [
    {
     "name": "stdout",
     "output_type": "stream",
     "text": [
      "2016, marca Audi, modelo A4\n",
      "A kilometragem do carro está em: 2300km\n"
     ]
    }
   ],
   "source": [
    "class Carro():\n",
    "    def __init__(self, marca, modelo, ano): #\"odometro\" é default e vale 0\n",
    "        self.marca = marca\n",
    "        self.modelo = modelo\n",
    "        self.ano = ano\n",
    "        self.odometro = 0 #\"odometro\" é default e vale 0\n",
    "    def descricao(self):\n",
    "        nome_completo = str(self.ano) + ', marca ' + self.marca.title() + ', modelo ' + self.modelo.title()\n",
    "        return nome_completo\n",
    "    def ler_odometro(self):\n",
    "        print('A kilometragem do carro está em: ' + str(self.odometro) + 'km')\n",
    "    \n",
    "carro1 = Carro('audi','a4',2016) \n",
    "print(carro1.descricao())\n",
    "\n",
    "carro1.odometro = 2300 #modificando o valor do atributo odometro diretamente\n",
    "carro1.ler_odometro()"
   ]
  },
  {
   "cell_type": "markdown",
   "metadata": {},
   "source": [
    "#### Modificando o valor de um atributo com um método"
   ]
  },
  {
   "cell_type": "markdown",
   "metadata": {},
   "source": [
    "Pode ser conveniente ter métodos que atualizem determinados atributos para você. Em vez de acessar o atributo de modo direto, passe o novo valor para um método que trate a atualização internamente."
   ]
  },
  {
   "cell_type": "code",
   "execution_count": 53,
   "metadata": {},
   "outputs": [
    {
     "name": "stdout",
     "output_type": "stream",
     "text": [
      "A kilometragem do carro está em: 0km\n",
      "A kilometragem do carro está em: 3400km\n",
      "Você não pode voltar o odômetro, seu trapaceiro!\n",
      "A kilometragem do carro está em: 3400km\n"
     ]
    }
   ],
   "source": [
    "class Carro():\n",
    "    def __init__(self, marca, modelo, ano): #\"odometro\" é default e vale 0\n",
    "        self.marca = marca\n",
    "        self.modelo = modelo\n",
    "        self.ano = ano\n",
    "        self.odometro = 0 #\"odometro\" é default e vale 0\n",
    "    def descricao(self):\n",
    "        nome_completo = str(self.ano) + ', marca ' + self.marca.title() + ', modelo ' + self.modelo.title()\n",
    "        return nome_completo\n",
    "    def ler_odometro(self):\n",
    "        print('A kilometragem do carro está em: ' + str(self.odometro) + 'km')\n",
    "    def atualizar_odometro(self,leitura): #função que atualiza a leitura do odometro\n",
    "        if leitura <= self.odometro:\n",
    "            print('Você não pode voltar o odômetro, seu trapaceiro!')\n",
    "        else:\n",
    "            self.odometro = leitura\n",
    "\n",
    "carro1 = Carro('audi','a4',2016)  #criando a instância \n",
    "carro1.ler_odometro()\n",
    "\n",
    "carro1.atualizar_odometro(3400) #chama a função que atualiza a leitura do odometro\n",
    "carro1.ler_odometro()\n",
    "\n",
    "carro1.atualizar_odometro(1500) #tentando voltar o odometro (trapaça)\n",
    "carro1.ler_odometro()"
   ]
  },
  {
   "cell_type": "markdown",
   "metadata": {},
   "source": [
    "#### Incrementando o valor de um atributo com um método"
   ]
  },
  {
   "cell_type": "markdown",
   "metadata": {},
   "source": [
    "Às vezes, você vai querer incrementar o valor de um atributo de determinada quantidade, em vez de definir um valor totalmente novo. Suponha que compramos um carro usado e andamos cem milhas entre o instante em que o compramos e o momento em que o registramos."
   ]
  },
  {
   "cell_type": "code",
   "execution_count": 73,
   "metadata": {},
   "outputs": [
    {
     "name": "stdout",
     "output_type": "stream",
     "text": [
      "0\n",
      "300\n"
     ]
    }
   ],
   "source": [
    "class Carro():\n",
    "    def __init__(self, marca, modelo, ano): #\"odometro\" é default e vale 0\n",
    "        self.marca = marca\n",
    "        self.modelo = modelo\n",
    "        self.ano = ano\n",
    "        self.odometro = 0 #\"odometro\" é default e vale 0\n",
    "    def descricao(self):\n",
    "        nome_completo = str(self.ano) + ', marca ' + self.marca.title() + ', modelo ' + self.modelo.title()\n",
    "        return nome_completo\n",
    "    def ler_odometro(self):\n",
    "        print('A kilometragem do carro está em: ' + str(self.odometro) + 'km')\n",
    "    def atualizar_odometro(self,leitura): #função que atualiza a leitura do odômetro\n",
    "        if leitura <= self.odometro:\n",
    "            print('Você não pode voltar o odômetro, seu trapaceiro!')\n",
    "        else:\n",
    "            self.odometro = leitura\n",
    "    def incrementar_odometro(self,kilometragem): #função que incrementa o odômetro\n",
    "        if kilometragem >= 0:\n",
    "            self.odometro += kilometragem\n",
    "        else:\n",
    "            print('Você não pode voltar o odômetro, seu trapaceiro!')\n",
    "\n",
    "#instanciando a classe     \n",
    "carro1 = Carro('fiat','uno',2010)\n",
    "\n",
    "print(carro1.odometro)#mostra o valor default \"odometro=0\"\n",
    "carro1.incrementar_odometro(300)#incrementa 300km\n",
    "print(carro1.odometro)#mostra o valor atualizado \"odometro=300\"\n",
    "    "
   ]
  },
  {
   "cell_type": "markdown",
   "metadata": {},
   "source": [
    "### 9.2.3. Exercícios"
   ]
  },
  {
   "cell_type": "markdown",
   "metadata": {},
   "source": [
    "9.4 – Pessoas atendidas: Comece com seu programa do Exercício 9.1. Acrescente um atributo chamado number_served cujo valor default é 0. Crie uma instância chamada restaurant a partir dessa classe. Apresente o número de clientes atendidos pelo restaurante e, em seguida, mude esse valor e exiba-o novamente.\n",
    "\n",
    "Adicione um método chamado set_number_served() que permita definir o número de clientes atendidos. Chame esse método com um novo número e mostre o valor novamente.\n",
    "\n",
    "Acrescente um método chamado increment_number_served() que permita incrementar o número de clientes servidos. Chame esse método com qualquer número que você quiser e que represente quantos clientes foram atendidos, por exemplo, em um dia de funcionamento."
   ]
  },
  {
   "cell_type": "code",
   "execution_count": 65,
   "metadata": {},
   "outputs": [
    {
     "name": "stdout",
     "output_type": "stream",
     "text": [
      "0\n"
     ]
    },
    {
     "data": {
      "text/plain": [
       "100"
      ]
     },
     "execution_count": 65,
     "metadata": {},
     "output_type": "execute_result"
    }
   ],
   "source": [
    "class Restaurante():\n",
    "    def __init__(self,nome,cozinha):\n",
    "        self.nome = nome\n",
    "        self.cozinha = cozinha\n",
    "        self.num_clientes = 0 #adiciona o atributo \"num_clientes\"\n",
    "    def descricao(self):\n",
    "        print('O(a)',self.nome.title(),'é um restaurante com',self.cozinha)\n",
    "    def abrir(self):\n",
    "        print('O restaurante está aberto agora!')\n",
    "    def fechar(self):\n",
    "        print('O restaurante está fechado agora!')\n",
    "    def alt_num_clientes(self, num): #método que incrementa o \"num_clentes\"\n",
    "        self.num_clientes += num\n",
    "\n",
    "rest1 = Restaurante('Cozinha do zezé','Fogão à lenha') #criando instancia\n",
    "print(rest1.num_clientes) #exibindo o número de clientes\n",
    "\n",
    "rest1.alt_num_clientes(100) #incrementando o número de clientes\n",
    "rest1.num_clientes #exibindo o novo número de clientes"
   ]
  },
  {
   "cell_type": "markdown",
   "metadata": {},
   "source": [
    "9.5 – Tentativas de login: Acrescente um atributo chamado login_attempts à sua classe User do Exercício 9.3. Escreva um método chamado increment_login_attempts() que incremente o valor de login_attempts em 1. Escreva outro método chamado reset_login_attempts() que reinicie o valor de login_attempts com 0.\n",
    "\n",
    "Crie uma instância da classe User e chame increment_login_attempts() várias vezes. Exiba o valor de login_attempts para garantir que ele foi incrementado de forma\n",
    "apropriada e, em seguida, chame reset_login_attempts(). Exiba login_attempts novamente para garantir que seu valor foi reiniciado com 0."
   ]
  },
  {
   "cell_type": "code",
   "execution_count": 8,
   "metadata": {},
   "outputs": [
    {
     "name": "stdout",
     "output_type": "stream",
     "text": [
      "0\n",
      "3\n",
      "0\n"
     ]
    }
   ],
   "source": [
    "class Usuario():\n",
    "    def __init__(self, nome, sobrenome):\n",
    "        self.nome = nome\n",
    "        self.sobrenome = sobrenome \n",
    "        self.tentativas_login = 0\n",
    "    def descricao(self):\n",
    "        print('\\nNome:',self.nome.title(),'\\nSobrenome:',self.sobrenome.title())\n",
    "    def saudacao(self):\n",
    "        print('\\nSaudações, ó grandioso',self.nome.title(),self.sobrenome.title())\n",
    "    def incrementa_tentativas_login(self): #cria o método que incrementa tentativas de login\n",
    "        self.tentativas_login += 1\n",
    "    def resetar_tentativas_login(self): #cria o método que reseta o número de tentativas de login\n",
    "        self.tentativas_login = 0\n",
    "\n",
    "usuario1 = Usuario('josé','martin') #instanciando a classe\n",
    "print(usuario1.tentativas_login) #exibindo o valor default do atributo \"tentativas_login=0\"\n",
    "\n",
    "#incrementa tentativas de login 3x\n",
    "usuario1.incrementa_tentativas_login() \n",
    "usuario1.incrementa_tentativas_login() \n",
    "usuario1.incrementa_tentativas_login()\n",
    "print(usuario1.tentativas_login)\n",
    "\n",
    "#reseta tentativas de login\n",
    "usuario1.resetar_tentativas_login()\n",
    "print(usuario1.tentativas_login)"
   ]
  },
  {
   "cell_type": "markdown",
   "metadata": {},
   "source": [
    "## 9.3. Herança"
   ]
  },
  {
   "cell_type": "markdown",
   "metadata": {},
   "source": [
    "Nem sempre você precisará começar do zero para escrever uma classe. Se a classe que você estiver escrevendo for uma versão especializada de outra classe já criada, a herança poderá ser usada. Quando uma classe herda de outra, ela assumirá automaticamente todos os atributos e métodos da primeira classe. A classe original se chama classe-pai e a nova classe é a classe-filha. A classe-filha herda todos os atributos e método de sua classe-pai, mas também é livre para definir novos atributos e métodos próprios."
   ]
  },
  {
   "cell_type": "markdown",
   "metadata": {},
   "source": [
    "### 9.3.1. Método __init__() de uma classe-filha "
   ]
  },
  {
   "cell_type": "code",
   "execution_count": 15,
   "metadata": {},
   "outputs": [
    {
     "name": "stdout",
     "output_type": "stream",
     "text": [
      "2016, marca Tesla, modelo Model S\n",
      "A kilometragem do carro está em: 0km\n",
      "A kilometragem foi atualizada para: 200 km\n",
      "A kilometragem foi atualizada para: 1300 km\n"
     ]
    }
   ],
   "source": [
    "#criando a classe-pai\n",
    "class Carro():\n",
    "    def __init__(self, marca, modelo, ano): #\"odometro\" é default e vale 0\n",
    "        self.marca = marca\n",
    "        self.modelo = modelo\n",
    "        self.ano = ano\n",
    "        self.odometro = 0 #\"odometro\" é default e vale 0\n",
    "        self.tamanho_tanque = 100\n",
    "    def descricao(self):\n",
    "        nome_completo = str(self.ano) + ', marca ' + self.marca.title() + ', modelo ' + self.modelo.title()\n",
    "        return nome_completo\n",
    "    def ler_odometro(self):\n",
    "        print('A kilometragem do carro está em: ' + str(self.odometro) + 'km')\n",
    "    def atualizar_odometro(self,leitura): #função que atualiza a leitura do odômetro\n",
    "        if leitura <= self.odometro:\n",
    "            print('Você não pode voltar o odômetro, seu trapaceiro!')\n",
    "        else:\n",
    "            self.odometro = leitura\n",
    "            print('A kilometragem foi atualizada para:',str(self.odometro),'km')\n",
    "    def incrementar_odometro(self,kilometragem): #função que incrementa o odômetro\n",
    "        if kilometragem >= 0:\n",
    "            self.odometro += kilometragem\n",
    "            print('A kilometragem foi atualizada para:',str(self.odometro),'km')\n",
    "        else:\n",
    "            print('Você não pode voltar o odômetro, seu trapaceiro!')\n",
    "    def encher_tanque(self):\n",
    "        print('O tanque de',self.tamanho_tanque,'L está abastecido.')\n",
    "\n",
    "#criando a classe-filha\n",
    "class CarroEletrico(Carro): #referencia a classe-pai Carro\n",
    "    def __init__(self, marca, modelo, ano): #inicializa os atributos da classe-pai\n",
    "        super().__init__(marca, modelo, ano)\n",
    "\n",
    "#instanciando a classe-filha\n",
    "carro_eletrico1 = CarroEletrico('tesla','model S',2016)\n",
    "\n",
    "#acessando atributos e métodos da classe-pai\n",
    "print(carro_eletrico1.descricao())\n",
    "carro_eletrico1.ler_odometro()\n",
    "carro_eletrico1.atualizar_odometro(200)\n",
    "carro_eletrico1.incrementar_odometro(1100)"
   ]
  },
  {
   "cell_type": "markdown",
   "metadata": {},
   "source": [
    "### 9.3.2. Definindo atributos e métodos de classe-filha"
   ]
  },
  {
   "cell_type": "markdown",
   "metadata": {},
   "source": [
    "Depois que tiver uma classe-filha que herde de uma classe-pai, você pode adicionar qualquer atributo ou método novo necessários para diferenciar a classe-filha da classe-pai."
   ]
  },
  {
   "cell_type": "code",
   "execution_count": 19,
   "metadata": {},
   "outputs": [
    {
     "name": "stdout",
     "output_type": "stream",
     "text": [
      "Esse carro contem uma bateria no tamanho 70 kWh.\n"
     ]
    }
   ],
   "source": [
    "#criando a classe-filha\n",
    "class CarroEletrico(Carro): #referencia a classe-pai Carro\n",
    "    def __init__(self, marca, modelo, ano): #inicializa os atributos da classe-pai\n",
    "        super().__init__(marca, modelo, ano)\n",
    "        self.tamanho_bateria = 70 #cria atributo da classe-filha referente ao tamanho da bateria\n",
    "    def descricao_bateria(self):\n",
    "        print('Esse carro contem uma bateria no tamanho',str(self.tamanho_bateria),'kWh.')\n",
    "\n",
    "carro_eletrico1 = CarroEletrico('tesla','model S',2016)\n",
    "carro_eletrico1.descricao_bateria()"
   ]
  },
  {
   "cell_type": "markdown",
   "metadata": {},
   "source": [
    "### 9.3.3. Sobrepondo métodos da classe-pai"
   ]
  },
  {
   "cell_type": "markdown",
   "metadata": {},
   "source": [
    "Qualquer método da classe-pai que não se enquadre no que você estiver tentando modelar com a classe-filha pode ser sobrescrito. Para isso, defina um método na classe-filha com o mesmo nome do método da classe-pai que você deseja sobrescrever. Python desprezará o método da classe-pai e só prestará atenção no método definido na classe-filha."
   ]
  },
  {
   "cell_type": "code",
   "execution_count": 18,
   "metadata": {},
   "outputs": [
    {
     "name": "stdout",
     "output_type": "stream",
     "text": [
      "Carros elétricos não tem tanque de combustível.\n"
     ]
    }
   ],
   "source": [
    "#sobrepondo o método \"encher_tanque\" da classe-pai\n",
    "class CarroEletrico(Carro): #referencia a classe-pai Carro\n",
    "    def __init__(self, marca, modelo, ano): #inicializa os atributos da classe-pai\n",
    "        super().__init__(marca, modelo, ano)\n",
    "        self.tamanho_bateria = 70 #cria atributo da classe-filha referente ao tamanho da bateria\n",
    "    def descricao_bateria(self):\n",
    "        print('Esse carro contem uma bateria no tamanho',str(self.tamanho_bateria),'kWh.')\n",
    "    def encher_tanque(self):\n",
    "        print('Carros elétricos não tem tanque de combustível.')\n",
    "\n",
    "#tentando encher o tanque de um carro elétrico\n",
    "carro_eletrico1 = CarroEletrico('tesla','model S',2016)\n",
    "carro_eletrico1.encher_tanque()"
   ]
  },
  {
   "cell_type": "markdown",
   "metadata": {},
   "source": [
    "### 9.3.4. Instâncias como atributos"
   ]
  },
  {
   "cell_type": "markdown",
   "metadata": {},
   "source": [
    "Ao modelar algo do mundo real no código você poderá perceber que está adicionando cada vez mais detalhes em uma classe. Poderá notar que há uma lista crescente de atributos e métodos e que seus arquivos estão começando a ficar extensos. Nessas situações, talvez você perceba que parte de uma classe pode ser escrita como uma classe separada. Sua classe maior poderá ser dividida em partes menores que funcionem em conjunto.\n",
    "\n",
    "Por exemplo, se continuarmos adicionando detalhes à classe ElectricCar, podemos perceber que estamos acrescentando muitos atributos e métodos específicos à bateria do carro. Se percebermos que isso está acontecendo, podemos parar e transferir esses atributos e métodos para uma classe diferente chamada Battery. Então podemos usar uma instância de Battery como atributo da classe ElectricCar:"
   ]
  },
  {
   "cell_type": "code",
   "execution_count": 3,
   "metadata": {},
   "outputs": [
    {
     "name": "stdout",
     "output_type": "stream",
     "text": [
      "2016, marca Tesla, modelo Model S\n",
      "Esse carro tem uma bateria de 75 kWh.\n",
      "Carros elétricos não têm tanque de combustível.\n"
     ]
    }
   ],
   "source": [
    "# Criando a classe-pai\n",
    "class Carro:\n",
    "    def __init__(self, marca, modelo, ano):\n",
    "        self.marca = marca\n",
    "        self.modelo = modelo\n",
    "        self.ano = ano\n",
    "        self.odometro = 0  # \"odometro\" é default e vale 0\n",
    "        self.tamanho_tanque = 100\n",
    "\n",
    "    def descricao(self):\n",
    "        nome_completo = f\"{self.ano}, marca {self.marca.title()}, modelo {self.modelo.title()}\"\n",
    "        return nome_completo\n",
    "\n",
    "    def ler_odometro(self):\n",
    "        print(f'A kilometragem do carro está em: {self.odometro}km')\n",
    "\n",
    "    def atualizar_odometro(self, leitura):\n",
    "        if leitura <= self.odometro:\n",
    "            print('Você não pode voltar o odômetro, seu trapaceiro!')\n",
    "        else:\n",
    "            self.odometro = leitura\n",
    "            print(f'A kilometragem foi atualizada para: {self.odometro}km')\n",
    "\n",
    "    def incrementar_odometro(self, kilometragem):\n",
    "        if kilometragem >= 0:\n",
    "            self.odometro += kilometragem\n",
    "            print(f'A kilometragem foi atualizada para: {self.odometro}km')\n",
    "        else:\n",
    "            print('Você não pode voltar o odômetro, seu trapaceiro!')\n",
    "\n",
    "    def encher_tanque(self):\n",
    "        print(f'O tanque de {self.tamanho_tanque}L está abastecido.')\n",
    "\n",
    "# Criando a classe Bateria\n",
    "class Bateria:\n",
    "    def __init__(self, tamanho=75):  # Define um valor padrão para tamanho\n",
    "        self.tamanho = tamanho\n",
    "\n",
    "    def descrever_bateria(self):\n",
    "        print(f'Esse carro tem uma bateria de {self.tamanho} kWh.')\n",
    "\n",
    "    \n",
    "\n",
    "# Criando a classe-filha\n",
    "class CarroEletrico(Carro):\n",
    "    def __init__(self, marca, modelo, ano):\n",
    "        super().__init__(marca, modelo, ano)\n",
    "        self.bateria = Bateria()  # Cria instância de Bateria()\n",
    "\n",
    "    def descricao_bateria(self):\n",
    "        self.bateria.descrever_bateria()\n",
    "\n",
    "    def encher_tanque(self):\n",
    "        print('Carros elétricos não têm tanque de combustível.')\n",
    "\n",
    "# Testando a classe CarroEletrico\n",
    "carro_eletrico1 = CarroEletrico('tesla', 'model S', 2016)\n",
    "print(carro_eletrico1.descricao())\n",
    "carro_eletrico1.descricao_bateria()\n",
    "carro_eletrico1.encher_tanque()\n"
   ]
  },
  {
   "cell_type": "markdown",
   "metadata": {},
   "source": [
    "### 9.3.5. Modelando objetos do mundo real"
   ]
  },
  {
   "cell_type": "markdown",
   "metadata": {},
   "source": [
    "À medida que começar a modelar itens mais complexos como carros elétricos, você vai ter que encarar perguntas interessantes. A distância que um carro elétrico é capaz de percorrer é uma propriedade da bateria ou do carro? Se estivermos descrevendo apenas um carro, provavelmente não haverá problemas em manter a associação do método get_range() com a classe Battery. Entretanto, se estivermos descrevendo toda uma linha de carros de um fabricante, é provável que vamos querer transferir get_range() para a classe ElectricCar. O método get_range() continuaria verificando a capacidade da bateria antes de determinar a distância que o carro é capaz de percorrer, mas informaria um alcance específico para o tipo de carro com o qual está associado. De modo alternativo, poderíamos manter a associação entre o método get_range() e a bateria, mas passaríamos um parâmetro a ele, por exemplo, car_model. O método get_range() então informaria a distância que o carro poderá percorrer de acordo com a capacidade da bateria e o modelo do carro.\n",
    "\n",
    "Isso leva você a um ponto interessante em seu crescimento como programador. Quando tiver que encarar questões como essa, você estará pensando em um nível lógico mais alto, em vez de se concentrar no nível da sintaxe. Estará pensando não em Python, mas no modo de representar o mundo real como um código. Quando atingir esse ponto, você perceberá que, muitas vezes, não há abordagens certas ou erradas para modelar situações do mundo real. Algumas abordagens são mais eficientes que outras, mas descobrir as representações mais eficientes exige prática. Se seu código estiver funcionando conforme desejado, é sinal de que você está se saindo bem! Não desanime se perceber que está destruindo suas classes e reescrevendo-as várias vezes usando diferentes abordagens. No caminho para escrever um código preciso e eficiente, todos passam por esse processo."
   ]
  },
  {
   "cell_type": "markdown",
   "metadata": {},
   "source": [
    "### 9.3.6. Exercícios"
   ]
  },
  {
   "cell_type": "markdown",
   "metadata": {},
   "source": [
    "9.6 – Sorveteria: Uma sorveteria é um tipo específico de restaurante. Escreva uma classe chamada IceCreamStand que herde da classe Restaurant escrita no Exercício 9.1 (página 225) ou no Exercício 9.4 (página 232). Qualquer versão da classe funcionará; basta escolher aquela de que você mais gosta. Adicione um atributo chamado flavors que armazene uma lista de sabores de sorvete. Escreva um método para mostrar esses sabores. Crie uma instância de IceCreamStand e chame esse método."
   ]
  },
  {
   "cell_type": "code",
   "execution_count": 7,
   "metadata": {},
   "outputs": [
    {
     "name": "stdout",
     "output_type": "stream",
     "text": [
      "O(a) Sorveteria Do Pretinho é um restaurante com sorveteria.\n",
      "Sabores disponíveis:\n",
      "- chocolate\n",
      "- morango\n",
      "- baunilha\n",
      "- creme\n"
     ]
    }
   ],
   "source": [
    "# Criando a classe Restaurante\n",
    "class Restaurante:\n",
    "    def __init__(self, nome, cozinha):\n",
    "        self.nome = nome\n",
    "        self.cozinha = cozinha\n",
    "        self.num_clientes = 0  # adiciona o atributo \"num_clientes\"\n",
    "\n",
    "    def descricao(self):\n",
    "        print(f'O(a) {self.nome.title()} é um restaurante com {self.cozinha}.')\n",
    "\n",
    "    def abrir(self):\n",
    "        print('O restaurante está aberto agora!')\n",
    "\n",
    "    def fechar(self):\n",
    "        print('O restaurante está fechado agora!')\n",
    "\n",
    "    def alt_num_clientes(self, num):  # método que incrementa o \"num_clientes\"\n",
    "        self.num_clientes += num\n",
    "\n",
    "# Criando a classe Sorveteria\n",
    "class Sorveteria(Restaurante):\n",
    "    def __init__(self, nome, cozinha='sorveteria'):\n",
    "        super().__init__(nome, cozinha)\n",
    "        self.sabores = ['chocolate', 'morango', 'baunilha', 'creme']\n",
    "\n",
    "    def mostrar_sabores(self):\n",
    "        print('Sabores disponíveis:')\n",
    "        for sabor in self.sabores:\n",
    "            print(f'- {sabor}')\n",
    "\n",
    "# Criando uma instância de Sorveteria e chamando o método mostrar_sabores\n",
    "sorveteria1 = Sorveteria('Sorveteria do Pretinho')\n",
    "sorveteria1.descricao()\n",
    "sorveteria1.mostrar_sabores()\n"
   ]
  },
  {
   "cell_type": "markdown",
   "metadata": {},
   "source": [
    "9.7 – Admin: Um administrador é um tipo especial de usuário. Escreva uma classe chamada Admin que herde da classe User escrita no Exercício 9.3 (página 226), ou no Exercício 9.5 (página 232). Adicione um atributo privileges que armazene uma lista de strings como \"can add post\", \"can delete post\" \"can ban user\", e assim por diante. Escreva um método chamado show_privileges() que liste o conjunto de privilégios de um administrador. Crie uma instância de Admin e chame seu método."
   ]
  },
  {
   "cell_type": "code",
   "execution_count": 21,
   "metadata": {},
   "outputs": [
    {
     "name": "stdout",
     "output_type": "stream",
     "text": [
      "Um usuário do tipo ADMIN tem os seguintes privilégios:\n",
      "*Deletar Post\n",
      "*Adicionar Posts\n",
      "*Banir Usuários\n"
     ]
    }
   ],
   "source": [
    "class Usuario:\n",
    "\n",
    "    def __init__(self, nome, sobrenome):\n",
    "        self.nome = nome\n",
    "        self.sobrenome = sobrenome \n",
    "        self.tentativas_login = 0\n",
    "\n",
    "    def descricao(self):\n",
    "        print('\\nNome:',self.nome.title(),'\\nSobrenome:',self.sobrenome.title())\n",
    "    \n",
    "    def saudacao(self):\n",
    "        print('\\nSaudações, ó grandioso',self.nome.title(),self.sobrenome.title())\n",
    "    \n",
    "    def incrementa_tentativas_login(self): #cria o método que incrementa tentativas de login\n",
    "        self.tentativas_login += 1\n",
    "    \n",
    "    def resetar_tentativas_login(self): #cria o método que reseta o número de tentativas de login\n",
    "        self.tentativas_login = 0\n",
    "\n",
    "class Admin(Usuario):\n",
    "    def __init__(self,nome,sobrenome):\n",
    "        super().__init__(nome,sobrenome)\n",
    "        self.privilegios = ['deletar post','adicionar posts','banir usuários']\n",
    "\n",
    "    def exibir_privilegios(self):\n",
    "        print('Um usuário do tipo ADMIN tem os seguintes privilégios:')\n",
    "        for privilegio in self.privilegios:\n",
    "            print(f'*{privilegio.title()}')\n",
    "\n",
    "admin1 = Admin('Naldo','benni')\n",
    "admin1.exibir_privilegios()"
   ]
  },
  {
   "cell_type": "markdown",
   "metadata": {},
   "source": [
    "9.8 – Privilégios: Escreva uma classe Privileges separada. A classe deve ter um atributo privileges que armazene uma lista de strings conforme descrita no Exercício 9.7. Transfira o método show_privileges() para essa classe. Crie uma instância de Privileges como um atributo da classe Admin. Crie uma nova instância de Admin e use seu método para exibir os privilégios."
   ]
  },
  {
   "cell_type": "code",
   "execution_count": 2,
   "metadata": {},
   "outputs": [
    {
     "name": "stdout",
     "output_type": "stream",
     "text": [
      "\n",
      "Nome: Naldo \n",
      "Sobrenome: Benni\n",
      "Um usuário do tipo ADMIN tem os seguintes privilégios:\n",
      "- deletar post\n",
      "- adicionar post\n",
      "- banir usuário\n"
     ]
    }
   ],
   "source": [
    "class Usuario:\n",
    "    def __init__(self, nome, sobrenome):\n",
    "        self.nome = nome\n",
    "        self.sobrenome = sobrenome\n",
    "        self.tentativas_login = 0\n",
    "\n",
    "    def descricao(self):\n",
    "        print('\\nNome:', self.nome.title(), '\\nSobrenome:', self.sobrenome.title())\n",
    "\n",
    "    def saudacao(self):\n",
    "        print('\\nSaudações, ó grandioso', self.nome.title(), self.sobrenome.title())\n",
    "\n",
    "    def incrementa_tentativas_login(self):\n",
    "        self.tentativas_login += 1\n",
    "\n",
    "    def resetar_tentativas_login(self):\n",
    "        self.tentativas_login = 0\n",
    "\n",
    "class Privileges:\n",
    "    def __init__(self):\n",
    "        self.privilegios = ['deletar post', 'adicionar post', 'banir usuário']\n",
    "\n",
    "    def show_privileges(self):\n",
    "        print('Um usuário do tipo ADMIN tem os seguintes privilégios:')\n",
    "        for privilegio in self.privilegios:\n",
    "            print(f'- {privilegio}')\n",
    "\n",
    "class Admin(Usuario):\n",
    "    def __init__(self, nome, sobrenome):\n",
    "        super().__init__(nome, sobrenome)\n",
    "        self.privilegios = Privileges()\n",
    "\n",
    "# Criando uma instância de Admin e chamando o método show_privileges\n",
    "admin1 = Admin('Naldo', 'Benni')\n",
    "admin1.descricao()\n",
    "admin1.privilegios.show_privileges()"
   ]
  },
  {
   "cell_type": "markdown",
   "metadata": {},
   "source": [
    "9.9 – Upgrade de bateria: Use a última versão de electric_car.py desta seção. Acrescente um método chamado upgrade_battery() na classe Battery. Esse método deve verificar a capacidade da bateria e defini-la com 85 se o valor for diferente. Crie um carro elétrico com uma capacidade de bateria default, chame get_range() uma vez e, em seguida, chame get_range() uma segunda vez após fazer um upgrade da bateria. Você deverá ver um aumento na distância que o carro é capaz de percorrer."
   ]
  },
  {
   "cell_type": "code",
   "execution_count": 1,
   "metadata": {},
   "outputs": [
    {
     "name": "stdout",
     "output_type": "stream",
     "text": [
      "2016, marca Tesla, modelo Model S\n",
      "Esse carro tem uma bateria de 75 kWh.\n",
      "Esse carro pode percorrer aproximadamente 240 km com a carga completa.\n",
      "Esse carro tem uma bateria de 85 kWh.\n",
      "Esse carro pode percorrer aproximadamente 270 km com a carga completa.\n"
     ]
    }
   ],
   "source": [
    "class Carro:\n",
    "    def __init__(self, marca, modelo, ano):\n",
    "        self.marca = marca\n",
    "        self.modelo = modelo\n",
    "        self.ano = ano\n",
    "        self.odometro = 0  # \"odometro\" é default e vale 0\n",
    "        self.tamanho_tanque = 100\n",
    "\n",
    "    def descricao(self):\n",
    "        nome_completo = f\"{self.ano}, marca {self.marca.title()}, modelo {self.modelo.title()}\"\n",
    "        return nome_completo\n",
    "\n",
    "    def ler_odometro(self):\n",
    "        print(f'A kilometragem do carro está em: {self.odometro}km')\n",
    "\n",
    "    def atualizar_odometro(self, leitura):\n",
    "        if leitura <= self.odometro:\n",
    "            print('Você não pode voltar o odômetro, seu trapaceiro!')\n",
    "        else:\n",
    "            self.odometro = leitura\n",
    "            print(f'A kilometragem foi atualizada para: {self.odometro}km')\n",
    "\n",
    "    def incrementar_odometro(self, kilometragem):\n",
    "        if kilometragem >= 0:\n",
    "            self.odometro += kilometragem\n",
    "            print(f'A kilometragem foi atualizada para: {self.odometro}km')\n",
    "        else:\n",
    "            print('Você não pode voltar o odômetro, seu trapaceiro!')\n",
    "\n",
    "    def encher_tanque(self):\n",
    "        print(f'O tanque de {self.tamanho_tanque}L está abastecido.')\n",
    "\n",
    "class Battery:\n",
    "    def __init__(self, tamanho=75):\n",
    "        self.tamanho = tamanho\n",
    "\n",
    "    def descrever_bateria(self):\n",
    "        print(f'Esse carro tem uma bateria de {self.tamanho} kWh.')\n",
    "\n",
    "    def upgrade_battery(self):\n",
    "        if self.tamanho != 85:\n",
    "            self.tamanho = 85\n",
    "\n",
    "    def get_range(self):\n",
    "        if self.tamanho == 75:\n",
    "            range = 240\n",
    "        elif self.tamanho == 85:\n",
    "            range = 270\n",
    "        print(f'Esse carro pode percorrer aproximadamente {range} km com a carga completa.')\n",
    "\n",
    "class CarroEletrico(Carro):\n",
    "    def __init__(self, marca, modelo, ano):\n",
    "        super().__init__(marca, modelo, ano)\n",
    "        self.bateria = Battery()\n",
    "\n",
    "    def descricao_bateria(self):\n",
    "        self.bateria.descrever_bateria()\n",
    "\n",
    "    def encher_tanque(self):\n",
    "        print('Carros elétricos não têm tanque de combustível.')\n",
    "\n",
    "# Testando a classe CarroEletrico com upgrade de bateria\n",
    "carro_eletrico1 = CarroEletrico('tesla', 'model S', 2016)\n",
    "print(carro_eletrico1.descricao())\n",
    "carro_eletrico1.bateria.descrever_bateria()\n",
    "carro_eletrico1.bateria.get_range()\n",
    "\n",
    "# Fazendo o upgrade da bateria e verificando a nova autonomia\n",
    "carro_eletrico1.bateria.upgrade_battery()\n",
    "carro_eletrico1.bateria.descrever_bateria()\n",
    "carro_eletrico1.bateria.get_range()"
   ]
  },
  {
   "cell_type": "markdown",
   "metadata": {},
   "source": [
    "## 9.4. Importando classes"
   ]
  },
  {
   "cell_type": "markdown",
   "metadata": {},
   "source": [
    "### 9.4.1. Importando uma única classe"
   ]
  },
  {
   "cell_type": "code",
   "execution_count": 3,
   "metadata": {},
   "outputs": [
    {
     "name": "stdout",
     "output_type": "stream",
     "text": [
      "Pare de tentar trapacear!\n",
      "Pare de tentar trapacear!\n"
     ]
    },
    {
     "data": {
      "text/plain": [
       "2000"
      ]
     },
     "execution_count": 3,
     "metadata": {},
     "output_type": "execute_result"
    }
   ],
   "source": [
    "#importando a classe Carro do arquivo carro\n",
    "from carro import Carro\n",
    "\n",
    "#instanciando essa classe\n",
    "carro1 = Carro('Fiat','Uno',2005)\n",
    "\n",
    "#usando os atributos e métodos dessa classe\n",
    "carro1.apresentar_descricao()\n",
    "carro1.hodometro\n",
    "carro1.atualizar_hodometro(2000)\n",
    "carro1.hodometro\n",
    "carro1.incrementar_hodometro(-100)\n",
    "carro1.hodometro\n",
    "carro1.atualizar_hodometro(1500)\n",
    "carro1.hodometro"
   ]
  },
  {
   "cell_type": "markdown",
   "metadata": {},
   "source": [
    "### 9.4.2. Armazenando várias classes em um módulo"
   ]
  },
  {
   "cell_type": "code",
   "execution_count": 1,
   "metadata": {},
   "outputs": [
    {
     "name": "stdout",
     "output_type": "stream",
     "text": [
      "Esse carro tem uma bateria de 70 kWh.\n",
      "Esse carro pode percorrer aproximadamente 240 km com uma carga.\n"
     ]
    }
   ],
   "source": [
    "#importando a classe CarroEletrico do arquivo carro\n",
    "from carro import CarroEletrico\n",
    "\n",
    "#instanciando a classe CarroEletrico\n",
    "carro_eletrico1 = CarroEletrico('BYD','Seal','2023',tamanho=70)\n",
    "\n",
    "#usando atributos e métodos da classe CarroEletrico\n",
    "carro_eletrico1.apresentar_descricao()\n",
    "carro_eletrico1.bateria.descrever_bateria()\n",
    "carro_eletrico1.bateria.calcular_distancia()"
   ]
  },
  {
   "cell_type": "markdown",
   "metadata": {},
   "source": [
    "### 9.4.3. Importando várias classes de um módulo"
   ]
  },
  {
   "cell_type": "code",
   "execution_count": 11,
   "metadata": {},
   "outputs": [
    {
     "name": "stdout",
     "output_type": "stream",
     "text": [
      "1970 Volks Fusca\n",
      "2016 Tesla Roadster\n",
      "Esse carro tem uma bateria de 70 kWh.\n",
      "Esse carro pode percorrer aproximadamente 240 km com uma carga.\n"
     ]
    }
   ],
   "source": [
    "#importando as classes Carro() e CarroEletrico(Carro)\n",
    "from carro import Carro, CarroEletrico\n",
    "\n",
    "#instanciando e usando métodos\n",
    "carro1 = Carro('Volks','Fusca','1970')\n",
    "print(carro1.apresentar_descricao())\n",
    "\n",
    "carro_eletrico1 = CarroEletrico('Tesla','Roadster',2016,70)\n",
    "print(carro_eletrico1.apresentar_descricao())\n",
    "carro_eletrico1.bateria.descrever_bateria()\n",
    "carro_eletrico1.bateria.calcular_distancia()\n"
   ]
  },
  {
   "cell_type": "markdown",
   "metadata": {},
   "source": [
    "### 9.4.4. Importando um módulo completo"
   ]
  },
  {
   "cell_type": "code",
   "execution_count": 3,
   "metadata": {},
   "outputs": [
    {
     "name": "stdout",
     "output_type": "stream",
     "text": [
      "1970 Volks Fusca\n",
      "2016 Tesla Roadster\n",
      "Esse carro tem uma bateria de 70 kWh.\n",
      "Esse carro pode percorrer aproximadamente 240 km com uma carga.\n"
     ]
    }
   ],
   "source": [
    "#importando o módulo com toas as suas classes\n",
    "import carro\n",
    "\n",
    "#instanciando e usando atributos e métodos\n",
    "carro1 = carro.Carro('Volks','Fusca','1970')\n",
    "print(carro1.apresentar_descricao())\n",
    "\n",
    "carro_eletrico1 = carro.CarroEletrico('Tesla','Roadster',2016,70)\n",
    "print(carro_eletrico1.apresentar_descricao())\n",
    "carro_eletrico1.bateria.descrever_bateria()\n",
    "carro_eletrico1.bateria.calcular_distancia()"
   ]
  },
  {
   "cell_type": "markdown",
   "metadata": {},
   "source": [
    "### 9.4.5. Importando todas as classes de um módulo"
   ]
  },
  {
   "cell_type": "code",
   "execution_count": 4,
   "metadata": {},
   "outputs": [
    {
     "name": "stdout",
     "output_type": "stream",
     "text": [
      "1970 Volks Fusca\n",
      "2016 Tesla Roadster\n",
      "Esse carro tem uma bateria de 70 kWh.\n",
      "Esse carro pode percorrer aproximadamente 240 km com uma carga.\n"
     ]
    }
   ],
   "source": [
    "#importando todas as classes do módulo carro\n",
    "from carro import*\n",
    "\n",
    "#instanciando e usando atributos e métodos\n",
    "carro1 = Carro('Volks','Fusca','1970')\n",
    "print(carro1.apresentar_descricao())\n",
    "\n",
    "carro_eletrico1 = CarroEletrico('Tesla','Roadster',2016,70)\n",
    "print(carro_eletrico1.apresentar_descricao())\n",
    "carro_eletrico1.bateria.descrever_bateria()\n",
    "carro_eletrico1.bateria.calcular_distancia()"
   ]
  },
  {
   "cell_type": "markdown",
   "metadata": {},
   "source": [
    "### 9.4.6. Importando um módulo em um módulo"
   ]
  },
  {
   "cell_type": "code",
   "execution_count": 2,
   "metadata": {},
   "outputs": [
    {
     "name": "stdout",
     "output_type": "stream",
     "text": [
      "1970 Volks Fusca\n",
      "2016 Tesla Roadster\n",
      "Esse carro tem uma bateria de 70 kWh.\n",
      "Esse carro pode percorrer aproximadamente 240 km com uma carga.\n"
     ]
    }
   ],
   "source": [
    "from classe_carro import Carro \n",
    "from classe_carro_eletrico import CarroEletrico #depende da classe Carro() e da classe Bateria(),\n",
    "                                                #por isso importamos essas duas classes de seus \n",
    "                                                #arquivos de origem lá no arquivo classe_carro_eletrico.\n",
    "from classe_bateria import Bateria\n",
    "\n",
    "#instanciando e usando atributos e métodos\n",
    "carro1 = Carro('Volks','Fusca','1970')\n",
    "print(carro1.apresentar_descricao())\n",
    "\n",
    "carro_eletrico1 = CarroEletrico('Tesla','Roadster',2016,70)\n",
    "print(carro_eletrico1.apresentar_descricao())\n",
    "carro_eletrico1.bateria.descrever_bateria()\n",
    "carro_eletrico1.bateria.calcular_distancia()"
   ]
  },
  {
   "cell_type": "markdown",
   "metadata": {},
   "source": [
    "### 9.4.7. Definindo o seu próprio fluxo de trabalho"
   ]
  },
  {
   "cell_type": "markdown",
   "metadata": {},
   "source": [
    "Como podemos ver, Python oferece muitas opções para estruturar o código em um projeto de grande porte. É importante conhecer todas\n",
    "essas possibilidades para que você possa determinar a melhor maneira de organizar seus projetos, assim como entender o projeto de outras pessoas.\n",
    "\n",
    "Quando estiver começando a programar, mantenha a estrutura de seu código simples. Procure fazer tudo em um só arquivo e transfira suas classes para módulos separados depois que tudo estiver funcionando. Se gostar do modo como os módulos e os arquivos interagem, experimente armazenar suas classes em módulos quando iniciar um projeto. Encontre uma abordagem que permita escrever um código que\n",
    "funcione, e comece a partir daí."
   ]
  },
  {
   "cell_type": "markdown",
   "metadata": {},
   "source": [
    "### 9.4.8. Exercícios"
   ]
  },
  {
   "cell_type": "markdown",
   "metadata": {},
   "source": [
    "9.10 – Importando Restaurant: Usando sua classe Restaurant mais recente, armazene-a em um módulo. Crie um arquivo separado que importe Restaurant. Crie uma instância de Restaurant e chame um de seus métodos para mostrar que a instrução import funciona de forma apropriada."
   ]
  },
  {
   "cell_type": "code",
   "execution_count": 8,
   "metadata": {},
   "outputs": [
    {
     "name": "stdout",
     "output_type": "stream",
     "text": [
      "O(a) Cozinha Do Xiquinho é um restaurante com Fogão e Chapa\n",
      "O restaurante está aberto agora!\n",
      "O restaurante está fechado agora!\n",
      "0\n",
      "40\n"
     ]
    }
   ],
   "source": [
    "from classe_restaurante import Restaurante\n",
    "\n",
    "restaurante1 = Restaurante('Cozinha do Xiquinho','Fogão e Chapa')\n",
    "\n",
    "restaurante1.descricao()\n",
    "restaurante1.abrir()\n",
    "restaurante1.fechar()\n",
    "print(restaurante1.num_clientes)\n",
    "restaurante1.alt_num_clientes(40)\n",
    "print(restaurante1.num_clientes)"
   ]
  },
  {
   "cell_type": "markdown",
   "metadata": {},
   "source": [
    "9.11 – Importando Admin: Comece com seu programa do Exercício 9.8 (página 241). Armazene as classes User, Privileges e Admin em um módulo. Crie um arquivo separado e uma instância de Admin e chame show_privileges() para mostrar que tudo está funcionando de forma apropriada."
   ]
  },
  {
   "cell_type": "code",
   "execution_count": 1,
   "metadata": {},
   "outputs": [
    {
     "name": "stdout",
     "output_type": "stream",
     "text": [
      "\n",
      "Nome: José \n",
      "Sobrenome: Martin\n",
      "\n",
      "Saudações, ó grandioso José Martin\n",
      "0\n",
      "1\n",
      "\n",
      "Nome: Naldo \n",
      "Sobrenome: Benny\n",
      "Um usuário do tipo ADMIN tem os seguintes privilégios:\n",
      "- deletar post\n",
      "- adicionar post\n",
      "- banir usuário\n"
     ]
    }
   ],
   "source": [
    "from classes_upa import Usuario, Privileges, Admin\n",
    "\n",
    "#instanciando e explorando a classe Usuario()\n",
    "usuario1 = Usuario('josé','martin')\n",
    "\n",
    "usuario1.descricao()\n",
    "usuario1.saudacao()\n",
    "print(usuario1.tentativas_login)\n",
    "usuario1.incrementa_tentativas_login()\n",
    "print(usuario1.tentativas_login)\n",
    "\n",
    "#instanciando e explorando a classe Admin()\n",
    "admin1 = Admin('naldo','benny')\n",
    "\n",
    "admin1.descricao()\n",
    "admin1.privilegios.show_privileges()"
   ]
  },
  {
   "cell_type": "markdown",
   "metadata": {},
   "source": [
    "9.12 – Vários módulos: Armazene a classe User em um módulo e as classes Privileges e Admin em um módulo separado. Em outro arquivo, crie uma instância de Admin e chame show_privileges() para mostrar que tudo continua funcionando de forma apropriada."
   ]
  },
  {
   "cell_type": "code",
   "execution_count": 1,
   "metadata": {},
   "outputs": [
    {
     "name": "stdout",
     "output_type": "stream",
     "text": [
      "Um usuário do tipo ADMIN tem os seguintes privilégios:\n",
      "- deletar post\n",
      "- adicionar post\n",
      "- banir usuário\n"
     ]
    }
   ],
   "source": [
    "from classe_usuario import Usuario\n",
    "from classes_privileges_e_admin import Privileges, Admin\n",
    "\n",
    "admin1 = Admin('joan','martin')\n",
    "admin1.privilegios.show_privileges()"
   ]
  },
  {
   "cell_type": "markdown",
   "metadata": {},
   "source": [
    "## 9.5. Biblioteca-padrão de Python"
   ]
  },
  {
   "cell_type": "markdown",
   "metadata": {},
   "source": [
    "A biblioteca-padrão de Python é um conjunto de módulos incluído em todas as instalações de Python. Agora que temos uma compreensão básica de como as classes funcionam, podemos começar a usar módulos como esses, escritos por outros programadores. Podemos usar qualquer função ou classe da biblioteca-padrão incluindo uma instrução import simples no início do arquivo. Vamos analisar a classe OrderedDict do\n",
    "módulo collections.\n",
    "\n",
    "Os dicionários permitem associar informações, mas eles não mantêm um controle da ordem em que os pares chave-valor são acrescentados.\n",
    "Se você estiver criando um dicionário e quiser manter o controle da ordem em que os pares chave-valor são adicionados, a classe OrderedDict do módulo collections poderá ser usada. Instâncias da classe OrderedDict se comportam quase do mesmo modo que os dicionários, exceto que mantêm o controle da ordem em que os pares chave-valor são adicionados."
   ]
  },
  {
   "cell_type": "code",
   "execution_count": 3,
   "metadata": {},
   "outputs": [
    {
     "name": "stdout",
     "output_type": "stream",
     "text": [
      "A linguegem favorita de Mário é Python\n",
      "A linguegem favorita de Marlon é Excel\n",
      "A linguegem favorita de Mãe é Reclamar\n",
      "A linguegem favorita de Pai é Grosseria\n"
     ]
    }
   ],
   "source": [
    "from collections import OrderedDict\n",
    "\n",
    "ling_fav = OrderedDict()\n",
    "\n",
    "ling_fav['mário'] = 'python'\n",
    "ling_fav['marlon'] = 'excel'\n",
    "ling_fav['mãe'] = 'reclamar'\n",
    "ling_fav['pai'] = 'grosseria'\n",
    "\n",
    "for nome, linguagem in ling_fav.items():\n",
    "    print('A linguegem favorita de',nome.title(),'é',linguagem.title())"
   ]
  },
  {
   "cell_type": "markdown",
   "metadata": {},
   "source": [
    "### 9.5.1. Exercícios"
   ]
  },
  {
   "cell_type": "markdown",
   "metadata": {},
   "source": [
    "9.13 – Reescrevendo o programa com OrderedDict: Comece com o Exercício 6.4 (página 155), em que usamos um dicionário-padrão para representar um glossário. Reescreva o programa usando a classe OrderedDict e certifique-se de que a ordem da saída coincida com a ordem em que os pares chave-valor foram adicionados ao dicionário."
   ]
  },
  {
   "cell_type": "code",
   "execution_count": 8,
   "metadata": {},
   "outputs": [
    {
     "name": "stdout",
     "output_type": "stream",
     "text": [
      "Front-end : Desenvolvimento da interface do usuário e experiência visual de um aplicativo ou site.\n",
      "Back-end : Gerenciamento de servidores, bancos de dados e lógica de aplicação que suportam a parte visível ao usuário.\n",
      "Análise de dados : Processamento e interpretação de dados para obter insights e suportar decisões empresariais.\n",
      "Ciência de dados : Uso de métodos estatísticos e algoritmos para extrair conhecimento e previsões a partir de dados complexos.\n",
      "Engenharia de dados : Construção e manutenção de infraestrutura e pipelines para coletar, armazenar e processar grandes volumes de dados.\n"
     ]
    }
   ],
   "source": [
    "glossario_ord = OrderedDict()\n",
    "glossario_ord[\"Front-end\"] = \"Desenvolvimento da interface do usuário e experiência visual de um aplicativo ou site.\"\n",
    "glossario_ord[\"Back-end\"] = \"Gerenciamento de servidores, bancos de dados e lógica de aplicação que suportam a parte visível ao usuário.\"\n",
    "glossario_ord[\"Análise de dados\"] = \"Processamento e interpretação de dados para obter insights e suportar decisões empresariais.\"\n",
    "glossario_ord[\"Ciência de dados\"] = \"Uso de métodos estatísticos e algoritmos para extrair conhecimento e previsões a partir de dados complexos.\"\n",
    "glossario_ord[\"Engenharia de dados\"] = \"Construção e manutenção de infraestrutura e pipelines para coletar, armazenar e processar grandes volumes de dados.\"\n",
    "\n",
    "for area,descricao in glossario_ord.items():\n",
    "    print(area,':',descricao)"
   ]
  },
  {
   "cell_type": "markdown",
   "metadata": {},
   "source": [
    "9.14 – Dados: O módulo random contém funções que geram números aleatórios de várias maneiras. A função randint() devolve um inteiro no intervalo especificado por você. O código a seguir devolve um número entre 1 e 6: from random import randint x = randint(1, 6). Crie uma classe Dice com um atributo chamado sides, cujo valor default é 6. \n",
    "\n",
    "Escreva um método chamado roll_dice() que exiba um número aleatório entre 1 e o número de lados do dado. Crie um dado de seis dados e lance-o dez vezes. Crie um dado de dez lados e outro de vinte lados. Lance cada dado dez vezes."
   ]
  },
  {
   "cell_type": "code",
   "execution_count": 27,
   "metadata": {},
   "outputs": [
    {
     "name": "stdout",
     "output_type": "stream",
     "text": [
      "Rolando dado de 6 lados.\n",
      "O valor sorteado foi 6\n",
      "Rolando dado de 10 lados.\n",
      "O valor sorteado foi 2\n",
      "Rolando dado de 20 lados.\n",
      "O valor sorteado foi 4\n"
     ]
    }
   ],
   "source": [
    "from random import randint\n",
    "\n",
    "class Dado():\n",
    "    \"\"\"Uma classe que simula um dado\"\"\"\n",
    "    def __init__(self,lados=6): \n",
    "        \"\"\"Inicializando os atributos da classe\"\"\"\n",
    "        self.lados = lados\n",
    "    \n",
    "    def rolar_dado(self):\n",
    "        print('Rolando dado de',self.lados,'lados.')\n",
    "        print('O valor sorteado foi',randint(1,self.lados))\n",
    "\n",
    "d6 = Dado(6)\n",
    "d6.lados\n",
    "d6.rolar_dado()\n",
    "    \n",
    "d10 = Dado(10)\n",
    "d10.lados\n",
    "d10.rolar_dado()\n",
    "\n",
    "d20 = Dado(20)\n",
    "d20.lados\n",
    "d20.rolar_dado()\n",
    "      "
   ]
  },
  {
   "cell_type": "markdown",
   "metadata": {},
   "source": [
    "9.15 – Módulo Python da semana: Um excelente recurso para explorar a biblioteca-padrão de Python é um site chamado Python Module of the Week (Módulo Python da semana). Acesse http://pymotw.com/ e observe a tabela de conteúdo. Encontre um módulo que pareça ser interessante e leia a sua descrição ou explore a documentação dos módulos collections e random."
   ]
  }
 ],
 "metadata": {
  "kernelspec": {
   "display_name": "Python 3",
   "language": "python",
   "name": "python3"
  },
  "language_info": {
   "codemirror_mode": {
    "name": "ipython",
    "version": 3
   },
   "file_extension": ".py",
   "mimetype": "text/x-python",
   "name": "python",
   "nbconvert_exporter": "python",
   "pygments_lexer": "ipython3",
   "version": "3.10.12"
  }
 },
 "nbformat": 4,
 "nbformat_minor": 2
}
