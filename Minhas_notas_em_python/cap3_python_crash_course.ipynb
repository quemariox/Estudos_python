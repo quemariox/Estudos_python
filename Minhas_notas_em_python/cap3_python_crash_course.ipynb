{
 "cells": [
  {
   "cell_type": "markdown",
   "metadata": {},
   "source": [
    "# Capítulo 3. Introdução às listas"
   ]
  },
  {
   "cell_type": "markdown",
   "metadata": {},
   "source": [
    "## 3.1. O que é uma lista?"
   ]
  },
  {
   "cell_type": "markdown",
   "metadata": {},
   "source": [
    "Neste capítulo e no próximo, veremos o que são listas e como começar a trabalhar com os elementos de uma lista. As listas permitem armazenar conjuntos de informações em um só lugar independentemente de termos alguns itens ou milhões deles. As listas são um dos recursos mais eficazes de Python, prontamente acessíveis aos novos programadores, e elas agregam muitos conceitos importantes em programação.\n",
    "\n",
    "Uma lista é uma coleção de itens em uma ordem em particular. Podemos criar uma lista que inclua as letras do alfabeto, os dígitos de 0 a 9 ou os nomes de todas as pessoas de sua família. Você pode colocar qualquer informação que quiser em uma lista, e os itens de sua lista não precisam estar relacionados de nenhum modo em particular. Como uma lista geralmente contém mais de um elemento, é uma boa ideia deixar seu nome no plural, por exemplo, letters, digits ou names."
   ]
  },
  {
   "cell_type": "markdown",
   "metadata": {},
   "source": [
    "### Criando listas acessando e usando seus elementos"
   ]
  },
  {
   "cell_type": "code",
   "execution_count": 68,
   "metadata": {},
   "outputs": [
    {
     "name": "stdout",
     "output_type": "stream",
     "text": [
      "['speed', 'custom', 'naked', 'trail', 'scooter', 'street', 'touring', 'off-road']\n",
      "speed\n",
      "Custom\n",
      "off-road\n",
      "Minha primeira moto foi uma Naked.\n"
     ]
    }
   ],
   "source": [
    "bikes = ['speed','custom','naked','trail','scooter','street','touring','off-road'] #cria a lista\n",
    "print(bikes) #exibe toda a lista\n",
    "\n",
    "print(bikes[0]) #exibe o primeiro elemento\n",
    "print(bikes[1].title().strip()) #exibe o segundo elemento formatado\n",
    "print(bikes[-1]) #exibe o último elemento\n",
    "\n",
    "print(\"Minha primeira moto foi uma \" + bikes[2].title().strip() + \".\")"
   ]
  },
  {
   "cell_type": "markdown",
   "metadata": {},
   "source": [
    "### Exercícios"
   ]
  },
  {
   "cell_type": "markdown",
   "metadata": {},
   "source": [
    "3.1 – Nomes: Armazene os nomes de alguns de seus amigos em uma lista chamada names. Exiba o nome de cada pessoa acessando cada elemento da lista, um de cada vez.\n",
    "\n",
    "3.2 – Saudações: Comece com a lista usada no Exercício 3.1, mas em vez de simplesmente exibir o nome de cada pessoa, apresente uma mensagem a elas. O texto de cada mensagem deve ser o mesmo, porém cada mensagem deve estar personalizada com o nome da pessoa.\n",
    "\n",
    "3.3 – Sua própria lista: Pense em seu meio de transporte preferido, como motocicleta ou carro, e crie uma lista que armazene vários exemplos. Utilize sua lista para exibir uma série de frases sobre esses itens, como “Gostaria de ter uma moto Honda”."
   ]
  },
  {
   "cell_type": "code",
   "execution_count": 13,
   "metadata": {},
   "outputs": [
    {
     "name": "stdout",
     "output_type": "stream",
     "text": [
      "Olá, amigx Nathália! Você é um amigo! Vamos andar de Carro?\n",
      "Olá, amigx Gabriel! Você é um amigo! Vamos andar de Moto?\n",
      "Olá, amigx Theresa! Você é um amigo! Vamos andar de Helicóptero?\n"
     ]
    }
   ],
   "source": [
    "amigos = ['nathália', 'gabriel', 'theresa']\n",
    "veiculos = ['carro', 'moto', 'helicóptero']\n",
    "\n",
    "# Usando zip para emparelhar os elementos das duas listas\n",
    "for amigo, veiculo in zip(amigos, veiculos):\n",
    "    print(f'Olá, amigx {amigo.title().strip()}! Você é um amigo! Vamos andar de {veiculo.title().strip()}?')"
   ]
  },
  {
   "cell_type": "markdown",
   "metadata": {},
   "source": [
    "## 3.2. Alterando/Acrescentando/Inserindo e Removendo elementos de uma lista"
   ]
  },
  {
   "cell_type": "markdown",
   "metadata": {},
   "source": [
    "`lista.append('valor')`: adiciona 'valor' ao final da lista.\n",
    "\n",
    "`lista.extend([outra_lista])`: adiciona [outra_lista] ao final da lista.\n",
    "\n",
    "`lista.insert(índice, 'valor')`: insere 'valor' no índice [índice] da lista."
   ]
  },
  {
   "cell_type": "code",
   "execution_count": 1,
   "metadata": {},
   "outputs": [
    {
     "name": "stdout",
     "output_type": "stream",
     "text": [
      "['honda', 'yamaha', 'zuzuki']\n",
      "['ducati', 'yamaha', 'zuzuki']\n",
      "['ducati', 'yamaha', 'zuzuki', 'honda']\n",
      "['ducati', 'yamaha', 'zuzuki', 'honda', 'bmw', 'dafra']\n",
      "['ducati', 'yamaha', 'zuzuki', 'aprilha', 'honda', 'bmw', 'dafra']\n"
     ]
    }
   ],
   "source": [
    "marcas_moto = ['honda','yamaha','zuzuki'] #cria a lista\n",
    "print(marcas_moto)\n",
    "\n",
    "marcas_moto[0] = 'ducati' #altera o primeiro elemento\n",
    "print(marcas_moto)\n",
    "\n",
    "marcas_moto.append('honda') #adiciona 'honda' ao fim da lista\n",
    "print(marcas_moto)\n",
    "\n",
    "marcas_moto.extend(['bmw','dafra']) #adiciona uma lista ao fim da lista \n",
    "print(marcas_moto)\n",
    "\n",
    "marcas_moto.insert(3,'aprilha')\n",
    "print(marcas_moto)"
   ]
  },
  {
   "cell_type": "markdown",
   "metadata": {},
   "source": [
    "`del lista[posição]`: remove ítem da lista de acordo com a sua posição\n",
    "`lista.pop()`: remove último ítem da lista, podendo salvá-lo em uma variável\n",
    "`lista.pop(posição)`: remove ítem da lista em uma posição específica, podendo salvá-lo em uma variável\n",
    "`lista.remove('valor')`: remove ítem da lista de acordo com seu valor"
   ]
  },
  {
   "cell_type": "code",
   "execution_count": 20,
   "metadata": {},
   "outputs": [
    {
     "name": "stdout",
     "output_type": "stream",
     "text": [
      "['ducati', 'yamaha', 'zuzuki', 'aprilha', 'honda', 'bmw', 'dafra']\n",
      "['yamaha', 'zuzuki', 'aprilha', 'honda', 'bmw', 'dafra']\n",
      "['yamaha', 'zuzuki', 'aprilha', 'honda', 'bmw']\n",
      "dafra\n",
      "['yamaha', 'zuzuki', 'aprilha', 'bmw']\n",
      "honda\n",
      "['yamaha', 'zuzuki', 'aprilha']\n"
     ]
    }
   ],
   "source": [
    "marcas_moto = ['ducati', 'yamaha', 'zuzuki', 'aprilha', 'honda', 'bmw', 'dafra']\n",
    "print(marcas_moto)\n",
    "\n",
    "del marcas_moto[0] #deleta elemento da lista baseado na posição\n",
    "print(marcas_moto)\n",
    "\n",
    "ultima_moto_pop = marcas_moto.pop() #remove o último ítem e salva em uma variável\n",
    "print(marcas_moto)\n",
    "print(ultima_moto_pop)\n",
    "\n",
    "terceira_moto_pop = marcas_moto.pop(3) #remove o quarto ítem e salva em uma variável\n",
    "print(marcas_moto)\n",
    "print(terceira_moto_pop)\n",
    "\n",
    "marcas_moto.remove('bmw') #remove ítem da lista pelo seu valor\n",
    "print(marcas_moto)"
   ]
  },
  {
   "cell_type": "markdown",
   "metadata": {},
   "source": [
    "### Exercícios"
   ]
  },
  {
   "cell_type": "markdown",
   "metadata": {},
   "source": [
    "3.4 – Lista de convidados: Se pudesse convidar alguém, vivo ou morto, para o jantar, quem você convidaria? Crie uma lista que inclua pelo menos três pessoas que você gostaria de convidar para jantar. Em seguida, utilize sua lista para exibir uma mensagem para cada pessoa, convidando-a para jantar."
   ]
  },
  {
   "cell_type": "code",
   "execution_count": 25,
   "metadata": {},
   "outputs": [
    {
     "name": "stdout",
     "output_type": "stream",
     "text": [
      "Olá, Marlon, você está convidado(a) para um jantar comigo.\n",
      "Olá, Alícia, você está convidado(a) para um jantar comigo.\n",
      "Olá, Véia, você está convidado(a) para um jantar comigo.\n",
      "Olá, Véio, você está convidado(a) para um jantar comigo.\n",
      "Olá, Nathália, você está convidado(a) para um jantar comigo.\n",
      "Olá, Gabriel, você está convidado(a) para um jantar comigo.\n",
      "Nathália não poderá comparecer ao jantar.\n"
     ]
    }
   ],
   "source": [
    "#3.4\n",
    "convidados = ['marlon','alícia','véia','véio','nathália','gabriel']\n",
    "for conv in convidados:\n",
    "    print(f'Olá, {conv.title().strip()}, você está convidado(a) para um jantar comigo.')\n",
    "\n",
    "#3.5\n",
    "print(f'{convidados[4].title().strip()} não poderá comparecer ao jantar.')"
   ]
  },
  {
   "cell_type": "markdown",
   "metadata": {},
   "source": [
    "3.5 – Alterando a lista de convidados: Você acabou de saber que um de seus convidados não poderá comparecer ao jantar, portanto será necessário enviar um novo conjunto de convites. Você deverá pensar em outra pessoa para convidar.\n",
    "\n",
    "- Comece com seu programa do Exercício 3.4. Acrescente uma instrução print no final de seu programa, especificando o nome do convidado que não poderá comparecer.\n",
    "- Modifique sua lista, substituindo o nome do convidado que não poderá comparecer pelo nome da nova pessoa que você está convidando.\n",
    "- Exiba um segundo conjunto de mensagens com o convite, uma para cada pessoa que continua presente em sua lista."
   ]
  },
  {
   "cell_type": "code",
   "execution_count": 28,
   "metadata": {},
   "outputs": [
    {
     "name": "stdout",
     "output_type": "stream",
     "text": [
      "Olá, Marlon, você está convidado(a) para um jantar comigo.\n",
      "Olá, Alícia, você está convidado(a) para um jantar comigo.\n",
      "Olá, Véia, você está convidado(a) para um jantar comigo.\n",
      "Olá, Véio, você está convidado(a) para um jantar comigo.\n",
      "Olá, Gabriel, você está convidado(a) para um jantar comigo.\n",
      "Olá, Gianlucca, você está convidado(a) para um jantar comigo.\n",
      "['marlon', 'alícia', 'véia', 'véio', 'gabriel', 'gianlucca']\n",
      "Olá, Marlon. Nós encontramos uma mesa maior e por isso teremos mais convidados.\n",
      "Olá, Alícia. Nós encontramos uma mesa maior e por isso teremos mais convidados.\n",
      "Olá, Véia. Nós encontramos uma mesa maior e por isso teremos mais convidados.\n",
      "Olá, Véio. Nós encontramos uma mesa maior e por isso teremos mais convidados.\n",
      "Olá, Gabriel. Nós encontramos uma mesa maior e por isso teremos mais convidados.\n",
      "Olá, Gianlucca. Nós encontramos uma mesa maior e por isso teremos mais convidados.\n"
     ]
    }
   ],
   "source": [
    "#3.5\n",
    "convidados = ['marlon','alícia','véia','véio','nathália','gabriel']\n",
    "convidados.remove('nathália')\n",
    "convidados.append('gianlucca')\n",
    "for conv in convidados:\n",
    "    print(f'Olá, {conv.title().strip()}, você está convidado(a) para um jantar comigo.')\n",
    "\n",
    "#3.6\n",
    "for conv in convidados:\n",
    "    print(f'Olá, {conv.title().strip()}. Nós encontramos uma mesa maior e por isso teremos mais convidados.')"
   ]
  },
  {
   "cell_type": "markdown",
   "metadata": {},
   "source": [
    "3.6 – Mais convidados: Você acabou de encontrar uma mesa de jantar maior, portanto agora tem mais espaço disponível. Pense em mais três convidados para o jantar.\n",
    "\n",
    "- Comece com seu programa do Exercício 3.4 ou do Exercício 3.5. Acrescente uma instrução print no final de seu programa informando às pessoas que você encontrou uma mesa de jantar maior.\n",
    "- Utilize insert() para adicionar um novo convidado no início de sua lista.\n",
    "- Utilize insert() para adicionar um novo convidado no meio de sua lista.\n",
    "- Utilize append() para adicionar um novo convidado no final de sua lista.\n",
    "- Exiba um novo conjunto de mensagens de convite, uma para cada pessoa que está em sua lista."
   ]
  },
  {
   "cell_type": "code",
   "execution_count": 32,
   "metadata": {},
   "outputs": [
    {
     "name": "stdout",
     "output_type": "stream",
     "text": [
      "Olá Mário. Você está convidado para um jantar comigo.\n",
      "Olá Marlon. Você está convidado para um jantar comigo.\n",
      "Olá Alícia. Você está convidado para um jantar comigo.\n",
      "Olá Maria. Você está convidado para um jantar comigo.\n",
      "Olá Véia. Você está convidado para um jantar comigo.\n",
      "Olá Véio. Você está convidado para um jantar comigo.\n",
      "Olá Gabriel. Você está convidado para um jantar comigo.\n",
      "Olá Gianlucca. Você está convidado para um jantar comigo.\n",
      "Olá Kassião. Você está convidado para um jantar comigo.\n",
      "Tivemos um problema Kassião. Só poderei convidar duas pessoas para o jantar \n"
     ]
    }
   ],
   "source": [
    "#3.6\n",
    "convidados = ['marlon', 'alícia', 'véia', 'véio', 'gabriel', 'gianlucca']\n",
    "\n",
    "convidados.insert(0,'mário')\n",
    "convidados.insert(3,'maria')\n",
    "convidados.append('kassião')\n",
    "\n",
    "for conv in convidados:\n",
    "    print(f'Olá {conv.title().strip()}. Você está convidado para um jantar comigo.')\n",
    "\n",
    "#3.7\n",
    "for conv in convidados:\n",
    "    print(f'Tivemos um problema {conv.title().strip()}. Só poderei convidar duas pessoas para o jantar ')"
   ]
  },
  {
   "cell_type": "markdown",
   "metadata": {},
   "source": [
    "3.7 – Reduzindo a lista de convidados: Você acabou de descobrir que sua nova mesa de jantar não chegará a tempo para o jantar e tem espaço para somente dois convidados.\n",
    "\n",
    "- Comece com seu programa do Exercício 3.6. Acrescente uma nova linha que mostre uma mensagem informando que você pode convidar apenas duas pessoas para o jantar.\n",
    "- Utilize pop() para remover os convidados de sua lista, um de cada vez, até que apenas dois nomes permaneçam em sua lista. Sempre que remover um nome de sua lista, mostre uma mensagem a essa pessoa, permitindo que ela saiba que você sente muito por não poder convidá-la para o jantar.\n",
    "- Apresente uma mensagem para cada uma das duas pessoas que continuam na lista, permitindo que elas saibam que ainda estão convidadas.\n",
    "- Utilize del para remover os dois últimos nomes de sua lista, de modo que você tenha uma lista vazia. Mostre sua lista para garantir que você realmente tem uma lista vazia no final de seu programa."
   ]
  },
  {
   "cell_type": "code",
   "execution_count": 78,
   "metadata": {},
   "outputs": [
    {
     "name": "stdout",
     "output_type": "stream",
     "text": [
      "Desculpe, Gianlucca terei que te desconvidar.\n",
      "Desculpe, Gabriel terei que te desconvidar.\n",
      "Desculpe, Véio terei que te desconvidar.\n",
      "Desculpe, Véia terei que te desconvidar.\n",
      "Parabéns Marlon, você ainda está convidado(a).\n",
      "Parabéns Alícia, você ainda está convidado(a).\n",
      "['alícia']\n",
      "[]\n"
     ]
    }
   ],
   "source": [
    "convidados = ['marlon', 'alícia', 'véia', 'véio', 'gabriel', 'gianlucca']\n",
    "\n",
    "for conv in convidados[2:]:\n",
    "    print(f'Desculpe, {convidados.pop().title().strip()} terei que te desconvidar.')\n",
    "for conv in convidados:\n",
    "    print(f'Parabéns {conv.title().strip()}, você ainda está convidado(a).') \n",
    "\n",
    "del convidados[0]\n",
    "del convidados[0]\n",
    "\n",
    "print(convidados)"
   ]
  },
  {
   "cell_type": "markdown",
   "metadata": {},
   "source": [
    "## 3.3. Organizando uma lista"
   ]
  },
  {
   "cell_type": "markdown",
   "metadata": {},
   "source": [
    "Ordenando uma lista de forma permanente com o método sort()"
   ]
  },
  {
   "cell_type": "code",
   "execution_count": 82,
   "metadata": {},
   "outputs": [
    {
     "name": "stdout",
     "output_type": "stream",
     "text": [
      "['bmw', 'audi', 'wolks', 'ford', 'gm']\n",
      "['audi', 'bmw', 'ford', 'gm', 'wolks']\n",
      "['wolks', 'gm', 'ford', 'bmw', 'audi']\n"
     ]
    }
   ],
   "source": [
    "carros = ['bmw','audi','wolks','ford','gm'] #lista original, desordenada\n",
    "print(carros) \n",
    "\n",
    "carros.sort() #ordenação permanente (ordem alfabética)\n",
    "print(carros)\n",
    "\n",
    "carros.sort(reverse=True) #ordenação permanente (ordem anti alfabética)\n",
    "print(carros)"
   ]
  },
  {
   "cell_type": "markdown",
   "metadata": {},
   "source": [
    "Ordenando uma lista temporariamente com a função sorted()"
   ]
  },
  {
   "cell_type": "code",
   "execution_count": 87,
   "metadata": {},
   "outputs": [
    {
     "name": "stdout",
     "output_type": "stream",
     "text": [
      "['bmw', 'audi', 'wolks', 'ford', 'gm']\n",
      "['audi', 'bmw', 'ford', 'gm', 'wolks']\n",
      "['wolks', 'gm', 'ford', 'bmw', 'audi']\n",
      "['bmw', 'audi', 'wolks', 'ford', 'gm']\n"
     ]
    }
   ],
   "source": [
    "carros = ['bmw','audi','wolks','ford','gm'] #lista original, desordenada\n",
    "print(carros)\n",
    "\n",
    "carros = ['bmw','audi','wolks','ford','gm'] #lista original, desordenada\n",
    "\n",
    "print(sorted(carros)) #carros ordenada temporariamente \n",
    "print(sorted(carros, reverse=True)) #carros ordenada temporariamente (anti alfabética)\n",
    "\n",
    "print(carros) #lista original permanece inalterada"
   ]
  },
  {
   "cell_type": "markdown",
   "metadata": {},
   "source": [
    "Exibindo uma lista em ordem inversa"
   ]
  },
  {
   "cell_type": "code",
   "execution_count": 89,
   "metadata": {},
   "outputs": [
    {
     "name": "stdout",
     "output_type": "stream",
     "text": [
      "['bmw', 'audi', 'wolks', 'ford', 'gm']\n",
      "['gm', 'ford', 'wolks', 'audi', 'bmw']\n"
     ]
    }
   ],
   "source": [
    "carros = ['bmw','audi','wolks','ford','gm'] #lista original, desordenada\n",
    "print(carros)\n",
    "\n",
    "carros.reverse() #inverte permanentemente a lista\n",
    "print(carros)"
   ]
  },
  {
   "cell_type": "markdown",
   "metadata": {},
   "source": [
    "Descobrindo o tamanho de uma lista"
   ]
  },
  {
   "cell_type": "code",
   "execution_count": 90,
   "metadata": {},
   "outputs": [
    {
     "name": "stdout",
     "output_type": "stream",
     "text": [
      "['bmw', 'audi', 'wolks', 'ford', 'gm']\n",
      "5\n"
     ]
    }
   ],
   "source": [
    "carros = ['bmw','audi','wolks','ford','gm'] #lista original, desordenada\n",
    "print(carros)\n",
    "print(len(carros))#tamanho da lista"
   ]
  },
  {
   "cell_type": "markdown",
   "metadata": {},
   "source": [
    "### Exercícios"
   ]
  },
  {
   "cell_type": "markdown",
   "metadata": {},
   "source": [
    "3.8 – Conhecendo o mundo: Pense em pelo menos cinco lugares do mundo que você gostaria de visitar.\n",
    "\n",
    "- Armazene as localidades em uma lista. Certifique-se de que a lista não esteja em ordem alfabética.\n",
    "- Exiba sua lista na ordem original. Não se preocupe em exibir a lista de forma elegante; basta exibi-la como uma lista Python pura.\n",
    "- Utilize sorted() para exibir sua lista em ordem alfabética, sem modificar a lista propriamente dita.\n",
    "- Mostre que sua lista manteve sua ordem original exibindo-a.\n",
    "- Utilize sorted() para exibir sua lista em ordem alfabética inversa sem alterar a ordem da lista original.\n",
    "- Mostre que sua lista manteve sua ordem original exibindo-a novamente.\n",
    "- Utilize reverse() para mudar a ordem de sua lista. Exiba a lista para mostrar que sua ordem mudou.\n",
    "- Utilize reverse() para mudar a ordem de sua lista novamente. Exiba a lista para mostrar que ela voltou à sua ordem original.\n",
    "- Utilize sort() para mudar sua lista de modo que ela seja armazenada em ordem alfabética. Exiba a lista para mostrar que sua ordem mudou.\n",
    "- Utilize sort() para mudar sua lista de modo que ela seja armazenada em ordem alfabética inversa. \n",
    "\n",
    "Exiba a lista para mostrar que sua ordem mudou."
   ]
  },
  {
   "cell_type": "code",
   "execution_count": 100,
   "metadata": {},
   "outputs": [
    {
     "name": "stdout",
     "output_type": "stream",
     "text": [
      "['china', 'coreia', 'japão', 'marrocos', 'brasil', 'europa']\n",
      "['brasil', 'china', 'coreia', 'europa', 'japão', 'marrocos']\n",
      "['china', 'coreia', 'japão', 'marrocos', 'brasil', 'europa']\n",
      "['europa', 'brasil', 'marrocos', 'japão', 'coreia', 'china']\n",
      "['china', 'coreia', 'japão', 'marrocos', 'brasil', 'europa']\n",
      "['brasil', 'china', 'coreia', 'europa', 'japão', 'marrocos']\n",
      "['marrocos', 'japão', 'europa', 'coreia', 'china', 'brasil']\n"
     ]
    }
   ],
   "source": [
    "locais = ['china','coreia','japão','marrocos','brasil','europa'] #cria lista\n",
    "print(locais) #exibe lista original\n",
    "print(sorted(locais)) #exibe locais em ordem aflabética\n",
    "print(locais) #a lista original não foi alterada\n",
    "\n",
    "locais.reverse() #inverte a lista original\n",
    "print(locais)\n",
    "\n",
    "locais.reverse() #inverte novamente para voltar ao original\n",
    "print(locais)\n",
    "\n",
    "locais.sort() #ordena permanentemente\n",
    "print(locais)\n",
    "\n",
    "locais.sort(reverse=True) #ordem anti alfabetica permanente\n",
    "print(locais)"
   ]
  },
  {
   "cell_type": "markdown",
   "metadata": {},
   "source": [
    "3.9 – Convidados para o jantar: Trabalhando com um dos programas dos Exercícios de 3.4 a 3.7 (páginas 80 e 81), use len() para exibir uma mensagem informando o número de pessoas que você está convidando para o jantar."
   ]
  },
  {
   "cell_type": "code",
   "execution_count": 104,
   "metadata": {},
   "outputs": [
    {
     "name": "stdout",
     "output_type": "stream",
     "text": [
      "6\n",
      "5\n",
      "4\n",
      "5\n"
     ]
    }
   ],
   "source": [
    "convidados = ['marlon','alícia','véia','véio','nathália','gabriel']\n",
    "print(len(convidados))\n",
    "\n",
    "del convidados[0]\n",
    "print(len(convidados))\n",
    "\n",
    "convidados.remove('alícia')\n",
    "print(len(convidados))\n",
    "\n",
    "convidados.append('gianlucca')\n",
    "print(len(convidados))"
   ]
  },
  {
   "cell_type": "markdown",
   "metadata": {},
   "source": [
    "3.10 – Todas as funções: Pensa em algo que você poderia armazenar em uma lista. Por exemplo, você poderia criar uma lista de montanhas, rios, países, cidades, idiomas ou qualquer outro item que quiser. Escreva um programa que crie uma lista contendo esses itens e então utilize cada função apresentada neste capítulo pelo menos uma vez."
   ]
  },
  {
   "cell_type": "code",
   "execution_count": 108,
   "metadata": {},
   "outputs": [
    {
     "name": "stdout",
     "output_type": "stream",
     "text": [
      "['dindin', 'carro', 'fêmea']\n",
      "['dindin', 'carro', 'fêmea', 'casa', 'moto', 'emprego', 'filhos']\n",
      "['carro', 'fêmea', 'casa', 'moto', 'emprego']\n",
      "['carro', 'fêmea', 'filhos', 'dindin', 'casa', 'moto', 'emprego']\n",
      "['fêmea', 'filhos', 'dindin', 'casa', 'emprego']\n"
     ]
    }
   ],
   "source": [
    "lista = ['dindin','carro','fêmea'] #criando lista\n",
    "print(lista)\n",
    "\n",
    "lista.append('casa') #adiciona ao fim da lista\n",
    "lista.extend(['moto','emprego','filhos']) #adiciona lista o final\n",
    "print(lista)\n",
    "\n",
    "item1 = lista.pop() #remove último ítem e salva na variável \"item1\"\n",
    "item2 = lista.pop(0) #remove primeiro ítem e salva na variável \"item2\"\n",
    "print(lista)\n",
    "\n",
    "lista.insert(2, item1) #insere item1 na posição 2\n",
    "lista.insert(3, item2) #insere item2 na posição 3\n",
    "print(lista)\n",
    "\n",
    "lista.remove('moto')\n",
    "del lista[0]\n",
    "print(lista)"
   ]
  },
  {
   "cell_type": "markdown",
   "metadata": {},
   "source": []
  }
 ],
 "metadata": {
  "kernelspec": {
   "display_name": "Python 3",
   "language": "python",
   "name": "python3"
  },
  "language_info": {
   "codemirror_mode": {
    "name": "ipython",
    "version": 3
   },
   "file_extension": ".py",
   "mimetype": "text/x-python",
   "name": "python",
   "nbconvert_exporter": "python",
   "pygments_lexer": "ipython3",
   "version": "3.10.12"
  }
 },
 "nbformat": 4,
 "nbformat_minor": 2
}
