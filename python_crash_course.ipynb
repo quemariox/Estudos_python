{
  "cells": [
    {
      "cell_type": "markdown",
      "metadata": {
        "id": "view-in-github",
        "colab_type": "text"
      },
      "source": [
        "<a href=\"https://colab.research.google.com/github/quemariox/Estudos_python/blob/main/python_crash_course.ipynb\" target=\"_parent\"><img src=\"https://colab.research.google.com/assets/colab-badge.svg\" alt=\"Open In Colab\"/></a>"
      ]
    },
    {
      "cell_type": "markdown",
      "metadata": {
        "id": "FlJzD0WKKvHD"
      },
      "source": [
        "# Capítulo 2. Variáveis e tipos de dados simples"
      ]
    },
    {
      "cell_type": "markdown",
      "metadata": {
        "id": "HgF-6LAZKvHH"
      },
      "source": [
        "## 2.1. Strings"
      ]
    },
    {
      "cell_type": "markdown",
      "metadata": {
        "id": "DQ4konPsKvHI"
      },
      "source": [
        "Uma string é simplesmente uma série de caracteres. Tudo que estiver entre aspas é considerada uma string em Python, e você pode usar aspas simples ou duplas em torno de suas strings, assim:\n",
        "- \"This is a string.\"\n",
        "- 'This is also a string.'\n",
        "\n",
        "Essa flexibilidade permite usar aspas e apóstrofos em suas strings:\n",
        "- 'I told my friend, \"Python is my favorite language!\"'\n",
        "- \"The language 'Python' is named after Monty Python, not the snake.\"\n",
        "- \"One of Python's strengths is its diverse and supportive community.\""
      ]
    },
    {
      "cell_type": "markdown",
      "metadata": {
        "id": "yANM-waBKvHJ"
      },
      "source": [
        "### Atribuição"
      ]
    },
    {
      "cell_type": "markdown",
      "metadata": {
        "id": "0fTJgloQKvHK"
      },
      "source": [
        "2.1 – Mensagem simples: Armazene uma mensagem em uma variável e, em seguida, exiba essa mensagem.\n",
        "\n",
        "2.2 – Mensagens simples: Armazene uma mensagem em uma variável e, em seguida, exiba essa mensagem. Então altere o valor de sua variável para uma nova mensagem e mostre essa nova mensagem."
      ]
    },
    {
      "cell_type": "code",
      "execution_count": null,
      "metadata": {
        "id": "oWpgB6bbKvHL",
        "outputId": "051d502c-9d06-47ed-c257-2058905d8233"
      },
      "outputs": [
        {
          "name": "stdout",
          "output_type": "stream",
          "text": [
            "uma mensagem\n",
            "uma OUTRA mensagem\n"
          ]
        }
      ],
      "source": [
        "msg = 'uma mensagem'\n",
        "print(msg)\n",
        "\n",
        "msg = 'uma OUTRA mensagem'\n",
        "print(msg)"
      ]
    },
    {
      "cell_type": "markdown",
      "metadata": {
        "id": "5RGYhtlfKvHM"
      },
      "source": [
        "### Mudando para letras maiúsculas e minúsculas em uma string usando métodos"
      ]
    },
    {
      "cell_type": "code",
      "execution_count": null,
      "metadata": {
        "id": "iTeTjnrKKvHN",
        "outputId": "26cac161-5271-47fd-e963-e25d195cb582"
      },
      "outputs": [
        {
          "name": "stdout",
          "output_type": "stream",
          "text": [
            "Mário Lucas Miguel\n",
            "mário lucas miguel\n",
            "MÁRIO LUCAS MIGUEL\n"
          ]
        }
      ],
      "source": [
        "nome = 'mário lucas miguel'\n",
        "\n",
        "#método para formatar como título\n",
        "print(nome.title())\n",
        "\n",
        "#método para caixa baixa\n",
        "print(nome.lower())\n",
        "\n",
        "#método para caixa alta\n",
        "print(nome.upper())"
      ]
    },
    {
      "cell_type": "markdown",
      "metadata": {
        "id": "HLQdC-61KvHO"
      },
      "source": [
        "### Combinando ou concatenando strings"
      ]
    },
    {
      "cell_type": "code",
      "execution_count": null,
      "metadata": {
        "id": "TXoIdJmYKvHP",
        "outputId": "10a05bfc-156f-406b-fcb8-682333e1645b"
      },
      "outputs": [
        {
          "name": "stdout",
          "output_type": "stream",
          "text": [
            "O nome completo é: Mário Lucas Miguel\n"
          ]
        }
      ],
      "source": [
        "nome_1 = 'mário'\n",
        "nome_2 = 'lucas'\n",
        "nome_3 = 'miguel'\n",
        "\n",
        "nome_completo =  nome_1 + ' ' + nome_2 + ' ' +nome_3\n",
        "nome_completo = nome_completo.title()\n",
        "print(\"O nome completo é: \" + nome_completo)"
      ]
    },
    {
      "cell_type": "markdown",
      "metadata": {
        "id": "hkyumucKKvHQ"
      },
      "source": [
        "### Acrescentando espaços em branco em strings com tabulações ou quebras de linha"
      ]
    },
    {
      "cell_type": "code",
      "execution_count": null,
      "metadata": {
        "id": "LYlwXYW9KvHQ",
        "outputId": "dbfb6df3-663a-4b88-d7f4-2b2f2759c8fb"
      },
      "outputs": [
        {
          "name": "stdout",
          "output_type": "stream",
          "text": [
            "Lingugens de programação: \n",
            "\t Python; \n",
            "\t C#; \n",
            "\t JavaScript\n"
          ]
        }
      ],
      "source": [
        "# \"\\t\": tabulações\n",
        "# \"\\n\": quebra de linha\n",
        "\n",
        "print(\"Lingugens de programação: \\n\\t Python; \\n\\t C#; \\n\\t JavaScript\")"
      ]
    },
    {
      "cell_type": "markdown",
      "metadata": {
        "id": "BS_WExUYKvHR"
      },
      "source": [
        "### Removendo espaços em branco"
      ]
    },
    {
      "cell_type": "code",
      "execution_count": null,
      "metadata": {
        "id": "t6l2gR9vKvHR",
        "outputId": "d8cfa0bd-f21e-4342-8486-c8dc2f239c5a"
      },
      "outputs": [
        {
          "name": "stdout",
          "output_type": "stream",
          "text": [
            "False\n",
            "msg\n",
            "msg\n",
            "msg\n",
            "True\n"
          ]
        }
      ],
      "source": [
        "#o python conta o espaço em branco como um caractere\n",
        "str1 = 'msg        ' #espaço no final\n",
        "str2 = '        msg' #espaço no início\n",
        "str3 = '    msg    ' #espaço antes e depois\n",
        "str4 = 'msg' #sem espaço\n",
        "\n",
        "print(str1 == str2 == str3 == str4) #False pois as strings são diferentes\n",
        "\n",
        "str1 = str1.rstrip() #remove espaços do final\n",
        "str2 = str2.lstrip() #remove espaços do início\n",
        "str3 = str3.strip() #remove espaços\n",
        "\n",
        "print(str1)\n",
        "print(str2)\n",
        "print(str3)\n",
        "print(str1 == str2 == str3 == str4) #True pois as strings agora são iguais\n"
      ]
    },
    {
      "cell_type": "markdown",
      "metadata": {
        "id": "t7UzQTfRKvHS"
      },
      "source": [
        "### Exercícios"
      ]
    },
    {
      "cell_type": "markdown",
      "metadata": {
        "id": "FPCcvQzrKvHS"
      },
      "source": [
        "2.3 – Mensagem pessoal: Armazene o nome de uma pessoa em uma variável e apresente uma mensagem a essa pessoa. Sua mensagem deve ser simples, como “Alô Eric, você gostaria de aprender um pouco de Python hoje?”.\n",
        "\n",
        "2.4 – Letras maiúsculas e minúsculas em nomes: Armazene o nome de uma pessoa em uma variável e então apresente o nome dessa pessoa em letras minúsculas, em letras maiúsculas e somente com a primeira letra maiúscula."
      ]
    },
    {
      "cell_type": "code",
      "execution_count": null,
      "metadata": {
        "id": "18IlH52SKvHT",
        "outputId": "1088cd29-6644-448e-bd36-eb9a98d2fee1"
      },
      "outputs": [
        {
          "name": "stdout",
          "output_type": "stream",
          "text": [
            " Olá, . \n",
            " Como vai você? \n",
            " Gostaria de aprender um pouco de Python hoje?\n"
          ]
        }
      ],
      "source": [
        "nome = input('Qual o seu nome?')\n",
        "nome = nome.title().strip()\n",
        "print(f\" Olá, {nome}. \\n Como vai você? \\n Gostaria de aprender um pouco de Python hoje?\")"
      ]
    },
    {
      "cell_type": "markdown",
      "metadata": {
        "id": "lorhFGqJKvHU"
      },
      "source": [
        "2.5 – Citação famosa: Encontre uma citação de uma pessoa famosa que você admire. Exiba a citação e o nome do autor. Sua saída deverá ter a aparência a seguir, incluindo as aspas: Albert Einstein certa vez disse: “Uma pessoa que\n",
        "nunca cometeu um erro jamais tentou nada novo.”\n",
        "\n",
        "2.6 – Citação famosa 2: Repita o Exercício 2.5, porém, desta vez, armazene o nome da pessoa famosa em uma variável chamada famous_person. Em seguida, componha sua mensagem e armazene-a em uma nova variável chamada message. Exiba sua mensagem.\n",
        "\n",
        "2.7 – Removendo caracteres em branco de nomes: Armazene o nome de uma pessoa e inclua alguns caracteres em branco no início e no final do nome. Lembre-se de usar cada combinação de caracteres, \"\\t\" e \"\\n\", pelo menos uma vez. Exiba o nome uma vez, de modo que os espaços em branco em torno do nome sejam mostrados. Em seguida, exiba o nome usando cada uma das três funções de remoção de espaços: lstrip(), rstrip() e strip()."
      ]
    },
    {
      "cell_type": "code",
      "execution_count": null,
      "metadata": {
        "id": "BZ7XZspeKvHU",
        "outputId": "1f39fe1b-937a-47df-d01e-050d06f02451"
      },
      "outputs": [
        {
          "name": "stdout",
          "output_type": "stream",
          "text": [
            "\t\"\" \n",
            " \t \t \t \t \t \t \t- .\n"
          ]
        }
      ],
      "source": [
        "autor = input('Digite o nome do autor: ')\n",
        "citacao = input('Digite a citação: ')\n",
        "\n",
        "autor = autor.title().strip()\n",
        "\n",
        "print(f'\\t\"{citacao}\" \\n \\t \\t \\t \\t \\t \\t \\t- {autor}.')"
      ]
    },
    {
      "cell_type": "markdown",
      "metadata": {
        "id": "qqryKU96KvHV"
      },
      "source": [
        "## 2.2. Números"
      ]
    },
    {
      "cell_type": "markdown",
      "metadata": {
        "id": "gYZfuLyaKvHW"
      },
      "source": [
        "Os números são usados com muita frequência em programação para armazenar pontuações em jogos, representar dados em visualizações, guardar informações em aplicações web e assim por diante. Python trata números de várias maneiras diferentes, de acordo com o modo como são usados. Vamos analisar inicialmente como Python trata inteiros, pois eles são os dados mais simples para trabalhar."
      ]
    },
    {
      "cell_type": "markdown",
      "metadata": {
        "id": "s4zzVBvZKvHW"
      },
      "source": [
        "### Inteiros"
      ]
    },
    {
      "cell_type": "code",
      "execution_count": null,
      "metadata": {
        "id": "HXWNRMa0KvHX",
        "outputId": "c92150ba-d07d-480c-c2f9-3aa47c4d6110"
      },
      "outputs": [
        {
          "name": "stdout",
          "output_type": "stream",
          "text": [
            "5\n",
            "-1\n",
            "6\n",
            "0.6666666666666666\n",
            "2\n",
            "1\n",
            "9\n"
          ]
        }
      ],
      "source": [
        "print(2 + 3) #soma\n",
        "print(2 - 3) #subtração\n",
        "print(2 * 3)#multiplicação\n",
        "print(2 / 3) #divisão\n",
        "print(5 // 2) #parte inteira da divisão\n",
        "print(5 % 2) #resto da divisão\n",
        "print(3 ** 2) #potência"
      ]
    },
    {
      "cell_type": "markdown",
      "metadata": {
        "id": "2Phxkll2KvHX"
      },
      "source": [
        "A ordem das operações importa"
      ]
    },
    {
      "cell_type": "code",
      "execution_count": null,
      "metadata": {
        "id": "EhXMvtyiKvHY",
        "outputId": "5c3d8bec-e7eb-41fe-e9b5-b48709ede078"
      },
      "outputs": [
        {
          "name": "stdout",
          "output_type": "stream",
          "text": [
            "14\n",
            "20\n"
          ]
        }
      ],
      "source": [
        "print(2 + 3*4)\n",
        "print((2+3)*4)"
      ]
    },
    {
      "cell_type": "markdown",
      "metadata": {
        "id": "S5kJ46d7KvHY"
      },
      "source": [
        "### Ponto flutuante"
      ]
    },
    {
      "cell_type": "code",
      "execution_count": null,
      "metadata": {
        "id": "xfI4aoDjKvHY",
        "outputId": "7fe2df13-efcc-4ad3-df1f-c42845233edb"
      },
      "outputs": [
        {
          "name": "stdout",
          "output_type": "stream",
          "text": [
            "0.4\n",
            "0.30000000000000004\n"
          ]
        }
      ],
      "source": [
        "print(2*0.2) #uma casa decimal\n",
        "print(3*0.1) #16 casas decimais"
      ]
    },
    {
      "cell_type": "markdown",
      "metadata": {
        "id": "-CfBryWOKvHZ"
      },
      "source": [
        "### Evitando erros de tipo com a função str()"
      ]
    },
    {
      "cell_type": "markdown",
      "metadata": {
        "id": "AAzhzEQ8KvHZ"
      },
      "source": [
        "Só podemos concatenar str com outras str. Por isso, as vezes é necessário fazer uma operação de TypeCasting para que seja possível transformar outros tipos em str."
      ]
    },
    {
      "cell_type": "code",
      "execution_count": null,
      "metadata": {
        "id": "cUVzTylyKvHa",
        "outputId": "5fd10610-6006-452b-87d3-2615c843e65d"
      },
      "outputs": [
        {
          "name": "stdout",
          "output_type": "stream",
          "text": [
            "Mário Lucas Miguel tem 27 anos.\n"
          ]
        }
      ],
      "source": [
        "nome = input('Qual o seu nome?')\n",
        "idade = int(input(\"Qual sua idade\"))\n",
        "nome = nome.title().strip()\n",
        "\n",
        "#é preciso transformar o int \"idade\" em str para poder concatenar com outras str\n",
        "msg = nome + ' tem ' + str(idade) + ' anos.'\n",
        "print(msg)"
      ]
    },
    {
      "cell_type": "markdown",
      "metadata": {
        "id": "EHwNNVLNKvHb"
      },
      "source": [
        "### Exercícios"
      ]
    },
    {
      "cell_type": "markdown",
      "metadata": {
        "id": "CKa6NF-7KvHb"
      },
      "source": [
        "2.8 – Número oito: Escreva operações de adição, subtração, multiplicação e divisão que resultem no número 8. Lembre-se de colocar suas operações em instruções print para ver os resultados. Você deve criar quatro linhas como esta: print(5 + 3) Sua saída deve simplesmente ser composta de quatro linhas, com o número 8 em cada uma das linhas.\n",
        "\n",
        "2.9 – Número favorito: Armazene seu número favorito em uma variável. Em seguida, usando essa variável, crie uma mensagem que revele o seu número favorito. Exiba essa mensagem.\n",
        "\n",
        "2.10 – Acrescentando comentários: Escolha dois dos programas que você escreveu e acrescente pelo menos um comentário em cada um. Se você não tiver nada específico para escrever porque o programa é muito simples no momento, basta adicionar seu nome e a data de hoje no início de cada arquivo de programa. Em seguida, escreva uma frase que descreva o que o programa faz.\n",
        "\n",
        "2.11 – Zen de Python: Digite import this em uma sessão de terminal de Python e dê uma olhada nos princípios adicionais."
      ]
    },
    {
      "cell_type": "code",
      "execution_count": null,
      "metadata": {
        "id": "Hzq0TKY2KvHc",
        "outputId": "dbb261a7-e44a-45d7-9972-a17da1a85c24"
      },
      "outputs": [
        {
          "name": "stdout",
          "output_type": "stream",
          "text": [
            "8.0\n"
          ]
        }
      ],
      "source": [
        "#meu número favorito é 8\n",
        "print(2 + (2*3) - 4 + (4/2)**2)"
      ]
    },
    {
      "cell_type": "markdown",
      "metadata": {
        "id": "IxoXAKl1KvHc"
      },
      "source": [
        "### Zen python"
      ]
    },
    {
      "cell_type": "code",
      "execution_count": null,
      "metadata": {
        "id": "IevU3DdLKvHd"
      },
      "outputs": [],
      "source": [
        "#manifesto \"The Zen of Python\" de Tim Peters\n",
        "import this"
      ]
    },
    {
      "cell_type": "markdown",
      "metadata": {
        "id": "mxb6pidRKvHd"
      },
      "source": []
    },
    {
      "cell_type": "markdown",
      "metadata": {
        "id": "ykpLBNOlK8MV"
      },
      "source": [
        "# Capítulo 3. Introdução às listas"
      ]
    },
    {
      "cell_type": "markdown",
      "metadata": {
        "id": "9w7RSfQFK8MZ"
      },
      "source": [
        "Neste capítulo e no próximo, veremos o que são listas e como começar a trabalhar com os elementos de uma lista. As listas permitem armazenar conjuntos de informações em um só lugar independentemente de termos alguns itens ou milhões deles. As listas são um dos recursos mais eficazes de Python, prontamente acessíveis aos novos programadores, e elas agregam muitos conceitos importantes em programação.\n",
        "\n",
        "Uma lista é uma coleção de itens em uma ordem em particular. Podemos criar uma lista que inclua as letras do alfabeto, os dígitos de 0 a 9 ou os nomes de todas as pessoas de sua família. Você pode colocar qualquer informação que quiser em uma lista, e os itens de sua lista não precisam estar relacionados de nenhum modo em particular. Como uma lista geralmente contém mais de um elemento, é uma boa ideia deixar seu nome no plural, por exemplo, letters, digits ou names."
      ]
    },
    {
      "cell_type": "markdown",
      "metadata": {
        "id": "HWHhgjSsK8Ma"
      },
      "source": [
        "## Criando listas acessando e usando seus elementos"
      ]
    },
    {
      "cell_type": "code",
      "execution_count": null,
      "metadata": {
        "id": "Z6vT9oWUK8Mc",
        "outputId": "400e92aa-ccb0-44cf-c74f-0f4a56ad3fb0"
      },
      "outputs": [
        {
          "name": "stdout",
          "output_type": "stream",
          "text": [
            "['speed', 'custom', 'naked', 'trail', 'scooter', 'street', 'touring', 'off-road']\n",
            "speed\n",
            "Custom\n",
            "off-road\n",
            "Minha primeira moto foi uma Naked.\n"
          ]
        }
      ],
      "source": [
        "bikes = ['speed','custom','naked','trail','scooter','street','touring','off-road'] #cria a lista\n",
        "print(bikes) #exibe toda a lista\n",
        "\n",
        "print(bikes[0]) #exibe o primeiro elemento\n",
        "print(bikes[1].title().strip()) #exibe o segundo elemento formatado\n",
        "print(bikes[-1]) #exibe o último elemento\n",
        "\n",
        "print(\"Minha primeira moto foi uma \" + bikes[2].title().strip() + \".\")"
      ]
    },
    {
      "cell_type": "markdown",
      "metadata": {
        "id": "JoI9ClUmK8Me"
      },
      "source": [
        "## Exercícios"
      ]
    },
    {
      "cell_type": "markdown",
      "metadata": {
        "id": "ZWLpLYtbK8Me"
      },
      "source": [
        "3.1 – Nomes: Armazene os nomes de alguns de seus amigos em uma lista chamada names. Exiba o nome de cada pessoa acessando cada elemento da lista, um de cada vez.\n",
        "\n",
        "3.2 – Saudações: Comece com a lista usada no Exercício 3.1, mas em vez de simplesmente exibir o nome de cada pessoa, apresente uma mensagem a elas. O texto de cada mensagem deve ser o mesmo, porém cada mensagem deve estar personalizada com o nome da pessoa.\n",
        "\n",
        "3.3 – Sua própria lista: Pense em seu meio de transporte preferido, como motocicleta ou carro, e crie uma lista que armazene vários exemplos. Utilize sua lista para exibir uma série de frases sobre esses itens, como “Gostaria de ter uma moto Honda”."
      ]
    },
    {
      "cell_type": "code",
      "execution_count": null,
      "metadata": {
        "id": "IMU_G1-vK8Mf",
        "outputId": "afc7a3db-5571-4add-e71b-e0ca5ea3268a"
      },
      "outputs": [
        {
          "name": "stdout",
          "output_type": "stream",
          "text": [
            "Olá, amigx Nathália! Você é um amigo! Vamos andar de Carro?\n",
            "Olá, amigx Gabriel! Você é um amigo! Vamos andar de Moto?\n",
            "Olá, amigx Theresa! Você é um amigo! Vamos andar de Helicóptero?\n"
          ]
        }
      ],
      "source": [
        "amigos = ['nathália', 'gabriel', 'theresa']\n",
        "veiculos = ['carro', 'moto', 'helicóptero']\n",
        "\n",
        "# Usando zip para emparelhar os elementos das duas listas\n",
        "for amigo, veiculo in zip(amigos, veiculos):\n",
        "    print(f'Olá, amigx {amigo.title().strip()}! Você é um amigo! Vamos andar de {veiculo.title().strip()}?')"
      ]
    },
    {
      "cell_type": "markdown",
      "metadata": {
        "id": "gDEQEB2oK8Mh"
      },
      "source": [
        "## Alterando/Acrescentando/Inserindo e Removendo elementos de uma lista"
      ]
    },
    {
      "cell_type": "markdown",
      "metadata": {
        "id": "_AMo3X4sK8Mi"
      },
      "source": [
        "`lista.append('valor')`: adiciona 'valor' ao final da lista.\n",
        "\n",
        "`lista.extend([outra_lista])`: adiciona [outra_lista] ao final da lista.\n",
        "\n",
        "`lista.insert(índice, 'valor')`: insere 'valor' no índice [índice] da lista."
      ]
    },
    {
      "cell_type": "code",
      "execution_count": null,
      "metadata": {
        "id": "nhvhxjDTK8Mj",
        "outputId": "7fdf44f1-e511-4608-e7f2-29782dae28bc"
      },
      "outputs": [
        {
          "name": "stdout",
          "output_type": "stream",
          "text": [
            "['honda', 'yamaha', 'zuzuki']\n",
            "['ducati', 'yamaha', 'zuzuki']\n",
            "['ducati', 'yamaha', 'zuzuki', 'honda']\n",
            "['ducati', 'yamaha', 'zuzuki', 'honda', 'bmw', 'dafra']\n",
            "['ducati', 'yamaha', 'zuzuki', 'aprilha', 'honda', 'bmw', 'dafra']\n"
          ]
        }
      ],
      "source": [
        "marcas_moto = ['honda','yamaha','zuzuki'] #cria a lista\n",
        "print(marcas_moto)\n",
        "\n",
        "marcas_moto[0] = 'ducati' #altera o primeiro elemento\n",
        "print(marcas_moto)\n",
        "\n",
        "marcas_moto.append('honda') #adiciona 'honda' ao fim da lista\n",
        "print(marcas_moto)\n",
        "\n",
        "marcas_moto.extend(['bmw','dafra']) #adiciona uma lista ao fim da lista\n",
        "print(marcas_moto)\n",
        "\n",
        "marcas_moto.insert(3,'aprilha')\n",
        "print(marcas_moto)"
      ]
    },
    {
      "cell_type": "markdown",
      "metadata": {
        "id": "zJFY0QXnK8Mj"
      },
      "source": [
        "`del lista[posição]`: remove ítem da lista de acordo com a sua posição\n",
        "`lista.pop()`: remove último ítem da lista, podendo salvá-lo em uma variável\n",
        "`lista.pop(posição)`: remove ítem da lista em uma posição específica, podendo salvá-lo em uma variável\n",
        "`lista.remove('valor')`: remove ítem da lista de acordo com seu valor"
      ]
    },
    {
      "cell_type": "code",
      "execution_count": null,
      "metadata": {
        "id": "4CN2bDqLK8Mk",
        "outputId": "7619674e-4031-43d4-a1a2-548d09e73ac1"
      },
      "outputs": [
        {
          "name": "stdout",
          "output_type": "stream",
          "text": [
            "['ducati', 'yamaha', 'zuzuki', 'aprilha', 'honda', 'bmw', 'dafra']\n",
            "['yamaha', 'zuzuki', 'aprilha', 'honda', 'bmw', 'dafra']\n",
            "['yamaha', 'zuzuki', 'aprilha', 'honda', 'bmw']\n",
            "dafra\n",
            "['yamaha', 'zuzuki', 'aprilha', 'bmw']\n",
            "honda\n",
            "['yamaha', 'zuzuki', 'aprilha']\n"
          ]
        }
      ],
      "source": [
        "marcas_moto = ['ducati', 'yamaha', 'zuzuki', 'aprilha', 'honda', 'bmw', 'dafra']\n",
        "print(marcas_moto)\n",
        "\n",
        "del marcas_moto[0] #deleta elemento da lista baseado na posição\n",
        "print(marcas_moto)\n",
        "\n",
        "ultima_moto_pop = marcas_moto.pop() #remove o último ítem e salva em uma variável\n",
        "print(marcas_moto)\n",
        "print(ultima_moto_pop)\n",
        "\n",
        "terceira_moto_pop = marcas_moto.pop(3) #remove o quarto ítem e salva em uma variável\n",
        "print(marcas_moto)\n",
        "print(terceira_moto_pop)\n",
        "\n",
        "marcas_moto.remove('bmw') #remove ítem da lista pelo seu valor\n",
        "print(marcas_moto)"
      ]
    },
    {
      "cell_type": "markdown",
      "metadata": {
        "id": "IToA0gUeK8Ml"
      },
      "source": [
        "## Exercícios"
      ]
    },
    {
      "cell_type": "markdown",
      "metadata": {
        "id": "uzBPVoKyK8Mm"
      },
      "source": [
        "3.4 – Lista de convidados: Se pudesse convidar alguém, vivo ou morto, para o jantar, quem você convidaria? Crie uma lista que inclua pelo menos três pessoas que você gostaria de convidar para jantar. Em seguida, utilize sua lista para exibir uma mensagem para cada pessoa, convidando-a para jantar."
      ]
    },
    {
      "cell_type": "code",
      "execution_count": null,
      "metadata": {
        "id": "335wS18BK8Mm",
        "outputId": "a5e09f5c-9960-4653-b4e0-d8480b03ba3c"
      },
      "outputs": [
        {
          "name": "stdout",
          "output_type": "stream",
          "text": [
            "Olá, Marlon, você está convidado(a) para um jantar comigo.\n",
            "Olá, Alícia, você está convidado(a) para um jantar comigo.\n",
            "Olá, Véia, você está convidado(a) para um jantar comigo.\n",
            "Olá, Véio, você está convidado(a) para um jantar comigo.\n",
            "Olá, Nathália, você está convidado(a) para um jantar comigo.\n",
            "Olá, Gabriel, você está convidado(a) para um jantar comigo.\n",
            "Nathália não poderá comparecer ao jantar.\n"
          ]
        }
      ],
      "source": [
        "#3.4\n",
        "convidados = ['marlon','alícia','véia','véio','nathália','gabriel']\n",
        "for conv in convidados:\n",
        "    print(f'Olá, {conv.title().strip()}, você está convidado(a) para um jantar comigo.')\n",
        "\n",
        "#3.5\n",
        "print(f'{convidados[4].title().strip()} não poderá comparecer ao jantar.')"
      ]
    },
    {
      "cell_type": "markdown",
      "metadata": {
        "id": "yVu4BhCaK8Mo"
      },
      "source": [
        "3.5 – Alterando a lista de convidados: Você acabou de saber que um de seus convidados não poderá comparecer ao jantar, portanto será necessário enviar um novo conjunto de convites. Você deverá pensar em outra pessoa para convidar.\n",
        "\n",
        "- Comece com seu programa do Exercício 3.4. Acrescente uma instrução print no final de seu programa, especificando o nome do convidado que não poderá comparecer.\n",
        "- Modifique sua lista, substituindo o nome do convidado que não poderá comparecer pelo nome da nova pessoa que você está convidando.\n",
        "- Exiba um segundo conjunto de mensagens com o convite, uma para cada pessoa que continua presente em sua lista."
      ]
    },
    {
      "cell_type": "code",
      "execution_count": null,
      "metadata": {
        "id": "m75qoBCPK8Mo",
        "outputId": "b2607adf-521a-4284-8a68-caa7c25237d6"
      },
      "outputs": [
        {
          "name": "stdout",
          "output_type": "stream",
          "text": [
            "Olá, Marlon, você está convidado(a) para um jantar comigo.\n",
            "Olá, Alícia, você está convidado(a) para um jantar comigo.\n",
            "Olá, Véia, você está convidado(a) para um jantar comigo.\n",
            "Olá, Véio, você está convidado(a) para um jantar comigo.\n",
            "Olá, Gabriel, você está convidado(a) para um jantar comigo.\n",
            "Olá, Gianlucca, você está convidado(a) para um jantar comigo.\n",
            "['marlon', 'alícia', 'véia', 'véio', 'gabriel', 'gianlucca']\n",
            "Olá, Marlon. Nós encontramos uma mesa maior e por isso teremos mais convidados.\n",
            "Olá, Alícia. Nós encontramos uma mesa maior e por isso teremos mais convidados.\n",
            "Olá, Véia. Nós encontramos uma mesa maior e por isso teremos mais convidados.\n",
            "Olá, Véio. Nós encontramos uma mesa maior e por isso teremos mais convidados.\n",
            "Olá, Gabriel. Nós encontramos uma mesa maior e por isso teremos mais convidados.\n",
            "Olá, Gianlucca. Nós encontramos uma mesa maior e por isso teremos mais convidados.\n"
          ]
        }
      ],
      "source": [
        "#3.5\n",
        "convidados = ['marlon','alícia','véia','véio','nathália','gabriel']\n",
        "convidados.remove('nathália')\n",
        "convidados.append('gianlucca')\n",
        "for conv in convidados:\n",
        "    print(f'Olá, {conv.title().strip()}, você está convidado(a) para um jantar comigo.')\n",
        "\n",
        "#3.6\n",
        "for conv in convidados:\n",
        "    print(f'Olá, {conv.title().strip()}. Nós encontramos uma mesa maior e por isso teremos mais convidados.')"
      ]
    },
    {
      "cell_type": "markdown",
      "metadata": {
        "id": "qMGETFroK8Mo"
      },
      "source": [
        "3.6 – Mais convidados: Você acabou de encontrar uma mesa de jantar maior, portanto agora tem mais espaço disponível. Pense em mais três convidados para o jantar.\n",
        "\n",
        "- Comece com seu programa do Exercício 3.4 ou do Exercício 3.5. Acrescente uma instrução print no final de seu programa informando às pessoas que você encontrou uma mesa de jantar maior.\n",
        "- Utilize insert() para adicionar um novo convidado no início de sua lista.\n",
        "- Utilize insert() para adicionar um novo convidado no meio de sua lista.\n",
        "- Utilize append() para adicionar um novo convidado no final de sua lista.\n",
        "- Exiba um novo conjunto de mensagens de convite, uma para cada pessoa que está em sua lista."
      ]
    },
    {
      "cell_type": "code",
      "execution_count": null,
      "metadata": {
        "id": "FLvq0YopK8Mp",
        "outputId": "718bcd2b-81b4-4c69-81e9-b5dc96f06861"
      },
      "outputs": [
        {
          "name": "stdout",
          "output_type": "stream",
          "text": [
            "Olá Mário. Você está convidado para um jantar comigo.\n",
            "Olá Marlon. Você está convidado para um jantar comigo.\n",
            "Olá Alícia. Você está convidado para um jantar comigo.\n",
            "Olá Maria. Você está convidado para um jantar comigo.\n",
            "Olá Véia. Você está convidado para um jantar comigo.\n",
            "Olá Véio. Você está convidado para um jantar comigo.\n",
            "Olá Gabriel. Você está convidado para um jantar comigo.\n",
            "Olá Gianlucca. Você está convidado para um jantar comigo.\n",
            "Olá Kassião. Você está convidado para um jantar comigo.\n",
            "Tivemos um problema Kassião. Só poderei convidar duas pessoas para o jantar \n"
          ]
        }
      ],
      "source": [
        "#3.6\n",
        "convidados = ['marlon', 'alícia', 'véia', 'véio', 'gabriel', 'gianlucca']\n",
        "\n",
        "convidados.insert(0,'mário')\n",
        "convidados.insert(3,'maria')\n",
        "convidados.append('kassião')\n",
        "\n",
        "for conv in convidados:\n",
        "    print(f'Olá {conv.title().strip()}. Você está convidado para um jantar comigo.')\n",
        "\n",
        "#3.7\n",
        "for conv in convidados:\n",
        "    print(f'Tivemos um problema {conv.title().strip()}. Só poderei convidar duas pessoas para o jantar ')"
      ]
    },
    {
      "cell_type": "markdown",
      "metadata": {
        "id": "oZsdgMm8K8Mp"
      },
      "source": [
        "3.7 – Reduzindo a lista de convidados: Você acabou de descobrir que sua nova mesa de jantar não chegará a tempo para o jantar e tem espaço para somente dois convidados.\n",
        "\n",
        "- Comece com seu programa do Exercício 3.6. Acrescente uma nova linha que mostre uma mensagem informando que você pode convidar apenas duas pessoas para o jantar.\n",
        "- Utilize pop() para remover os convidados de sua lista, um de cada vez, até que apenas dois nomes permaneçam em sua lista. Sempre que remover um nome de sua lista, mostre uma mensagem a essa pessoa, permitindo que ela saiba que você sente muito por não poder convidá-la para o jantar.\n",
        "- Apresente uma mensagem para cada uma das duas pessoas que continuam na lista, permitindo que elas saibam que ainda estão convidadas.\n",
        "- Utilize del para remover os dois últimos nomes de sua lista, de modo que você tenha uma lista vazia. Mostre sua lista para garantir que você realmente tem uma lista vazia no final de seu programa."
      ]
    },
    {
      "cell_type": "code",
      "execution_count": null,
      "metadata": {
        "id": "Eifc3qZzK8Mp",
        "outputId": "7e1929f6-d399-4efc-8d60-5ca036cfe16d"
      },
      "outputs": [
        {
          "name": "stdout",
          "output_type": "stream",
          "text": [
            "Desculpe, Gianlucca terei que te desconvidar.\n",
            "Desculpe, Gabriel terei que te desconvidar.\n",
            "Desculpe, Véio terei que te desconvidar.\n",
            "Desculpe, Véia terei que te desconvidar.\n",
            "Parabéns Marlon, você ainda está convidado(a).\n",
            "Parabéns Alícia, você ainda está convidado(a).\n",
            "['alícia']\n",
            "[]\n"
          ]
        }
      ],
      "source": [
        "convidados = ['marlon', 'alícia', 'véia', 'véio', 'gabriel', 'gianlucca']\n",
        "\n",
        "for conv in convidados[2:]:\n",
        "    print(f'Desculpe, {convidados.pop().title().strip()} terei que te desconvidar.')\n",
        "for conv in convidados:\n",
        "    print(f'Parabéns {conv.title().strip()}, você ainda está convidado(a).')\n",
        "\n",
        "del convidados[0]\n",
        "del convidados[0]\n",
        "\n",
        "print(convidados)"
      ]
    },
    {
      "cell_type": "markdown",
      "metadata": {
        "id": "I5HWaqj2K8Mp"
      },
      "source": [
        "## Ordenação"
      ]
    },
    {
      "cell_type": "markdown",
      "metadata": {
        "id": "b_HV4aKkK8Mq"
      },
      "source": [
        "Ordenando uma lista de forma permanente com o método sort()"
      ]
    },
    {
      "cell_type": "code",
      "execution_count": null,
      "metadata": {
        "id": "YnsX4-h9K8Mq",
        "outputId": "92173433-a385-44fc-8922-d4ecb3353aad"
      },
      "outputs": [
        {
          "name": "stdout",
          "output_type": "stream",
          "text": [
            "['bmw', 'audi', 'wolks', 'ford', 'gm']\n",
            "['audi', 'bmw', 'ford', 'gm', 'wolks']\n",
            "['wolks', 'gm', 'ford', 'bmw', 'audi']\n"
          ]
        }
      ],
      "source": [
        "carros = ['bmw','audi','wolks','ford','gm'] #lista original, desordenada\n",
        "print(carros)\n",
        "\n",
        "carros.sort() #ordenação permanente (ordem alfabética)\n",
        "print(carros)\n",
        "\n",
        "carros.sort(reverse=True) #ordenação permanente (ordem anti alfabética)\n",
        "print(carros)"
      ]
    },
    {
      "cell_type": "markdown",
      "metadata": {
        "id": "gLNBU89NK8Mr"
      },
      "source": [
        "Ordenando uma lista temporariamente com a função sorted()"
      ]
    },
    {
      "cell_type": "code",
      "execution_count": null,
      "metadata": {
        "id": "BlWtzeE7K8Mr",
        "outputId": "39e2d7df-f6f1-4404-fe27-0355e5bef13b"
      },
      "outputs": [
        {
          "name": "stdout",
          "output_type": "stream",
          "text": [
            "['bmw', 'audi', 'wolks', 'ford', 'gm']\n",
            "['audi', 'bmw', 'ford', 'gm', 'wolks']\n",
            "['wolks', 'gm', 'ford', 'bmw', 'audi']\n",
            "['bmw', 'audi', 'wolks', 'ford', 'gm']\n"
          ]
        }
      ],
      "source": [
        "carros = ['bmw','audi','wolks','ford','gm'] #lista original, desordenada\n",
        "print(carros)\n",
        "\n",
        "carros = ['bmw','audi','wolks','ford','gm'] #lista original, desordenada\n",
        "\n",
        "print(sorted(carros)) #carros ordenada temporariamente\n",
        "print(sorted(carros, reverse=True)) #carros ordenada temporariamente (anti alfabética)\n",
        "\n",
        "print(carros) #lista original permanece inalterada"
      ]
    },
    {
      "cell_type": "markdown",
      "metadata": {
        "id": "RQKdIg0YK8Mr"
      },
      "source": [
        "Exibindo uma lista em ordem inversa"
      ]
    },
    {
      "cell_type": "code",
      "execution_count": null,
      "metadata": {
        "id": "Hh2lfNK5K8Ms",
        "outputId": "20616642-4db8-4ead-ec19-01e8df575a52"
      },
      "outputs": [
        {
          "name": "stdout",
          "output_type": "stream",
          "text": [
            "['bmw', 'audi', 'wolks', 'ford', 'gm']\n",
            "['gm', 'ford', 'wolks', 'audi', 'bmw']\n"
          ]
        }
      ],
      "source": [
        "carros = ['bmw','audi','wolks','ford','gm'] #lista original, desordenada\n",
        "print(carros)\n",
        "\n",
        "carros.reverse() #inverte permanentemente a lista\n",
        "print(carros)"
      ]
    },
    {
      "cell_type": "markdown",
      "metadata": {
        "id": "k27jego6K8Mt"
      },
      "source": [
        "Descobrindo o tamanho de uma lista"
      ]
    },
    {
      "cell_type": "code",
      "execution_count": null,
      "metadata": {
        "id": "IT4EfJHJK8Mt",
        "outputId": "4eb3673e-8628-46e5-8504-94a391b8bf67"
      },
      "outputs": [
        {
          "name": "stdout",
          "output_type": "stream",
          "text": [
            "['bmw', 'audi', 'wolks', 'ford', 'gm']\n",
            "5\n"
          ]
        }
      ],
      "source": [
        "carros = ['bmw','audi','wolks','ford','gm'] #lista original, desordenada\n",
        "print(carros)\n",
        "print(len(carros))#tamanho da lista"
      ]
    },
    {
      "cell_type": "markdown",
      "metadata": {
        "id": "kL4s9wApK8Mt"
      },
      "source": [
        "## Exercícios"
      ]
    },
    {
      "cell_type": "markdown",
      "metadata": {
        "id": "bqzLer_ZK8Mu"
      },
      "source": [
        "3.8 – Conhecendo o mundo: Pense em pelo menos cinco lugares do mundo que você gostaria de visitar.\n",
        "\n",
        "- Armazene as localidades em uma lista. Certifique-se de que a lista não esteja em ordem alfabética.\n",
        "- Exiba sua lista na ordem original. Não se preocupe em exibir a lista de forma elegante; basta exibi-la como uma lista Python pura.\n",
        "- Utilize sorted() para exibir sua lista em ordem alfabética, sem modificar a lista propriamente dita.\n",
        "- Mostre que sua lista manteve sua ordem original exibindo-a.\n",
        "- Utilize sorted() para exibir sua lista em ordem alfabética inversa sem alterar a ordem da lista original.\n",
        "- Mostre que sua lista manteve sua ordem original exibindo-a novamente.\n",
        "- Utilize reverse() para mudar a ordem de sua lista. Exiba a lista para mostrar que sua ordem mudou.\n",
        "- Utilize reverse() para mudar a ordem de sua lista novamente. Exiba a lista para mostrar que ela voltou à sua ordem original.\n",
        "- Utilize sort() para mudar sua lista de modo que ela seja armazenada em ordem alfabética. Exiba a lista para mostrar que sua ordem mudou.\n",
        "- Utilize sort() para mudar sua lista de modo que ela seja armazenada em ordem alfabética inversa.\n",
        "\n",
        "Exiba a lista para mostrar que sua ordem mudou."
      ]
    },
    {
      "cell_type": "code",
      "execution_count": null,
      "metadata": {
        "id": "S1hQDygIK8Mu",
        "outputId": "205b8da8-47ce-487a-9bf6-55de68025bf6"
      },
      "outputs": [
        {
          "name": "stdout",
          "output_type": "stream",
          "text": [
            "['china', 'coreia', 'japão', 'marrocos', 'brasil', 'europa']\n",
            "['brasil', 'china', 'coreia', 'europa', 'japão', 'marrocos']\n",
            "['china', 'coreia', 'japão', 'marrocos', 'brasil', 'europa']\n",
            "['europa', 'brasil', 'marrocos', 'japão', 'coreia', 'china']\n",
            "['china', 'coreia', 'japão', 'marrocos', 'brasil', 'europa']\n",
            "['brasil', 'china', 'coreia', 'europa', 'japão', 'marrocos']\n",
            "['marrocos', 'japão', 'europa', 'coreia', 'china', 'brasil']\n"
          ]
        }
      ],
      "source": [
        "locais = ['china','coreia','japão','marrocos','brasil','europa'] #cria lista\n",
        "print(locais) #exibe lista original\n",
        "print(sorted(locais)) #exibe locais em ordem aflabética\n",
        "print(locais) #a lista original não foi alterada\n",
        "\n",
        "locais.reverse() #inverte a lista original\n",
        "print(locais)\n",
        "\n",
        "locais.reverse() #inverte novamente para voltar ao original\n",
        "print(locais)\n",
        "\n",
        "locais.sort() #ordena permanentemente\n",
        "print(locais)\n",
        "\n",
        "locais.sort(reverse=True) #ordem anti alfabetica permanente\n",
        "print(locais)"
      ]
    },
    {
      "cell_type": "markdown",
      "metadata": {
        "id": "lAUH_W-tK8Mv"
      },
      "source": [
        "3.9 – Convidados para o jantar: Trabalhando com um dos programas dos Exercícios de 3.4 a 3.7 (páginas 80 e 81), use len() para exibir uma mensagem informando o número de pessoas que você está convidando para o jantar."
      ]
    },
    {
      "cell_type": "code",
      "execution_count": null,
      "metadata": {
        "id": "sDvA90V8K8Mv",
        "outputId": "d12a6e0c-d9e3-47f5-c935-00c3a61dc9eb"
      },
      "outputs": [
        {
          "name": "stdout",
          "output_type": "stream",
          "text": [
            "6\n",
            "5\n",
            "4\n",
            "5\n"
          ]
        }
      ],
      "source": [
        "convidados = ['marlon','alícia','véia','véio','nathália','gabriel']\n",
        "print(len(convidados))\n",
        "\n",
        "del convidados[0]\n",
        "print(len(convidados))\n",
        "\n",
        "convidados.remove('alícia')\n",
        "print(len(convidados))\n",
        "\n",
        "convidados.append('gianlucca')\n",
        "print(len(convidados))"
      ]
    },
    {
      "cell_type": "markdown",
      "metadata": {
        "id": "afj0YXKVK8Mw"
      },
      "source": [
        "3.10 – Todas as funções: Pensa em algo que você poderia armazenar em uma lista. Por exemplo, você poderia criar uma lista de montanhas, rios, países, cidades, idiomas ou qualquer outro item que quiser. Escreva um programa que crie uma lista contendo esses itens e então utilize cada função apresentada neste capítulo pelo menos uma vez."
      ]
    },
    {
      "cell_type": "code",
      "execution_count": null,
      "metadata": {
        "id": "HL_Z4tQFK8Mx",
        "outputId": "508ff4aa-1e29-4371-8af9-75fadbd35f15"
      },
      "outputs": [
        {
          "name": "stdout",
          "output_type": "stream",
          "text": [
            "['dindin', 'carro', 'fêmea']\n",
            "['dindin', 'carro', 'fêmea', 'casa', 'moto', 'emprego', 'filhos']\n",
            "['carro', 'fêmea', 'casa', 'moto', 'emprego']\n",
            "['carro', 'fêmea', 'filhos', 'dindin', 'casa', 'moto', 'emprego']\n",
            "['fêmea', 'filhos', 'dindin', 'casa', 'emprego']\n"
          ]
        }
      ],
      "source": [
        "lista = ['dindin','carro','fêmea'] #criando lista\n",
        "print(lista)\n",
        "\n",
        "lista.append('casa') #adiciona ao fim da lista\n",
        "lista.extend(['moto','emprego','filhos']) #adiciona lista o final\n",
        "print(lista)\n",
        "\n",
        "item1 = lista.pop() #remove último ítem e salva na variável \"item1\"\n",
        "item2 = lista.pop(0) #remove primeiro ítem e salva na variável \"item2\"\n",
        "print(lista)\n",
        "\n",
        "lista.insert(2, item1) #insere item1 na posição 2\n",
        "lista.insert(3, item2) #insere item2 na posição 3\n",
        "print(lista)\n",
        "\n",
        "lista.remove('moto')\n",
        "del lista[0]\n",
        "print(lista)"
      ]
    },
    {
      "cell_type": "markdown",
      "metadata": {
        "id": "FK8kGB_RK8Mx"
      },
      "source": []
    }
  ],
  "metadata": {
    "kernelspec": {
      "display_name": "Python 3",
      "language": "python",
      "name": "python3"
    },
    "language_info": {
      "codemirror_mode": {
        "name": "ipython",
        "version": 3
      },
      "file_extension": ".py",
      "mimetype": "text/x-python",
      "name": "python",
      "nbconvert_exporter": "python",
      "pygments_lexer": "ipython3",
      "version": "3.10.12"
    },
    "colab": {
      "provenance": [],
      "include_colab_link": true
    }
  },
  "nbformat": 4,
  "nbformat_minor": 0
}