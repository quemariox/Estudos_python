{
  "cells": [
    {
      "cell_type": "markdown",
      "metadata": {
        "id": "view-in-github",
        "colab_type": "text"
      },
      "source": [
        "<a href=\"https://colab.research.google.com/github/quemariox/Estudos_python/blob/main/python_crash_course.ipynb\" target=\"_parent\"><img src=\"https://colab.research.google.com/assets/colab-badge.svg\" alt=\"Open In Colab\"/></a>"
      ]
    },
    {
      "cell_type": "markdown",
      "metadata": {
        "id": "pJinprUe6ojr"
      },
      "source": [
        "# Capítulo 2. Variáveis e tipos de dados simples"
      ]
    },
    {
      "cell_type": "markdown",
      "metadata": {
        "id": "7txZ9jOP6ojv"
      },
      "source": [
        "## 2.1. Strings"
      ]
    },
    {
      "cell_type": "markdown",
      "metadata": {
        "id": "7fm5vrXa6ojw"
      },
      "source": [
        "Uma string é simplesmente uma série de caracteres. Tudo que estiver entre aspas é considerada uma string em Python, e você pode usar aspas simples ou duplas em torno de suas strings, assim:\n",
        "- \"This is a string.\"\n",
        "- 'This is also a string.'\n",
        "\n",
        "Essa flexibilidade permite usar aspas e apóstrofos em suas strings:\n",
        "- 'I told my friend, \"Python is my favorite language!\"'\n",
        "- \"The language 'Python' is named after Monty Python, not the snake.\"\n",
        "- \"One of Python's strengths is its diverse and supportive community.\""
      ]
    },
    {
      "cell_type": "markdown",
      "metadata": {
        "id": "5QthAliQ6ojx"
      },
      "source": [
        "### 2.1.1. Atribuição"
      ]
    },
    {
      "cell_type": "markdown",
      "metadata": {
        "id": "HG9f1UC66ojy"
      },
      "source": [
        "2.1 – Mensagem simples: Armazene uma mensagem em uma variável e, em seguida, exiba essa mensagem.\n",
        "\n",
        "2.2 – Mensagens simples: Armazene uma mensagem em uma variável e, em seguida, exiba essa mensagem. Então altere o valor de sua variável para uma nova mensagem e mostre essa nova mensagem."
      ]
    },
    {
      "cell_type": "code",
      "execution_count": null,
      "metadata": {
        "id": "79SDF_Dz6ojz",
        "outputId": "b3517bed-ec0e-4df6-cef0-036429c3e1e4"
      },
      "outputs": [
        {
          "name": "stdout",
          "output_type": "stream",
          "text": [
            "uma mensagem\n",
            "uma OUTRA mensagem\n"
          ]
        }
      ],
      "source": [
        "msg = 'uma mensagem'\n",
        "print(msg)\n",
        "\n",
        "msg = 'uma OUTRA mensagem'\n",
        "print(msg)"
      ]
    },
    {
      "cell_type": "markdown",
      "metadata": {
        "id": "l5-SbOg96oj0"
      },
      "source": [
        "### 2.1.2. Mudando para letras maiúsculas e minúsculas em uma string usando métodos"
      ]
    },
    {
      "cell_type": "code",
      "execution_count": null,
      "metadata": {
        "id": "I8rFve2q6oj0",
        "outputId": "3c07e933-3753-444d-bd1c-c21f62ef66be"
      },
      "outputs": [
        {
          "name": "stdout",
          "output_type": "stream",
          "text": [
            "Mário Lucas Miguel\n",
            "mário lucas miguel\n",
            "MÁRIO LUCAS MIGUEL\n"
          ]
        }
      ],
      "source": [
        "nome = 'mário lucas miguel'\n",
        "\n",
        "#método para formatar como título\n",
        "print(nome.title())\n",
        "\n",
        "#método para caixa baixa\n",
        "print(nome.lower())\n",
        "\n",
        "#método para caixa alta\n",
        "print(nome.upper())"
      ]
    },
    {
      "cell_type": "markdown",
      "metadata": {
        "id": "GAQr4E-p6oj1"
      },
      "source": [
        "### 2.1.3. Combinando ou concatenando strings"
      ]
    },
    {
      "cell_type": "code",
      "execution_count": null,
      "metadata": {
        "id": "ZPU1HAkd6oj3",
        "outputId": "bc56e6fc-08db-4806-e9af-ce7184b22852"
      },
      "outputs": [
        {
          "name": "stdout",
          "output_type": "stream",
          "text": [
            "O nome completo é: Mário Lucas Miguel\n"
          ]
        }
      ],
      "source": [
        "nome_1 = 'mário'\n",
        "nome_2 = 'lucas'\n",
        "nome_3 = 'miguel'\n",
        "\n",
        "nome_completo =  nome_1 + ' ' + nome_2 + ' ' +nome_3\n",
        "nome_completo = nome_completo.title()\n",
        "print(\"O nome completo é: \" + nome_completo)"
      ]
    },
    {
      "cell_type": "markdown",
      "metadata": {
        "id": "hvNnFRY46oj3"
      },
      "source": [
        "### 2.1.4. Acrescentando espaços em branco em strings com tabulações ou quebras de linha"
      ]
    },
    {
      "cell_type": "code",
      "execution_count": null,
      "metadata": {
        "id": "WQwitXpd6oj4",
        "outputId": "edee309d-9fa2-4e11-cf7d-2e624608b2b8"
      },
      "outputs": [
        {
          "name": "stdout",
          "output_type": "stream",
          "text": [
            "Lingugens de programação: \n",
            "\t Python; \n",
            "\t C#; \n",
            "\t JavaScript\n"
          ]
        }
      ],
      "source": [
        "# \"\\t\": tabulações\n",
        "# \"\\n\": quebra de linha\n",
        "\n",
        "print(\"Lingugens de programação: \\n\\t Python; \\n\\t C#; \\n\\t JavaScript\")"
      ]
    },
    {
      "cell_type": "markdown",
      "metadata": {
        "id": "Vpm1KFpe6oj4"
      },
      "source": [
        "### 2.1.5. Removendo espaços em branco"
      ]
    },
    {
      "cell_type": "code",
      "execution_count": null,
      "metadata": {
        "id": "vrB07V_46oj4",
        "outputId": "4ee83721-1eb0-4ea5-85a7-8f0830f9e9b3"
      },
      "outputs": [
        {
          "name": "stdout",
          "output_type": "stream",
          "text": [
            "False\n",
            "msg\n",
            "msg\n",
            "msg\n",
            "True\n"
          ]
        }
      ],
      "source": [
        "#o python conta o espaço em branco como um caractere\n",
        "str1 = 'msg        ' #espaço no final\n",
        "str2 = '        msg' #espaço no início\n",
        "str3 = '    msg    ' #espaço antes e depois\n",
        "str4 = 'msg' #sem espaço\n",
        "\n",
        "print(str1 == str2 == str3 == str4) #False pois as strings são diferentes\n",
        "\n",
        "str1 = str1.rstrip() #remove espaços do final\n",
        "str2 = str2.lstrip() #remove espaços do início\n",
        "str3 = str3.strip() #remove espaços\n",
        "\n",
        "print(str1)\n",
        "print(str2)\n",
        "print(str3)\n",
        "print(str1 == str2 == str3 == str4) #True pois as strings agora são iguais\n"
      ]
    },
    {
      "cell_type": "markdown",
      "metadata": {
        "id": "zhytaql56oj4"
      },
      "source": [
        "### 2.1.6. Exercícios"
      ]
    },
    {
      "cell_type": "markdown",
      "metadata": {
        "id": "XNMkU_xG6oj5"
      },
      "source": [
        "2.3 – Mensagem pessoal: Armazene o nome de uma pessoa em uma variável e apresente uma mensagem a essa pessoa. Sua mensagem deve ser simples, como “Alô Eric, você gostaria de aprender um pouco de Python hoje?”.\n",
        "\n",
        "2.4 – Letras maiúsculas e minúsculas em nomes: Armazene o nome de uma pessoa em uma variável e então apresente o nome dessa pessoa em letras minúsculas, em letras maiúsculas e somente com a primeira letra maiúscula."
      ]
    },
    {
      "cell_type": "code",
      "execution_count": null,
      "metadata": {
        "id": "CXH_nAeN6oj5",
        "outputId": "f4a9a181-e7f4-44ca-e038-21c162b0dbaa"
      },
      "outputs": [
        {
          "name": "stdout",
          "output_type": "stream",
          "text": [
            " Olá, . \n",
            " Como vai você? \n",
            " Gostaria de aprender um pouco de Python hoje?\n"
          ]
        }
      ],
      "source": [
        "nome = input('Qual o seu nome?')\n",
        "nome = nome.title().strip()\n",
        "print(f\" Olá, {nome}. \\n Como vai você? \\n Gostaria de aprender um pouco de Python hoje?\")"
      ]
    },
    {
      "cell_type": "markdown",
      "metadata": {
        "id": "Vjm9ACiu6oj6"
      },
      "source": [
        "2.5 – Citação famosa: Encontre uma citação de uma pessoa famosa que você admire. Exiba a citação e o nome do autor. Sua saída deverá ter a aparência a seguir, incluindo as aspas: Albert Einstein certa vez disse: “Uma pessoa que\n",
        "nunca cometeu um erro jamais tentou nada novo.”\n",
        "\n",
        "2.6 – Citação famosa 2: Repita o Exercício 2.5, porém, desta vez, armazene o nome da pessoa famosa em uma variável chamada famous_person. Em seguida, componha sua mensagem e armazene-a em uma nova variável chamada message. Exiba sua mensagem.\n",
        "\n",
        "2.7 – Removendo caracteres em branco de nomes: Armazene o nome de uma pessoa e inclua alguns caracteres em branco no início e no final do nome. Lembre-se de usar cada combinação de caracteres, \"\\t\" e \"\\n\", pelo menos uma vez. Exiba o nome uma vez, de modo que os espaços em branco em torno do nome sejam mostrados. Em seguida, exiba o nome usando cada uma das três funções de remoção de espaços: lstrip(), rstrip() e strip()."
      ]
    },
    {
      "cell_type": "code",
      "execution_count": null,
      "metadata": {
        "id": "dokmsFqv6oj6",
        "outputId": "8e264b28-b14f-4bb8-dc07-561ed7f44e6d"
      },
      "outputs": [
        {
          "name": "stdout",
          "output_type": "stream",
          "text": [
            "\t\"\" \n",
            " \t \t \t \t \t \t \t- .\n"
          ]
        }
      ],
      "source": [
        "autor = input('Digite o nome do autor: ')\n",
        "citacao = input('Digite a citação: ')\n",
        "\n",
        "autor = autor.title().strip()\n",
        "\n",
        "print(f'\\t\"{citacao}\" \\n \\t \\t \\t \\t \\t \\t \\t- {autor}.')"
      ]
    },
    {
      "cell_type": "markdown",
      "metadata": {
        "id": "0D4E_jQt6oj6"
      },
      "source": [
        "## 2.2. Números"
      ]
    },
    {
      "cell_type": "markdown",
      "metadata": {
        "id": "XCjj3Cal6oj7"
      },
      "source": [
        "Os números são usados com muita frequência em programação para armazenar pontuações em jogos, representar dados em visualizações, guardar informações em aplicações web e assim por diante. Python trata números de várias maneiras diferentes, de acordo com o modo como são usados. Vamos analisar inicialmente como Python trata inteiros, pois eles são os dados mais simples para trabalhar."
      ]
    },
    {
      "cell_type": "markdown",
      "metadata": {
        "id": "NGA1v_G06oj7"
      },
      "source": [
        "### 2.2.1. Inteiros"
      ]
    },
    {
      "cell_type": "code",
      "execution_count": null,
      "metadata": {
        "id": "IH3vmKY26oj7",
        "outputId": "8726a3f6-0f9d-452d-8ccc-e59581cacc1e"
      },
      "outputs": [
        {
          "name": "stdout",
          "output_type": "stream",
          "text": [
            "5\n",
            "-1\n",
            "6\n",
            "0.6666666666666666\n",
            "2\n",
            "1\n",
            "9\n"
          ]
        }
      ],
      "source": [
        "print(2 + 3) #soma\n",
        "print(2 - 3) #subtração\n",
        "print(2 * 3)#multiplicação\n",
        "print(2 / 3) #divisão\n",
        "print(5 // 2) #parte inteira da divisão\n",
        "print(5 % 2) #resto da divisão\n",
        "print(3 ** 2) #potência"
      ]
    },
    {
      "cell_type": "markdown",
      "metadata": {
        "id": "MMvn7EyY6oj8"
      },
      "source": [
        "A ordem das operações importa"
      ]
    },
    {
      "cell_type": "code",
      "execution_count": null,
      "metadata": {
        "id": "t8HhprIc6oj8",
        "outputId": "a7f87604-092a-4900-9ecc-1e444bb1ed48"
      },
      "outputs": [
        {
          "name": "stdout",
          "output_type": "stream",
          "text": [
            "14\n",
            "20\n"
          ]
        }
      ],
      "source": [
        "print(2 + 3*4)\n",
        "print((2+3)*4)"
      ]
    },
    {
      "cell_type": "markdown",
      "metadata": {
        "id": "gfBTeoov6oj8"
      },
      "source": [
        "### 2.2.2. Ponto flutuante"
      ]
    },
    {
      "cell_type": "code",
      "execution_count": null,
      "metadata": {
        "id": "Iy3kJyvf6oj9",
        "outputId": "dbb7809b-32f8-48cb-86cf-5cdec1784b02"
      },
      "outputs": [
        {
          "name": "stdout",
          "output_type": "stream",
          "text": [
            "0.4\n",
            "0.30000000000000004\n"
          ]
        }
      ],
      "source": [
        "print(2*0.2) #uma casa decimal\n",
        "print(3*0.1) #16 casas decimais"
      ]
    },
    {
      "cell_type": "markdown",
      "metadata": {
        "id": "8L7rNzmm6oj9"
      },
      "source": [
        "### 2.2.3. Evitando erros de tipo com a função str()"
      ]
    },
    {
      "cell_type": "markdown",
      "metadata": {
        "id": "h4NFR83k6oj9"
      },
      "source": [
        "Só podemos concatenar str com outras str. Por isso, as vezes é necessário fazer uma operação de TypeCasting para que seja possível transformar outros tipos em str."
      ]
    },
    {
      "cell_type": "code",
      "execution_count": null,
      "metadata": {
        "id": "br13ozri6oj9",
        "outputId": "f3d2ca27-ecc0-4744-ebf7-2b8b5832e11f"
      },
      "outputs": [
        {
          "name": "stdout",
          "output_type": "stream",
          "text": [
            "Mário Lucas Miguel tem 27 anos.\n"
          ]
        }
      ],
      "source": [
        "nome = input('Qual o seu nome?')\n",
        "idade = int(input(\"Qual sua idade\"))\n",
        "nome = nome.title().strip()\n",
        "\n",
        "#é preciso transformar o int \"idade\" em str para poder concatenar com outras str\n",
        "msg = nome + ' tem ' + str(idade) + ' anos.'\n",
        "print(msg)"
      ]
    },
    {
      "cell_type": "markdown",
      "metadata": {
        "id": "56F4xZxy6oj-"
      },
      "source": [
        "### 2.2.4. Exercícios"
      ]
    },
    {
      "cell_type": "markdown",
      "metadata": {
        "id": "P-JljKr16oj-"
      },
      "source": [
        "2.8 – Número oito: Escreva operações de adição, subtração, multiplicação e divisão que resultem no número 8. Lembre-se de colocar suas operações em instruções print para ver os resultados. Você deve criar quatro linhas como esta: print(5 + 3) Sua saída deve simplesmente ser composta de quatro linhas, com o número 8 em cada uma das linhas.\n",
        "\n",
        "2.9 – Número favorito: Armazene seu número favorito em uma variável. Em seguida, usando essa variável, crie uma mensagem que revele o seu número favorito. Exiba essa mensagem.\n",
        "\n",
        "2.10 – Acrescentando comentários: Escolha dois dos programas que você escreveu e acrescente pelo menos um comentário em cada um. Se você não tiver nada específico para escrever porque o programa é muito simples no momento, basta adicionar seu nome e a data de hoje no início de cada arquivo de programa. Em seguida, escreva uma frase que descreva o que o programa faz.\n",
        "\n",
        "2.11 – Zen de Python: Digite import this em uma sessão de terminal de Python e dê uma olhada nos princípios adicionais."
      ]
    },
    {
      "cell_type": "code",
      "execution_count": null,
      "metadata": {
        "id": "ufeseLUb6oj-",
        "outputId": "dd1be358-a93d-4fb0-8a32-74b6f12d4fdd"
      },
      "outputs": [
        {
          "name": "stdout",
          "output_type": "stream",
          "text": [
            "8.0\n"
          ]
        }
      ],
      "source": [
        "#meu número favorito é 8\n",
        "print(2 + (2*3) - 4 + (4/2)**2)"
      ]
    },
    {
      "cell_type": "markdown",
      "metadata": {
        "id": "H7XX7AhG6oj_"
      },
      "source": [
        "### 2.2.5. Zen python"
      ]
    },
    {
      "cell_type": "code",
      "execution_count": null,
      "metadata": {
        "id": "BCb6Yja36oj_"
      },
      "outputs": [],
      "source": [
        "#manifesto \"The Zen of Python\" de Tim Peters\n",
        "import this"
      ]
    },
    {
      "cell_type": "markdown",
      "metadata": {
        "id": "RjWYWUBj61s5"
      },
      "source": [
        "# Capítulo 3. Introdução às listas"
      ]
    },
    {
      "cell_type": "markdown",
      "metadata": {
        "id": "JAmzrHXe61s8"
      },
      "source": [
        "## 3.1. O que é uma lista?"
      ]
    },
    {
      "cell_type": "markdown",
      "metadata": {
        "id": "zFoWVzOP61s8"
      },
      "source": [
        "Neste capítulo e no próximo, veremos o que são listas e como começar a trabalhar com os elementos de uma lista. As listas permitem armazenar conjuntos de informações em um só lugar independentemente de termos alguns itens ou milhões deles. As listas são um dos recursos mais eficazes de Python, prontamente acessíveis aos novos programadores, e elas agregam muitos conceitos importantes em programação.\n",
        "\n",
        "Uma lista é uma coleção de itens em uma ordem em particular. Podemos criar uma lista que inclua as letras do alfabeto, os dígitos de 0 a 9 ou os nomes de todas as pessoas de sua família. Você pode colocar qualquer informação que quiser em uma lista, e os itens de sua lista não precisam estar relacionados de nenhum modo em particular. Como uma lista geralmente contém mais de um elemento, é uma boa ideia deixar seu nome no plural, por exemplo, letters, digits ou names."
      ]
    },
    {
      "cell_type": "markdown",
      "metadata": {
        "id": "sQIotM0w61s9"
      },
      "source": [
        "### 3.1.1. Criando listas acessando e usando seus elementos"
      ]
    },
    {
      "cell_type": "code",
      "execution_count": null,
      "metadata": {
        "id": "gn0uFiQG61s9",
        "outputId": "c2a6e4f5-0f83-4ae6-d09d-11c47b1ed4c5"
      },
      "outputs": [
        {
          "name": "stdout",
          "output_type": "stream",
          "text": [
            "['speed', 'custom', 'naked', 'trail', 'scooter', 'street', 'touring', 'off-road']\n",
            "speed\n",
            "Custom\n",
            "off-road\n",
            "Minha primeira moto foi uma Naked.\n"
          ]
        }
      ],
      "source": [
        "bikes = ['speed','custom','naked','trail','scooter','street','touring','off-road'] #cria a lista\n",
        "print(bikes) #exibe toda a lista\n",
        "\n",
        "print(bikes[0]) #exibe o primeiro elemento\n",
        "print(bikes[1].title().strip()) #exibe o segundo elemento formatado\n",
        "print(bikes[-1]) #exibe o último elemento\n",
        "\n",
        "print(\"Minha primeira moto foi uma \" + bikes[2].title().strip() + \".\")"
      ]
    },
    {
      "cell_type": "markdown",
      "metadata": {
        "id": "C33qr1h361s_"
      },
      "source": [
        "### 3.1.2. Exercícios"
      ]
    },
    {
      "cell_type": "markdown",
      "metadata": {
        "id": "UBLFYhJK61s_"
      },
      "source": [
        "3.1 – Nomes: Armazene os nomes de alguns de seus amigos em uma lista chamada names. Exiba o nome de cada pessoa acessando cada elemento da lista, um de cada vez.\n",
        "\n",
        "3.2 – Saudações: Comece com a lista usada no Exercício 3.1, mas em vez de simplesmente exibir o nome de cada pessoa, apresente uma mensagem a elas. O texto de cada mensagem deve ser o mesmo, porém cada mensagem deve estar personalizada com o nome da pessoa.\n",
        "\n",
        "3.3 – Sua própria lista: Pense em seu meio de transporte preferido, como motocicleta ou carro, e crie uma lista que armazene vários exemplos. Utilize sua lista para exibir uma série de frases sobre esses itens, como “Gostaria de ter uma moto Honda”."
      ]
    },
    {
      "cell_type": "code",
      "execution_count": null,
      "metadata": {
        "id": "pAwPd32861s_",
        "outputId": "7c1f8b76-c626-4bdb-e204-4c4e3b78f14f"
      },
      "outputs": [
        {
          "name": "stdout",
          "output_type": "stream",
          "text": [
            "Olá, amigx Nathália! Você é um amigo! Vamos andar de Carro?\n",
            "Olá, amigx Gabriel! Você é um amigo! Vamos andar de Moto?\n",
            "Olá, amigx Theresa! Você é um amigo! Vamos andar de Helicóptero?\n"
          ]
        }
      ],
      "source": [
        "amigos = ['nathália', 'gabriel', 'theresa']\n",
        "veiculos = ['carro', 'moto', 'helicóptero']\n",
        "\n",
        "# Usando zip para emparelhar os elementos das duas listas\n",
        "for amigo, veiculo in zip(amigos, veiculos):\n",
        "    print(f'Olá, amigx {amigo.title().strip()}! Você é um amigo! Vamos andar de {veiculo.title().strip()}?')"
      ]
    },
    {
      "cell_type": "markdown",
      "metadata": {
        "id": "6ADtvbca61tA"
      },
      "source": [
        "## 3.2. Alterando/Acrescentando/Inserindo e Removendo elementos de uma lista"
      ]
    },
    {
      "cell_type": "markdown",
      "metadata": {
        "id": "ha23kE3d61tC"
      },
      "source": [
        "`lista.append('valor')`: adiciona 'valor' ao final da lista.\n",
        "\n",
        "`lista.extend([outra_lista])`: adiciona [outra_lista] ao final da lista.\n",
        "\n",
        "`lista.insert(índice, 'valor')`: insere 'valor' no índice [índice] da lista."
      ]
    },
    {
      "cell_type": "code",
      "execution_count": null,
      "metadata": {
        "id": "dRTTzxKV61tC",
        "outputId": "ac2e5902-c9dd-460c-e15e-572dc0bd50bb"
      },
      "outputs": [
        {
          "name": "stdout",
          "output_type": "stream",
          "text": [
            "['honda', 'yamaha', 'zuzuki']\n",
            "['ducati', 'yamaha', 'zuzuki']\n",
            "['ducati', 'yamaha', 'zuzuki', 'honda']\n",
            "['ducati', 'yamaha', 'zuzuki', 'honda', 'bmw', 'dafra']\n",
            "['ducati', 'yamaha', 'zuzuki', 'aprilha', 'honda', 'bmw', 'dafra']\n"
          ]
        }
      ],
      "source": [
        "marcas_moto = ['honda','yamaha','zuzuki'] #cria a lista\n",
        "print(marcas_moto)\n",
        "\n",
        "marcas_moto[0] = 'ducati' #altera o primeiro elemento\n",
        "print(marcas_moto)\n",
        "\n",
        "marcas_moto.append('honda') #adiciona 'honda' ao fim da lista\n",
        "print(marcas_moto)\n",
        "\n",
        "marcas_moto.extend(['bmw','dafra']) #adiciona uma lista ao fim da lista\n",
        "print(marcas_moto)\n",
        "\n",
        "marcas_moto.insert(3,'aprilha')\n",
        "print(marcas_moto)"
      ]
    },
    {
      "cell_type": "markdown",
      "metadata": {
        "id": "zbiQMe_y61tC"
      },
      "source": [
        "`del lista[posição]`: remove ítem da lista de acordo com a sua posição\n",
        "`lista.pop()`: remove último ítem da lista, podendo salvá-lo em uma variável\n",
        "`lista.pop(posição)`: remove ítem da lista em uma posição específica, podendo salvá-lo em uma variável\n",
        "`lista.remove('valor')`: remove ítem da lista de acordo com seu valor"
      ]
    },
    {
      "cell_type": "code",
      "execution_count": null,
      "metadata": {
        "id": "EsTkqbs261tC",
        "outputId": "b7fe9230-02a4-4066-e339-f9a15aaa54c0"
      },
      "outputs": [
        {
          "name": "stdout",
          "output_type": "stream",
          "text": [
            "['ducati', 'yamaha', 'zuzuki', 'aprilha', 'honda', 'bmw', 'dafra']\n",
            "['yamaha', 'zuzuki', 'aprilha', 'honda', 'bmw', 'dafra']\n",
            "['yamaha', 'zuzuki', 'aprilha', 'honda', 'bmw']\n",
            "dafra\n",
            "['yamaha', 'zuzuki', 'aprilha', 'bmw']\n",
            "honda\n",
            "['yamaha', 'zuzuki', 'aprilha']\n"
          ]
        }
      ],
      "source": [
        "marcas_moto = ['ducati', 'yamaha', 'zuzuki', 'aprilha', 'honda', 'bmw', 'dafra']\n",
        "print(marcas_moto)\n",
        "\n",
        "del marcas_moto[0] #deleta elemento da lista baseado na posição\n",
        "print(marcas_moto)\n",
        "\n",
        "ultima_moto_pop = marcas_moto.pop() #remove o último ítem e salva em uma variável\n",
        "print(marcas_moto)\n",
        "print(ultima_moto_pop)\n",
        "\n",
        "terceira_moto_pop = marcas_moto.pop(3) #remove o quarto ítem e salva em uma variável\n",
        "print(marcas_moto)\n",
        "print(terceira_moto_pop)\n",
        "\n",
        "marcas_moto.remove('bmw') #remove ítem da lista pelo seu valor\n",
        "print(marcas_moto)"
      ]
    },
    {
      "cell_type": "markdown",
      "metadata": {
        "id": "PouhaghM61tC"
      },
      "source": [
        "### 3.2.1. Exercícios"
      ]
    },
    {
      "cell_type": "markdown",
      "metadata": {
        "id": "2LMMKEWx61tD"
      },
      "source": [
        "3.4 – Lista de convidados: Se pudesse convidar alguém, vivo ou morto, para o jantar, quem você convidaria? Crie uma lista que inclua pelo menos três pessoas que você gostaria de convidar para jantar. Em seguida, utilize sua lista para exibir uma mensagem para cada pessoa, convidando-a para jantar."
      ]
    },
    {
      "cell_type": "code",
      "execution_count": null,
      "metadata": {
        "id": "tX65Xmcq61tD",
        "outputId": "16e5de77-55e1-4b0d-898c-1e4c47741da3"
      },
      "outputs": [
        {
          "name": "stdout",
          "output_type": "stream",
          "text": [
            "Olá, Marlon, você está convidado(a) para um jantar comigo.\n",
            "Olá, Alícia, você está convidado(a) para um jantar comigo.\n",
            "Olá, Véia, você está convidado(a) para um jantar comigo.\n",
            "Olá, Véio, você está convidado(a) para um jantar comigo.\n",
            "Olá, Nathália, você está convidado(a) para um jantar comigo.\n",
            "Olá, Gabriel, você está convidado(a) para um jantar comigo.\n",
            "Nathália não poderá comparecer ao jantar.\n"
          ]
        }
      ],
      "source": [
        "#3.4\n",
        "convidados = ['marlon','alícia','véia','véio','nathália','gabriel']\n",
        "for conv in convidados:\n",
        "    print(f'Olá, {conv.title().strip()}, você está convidado(a) para um jantar comigo.')\n",
        "\n",
        "#3.5\n",
        "print(f'{convidados[4].title().strip()} não poderá comparecer ao jantar.')"
      ]
    },
    {
      "cell_type": "markdown",
      "metadata": {
        "id": "zRur-M1j61tD"
      },
      "source": [
        "3.5 – Alterando a lista de convidados: Você acabou de saber que um de seus convidados não poderá comparecer ao jantar, portanto será necessário enviar um novo conjunto de convites. Você deverá pensar em outra pessoa para convidar.\n",
        "\n",
        "- Comece com seu programa do Exercício 3.4. Acrescente uma instrução print no final de seu programa, especificando o nome do convidado que não poderá comparecer.\n",
        "- Modifique sua lista, substituindo o nome do convidado que não poderá comparecer pelo nome da nova pessoa que você está convidando.\n",
        "- Exiba um segundo conjunto de mensagens com o convite, uma para cada pessoa que continua presente em sua lista."
      ]
    },
    {
      "cell_type": "code",
      "execution_count": null,
      "metadata": {
        "id": "feBMaXXe61tE",
        "outputId": "6833e724-a279-4c0d-caed-185ad7ef6875"
      },
      "outputs": [
        {
          "name": "stdout",
          "output_type": "stream",
          "text": [
            "Olá, Marlon, você está convidado(a) para um jantar comigo.\n",
            "Olá, Alícia, você está convidado(a) para um jantar comigo.\n",
            "Olá, Véia, você está convidado(a) para um jantar comigo.\n",
            "Olá, Véio, você está convidado(a) para um jantar comigo.\n",
            "Olá, Gabriel, você está convidado(a) para um jantar comigo.\n",
            "Olá, Gianlucca, você está convidado(a) para um jantar comigo.\n",
            "['marlon', 'alícia', 'véia', 'véio', 'gabriel', 'gianlucca']\n",
            "Olá, Marlon. Nós encontramos uma mesa maior e por isso teremos mais convidados.\n",
            "Olá, Alícia. Nós encontramos uma mesa maior e por isso teremos mais convidados.\n",
            "Olá, Véia. Nós encontramos uma mesa maior e por isso teremos mais convidados.\n",
            "Olá, Véio. Nós encontramos uma mesa maior e por isso teremos mais convidados.\n",
            "Olá, Gabriel. Nós encontramos uma mesa maior e por isso teremos mais convidados.\n",
            "Olá, Gianlucca. Nós encontramos uma mesa maior e por isso teremos mais convidados.\n"
          ]
        }
      ],
      "source": [
        "#3.5\n",
        "convidados = ['marlon','alícia','véia','véio','nathália','gabriel']\n",
        "convidados.remove('nathália')\n",
        "convidados.append('gianlucca')\n",
        "for conv in convidados:\n",
        "    print(f'Olá, {conv.title().strip()}, você está convidado(a) para um jantar comigo.')\n",
        "\n",
        "#3.6\n",
        "for conv in convidados:\n",
        "    print(f'Olá, {conv.title().strip()}. Nós encontramos uma mesa maior e por isso teremos mais convidados.')"
      ]
    },
    {
      "cell_type": "markdown",
      "metadata": {
        "id": "8J3UX_NT61tE"
      },
      "source": [
        "3.6 – Mais convidados: Você acabou de encontrar uma mesa de jantar maior, portanto agora tem mais espaço disponível. Pense em mais três convidados para o jantar.\n",
        "\n",
        "- Comece com seu programa do Exercício 3.4 ou do Exercício 3.5. Acrescente uma instrução print no final de seu programa informando às pessoas que você encontrou uma mesa de jantar maior.\n",
        "- Utilize insert() para adicionar um novo convidado no início de sua lista.\n",
        "- Utilize insert() para adicionar um novo convidado no meio de sua lista.\n",
        "- Utilize append() para adicionar um novo convidado no final de sua lista.\n",
        "- Exiba um novo conjunto de mensagens de convite, uma para cada pessoa que está em sua lista."
      ]
    },
    {
      "cell_type": "code",
      "execution_count": null,
      "metadata": {
        "id": "Q3HbStJQ61tE",
        "outputId": "f348f863-0b88-43f7-d465-ff7c919959c5"
      },
      "outputs": [
        {
          "name": "stdout",
          "output_type": "stream",
          "text": [
            "Olá Mário. Você está convidado para um jantar comigo.\n",
            "Olá Marlon. Você está convidado para um jantar comigo.\n",
            "Olá Alícia. Você está convidado para um jantar comigo.\n",
            "Olá Maria. Você está convidado para um jantar comigo.\n",
            "Olá Véia. Você está convidado para um jantar comigo.\n",
            "Olá Véio. Você está convidado para um jantar comigo.\n",
            "Olá Gabriel. Você está convidado para um jantar comigo.\n",
            "Olá Gianlucca. Você está convidado para um jantar comigo.\n",
            "Olá Kassião. Você está convidado para um jantar comigo.\n",
            "Tivemos um problema Kassião. Só poderei convidar duas pessoas para o jantar \n"
          ]
        }
      ],
      "source": [
        "#3.6\n",
        "convidados = ['marlon', 'alícia', 'véia', 'véio', 'gabriel', 'gianlucca']\n",
        "\n",
        "convidados.insert(0,'mário')\n",
        "convidados.insert(3,'maria')\n",
        "convidados.append('kassião')\n",
        "\n",
        "for conv in convidados:\n",
        "    print(f'Olá {conv.title().strip()}. Você está convidado para um jantar comigo.')\n",
        "\n",
        "#3.7\n",
        "for conv in convidados:\n",
        "    print(f'Tivemos um problema {conv.title().strip()}. Só poderei convidar duas pessoas para o jantar ')"
      ]
    },
    {
      "cell_type": "markdown",
      "metadata": {
        "id": "ycg8R5jG61tF"
      },
      "source": [
        "3.7 – Reduzindo a lista de convidados: Você acabou de descobrir que sua nova mesa de jantar não chegará a tempo para o jantar e tem espaço para somente dois convidados.\n",
        "\n",
        "- Comece com seu programa do Exercício 3.6. Acrescente uma nova linha que mostre uma mensagem informando que você pode convidar apenas duas pessoas para o jantar.\n",
        "- Utilize pop() para remover os convidados de sua lista, um de cada vez, até que apenas dois nomes permaneçam em sua lista. Sempre que remover um nome de sua lista, mostre uma mensagem a essa pessoa, permitindo que ela saiba que você sente muito por não poder convidá-la para o jantar.\n",
        "- Apresente uma mensagem para cada uma das duas pessoas que continuam na lista, permitindo que elas saibam que ainda estão convidadas.\n",
        "- Utilize del para remover os dois últimos nomes de sua lista, de modo que você tenha uma lista vazia. Mostre sua lista para garantir que você realmente tem uma lista vazia no final de seu programa."
      ]
    },
    {
      "cell_type": "code",
      "execution_count": null,
      "metadata": {
        "id": "VE-rptDt61tF",
        "outputId": "18afc841-9251-4ce9-ab5b-dde72d45741d"
      },
      "outputs": [
        {
          "name": "stdout",
          "output_type": "stream",
          "text": [
            "Desculpe, Gianlucca terei que te desconvidar.\n",
            "Desculpe, Gabriel terei que te desconvidar.\n",
            "Desculpe, Véio terei que te desconvidar.\n",
            "Desculpe, Véia terei que te desconvidar.\n",
            "Parabéns Marlon, você ainda está convidado(a).\n",
            "Parabéns Alícia, você ainda está convidado(a).\n",
            "['alícia']\n",
            "[]\n"
          ]
        }
      ],
      "source": [
        "convidados = ['marlon', 'alícia', 'véia', 'véio', 'gabriel', 'gianlucca']\n",
        "\n",
        "for conv in convidados[2:]:\n",
        "    print(f'Desculpe, {convidados.pop().title().strip()} terei que te desconvidar.')\n",
        "for conv in convidados:\n",
        "    print(f'Parabéns {conv.title().strip()}, você ainda está convidado(a).')\n",
        "\n",
        "del convidados[0]\n",
        "del convidados[0]\n",
        "\n",
        "print(convidados)"
      ]
    },
    {
      "cell_type": "markdown",
      "metadata": {
        "id": "5Vru1Lh961tF"
      },
      "source": [
        "## 3.3. Organizando uma lista"
      ]
    },
    {
      "cell_type": "markdown",
      "metadata": {
        "id": "pbKR3r5N61tG"
      },
      "source": [
        "### 3.3.1. Ordenando uma lista de forma permanente com o método sort()"
      ]
    },
    {
      "cell_type": "code",
      "execution_count": null,
      "metadata": {
        "id": "6k25GPeL61tG",
        "outputId": "1b1c4159-5fe5-483a-e6f5-4189d24f96a3"
      },
      "outputs": [
        {
          "name": "stdout",
          "output_type": "stream",
          "text": [
            "['bmw', 'audi', 'wolks', 'ford', 'gm']\n",
            "['audi', 'bmw', 'ford', 'gm', 'wolks']\n",
            "['wolks', 'gm', 'ford', 'bmw', 'audi']\n"
          ]
        }
      ],
      "source": [
        "carros = ['bmw','audi','wolks','ford','gm'] #lista original, desordenada\n",
        "print(carros)\n",
        "\n",
        "carros.sort() #ordenação permanente (ordem alfabética)\n",
        "print(carros)\n",
        "\n",
        "carros.sort(reverse=True) #ordenação permanente (ordem anti alfabética)\n",
        "print(carros)"
      ]
    },
    {
      "cell_type": "markdown",
      "metadata": {
        "id": "msPi9Fw561tH"
      },
      "source": [
        "### 3.3.2. Ordenando uma lista temporariamente com a função sorted()"
      ]
    },
    {
      "cell_type": "code",
      "execution_count": null,
      "metadata": {
        "id": "cj_Z9A1B61tH",
        "outputId": "f51eeb12-a772-49c7-a124-b867f234d42f"
      },
      "outputs": [
        {
          "name": "stdout",
          "output_type": "stream",
          "text": [
            "['bmw', 'audi', 'wolks', 'ford', 'gm']\n",
            "['audi', 'bmw', 'ford', 'gm', 'wolks']\n",
            "['wolks', 'gm', 'ford', 'bmw', 'audi']\n",
            "['bmw', 'audi', 'wolks', 'ford', 'gm']\n"
          ]
        }
      ],
      "source": [
        "carros = ['bmw','audi','wolks','ford','gm'] #lista original, desordenada\n",
        "print(carros)\n",
        "\n",
        "carros = ['bmw','audi','wolks','ford','gm'] #lista original, desordenada\n",
        "\n",
        "print(sorted(carros)) #carros ordenada temporariamente\n",
        "print(sorted(carros, reverse=True)) #carros ordenada temporariamente (anti alfabética)\n",
        "\n",
        "print(carros) #lista original permanece inalterada"
      ]
    },
    {
      "cell_type": "markdown",
      "metadata": {
        "id": "JV5e15P561tH"
      },
      "source": [
        "### 3.3.3. Exibindo uma lista em ordem inversa"
      ]
    },
    {
      "cell_type": "code",
      "execution_count": null,
      "metadata": {
        "id": "coyv8Nrv61tI",
        "outputId": "67f46cfc-aedd-4250-d910-f6779c538adc"
      },
      "outputs": [
        {
          "name": "stdout",
          "output_type": "stream",
          "text": [
            "['bmw', 'audi', 'wolks', 'ford', 'gm']\n",
            "['gm', 'ford', 'wolks', 'audi', 'bmw']\n"
          ]
        }
      ],
      "source": [
        "carros = ['bmw','audi','wolks','ford','gm'] #lista original, desordenada\n",
        "print(carros)\n",
        "\n",
        "carros.reverse() #inverte permanentemente a lista\n",
        "print(carros)"
      ]
    },
    {
      "cell_type": "markdown",
      "metadata": {
        "id": "o4NVn_Gr61tI"
      },
      "source": [
        "### 3.3.4. Descobrindo o tamanho de uma lista"
      ]
    },
    {
      "cell_type": "code",
      "execution_count": null,
      "metadata": {
        "id": "v9pGEW8W61tJ",
        "outputId": "d14b3afc-b8bc-47a0-941a-0ea74bbbfd6b"
      },
      "outputs": [
        {
          "name": "stdout",
          "output_type": "stream",
          "text": [
            "['bmw', 'audi', 'wolks', 'ford', 'gm']\n",
            "5\n"
          ]
        }
      ],
      "source": [
        "carros = ['bmw','audi','wolks','ford','gm'] #lista original, desordenada\n",
        "print(carros)\n",
        "print(len(carros))#tamanho da lista"
      ]
    },
    {
      "cell_type": "markdown",
      "metadata": {
        "id": "nXS3jCZx61tJ"
      },
      "source": [
        "### 3.3.5. Exercícios"
      ]
    },
    {
      "cell_type": "markdown",
      "metadata": {
        "id": "zV3KAv2861tJ"
      },
      "source": [
        "3.8 – Conhecendo o mundo: Pense em pelo menos cinco lugares do mundo que você gostaria de visitar.\n",
        "\n",
        "- Armazene as localidades em uma lista. Certifique-se de que a lista não esteja em ordem alfabética.\n",
        "- Exiba sua lista na ordem original. Não se preocupe em exibir a lista de forma elegante; basta exibi-la como uma lista Python pura.\n",
        "- Utilize sorted() para exibir sua lista em ordem alfabética, sem modificar a lista propriamente dita.\n",
        "- Mostre que sua lista manteve sua ordem original exibindo-a.\n",
        "- Utilize sorted() para exibir sua lista em ordem alfabética inversa sem alterar a ordem da lista original.\n",
        "- Mostre que sua lista manteve sua ordem original exibindo-a novamente.\n",
        "- Utilize reverse() para mudar a ordem de sua lista. Exiba a lista para mostrar que sua ordem mudou.\n",
        "- Utilize reverse() para mudar a ordem de sua lista novamente. Exiba a lista para mostrar que ela voltou à sua ordem original.\n",
        "- Utilize sort() para mudar sua lista de modo que ela seja armazenada em ordem alfabética. Exiba a lista para mostrar que sua ordem mudou.\n",
        "- Utilize sort() para mudar sua lista de modo que ela seja armazenada em ordem alfabética inversa.\n",
        "\n",
        "Exiba a lista para mostrar que sua ordem mudou."
      ]
    },
    {
      "cell_type": "code",
      "execution_count": null,
      "metadata": {
        "id": "dk-Pj37S61tK",
        "outputId": "ed357a78-5283-4d06-f818-55f6cb98eaf9"
      },
      "outputs": [
        {
          "name": "stdout",
          "output_type": "stream",
          "text": [
            "['china', 'coreia', 'japão', 'marrocos', 'brasil', 'europa']\n",
            "['brasil', 'china', 'coreia', 'europa', 'japão', 'marrocos']\n",
            "['china', 'coreia', 'japão', 'marrocos', 'brasil', 'europa']\n",
            "['europa', 'brasil', 'marrocos', 'japão', 'coreia', 'china']\n",
            "['china', 'coreia', 'japão', 'marrocos', 'brasil', 'europa']\n",
            "['brasil', 'china', 'coreia', 'europa', 'japão', 'marrocos']\n",
            "['marrocos', 'japão', 'europa', 'coreia', 'china', 'brasil']\n"
          ]
        }
      ],
      "source": [
        "locais = ['china','coreia','japão','marrocos','brasil','europa'] #cria lista\n",
        "print(locais) #exibe lista original\n",
        "print(sorted(locais)) #exibe locais em ordem aflabética\n",
        "print(locais) #a lista original não foi alterada\n",
        "\n",
        "locais.reverse() #inverte a lista original\n",
        "print(locais)\n",
        "\n",
        "locais.reverse() #inverte novamente para voltar ao original\n",
        "print(locais)\n",
        "\n",
        "locais.sort() #ordena permanentemente\n",
        "print(locais)\n",
        "\n",
        "locais.sort(reverse=True) #ordem anti alfabetica permanente\n",
        "print(locais)"
      ]
    },
    {
      "cell_type": "markdown",
      "metadata": {
        "id": "uf1xorw261tK"
      },
      "source": [
        "3.9 – Convidados para o jantar: Trabalhando com um dos programas dos Exercícios de 3.4 a 3.7 (páginas 80 e 81), use len() para exibir uma mensagem informando o número de pessoas que você está convidando para o jantar."
      ]
    },
    {
      "cell_type": "code",
      "execution_count": null,
      "metadata": {
        "id": "4VscY3vl61tL",
        "outputId": "1cc1a72e-da33-4d64-bcce-09cdaa854bd0"
      },
      "outputs": [
        {
          "name": "stdout",
          "output_type": "stream",
          "text": [
            "6\n",
            "5\n",
            "4\n",
            "5\n"
          ]
        }
      ],
      "source": [
        "convidados = ['marlon','alícia','véia','véio','nathália','gabriel']\n",
        "print(len(convidados))\n",
        "\n",
        "del convidados[0]\n",
        "print(len(convidados))\n",
        "\n",
        "convidados.remove('alícia')\n",
        "print(len(convidados))\n",
        "\n",
        "convidados.append('gianlucca')\n",
        "print(len(convidados))"
      ]
    },
    {
      "cell_type": "markdown",
      "metadata": {
        "id": "EtME7SC261tL"
      },
      "source": [
        "3.10 – Todas as funções: Pensa em algo que você poderia armazenar em uma lista. Por exemplo, você poderia criar uma lista de montanhas, rios, países, cidades, idiomas ou qualquer outro item que quiser. Escreva um programa que crie uma lista contendo esses itens e então utilize cada função apresentada neste capítulo pelo menos uma vez."
      ]
    },
    {
      "cell_type": "code",
      "execution_count": null,
      "metadata": {
        "id": "O_yKCf1M61tL",
        "outputId": "f64f45f3-db3a-42d2-fc74-2b79035ac072"
      },
      "outputs": [
        {
          "name": "stdout",
          "output_type": "stream",
          "text": [
            "['dindin', 'carro', 'fêmea']\n",
            "['dindin', 'carro', 'fêmea', 'casa', 'moto', 'emprego', 'filhos']\n",
            "['carro', 'fêmea', 'casa', 'moto', 'emprego']\n",
            "['carro', 'fêmea', 'filhos', 'dindin', 'casa', 'moto', 'emprego']\n",
            "['fêmea', 'filhos', 'dindin', 'casa', 'emprego']\n"
          ]
        }
      ],
      "source": [
        "lista = ['dindin','carro','fêmea'] #criando lista\n",
        "print(lista)\n",
        "\n",
        "lista.append('casa') #adiciona ao fim da lista\n",
        "lista.extend(['moto','emprego','filhos']) #adiciona lista o final\n",
        "print(lista)\n",
        "\n",
        "item1 = lista.pop() #remove último ítem e salva na variável \"item1\"\n",
        "item2 = lista.pop(0) #remove primeiro ítem e salva na variável \"item2\"\n",
        "print(lista)\n",
        "\n",
        "lista.insert(2, item1) #insere item1 na posição 2\n",
        "lista.insert(3, item2) #insere item2 na posição 3\n",
        "print(lista)\n",
        "\n",
        "lista.remove('moto')\n",
        "del lista[0]\n",
        "print(lista)"
      ]
    },
    {
      "cell_type": "markdown",
      "metadata": {
        "id": "oa6jmcxm7A7z"
      },
      "source": [
        "# Capítulo 4. Trabalhando com listas"
      ]
    },
    {
      "cell_type": "markdown",
      "metadata": {
        "id": "I91emMAP7A72"
      },
      "source": [
        "## 4.1. Percorrendo uma lista inteira com um laço"
      ]
    },
    {
      "cell_type": "markdown",
      "metadata": {
        "id": "tRVA8d6t7A72"
      },
      "source": [
        "Neste capítulo veremos como percorrer uma lista inteira com um laço usando apenas algumas linhas de código, independentemente do tamanho da lista. Percorrer listas com laços permite executar a mesma ação – ou conjunto de ações – em todos os itens de uma lista. Como resultado, você poderá trabalhar de modo eficiente com listas de qualquer tamanho, incluindo aquelas com milhares ou até mesmo milhões de itens."
      ]
    },
    {
      "cell_type": "markdown",
      "metadata": {
        "id": "lio06xbo7A73"
      },
      "source": [
        "### 4.1.1. Percorrendo uma lista inteira com um laço"
      ]
    },
    {
      "cell_type": "markdown",
      "metadata": {
        "id": "ejYPOtlf7A73"
      },
      "source": [
        "4.1 – Pizzas: Pense em pelo menos três tipos de pizzas favoritas. Armazene os nomes dessas pizzas e, então, utilize um laço for para exibir o nome de cada pizza.\n",
        "\n",
        "- Modifique seu laço for para mostrar uma frase usando o nome da pizza em vez de exibir apenas o nome dela. Para cada pizza, você deve ter uma linha na saída contendo uma frase simples como Gosto de pizza de pepperoni.\n",
        "- Acrescente uma linha no final de seu programa, fora do laço for, que informe quanto você gosta de pizza. A saída deve ser constituída de três ou mais linhas sobre os tipos de pizza que você gosta e de uma frase adicional, por exemplo, Eu realmente adoro pizza!"
      ]
    },
    {
      "cell_type": "code",
      "execution_count": null,
      "metadata": {
        "id": "pmUEfua87A74",
        "outputId": "f95254f7-bb13-41c4-b6dc-4e9cac9cd19e"
      },
      "outputs": [
        {
          "name": "stdout",
          "output_type": "stream",
          "text": [
            "Sabores de pizza:\n",
            "1. Calabresa é uma delícia!\n",
            "2. Bacon E Milho é uma delícia!\n",
            "3. À Moda é uma delícia!\n",
            "Gosto mais de Bacon E Milho mas também como Calabresa e À Moda\n"
          ]
        }
      ],
      "source": [
        "pizzas = ['calabresa','bacon e milho','à moda'] #lista de pizzas\n",
        "\n",
        "print('Sabores de pizza:')\n",
        "i = 1\n",
        "for pizza in pizzas:\n",
        "    print(f'{i}.',pizza.title().strip(),'é uma delícia!')\n",
        "    i += 1\n",
        "print(f'Gosto mais de {pizzas[1].title().strip()} \\\n",
        "mas também como {pizzas[0].title().strip()} \\\n",
        "e {pizzas[2].title().strip()}')"
      ]
    },
    {
      "cell_type": "markdown",
      "metadata": {
        "id": "YtKOrYho7A75"
      },
      "source": [
        "4.2 – Animais: Pense em pelo menos três animais diferentes que tenham uma característica em comum. Armazene os nomes desses animais em uma lista e, então, utilize um laço for para exibir o nome de cada animal.\n",
        "\n",
        "- Modifique seu programa para exibir uma frase sobre cada animal, por exemplo, Um cachorro seria um ótimo animal de estimação.\n",
        "- Acrescente uma linha no final de seu programa informando o que esses animais têm em comum. Você poderia exibir uma frase como Qualquer um desses animais seria um ótimo animal de estimação!"
      ]
    },
    {
      "cell_type": "code",
      "execution_count": null,
      "metadata": {
        "id": "lHvxr0h-7A76",
        "outputId": "57777d62-638e-4482-d3cf-93fad451b94a"
      },
      "outputs": [
        {
          "name": "stdout",
          "output_type": "stream",
          "text": [
            "Cão seria um ótimo animal de estimação\n",
            "Gato seria um ótimo animal de estimação\n",
            "Pássaro seria um ótimo animal de estimação\n",
            "Qualquer um desses animais seria um ótimo animal de estimação.\n"
          ]
        }
      ],
      "source": [
        "animais = ['cão','gato','pássaro']\n",
        "\n",
        "for animal in animais:\n",
        "    print(f'{animal.title().strip()} seria um ótimo animal de estimação')\n",
        "print('Qualquer um desses animais seria um ótimo animal de estimação.')"
      ]
    },
    {
      "cell_type": "markdown",
      "metadata": {
        "id": "MKXAyVxX7A76"
      },
      "source": [
        "## 4.2. Criando listas numéricas"
      ]
    },
    {
      "cell_type": "markdown",
      "source": [
        "### 4.2.1. Contagens básicas com range\n"
      ],
      "metadata": {
        "id": "sIV6xSAt-Lri"
      }
    },
    {
      "cell_type": "markdown",
      "metadata": {
        "id": "mdJ2thNc7A77"
      },
      "source": [
        "\n",
        "`range(n)`: conta de 0 até n-1\n",
        "\n",
        "`range(n1,n2)`: conta de n1 até n2-1\n",
        "\n",
        "`range(n1,n2,s)`: conta de n1 até n2-1 com saltos de tamanho s"
      ]
    },
    {
      "cell_type": "code",
      "execution_count": null,
      "metadata": {
        "id": "o-Qcc5el7A78"
      },
      "outputs": [],
      "source": [
        "#contagem de 0 a 5\n",
        "for i in range(6):\n",
        "    print(i)\n",
        "print('fim da contagem.')\n",
        "\n",
        "#contagem de 1 a 5\n",
        "for i in range(1,6):\n",
        "    print(i)\n",
        "print('fim da contagem.')\n",
        "\n",
        "#contagem de 1 a 5 pulando de 2 em 2.\n",
        "for i in range(1,6,2):\n",
        "    print(i)"
      ]
    },
    {
      "cell_type": "markdown",
      "metadata": {
        "id": "ZTijQno17A78"
      },
      "source": [
        "Também podemos usar o range para criar listas de números"
      ]
    },
    {
      "cell_type": "code",
      "execution_count": null,
      "metadata": {
        "id": "mdDRBrD37A78",
        "outputId": "b0f6e219-d863-4eab-aa69-31ce9a6a0df9"
      },
      "outputs": [
        {
          "name": "stdout",
          "output_type": "stream",
          "text": [
            "[0, 1, 2, 3, 4, 5]\n",
            "[1, 4, 7, 10, 13, 16, 19]\n"
          ]
        }
      ],
      "source": [
        "#lista de 0 a 5\n",
        "lista1 = list(range(6))\n",
        "print(lista1)\n",
        "\n",
        "#lista de 1 a 20 saltando de 3 em 3\n",
        "lista2 = list(range(1,20,3))\n",
        "print(lista2)"
      ]
    },
    {
      "cell_type": "markdown",
      "metadata": {
        "id": "3Jmg5UZf7A79"
      },
      "source": [
        "Aliando essa ideia de listas numéricas ao conceito de loops podemos criar listas numéricas baseadas em iterações de uma determinada lei matemática"
      ]
    },
    {
      "cell_type": "code",
      "execution_count": null,
      "metadata": {
        "id": "GvDxDKGj7A79",
        "outputId": "489da9cb-b088-4799-a5fd-435af24e2032"
      },
      "outputs": [
        {
          "name": "stdout",
          "output_type": "stream",
          "text": [
            "[1, 2, 3, 4, 5, 6, 7, 8, 9, 10]\n",
            " [2, 4, 6, 8, 10, 12, 14, 16, 18, 20] \n",
            " [1, 4, 9, 16, 25, 36, 49, 64, 81, 100] \n",
            " [2, 4, 8, 16, 32, 64, 128, 256, 512, 1024]\n"
          ]
        }
      ],
      "source": [
        "lista = list(range(1, 11))\n",
        "print(lista)\n",
        "\n",
        "dobros = []\n",
        "quadrados = []\n",
        "potencias2 = []\n",
        "\n",
        "for valor in lista:\n",
        "    dobros.append(valor*2)\n",
        "    quadrados.append(valor**2)\n",
        "    potencias2.append(2**valor)\n",
        "\n",
        "print(\"\",dobros,\"\\n\",quadrados,\"\\n\",potencias2)"
      ]
    },
    {
      "cell_type": "markdown",
      "metadata": {
        "id": "RaO_ymm77A79"
      },
      "source": [
        "### 4.2.2. Estatísticas simples com uma lista de números"
      ]
    },
    {
      "cell_type": "markdown",
      "metadata": {
        "id": "bqQBhQCP7A7-"
      },
      "source": [
        "É possível usar métodos estatísticos simples sobre uma lista:\n",
        "\n",
        "`min(list)`: mínimo da lista\n",
        "`max(list)`: máximo da lista\n",
        "`sum(list)`: soma da lista"
      ]
    },
    {
      "cell_type": "code",
      "execution_count": null,
      "metadata": {
        "id": "WaNUBEG17A7-",
        "outputId": "42d142bf-279c-4c79-c247-3660f9ad7d48"
      },
      "outputs": [
        {
          "name": "stdout",
          "output_type": "stream",
          "text": [
            "[0, 10, 20, 30, 40, 50, 60, 70, 80, 90]\n",
            "O valor máximo é 90.\n",
            "O valor mínimo é 0.\n",
            "A soma dos valores da lista é 450.\n"
          ]
        }
      ],
      "source": [
        "lista = list(range(0,100,10))\n",
        "print(lista)\n",
        "\n",
        "print(f'O valor máximo é {max(lista)}.')\n",
        "print(f'O valor mínimo é {min(lista)}.')\n",
        "print(f'A soma dos valores da lista é {sum(lista)}.')"
      ]
    },
    {
      "cell_type": "markdown",
      "metadata": {
        "id": "yE9oUBnr7A7-"
      },
      "source": [
        "É possível combinar esses métodos para produzir novos parametros estatísticos"
      ]
    },
    {
      "cell_type": "code",
      "execution_count": null,
      "metadata": {
        "id": "w1nq0KAa7A7-"
      },
      "outputs": [],
      "source": [
        "!pip install numpy"
      ]
    },
    {
      "cell_type": "code",
      "execution_count": null,
      "metadata": {
        "id": "XkqcGC8F7A7-",
        "outputId": "651f9fac-fee7-4bf9-9972-408e14499752"
      },
      "outputs": [
        {
          "name": "stdout",
          "output_type": "stream",
          "text": [
            "[0, 10, 20, 30, 40, 50, 60, 70, 80, 90]\n",
            "A média é 45.0.\n",
            "[2025.0, 1225.0, 625.0, 225.0, 25.0, 25.0, 225.0, 625.0, 1225.0, 2025.0]\n",
            "30.276503540974915\n"
          ]
        }
      ],
      "source": [
        "import numpy as np\n",
        "\n",
        "lista = list(range(0,100,10))\n",
        "print(lista)\n",
        "\n",
        "media = sum(lista)/len(lista)\n",
        "print(f'A média é {media}.')\n",
        "\n",
        "desvios_media_quadr = []\n",
        "for i in lista:\n",
        "    desvios_media_quadr.append((i-media)**2)\n",
        "print(desvios_media_quadr)\n",
        "\n",
        "desvio_padrao = np.sqrt(sum(desvios_media_quadr)/(len(desvios_media_quadr)-1))\n",
        "print(desvio_padrao)"
      ]
    },
    {
      "cell_type": "markdown",
      "metadata": {
        "id": "SKehbKb-7A7-"
      },
      "source": [
        "### 4.2.3. List Comprehension"
      ]
    },
    {
      "cell_type": "markdown",
      "metadata": {
        "id": "wPMZu8Gh7A7-"
      },
      "source": [
        "Uma list comprehension combina o laço for e a criação de novos elementos em\n",
        "uma linha, e concatena cada novo elemento automaticamente. As list comprehensions nem sempre são apresentadas aos iniciantes, mas eu as incluí aqui porque é bem provável que você as veja assim que começar a analisar códigos de outras pessoas."
      ]
    },
    {
      "cell_type": "code",
      "execution_count": null,
      "metadata": {
        "id": "PO_yI6Oh7A7_",
        "outputId": "0a2465d6-7263-47ca-b9b1-5f2fbada3336"
      },
      "outputs": [
        {
          "name": "stdout",
          "output_type": "stream",
          "text": [
            "[0, 1, 2, 3, 4, 5, 6, 7, 8, 9, 10]\n",
            "[0, 1, 4, 9, 16, 25, 36, 49, 64, 81, 100]\n",
            "[0, 3, 6, 9, 12, 15, 18, 21, 24, 27, 30]\n",
            "[0.0, 1.0, 1.4142135623730951, 1.7320508075688772, 2.0, 2.23606797749979, 2.449489742783178, 2.6457513110645907, 2.8284271247461903, 3.0, 3.1622776601683795]\n"
          ]
        }
      ],
      "source": [
        "#contagem de 0 a 10:\n",
        "lista = [x for x in range(11)]\n",
        "print(lista)\n",
        "\n",
        "#lista de quadrados\n",
        "quadr_x = [x**2 for x in range(11)]\n",
        "print(quadr_x)\n",
        "\n",
        "#lista de triplos\n",
        "tripl_x = [3*x for x in range(11)]\n",
        "print(tripl_x)\n",
        "\n",
        "#raízes quadradas\n",
        "sqrt_x = [float(np.sqrt(x)) for x in range(11)]\n",
        "print(sqrt_x)"
      ]
    },
    {
      "cell_type": "markdown",
      "metadata": {
        "id": "NFLrdwdH7A7_"
      },
      "source": [
        "### 4.2.4. Exercícios"
      ]
    },
    {
      "cell_type": "markdown",
      "metadata": {
        "id": "TCZIAAJR7A7_"
      },
      "source": [
        "4.3 – Contando até vinte: Use um laço for para exibir os números de 1 a 20, incluindo-os."
      ]
    },
    {
      "cell_type": "code",
      "execution_count": null,
      "metadata": {
        "id": "IoifflKS7A7_"
      },
      "outputs": [],
      "source": [
        "for i in range(21):\n",
        "    print(i)"
      ]
    },
    {
      "cell_type": "markdown",
      "metadata": {
        "id": "DY3dCfvC7A8A"
      },
      "source": [
        "4.4 – Um milhão: Crie uma lista de números de um a um milhão e, então, use um laço for para exibir os números. (Se a saída estiver demorando demais, interrompa pressionando CTRL-C ou feche a janela de saída.)\n",
        "\n",
        "4.5 – Somando um milhão: Crie uma lista de números de um a um milhão e, em seguida, use min() e max() para garantir que sua lista realmente começa em um e termina em um milhão. Além disso, utilize a função sum() para ver a rapidez com que Python é capaz de somar um milhão de números."
      ]
    },
    {
      "cell_type": "code",
      "execution_count": null,
      "metadata": {
        "id": "XpfwVVxY7A8A",
        "outputId": "ad7ed81e-1a71-4bd2-b3da-69dbc036f23a",
        "colab": {
          "base_uri": "https://localhost:8080/",
          "height": 211
        }
      },
      "outputs": [
        {
          "output_type": "error",
          "ename": "NameError",
          "evalue": "name 'lista' is not defined",
          "traceback": [
            "\u001b[0;31m---------------------------------------------------------------------------\u001b[0m",
            "\u001b[0;31mNameError\u001b[0m                                 Traceback (most recent call last)",
            "\u001b[0;32m<ipython-input-1-d9fb32418a72>\u001b[0m in \u001b[0;36m<cell line: 6>\u001b[0;34m()\u001b[0m\n\u001b[1;32m      4\u001b[0m \u001b[0;31m#    lista.append(i)\u001b[0m\u001b[0;34m\u001b[0m\u001b[0;34m\u001b[0m\u001b[0m\n\u001b[1;32m      5\u001b[0m \u001b[0;34m\u001b[0m\u001b[0m\n\u001b[0;32m----> 6\u001b[0;31m \u001b[0mprint\u001b[0m\u001b[0;34m(\u001b[0m\u001b[0;34m'Lista de 1 a 1000000'\u001b[0m\u001b[0;34m,\u001b[0m \u001b[0mlista\u001b[0m\u001b[0;34m)\u001b[0m\u001b[0;34m\u001b[0m\u001b[0;34m\u001b[0m\u001b[0m\n\u001b[0m\u001b[1;32m      7\u001b[0m \u001b[0mprint\u001b[0m\u001b[0;34m(\u001b[0m\u001b[0;34m'A soma da lista é:'\u001b[0m\u001b[0;34m,\u001b[0m \u001b[0msum\u001b[0m\u001b[0;34m(\u001b[0m\u001b[0mlista\u001b[0m\u001b[0;34m)\u001b[0m\u001b[0;34m)\u001b[0m\u001b[0;34m\u001b[0m\u001b[0;34m\u001b[0m\u001b[0m\n\u001b[1;32m      8\u001b[0m \u001b[0mprint\u001b[0m\u001b[0;34m(\u001b[0m\u001b[0;34m'O menor valor é'\u001b[0m\u001b[0;34m,\u001b[0m \u001b[0mmin\u001b[0m\u001b[0;34m(\u001b[0m\u001b[0mlista\u001b[0m\u001b[0;34m)\u001b[0m\u001b[0;34m)\u001b[0m\u001b[0;34m\u001b[0m\u001b[0;34m\u001b[0m\u001b[0m\n",
            "\u001b[0;31mNameError\u001b[0m: name 'lista' is not defined"
          ]
        }
      ],
      "source": [
        "#por questões de memória contei até 100k\n",
        "#lista = []\n",
        "#for i in range(1,100001):\n",
        "#    lista.append(i)\n",
        "\n",
        "print('Lista de 1 a 1000000', lista)\n",
        "print('A soma da lista é:', sum(lista))\n",
        "print('O menor valor é', min(lista))\n",
        "print('O maior valor é', max(lista))"
      ]
    },
    {
      "cell_type": "markdown",
      "metadata": {
        "id": "1C9LW_Rw7A8A"
      },
      "source": [
        "4.6 – Números ímpares: Use o terceiro argumento da função range() para criar uma lista de números ímpares de 1 a 20. Utilize um laço for para exibir todos os números.\n",
        "\n",
        "4.7– Três: Crie uma lista de múltiplos de 3, de 3 a 30. Use um laço for para exibir os números de sua lista.\n",
        "\n",
        "4.8 – Cubos: Um número elevado à terceira potência é chamado de cubo. Por exemplo, o cubo de 2 é escrito como 2**3 em Python. Crie uma lista dos dez primeiros cubos (isto é, o cubo de cada inteiro de 1 a 10), e utilize um laço for para exibir o valor de cada cubo."
      ]
    },
    {
      "cell_type": "code",
      "execution_count": null,
      "metadata": {
        "id": "TWL6UzPj7A8B",
        "outputId": "48019b9a-2bb7-4d81-84a3-1765c7fadbd3"
      },
      "outputs": [
        {
          "name": "stdout",
          "output_type": "stream",
          "text": [
            "[1, 3, 5, 7, 9, 11, 13, 15, 17, 19]\n",
            "[0, 3, 6, 9, 12, 15, 18, 21, 24, 27, 30]\n",
            "[1, 8, 27, 64, 125, 216, 343, 512, 729, 1000]\n",
            "[1, 8, 27, 64, 125, 216, 343, 512, 729, 1000]\n"
          ]
        }
      ],
      "source": [
        "#4.6\n",
        "impares = [x for x in range(1,20,2)]\n",
        "print(impares)\n",
        "\n",
        "#4.7\n",
        "mult3 = [3*x for x in range(11)]\n",
        "print(mult3)\n",
        "\n",
        "#4.8\n",
        "cubos = []\n",
        "for i in range(1,11):\n",
        "    cubos.append(i**3)\n",
        "print(cubos)\n",
        "\n",
        "#4.9\n",
        "cubos_lc = [x**3 for x in range(1,11)]\n",
        "print(cubos_lc)"
      ]
    },
    {
      "cell_type": "markdown",
      "metadata": {
        "id": "9zZujq-X7A8B"
      },
      "source": [
        "## 4.3. Trabalhando com parte de uma lista"
      ]
    },
    {
      "cell_type": "markdown",
      "metadata": {
        "id": "iy3T4Yvg7A8C"
      },
      "source": [
        "### 4.3.1. Fatiando uma lista"
      ]
    },
    {
      "cell_type": "code",
      "execution_count": null,
      "metadata": {
        "id": "J_Q9mjQt7A8C",
        "outputId": "3222e2eb-532d-4bd8-d779-918a0fbc5b57"
      },
      "outputs": [
        {
          "name": "stdout",
          "output_type": "stream",
          "text": [
            "['zé', 'jão', 'max', 'paulo', 'marcos', 'pedro', 'caio']\n",
            "['zé', 'jão', 'max']\n",
            "['zé', 'jão', 'max']\n",
            "['max', 'paulo', 'marcos', 'pedro', 'caio']\n",
            "['pedro', 'caio']\n"
          ]
        }
      ],
      "source": [
        "jogadores = ['zé','jão','max','paulo','marcos','pedro','caio'] #cria a lista\n",
        "print(jogadores)\n",
        "\n",
        "print(jogadores[0:3]) #exibe os elementos [0] até [2]\n",
        "print(jogadores[:3]) #do início até [2]\n",
        "print(jogadores[2:]) #do elemento [2] até o final\n",
        "print(jogadores[-2:]) #dos dois últimos até o final"
      ]
    },
    {
      "cell_type": "markdown",
      "metadata": {
        "id": "ySru5Fi-7A8C"
      },
      "source": [
        "### 4.3.2. Percorrendo uma fatia com um laço"
      ]
    },
    {
      "cell_type": "code",
      "execution_count": null,
      "metadata": {
        "id": "VbOgGU2n7A8C",
        "outputId": "808bc3dc-ed8a-4e1a-dc39-66fd532327d7"
      },
      "outputs": [
        {
          "name": "stdout",
          "output_type": "stream",
          "text": [
            "Aqui estão os três primeiros jogadores do time:\n",
            "Zé\n",
            "Jão\n",
            "Max\n",
            "Aqui estão três últimos jogadores do time:\n",
            "Marcos\n",
            "Pedro\n",
            "Caio\n",
            "O jogador do meior é:\n",
            "Paulo\n"
          ]
        }
      ],
      "source": [
        "jogadores = ['zé','jão','max','paulo','marcos','pedro','caio'] #cria a lista\n",
        "\n",
        "print(\"Aqui estão os três primeiros jogadores do time:\")\n",
        "for jogador in jogadores[:3]:\n",
        "    print(jogador.title().strip())\n",
        "\n",
        "print(\"Aqui estão três últimos jogadores do time:\")\n",
        "for jogador in jogadores[-3:]:\n",
        "    print(jogador.title().strip())\n",
        "\n",
        "print(\"O jogador do meior é:\")\n",
        "print(jogadores[round((len(jogadores)-1)/2)].title().strip())"
      ]
    },
    {
      "cell_type": "markdown",
      "metadata": {
        "id": "6Iie8mZU7A8D"
      },
      "source": [
        "Para copiar uma lista, podemos criar uma fatia que inclua a lista original inteira omitindo o primeiro e o segundo índices ([:]). Isso diz a Python para criar uma lista que começa no primeiro item e termina no último, gerando uma cópia da lista toda."
      ]
    },
    {
      "cell_type": "code",
      "execution_count": null,
      "metadata": {
        "id": "ARGLwWOp7A8D",
        "outputId": "3929694f-c7ef-46c1-d6aa-ca3d3db8528a"
      },
      "outputs": [
        {
          "name": "stdout",
          "output_type": "stream",
          "text": [
            "['zé', 'jão', 'max', 'paulo', 'marcos', 'pedro', 'caio']\n",
            "['zé', 'jão', 'max', 'paulo', 'marcos', 'pedro', 'caio']\n",
            "['zé', 'jão', 'max', 'paulo', 'marcos', 'pedro', 'caio', 'mariazinha']\n",
            "['zé', 'jão', 'max', 'paulo', 'marcos', 'pedro', 'caio']\n"
          ]
        }
      ],
      "source": [
        "jogadores = ['zé','jão','max','paulo','marcos','pedro','caio'] #cria a lista\n",
        "print(jogadores) #lista original antes de adicionalr \"mariazinha\"\n",
        "\n",
        "copia = jogadores[:] #criando a cópia\n",
        "print(copia) #exibindo a copia\n",
        "\n",
        "jogadores.append('mariazinha')\n",
        "print(jogadores) #depois de adicionar \"mariazinha\"\n",
        "print(copia) #como a cópia foi feita antes de adicionar \"mariazinha\" ela não contém \"mariazinha\""
      ]
    },
    {
      "cell_type": "markdown",
      "metadata": {
        "id": "8DqGnrGx7A8D"
      },
      "source": [
        "### 4.3.3. Exercícios"
      ]
    },
    {
      "cell_type": "markdown",
      "metadata": {
        "id": "KvUM4cXi7A8D"
      },
      "source": [
        "4.10 – Fatias: Usando um dos programas que você escreveu neste capítulo, acrescente várias linhas no final do programa que façam o seguinte:\n",
        "\n",
        "- Exiba a mensagem Os três primeiros itens da lista são: Em seguida, use uma fatia para exibir os três primeiros itens da lista desse programa.\n",
        "- Exiba a mensagem Três itens do meio da lista são:. Use uma fatia para exibir três itens do meio da lista.\n",
        "- Exiba a mensagem Os três últimos itens da lista são:. Use uma fatia para exibir os três últimos itens da lista."
      ]
    },
    {
      "cell_type": "code",
      "execution_count": null,
      "metadata": {
        "id": "mgShNIsG7A8E",
        "outputId": "5803829b-0757-44d6-be59-4404f912651d"
      },
      "outputs": [
        {
          "name": "stdout",
          "output_type": "stream",
          "text": [
            "Todas as nossas pizzas:  ['calabresa', 'bacon e milho', 'à moda', 'lombinho', 'marguerita', 'portuguesa', 'chocolate']\n",
            "4\n",
            "As três primeiras pizzas são ['calabresa', 'bacon e milho', 'à moda']\n",
            "A pizza do meio é: marguerita\n",
            "As três últimas pizzas são ['marguerita', 'portuguesa', 'chocolate']\n"
          ]
        }
      ],
      "source": [
        "pizzas = ['calabresa','bacon e milho','à moda','lombinho','marguerita','portuguesa','chocolate'] #lista de pizzas\n",
        "print(\"Todas as nossas pizzas: \",pizzas)\n",
        "\n",
        "meio = round(len(pizzas)/2)\n",
        "print(meio)\n",
        "\n",
        "print(f'As três primeiras pizzas são {pizzas[:3]}')\n",
        "print(f'A pizza do meio é: {pizzas[meio]}')\n",
        "print(f'As três últimas pizzas são {pizzas[-3:]}')"
      ]
    },
    {
      "cell_type": "markdown",
      "metadata": {
        "id": "tUx11kH97A8E"
      },
      "source": [
        "4.11 – Minhas pizzas, suas pizzas: Comece com seu programa do Exercício 4.1 (página 97). Faça uma cópia da lista de pizzas e chame-a de friend_pizzas. Então faça o seguinte: • Adicione uma nova pizza à lista original.\n",
        "\n",
        "- Adicione uma pizza diferente à lista friend_pizzas.\n",
        "- Prove que você tem duas listas diferentes. Exiba a mensagem Minhas pizzas favoritas são:; em seguida, utilize um laço for para exibir a primeira lista.\n",
        "\n",
        "Exiba a mensagem As pizzas favoritas de meu amigo são:; em seguida, utilize um laço for para exibir a segunda lista. Certifique-se de que cada pizza nova esteja armazenada na lista apropriada."
      ]
    },
    {
      "cell_type": "code",
      "execution_count": null,
      "metadata": {
        "id": "G8lNrppm7A8E",
        "outputId": "5749425c-4e8e-4237-86b9-d2e661d7b111"
      },
      "outputs": [
        {
          "name": "stdout",
          "output_type": "stream",
          "text": [
            " ['calabresa', 'bacon e milho', 'à moda', 'lombinho', 'marguerita', 'portuguesa', 'chocolate'] \n",
            " ['calabresa', 'bacon e milho', 'à moda', 'lombinho', 'marguerita', 'portuguesa', 'chocolate']\n",
            "As pizzas: ['calabresa', 'bacon e milho', 'à moda', 'lombinho', 'marguerita', 'portuguesa', 'chocolate', 'bosta'] \n",
            "Favoritas: ['calabresa', 'bacon e milho', 'à moda', 'lombinho', 'marguerita', 'portuguesa', 'chocolate', 'mijo']\n"
          ]
        }
      ],
      "source": [
        "pizzas = ['calabresa','bacon e milho','à moda','lombinho','marguerita','portuguesa','chocolate'] #lista de pizzas\n",
        "pizzas_manos = pizzas[:] #cópia da pizza\n",
        "\n",
        "print(\"\",pizzas,\"\\n\",pizzas_manos) #as listas são idênticas\n",
        "\n",
        "pizzas.append('bosta')\n",
        "pizzas_manos.append('mijo')\n",
        "\n",
        "print(\"As pizzas:\",pizzas,\"\\nFavoritas:\",pizzas_manos) #as listas NÃO são mais idênticas"
      ]
    },
    {
      "cell_type": "markdown",
      "metadata": {
        "id": "iaIE0FiY7A8E"
      },
      "source": [
        "## 4.4. Tuplas"
      ]
    },
    {
      "cell_type": "markdown",
      "metadata": {
        "id": "0OZ6Y3RF7A8F"
      },
      "source": [
        "As listas funcionam bem para armazenar conjuntos de itens que podem mudar durante a vida de um programa. A capacidade de modificar listas é particularmente importante quando trabalhamos com uma lista de usuários em um site ou com uma lista de personagens em um jogo. No entanto, às vezes, você vai querer criar uma lista de itens que não poderá mudar. As tuplas permitir fazer exatamente isso. Python refere-se a valores que não podem mudar como imutáveis, e uma lista imutável é chamada de tupla."
      ]
    },
    {
      "cell_type": "markdown",
      "metadata": {
        "id": "V41txzov7A8F"
      },
      "source": [
        "### 4.4.1. Definindo uma tupla"
      ]
    },
    {
      "cell_type": "markdown",
      "metadata": {
        "id": "bTRMocxw7A8F"
      },
      "source": [
        "Tuplas são imutáveis. Isso significa que uma vez criada não podemos sobrescrevê-la."
      ]
    },
    {
      "cell_type": "code",
      "execution_count": null,
      "metadata": {
        "id": "aeqf_ZE-7A8G"
      },
      "outputs": [],
      "source": [
        "dimensions = (100,250) #definindo a tupla\n",
        "\n",
        "print(dimensions) #exibindo a tupla\n",
        "print(type(dimensions)) #exibindo o tipo: 'tuple'\n",
        "\n",
        "#Tuplas são imutáveis:\n",
        "\n",
        "#dimensions[1] = 500 #retorna um TypeError\n",
        "#dimensions.append(500) #retorna um AtributeError\n",
        "#dimensions.extend((10)) #retorna um AtributeError"
      ]
    },
    {
      "cell_type": "markdown",
      "metadata": {
        "id": "lJY90f2u7A8G"
      },
      "source": [
        "Quando estamos percorrendo todos os valores de uma tupla com um laço é possível usar as técnicas de fatiamento para percorrer apenas a parte de interesse."
      ]
    },
    {
      "cell_type": "code",
      "execution_count": null,
      "metadata": {
        "id": "TPaqlQlE7A8G",
        "outputId": "eb6209b6-2df9-4711-a560-3db8d54b1c8d"
      },
      "outputs": [
        {
          "name": "stdout",
          "output_type": "stream",
          "text": [
            "9\n",
            "7\n",
            "8\n",
            "6\n",
            "5\n",
            "6\n",
            "4\n",
            "3\n",
            "2\n",
            "3\n",
            "acabou\n",
            "6\n",
            "4\n",
            "3\n",
            "2\n",
            "3\n",
            "acabou\n"
          ]
        }
      ],
      "source": [
        "tupla1 = (9,7,8,6,5,6,4,3,2,3) #criando a tupla\n",
        "\n",
        "for elem in tupla1: #percorrendo toda a tupla\n",
        "    print(elem)\n",
        "print('acabou')\n",
        "\n",
        "for elem in tupla1[-5:]: #percorrendo os 5 últimos ítens\n",
        "    print(elem)\n",
        "print('acabou')"
      ]
    },
    {
      "cell_type": "markdown",
      "metadata": {
        "id": "53QcXkhn7A8H"
      },
      "source": [
        "Embora não seja possível modificar uma tupla, podemos atribuir um novo valor a uma variável que armazena uma tupla. Portanto, se quiséssemos alterar nossas dimensões, poderíamos redefinir a tupla\n",
        "toda:"
      ]
    },
    {
      "cell_type": "code",
      "execution_count": null,
      "metadata": {
        "id": "eS9V4-kf7A8H",
        "outputId": "e8b097b0-9cc6-42ca-823e-c04d9071c743"
      },
      "outputs": [
        {
          "name": "stdout",
          "output_type": "stream",
          "text": [
            "Tupla original: Dimensão x: 100 | Dimensão y: 50\n",
            "Tupla alterada: Dimensão x: 200 | Dimensão y: 80\n"
          ]
        }
      ],
      "source": [
        "dimensions = (100,50) #define a tupla: 100x50\n",
        "print(f'Tupla original: Dimensão x: {dimensions[0]} | Dimensão y: {dimensions[1]}') #exibe 100x50\n",
        "\n",
        "dimensions = (200,80) #sobrescreve a tupla: 20x80\n",
        "print(f'Tupla alterada: Dimensão x: {dimensions[0]} | Dimensão y: {dimensions[1]}') #exibe 200x80\n"
      ]
    },
    {
      "cell_type": "markdown",
      "metadata": {
        "id": "hxY00Nl87A8I"
      },
      "source": [
        "### 4.4.2. Exemplos"
      ]
    },
    {
      "cell_type": "markdown",
      "metadata": {
        "id": "wch4Nzfx7A8I"
      },
      "source": [
        "4.13 – Buffet: Um restaurante do tipo buffet oferece apenas cinco tipos básicos de comida. Pense em cinco pratos simples e armazene-os em uma tupla.\n",
        "\n",
        "- Use um laço for para exibir cada prato oferecido pelo restaurante.\n",
        "- Tente modificar um dos itens e cerifique-se de que Python rejeita a mudança.\n",
        "- O restaurante muda seu cardápio, substituindo dois dos itens com pratos diferentes. Acrescente um bloco de código que reescreva a tupla e, em seguida, use um laço for para exibir cada um dos itens do cardápio revisado."
      ]
    },
    {
      "cell_type": "code",
      "execution_count": null,
      "metadata": {
        "id": "NzafC8b-7A8I",
        "outputId": "4e5de2dd-4401-4899-cfe3-30ec97f4c51d"
      },
      "outputs": [
        {
          "name": "stdout",
          "output_type": "stream",
          "text": [
            "Segue uma lista com os nossos pratos: \n",
            "1 . Almondegas\n",
            "2 . Macarronada\n",
            "3 . Lazanha\n",
            "4 . Risoto\n",
            "5 . Tropeiro\n",
            "Segue uma lista com os nossos NOVOS pratos: \n",
            "1 . Inhoque\n",
            "2 . Pizza\n",
            "3 . Lasanha\n",
            "4 . Risoto\n",
            "5 . Tropeiro\n"
          ]
        }
      ],
      "source": [
        "#criando o cardápio:\n",
        "pratos = ('almondegas','macarronada','lazanha','risoto','tropeiro')\n",
        "\n",
        "#exibindo os pratos:\n",
        "print(\"Segue uma lista com os nossos pratos: \")\n",
        "n = 1\n",
        "for prato in pratos:\n",
        "    print(n,'.',prato.title().strip())\n",
        "    n += 1\n",
        "\n",
        "#tentando alterar a tupla (e falhando):\n",
        "#pratos[2] = 'pizza' #retorna um TypeError\n",
        "\n",
        "#sobrescrevendo a tupla:\n",
        "pratos = ('inhoque','pizza','lasanha','risoto','tropeiro')\n",
        "print(\"Segue uma lista com os nossos NOVOS pratos: \")\n",
        "n = 1\n",
        "for prato in pratos:\n",
        "    print(n,'.',prato.title().strip())\n",
        "    n += 1"
      ]
    },
    {
      "cell_type": "markdown",
      "metadata": {
        "id": "j7upBV067A8J"
      },
      "source": [
        "## 4.5. Estilo e Padronização PEP - 8"
      ]
    },
    {
      "cell_type": "markdown",
      "metadata": {
        "id": "t_Kuqdet7A8J"
      },
      "source": [
        "PEP-8 é o guia de estilo para o código Python, que estabelece convenções para escrever código Python limpo e legível. Aqui estão algumas das principais regras e recomendações do PEP-8:\n",
        "\n",
        "### 4.5.1. Convenções de Nomenclatura\n",
        "\n",
        "1. **Nomes de Variáveis e Funções:**\n",
        "   - Use `snake_case` para nomes de variáveis e funções.\n",
        "   - Exemplo: `minha_variavel`, `minha_funcao()`.\n",
        "\n",
        "2. **Nomes de Classes:**\n",
        "   - Use `CamelCase` para nomes de classes.\n",
        "   - Exemplo: `MinhaClasse`.\n",
        "\n",
        "3. **Constantes:**\n",
        "   - Use `UPPER_CASE` para constantes.\n",
        "   - Exemplo: `MINHA_CONSTANTE`.\n",
        "\n",
        "### Formatação de Código\n",
        "\n",
        "4. **Indentação:**\n",
        "   - Use 4 espaços por nível de indentação.\n",
        "   - Não use tabulações.\n",
        "\n",
        "5. **Comprimento da Linha:**\n",
        "   - Limite as linhas a no máximo 79 caracteres.\n",
        "   - Para docstrings ou comentários, limite a 72 caracteres.\n",
        "\n",
        "6. **Quebra de Linha:**\n",
        "   - Para expressões longas, use a continuação de linha entre parênteses, colchetes ou chaves. Evite usar a barra invertida `\\` para continuação de linha.\n",
        "   - Exemplo:\n",
        "     ```python\n",
        "     resultado = (alguma_variavel\n",
        "                  + outra_variavel\n",
        "                  - terceira_variavel)\n",
        "     ```\n",
        "\n",
        "### Espaços em Branco\n",
        "\n",
        "7. **Espaço em Branco em Expressões e Instruções:**\n",
        "   - Use espaços ao redor de operadores (por exemplo, `=`, `+`, `-`, `==`, etc.).\n",
        "   - Não use espaços imediatamente dentro de parênteses, colchetes ou chaves.\n",
        "   - Exemplo:\n",
        "     ```python\n",
        "     x = 1\n",
        "     y = x + 2\n",
        "     lista = [1, 2, 3]\n",
        "     ```\n",
        "\n",
        "8. **Linhas em Branco:**\n",
        "   - Separe definições de funções e classes com duas linhas em branco.\n",
        "   - Separe métodos dentro de uma classe com uma linha em branco.\n",
        "   - Exemplo:\n",
        "     ```python\n",
        "     class MinhaClasse:\n",
        "         \n",
        "         def metodo_1(self):\n",
        "             pass\n",
        "         \n",
        "         def metodo_2(self):\n",
        "             pass\n",
        "     ```\n",
        "\n",
        "### Comentários\n",
        "\n",
        "9. **Comentários:**\n",
        "   - Use comentários para explicar o \"porquê\" do código, não o \"como\".\n",
        "   - Utilize comentários de linha única com `#` e mantenha-os curtos e claros.\n",
        "   - Docstrings devem ser usadas para documentação de módulos, funções, classes e métodos. Use aspas triplas `\"\"\"`.\n",
        "\n",
        "### Importações\n",
        "\n",
        "10. **Importações:**\n",
        "    - Coloque todas as importações no início do arquivo.\n",
        "    - Organize as importações em três grupos: importações da biblioteca padrão, importações de terceiros e importações locais.\n",
        "    - Use uma linha por importação.\n",
        "    - Exemplo:\n",
        "      ```python\n",
        "      import os\n",
        "      import sys\n",
        "\n",
        "      import numpy as np\n",
        "      import pandas as pd\n",
        "\n",
        "      from meu_modulo import MinhaClasse, minha_funcao\n",
        "      ```\n",
        "\n",
        "### Diversos\n",
        "\n",
        "11. **Comparações:**\n",
        "    - Use `is` para comparação com `None`.\n",
        "    - Use `==` para comparações de igualdade.\n",
        "    - Exemplo:\n",
        "      ```python\n",
        "      if variavel is None:\n",
        "          pass\n",
        "      if variavel == 10:\n",
        "          pass\n",
        "      ```\n",
        "\n",
        "12. **Definição de Funções com Argumentos Padrão:**\n",
        "    - Não use valores mutáveis (como listas) como valores padrão para argumentos.\n",
        "    - Exemplo:\n",
        "      ```python\n",
        "      def minha_funcao(arg1, arg2=None):\n",
        "          if arg2 is None:\n",
        "              arg2 = []\n",
        "      ```\n",
        "\n",
        "Seguir essas regras ajuda a manter um estilo de código consistente e facilita a leitura e manutenção do código por outros desenvolvedores. Para mais detalhes, você pode consultar a [documentação oficial do PEP-8](https://www.python.org/dev/peps/pep-0008/)."
      ]
    },
    {
      "cell_type": "markdown",
      "metadata": {
        "id": "RdF4_6N0WOCL"
      },
      "source": [
        "# Capítulo 5. Instruções if/elif/else"
      ]
    },
    {
      "cell_type": "markdown",
      "metadata": {
        "id": "cXLiJKd2WOCN"
      },
      "source": [
        "## 5.1. Testes condicionais e operadores"
      ]
    },
    {
      "cell_type": "markdown",
      "metadata": {
        "id": "Fz-SPgG3WOCP"
      },
      "source": [
        "### 5.1.1. Operadores atribuição '=',igualdade(comparador) '==' e diferença `!=`"
      ]
    },
    {
      "cell_type": "code",
      "execution_count": null,
      "metadata": {
        "id": "Urm2f6yuWOCQ",
        "outputId": "fdd110d8-add3-4c91-e700-9fcdaaa3c940"
      },
      "outputs": [
        {
          "name": "stdout",
          "output_type": "stream",
          "text": [
            "Audi\n",
            "BMW\n",
            "Subaru\n",
            "Toyota\n"
          ]
        }
      ],
      "source": [
        "carros = ['audi', 'bmw', 'subaru', 'toyota']\n",
        "\n",
        "for carro in carros:\n",
        "    if carro == 'bmw':\n",
        "        print(carro.upper()) #caixa alta apenas para a 'bmw'\n",
        "    else:\n",
        "        print(carro.title().strip())"
      ]
    },
    {
      "cell_type": "markdown",
      "metadata": {
        "id": "gfEZUr37WOCU"
      },
      "source": [
        "O operador de igualdade(comparador) faz distinção entre maiúsculos e minúsculos.\n",
        "\n",
        "Os sites impõem determinadas regras para os dados fornecidos pelos usuários de modo semelhante a esse. Por exemplo, um site pode usar um teste condicional desse tipo para garantir que todos os usuários tenham um nome realmente único, e não apenas uma variação quanto ao uso de letras maiúsculas em relação ao nome de usuário de outra pessoa. Quando alguém submeter um novo nome de usuário, esse nome será convertido para letras minúsculas e comparado às versões com letras minúsculas de todos os nomes de usuário existentes. Durante essa verificação, um nome de usuário como 'John' será rejeitado se houver qualquer variação de 'john' já em uso."
      ]
    },
    {
      "cell_type": "code",
      "execution_count": null,
      "metadata": {
        "id": "TlRRHWeiWOCV"
      },
      "outputs": [],
      "source": [
        "#adicione nome = 'Mario' e depois nome = 'mario'\n",
        "pergunta = str(input('Deseja cadastrar um nome? [s/n]'))\n",
        "base_nomes = []\n",
        "while pergunta == 's':\n",
        "    nome = str(input('Digite seu nome'))\n",
        "    if nome.lower() in base_nomes:\n",
        "        print('usuário já está cadastrado!')\n",
        "        pergunta = str(input('Deseja cadastrar outro nome? [s/n]'))\n",
        "    else:\n",
        "        base_nomes.append(nome.lower())\n",
        "        pergunta = str(input('Deseja cadastrar outro nome? [s/n]'))\n",
        "print(list(base_nomes))"
      ]
    },
    {
      "cell_type": "markdown",
      "metadata": {
        "id": "_Kh3PwMZWOCW"
      },
      "source": [
        "Se quiser determinar se dois valores não são iguais, você poderá combinar um ponto de exclamação e um sinal de igualdade (!=)."
      ]
    },
    {
      "cell_type": "code",
      "execution_count": null,
      "metadata": {
        "id": "8r9BHowCWOCW",
        "outputId": "41a67130-2f1c-402f-ecf2-81a50c46487d"
      },
      "outputs": [
        {
          "name": "stdout",
          "output_type": "stream",
          "text": [
            "True\n",
            "False\n"
          ]
        }
      ],
      "source": [
        "print(2 != 1) #retorna True\n",
        "print(2 != 2) #retorna False"
      ]
    },
    {
      "cell_type": "markdown",
      "metadata": {
        "id": "j-7Div5eWOCX"
      },
      "source": [
        "Também é possível fazer comparações numéricaverdadeiras"
      ]
    },
    {
      "cell_type": "code",
      "execution_count": null,
      "metadata": {
        "id": "DPFzI_BVWOCY",
        "outputId": "f6f24506-5225-4ff9-be1a-4d36a4ea399c"
      },
      "outputs": [
        {
          "name": "stdout",
          "output_type": "stream",
          "text": [
            "Nada de festa de 18 anos para você amigo...\n"
          ]
        }
      ],
      "source": [
        "idade = int(input('qual a sua idade?    '))\n",
        "if idade != 18:\n",
        "    print('Nada de festa de 18 anos para você amigo...')\n",
        "else:\n",
        "    print('Prepare o pó! Apenas prepare!')"
      ]
    },
    {
      "cell_type": "markdown",
      "metadata": {
        "id": "230rByc5WOCZ"
      },
      "source": [
        "### 5.1.2. Operadores lógicos `and`, `or` e `not`"
      ]
    },
    {
      "cell_type": "code",
      "execution_count": null,
      "metadata": {
        "id": "AkpvkT7xWOCa",
        "outputId": "2cea538c-cc55-485f-d2c1-6ad782f5623c"
      },
      "outputs": [
        {
          "name": "stdout",
          "output_type": "stream",
          "text": [
            "AND com ambas verdadeiras retorna True\n",
            "OR com apenas uma verdadeira retorna True\n",
            "NOT com uma falsa retorna True\n"
          ]
        }
      ],
      "source": [
        "idade1 = 42\n",
        "idade2 = 36\n",
        "\n",
        "if idade1 > 40 and idade2 < 40:\n",
        "    print(\"AND com ambas verdadeiras retorna True\")\n",
        "if idade1 > 50 or idade2 < 40:\n",
        "    print(\"OR com apenas uma verdadeira retorna True\")\n",
        "if not(idade1 > 50):\n",
        "    print(\"NOT com uma falsa retorna True\")"
      ]
    },
    {
      "cell_type": "markdown",
      "metadata": {
        "id": "KlePJDmSWOCb"
      },
      "source": [
        "### 5.3.3. Pertinência de um elemento a uma lista usando `in`"
      ]
    },
    {
      "cell_type": "code",
      "execution_count": null,
      "metadata": {
        "id": "eEVttK5lWOCb",
        "outputId": "28fb9d77-d812-474f-e9a4-12dca83dd962"
      },
      "outputs": [
        {
          "name": "stdout",
          "output_type": "stream",
          "text": [
            "True\n",
            "False\n"
          ]
        }
      ],
      "source": [
        "adicionais = ['milho','cebola','chedar','bacon']\n",
        "\n",
        "print('milho' in adicionais) #retorna True\n",
        "print('banana' in adicionais) #retorna False"
      ]
    },
    {
      "cell_type": "markdown",
      "metadata": {
        "id": "TPupciIYWOCb"
      },
      "source": [
        "## 5.2. Usando if/elif/else"
      ]
    },
    {
      "cell_type": "markdown",
      "metadata": {
        "id": "jLS7yPOkWOCb"
      },
      "source": [
        "Muitas vezes, você precisará testar mais de duas situações possíveis; para avaliar isso, a sintaxe if-elif-else de Python poderá ser usada. Python executa apenas um bloco em uma cadeia if-elif-else. Cada teste condicional é executado em sequência, até que um deles passe. Quando um teste passar, o código após esse teste será executado e Python ignorará o restante dos testes.\n",
        "\n",
        "Python não exige um bloco else no final de uma cadeia if-elif. Às vezes, um bloco else é útil; outras vezes, é mais claro usar uma instrução elif adicional que capture a condição específica de interesse:"
      ]
    },
    {
      "cell_type": "code",
      "execution_count": null,
      "metadata": {
        "id": "JzPoGQo2WOCc",
        "outputId": "e6977ffa-0783-45ce-9a34-f1f644fd22bc"
      },
      "outputs": [
        {
          "name": "stdout",
          "output_type": "stream",
          "text": [
            "Sua entrada custa 20 reais.\n",
            "Bem vindo ao rolê! Divirta-se!\n"
          ]
        }
      ],
      "source": [
        "idade = float(input('Qual sua idade?'))\n",
        "\n",
        "if idade < 5:\n",
        "    preco = 0\n",
        "    print(f'Sua entrada custa {preco} reais.')\n",
        "elif idade < 10:\n",
        "    preco = 5\n",
        "    print(f'Sua entrada custa {preco} reais.')\n",
        "elif idade < 18:\n",
        "    preco = 10\n",
        "    print(f'Sua entrada custa {preco} reais.')\n",
        "else: #pode ser substituido por \"elif idade >= 18:\" caso queira omitir o else\n",
        "    preco = 20\n",
        "    print(f'Sua entrada custa {preco} reais.')\n",
        "\n",
        "print('Bem vindo ao rolê! Divirta-se!')"
      ]
    },
    {
      "cell_type": "markdown",
      "metadata": {
        "id": "I7NisGcoWOCd"
      },
      "source": [
        "### 5.2.1. Exercícios"
      ]
    },
    {
      "cell_type": "markdown",
      "metadata": {
        "id": "wX_GM9DSWOCd"
      },
      "source": [
        "5.3 – Cores de alienígenas #1: Suponha que um alienígena acabou de ser atingido em um jogo. Crie uma variável chamada alien_color e atribua-lhe um valor igual a 'green', 'yellow' ou 'red'.\n",
        "\n",
        "- Escreva uma instrução if para testar se a cor do alienígena é verde. Se for, mostre uma mensagem informando que o jogador acabou de ganhar cinco pontos.\n",
        "- Escreva uma versão desse programa em que o teste if passe e outro em que ele falhe. (A versão que falha não terá nenhuma saída.)\n",
        "\n",
        "5.4 – Cores de alienígenas #2: Escolha uma cor para um alienígena, como foi feito no\n",
        "Exercício 5.3, e escreva uma cadeia if-else.\n",
        "\n",
        "- Se a cor do alienígena for verde, mostre uma frase informando que o jogador acabou de ganhar cinco pontos por atingir o alienígena.\n",
        "- Se a cor do alienígena não for verde, mostre uma frase informando que o jogador acabou de ganhar dez pontos.\n",
        "- Escreva uma versão desse programa que execute o bloco if e outro que execute o bloco else."
      ]
    },
    {
      "cell_type": "code",
      "execution_count": null,
      "metadata": {
        "id": "VkHjeSo1WOCe",
        "outputId": "3f52c6dc-cbdc-45a7-954b-38c5a0e10a21"
      },
      "outputs": [
        {
          "name": "stdout",
          "output_type": "stream",
          "text": [
            "Ganhou 5 pts.\n"
          ]
        }
      ],
      "source": [
        "cor = 'verde'\n",
        "#['verde','amarelo','vermelho']\n",
        "\n",
        "if cor == 'verde':\n",
        "    print(\"Ganhou 5 pts.\")\n",
        "else:\n",
        "    print('Ganhou 10 pts.')"
      ]
    },
    {
      "cell_type": "markdown",
      "metadata": {
        "id": "eSZPqaTFWOCe"
      },
      "source": [
        "5.5 – Cores de alienígenas #3: Transforme sua cadeia if-else do Exercício 5.4 em uma cadeia if-elif-else.\n",
        "\n",
        "- Se o alienígena for verde, mostre uma mensagem informando que o jogador ganhou cinco pontos.\n",
        "- Se o alienígena for amarelo, mostre uma mensagem informando que o jogador ganhou dez pontos.\n",
        "- Se o alienígena for vermelho, mostre uma mensagem informando que o jogador ganhou quinze pontos.\n",
        "- Escreva três versões desse programa, garantindo que cada mensagem seja exibida para a cor apropriada do alienígena."
      ]
    },
    {
      "cell_type": "code",
      "execution_count": null,
      "metadata": {
        "id": "EYZ4YW9JWOCf",
        "outputId": "a3e6bca3-dc28-44c3-a31c-edfb364108b6"
      },
      "outputs": [
        {
          "name": "stdout",
          "output_type": "stream",
          "text": [
            "Ganhou 15 pts.\n"
          ]
        }
      ],
      "source": [
        "#cor = 'verde'\n",
        "#cor = 'amarelo'\n",
        "cor = 'vermelho'\n",
        "\n",
        "if cor == 'verde':\n",
        "    print(\"Ganhou 5 pts.\")\n",
        "elif cor == 'amarelo':\n",
        "    print(\"Ganhou 10 pts.\")\n",
        "elif cor == 'vermelho':\n",
        "    print('Ganhou 15 pts.')"
      ]
    },
    {
      "cell_type": "markdown",
      "metadata": {
        "id": "a3nKb5HTWOCf"
      },
      "source": [
        "5.6 – Estágios da vida: Escreva uma cadeia if-elif-else que determine o estágio da vida de uma pessoa. Defina um valor para a variável age e então:\n",
        "\n",
        "- Se a pessoa tiver menos de 2 anos de idade, mostre uma mensagem dizendo que ela é um bebê.\n",
        "- Se a pessoa tiver pelo menos 2 anos, mas menos de 4, mostre uma mensagem dizendo que ela é uma criança.\n",
        "- Se a pessoa tiver pelo menos 4 anos, mas menos de 13, mostre uma mensagem dizendo que ela é um(a) garoto(a).\n",
        "- Se a pessoa tiver pelo menos 13 anos, mas menos de 20, mostre uma mensagem dizendo que ela é um(a) adolescente.\n",
        "- Se a pessoa tiver pelo menos 20 anos, mas menos de 65, mostre uma mensagem dizendo que ela é adulto.\n",
        "- Se a pessoa tiver 65 anos ou mais, mostre uma mensagem dizendo que essa pessoa é idoso."
      ]
    },
    {
      "cell_type": "code",
      "execution_count": null,
      "metadata": {
        "id": "r9xeSMp8WOCg",
        "outputId": "b6471102-4d28-44a9-9eb7-19ab6ef2fa1b"
      },
      "outputs": [
        {
          "name": "stdout",
          "output_type": "stream",
          "text": [
            "Você é um idoso\n"
          ]
        }
      ],
      "source": [
        "idade = int(input(\"Qual sua idade?\"))\n",
        "\n",
        "if idade < 2:\n",
        "    print(\"Você é um bebê.\")\n",
        "elif idade < 4:\n",
        "    print(\"Você é uma criança.\")\n",
        "elif idade < 13:\n",
        "    print(\"Você é um(a) garoto(a).\")\n",
        "elif idade < 20:\n",
        "    print(\"Você é um(a) adolescente.\")\n",
        "elif idade < 65:\n",
        "    print(\"Você é um(a) adulto.\")\n",
        "else:\n",
        "    print(\"Você é um idoso.\")"
      ]
    },
    {
      "cell_type": "markdown",
      "metadata": {
        "id": "kLPVdso0WOCg"
      },
      "source": [
        "5.7 – Fruta favorita: Faça uma lista de suas frutas favoritas e, então, escreva uma série de instruções if independentes que verifiquem se determinadas frutas estão em sua lista.\n",
        "\n",
        "- Crie uma lista com suas três frutas favoritas e chame-a de favorite_fruits.\n",
        "- Escreva cinco instruções if. Cada instrução deve verificar se uma determinada fruta está em sua lista. Se estiver, o bloco if deverá exibir uma frase, por exemplo, Você realmente gosta de bananas!"
      ]
    },
    {
      "cell_type": "code",
      "execution_count": null,
      "metadata": {
        "id": "KRUQiNQyWOCg",
        "outputId": "dc1152f7-774a-4f28-d3d7-e1957e1ed3ed"
      },
      "outputs": [
        {
          "name": "stdout",
          "output_type": "stream",
          "text": [
            "Você realmente gosta de maças.\n",
            "Você realmente gosta de bananas.\n",
            "Você realmente gosta de melancia.\n"
          ]
        }
      ],
      "source": [
        "frutas = ['maça','banana','melancia']\n",
        "\n",
        "if 'maça' in frutas:\n",
        "    print(\"Você realmente gosta de maças.\")\n",
        "if 'banana' in frutas:\n",
        "    print(\"Você realmente gosta de bananas.\")\n",
        "if 'kiwi' in frutas:\n",
        "    print(\"Você realmente gosta de kiwi.\")\n",
        "if 'laranja' in frutas:\n",
        "    print(\"Você realmente gosta de laranja.\")\n",
        "if 'melancia' in frutas:\n",
        "    print(\"Você realmente gosta de melancia.\")"
      ]
    },
    {
      "cell_type": "markdown",
      "metadata": {
        "id": "jDa4PdttWOCh"
      },
      "source": [
        "### 5.2.2. Condicionais e Listas"
      ]
    },
    {
      "cell_type": "markdown",
      "metadata": {
        "id": "3IpWgC2hWOCi"
      },
      "source": [
        "Algumas tarefas interessantes podem ser feitas se combinarmos listas com instruções if. Podemos prestar atenção em valores especiais, que devam ser tratados de modo diferente de outros valores da lista."
      ]
    },
    {
      "cell_type": "code",
      "execution_count": null,
      "metadata": {
        "id": "WE97WYANWOCi"
      },
      "outputs": [],
      "source": [
        "adicionais = ['milho','bacon','azeitona','mussarela']\n",
        "\n",
        "#colocando adicionais na pizza:\n",
        "for ingr in adicionais:\n",
        "    print(ingr.title(),\"Adicionado à sua pizza\")\n",
        "print(\"Pizza finalizada!\")\n",
        "print(\"\\n\")\n",
        "\n",
        "#inserindo o condicional if:\n",
        "for ingr in adicionais:\n",
        "    if ingr == 'bacon':\n",
        "        print(\"Foi mal, estamos sem \",ingr)\n",
        "    else:\n",
        "        print(ingr.title(),\"Adicionado à sua pizza\")\n",
        "print(\"Pizza finalizada!\")"
      ]
    },
    {
      "cell_type": "markdown",
      "metadata": {
        "id": "xPiL_9VwWOCi"
      },
      "source": [
        "Podemos introduzir um testes de verificação para averiguar se a lista esta vazia:"
      ]
    },
    {
      "cell_type": "code",
      "execution_count": null,
      "metadata": {
        "id": "iCxCNP7RWOCi"
      },
      "outputs": [],
      "source": [
        "adicionais = ['milho','bacon','azeitona','mussarela']\n",
        "#dicionais = []\n",
        "\n",
        "if adicionais:\n",
        "    for ingr in adicionais:\n",
        "        print(ingr.title(),\"foi adicionado à sua pizza.\")\n",
        "else:\n",
        "    print(\"Tem certeza que deseja uma pizza sem nada?\")\n",
        "\n",
        "print(\"Sua pizza está pronta!\")"
      ]
    },
    {
      "cell_type": "markdown",
      "metadata": {
        "id": "UY9xzeraWOCj"
      },
      "source": [
        "Também podemos comparar se o adicional pedido está na lista dos adicionais disponíveis"
      ]
    },
    {
      "cell_type": "code",
      "execution_count": null,
      "metadata": {
        "id": "8ippvLM-WOCj",
        "outputId": "7fef98d5-77f0-45ff-c1c1-514cb515aa22"
      },
      "outputs": [
        {
          "name": "stdout",
          "output_type": "stream",
          "text": [
            "Lamento Feijoada não está disponível!\n",
            "Milho adicionado à sua pizza!\n",
            "Bacon adicionado à sua pizza!\n",
            "Azeitona adicionado à sua pizza!\n",
            "Mussarela adicionado à sua pizza!\n"
          ]
        }
      ],
      "source": [
        "disponiveis = ['milho','azeitona','bacon','picles','azeitona','mussarela','presunto']\n",
        "adicionais = ['feijoada','milho','bacon','azeitona','mussarela']\n",
        "#adicionais = []\n",
        "\n",
        "if adicionais: #verifica se a lista de adicionais está vazia\n",
        "    for ingr in adicionais:\n",
        "        if ingr in disponiveis: #verifica se o ingrediente está disponível\n",
        "            print(ingr.title(),\"adicionado à sua pizza!\")\n",
        "        else:\n",
        "            print(\"Lamento\",ingr.title(),\"não está disponível!\")\n",
        "else:\n",
        "    print(\"Você quer uma pizza sem nada???\")"
      ]
    },
    {
      "cell_type": "markdown",
      "metadata": {
        "id": "nQ7GzQz4WOCk"
      },
      "source": [
        "### 5.2.3. Exercícios"
      ]
    },
    {
      "cell_type": "markdown",
      "metadata": {
        "id": "5PFlnOEFWOCk"
      },
      "source": [
        "5.8 – Olá admin: Crie uma lista com cinco ou mais nomes de usuários, incluindo o nome 'admin'. Suponha que você esteja escrevendo um código que exibirá uma saudação a cada usuário depois que eles fizerem login em um site. Percorra a lista com um laço e mostre uma saudação para cada usuário:\n",
        "\n",
        "- Se o nome do usuário for 'admin', mostre uma saudação especial, por exemplo, Olá admin, gostaria de ver um relatório de status?\n",
        "- Caso contrário, mostre uma saudação genérica, como Olá Eric, obrigado por fazer login novamente."
      ]
    },
    {
      "cell_type": "code",
      "execution_count": null,
      "metadata": {
        "id": "Du2LHRJmWOCk",
        "outputId": "0a69a1f4-b3de-4f53-ce15-94589f7a7192"
      },
      "outputs": [
        {
          "name": "stdout",
          "output_type": "stream",
          "text": [
            "Olá, como vai João ?\n",
            "Olá Admin gostaria de ver um relatório de status?\n",
            "Olá, como vai José ?\n",
            "Olá, como vai Paulo ?\n",
            "Olá, como vai Carlos ?\n"
          ]
        }
      ],
      "source": [
        "users = ['joão','admin','josé','paulo','carlos']\n",
        "for user in users:\n",
        "    if user.lower() == 'admin':\n",
        "        print('Olá',user.title(), 'gostaria de ver um relatório de status?')\n",
        "    else:\n",
        "        print('Olá, como vai', user.title(),'?')"
      ]
    },
    {
      "cell_type": "markdown",
      "metadata": {
        "id": "3jbcHdRmWOCk"
      },
      "source": [
        "5.9 – Sem usuários: Acrescente um teste if em hello_admin.py para garantir que a lista de usuários não esteja vazia.\n",
        "\n",
        "- Se a lista estiver vazia, mostre a mensagem Precisamos encontrar alguns usuários!\n",
        "- Remova todos os nomes de usuário de sua lista e certifique-se de que a mensagem correta seja exibida."
      ]
    },
    {
      "cell_type": "code",
      "execution_count": null,
      "metadata": {
        "id": "2Vx8hN-lWOCk",
        "outputId": "5fa628b4-b2b4-412e-ed7d-0c06b6cebe24"
      },
      "outputs": [
        {
          "name": "stdout",
          "output_type": "stream",
          "text": [
            "Olá, como vai João ?\n",
            "Olá Admin gostaria de ver um relatório de status?\n",
            "Olá, como vai José ?\n",
            "Olá, como vai Paulo ?\n",
            "Olá, como vai Carlos ?\n"
          ]
        }
      ],
      "source": [
        "users = ['joão','admin','josé','paulo','carlos']\n",
        "#users = []\n",
        "\n",
        "if users:\n",
        "    for user in users:\n",
        "        if user.lower() == 'admin':\n",
        "            print('Olá',user.title(), 'gostaria de ver um relatório de status?')\n",
        "        else:\n",
        "            print('Olá, como vai', user.title(),'?')\n",
        "else:\n",
        "    print('Precisamos encontrar novos usuários!')"
      ]
    },
    {
      "cell_type": "markdown",
      "metadata": {
        "id": "1N_81Q0NWOCl"
      },
      "source": [
        "5.10 – Verificando nomes de usuários: Faça o seguinte para criar um programa que simule o modo como os sites garantem que todos tenham um nome de usuário único.\n",
        "\n",
        "- Crie uma lista chamada current_users com cinco ou mais nomes de usuários.\n",
        "- Crie outra lista chamada new_users com cinco nomes de usuários. Garanta que um ou dois dos novos usuários também estejam na lista current_users.\n",
        "- Percorra a lista new_users com um laço para ver se cada novo nome de usuário já foi usado. Em caso afirmativo, mostre uma mensagem informando que a pessoa deverá fornecer um novo nome. Se um nome de usuário não foi usado, apresente uma mensagem dizendo que o nome do usuário está\n",
        "disponível.\n",
        "- Certifique-se de que sua comparação não levará em conta as diferenças entre letras maiúsculas e minúsculas. Se 'John' foi usado, 'JOHN' não deverá ser aceito."
      ]
    },
    {
      "cell_type": "code",
      "execution_count": null,
      "metadata": {
        "id": "C3pHBg8VWOCl",
        "outputId": "7410691b-b850-4a43-a334-9756e3aaf164"
      },
      "outputs": [
        {
          "name": "stdout",
          "output_type": "stream",
          "text": [
            " Base antiga: ['joão', 'mario', 'josé', 'paulo', 'carlos'] \n",
            "\n",
            "joão já está cadastrado em nossa base!\n",
            "Mario já está cadastrado em nossa base!\n",
            "marcia foi adicionado à nossa base\n",
            "\n",
            " Base atualizada: ['joão', 'mario', 'josé', 'paulo', 'carlos', 'marcia']\n"
          ]
        }
      ],
      "source": [
        "users = ['joão','mario','josé','paulo','carlos']\n",
        "print(' Base antiga:', users,'\\n')\n",
        "\n",
        "novos_users = ['joão','Mario','marcia']\n",
        "\n",
        "for n_user in novos_users:\n",
        "    if n_user.lower() in users:\n",
        "        print(n_user,'já está cadastrado em nossa base!')\n",
        "    else:\n",
        "        print(n_user.lower(),'foi adicionado à nossa base')\n",
        "        users.append(n_user)\n",
        "\n",
        "print('\\n','Base atualizada:', users)"
      ]
    },
    {
      "cell_type": "markdown",
      "metadata": {
        "id": "DckwJPrXWOCl"
      },
      "source": [
        "5.11 – Números ordinais: Números ordinais indicam sua posição em uma lista, por exemplo, 1st ou 2nd, em inglês. A maioria dos números ordinais nessa língua termina com th, exceto 1, 2 e 3.\n",
        "\n",
        "- Armazene os números de 1 a 9 em uma lista.\n",
        "- Percorra a lista com um laço.\n",
        "- Use uma cadeia if-elif-else no laço para exibir a terminação apropriada para cada número ordinal. Sua saída deverá conter \"1st 2nd 3rd 4th 5th 6th 7th 8th 9th\", e cada resultado deve estar em uma linha separada."
      ]
    },
    {
      "cell_type": "code",
      "execution_count": null,
      "metadata": {
        "id": "asKNxejPWOCm",
        "outputId": "1926837f-68d2-461d-8a8d-9be111b29067"
      },
      "outputs": [
        {
          "name": "stdout",
          "output_type": "stream",
          "text": [
            "[1, 2, 3, 4, 5, 6, 7, 8, 9]\n",
            "1 st\n",
            "2 nd\n",
            "3 rd\n",
            "4 th\n",
            "5 th\n",
            "6 th\n",
            "7 th\n",
            "8 th\n",
            "9 th\n"
          ]
        }
      ],
      "source": [
        "num = [x for x in range(1, 10)]\n",
        "print(num)\n",
        "\n",
        "for n in num:\n",
        "    if n == 1:\n",
        "        print(n,'st')\n",
        "    elif n == 2:\n",
        "        print(n,'nd')\n",
        "    elif n == 3:\n",
        "        print(n,'rd')\n",
        "    else:\n",
        "        print(n,'th')"
      ]
    },
    {
      "cell_type": "markdown",
      "metadata": {
        "id": "opZPRPJZ2Yu3"
      },
      "source": [
        "# Capítulo 6. Dicionários"
      ]
    },
    {
      "cell_type": "markdown",
      "metadata": {
        "id": "7PqWhQuq2Yu6"
      },
      "source": [
        "Neste capítulo aprenderemos a usar dicionários Python, que permitem conectar informações relacionadas. Veremos como acessar as informações depois que elas estiverem em um dicionário e modificá-las. Pelo fato de os dicionários serem capazes de armazenar uma quantidade quase ilimitada de informações, mostraremos como percorrer os dados de um dicionário com um laço. Além disso, aprenderemos a aninhar dicionários em listas, listas em dicionários e até mesmo dicionários em outros dicionários."
      ]
    },
    {
      "cell_type": "markdown",
      "metadata": {
        "id": "BFqNv6l82Yu8"
      },
      "source": [
        "## 6.1. Um dicionário simples"
      ]
    },
    {
      "cell_type": "markdown",
      "metadata": {
        "id": "gRwO1Fu_2Yu9"
      },
      "source": [
        "Um dicionário em Python é uma coleção de pares chave-valor. Cada chave é conectada a um valor, e você pode usar uma chave para acessar o valor associado a ela. O valor de uma chave pode ser um número, uma string, uma lista ou até mesmo outro dicionário. De fato, podemos usar qualquer objeto que possa ser criado em Python como valor de um dicionário.\n",
        "\n",
        "Em Python, um dicionário é representado entre chaves, {}, com uma série de pares chave-valor entre elas, como mostramos no exemplo anterior: alien_0 = {'color': 'green', 'points': 5}. Um par chave-valor é um conjunto de valores associados um ao outro.\n",
        "\n",
        "Quando fornecemos uma chave, Python devolve o valor associado a essa chave. Toda chave é associada a seu valor por meio de dois-pontos, e pares chave-valor individuais são separados por vírgulas. Podemos armazenar quantos pares chave-valor quisermos em um dicionário."
      ]
    },
    {
      "cell_type": "code",
      "execution_count": null,
      "metadata": {
        "id": "gD2N05Qu2Yu_",
        "outputId": "6a6f0b97-9bc8-42ed-efcb-88c340d7df69"
      },
      "outputs": [
        {
          "name": "stdout",
          "output_type": "stream",
          "text": [
            "Dicionário: {'cor': 'verde', 'pontos': 5}\n",
            "valor da chave \"cor\": verde\n",
            "valor da chave \"pontos\": 5\n"
          ]
        }
      ],
      "source": [
        "#criando um dicionário\n",
        "alien_0 = {'cor':'verde','pontos':5}\n",
        "print('Dicionário:',alien_0)\n",
        "\n",
        "#acessando seus elementos\n",
        "print('valor da chave \"cor\":',alien_0['cor'])\n",
        "print('valor da chave \"pontos\":',alien_0['pontos'])"
      ]
    },
    {
      "cell_type": "markdown",
      "metadata": {
        "id": "HqE9nUic2YvA"
      },
      "source": [
        "Dicionários são estruturas dinâmicas, e você pode adicionar novos pares chave-valor a um dicionário a qualquer momento. Por exemplo, para acrescentar um novo par chave-valor, especifique o nome do dicionário, seguido da nova chave entre colchetes, juntamente com o novo valor."
      ]
    },
    {
      "cell_type": "code",
      "execution_count": null,
      "metadata": {
        "id": "asuNUTUu2YvB",
        "outputId": "f14b54b1-88da-4b4f-89f1-e8837103975f"
      },
      "outputs": [
        {
          "name": "stdout",
          "output_type": "stream",
          "text": [
            "Dicionário: {'cor': 'verde', 'pontos': 5}\n",
            "Dicionário atualizado: {'cor': 'verde', 'pontos': 5, 'x_pos': 0, 'y_pos': 25}\n"
          ]
        }
      ],
      "source": [
        "#criando um dicionário\n",
        "alien_0 = {'cor':'verde','pontos':5}\n",
        "print('Dicionário:',alien_0)\n",
        "\n",
        "#adicionando pares chave-valor\n",
        "alien_0['x_pos'] = 0\n",
        "alien_0['y_pos'] = 25\n",
        "print('Dicionário atualizado:',alien_0)"
      ]
    },
    {
      "cell_type": "markdown",
      "metadata": {
        "id": "uL5Nx-NN2YvC"
      },
      "source": [
        "Python não se importa com a ordem em que armazenamos\n",
        "cada par chave-valor; ele só se importa com a conexão entre cada chave e seu valor."
      ]
    },
    {
      "cell_type": "markdown",
      "metadata": {
        "id": "JzDuifPD2YvD"
      },
      "source": [
        "### 6.1.1. Começando com um dicionário vazio"
      ]
    },
    {
      "cell_type": "code",
      "execution_count": null,
      "metadata": {
        "id": "rzkY7X2A2YvE",
        "outputId": "4f1bc1c1-4319-4e0a-a8a7-15dfa75634ae"
      },
      "outputs": [
        {
          "name": "stdout",
          "output_type": "stream",
          "text": [
            "Dicionário vazio: {}\n",
            "Dicionário adicionando chaves: {'cor': 'verde', 'pontos': 5}\n",
            "Dicionário chaves alteradas: {'cor': 'rosa', 'pontos': 10}\n"
          ]
        }
      ],
      "source": [
        "#criando um dicionário vazio\n",
        "alien_0 = {}\n",
        "print('Dicionário vazio:',alien_0)\n",
        "\n",
        "#adicionando chaves e seus valores\n",
        "alien_0['cor'] = 'verde'\n",
        "alien_0['pontos'] = 5\n",
        "print('Dicionário adicionando chaves:',alien_0)\n",
        "\n",
        "#modificando valores em um dicionário\n",
        "alien_0['cor'] = 'rosa'\n",
        "alien_0['pontos'] = 10\n",
        "print('Dicionário chaves alteradas:',alien_0)\n"
      ]
    },
    {
      "cell_type": "markdown",
      "metadata": {
        "id": "sRf-Rt-u2YvE"
      },
      "source": [
        "Para ver um exemplo mais interessante, vamos monitorar a posição de um alienígena que pode se deslocar com velocidades diferentes. Armazenaremos um valor que representa a velocidade atual do alienígena e, então, usaremos esse valor para determinar a distância que o alienígena deve se mover para a direita:"
      ]
    },
    {
      "cell_type": "code",
      "execution_count": null,
      "metadata": {
        "id": "C4IcXYBr2YvG",
        "outputId": "48ac5349-78dd-4eff-9fa4-7ae46ba8474e"
      },
      "outputs": [
        {
          "name": "stdout",
          "output_type": "stream",
          "text": [
            "Start: {'t': 0, 'x': 10, 'y': 20, 'vx': 'lento', 'vy': 'lento'}\n",
            "Final: {'t': 10, 'x': 55, 'y': 65, 'vx': 'lento', 'vy': 'lento'}\n"
          ]
        }
      ],
      "source": [
        "#criando o dicionário\n",
        "alien_0 = {'t':0,'x':10,'y':20,'vx':'lento','vy':'lento'}\n",
        "\n",
        "print('Start:',alien_0)\n",
        "\n",
        "for t in range(1,10):\n",
        "    #incremento da posição x\n",
        "    if alien_0['vx'] == 'lento':\n",
        "        dx = 1\n",
        "        alien_0['x'] = alien_0['x'] + dx*t\n",
        "        alien_0['t'] = t + 1\n",
        "    elif alien_0['vx'] == 'medio':\n",
        "        dx = 2\n",
        "        alien_0['x'] = alien_0['x'] + dx*t\n",
        "        alien_0['t'] = t + 1\n",
        "    elif alien_0['vx'] == 'rapido':\n",
        "        dx = 3\n",
        "        alien_0['x'] = alien_0['x'] + dx*t\n",
        "        alien_0['t'] = t + 1\n",
        "    #incremento da posição y\n",
        "    if alien_0['vy'] == 'lento':\n",
        "        dy = 1\n",
        "        alien_0['y'] = alien_0['y'] + dy*t\n",
        "        alien_0['t'] = t + 1\n",
        "    elif alien_0['vy'] == 'medio':\n",
        "        dy = 2\n",
        "        alien_0['y'] = alien_0['y'] + dy*t\n",
        "        alien_0['t'] = t + 1\n",
        "    elif alien_0['vy'] == 'rapido':\n",
        "        dy = 3\n",
        "        alien_0['y'] = alien_0['y'] + dy*t\n",
        "        alien_0['t'] = t + 1\n",
        "\n",
        "print('Final:',alien_0)\n"
      ]
    },
    {
      "cell_type": "markdown",
      "metadata": {
        "id": "6Z2e7tvh2YvG"
      },
      "source": [
        "Quando não houver mais necessidade de uma informação armazenada em um dicionário, podemos usar a instrução del para remover totalmente um par chave-valor. Tudo de que del precisa é do nome do dicionário e da chave que você deseja remover."
      ]
    },
    {
      "cell_type": "code",
      "execution_count": null,
      "metadata": {
        "id": "ynyTmtoS2YvG",
        "outputId": "046615df-a782-48ad-bcbd-4ae0829de9d1"
      },
      "outputs": [
        {
          "name": "stdout",
          "output_type": "stream",
          "text": [
            "{'cor': 'verde', 'pontos': 5}\n",
            "{'pontos': 5}\n",
            "{}\n"
          ]
        }
      ],
      "source": [
        "alien_0 = {'cor':'verde','pontos':5}\n",
        "print(alien_0)\n",
        "\n",
        "del alien_0['cor']\n",
        "print(alien_0)\n",
        "\n",
        "del alien_0['pontos']\n",
        "print(alien_0)"
      ]
    },
    {
      "cell_type": "markdown",
      "metadata": {
        "id": "XpaIymfl2YvH"
      },
      "source": [
        "Quando souber que precisará de mais de uma linha para definir um dicionário, tecle ENTER depois da chave de abertura. Em seguida, indente a próxima linha em um nível (quatro espaços) e escreva o primeiro par chave-valor, seguido de uma vírgula. A partir desse ponto, quando pressionar ENTER, seu editor de texto deverá indentar automaticamente todos os pares chave-valor subsequentes para que estejam de acordo com o primeiro par chave-valor."
      ]
    },
    {
      "cell_type": "code",
      "execution_count": null,
      "metadata": {
        "id": "q5BcsnJM2YvH",
        "outputId": "f2d1ffc0-4d55-4d2f-8f51-66a3be2b977f"
      },
      "outputs": [
        {
          "name": "stdout",
          "output_type": "stream",
          "text": [
            "{'mario': 'python', 'alícia': 'javascript', 'véia': 'c#', 'véio': 'java', 'marlon': 'ruby', 'gabriel': 'node', 'alguem': 'c'}\n"
          ]
        }
      ],
      "source": [
        "fav_ling = {\n",
        "    'mario':'python','alícia':'javascript',\n",
        "    'véia':'c#','véio':'java','marlon':'ruby',\n",
        "    'gabriel':'node','alguem':'c'\n",
        "}\n",
        "print(fav_ling)"
      ]
    },
    {
      "cell_type": "markdown",
      "metadata": {
        "id": "VdAae7Dy2YvH"
      },
      "source": [
        "### 6.1.2. Exercícios"
      ]
    },
    {
      "cell_type": "markdown",
      "metadata": {
        "id": "4t3a2vUq2YvI"
      },
      "source": [
        "6.1 – Pessoa: Use um dicionário para armazenar informações sobre uma pessoa que você conheça. Armazene seu primeiro nome, o sobrenome, a idade e a cidade em que ela vive. Você deverá ter chaves como first_name, last_name, age e city. Mostre cada informação armazenada em seu dicionário."
      ]
    },
    {
      "cell_type": "code",
      "execution_count": null,
      "metadata": {
        "id": "1ZdwoNQV2YvJ",
        "outputId": "d52fbc33-b229-45c9-caf6-e676416f999c"
      },
      "outputs": [
        {
          "name": "stdout",
          "output_type": "stream",
          "text": [
            "nome : mário\n",
            "sobrenome : miguel\n",
            "idade : 27\n",
            "cidade : juatuba\n"
          ]
        }
      ],
      "source": [
        "pessoa = {'nome':'mário','sobrenome':'miguel','idade':'27','cidade':'juatuba'}\n",
        "\n",
        "for chave in pessoa: #para cada \"chave\" em \"pessoa\"\n",
        "    print(chave,':',pessoa.get(chave)) #exiba \"chave\":\"valor\""
      ]
    },
    {
      "cell_type": "markdown",
      "metadata": {
        "id": "U5M5e2yf2YvJ"
      },
      "source": [
        "6.2 – Números favoritos: Use um dicionário para armazenar os números favoritos de algumas pessoas. Pense em cinco nomes e use-os como chaves em seu dicionário. Pense em um número favorito para cada pessoa e armazene cada um como um valor em seu dicionário. Exiba o nome de cada pessoa e seu número favorito. Para que seja mais divertido ainda, faça uma enquete com alguns amigos e obtenha alguns dados reais para o seu programa."
      ]
    },
    {
      "cell_type": "code",
      "execution_count": null,
      "metadata": {
        "id": "C9j8EYBu2YvK",
        "outputId": "79d731c1-b7e7-42f1-8a7d-e3b2685ffaa6"
      },
      "outputs": [
        {
          "name": "stdout",
          "output_type": "stream",
          "text": [
            "José , cujo o nº favorito é: 1\n",
            "Luís , cujo o nº favorito é: 13\n",
            "Jair , cujo o nº favorito é: 22\n",
            "Carl , cujo o nº favorito é: 6\n",
            "Zig , cujo o nº favorito é: 1\n"
          ]
        }
      ],
      "source": [
        "fav_num = {'josé':1,'luís':13,'jair':22,'carl':6, 'zig':1}\n",
        "\n",
        "for chave in fav_num:\n",
        "    print(chave.title(),', cujo o nº favorito é:',fav_num.get(chave))"
      ]
    },
    {
      "cell_type": "markdown",
      "metadata": {
        "id": "8RutoiZP2YvK"
      },
      "source": [
        "6.3 – Glossário: Um dicionário Python pode ser usado para modelar um dicionário de verdade. No entanto, para evitar confusão, vamos chamá-lo de glossário.\n",
        "\n",
        "- Pense em cinco palavras relacionadas à programação que você conheceu nos capítulos anteriores. Use essas palavras como chaves em seu glossário e armazene seus significados como valores.\n",
        "- Mostre cada palavra e seu significado em uma saída formatada de modo elegante. Você pode exibir a palavra seguida de dois-pontos e depois o seu significado, ou apresentar a palavra em uma linha e então exibir seu\n",
        "significado indentado em uma segunda linha. Utilize o caractere de quebra de linha (\\n) para inserir uma linha em branco entre cada par palavra-significado em sua saída."
      ]
    },
    {
      "cell_type": "code",
      "execution_count": null,
      "metadata": {
        "id": "B5o4R2fi2YvL",
        "outputId": "8b307793-ad00-4ade-83d8-3e633b2e8915"
      },
      "outputs": [
        {
          "name": "stdout",
          "output_type": "stream",
          "text": [
            "1 . Front-end : Desenvolvimento da interface do usuário e experiência visual de um aplicativo ou site.\n",
            "\n",
            "\n",
            "2 . Back-end : Gerenciamento de servidores, bancos de dados e lógica de aplicação que suportam a parte visível ao usuário.\n",
            "\n",
            "\n",
            "3 . Análise de dados : Processamento e interpretação de dados para obter insights e suportar decisões empresariais.\n",
            "\n",
            "\n",
            "4 . Ciência de dados : Uso de métodos estatísticos e algoritmos para extrair conhecimento e previsões a partir de dados complexos.\n",
            "\n",
            "\n",
            "5 . Engenharia de dados : Construção e manutenção de infraestrutura e pipelines para coletar, armazenar e processar grandes volumes de dados.\n",
            "\n",
            "\n"
          ]
        }
      ],
      "source": [
        "glossario = {\n",
        "    \"Front-end\":\"Desenvolvimento da interface do usuário e experiência visual de um aplicativo ou site.\",\n",
        "    \"Back-end\":\"Gerenciamento de servidores, bancos de dados e lógica de aplicação que suportam a parte visível ao usuário.\",\n",
        "    \"Análise de dados\": \"Processamento e interpretação de dados para obter insights e suportar decisões empresariais.\",\n",
        "    \"Ciência de dados\": \"Uso de métodos estatísticos e algoritmos para extrair conhecimento e previsões a partir de dados complexos.\",\n",
        "    \"Engenharia de dados\": \"Construção e manutenção de infraestrutura e pipelines para coletar, armazenar e processar grandes volumes de dados.\"\n",
        "}\n",
        "\n",
        "i = 1\n",
        "for chave in glossario:\n",
        "  Exercícios  print(i,'.',chave,\":\",glossario.get(chave))\n",
        "    print('\\n')\n",
        "    i += 1"
      ]
    },
    {
      "cell_type": "markdown",
      "metadata": {
        "id": "bXFyBxIj2YvL"
      },
      "source": [
        "## 6.2. Percorrendo um dicionário com um laço"
      ]
    },
    {
      "cell_type": "markdown",
      "metadata": {
        "id": "-Jydslgy2YvL"
      },
      "source": [
        "Um único dicionário Python pode conter apenas alguns pares chave-valor ou milhões deles. Como um dicionário pode conter uma grande quantidade de dados, Python permite percorrer um dicionário com um laço. Dicionários podem ser usados para armazenar informações de várias maneiras; assim, há diversos modos diferentes de percorrê-los com um laço. Podemos percorrer todos os pares chave-valor de um dicionário usando suas chaves ou seus valores."
      ]
    },
    {
      "cell_type": "markdown",
      "metadata": {
        "id": "fSLbkM592YvM"
      },
      "source": [
        "`dicionario.itens()`: Retorna uma visão dos pares chave-valor do dicionário como tuplas.\n",
        "\n",
        "`dicionario.keys()`: Retorna uma visão de todas as chaves do dicionário.\n",
        "\n",
        "`dicionario.values()`: Retorna uma visão de todos os valores do dicionário.\n",
        "\n",
        "`dicionario.get(chave, valor_padrao=None)`: Retorna o valor para a chave especificada, ou valor_padrao se a chave não existir"
      ]
    },
    {
      "cell_type": "code",
      "execution_count": null,
      "metadata": {
        "id": "qFc-b8nj2YvM"
      },
      "outputs": [],
      "source": [
        "#criando o dicionário\n",
        "user_0 = {'nick':'darth_marius','nome':'mário','sobrenome':'miguel'}\n",
        "print('Dicionário:',user_0,'\\n')\n",
        "\n",
        "#exibindo todas as chaves\n",
        "print('Lista de chaves:')\n",
        "for k in user_0.keys():\n",
        "    print('Chave:',k)\n",
        "print('\\n')\n",
        "\n",
        "#exibindo todos os valores\n",
        "print('Lista de valores:')\n",
        "for v in user_0.values():\n",
        "    print('Valor',v)\n",
        "print('\\n')\n",
        "\n",
        "#percorrendo o dicionário\n",
        "print('Lista de chaves-valores:')\n",
        "for k,v in user_0.items():\n",
        "    print(\"Chave:\" + k + \"\\tValor:\" + v)"
      ]
    },
    {
      "cell_type": "markdown",
      "metadata": {
        "id": "sCJJdjHi2YvM"
      },
      "source": [
        "6.4 – Glossário 2: Agora que você já sabe como percorrer um dicionário com um laço, limpe o código do Exercício 6.3 (página 148), substituindo sua sequência de instruções print por um laço que percorra as chaves e os valores do dicionário. Quando tiver certeza de que seu laço funciona acrescente mais cinco termos de Python ao seu glossário. Ao executar seu programa novamente, essas palavras e significados novos deverão ser automaticamente incluídos na saída."
      ]
    },
    {
      "cell_type": "code",
      "execution_count": null,
      "metadata": {
        "id": "dX4d6mwP2YvM",
        "outputId": "42d86b06-94e7-400a-cccb-06ff913a1ab4"
      },
      "outputs": [
        {
          "name": "stdout",
          "output_type": "stream",
          "text": [
            "1 . Front-end : Desenvolvimento da interface do usuário e experiência visual de um aplicativo ou site.\n",
            "2 . Back-end : Gerenciamento de servidores, bancos de dados e lógica de aplicação que suportam a parte visível ao usuário.\n",
            "3 . Análise de dados : Processamento e interpretação de dados para obter insights e suportar decisões empresariais.\n",
            "4 . Ciência de dados : Uso de métodos estatísticos e algoritmos para extrair conhecimento e previsões a partir de dados complexos.\n",
            "5 . Engenharia de dados : Construção e manutenção de infraestrutura e pipelines para coletar, armazenar e processar grandes volumes de dados.\n"
          ]
        }
      ],
      "source": [
        "#criando o dicionário\n",
        "glossario = {\n",
        "    \"Front-end\":\"Desenvolvimento da interface do usuário e experiência visual de um aplicativo ou site.\",\n",
        "    \"Back-end\":\"Gerenciamento de servidores, bancos de dados e lógica de aplicação que suportam a parte visível ao usuário.\",\n",
        "    \"Análise de dados\": \"Processamento e interpretação de dados para obter insights e suportar decisões empresariais.\",\n",
        "    \"Ciência de dados\": \"Uso de métodos estatísticos e algoritmos para extrair conhecimento e previsões a partir de dados complexos.\",\n",
        "    \"Engenharia de dados\": \"Construção e manutenção de infraestrutura e pipelines para coletar, armazenar e processar grandes volumes de dados.\"\n",
        "}\n",
        "#percorrendo  o dicionário\n",
        "i = 1\n",
        "for k,v in glossario.items():\n",
        "    print(i,\".\",k,\":\",v)\n",
        "    i += 1"
      ]
    },
    {
      "cell_type": "markdown",
      "metadata": {
        "id": "BOy35ZL82YvN"
      },
      "source": [
        "6.5 – Rios: Crie um dicionário que contenha três rios importantes e o país que cada rio corta. Um par chave-valor poderia ser 'nilo': 'egito'.\n",
        "\n",
        "- Use um laço para exibir uma frase sobre cada rio, por exemplo, O Nilo corre pelo Egito.\n",
        "- Use um laço para exibir o nome de cada rio incluído no dicionário.\n",
        "- Use um laço para exibir o nome de cada país incluído no dicionário."
      ]
    },
    {
      "cell_type": "code",
      "execution_count": null,
      "metadata": {
        "id": "PqYPO_x42YvN"
      },
      "outputs": [],
      "source": [
        "rios = {'nilo':'egito','amazônas':'brasil','amarelo':'china'}\n",
        "\n",
        "print('Chaves-Valores:')\n",
        "for k,v in rios.items():\n",
        "    print('O rio ' + k.title() + ' fica no(a) ' + v.title() )\n",
        "print('\\n')\n",
        "\n",
        "print('Chaves:')\n",
        "for k in rios.keys():\n",
        "    print('Rio:',k.title())\n",
        "print('\\n')\n",
        "\n",
        "print('Valores:')\n",
        "for v in rios.values():\n",
        "    print('País:',v.title())"
      ]
    },
    {
      "cell_type": "markdown",
      "metadata": {
        "id": "D-wHbnRy2YvO"
      },
      "source": [
        "6.6 – Enquete: Utilize o código em favorite_languages.py\n",
        "\n",
        "- Crie uma lista de pessoas que devam participar da enquete sobre linguagem favorita. Inclua alguns nomes que já estejam no dicionário e outros que não estão.\n",
        "- Percorra a lista de pessoas que devem participar da enquete. Se elas já tiverem respondido à enquete, mostre uma mensagem agradecendo-lhes por responder. Se ainda não participaram da enquete, apresente uma mensagem convidando-as a responder."
      ]
    },
    {
      "cell_type": "code",
      "execution_count": null,
      "metadata": {
        "id": "R1htQIqu2YvO",
        "outputId": "f3b3d8ee-67dc-4145-c79c-451a8d24f4f2"
      },
      "outputs": [
        {
          "name": "stdout",
          "output_type": "stream",
          "text": [
            "José Você já participou da enquete, suma daqui!\n",
            "Luís Você já participou da enquete, suma daqui!\n",
            "Olá Paulo gostaria de responder a uma enquete?\n",
            "Olá Mário gostaria de responder a uma enquete?\n",
            "Carl Você já participou da enquete, suma daqui!\n",
            "Zig Você já participou da enquete, suma daqui!\n",
            "Olá Ester gostaria de responder a uma enquete?\n",
            "Jair Você já participou da enquete, suma daqui!\n"
          ]
        }
      ],
      "source": [
        "nomes = ['josé','luís','paulo','mário','carl','zig','ester','jair']\n",
        "fav_num = {'josé':1,'luís':13,'jair':22,'carl':6, 'zig':1}\n",
        "\n",
        "for nome in nomes:\n",
        "    if nome in fav_num.keys():\n",
        "        print(nome.title() + ' Você já participou da enquete, suma daqui!')\n",
        "    else:\n",
        "        print('Olá ' + nome.title() + ' gostaria de responder a uma enquete?')"
      ]
    },
    {
      "cell_type": "markdown",
      "metadata": {
        "id": "ENJ0mB_i2YvP"
      },
      "source": [
        "## 6.3. Informações aninhadas"
      ]
    },
    {
      "cell_type": "markdown",
      "metadata": {
        "id": "1z1L8Krq2YvP"
      },
      "source": [
        "Às vezes, você vai querer armazenar um conjunto de dicionários em uma lista ou uma lista de itens como um valor em um dicionário. Isso é conhecido como aninhar informações. Podemos aninhar um conjunto de dicionários em uma lista, uma lista de itens em um dicionário ou até mesmo um dicionário em outro dicionário. Aninhar informações é um recurso eficaz, como mostrarão os próximos exemplos."
      ]
    },
    {
      "cell_type": "markdown",
      "metadata": {
        "id": "72Bg-Ivy2YvP"
      },
      "source": [
        "### 6.3.1. Lista de dicionários"
      ]
    },
    {
      "cell_type": "markdown",
      "metadata": {
        "id": "0Srf-hhQ2YvP"
      },
      "source": [
        "Criando manualmente"
      ]
    },
    {
      "cell_type": "code",
      "execution_count": null,
      "metadata": {
        "id": "zF5Rli0Y2YvP",
        "outputId": "32a063fe-6323-494f-f343-9ca0f65a019f"
      },
      "outputs": [
        {
          "name": "stdout",
          "output_type": "stream",
          "text": [
            "Alien 1: {'cor': 'vermelho', 'pontos': 15}\n",
            "Alien 2: {'cor': 'amarelo', 'pontos': 10}\n",
            "Alien 3: {'cor': 'verde', 'pontos': 5}\n"
          ]
        }
      ],
      "source": [
        "#dicionários de aliens\n",
        "alien_0 = {'cor':'vermelho','pontos':15}\n",
        "alien_1 = {'cor':'amarelo','pontos':10}\n",
        "alien_2 = {'cor':'verde','pontos':5}\n",
        "\n",
        "#lista de dicionários\n",
        "aliens = [alien_0, alien_1, alien_2]\n",
        "\n",
        "#exibindo os dicionários da lista\n",
        "cont = 1\n",
        "for alien in aliens:\n",
        "    print('Alien ' + str(cont) + ': ' + str(alien))\n",
        "    cont += 1"
      ]
    },
    {
      "cell_type": "markdown",
      "metadata": {
        "id": "gvt6rUON2YvP"
      },
      "source": [
        "Criando com um loop"
      ]
    },
    {
      "cell_type": "code",
      "execution_count": null,
      "metadata": {
        "id": "EvXNP8A82YvP"
      },
      "outputs": [],
      "source": [
        "aliens = []\n",
        "\n",
        "#criando 30 dicionários de \"novo_alien\" e adicionando à lista \"aliens\"\n",
        "for alien in range(30):\n",
        "    novo_alien = {'cor':'verde','pontos':5,'vel':'lento'}\n",
        "    aliens.append(novo_alien)\n",
        "\n",
        "#exibindo os 5 primeiros aliens da lista \"aliens\"\n",
        "cont = 0\n",
        "for alien in aliens[:5]:\n",
        "    print('Alien ' + str(cont) + ': ' + str(alien))\n",
        "    cont += 1\n",
        "\n",
        "#alterando as características dos aliens\n",
        "for alien in aliens[15:26]:\n",
        "    alien['cor'] = 'amarelo'\n",
        "    alien['pontos'] = 10\n",
        "    alien['vel'] = 'medio'\n",
        "for alien in aliens [26:]:\n",
        "    alien['cor'] = 'vermelho'\n",
        "    alien['pontos'] = 15\n",
        "    alien['vel'] = 'rápido'\n",
        "\n",
        "#exibindo os 5 primeiros aliens da lista \"aliens\"\n",
        "cont = 0\n",
        "for alien in aliens[:]:\n",
        "    print('Alien ' + str(cont) + ': ' + str(alien))\n",
        "    cont += 1"
      ]
    },
    {
      "cell_type": "markdown",
      "metadata": {
        "id": "I-Z_Xzdk2YvQ"
      },
      "source": [
        "### 6.3.2. Uma lista em um dicionário"
      ]
    },
    {
      "cell_type": "markdown",
      "metadata": {
        "id": "z7Wh-ApO2YvQ"
      },
      "source": [
        "Criando um dicionário com listas em seus valores"
      ]
    },
    {
      "cell_type": "code",
      "execution_count": null,
      "metadata": {
        "id": "AAbFiQYC2YvQ"
      },
      "outputs": [],
      "source": [
        "#criando um dicionário cujo os valores são listas\n",
        "pizza = {'tamanho':['p','m','g','xg'],\n",
        "        'massa':['fina','grossa'],\n",
        "        'borda':['simples','recheada'],\n",
        "        'adicionais':['bacon','queijo','nutella']}\n",
        "\n",
        "#exibindo os ítens do dicionário\n",
        "print('Dicionário completo:')\n",
        "for k,v in pizza.items():\n",
        "    print(k,' : ',v)\n",
        "print('\\n')\n",
        "\n",
        "#exibindo as chaves\n",
        "print('Lista de chaves:')\n",
        "for k in pizza.keys():\n",
        "    print(k)\n",
        "print('\\n')\n",
        "\n",
        "#exibindo os valores\n",
        "print('Lista de valores:')\n",
        "for v in pizza.values():\n",
        "    print(v)"
      ]
    },
    {
      "cell_type": "markdown",
      "metadata": {
        "id": "UXrKdPsx2YvR"
      },
      "source": [
        "Passeando pelas listas(valores)"
      ]
    },
    {
      "cell_type": "code",
      "execution_count": null,
      "metadata": {
        "id": "UeEuzyO72YvR"
      },
      "outputs": [],
      "source": [
        "#criando um dicionário cujo os valores são listas\n",
        "pizza = {'tamanho':['p','m','g','xg'],\n",
        "        'massa':['fina','grossa'],\n",
        "        'borda':['simples','recheada'],\n",
        "        'adicional':['bacon','queijo','nutella']}\n",
        "\n",
        "#exibindo lista de tamanhos\n",
        "print('Tamanhos:')\n",
        "for i in pizza['tamanho']:\n",
        "    print(i)\n",
        "print('\\n')\n",
        "\n",
        "#exibindo lista de massas\n",
        "print('Massas:')\n",
        "for i in pizza['massa']:\n",
        "    print(i)\n",
        "print('\\n')\n",
        "\n",
        "#exibindo lista de bordas\n",
        "print('Bordas:')\n",
        "for i in pizza['borda']:\n",
        "    print(i)\n",
        "print('\\n')\n",
        "\n",
        "#exibindo lista de massas\n",
        "print('Adicionais:')\n",
        "for i in pizza['adicional']:\n",
        "    print(i)\n",
        "print('\\n')"
      ]
    },
    {
      "cell_type": "markdown",
      "metadata": {
        "id": "RQVT1VJu2YvR"
      },
      "source": [
        "Abrindo as chaves e valores simultaneamente:"
      ]
    },
    {
      "cell_type": "code",
      "execution_count": null,
      "metadata": {
        "id": "-DbnbQcB2YvR"
      },
      "outputs": [],
      "source": [
        "#criando um dicionário cujo os valores são listas\n",
        "pizza = {'tamanho':['p','m','g','xg'],\n",
        "        'massa':['fina','grossa'],\n",
        "        'borda':['simples','recheada'],\n",
        "        'adicional':['bacon','queijo','nutella']}\n",
        "\n",
        "cont_k = 1\n",
        "for k in pizza.keys():\n",
        "    print(str(cont_k) + '.' + k.title() + ':')\n",
        "    cont_k += 1\n",
        "    cont_v = 1\n",
        "    for v in pizza[k]:\n",
        "        print('\\t' + str(cont_v) + '. ' + v.title())\n",
        "        cont_v += 1"
      ]
    },
    {
      "cell_type": "markdown",
      "metadata": {
        "id": "8glxHChr2YvS"
      },
      "source": [
        "### 6.3.4. Dicionários de dicionários"
      ]
    },
    {
      "cell_type": "markdown",
      "metadata": {
        "id": "xhZL8T602YvS"
      },
      "source": [
        "Podemos aninhar um dicionário em outro dicionário, mas o código poderá ficar complicado rapidamente se isso for feito. Por exemplo, se você tiver vários usuários em um site, cada um com um nome único, os nomes dos usuários poderão ser usados como chaves em um dicionário.\n",
        "\n",
        "Você poderá então armazenar informações sobre cada usuário usando um dicionário como o valor associado a cada nome de usuário. Na listagem a seguir, armazenamos três informações sobre cada usuário:\n",
        "\n",
        "                            \"seu primeiro nome, o sobrenome e a localidade.\"\n",
        "\n",
        "Acessaremos essas informações percorrendo os nomes dos usuários em um laço e o dicionário de informações associado a cada nome de usuário:"
      ]
    },
    {
      "cell_type": "code",
      "execution_count": null,
      "metadata": {
        "id": "YYc-MdFQ2YvS",
        "outputId": "f7e409a0-d7db-4d0a-a8cd-7df59e1ed546"
      },
      "outputs": [
        {
          "name": "stdout",
          "output_type": "stream",
          "text": [
            "\n",
            " Usuário: Aeinstein\n",
            " Informações: Albert Einstein mora em Princeton.\n",
            "\n",
            " Usuário: Mcurie\n",
            " Informações: Marie Curie mora em Paris.\n"
          ]
        }
      ],
      "source": [
        "#criando um dicionário onde os valores são dicionários\n",
        "users = {\n",
        "        'aeinstein': {'nome': 'albert', 'sobrenome': 'einstein', 'lugar': 'princeton', },\n",
        "        'mcurie': {'nome': 'marie', 'sobrenome': 'curie', 'lugar': 'paris', },\n",
        "}\n",
        "\n",
        "for k, vd in users.items():\n",
        "    print('\\n Usuário: ' + k.title())\n",
        "    print(f\"\"\" Informações: {vd['nome'].title()} {vd['sobrenome'].title()} mora em {vd['lugar'].title()}.\"\"\")"
      ]
    },
    {
      "cell_type": "markdown",
      "metadata": {
        "id": "KBf042VI2YvT"
      },
      "source": [
        "### 6.3.5. Exercícios"
      ]
    },
    {
      "cell_type": "markdown",
      "metadata": {
        "id": "0Efi2R0M2YvT"
      },
      "source": [
        "6.7 – Pessoas: Comece com o programa que você escreveu no Exercício 6.1. Crie dois novos dicionários que representem pessoas diferentes e armazene os três dicionários em uma lista chamada people. Percorra sua lista\n",
        "de pessoas com um laço. À medida que percorrer a lista, apresente tudo que você sabe sobre cada pessoa."
      ]
    },
    {
      "cell_type": "code",
      "execution_count": null,
      "metadata": {
        "id": "ahduTUUe2YvT",
        "outputId": "09e581aa-a63f-4350-aef6-55a9149cfd57"
      },
      "outputs": [
        {
          "name": "stdout",
          "output_type": "stream",
          "text": [
            "Mário Miguel tem 27 anos e mora em Juatuba\n",
            "Marlon Miguel tem 23 anos e mora em Juatuba\n",
            "Alícia Santos Miguel tem 5 anos e mora em Florestal\n"
          ]
        }
      ],
      "source": [
        "#criando dicionários\n",
        "pessoa0 = {'nome':'mário','sobrenome':'miguel','idade':'27','cidade':'juatuba'}\n",
        "pessoa1 = {'nome':'marlon','sobrenome':'miguel','idade':'23','cidade':'juatuba'}\n",
        "pessoa2 = {'nome':'alícia','sobrenome':'santos miguel','idade':'5','cidade':'florestal'}\n",
        "\n",
        "#lista de pessoas\n",
        "pessoas = [pessoa0,pessoa1,pessoa2]\n",
        "\n",
        "#percorrendo a lista de dicionários\n",
        "for pessoa in pessoas:\n",
        "    print(pessoa['nome'].title() + ' ' + pessoa['sobrenome'].title()\\\n",
        "          + ' tem ' + pessoa['idade'] + ' anos e mora em ' + pessoa['cidade'].title())"
      ]
    },
    {
      "cell_type": "markdown",
      "metadata": {
        "id": "oyafG2cB2YvU"
      },
      "source": [
        "6.8 – Animais de estimação: Crie vários dicionários, em que o nome de cada dicionário seja o nome de um animal de estimação. Em cada dicionário, inclua o tipo do animal e o nome do dono. Armazene esses dicionários em uma lista chamada pets. Em seguida, percorra sua lista com um laço e, à medida que fizer isso, apresente tudo que você sabe sobre cada animal de estimação."
      ]
    },
    {
      "cell_type": "code",
      "execution_count": null,
      "metadata": {
        "id": "Y4j4o5A82YvU",
        "outputId": "5d33ae52-d07c-48ac-c3f1-dcdf5801e595"
      },
      "outputs": [
        {
          "name": "stdout",
          "output_type": "stream",
          "text": [
            "O cão kiara pertence a aparecida\n",
            "O cão bibola pertence a mário antônio\n",
            "O gato lion pertence a papai do céu\n"
          ]
        }
      ],
      "source": [
        "#criando dicionários\n",
        "kiara = {'nome':'kiara','tipo':'cão', 'dono':'aparecida'}\n",
        "bibola = {'nome':'bibola','tipo':'cão', 'dono':'mário antônio'}\n",
        "lion = {'nome':'lion','tipo':'gato', 'dono':'papai do céu'}\n",
        "\n",
        "#lista de pets\n",
        "pets = [kiara, bibola, lion]\n",
        "\n",
        "#percorrendo a lista de dicionários\n",
        "for pet in pets:\n",
        "    print('O ' + pet['tipo'] + ' ' + pet['nome'] + ' pertence a ' + pet['dono'])"
      ]
    },
    {
      "cell_type": "markdown",
      "metadata": {
        "id": "7ymon0Zn2YvU"
      },
      "source": [
        "6.9 – Lugares favoritos: Crie um dicionário chamado favorite_places. Pense em três nomes para usar como chaves do dicionário e armazene de um a três lugares favoritos para cada pessoa. Para deixar este exercício um pouco mais interessante, peça a alguns amigos que nomeiem alguns de seus lugares favoritos. Percorra o dicionário com um laço e apresente o nome de cada pessoa e seus lugares favoritos."
      ]
    },
    {
      "cell_type": "code",
      "execution_count": null,
      "metadata": {
        "id": "hV4522gC2YvV",
        "outputId": "ab5edaf3-5ac1-4c22-be3b-2c24a4b29f2f"
      },
      "outputs": [
        {
          "name": "stdout",
          "output_type": "stream",
          "text": [
            "Mario gosta dos seguintes lugares:\n",
            "\t 1 . Brasil\n",
            "\t 2 . China\n",
            "\t 3 . Quarto\n",
            "Marlon gosta dos seguintes lugares:\n",
            "\t 1 . Brasil\n",
            "\t 2 . Eua\n",
            "\t 3 . Israel\n",
            "Alicia gosta dos seguintes lugares:\n",
            "\t 1 . Florestal\n",
            "\t 2 . Juatuba\n"
          ]
        }
      ],
      "source": [
        "lugares_favoritos = {'mario':['brasil','china','quarto'],\n",
        "           'marlon':['brasil','eua','israel'],\n",
        "           'alicia':['florestal','juatuba']\n",
        "           }\n",
        "\n",
        "for k, vl in lugares_favoritos.items():\n",
        "    print(k.title(),'gosta dos seguintes lugares:')\n",
        "    cont = 1\n",
        "    for lugar in vl:\n",
        "        print('\\t',cont,'.',lugar.title())\n",
        "        cont += 1\n"
      ]
    },
    {
      "cell_type": "markdown",
      "metadata": {
        "id": "M6B2MYI52YvV"
      },
      "source": [
        "6.10 – Números favoritos: Modifique o seu programa do Exercício 6.2 para que cada pessoa possa ter mais de um número favorito. Em seguida, apresente o nome de cada pessoa, juntamente com seus números favoritos."
      ]
    },
    {
      "cell_type": "code",
      "execution_count": null,
      "metadata": {
        "id": "7KdC00DY2YvV",
        "outputId": "52fb1652-28db-43d5-a9a9-0fdb9df11432"
      },
      "outputs": [
        {
          "name": "stdout",
          "output_type": "stream",
          "text": [
            "Mario tem como seus números favoritos:\n",
            "1\n",
            "2\n",
            "Carlos tem como seus números favoritos:\n",
            "4\n",
            "7\n",
            "Paulo tem como seus números favoritos:\n",
            "9\n",
            "Ana tem como seus números favoritos:\n",
            "2\n",
            "3\n",
            "8\n",
            "Mariane tem como seus números favoritos:\n",
            "5\n"
          ]
        }
      ],
      "source": [
        "#criando dicionário\n",
        "fav_num = {'mario':[1,2],'carlos':[4,7],'paulo':[9],'ana':[2,3,8],'mariane':[5]}\n",
        "\n",
        "#percorrendo o dicionário\n",
        "for k, vl in fav_num.items():\n",
        "    print(k.title(),'tem como seus números favoritos:')\n",
        "    for numero in vl:\n",
        "        print(numero)"
      ]
    },
    {
      "cell_type": "markdown",
      "metadata": {
        "id": "LoCBu0BN2YvV"
      },
      "source": [
        "\n",
        "6.11 – Cidades: Crie um dicionário chamado cities. Use os nomes de três cidades como chaves em seu dicionário. Crie um dicionário com informações sobre cada cidade e inclua o país em que a cidade está localizada, a população aproximada e um fato sobre essa cidade. As chaves do dicionário de cada cidade devem ser algo como country, population e fact. Apresente o nome de cada cidade e todas as informações que você armazenou sobre ela."
      ]
    },
    {
      "cell_type": "code",
      "execution_count": null,
      "metadata": {
        "id": "0l1DIdiP2YvW",
        "outputId": "9cb4e7d1-b173-4a11-cc72-e303bf943726"
      },
      "outputs": [
        {
          "name": "stdout",
          "output_type": "stream",
          "text": [
            "Sobre a cidade de Juatuba :\n",
            "\t País : Brasil\n",
            "\t Pop : 30 mil\n",
            "\t Fato : É a terra dos juás\n",
            "Sobre a cidade de Tokio :\n",
            "\t País : Japão\n",
            "\t Pop : 14 milhões\n",
            "\t Fato : É a terra do cyberpunk\n",
            "Sobre a cidade de Cairo :\n",
            "\t País : Egito\n",
            "\t Pop : 10 milhões\n",
            "\t Fato : É a terra dos faraós\n"
          ]
        }
      ],
      "source": [
        "cidades = {'juatuba':{'país':'brasil','pop':'30 mil','fato':'é a terra dos Juás'},\n",
        "           'tokio':{'país':'japão','pop':'14 milhões','fato':'é a terra do cyberpunk'},\n",
        "           'cairo':{'país':'egito','pop':'10 milhões','fato':'é a terra dos faraós'},\n",
        "}\n",
        "\n",
        "for k, vd in cidades.items():\n",
        "    print('Sobre a cidade de',k.title(),':')\n",
        "    for kvd, vdvd in vd.items():\n",
        "        print('\\t',kvd.title(),':', vdvd.capitalize())\n",
        "\n"
      ]
    },
    {
      "cell_type": "markdown",
      "metadata": {
        "id": "h1v-Z1Um2YvW"
      },
      "source": [
        "\n",
        "6.12 – Extensões: Estamos trabalhando agora com exemplos complexos o bastante para poderem ser estendidos de várias maneiras. Use um dos programas de exemplo deste capítulo e estenda-o acrescentando novas chaves e valores, alterando o contexto do programa ou melhorando a formatação da saída."
      ]
    },
    {
      "cell_type": "markdown",
      "metadata": {
        "id": "BllTvv3yOngm"
      },
      "source": [
        "# Capítulo 7. Entrada de usuário e laços while"
      ]
    },
    {
      "cell_type": "markdown",
      "metadata": {
        "id": "PWjVlrDPOngw"
      },
      "source": [
        "## 7.1. Como a função imput() trabalha"
      ]
    },
    {
      "cell_type": "markdown",
      "metadata": {
        "id": "KsCF3K4SOngy"
      },
      "source": [
        "Entrada de dados, casting de tipos e verificação de condicionais"
      ]
    },
    {
      "cell_type": "code",
      "execution_count": null,
      "metadata": {
        "id": "gfCjINblOngz",
        "outputId": "b5475799-c27e-4bbd-c67b-11160fd48c21"
      },
      "outputs": [
        {
          "name": "stdout",
          "output_type": "stream",
          "text": [
            "Mário  tem 77 anos e 1.78 m de altura.\n",
            "você já se alistou?\n",
            "você já vota?\n",
            "você já entrou com o processo de aposentadoria?\n"
          ]
        }
      ],
      "source": [
        "nome = input('qual o seu nome? ')\n",
        "idade = int(input('qual sua idade? '))\n",
        "altura = float(input('qual a sua altura? '))\n",
        "\n",
        "print(nome,'tem',idade,'anos e',altura,'m de altura. \\n')\n",
        "\n",
        "if idade > 16:\n",
        "    print('você já se alistou?')\n",
        "if idade > 18:\n",
        "    print('você já vota?')\n",
        "if idade > 65:\n",
        "    print('você já entrou com o processo de aposentadoria?')"
      ]
    },
    {
      "cell_type": "markdown",
      "metadata": {
        "id": "vkq6bZzNOng5"
      },
      "source": [
        "Verificação de paridade"
      ]
    },
    {
      "cell_type": "code",
      "execution_count": null,
      "metadata": {
        "id": "z7N594P0Ong6",
        "outputId": "dbd35934-6e13-4d82-f026-6e6326c197e1"
      },
      "outputs": [
        {
          "name": "stdout",
          "output_type": "stream",
          "text": [
            "34 é par!\n"
          ]
        }
      ],
      "source": [
        "n = int(input('digite um número inteiro: '))\n",
        "\n",
        "if n%2 == 0:\n",
        "    print(n,'é par!')\n",
        "else:\n",
        "    print(n,'é ímpar')"
      ]
    },
    {
      "cell_type": "markdown",
      "metadata": {
        "id": "mYfG_YBZOng8"
      },
      "source": [
        "Verificação de primos"
      ]
    },
    {
      "cell_type": "code",
      "execution_count": null,
      "metadata": {
        "id": "VpHaf__SOng9",
        "outputId": "f041179c-f483-46d8-f43f-b717345ed430"
      },
      "outputs": [
        {
          "name": "stdout",
          "output_type": "stream",
          "text": [
            "[2, 4, 5, 8, 10, 16, 20, 25, 32, 40, 50, 80, 100, 125, 160, 200, 250, 400, 500, 625, 800, 1000, 1250, 2000, 2500, 3125, 4000, 5000, 6250, 10000, 12500, 20000, 25000, 50000]\n"
          ]
        }
      ],
      "source": [
        "n = int(input('digite um número inteiro: '))\n",
        "\n",
        "divisores = [x for x in range(2,n)]\n",
        "div_n = []\n",
        "for x in divisores:\n",
        "    if n%x == 0:\n",
        "        div_n.append(x)\n",
        "print(div_n)"
      ]
    },
    {
      "cell_type": "markdown",
      "metadata": {
        "id": "Nnd12TGhOnhA"
      },
      "source": [
        "### 7.1.1. Exercícios"
      ]
    },
    {
      "cell_type": "markdown",
      "metadata": {
        "id": "OoTMq4sWOnhD"
      },
      "source": [
        "7.1 – Locação de automóveis: Escreva um programa que pergunte ao usuário qual tipo de carro ele gostaria de alugar. Mostre uma mensagem sobre esse carro, por exemplo, “Deixe-me ver se consigo um Subaru para você.”"
      ]
    },
    {
      "cell_type": "code",
      "execution_count": null,
      "metadata": {
        "id": "bWJ_SJKeOnhF",
        "outputId": "bd8c3af9-58c9-4f05-b216-610315a3e56a"
      },
      "outputs": [
        {
          "name": "stdout",
          "output_type": "stream",
          "text": [
            "Deixe me ver se temos um Clio para você...\n"
          ]
        }
      ],
      "source": [
        "carro = input('Qual carro você quer alugar?' )\n",
        "print('Deixe me ver se temos um',carro.title(),'para você...')"
      ]
    },
    {
      "cell_type": "markdown",
      "metadata": {
        "id": "AItC5iVtOnhH"
      },
      "source": [
        "7.2 – Lugares em um restaurante: Escreva um programa que pergunte ao usuário quantas pessoas estão em seu grupo para jantar. Se a resposta for maior que oito, exiba uma mensagem dizendo que eles deverão esperar uma mesa. Caso contrário, informe que sua mesa está pronta."
      ]
    },
    {
      "cell_type": "code",
      "execution_count": null,
      "metadata": {
        "id": "kMjvP6VSOnhI",
        "outputId": "6412f237-1ec1-4826-b2e2-e51ee9098eab"
      },
      "outputs": [
        {
          "name": "stdout",
          "output_type": "stream",
          "text": [
            "A sua mesa está pronta!\n"
          ]
        }
      ],
      "source": [
        "n = int(input('Quantas pessoas vão jantar? '))\n",
        "if n <= 8:\n",
        "    print('A sua mesa está pronta!')\n",
        "else:\n",
        "    print('Estamos preparando sua mesa, por favor aguarde...')"
      ]
    },
    {
      "cell_type": "markdown",
      "metadata": {
        "id": "Zri28GMkOnhJ"
      },
      "source": [
        "7.3 – Múltiplos de dez: Peça um número ao usuário e, em seguida, informe se o número é múltiplo de dez ou não."
      ]
    },
    {
      "cell_type": "code",
      "execution_count": null,
      "metadata": {
        "id": "NY0KZN7_OnhK",
        "outputId": "4d900efd-6b03-4b96-8dad-b90613bd4757"
      },
      "outputs": [
        {
          "name": "stdout",
          "output_type": "stream",
          "text": [
            "2 não é múltiplo de 10.\n"
          ]
        }
      ],
      "source": [
        "n = int(input('Digite um número inteiro: '))\n",
        "if n%10 == 0:\n",
        "    print(n,'é múltiplo de 10.')\n",
        "else:\n",
        "    print(n,'não é múltiplo de 10.')"
      ]
    },
    {
      "cell_type": "markdown",
      "metadata": {
        "id": "04pNvfEaOnhM"
      },
      "source": [
        "## 7.2. Introdução aos laços while"
      ]
    },
    {
      "cell_type": "markdown",
      "metadata": {
        "id": "TE9mCV75OnhN"
      },
      "source": [
        "O laço for toma uma coleção de itens e executa um bloco de código uma vez para cada item da coleção. Em comparação, o laço while executa durante o tempo em que, ou enquanto, uma determinada condição for verdadeira."
      ]
    },
    {
      "cell_type": "markdown",
      "metadata": {
        "id": "aaGk8UKgOnhN"
      },
      "source": [
        "Contadores"
      ]
    },
    {
      "cell_type": "code",
      "execution_count": null,
      "metadata": {
        "id": "iLU1O6LgOnhN"
      },
      "outputs": [],
      "source": [
        "#contagem simples\n",
        "cont = 0\n",
        "while cont <= 5:\n",
        "    print(cont)\n",
        "    cont += 1\n",
        "print('acabou...\\n')\n",
        "\n",
        "#contagem invertida\n",
        "cont = 5\n",
        "while cont >= 0:\n",
        "    print(cont)\n",
        "    cont -= 1\n",
        "print('acabou...\\n')\n",
        "\n",
        "#contagem com saltos\n",
        "cont = 0\n",
        "salto = 20\n",
        "while cont <= 100:\n",
        "    print(cont)\n",
        "    cont += salto\n",
        "print('acabou...\\n')"
      ]
    },
    {
      "cell_type": "markdown",
      "metadata": {
        "id": "hqBqvDj8OnhP"
      },
      "source": [
        "Usuário decidindo se quer sair"
      ]
    },
    {
      "cell_type": "code",
      "execution_count": null,
      "metadata": {
        "id": "YUHjSwq5OnhP",
        "outputId": "bd56a186-3830-4cf1-95b4-6083debc47da"
      },
      "outputs": [
        {
          "name": "stdout",
          "output_type": "stream",
          "text": [
            "então vamos continuar...\n",
            "então vamos continuar...\n",
            "então vamos continuar...\n",
            "então vamos continuar...\n",
            "acabou...\n"
          ]
        }
      ],
      "source": [
        "msg = ''\n",
        "while msg.lower() != 'n':\n",
        "    msg = input('deseja continuar? [s/n] ')\n",
        "    print('então vamos continuar...')\n",
        "print('acabou...')"
      ]
    },
    {
      "cell_type": "markdown",
      "metadata": {
        "id": "7NJHgTpWOnhR"
      },
      "source": [
        "### 7.2.1 Usando uma `flag`"
      ]
    },
    {
      "cell_type": "markdown",
      "metadata": {
        "id": "c187pr0JOnhS"
      },
      "source": [
        "No exemplo anterior, tínhamos um programa que executava determinadas tarefas enquanto uma dada condição era verdadeira. E como ficaria em programas mais complicados, em que muitos eventos diferentes poderiam fazer o programa parar de executar?"
      ]
    },
    {
      "cell_type": "markdown",
      "metadata": {
        "id": "qLS0d-D-OnhS"
      },
      "source": [
        "Para um programa que deva executar somente enquanto muitas condições forem verdadeiras, podemos definir uma variável que determina se o programa como um todo deve estar ativo. Essa variável, chamada de flag, atua como um sinal para o programa. Podemos\n",
        "escrever nossos programas de modo que executem enquanto a flag estiver definida com True e parem de executar quando qualquer um dos vários eventos definir o valor da flag com False. Como resultado, nossa instrução while geral precisa verificar apenas uma condição: se a flag, no momento, é True. Então todos os nossos demais testes (para ver se um evento que deve definir a flag com False ocorreu) podem estar bem organizados no restante do programa."
      ]
    },
    {
      "cell_type": "code",
      "execution_count": null,
      "metadata": {
        "id": "jY7lMTOgOnhT",
        "outputId": "e8cfe401-ebeb-4223-a7c8-5ebd6cd55b15"
      },
      "outputs": [
        {
          "name": "stdout",
          "output_type": "stream",
          "text": [
            "então vamos continuar...\n",
            "então vamos continuar...\n",
            "acabou...\n"
          ]
        }
      ],
      "source": [
        "flag = True\n",
        "while flag:\n",
        "    msg = input('deseja continuar? [s/n] ')\n",
        "    if msg == 'n':\n",
        "        flag = False\n",
        "    else:\n",
        "        print('então vamos continuar...')\n",
        "print('acabou...')"
      ]
    },
    {
      "cell_type": "markdown",
      "metadata": {
        "id": "WwJZuFH7OnhV"
      },
      "source": [
        "### 7.2.2. Saindo do laço com `brak`"
      ]
    },
    {
      "cell_type": "markdown",
      "metadata": {
        "id": "v_AHj4g0OnhW"
      },
      "source": [
        "Para sair de um laço while de imediato, sem executar qualquer código restante no laço, independentemente do resultado de qualquer teste condicional, utilize a instrução break. A instrução break direciona o fluxo de seu programa; podemos usá-la para controlar quais linhas de código são ou não são executadas, de modo que o programa execute apenas o código que você quiser, quando você quiser."
      ]
    },
    {
      "cell_type": "code",
      "execution_count": null,
      "metadata": {
        "id": "d3Am4FI8OnhW",
        "outputId": "f22a8d19-6e79-4fb6-a4f0-2918e7c89708"
      },
      "outputs": [
        {
          "name": "stdout",
          "output_type": "stream",
          "text": [
            "Cairo uma linda cidade sem dúvidas.\n",
            "Juatuba uma linda cidade sem dúvidas.\n"
          ]
        }
      ],
      "source": [
        "while True:\n",
        "    cidade = input('Digite uma cidade ou [n] para sair: ')\n",
        "    if cidade.lower() == 'n':\n",
        "        break\n",
        "    else:\n",
        "        print(cidade.title(),'uma linda cidade sem dúvidas.')\n",
        "print('acabou...')"
      ]
    },
    {
      "cell_type": "markdown",
      "metadata": {
        "id": "7nmTrQ4kOnhX"
      },
      "source": [
        "### 7.2.3. Usando `continue` em um laço"
      ]
    },
    {
      "cell_type": "markdown",
      "metadata": {
        "id": "QDcwFeCzOnhY"
      },
      "source": [
        "Em vez de sair totalmente de um laço sem executar o restante de seu código, podemos usar a instrução continue para retornar ao início, com base no resultado de um teste condicional."
      ]
    },
    {
      "cell_type": "code",
      "execution_count": null,
      "metadata": {
        "id": "j39_6YqEOnha",
        "outputId": "41217633-8e32-4e66-bf7c-95d73459ac94"
      },
      "outputs": [
        {
          "name": "stdout",
          "output_type": "stream",
          "text": [
            "1\n",
            "3\n",
            "5\n",
            "7\n",
            "9\n"
          ]
        }
      ],
      "source": [
        "n = 0\n",
        "while n < 10:\n",
        "    n += 1\n",
        "    if n%2 == 0:\n",
        "        continue\n",
        "    print(n)"
      ]
    },
    {
      "cell_type": "markdown",
      "metadata": {
        "id": "Sj8UU7eEOnhb"
      },
      "source": [
        "### 7.2.4. Exercícios"
      ]
    },
    {
      "cell_type": "markdown",
      "metadata": {
        "id": "GcA3JG62Onhd"
      },
      "source": [
        "7.4 – Ingredientes para uma pizza: Escreva um laço que peça ao usuário para fornecer uma série de ingredientes para uma pizza até que o valor 'quit' seja fornecido. À medida que cada ingrediente é especificado, apresente uma mensagem informando que você acrescentará esse ingrediente à pizza."
      ]
    },
    {
      "cell_type": "code",
      "execution_count": null,
      "metadata": {
        "id": "DfD3aASKOnhe",
        "outputId": "df9484db-2f31-4005-e1c1-6027e394b6ad"
      },
      "outputs": [
        {
          "name": "stdout",
          "output_type": "stream",
          "text": [
            "Sua pizza com: ['asdasd', 'asd', 'asdasd'] está a caminho...\n"
          ]
        }
      ],
      "source": [
        "ingr = ''\n",
        "adicionais = []\n",
        "\n",
        "while ingr.lower() != 'q':\n",
        "    ingr = input('Digite o adicional ou [Q] para sair: ')\n",
        "    adicionais.append(ingr)\n",
        "\n",
        "adicionais.pop() #remove o 'q' do final da lista\n",
        "print('Sua pizza com:',adicionais,'está a caminho...')"
      ]
    },
    {
      "cell_type": "markdown",
      "metadata": {
        "id": "YQIEmnDnOnhf"
      },
      "source": [
        "7.5 – Ingressos para o cinema: Um cinema cobra preços diferentes para os ingressos de acordo com a idade de uma pessoa. Se uma pessoa tiver menos de 3 anos de idade, o ingresso será gratuito; se tiver entre 3 e 12 anos, o ingresso custará 10 dólares; se tiver mais de 12 anos, o ingresso custará 15 dólares. Escreva um laço em que você pergunte a idade aos usuários e, então, informe-lhes o preço do ingresso do cinema."
      ]
    },
    {
      "cell_type": "code",
      "execution_count": null,
      "metadata": {
        "id": "J-ferHjyOnhg",
        "outputId": "28f46cab-e0b2-4eff-b121-50896d362286"
      },
      "outputs": [
        {
          "name": "stdout",
          "output_type": "stream",
          "text": [
            "['bacon', 'carne']\n"
          ]
        }
      ],
      "source": [
        "pergunta = input('Deseja comprar ingressos? [s/n] ')\n",
        "\n",
        "while pergunta.lower() != 'n':\n",
        "    idade = int(input('Qual é a sua idade? '))\n",
        "\n",
        "    if idade < 3: print('Entrada gratuita!')\n",
        "    elif 3 <= idade <= 12: print('Entrada custa 10 dólares!')\n",
        "    else: print('Entrada custa 20 dólares!')\n",
        "\n",
        "    pergunta = input('Deseja comprar ingressos? [s/n] ')\n",
        "print('Divirta-se!!!')"
      ]
    },
    {
      "cell_type": "markdown",
      "metadata": {
        "id": "Vl9Ii9KnOnhi"
      },
      "source": [
        "7.6 – Três saídas: Escreva versões diferentes do Exercício 7.4 ou do Exercício 7.5 que faça o seguinte, pelo menos uma vez:\n",
        "\n",
        "• use um teste condicional na instrução while para encerrar o laço;\n",
        "• use uma variável active para controlar o tempo que o laço executará;\n",
        "• use uma instrução break para sair do laço quando o usuário fornecer o valor 'quit'.\n",
        "\n",
        "                                #####FAREMOS COM O 7.4#####\n",
        "`7.4 – Ingredientes para uma pizza: Escreva um laço que peça ao usuário para fornecer uma série de ingredientes para uma pizza até que o valor 'quit' seja fornecido. À medida que cada ingrediente é especificado, apresente uma mensagem informando que você acrescentará esse ingrediente à pizza.`"
      ]
    },
    {
      "cell_type": "code",
      "execution_count": null,
      "metadata": {
        "id": "3PPwEQttOnhj",
        "outputId": "167d8b6a-aad1-4719-b0e4-2722cf1a60f9"
      },
      "outputs": [
        {
          "name": "stdout",
          "output_type": "stream",
          "text": [
            "Sua pizza com ['bacon', 'tomate', 'mussarela'] está a caminho!\n"
          ]
        }
      ],
      "source": [
        "#use um teste condicional na instrução while para encerrar o laço\n",
        "adic = []\n",
        "ingr = input('Digite seu adicional ou [Q] para sair.')\n",
        "\n",
        "while ingr.lower() != 'q':\n",
        "    adic.append(ingr)\n",
        "    ingr = input('Digite seu adicional ou [Q] para sair.')\n",
        "\n",
        "print('Sua pizza com',adic,'está a caminho!')"
      ]
    },
    {
      "cell_type": "code",
      "execution_count": null,
      "metadata": {
        "id": "EQFUr85KOnhk",
        "outputId": "dec1d597-dd94-41c2-9b94-5359acb56cef"
      },
      "outputs": [
        {
          "name": "stdout",
          "output_type": "stream",
          "text": [
            "Sua pizza com ['bacon', 'tomate', 'mussarela'] está a caminho!\n"
          ]
        }
      ],
      "source": [
        "#use uma variável active para controlar o tempo que o laço executará;\n",
        "active = True\n",
        "adic = []\n",
        "ingr = input('Digite seu adicional ou [Q] para sair.')\n",
        "\n",
        "while active:\n",
        "    adic.append(ingr)\n",
        "    ingr = input('Digite seu adicional ou [Q] para sair.')\n",
        "    if ingr.lower() == 'q':\n",
        "        active = False\n",
        "\n",
        "print('Sua pizza com',adic,'está a caminho!')"
      ]
    },
    {
      "cell_type": "code",
      "execution_count": null,
      "metadata": {
        "id": "aJdjYfXDOnhm",
        "outputId": "512a133a-4a3f-4c0b-f1c9-20d25e011970"
      },
      "outputs": [
        {
          "name": "stdout",
          "output_type": "stream",
          "text": [
            "Sua pizza com ['bacon', 'tomate', 'mussarela'] está a caminho!\n"
          ]
        }
      ],
      "source": [
        "#use uma instrução break para sair do laço quando o usuário fornecer o valor 'quit'.\n",
        "adic = []\n",
        "ingr = input('Digite seu adicional ou [Q] para sair.')\n",
        "\n",
        "while True:\n",
        "    if ingr.lower() == 'q':\n",
        "        break\n",
        "    else:\n",
        "        adic.append(ingr)\n",
        "    ingr = input('Digite seu adicional ou [Q] para sair.')\n",
        "\n",
        "print('Sua pizza com',adic,'está a caminho!')"
      ]
    },
    {
      "cell_type": "markdown",
      "metadata": {
        "id": "wpYzCcYSOnhn"
      },
      "source": [
        "7.7 – Infinito: Escreva um laço que nunca termine e execute-o. (Para encerrar o laço, pressione CTRL-C ou feche a janela que está exibindo a saída.)"
      ]
    },
    {
      "cell_type": "markdown",
      "metadata": {
        "id": "gl927FukOnho"
      },
      "source": [
        "## 7.3. Usando um laço while com listas e dicionários"
      ]
    },
    {
      "cell_type": "markdown",
      "metadata": {
        "id": "pp3bxkxWOnhp"
      },
      "source": [
        "Até agora trabalhamos com apenas uma informação do usuário a cada vez. Recebemos a entrada do usuário e então a exibimos ou apresentamos uma resposta a ela. Na próxima passagem pelo laço while, recebíamos outro valor de entrada e respondíamos a ela. Contudo, para controlar muitos usuários e informações, precisaremos usar listas e dicionários com nossos laços while.\n",
        "\n",
        "Um laço for é eficiente para percorrer uma lista, mas você não deve modificar uma lista em um laço for, pois Python terá problemas para manter o controle dos itens da lista. Para modificar uma lista enquanto trabalhar com ela, utilize um laço while. Usar laços while com listas e dicionários permite coletar, armazenar e organizar muitas entradas a fim de analisá-las e apresentá-las posteriormente."
      ]
    },
    {
      "cell_type": "markdown",
      "metadata": {
        "id": "ntN_DIlTOnhq"
      },
      "source": [
        "### 7.3.1. Tranferindo ítens de uma lista para outra"
      ]
    },
    {
      "cell_type": "markdown",
      "metadata": {
        "id": "zUmTaUFXOnhr"
      },
      "source": [
        "Considere uma lista de usuários recém-registrados em um site, porém não verificados. Depois de conferir esses usuários, como podemos transferi-los para uma lista separada de usuários confirmados? Uma maneira seria usar um laço while para extrair os usuários da lista de usuários não confirmados à medida que os verificarmos e então adicioná-los em uma lista separada de usuários confirmados."
      ]
    },
    {
      "cell_type": "code",
      "execution_count": null,
      "metadata": {
        "id": "mblocV_UOnhr",
        "outputId": "2cbf1636-3390-45d8-933c-a2d047d16723"
      },
      "outputs": [
        {
          "name": "stdout",
          "output_type": "stream",
          "text": [
            "Verificando usuário: Ana\n",
            "Verificando usuário: José\n",
            "Verificando usuário: Paulo\n",
            "Verificando usuário: Mario\n",
            "['ana', 'josé', 'paulo', 'mario']\n"
          ]
        }
      ],
      "source": [
        "nao_conf = ['mario','paulo','josé','ana']\n",
        "conf = []\n",
        "\n",
        "while nao_conf:\n",
        "    user = nao_conf.pop()\n",
        "    print('Verificando usuário:',user.title())\n",
        "    conf.append(user)\n",
        "print(conf)"
      ]
    },
    {
      "cell_type": "markdown",
      "metadata": {
        "id": "vmv-KVpHOnht"
      },
      "source": [
        "### 7.3.2. Removendo todas as instâncias de valores específicos de uma lista"
      ]
    },
    {
      "cell_type": "markdown",
      "metadata": {
        "id": "MI3TOw8iOnhv"
      },
      "source": [
        "No Capítulo 3 usamos remove() para remover um valor específico de uma lista. A função remove() era apropriada porque o valor em que estávamos interessados aparecia apenas uma vez na lista. Porém, e se quiséssemos remover da lista todas as instâncias de um valor?"
      ]
    },
    {
      "cell_type": "code",
      "execution_count": null,
      "metadata": {
        "id": "oB4kHIY0Onhw",
        "outputId": "ebc0645f-6aa2-439b-bb74-cd8496e47b2d"
      },
      "outputs": [
        {
          "name": "stdout",
          "output_type": "stream",
          "text": [
            "['dog', 'dog', 'goldfish', 'rabbit']\n"
          ]
        }
      ],
      "source": [
        "pets = ['dog', 'cat', 'dog', 'goldfish', 'cat', 'rabbit',\n",
        "'cat']\n",
        "\n",
        "while 'cat' in pets:\n",
        "    pets.remove('cat')\n",
        "print(pets)"
      ]
    },
    {
      "cell_type": "markdown",
      "metadata": {
        "id": "jdwqiU97Onhx"
      },
      "source": [
        "### 7.3.3. Preenchendo um dicionário com dados de entrada do usuário"
      ]
    },
    {
      "cell_type": "code",
      "execution_count": null,
      "metadata": {
        "id": "RaxlPga7Onhz",
        "outputId": "60548d95-c8ee-468a-d7d8-2fd41b493532"
      },
      "outputs": [
        {
          "name": "stdout",
          "output_type": "stream",
          "text": [
            "{'mario': 'preto', 'marcos': 'vermelho', 'dara': 'azul'}\n"
          ]
        }
      ],
      "source": [
        "respostas = {} #dicionário vazio\n",
        "active = True #flag\n",
        "\n",
        "while active:\n",
        "    nome = input('Qual o seu nome? ')\n",
        "    resp = input('Qual sua cor favorita? ')\n",
        "    respostas[nome] = resp\n",
        "\n",
        "    repetir = input('Adicionar mais dados? [s/n] ')\n",
        "\n",
        "    if repetir.lower() == 'n':\n",
        "        active = False\n",
        "print(respostas)"
      ]
    },
    {
      "cell_type": "markdown",
      "metadata": {
        "id": "LdKP25qTOnh1"
      },
      "source": [
        "### 7.3.4. Exercícios"
      ]
    },
    {
      "cell_type": "markdown",
      "metadata": {
        "id": "F1fSVPzQOnh2"
      },
      "source": [
        "7.8 – Lanchonete: Crie uma lista chamada sandwich_orders e a preencha com os nomes de vários sanduíches. Em seguida, crie uma lista vazia chamada finished_sandwiches. Percorra a lista de pedidos de sanduíches com um laço e mostre uma mensagem para cada pedido, por exemplo, Preparei seu sanduíche de atum. À medida que cada sanduíche for preparado transfira-o para a lista de sanduíches prontos Depois que todos os sanduíches estiverem prontos mostre uma mensagem que liste cada sanduíche preparado."
      ]
    },
    {
      "cell_type": "code",
      "execution_count": null,
      "metadata": {
        "id": "QkcSZ5qqOnh2",
        "outputId": "f503cb70-c27d-452c-ee06-e6d8052dd1f5"
      },
      "outputs": [
        {
          "name": "stdout",
          "output_type": "stream",
          "text": [
            "lista de pedidos: ['fazer', 'fan', 'twister', 'harley', 'falcon'] \n",
            "\n",
            "Preparando o seu falcon ... por favor aguarde.\n",
            "Seu falcon saiu para a entrega.\n",
            "Preparando o seu harley ... por favor aguarde.\n",
            "Seu harley saiu para a entrega.\n",
            "Preparando o seu twister ... por favor aguarde.\n",
            "Seu twister saiu para a entrega.\n",
            "Preparando o seu fan ... por favor aguarde.\n",
            "Seu fan saiu para a entrega.\n",
            "Preparando o seu fazer ... por favor aguarde.\n",
            "Seu fazer saiu para a entrega.\n",
            "\n",
            "lista de entregas: ['falcon', 'harley', 'twister', 'fan', 'fazer']\n",
            "lista de pedidos: []\n"
          ]
        }
      ],
      "source": [
        "pedidos = ['fazer','fan','twister','harley','falcon']\n",
        "entregas = []\n",
        "\n",
        "print('lista de pedidos:',pedidos,'\\n')\n",
        "while pedidos:\n",
        "    sanduiche = pedidos.pop()\n",
        "    print('Preparando o seu',sanduiche,'... por favor aguarde.')\n",
        "    entregas.append(sanduiche)\n",
        "    print('Seu',sanduiche,'saiu para a entrega.')\n",
        "print('\\nlista de entregas:',entregas)\n",
        "print('lista de pedidos:',pedidos)"
      ]
    },
    {
      "cell_type": "markdown",
      "metadata": {
        "id": "GyuC9ILhOnh3"
      },
      "source": [
        "7.9 – Sem pastrami: Usando a lista sandwich_orders do Exercício 7.8, garanta que o sanduíche de 'pastrami' apareça na lista pelo menos três vezes. Acrescente um código próximo ao início de seu programa para exibir uma mensagem informando que a lanchonete está sem pastrami e, então, use um laço while para remover todas as ocorrências de 'pastrami' e sandwich_orders. Garanta que nenhum sanduíche de pastrami acabe em finished_sandwiches."
      ]
    },
    {
      "cell_type": "code",
      "execution_count": null,
      "metadata": {
        "id": "seR_ncJGOnh4",
        "outputId": "07ef2a5c-f9e1-41ef-baab-3383fc768ea0"
      },
      "outputs": [
        {
          "name": "stdout",
          "output_type": "stream",
          "text": [
            " Pedidos: ['pastrami', 'fazer', 'fan', 'pastrami', 'twister', 'pastrami', 'harley', 'falcon', 'pastrami'] \n",
            " Entregas: []\n",
            " Estamos sem pastrami no momento...\n",
            " Pedidos: [] \n",
            " Entregas: ['falcon', 'harley', 'twister', 'fan', 'fazer']\n"
          ]
        }
      ],
      "source": [
        "pedidos = ['pastrami','fazer','fan','pastrami','twister','pastrami','harley','falcon','pastrami']\n",
        "entregas = []\n",
        "\n",
        "print(' Pedidos:',pedidos,'\\n Entregas:',entregas)\n",
        "\n",
        "print(' Estamos sem pastrami no momento...')\n",
        "while pedidos:\n",
        "    if 'pastrami' in pedidos:\n",
        "        pedidos.remove('pastrami')\n",
        "        continue\n",
        "    sanduiche = pedidos.pop()\n",
        "    entregas.append(sanduiche)\n",
        "print(' Pedidos:',pedidos,'\\n Entregas:',entregas)"
      ]
    },
    {
      "cell_type": "markdown",
      "metadata": {
        "id": "rh2g8RlCOnh5"
      },
      "source": [
        "7.10 – Férias dos sonhos: Escreva um programa que faça uma enquete sobre as férias dos sonhos dos usuários. Escreva um prompt semelhante a este: Se pudesse visitar um lugar do mundo, para onde você iria? Inclua um bloco de código que apresente os resultados da enquete."
      ]
    },
    {
      "cell_type": "code",
      "execution_count": null,
      "metadata": {
        "id": "BY7Lsk4nOnh6",
        "outputId": "8348c4ca-c321-490d-e70c-fb43341c38a1"
      },
      "outputs": [
        {
          "name": "stdout",
          "output_type": "stream",
          "text": [
            "{'josé': 'paris', 'cairo': 'joana', 'marcola': 'luanda'}\n"
          ]
        }
      ],
      "source": [
        "resps = {}\n",
        "while True:\n",
        "    nome = input('Qual o seu nome? ')\n",
        "    lugar = input('Para onde você gostaria de viajar?')\n",
        "    resps[nome] = lugar\n",
        "\n",
        "    ficar = input('Deseja continuar? [s/n]')\n",
        "    if ficar.lower() == 'n': break\n",
        "print(resps)"
      ]
    },
    {
      "cell_type": "markdown",
      "metadata": {
        "id": "GnxvRAe_jezZ"
      },
      "source": [
        "# Capítulo 8. Funções"
      ]
    },
    {
      "cell_type": "markdown",
      "metadata": {
        "id": "1TeHmzh3jezd"
      },
      "source": [
        "## 8.1. Defindo uma função e passando argumentos"
      ]
    },
    {
      "cell_type": "markdown",
      "metadata": {
        "id": "SclNnLuOjeze"
      },
      "source": [
        "Neste capítulo aprenderemos a escrever funções, que são blocos de código nomeados, concebidos para realizar uma tarefa específica. Quando queremos executar uma tarefa em particular, definida em uma função, chamamos o nome da função responsável por ela. Se precisar executar essa tarefa várias vezes durante seu programa, não será necessário digitar todo o código para a mesma tarefa repetidamente: basta chamar a função dedicada ao tratamento dessa tarefa e a chamada dirá a Python para executar o código da função. Você perceberá que usar funções permite escrever, ler, testar e corrigir seus programas de modo mais fácil."
      ]
    },
    {
      "cell_type": "markdown",
      "metadata": {
        "id": "p20gzeF1jeze"
      },
      "source": [
        "### 8.1.1. Definindo uma função"
      ]
    },
    {
      "cell_type": "markdown",
      "metadata": {
        "id": "U9lj0gc0jezf"
      },
      "source": [
        "O texto entre aspas triplas é um comentário chamado docstring, que descreve o que a função faz. As docstrings são colocadas entre aspas triplas, que Python procura quando gera a documentação das funções\n",
        "de seus programas."
      ]
    },
    {
      "cell_type": "code",
      "execution_count": null,
      "metadata": {
        "id": "5FHhjXu1jezg",
        "outputId": "96af29c4-c966-431c-c192-1d9a593662d2"
      },
      "outputs": [
        {
          "name": "stdout",
          "output_type": "stream",
          "text": [
            "Olá, como vai você?\n"
          ]
        }
      ],
      "source": [
        "#definindo a função sem parâmetro\n",
        "def saudacao():\n",
        "    \"\"\"\"Exibe uma saudação simples\"\"\"\n",
        "    print('Olá, como vai você?')\n",
        "\n",
        "#chamando a função\n",
        "saudacao()"
      ]
    },
    {
      "cell_type": "markdown",
      "metadata": {
        "id": "sit9hHPfjezh"
      },
      "source": [
        "### 8.1.2. Passando informações para uma função"
      ]
    },
    {
      "cell_type": "code",
      "execution_count": null,
      "metadata": {
        "id": "C99QbLZljezh",
        "outputId": "bfe25933-cfb0-41ee-e88d-6ac3d57fd0b0"
      },
      "outputs": [
        {
          "name": "stdout",
          "output_type": "stream",
          "text": [
            "Olá Mário ,como vai você?\n"
          ]
        }
      ],
      "source": [
        "#definindo função com parâmetro\n",
        "def saudacao(pessoa: str):\n",
        "    \"\"\"\"Exibe uma saudação simples\"\"\"\n",
        "    print('Olá',pessoa.title(),',como vai você?')\n",
        "\n",
        "#chamando a função\n",
        "saudacao('mário')"
      ]
    },
    {
      "cell_type": "markdown",
      "metadata": {
        "id": "YCYIDewejezi"
      },
      "source": [
        "### 8.1.3. Argumentos x Parâmetros"
      ]
    },
    {
      "cell_type": "markdown",
      "metadata": {
        "id": "0RkCK-Pwjezj"
      },
      "source": [
        "A variável `pessoa` na definição de `saudacao()` é um exemplo de parâmetro **parâmetro : uma informação de que a função precisa para executar sua tarefa**. O valor `mário` em `saudacao('mário')` é um exemplo de argumento. Um **argumento é uma informação passada para uma função em sua chamada**. Quando chamamos a função, colocamos entre parênteses o valor com que queremos que a função trabalhe. Nesse caso, o argumento `mário` foi passado para a função `saudacao()` e o valor foi armazenado no parâmetro username.\n",
        "\n",
        "Em outras palavras **ARGUMENTO É O VALOR DO PARÂMETRO**"
      ]
    },
    {
      "cell_type": "markdown",
      "metadata": {
        "id": "durRhG9wjezj"
      },
      "source": [
        "### 8.1.4. Exercícios"
      ]
    },
    {
      "cell_type": "markdown",
      "metadata": {
        "id": "23cMRRZDjezj"
      },
      "source": [
        "8.1 – Mensagem: Escreva uma função chamada display_message() que mostre uma frase informando a todos o que você está aprendendo neste capítulo. Chame a função e certifique-se de que a mensagem seja exibida corretamente."
      ]
    },
    {
      "cell_type": "code",
      "execution_count": null,
      "metadata": {
        "id": "YfEyE0Zkjezk",
        "outputId": "3cfc13a9-ef16-4707-c8dd-cdbb904eaffa"
      },
      "outputs": [
        {
          "name": "stdout",
          "output_type": "stream",
          "text": [
            "Estamos aprendendo sobre funções!\n"
          ]
        }
      ],
      "source": [
        "#definindo a função\n",
        "def msg():\n",
        "    print('Estamos aprendendo sobre funções!')\n",
        "\n",
        "#chamando a função\n",
        "msg()"
      ]
    },
    {
      "cell_type": "markdown",
      "metadata": {
        "id": "PZga8apwjezk"
      },
      "source": [
        "8.2 – Livro favorito: Escreva uma função chamada favorite_book() que aceite um parâmetro title. A função deve exibir uma mensagem como Um dos meus livros favoritos é Alice no país das maravilhas. Chame a função e não se\n",
        "esqueça de incluir o título do livro como argumento na chamada da função."
      ]
    },
    {
      "cell_type": "code",
      "execution_count": null,
      "metadata": {
        "id": "zzc8TJ4kjezk",
        "outputId": "2076e6af-f522-41b2-d8c4-d07228b03a27"
      },
      "outputs": [
        {
          "name": "stdout",
          "output_type": "stream",
          "text": [
            "O livro favorito é O Crepúsculo Dos Ídolos\n"
          ]
        }
      ],
      "source": [
        "#definindo a função\n",
        "def livro_fav(nome: str):\n",
        "    print('O livro favorito é',nome.title())\n",
        "\n",
        "#chamando a função\n",
        "livro_fav('O crepúsculo dos ídolos')"
      ]
    },
    {
      "cell_type": "markdown",
      "metadata": {
        "id": "zF_fQcCKjezl"
      },
      "source": [
        "### 8.1.5. Passando argumentos para uma função:"
      ]
    },
    {
      "cell_type": "markdown",
      "metadata": {
        "id": "PpixmahUjezl"
      },
      "source": [
        "Pelo fato de ser possível que uma definição de função tenha vários parâmetros, uma chamada de função pode precisar de diversos argumentos. Os argumentos podem ser passados para as funções de\n",
        "várias maneiras. Podemos usar argumentos posicionais, que devem estar na mesma ordem em que os parâmetros foram escritos, argumentos nomeados (keyword arguments), em que cada argumento é constituído de um nome de variável e de um valor, ou por meio de listas e dicionários de valores. Vamos analisar cada um deles."
      ]
    },
    {
      "cell_type": "markdown",
      "metadata": {
        "id": "3KL7ioLNjezl"
      },
      "source": [
        "#### Argumentos posicionais"
      ]
    },
    {
      "cell_type": "markdown",
      "metadata": {
        "id": "1ntYUVx6jezl"
      },
      "source": [
        "Quando chamamos uma função, Python precisa fazer a correspondência entre cada argumento da chamada da função e um parâmetro da definição. A maneira mais simples de fazer isso é contar com a ordem dos argumentos fornecidos. Valores cuja correspondência seja feita dessa maneira são chamados de argumentos posicionais.\n",
        "\n",
        "Podemos usar tantos argumentos posicionais quantos forem necessários nas funções. Python trabalha com os argumentos fornecidos na chamada da função e faz a correspondência de cada um com o parâmetro associado na definição da função.\n",
        "\n",
        "Podemos obter resultados inesperados se confundirmos a ordem dos argumentos em uma chamada de função quando argumentos posicionais forem usados"
      ]
    },
    {
      "cell_type": "code",
      "execution_count": null,
      "metadata": {
        "id": "zr9KxDsJjezm",
        "outputId": "848a1c1c-abe9-4e7c-f254-a51fac98dc75"
      },
      "outputs": [
        {
          "name": "stdout",
          "output_type": "stream",
          "text": [
            "Eu tenho um cão cujo o nome é Bibola\n"
          ]
        }
      ],
      "source": [
        "def descricao_pet(especie, nome):\n",
        "    \"\"\"Exibe informações sobre um animal de estimação\"\"\"\n",
        "    print('Eu tenho um',especie.lower(),'cujo o nome é',nome.title())\n",
        "\n",
        "descricao_pet('cão','bibola') #argumento POSICIONAL"
      ]
    },
    {
      "cell_type": "markdown",
      "metadata": {
        "id": "agwV3BbXjezm"
      },
      "source": [
        "#### Argumentos nomeados"
      ]
    },
    {
      "cell_type": "markdown",
      "metadata": {
        "id": "njy-TBNAjezm"
      },
      "source": [
        "Um argumento nomeado (keyword argument) é um par nome-valor passado para uma função. Associamos diretamente o nome e o valor no próprio argumento para que não haja confusão quando ele for passado\n",
        "para a função (você não acabará com um harry chamado Hamster). Argumentos nomeados fazem com que você não precise se preocupar com a ordem correta de seus argumentos na chamada da função e deixam claro o papel de cada valor na chamada."
      ]
    },
    {
      "cell_type": "code",
      "execution_count": null,
      "metadata": {
        "id": "kQO1EA1fjezm",
        "outputId": "4bda6dc9-3cd1-4e8c-ea13-3742644470cd"
      },
      "outputs": [
        {
          "name": "stdout",
          "output_type": "stream",
          "text": [
            "Eu tenho um cao cujo o nome é Bibola\n"
          ]
        }
      ],
      "source": [
        "def descricao_pet(especie, nome):\n",
        "    \"\"\"Exibe informações sobre um animal de estimação\"\"\"\n",
        "    print('Eu tenho um',especie.lower(),'cujo o nome é',nome.title())\n",
        "\n",
        "descricao_pet(nome = 'bibola',especie = 'cao') #argumento NOMEADO"
      ]
    },
    {
      "cell_type": "markdown",
      "metadata": {
        "id": "UlIqLGOejezn"
      },
      "source": [
        "#### Valores Default"
      ]
    },
    {
      "cell_type": "markdown",
      "metadata": {
        "id": "NskJY9UXjezn"
      },
      "source": [
        "Ao escrever uma função, podemos definir um valor default para cada parâmetro. Se um argumento para um parâmetro for especificado na chamada da função, Python usará o valor desse argumento. Se não for,\n",
        "o valor default do parâmetro será utilizado. Portanto, se um valor default for definido para um parâmetro, você poderá excluir o argumento\n",
        "correspondente, que normalmente seria especificado na chamada da função. Usar valores default pode simplificar suas chamadas de função e deixar mais claro o modo como suas funções normalmente são\n",
        "utilizadas."
      ]
    },
    {
      "cell_type": "code",
      "execution_count": null,
      "metadata": {
        "id": "2onBOWV-jezn",
        "outputId": "107795c8-dc2f-46da-a85c-66e8d4c8a268"
      },
      "outputs": [
        {
          "name": "stdout",
          "output_type": "stream",
          "text": [
            "Eu tenho um cao cujo o nome é Bibola\n"
          ]
        }
      ],
      "source": [
        "def descricao_pet(nome: str,especie = 'cao'): #argumentos DEFAULT deve ser definido por último\n",
        "    \"\"\"Exibe informações sobre um animal de estimação\"\"\"\n",
        "    print('Eu tenho um',especie.lower(),'cujo o nome é',nome.title())\n",
        "\n",
        "descricao_pet('bibola') #a espécie já é DEFAULT, restando apenas fornecer o nome"
      ]
    },
    {
      "cell_type": "markdown",
      "metadata": {
        "id": "Er3JQ-6Pjezo"
      },
      "source": [
        "### 8.1.6. Exercícios8"
      ]
    },
    {
      "cell_type": "markdown",
      "metadata": {
        "id": "FseX4ZlWjezo"
      },
      "source": [
        "8.3 – Camiseta: Escreva uma função chamada make_shirt() que aceite um tamanho e o texto de uma mensagem que deverá ser estampada na camiseta. A função deve exibir uma frase que mostre o tamanho da camiseta e a\n",
        "mensagem estampada. Chame a função uma vez usando argumentos posicionais para criar uma camiseta. Chame a função uma segunda vez usando argumentos nomeados."
      ]
    },
    {
      "cell_type": "code",
      "execution_count": null,
      "metadata": {
        "id": "tDMdPsJcjezo",
        "outputId": "930dfe5c-7694-4a33-b04c-5dd93092940d"
      },
      "outputs": [
        {
          "name": "stdout",
          "output_type": "stream",
          "text": [
            "Sua camiseta de tamanho XG com a frase Sensação Sensacional!!! está pronta.\n"
          ]
        }
      ],
      "source": [
        "def camiseta(tamanho:str, msg:str):\n",
        "    print('Sua camiseta de tamanho',tamanho.upper(),'com a frase',msg,'está pronta.')\n",
        "\n",
        "camiseta('xg','Sensação Sensacional!!!')"
      ]
    },
    {
      "cell_type": "markdown",
      "metadata": {
        "id": "mUUh0Q-djezp"
      },
      "source": [
        "8.4 – Camisetas grandes: Modifique a função make_shirt() de modo que as camisetas sejam grandes por default, com uma mensagem Eu amo Python. Crie uma camiseta grande e outra média com a mensagem default, e uma camiseta de qualquer tamanho com uma mensagem diferente."
      ]
    },
    {
      "cell_type": "code",
      "execution_count": null,
      "metadata": {
        "id": "-iGteTNGjezp",
        "outputId": "94abeac0-9f2c-4790-91b4-9a81b003ed1e"
      },
      "outputs": [
        {
          "name": "stdout",
          "output_type": "stream",
          "text": [
            "Sua camiseta de tamanho \"G\" com a frase I love Python!!! está pronta.\n",
            "Sua camiseta de tamanho M com a frase I love Python!!! está pronta.\n",
            "Sua camiseta de tamanho P com a frase \"É que eu sou tão baixinha... <3\" está pronta.\n"
          ]
        }
      ],
      "source": [
        "def camiseta(msg='I love Python!!!', tamanho='\"G\"'):\n",
        "    print('Sua camiseta de tamanho',tamanho.upper(),'com a frase',msg,'está pronta.')\n",
        "\n",
        "camiseta()#msg e tamanho DEFAULT\n",
        "camiseta(tamanho='M') #msg DEFAULT\n",
        "camiseta(tamanho='P',msg='\"É que eu sou tão baixinha... <3\"')\n"
      ]
    },
    {
      "cell_type": "markdown",
      "metadata": {
        "id": "P55kG_5Jjezp"
      },
      "source": [
        "8.5 – Cidades: Escreva uma função chamada describe_city() que aceite o nome de uma cidade e seu país. A função deve exibir uma frase simples, como Reykjavik está localizada na Islândia. Forneça um valor default ao parâmetro que representa o país. Chame sua função para três cidades diferentes em que pelo menos uma delas não esteja no país default."
      ]
    },
    {
      "cell_type": "code",
      "execution_count": null,
      "metadata": {
        "id": "nuJfvzWpjezq",
        "outputId": "c4a504cb-34eb-4ee7-d468-18cac3c7793c"
      },
      "outputs": [
        {
          "name": "stdout",
          "output_type": "stream",
          "text": [
            "A cidade de Juatuba (Brasil) é conhecida como terra dos juás\n",
            "A cidade de Florestal (Brasil) é conhecida como terra das florestas\n",
            "A cidade de Califórnia (Estados Unidos) é conhecida como terra da Mia Khalifa\n"
          ]
        }
      ],
      "source": [
        "def descricao_cidade(nome: str, descricao: str, pais = 'Brasil'):\n",
        "    print('A cidade de',nome.title(),f'({pais.title()})','é conhecida como',descricao)\n",
        "\n",
        "descricao_cidade('Juatuba','terra dos juás') #país DEFAULT\n",
        "descricao_cidade('Florestal','terra das florestas') #país DEFAULT\n",
        "descricao_cidade('Califórnia','terra da Mia Khalifa','Estados Unidos') #parâmetro POSICIONAL"
      ]
    },
    {
      "cell_type": "markdown",
      "metadata": {
        "id": "dl8zr8WKjezq"
      },
      "source": [
        "## 8.2. Valores de retorno"
      ]
    },
    {
      "cell_type": "markdown",
      "metadata": {
        "id": "VUTpE_Eujezq"
      },
      "source": [
        "### 8.2.1. Retornando um valor simples"
      ]
    },
    {
      "cell_type": "markdown",
      "metadata": {
        "id": "QQJWxwI3jezr"
      },
      "source": [
        "Quando chamamos uma função que devolve um valor, precisamos fornecer uma variável em que o valor de retorno possa ser armazenado."
      ]
    },
    {
      "cell_type": "code",
      "execution_count": null,
      "metadata": {
        "id": "T5yFJTpnjezr",
        "outputId": "ae5b5dfe-7f4b-405b-d248-e474d5414d44"
      },
      "outputs": [
        {
          "data": {
            "text/plain": [
              "'Jimi Hendrix'"
            ]
          },
          "execution_count": 28,
          "metadata": {},
          "output_type": "execute_result"
        }
      ],
      "source": [
        "def formata_nome(nome:str, sobrenome: str):\n",
        "    musico = nome.title() + ' ' +sobrenome.title()\n",
        "    return musico\n",
        "\n",
        "formata_nome('jimi','hendrix')"
      ]
    },
    {
      "cell_type": "markdown",
      "metadata": {
        "id": "H9s5o6Pgjezr"
      },
      "source": [
        "### 8.2.2. Valores opcionais"
      ]
    },
    {
      "cell_type": "code",
      "execution_count": null,
      "metadata": {
        "id": "mTGlbhALjezr",
        "outputId": "09cee856-9cb9-47a3-ae5e-62953ca35cf8"
      },
      "outputs": [
        {
          "data": {
            "text/plain": [
              "'Mário Lucas Miguel'"
            ]
          },
          "execution_count": 29,
          "metadata": {},
          "output_type": "execute_result"
        }
      ],
      "source": [
        "def formata_nome(nome:str,sobrenome:str,nome_meio = ''): #argumentos DEFAULT devem ser passados no final\n",
        "    if nome_meio:\n",
        "        musico = nome.title() + ' ' + nome_meio.title() + ' ' + sobrenome.title()\n",
        "    else:\n",
        "        musico = nome.title() + ' ' + sobrenome.title()\n",
        "    return musico\n",
        "\n",
        "formata_nome('mário','miguel','lucas')"
      ]
    },
    {
      "cell_type": "markdown",
      "metadata": {
        "id": "W77EDLtKjezs"
      },
      "source": [
        "### 8.2.3. Devolvendo um dicionário"
      ]
    },
    {
      "cell_type": "markdown",
      "metadata": {
        "id": "P97HgOm4jezs"
      },
      "source": [
        "Uma função pode devolver qualquer tipo de valor necessário, incluindo estruturas de dados mais complexas como listas e dicionários."
      ]
    },
    {
      "cell_type": "code",
      "execution_count": null,
      "metadata": {
        "id": "Qnb6OFWGjezs",
        "outputId": "e6912020-a33c-44c2-dfb4-4e8277f3a87c"
      },
      "outputs": [
        {
          "data": {
            "text/plain": [
              "{'primeiro_nome': 'Mário', 'ultimo_nome': 'Miguel'}"
            ]
          },
          "execution_count": 30,
          "metadata": {},
          "output_type": "execute_result"
        }
      ],
      "source": [
        "def constroi_pessoa(nome:str,sobrenome:str):\n",
        "    pessoa = {'primeiro_nome':nome.title(),'ultimo_nome':sobrenome.title()}\n",
        "    return pessoa\n",
        "\n",
        "constroi_pessoa('mário','miguel')"
      ]
    },
    {
      "cell_type": "markdown",
      "metadata": {
        "id": "-VlzjTt3jezs"
      },
      "source": [
        "### 8.2.4. Usando uma função com laço while"
      ]
    },
    {
      "cell_type": "code",
      "execution_count": null,
      "metadata": {
        "id": "1MVeCfo1jezt"
      },
      "outputs": [],
      "source": [
        "def formata_nome(nome:str, sobrenome: str):\n",
        "    musico = nome.title() + ' ' +sobrenome.title()\n",
        "    return musico\n",
        "\n",
        "while True:\n",
        "    continuar = input('Inserir dados: [s/n]')\n",
        "    if continuar.lower() == 's':\n",
        "        n1 = input('Primeiro nome: ')\n",
        "        n2 = input('Sobrenome: ')\n",
        "        print(formata_nome(n1,n2))\n",
        "    else:\n",
        "        break"
      ]
    },
    {
      "cell_type": "markdown",
      "metadata": {
        "id": "NWWrkJywjezt"
      },
      "source": [
        "### 8.2.5. Exercícios"
      ]
    },
    {
      "cell_type": "markdown",
      "metadata": {
        "id": "UIGGwBMIjezt"
      },
      "source": [
        "8.6 – Nomes de cidade: Escreva uma função chamada city_country() que aceite o nome de uma cidade e seu país. A função deve devolver uma string formatada assim: \"Santiago, Chile\" Chame sua função com pelo menos três pares cidade-país e apresente o valor devolvido."
      ]
    },
    {
      "cell_type": "code",
      "execution_count": null,
      "metadata": {
        "id": "FL2z9xf8jezt",
        "outputId": "e1801836-820b-482b-e8a9-9345310b9064"
      },
      "outputs": [
        {
          "data": {
            "text/plain": [
              "'Santiago Chile'"
            ]
          },
          "execution_count": 32,
          "metadata": {},
          "output_type": "execute_result"
        }
      ],
      "source": [
        "def cidade_pais(nome:str, pais:str):\n",
        "    formatado = nome.title() + ' ' + pais.title()\n",
        "    return formatado\n",
        "\n",
        "cidade_pais('santiago', 'chile')"
      ]
    },
    {
      "cell_type": "markdown",
      "metadata": {
        "id": "FjfuMpJ_jezu"
      },
      "source": [
        "8.7 – Álbum: Escreva uma função chamada make_album() que construa um dicionário descrevendo um álbum musical. A função deve aceitar o nome de um artista e o título de um álbum e deve devolver um dicionário contendo essas\n",
        "duas informações. Use a função para criar três dicionários que representem álbuns diferentes. Apresente cada valor devolvido para mostrar que os dicionários estão armazenando as informações do álbum corretamente.\n",
        "Acrescente um parâmetro opcional em make_album() que permita armazenar o número de faixas em um álbum. Se a linha que fizer a chamada incluir um valor para o número de faixas, acrescente esse valor ao dicionário do álbum. Faça pelo menos uma nova chamada da função incluindo o número de faixas em um álbum."
      ]
    },
    {
      "cell_type": "code",
      "execution_count": null,
      "metadata": {
        "id": "O68nCvKAjezu",
        "outputId": "b08f9f41-2929-4317-b71e-7ae9d0913638"
      },
      "outputs": [
        {
          "name": "stdout",
          "output_type": "stream",
          "text": [
            "{'artista': 'Angra', 'nome_album': 'Aurora Consurgens'}\n",
            "{'artista': 'Angra', 'nome_album': 'Temple of Shadows', 'n_faixas': '13'}\n"
          ]
        }
      ],
      "source": [
        "def make_album(artista:str,nome_album:str,n_faixas=''):\n",
        "    if n_faixas != '':\n",
        "        album = {'artista':artista, 'nome_album':nome_album, 'n_faixas':n_faixas}\n",
        "    else:\n",
        "        album = {'artista':artista, 'nome_album':nome_album}\n",
        "    return album\n",
        "\n",
        "print(make_album('Angra','Aurora Consurgens')) #sem n_faixas\n",
        "print(make_album('Angra','Temple of Shadows','13'))#com n_faixas"
      ]
    },
    {
      "cell_type": "markdown",
      "metadata": {
        "id": "glFrsZuNjezu"
      },
      "source": [
        "8.8 – Álbuns dos usuários: Comece com o seu programa do Exercício 8.7. Escreva um laço while que permita aos usuários fornecer o nome de um artista e o título de um álbum. Depois que tiver essas informações, chame make_album() com as entradas do usuário e apresente o dicionário criado. Lembre-se de incluir um valor de saída no laço while."
      ]
    },
    {
      "cell_type": "code",
      "execution_count": null,
      "metadata": {
        "id": "R6K4aayEjezv"
      },
      "outputs": [],
      "source": [
        "def make_album(artista:str,nome_album:str):\n",
        "    album = {'artista':artista, 'nome_album':nome_album}\n",
        "    return album\n",
        "\n",
        "while True:\n",
        "    continuar = input('Deseja inserir dados? [s/n]')\n",
        "    if continuar != 'n':\n",
        "        nome_artista = input('Qual o nome do artista? ')\n",
        "        nome_album = input('Qual o nome do album? ')\n",
        "        print(make_album(nome_artista,nome_album))\n",
        "    else:\n",
        "        break"
      ]
    },
    {
      "cell_type": "markdown",
      "metadata": {
        "id": "ef0UVbwkjezv"
      },
      "source": [
        "## 8.3. Passando uma lista para uma função"
      ]
    },
    {
      "cell_type": "markdown",
      "metadata": {
        "id": "oet-FbIyjezv"
      },
      "source": [
        "Com frequência, você achará útil passar uma lista para uma função, seja uma lista de nomes, de números ou de objetos mais complexos, como dicionários. Se passarmos uma lista a uma função, ela terá acesso direto ao conteúdo dessa lista."
      ]
    },
    {
      "cell_type": "code",
      "execution_count": null,
      "metadata": {
        "id": "4LKjsrtqjezv",
        "outputId": "4e0d33f5-2ede-4498-c8c9-02296ca11932"
      },
      "outputs": [
        {
          "name": "stdout",
          "output_type": "stream",
          "text": [
            "Olá José seja bem vindo.\n",
            "Olá Maria seja bem vindo.\n"
          ]
        }
      ],
      "source": [
        "def saudacao(lista_nomes: list):\n",
        "    for nome in lista_nomes:\n",
        "        msg = 'Olá ' + nome.title() + ' seja bem vindo.'\n",
        "        print(msg)\n",
        "\n",
        "turminha = ['josé','maria']\n",
        "\n",
        "saudacao(turminha)"
      ]
    },
    {
      "cell_type": "markdown",
      "metadata": {
        "id": "95tIGW6qjezw"
      },
      "source": [
        "### 8.3.1. Modificando uma lista em uma função"
      ]
    },
    {
      "cell_type": "markdown",
      "metadata": {
        "id": "9QHVkMV7jezw"
      },
      "source": [
        "Quando passamos uma lista a uma função, ela pode ser modificada. Qualquer alteração feita na lista no corpo da função é permanente, permitindo trabalhar de modo eficiente, mesmo quando lidamos com grandes quantidades de dados."
      ]
    },
    {
      "cell_type": "code",
      "execution_count": null,
      "metadata": {
        "id": "MYzUUEg5jezw",
        "outputId": "a86d5fdc-2f91-43c9-a651-7a0a39da8436"
      },
      "outputs": [
        {
          "name": "stdout",
          "output_type": "stream",
          "text": [
            "lista de entrada: ['coração', 'arminha', 'cachorrinho']\n",
            "lista de saída: []\n",
            "\n",
            "\t\t TRANSFERINDO ITENS ENTRE AS LISTAS...\n",
            "\n",
            "lista de entrada: []\n",
            "lista de saída: ['cachorrinho', 'arminha', 'coração']\n"
          ]
        }
      ],
      "source": [
        "def impressao(lista_entrada,lista_saida):\n",
        "    print('lista de entrada:',lista_entrada)\n",
        "    print('lista de saída:',lista_saida)\n",
        "    print('\\n\\t\\t TRANSFERINDO ITENS ENTRE AS LISTAS...\\n')\n",
        "    while lista_entrada:\n",
        "        modelo = lista_entrada.pop()\n",
        "        lista_saida.append(modelo)\n",
        "    print('lista de entrada:',lista_entrada)\n",
        "    print('lista de saída:',lista_saida)\n",
        "\n",
        "lista_nao_impressos = ['coração','arminha','cachorrinho']\n",
        "lista_impressos = []\n",
        "\n",
        "impressao(lista_nao_impressos,lista_impressos)\n"
      ]
    },
    {
      "cell_type": "markdown",
      "metadata": {
        "id": "FLnfNRdcjezw"
      },
      "source": [
        "### 8.3.2. Evitando que uma função modifique uma lista"
      ]
    },
    {
      "cell_type": "markdown",
      "metadata": {
        "id": "5bZgJ58mjezx"
      },
      "source": [
        "Você pode enviar uma cópia de uma lista para uma função assim: `nome_da_função(nome_da_lista[:])` A notação de fatia `[:]` cria uma cópia da lista para ser enviada à função."
      ]
    },
    {
      "cell_type": "code",
      "execution_count": null,
      "metadata": {
        "id": "7ZvRBE8Bjezx",
        "outputId": "417f6581-27c6-4d29-c9d2-76299f31b277"
      },
      "outputs": [
        {
          "name": "stdout",
          "output_type": "stream",
          "text": [
            "lista de entrada: ['coração', 'arminha', 'cachorrinho']\n",
            "lista de saída: []\n",
            "\n",
            "\t\t TRANSFERINDO ITENS ENTRE AS LISTAS...\n",
            "\n",
            "lista de entrada: []\n",
            "lista de saída: ['cachorrinho', 'arminha', 'coração']\n",
            "\n",
            "A lista original permanece inalterada:  ['coração', 'arminha', 'cachorrinho']\n"
          ]
        }
      ],
      "source": [
        "def impressao(lista_entrada,lista_saida):\n",
        "    print('lista de entrada:',lista_entrada)\n",
        "    print('lista de saída:',lista_saida)\n",
        "    print('\\n\\t\\t TRANSFERINDO ITENS ENTRE AS LISTAS...\\n')\n",
        "    while lista_entrada:\n",
        "        modelo = lista_entrada.pop()\n",
        "        lista_saida.append(modelo)\n",
        "    print('lista de entrada:',lista_entrada)\n",
        "    print('lista de saída:',lista_saida)\n",
        "\n",
        "lista_nao_impressos = ['coração','arminha','cachorrinho']\n",
        "lista_impressos = []\n",
        "\n",
        "impressao(lista_nao_impressos[:],lista_impressos) #criamos uma copia da 'lista_nao_impressos' usando [:]\n",
        "\n",
        "print('\\nA lista original permanece inalterada: ',lista_nao_impressos)"
      ]
    },
    {
      "cell_type": "markdown",
      "metadata": {
        "id": "5ujPDMh9jezx"
      },
      "source": [
        "### 8.3.3. Exercícios"
      ]
    },
    {
      "cell_type": "markdown",
      "metadata": {
        "id": "Y4DlC0ydjezx"
      },
      "source": [
        "8.9 – Mágicos: Crie uma lista de nomes de mágicos. Passe a lista para uma função chamada show_magicians() que exiba o nome de cada mágico da lista."
      ]
    },
    {
      "cell_type": "code",
      "execution_count": null,
      "metadata": {
        "id": "_2bPsaDmjezx",
        "outputId": "d8b83b68-3229-42bd-db00-7edfc4e94271"
      },
      "outputs": [
        {
          "name": "stdout",
          "output_type": "stream",
          "text": [
            "Eu\n",
            "Você\n",
            "Zooboomafoo\n"
          ]
        }
      ],
      "source": [
        "def mostrar_magos(lista_nomes:list):\n",
        "    for nome in lista_nomes:\n",
        "        print(nome.title())\n",
        "\n",
        "magos = ['eu','você','zooboomafoo']\n",
        "\n",
        "mostrar_magos(magos)"
      ]
    },
    {
      "cell_type": "markdown",
      "metadata": {
        "id": "WFmfs-v1jezy"
      },
      "source": [
        "8.10 – Grandes mágicos: Comece com uma cópia de seu programa do Exercício 8.9. Escreva uma função chamada make_great() que modifique a lista de mágicos acrescentando a expressão o Grande ao nome de cada mágico. Chame show_magicians() para ver se a lista foi realmente modificada."
      ]
    },
    {
      "cell_type": "code",
      "execution_count": null,
      "metadata": {
        "id": "mcCz35gSjezy",
        "outputId": "295b718e-bc40-407b-dcfc-2742a45d8ab7"
      },
      "outputs": [
        {
          "name": "stdout",
          "output_type": "stream",
          "text": [
            "Grande Merlin\n",
            "Grande Salazar\n",
            "Grande Hermes\n"
          ]
        }
      ],
      "source": [
        "def tornar_grande(lista_nomes: list):\n",
        "    for i in range(len(lista_nomes)):\n",
        "        lista_nomes[i] = 'Grande ' + lista_nomes[i]\n",
        "\n",
        "\n",
        "def mostrar_magos(lista_nomes: list):\n",
        "    for nome in lista_nomes:\n",
        "        print(nome.title())\n",
        "\n",
        "magos = ['merlin','salazar','hermes']\n",
        "\n",
        "tornar_grande(magos)\n",
        "mostrar_magos(magos)"
      ]
    },
    {
      "cell_type": "markdown",
      "metadata": {
        "id": "5Pi5slGxjezy"
      },
      "source": [
        "8.11 – Mágicos inalterados: Comece com o trabalho feito no Exercício 8.10. Chame a função make_great() com uma cópia da lista de nomes de mágicos. Como a lista original não será alterada, devolva a nova lista e armazene-a em uma lista separada. Chame show_magicians() com cada lista para mostrar que você tem uma lista de nomes originais e uma lista com a expressão o Grande adicionada ao nome de cada mágico."
      ]
    },
    {
      "cell_type": "code",
      "execution_count": null,
      "metadata": {
        "id": "BWswowC0jezz",
        "outputId": "6e7f5d04-9765-423a-86f4-e0236099a885"
      },
      "outputs": [
        {
          "name": "stdout",
          "output_type": "stream",
          "text": [
            "Lista original:\n",
            "Merlin\n",
            "Salazar\n",
            "Hermes\n",
            "\n",
            "Nova lista com os nomes modificados:\n",
            "Grande Merlin\n",
            "Grande Salazar\n",
            "Grande Hermes\n"
          ]
        }
      ],
      "source": [
        "def tornar_grande(lista_nomes: list) -> list:\n",
        "    nova_lista = lista_nomes[:]\n",
        "    for i in range(len(nova_lista)):\n",
        "        nova_lista[i] = 'Grande ' + nova_lista[i]\n",
        "    return nova_lista\n",
        "\n",
        "def mostrar_magos(lista_nomes: list):\n",
        "    for nome in lista_nomes:\n",
        "        print(nome.title())\n",
        "\n",
        "magos = ['merlin', 'salazar', 'hermes']\n",
        "\n",
        "# Criar uma nova lista com os nomes modificados\n",
        "nova_lista = tornar_grande(magos[:])  # usando cópia\n",
        "\n",
        "# Mostrar a lista original\n",
        "print(\"Lista original:\")\n",
        "mostrar_magos(magos)\n",
        "\n",
        "# Mostrar a nova lista com os nomes modificados\n",
        "print(\"\\nNova lista com os nomes modificados:\")\n",
        "mostrar_magos(nova_lista)"
      ]
    },
    {
      "cell_type": "markdown",
      "metadata": {
        "id": "lzzfSvhgjezz"
      },
      "source": [
        "## 8.4. Passando um número arbitrário de argumentos"
      ]
    },
    {
      "cell_type": "markdown",
      "metadata": {
        "id": "tcBg3MVXjezz"
      },
      "source": [
        "Às vezes, você não saberá com antecedência quantos argumentos uma função deve aceitar. Felizmente, Python permite que uma função receba um número arbitrário de argumentos da instrução de chamada. `*argumento`\n",
        "\n",
        "O asterisco no nome do parâmetro `*toppings` diz a Python para\n",
        "criar uma tupla vazia chamada toppings e reunir os valores recebidos nessa tupla. A instrução print no corpo da função gera uma saída que mostra que Python é capaz de tratar uma chamada de função com um valor e outra chamada com três valores. As chamadas são tratadas de modo semelhante. Observe que Python agrupa os argumentos em uma tupla, mesmo que a função receba apenas um valor."
      ]
    },
    {
      "cell_type": "code",
      "execution_count": null,
      "metadata": {
        "id": "UgEqAx3Cjezz",
        "outputId": "6f72198d-9399-4bc4-e5ee-3e07aba7dcff"
      },
      "outputs": [
        {
          "name": "stdout",
          "output_type": "stream",
          "text": [
            "('pepperoni', 'tomate', 'bacon')\n"
          ]
        }
      ],
      "source": [
        "#Exibindo a tupla de ingredientes\n",
        "\n",
        "def fazer_pizza(*ingredientes):\n",
        "    print(ingredientes)\n",
        "\n",
        "fazer_pizza('pepperoni','tomate','bacon')"
      ]
    },
    {
      "cell_type": "code",
      "execution_count": null,
      "metadata": {
        "id": "N2_jWdnojezz",
        "outputId": "aa33cdb9-7b0e-4c29-a792-2e8e818c81fe"
      },
      "outputs": [
        {
          "name": "stdout",
          "output_type": "stream",
          "text": [
            "Eis os ingredientes da pizza\n",
            " -  Pepperoni\n",
            " -  Tomate\n",
            " -  Bacon\n"
          ]
        }
      ],
      "source": [
        "#Enumerando os elementos da tupla de ingredientes\n",
        "\n",
        "def fazer_pizza(*ingredientes):\n",
        "    print('Eis os ingredientes da pizza')\n",
        "    for ingr in ingredientes:\n",
        "        print(' - ',ingr.title())\n",
        "\n",
        "fazer_pizza('pepperoni','tomate','bacon')"
      ]
    },
    {
      "cell_type": "markdown",
      "metadata": {
        "id": "kR3ON-V8jezz"
      },
      "source": [
        "### 8.4.1. Misturando argumentos posicionais e arbitrários"
      ]
    },
    {
      "cell_type": "markdown",
      "metadata": {
        "id": "5Ygma9W4jez0"
      },
      "source": [
        "Se quiser que uma função aceite vários tipos de argumentos, o\n",
        "parâmetro que aceita um número arbitrário de argumentos deve ser colocado por último na definição da função. Python faz a\n",
        "correspondência de argumentos posicionais e nomeados antes, e depois agrupa qualquer argumento remanescente no último parâmetro."
      ]
    },
    {
      "cell_type": "code",
      "execution_count": null,
      "metadata": {
        "id": "lR-YLez7jez0",
        "outputId": "d1106b18-035f-44cc-e810-08b4b9b0d7d2"
      },
      "outputs": [
        {
          "name": "stdout",
          "output_type": "stream",
          "text": [
            "Os ingredientes para sua pizza G são:\n",
            " -  Pepperoni\n",
            " -  Tomate\n",
            " -  Bacon\n"
          ]
        }
      ],
      "source": [
        "def fazer_pizza(tamanho,*ingredientes):\n",
        "    print('Os ingredientes para sua pizza',tamanho.upper(),'são:')\n",
        "    for ingr in ingredientes:\n",
        "        print(' - ',ingr.title())\n",
        "\n",
        "fazer_pizza('G','pepperoni','tomate','bacon')"
      ]
    },
    {
      "cell_type": "markdown",
      "metadata": {
        "id": "-V2rdG6jjez0"
      },
      "source": [
        "### 8.4.2. Usando argumentos nomeados arbitrários"
      ]
    },
    {
      "cell_type": "markdown",
      "metadata": {
        "id": "10sxVj8Ijez0"
      },
      "source": [
        "Às vezes, você vai querer aceitar um número arbitrário de argumentos, mas não saberá com antecedência qual tipo de informação será passada para a função. Nesse caso, podemos escrever funções que aceitem tantos pares chave-valor quantos forem fornecidos pela instrução que faz a chamada.\n",
        "\n",
        "Um exemplo envolve criar perfis de usuários: você sabe que obterá informações sobre um usuário, mas não tem certeza quanto ao tipo de informação que receberá."
      ]
    },
    {
      "cell_type": "code",
      "execution_count": null,
      "metadata": {
        "id": "Kjnc7dFTjez1",
        "outputId": "7c14d36e-cf0f-4ccd-ba91-808ccf395b20"
      },
      "outputs": [
        {
          "name": "stdout",
          "output_type": "stream",
          "text": [
            "{'primeiro_nome': 'albert', 'ultimo_nome': 'einstein', 'localizacao': 'princeton', 'area': 'fisica'}\n"
          ]
        }
      ],
      "source": [
        "def construir_perfil(primeiro_nome, ultimo_nome, **info_usuario):\n",
        "    \"\"\"Constrói um dicionário contendo tudo que sabemos sobre um usuário.\"\"\"\n",
        "    perfil = {} #cria dicionário vazio\n",
        "    perfil['primeiro_nome'] = primeiro_nome #adiciona o primeiro_nome ao dicionário\n",
        "    perfil['ultimo_nome'] = ultimo_nome #adiciona o ultimo_nome ao dicionário\n",
        "    for chave, valor in info_usuario.items(): #percorre os demais parâmetros\n",
        "        perfil[chave] = valor #adiciona os pares chave-valor ao dicionário\n",
        "    return perfil #retorna o dicionário perfil\n",
        "\n",
        "perfil_usuario = construir_perfil('albert', 'einstein', localizacao='princeton', area='fisica')\n",
        "print(perfil_usuario)\n"
      ]
    },
    {
      "cell_type": "markdown",
      "metadata": {
        "id": "HB84ojDPjez1"
      },
      "source": [
        "### 8.4.3. Exercícios"
      ]
    },
    {
      "cell_type": "markdown",
      "metadata": {
        "id": "pnN43JgVjez1"
      },
      "source": [
        "8.12 – Sanduíches: Escreva uma função que aceite uma lista de itens que uma pessoa quer em um sanduíche. A função deve ter um parâmetro que agrupe tantos itens quantos forem fornecidos pela chamada da função e deve apresentar um resumo do sanduíche pedido. Chame a função três vezes usando um número diferente de argumentos a cada vez."
      ]
    },
    {
      "cell_type": "code",
      "execution_count": null,
      "metadata": {
        "id": "AZmGsfQWjez1",
        "outputId": "66d691ca-94b3-4e34-d83e-80637452ba91"
      },
      "outputs": [
        {
          "name": "stdout",
          "output_type": "stream",
          "text": [
            "Estamos preparando seus sanduiches com os seguintes ingredientes:\n",
            " -  Tomate\n",
            " -  Alface\n",
            " -  Cenoura\n",
            " -  Pão\n",
            "Estamos preparando seus sanduiches com os seguintes ingredientes:\n",
            " -  Carne\n",
            " -  Tomate\n",
            " -  Picles\n",
            " -  Abacaxi\n",
            " -  Pão\n",
            "Estamos preparando seus sanduiches com os seguintes ingredientes:\n",
            " -  Palmito\n",
            " -  Almondegas\n",
            " -  Pão Sem Casca\n"
          ]
        }
      ],
      "source": [
        "def fazer_sanduiche(*ingredientes):\n",
        "    print('Estamos preparando seus sanduiches com os seguintes ingredientes:')\n",
        "    for ingr in ingredientes:\n",
        "        print(' - ',ingr.title())\n",
        "\n",
        "fazer_sanduiche('tomate','alface','cenoura','pão')\n",
        "fazer_sanduiche('carne','tomate','picles','abacaxi','pão')\n",
        "fazer_sanduiche('palmito', 'almondegas','pão sem casca')"
      ]
    },
    {
      "cell_type": "markdown",
      "metadata": {
        "id": "hwDUeeWkjez2"
      },
      "source": [
        "8.13 – Perfil do usuário: Comece com uma cópia de user_profile.py, da página. Crie um perfil seu chamando build_profile(), usando seu primeiro nome e o sobrenome, além de três outros pares chave-valor que o descrevam."
      ]
    },
    {
      "cell_type": "code",
      "execution_count": null,
      "metadata": {
        "id": "GnKPGYPijez2",
        "outputId": "7ad6814a-dea6-4e74-c441-ed08468a4f85"
      },
      "outputs": [
        {
          "name": "stdout",
          "output_type": "stream",
          "text": [
            "{'primeiro_nome': 'Mário', 'ultimo_nome': 'Miguel', 'altura': '1.78 m', 'pais': 'Brasil', 'classe': 'proletariado'}\n"
          ]
        }
      ],
      "source": [
        "def criar_perfil(primeiro_nome, ultimo_nome,**informacoes):\n",
        "    perfil = {} #cria o dicionário vazio \"perfil\"\n",
        "\n",
        "    perfil['primeiro_nome'] = primeiro_nome #adiciona o nome ao dicionário\n",
        "    perfil['ultimo_nome'] = ultimo_nome #adiciona o sobrenome ao dicionário\n",
        "\n",
        "    for chave, valor in informacoes.items(): #percorre o dicionário de informações adicionais\n",
        "        perfil[chave] = valor\n",
        "\n",
        "    print(perfil)\n",
        "\n",
        "criar_perfil('Mário','Miguel',altura='1.78 m', pais='Brasil', classe='proletariado')"
      ]
    },
    {
      "cell_type": "markdown",
      "metadata": {
        "id": "TI8oP0Cyjez2"
      },
      "source": [
        "8.14 – Carros: Escreva uma função que armazene informações sobre um carro em um dicionário. A função sempre deve receber o nome de um fabricante e um modelo. Um número arbitrário de argumentos nomeados então deverá ser aceito. Chame a função com as informações necessárias e dois outros pares nome-valor, por exemplo, uma cor ou um opcional. Sua função deve ser apropriada para uma chamada como esta: car = make_car(‘subaru’, ‘outback’, color=’blue’, tow_package=True) Mostre o dicionário devolvido para garantir que todas as informações foram armazenadas corretamente."
      ]
    },
    {
      "cell_type": "code",
      "execution_count": null,
      "metadata": {
        "id": "X70zha9cjez3",
        "outputId": "93d29d10-2870-4b46-824b-d082d33ecc5c"
      },
      "outputs": [
        {
          "name": "stdout",
          "output_type": "stream",
          "text": [
            "{'nome': 'subaru', 'fabricante': 'outback', 'color': 'blue', 'tow_package': True} \n",
            "\n",
            "Nome : subaru\n",
            "Fabricante : outback\n",
            "Color : blue\n",
            "Tow_Package : True\n"
          ]
        }
      ],
      "source": [
        "def catalalogo_carros(nome, fabricante,**informacoes):\n",
        "    ficha = {}\n",
        "    ficha['nome'] = nome\n",
        "    ficha['fabricante'] = fabricante\n",
        "    for chave,valor in informacoes.items():\n",
        "        ficha[chave] = valor\n",
        "    print(ficha,'\\n')\n",
        "    for chave,valor in ficha.items():\n",
        "        print(chave.title(),':',valor)\n",
        "\n",
        "car = catalalogo_carros('subaru', 'outback', color='blue', tow_package=True)"
      ]
    },
    {
      "cell_type": "markdown",
      "metadata": {
        "id": "pcWIUAEPjez3"
      },
      "source": [
        "## 8.5. Armazenando funções em módulos"
      ]
    },
    {
      "cell_type": "markdown",
      "metadata": {
        "id": "bwbue73Mjez3"
      },
      "source": [
        "Uma vantagem das funções é a maneira como elas separam blocos de código de seu programa principal. Ao usar nomes descritivos para suas funções, será bem mais fácil entender o seu programa principal. Você pode dar um passo além armazenando suas funções em um arquivo separado chamado módulo e, então, importar esse módulo em seu programa principal. Uma instrução import diz a Python para deixar o\n",
        "código de um módulo disponível no arquivo de programa em execução no momento.\n",
        "\n",
        "Armazenar suas funções em um arquivo separado permite ocultar os detalhes do código de seu programa e se concentrar na lógica de nível mais alto. Também permite reutilizar funções em muitos programas diferentes. Quando armazenamos funções em arquivos separados, podemos compartilhar esses arquivos com outros programadores sem a necessidade de compartilhar o programa todo. Saber como importar funções também possibilita usar bibliotecas de funções que outros programadores escreveram."
      ]
    },
    {
      "cell_type": "markdown",
      "metadata": {
        "id": "t4iBo6Ndjez3"
      },
      "source": [
        "### 8.5.1. Importando um módulo completo"
      ]
    },
    {
      "cell_type": "markdown",
      "metadata": {
        "id": "u_01eCTPjez3"
      },
      "source": [
        "Para começar a importar funções, inicialmente precisamos criar um módulo. Um módulo é um arquivo terminado em .py que contém o código que queremos importar para o nosso programa.\n",
        "\n",
        "Vamos criar um arquivo separado `sanduiche.py` que contém a função `fazer_sanduiche()` e a função `tem_nao` conforme o código abaixo:\n",
        "\n",
        "```\n",
        "def fazer_sanduix(tamanho,*ingredientes):\n",
        "    print('Estamos preparando seu sanduiche...')\n",
        "    print('TAMANHO:',tamanho)\n",
        "    for ingr in ingredientes:\n",
        "        print(' - ',ingr,'foi adicionado...')\n",
        "    print('Seu sanduiche está a caminho')\n",
        "\n",
        "def tem_nao():\n",
        "    print('TEM PÃO VÉIO AQUI NÃO, MALUCO!')\n",
        "```"
      ]
    },
    {
      "cell_type": "code",
      "execution_count": null,
      "metadata": {
        "id": "1ZlaU1uejez4",
        "outputId": "af18a0ae-99ba-4e06-ab1a-a7b3d96ea937"
      },
      "outputs": [
        {
          "name": "stdout",
          "output_type": "stream",
          "text": [
            "Estamos preparando seu sanduiche...\n",
            "TAMANHO: 16\n",
            " -  pao foi adicionado...\n",
            " -  carne foi adicionado...\n",
            " -  salada foi adicionado...\n",
            "Seu sanduiche está a caminho\n"
          ]
        }
      ],
      "source": [
        "import sanduiches #importa o módulo (nome do arquivo)\n",
        "\n",
        "sanduiches.fazer_sanduix(16,'pao','carne','salada') #usa a função (nome do arquivo.nome da função)"
      ]
    },
    {
      "cell_type": "markdown",
      "metadata": {
        "id": "vFrzHM1Djez4"
      },
      "source": [
        "### 8.5.2. Importando funções específicas"
      ]
    },
    {
      "cell_type": "code",
      "execution_count": null,
      "metadata": {
        "id": "-nEcwSDvjez4",
        "outputId": "93028adb-60e5-4b50-b608-143ef8cc8f3d"
      },
      "outputs": [
        {
          "name": "stdout",
          "output_type": "stream",
          "text": [
            "TEM PÃO VÉIO AQUI NÃO, MALUCO!\n"
          ]
        }
      ],
      "source": [
        "from sanduiches import tem_nao\n",
        "\n",
        "print(tem_nao())"
      ]
    },
    {
      "cell_type": "markdown",
      "metadata": {
        "id": "TCOQDVrFjez4"
      },
      "source": [
        "### 8.5.3. Usando a palavra reservada as para atribuir um alias a uma função"
      ]
    },
    {
      "cell_type": "markdown",
      "metadata": {
        "id": "Zf6chRXXjez5"
      },
      "source": [
        "Se o nome de uma função que você importar puder entrar em conflito com um nome existente em seu programa ou se o nome da função for longo, podemos usar um alias único e conciso, que é um nome alternativo, semelhante a um apelido para a função. Dê esse apelido especial à função quando importá-la."
      ]
    },
    {
      "cell_type": "code",
      "execution_count": null,
      "metadata": {
        "id": "PahS7846jez5",
        "outputId": "4aeb8c3b-b89d-4fe3-cbc3-90516de197de"
      },
      "outputs": [
        {
          "data": {
            "text/plain": [
              "'TEM PÃO VÉIO AQUI NÃO, MALUCO!'"
            ]
          },
          "execution_count": 1,
          "metadata": {},
          "output_type": "execute_result"
        }
      ],
      "source": [
        "from sanduiches import tem_nao as tn\n",
        "\n",
        "tn()"
      ]
    },
    {
      "cell_type": "markdown",
      "metadata": {
        "id": "RyyK6yigjez5"
      },
      "source": [
        "### 8.5.4. Usando a palavra reservada as para atribuir um alias a um módulo"
      ]
    },
    {
      "cell_type": "markdown",
      "metadata": {
        "id": "x8JMl_2-jez5"
      },
      "source": [
        "Também podemos fornecer um alias para um nome de módulo. Dar um alias conciso a um módulo, por exemplo, p para pizza, permite chamar mais rapidamente as funções do módulo."
      ]
    },
    {
      "cell_type": "code",
      "execution_count": null,
      "metadata": {
        "id": "FIuDSDyajez6",
        "outputId": "5b2872ac-5d63-4104-da75-abc765fba4ea"
      },
      "outputs": [
        {
          "name": "stdout",
          "output_type": "stream",
          "text": [
            "Estamos preparando seu sanduiche...\n",
            "TAMANHO: grande\n",
            " -  pão foi adicionado...\n",
            " -  salada foi adicionado...\n",
            " -  molho foi adicionado...\n",
            "Seu sanduiche está a caminho\n"
          ]
        }
      ],
      "source": [
        "import sanduiches as sdc\n",
        "\n",
        "sdc.fazer_sanduix('grande','pão','salada','molho')"
      ]
    },
    {
      "cell_type": "markdown",
      "metadata": {
        "id": "s-YX7VC4jez6"
      },
      "source": [
        "### 8.5.5. Importando todas as funções de um módulo"
      ]
    },
    {
      "cell_type": "code",
      "execution_count": null,
      "metadata": {
        "id": "wLaWwu24jez7",
        "outputId": "ddce4a4f-0eac-45f1-8a63-5a4680c0c82f"
      },
      "outputs": [
        {
          "name": "stdout",
          "output_type": "stream",
          "text": [
            "Estamos preparando seu sanduiche...\n",
            "TAMANHO: grande\n",
            " -  pão foi adicionado...\n",
            " -  salada foi adicionado...\n",
            " -  molho foi adicionado...\n",
            "Seu sanduiche está a caminho\n"
          ]
        },
        {
          "data": {
            "text/plain": [
              "'TEM PÃO VÉIO AQUI NÃO, MALUCO!'"
            ]
          },
          "execution_count": 5,
          "metadata": {},
          "output_type": "execute_result"
        }
      ],
      "source": [
        "import sanduiches as sdc\n",
        "from sanduiches import*\n",
        "\n",
        "sdc.fazer_sanduix('grande','pão','salada','molho')\n",
        "sdc.tem_nao()"
      ]
    },
    {
      "cell_type": "markdown",
      "metadata": {
        "id": "EUqyteN9jez7"
      },
      "source": [
        "ALÍCIA EMANUELLY"
      ]
    },
    {
      "cell_type": "markdown",
      "metadata": {
        "id": "fAcfOZHNRCuY"
      },
      "source": [
        "# Capítulo 9. Classes"
      ]
    },
    {
      "cell_type": "markdown",
      "metadata": {
        "id": "iObjP3rnRCuc"
      },
      "source": [
        "## 9.1. Criando e usando uma classe"
      ]
    },
    {
      "cell_type": "markdown",
      "metadata": {
        "id": "Qj5D5xu5RCue"
      },
      "source": [
        "Podemos modelar de tudo usando classes. Vamos começar escrevendo uma classe simples, Dog, que representa um cachorro – não um cachorro em particular, mas qualquer cachorro. O que sabemos sobre a maioria dos cachorros de estimação? Bem, todos eles têm um nome e uma idade. Também sabemos que a maioria deles senta e rola. Essas duas informações (nome e idade) e esses dois comportamentos (sentar e rolar) farão parte de nossa classe Dog, pois são comuns à maioria dos cachorros. Essa classe dirá à Python como criar um objeto que represente um cachorro. Depois que nossa classe estiver escrita, ela será usada para criar instâncias individuais, em que cada uma representará um cachorro específico."
      ]
    },
    {
      "cell_type": "markdown",
      "metadata": {
        "id": "Mt7IeszARCuf"
      },
      "source": [
        "### 9.1.1. Criando a classe 'Cao'"
      ]
    },
    {
      "cell_type": "markdown",
      "metadata": {
        "id": "xM-ZTNXiRCug"
      },
      "source": [
        "Cada instância criada a partir da classe Dog armazenará um nome (nome) e uma idade (idade), e daremos a cada cachorro a capacidade de sentar (sentar()) e rolar (rolar()):"
      ]
    },
    {
      "cell_type": "code",
      "execution_count": null,
      "metadata": {
        "id": "rq0sigpFRCug"
      },
      "outputs": [],
      "source": [
        "class Cao(): #parentesis vazios, pois estamos criando a classe do zero\n",
        "    \"\"\"Uma tentativa de modelar um cachorro\"\"\"\n",
        "    def __init__(self, nome, idade): #método que cria instâncias da classe\n",
        "        self.nome = nome #pega o nome e guarda no nome da instância criada\n",
        "        self.idade = idade #pega a idade e guarda na idade da instância criada\n",
        "    def sentar(self): #ação de sentar... não depende de outro parâmetro\n",
        "        print(self.nome.title() + ' está sentado agora!')\n",
        "    def rolar(self): #ação de rolar... não depende de outro parâmetro\n",
        "        print(self.nome.title() + ' está rolando agora!')"
      ]
    },
    {
      "cell_type": "markdown",
      "metadata": {
        "id": "0cl1E8FdRCui"
      },
      "source": [
        "### 9.1.2. Criando uma instância a partir de uma classe"
      ]
    },
    {
      "cell_type": "markdown",
      "metadata": {
        "id": "qNSSkhR9RCui"
      },
      "source": [
        "Pense em uma classe como um conjunto de instruções para criar uma instância. A classe Dog é um conjunto de instruções que diz a Python como criar instâncias individuais que representem cachorros específicos.\n",
        "\n",
        "O método __init__() cria uma instância que representa esse cachorro em particular e define os atributos name e age com os valores que fornecemos. Esse método não tem uma instrução return explícita, mas Python devolve automaticamente uma instância que representa esse cachorro. Armazenamos essa instância na variável `cao1`"
      ]
    },
    {
      "cell_type": "code",
      "execution_count": null,
      "metadata": {
        "id": "Q2dYch_TRCuj",
        "outputId": "19cf0003-50e5-45f4-e682-499a05515ecb"
      },
      "outputs": [
        {
          "name": "stdout",
          "output_type": "stream",
          "text": [
            "O nome do meu cão é Bibola .\n",
            "Meu cão tem 4 anos de idade.\n",
            "Bibola está sentado agora!\n",
            "Bibola está rolando agora!\n"
          ]
        }
      ],
      "source": [
        "#criando o objeto \"cao1\", instância da classe Cao()\n",
        "cao1 = Cao('Bibola', 4)\n",
        "\n",
        "#Invocando os atriutos 'nome' e 'idade' de cao1\n",
        "print('O nome do meu cão é',cao1.nome,'.')\n",
        "print('Meu cão tem',cao1.idade,'anos de idade.')\n",
        "\n",
        "#Invocando os métodos 'sentar()' e 'rolar()'\n",
        "cao1.sentar()\n",
        "cao1.rolar()"
      ]
    },
    {
      "cell_type": "code",
      "execution_count": null,
      "metadata": {
        "id": "kmWhvdcNRCul",
        "outputId": "1c2b2125-6a74-40a7-acf2-e4c60c40e36e"
      },
      "outputs": [
        {
          "name": "stdout",
          "output_type": "stream",
          "text": [
            "O nome do meu cão é Kiara .\n",
            "Meu cão tem 3 anos de idade.\n",
            "Kiara está sentado agora!\n",
            "Kiara está rolando agora!\n"
          ]
        }
      ],
      "source": [
        "#criando o objeto \"cao2\", instância da classe Cao()\n",
        "cao2 = Cao('Kiara',3)\n",
        "\n",
        "#Invocando os atriutos 'nome' e 'idade' de cao2\n",
        "print('O nome do meu cão é',cao2.nome,'.')\n",
        "print('Meu cão tem',cao2.idade,'anos de idade.')\n",
        "\n",
        "#Invocando os métodos 'sentar()' e 'rolar()'\n",
        "cao2.sentar()\n",
        "cao2.rolar()\n"
      ]
    },
    {
      "cell_type": "markdown",
      "metadata": {
        "id": "f28mk_rJRCum"
      },
      "source": [
        "Mesmo que usássemos o mesmo nome e a mesma idade para o segundo cachorro, Python criaria uma instância separada da classe Dog. Você pode criar tantas instâncias de uma classe quantas forem necessárias, desde que dê a cada instância um nome de variável único ou que ela ocupe uma única posição em uma lista ou dicionário."
      ]
    },
    {
      "cell_type": "markdown",
      "metadata": {
        "id": "qq8IRzeyRCum"
      },
      "source": [
        "### 9.1.3. Exercícios"
      ]
    },
    {
      "cell_type": "markdown",
      "metadata": {
        "id": "7YUfJAM-RCum"
      },
      "source": [
        "9.1 – Restaurante: Crie uma classe chamada Restaurant. O método __init__() de Restaurant deve armazenar dois atributos: restaurant_name e cuisine_type. Crie um método chamado describe_restaurant() que mostre essas duas informações, e um método de nome open_restaurant() que exiba uma mensagem informando que o restaurante está aberto. Crie uma instância chamada restaurant a partir de sua classe.Mostre os dois atributos individualmente e, em seguida, chame os dois métodos.\n",
        "\n",
        "9.2 – Três restaurantes: Comece com a classe do Exercício 9.1. Crie três instâncias diferentes da classe e chame describe_restaurant() para cada instância."
      ]
    },
    {
      "cell_type": "code",
      "execution_count": null,
      "metadata": {
        "id": "rjcA3A2qRCun",
        "outputId": "36e36313-7d84-4e58-e402-08974ba2a1b3"
      },
      "outputs": [
        {
          "name": "stdout",
          "output_type": "stream",
          "text": [
            "O(a) Cozinha Do Chico é um restaurante com Chapa e Churrasqueira\n",
            "O restaurante está aberto agora!\n",
            "O restaurante está fechado agora!\n",
            "O(a) Restaurante Da Ziza é um restaurante com Fogão à linha\n",
            "O restaurante está aberto agora!\n",
            "O restaurante está fechado agora!\n",
            "O(a) Cozinha Da Patrícia é um restaurante com Chapa, Fogão e Churrasqueira\n",
            "O restaurante está aberto agora!\n",
            "O restaurante está fechado agora!\n"
          ]
        }
      ],
      "source": [
        "class Restaurante():\n",
        "    def __init__(self,nome,cozinha):\n",
        "        self.nome = nome\n",
        "        self.cozinha = cozinha\n",
        "    def descricao(self):\n",
        "        print('O(a)',self.nome.title(),'é um restaurante com',self.cozinha)\n",
        "    def abrir(self):\n",
        "        print('O restaurante está aberto agora!')\n",
        "    def fechar(self):\n",
        "        print('O restaurante está fechado agora!')\n",
        "\n",
        "restaurante1 = Restaurante('Cozinha do Chico','Chapa e Churrasqueira')\n",
        "restaurante1.descricao()\n",
        "restaurante1.abrir()\n",
        "restaurante1.fechar()\n",
        "\n",
        "restaurante2 = Restaurante('restaurante da ziza','Fogão à linha')\n",
        "restaurante2.descricao()\n",
        "restaurante2.abrir()\n",
        "restaurante2.fechar()\n",
        "\n",
        "restaurante3 = Restaurante('Cozinha da patrícia','Chapa, Fogão e Churrasqueira')\n",
        "restaurante3.descricao()\n",
        "restaurante3.abrir()\n",
        "restaurante3.fechar()"
      ]
    },
    {
      "cell_type": "markdown",
      "metadata": {
        "id": "ToS1GWSVRCun"
      },
      "source": [
        "9.3 – Usuários: Crie uma classe chamada User. Crie dois atributos de nomes first_name e last_name e, então, crie vários outros atributos normalmente armazenados em um perfil de usuário. Escreva um método de nome describe_user() que apresente um resumo das informações do usuário. Escreva outro método chamado greet_user() que mostre uma saudação personalizada ao usuário.\n",
        "\n",
        "Crie várias instâncias que representem diferentes usuários e chame os dois métodos para cada usuário."
      ]
    },
    {
      "cell_type": "code",
      "execution_count": null,
      "metadata": {
        "id": "wQ3L6tcLRCun",
        "outputId": "23c85551-6525-4254-c890-54d83bca86b2"
      },
      "outputs": [
        {
          "name": "stdout",
          "output_type": "stream",
          "text": [
            "\n",
            "Saudações, ó grandioso José Martin\n",
            "\n",
            "Nome: Mário \n",
            "Sobrenome: Miguel\n",
            "\n",
            "Saudações, ó grandioso Anna Dorey\n"
          ]
        }
      ],
      "source": [
        "class Usuario():\n",
        "    def __init__(self, nome, sobrenome):\n",
        "        self.nome = nome\n",
        "        self.sobrenome = sobrenome\n",
        "    def descricao(self):\n",
        "        print('\\nNome:',self.nome.title(),'\\nSobrenome:',self.sobrenome.title())\n",
        "    def saudacao(self):\n",
        "        print('\\nSaudações, ó grandioso',self.nome.title(),self.sobrenome.title())\n",
        "\n",
        "user1 = Usuario('josé','martin')\n",
        "user2 = Usuario('mário','miguel')\n",
        "user3 = Usuario('anna','doRey')\n",
        "\n",
        "user1.saudacao()\n",
        "user2.descricao()\n",
        "user3.saudacao()"
      ]
    },
    {
      "cell_type": "markdown",
      "metadata": {
        "id": "fHla1o7oRCuo"
      },
      "source": [
        "## 9.2. Trabalhando com classes e instâncias"
      ]
    },
    {
      "cell_type": "markdown",
      "metadata": {
        "id": "_m-mFVZjRCuo"
      },
      "source": [
        "Podemos usar classes para representar muitas situações do mundo real. Depois que escrever uma classe, você gastará a maior parte de seu tempo trabalhando com instâncias dessa classe. Uma das primeiras tarefas que você vai querer fazer é modificar os atributos associados a uma instância em particular. Podemos modificar os atributos de uma instância diretamente, ou escrever métodos que atualizem os atributos\n",
        "de formas específicas."
      ]
    },
    {
      "cell_type": "markdown",
      "metadata": {
        "id": "QRZ0ccGoRCuo"
      },
      "source": [
        "### 9.2.1. Classe Carro()"
      ]
    },
    {
      "cell_type": "code",
      "execution_count": null,
      "metadata": {
        "id": "s287Y23pRCuo",
        "outputId": "238c0a16-5d7c-4452-828e-254ee2e7ba9b"
      },
      "outputs": [
        {
          "data": {
            "text/plain": [
              "'2016, marca Audi, modelo A4'"
            ]
          },
          "execution_count": 14,
          "metadata": {},
          "output_type": "execute_result"
        }
      ],
      "source": [
        "class Carro():\n",
        "    def __init__(self, marca, modelo, ano):\n",
        "        self.marca = marca\n",
        "        self.modelo = modelo\n",
        "        self.ano = ano\n",
        "    def descricao(self):\n",
        "        nome_completo = str(self.ano) + ', marca ' + self.marca.title() + ', modelo ' + self.modelo.title()\n",
        "        return nome_completo\n",
        "\n",
        "carro1 = Carro('audi','a4',2016)\n",
        "carro1.descricao()"
      ]
    },
    {
      "cell_type": "markdown",
      "metadata": {
        "id": "TjWa80UGRCup"
      },
      "source": [
        "### 9.2.2. Definindo um valor default para um atributo"
      ]
    },
    {
      "cell_type": "markdown",
      "metadata": {
        "id": "7JQLSiMuRCup"
      },
      "source": [
        "Todo atributo de uma classe precisa de um valor inicial, mesmo que esse valor seja 0 ou uma string vazia. Em alguns casos, por exemplo, quando definimos um valor default, faz sentido especificar esse valor inicial no corpo do método __init__(); se isso for feito para um atributo, você não\n",
        "precisará incluir um parâmetro para ele."
      ]
    },
    {
      "cell_type": "code",
      "execution_count": null,
      "metadata": {
        "id": "qTj_PWKpRCup",
        "outputId": "fb1d85fa-64c6-4901-9fba-c43128ccb2c8"
      },
      "outputs": [
        {
          "name": "stdout",
          "output_type": "stream",
          "text": [
            "2016, marca Audi, modelo A4\n",
            "A kilometragem do carro está em: 0km\n"
          ]
        }
      ],
      "source": [
        "class Carro():\n",
        "    def __init__(self, marca, modelo, ano): #\"odometro\" é default e vale 0\n",
        "        self.marca = marca\n",
        "        self.modelo = modelo\n",
        "        self.ano = ano\n",
        "        self.odometro = 0 #\"odometro\" é default e vale 0\n",
        "    def descricao(self):\n",
        "        nome_completo = str(self.ano) + ', marca ' + self.marca.title() + ', modelo ' + self.modelo.title()\n",
        "        return nome_completo\n",
        "    def ler_odometro(self):\n",
        "        print('A kilometragem do carro está em: ' + str(self.odometro) + 'km')\n",
        "\n",
        "carro1 = Carro('audi','a4',2016)\n",
        "\n",
        "print(carro1.descricao())\n",
        "carro1.ler_odometro()"
      ]
    },
    {
      "cell_type": "markdown",
      "metadata": {
        "id": "sD69NituRCuq"
      },
      "source": [
        "### 9.2.3. Modificando valores de atributos"
      ]
    },
    {
      "cell_type": "markdown",
      "metadata": {
        "id": "j1n7dsAGRCuq"
      },
      "source": [
        "#### Modificando o valor de um atributo diretamente"
      ]
    },
    {
      "cell_type": "markdown",
      "metadata": {
        "id": "khFrPJkxRCuq"
      },
      "source": [
        "A maneira mais simples de modificar o valor de um atributo é acessá-lo diretamente por meio de uma instância. A seguir, definimos o valor de leitura do hodômetro para 2300"
      ]
    },
    {
      "cell_type": "code",
      "execution_count": null,
      "metadata": {
        "id": "ESsx0r6pRCuq",
        "outputId": "6c1e9664-bae2-47f5-dbb0-55cac85affc5"
      },
      "outputs": [
        {
          "name": "stdout",
          "output_type": "stream",
          "text": [
            "2016, marca Audi, modelo A4\n",
            "A kilometragem do carro está em: 2300km\n"
          ]
        }
      ],
      "source": [
        "class Carro():\n",
        "    def __init__(self, marca, modelo, ano): #\"odometro\" é default e vale 0\n",
        "        self.marca = marca\n",
        "        self.modelo = modelo\n",
        "        self.ano = ano\n",
        "        self.odometro = 0 #\"odometro\" é default e vale 0\n",
        "    def descricao(self):\n",
        "        nome_completo = str(self.ano) + ', marca ' + self.marca.title() + ', modelo ' + self.modelo.title()\n",
        "        return nome_completo\n",
        "    def ler_odometro(self):\n",
        "        print('A kilometragem do carro está em: ' + str(self.odometro) + 'km')\n",
        "\n",
        "carro1 = Carro('audi','a4',2016)\n",
        "print(carro1.descricao())\n",
        "\n",
        "carro1.odometro = 2300 #modificando o valor do atributo odometro diretamente\n",
        "carro1.ler_odometro()"
      ]
    },
    {
      "cell_type": "markdown",
      "metadata": {
        "id": "FOYHr1WQRCur"
      },
      "source": [
        "#### Modificando o valor de um atributo com um método"
      ]
    },
    {
      "cell_type": "markdown",
      "metadata": {
        "id": "1Kj1AsMQRCur"
      },
      "source": [
        "Pode ser conveniente ter métodos que atualizem determinados atributos para você. Em vez de acessar o atributo de modo direto, passe o novo valor para um método que trate a atualização internamente."
      ]
    },
    {
      "cell_type": "code",
      "execution_count": null,
      "metadata": {
        "id": "mckppakrRCur",
        "outputId": "b91f60e3-313e-4eba-c489-e0920cf52ad5"
      },
      "outputs": [
        {
          "name": "stdout",
          "output_type": "stream",
          "text": [
            "A kilometragem do carro está em: 0km\n",
            "A kilometragem do carro está em: 3400km\n",
            "Você não pode voltar o odômetro, seu trapaceiro!\n",
            "A kilometragem do carro está em: 3400km\n"
          ]
        }
      ],
      "source": [
        "class Carro():\n",
        "    def __init__(self, marca, modelo, ano): #\"odometro\" é default e vale 0\n",
        "        self.marca = marca\n",
        "        self.modelo = modelo\n",
        "        self.ano = ano\n",
        "        self.odometro = 0 #\"odometro\" é default e vale 0\n",
        "    def descricao(self):\n",
        "        nome_completo = str(self.ano) + ', marca ' + self.marca.title() + ', modelo ' + self.modelo.title()\n",
        "        return nome_completo\n",
        "    def ler_odometro(self):\n",
        "        print('A kilometragem do carro está em: ' + str(self.odometro) + 'km')\n",
        "    def atualizar_odometro(self,leitura): #função que atualiza a leitura do odometro\n",
        "        if leitura <= self.odometro:\n",
        "            print('Você não pode voltar o odômetro, seu trapaceiro!')\n",
        "        else:\n",
        "            self.odometro = leitura\n",
        "\n",
        "carro1 = Carro('audi','a4',2016)  #criando a instância\n",
        "carro1.ler_odometro()\n",
        "\n",
        "carro1.atualizar_odometro(3400) #chama a função que atualiza a leitura do odometro\n",
        "carro1.ler_odometro()\n",
        "\n",
        "carro1.atualizar_odometro(1500) #tentando voltar o odometro (trapaça)\n",
        "carro1.ler_odometro()"
      ]
    },
    {
      "cell_type": "markdown",
      "metadata": {
        "id": "o-SFOOVhRCus"
      },
      "source": [
        "#### Incrementando o valor de um atributo com um método"
      ]
    },
    {
      "cell_type": "markdown",
      "metadata": {
        "id": "CZTkmfIMRCus"
      },
      "source": [
        "Às vezes, você vai querer incrementar o valor de um atributo de determinada quantidade, em vez de definir um valor totalmente novo. Suponha que compramos um carro usado e andamos cem milhas entre o instante em que o compramos e o momento em que o registramos."
      ]
    },
    {
      "cell_type": "code",
      "execution_count": null,
      "metadata": {
        "id": "DYQcXWqsRCus",
        "outputId": "a5f917cd-87c6-4c2a-b0c2-6ad0c28addc0"
      },
      "outputs": [
        {
          "name": "stdout",
          "output_type": "stream",
          "text": [
            "0\n",
            "300\n"
          ]
        }
      ],
      "source": [
        "class Carro():\n",
        "    def __init__(self, marca, modelo, ano): #\"odometro\" é default e vale 0\n",
        "        self.marca = marca\n",
        "        self.modelo = modelo\n",
        "        self.ano = ano\n",
        "        self.odometro = 0 #\"odometro\" é default e vale 0\n",
        "    def descricao(self):\n",
        "        nome_completo = str(self.ano) + ', marca ' + self.marca.title() + ', modelo ' + self.modelo.title()\n",
        "        return nome_completo\n",
        "    def ler_odometro(self):\n",
        "        print('A kilometragem do carro está em: ' + str(self.odometro) + 'km')\n",
        "    def atualizar_odometro(self,leitura): #função que atualiza a leitura do odômetro\n",
        "        if leitura <= self.odometro:\n",
        "            print('Você não pode voltar o odômetro, seu trapaceiro!')\n",
        "        else:\n",
        "            self.odometro = leitura\n",
        "    def incrementar_odometro(self,kilometragem): #função que incrementa o odômetro\n",
        "        if kilometragem >= 0:\n",
        "            self.odometro += kilometragem\n",
        "        else:\n",
        "            print('Você não pode voltar o odômetro, seu trapaceiro!')\n",
        "\n",
        "#instanciando a classe\n",
        "carro1 = Carro('fiat','uno',2010)\n",
        "\n",
        "print(carro1.odometro)#mostra o valor default \"odometro=0\"\n",
        "carro1.incrementar_odometro(300)#incrementa 300km\n",
        "print(carro1.odometro)#mostra o valor atualizado \"odometro=300\"\n"
      ]
    },
    {
      "cell_type": "markdown",
      "metadata": {
        "id": "bi7HwvrbRCut"
      },
      "source": [
        "### 9.2.3. Exercícios"
      ]
    },
    {
      "cell_type": "markdown",
      "metadata": {
        "id": "p4Mpr98oRCut"
      },
      "source": [
        "9.4 – Pessoas atendidas: Comece com seu programa do Exercício 9.1. Acrescente um atributo chamado number_served cujo valor default é 0. Crie uma instância chamada restaurant a partir dessa classe. Apresente o número de clientes atendidos pelo restaurante e, em seguida, mude esse valor e exiba-o novamente.\n",
        "\n",
        "Adicione um método chamado set_number_served() que permita definir o número de clientes atendidos. Chame esse método com um novo número e mostre o valor novamente.\n",
        "\n",
        "Acrescente um método chamado increment_number_served() que permita incrementar o número de clientes servidos. Chame esse método com qualquer número que você quiser e que represente quantos clientes foram atendidos, por exemplo, em um dia de funcionamento."
      ]
    },
    {
      "cell_type": "code",
      "execution_count": null,
      "metadata": {
        "id": "h56DvWdxRCut",
        "outputId": "cf947fd4-1f26-42f3-faca-40215a4c7519"
      },
      "outputs": [
        {
          "name": "stdout",
          "output_type": "stream",
          "text": [
            "0\n"
          ]
        },
        {
          "data": {
            "text/plain": [
              "100"
            ]
          },
          "execution_count": 65,
          "metadata": {},
          "output_type": "execute_result"
        }
      ],
      "source": [
        "class Restaurante():\n",
        "    def __init__(self,nome,cozinha):\n",
        "        self.nome = nome\n",
        "        self.cozinha = cozinha\n",
        "        self.num_clientes = 0 #adiciona o atributo \"num_clientes\"\n",
        "    def descricao(self):\n",
        "        print('O(a)',self.nome.title(),'é um restaurante com',self.cozinha)\n",
        "    def abrir(self):\n",
        "        print('O restaurante está aberto agora!')\n",
        "    def fechar(self):\n",
        "        print('O restaurante está fechado agora!')\n",
        "    def alt_num_clientes(self, num): #método que incrementa o \"num_clentes\"\n",
        "        self.num_clientes += num\n",
        "\n",
        "rest1 = Restaurante('Cozinha do zezé','Fogão à lenha') #criando instancia\n",
        "print(rest1.num_clientes) #exibindo o número de clientes\n",
        "\n",
        "rest1.alt_num_clientes(100) #incrementando o número de clientes\n",
        "rest1.num_clientes #exibindo o novo número de clientes"
      ]
    },
    {
      "cell_type": "markdown",
      "metadata": {
        "id": "bkHycaD0RCuu"
      },
      "source": [
        "9.5 – Tentativas de login: Acrescente um atributo chamado login_attempts à sua classe User do Exercício 9.3. Escreva um método chamado increment_login_attempts() que incremente o valor de login_attempts em 1. Escreva outro método chamado reset_login_attempts() que reinicie o valor de login_attempts com 0.\n",
        "\n",
        "Crie uma instância da classe User e chame increment_login_attempts() várias vezes. Exiba o valor de login_attempts para garantir que ele foi incrementado de forma\n",
        "apropriada e, em seguida, chame reset_login_attempts(). Exiba login_attempts novamente para garantir que seu valor foi reiniciado com 0."
      ]
    },
    {
      "cell_type": "code",
      "execution_count": null,
      "metadata": {
        "id": "cUSKWBkPRCuu",
        "outputId": "4c8fa717-48f9-41cb-e8b3-2258e283c4ae"
      },
      "outputs": [
        {
          "name": "stdout",
          "output_type": "stream",
          "text": [
            "0\n",
            "3\n",
            "0\n"
          ]
        }
      ],
      "source": [
        "class Usuario():\n",
        "    def __init__(self, nome, sobrenome):\n",
        "        self.nome = nome\n",
        "        self.sobrenome = sobrenome\n",
        "        self.tentativas_login = 0\n",
        "    def descricao(self):\n",
        "        print('\\nNome:',self.nome.title(),'\\nSobrenome:',self.sobrenome.title())\n",
        "    def saudacao(self):\n",
        "        print('\\nSaudações, ó grandioso',self.nome.title(),self.sobrenome.title())\n",
        "    def incrementa_tentativas_login(self): #cria o método que incrementa tentativas de login\n",
        "        self.tentativas_login += 1\n",
        "    def resetar_tentativas_login(self): #cria o método que reseta o número de tentativas de login\n",
        "        self.tentativas_login = 0\n",
        "\n",
        "usuario1 = Usuario('josé','martin') #instanciando a classe\n",
        "print(usuario1.tentativas_login) #exibindo o valor default do atributo \"tentativas_login=0\"\n",
        "\n",
        "#incrementa tentativas de login 3x\n",
        "usuario1.incrementa_tentativas_login()\n",
        "usuario1.incrementa_tentativas_login()\n",
        "usuario1.incrementa_tentativas_login()\n",
        "print(usuario1.tentativas_login)\n",
        "\n",
        "#reseta tentativas de login\n",
        "usuario1.resetar_tentativas_login()\n",
        "print(usuario1.tentativas_login)"
      ]
    },
    {
      "cell_type": "markdown",
      "metadata": {
        "id": "4yWOmZcbRCuv"
      },
      "source": [
        "## 9.3. Herança"
      ]
    },
    {
      "cell_type": "markdown",
      "metadata": {
        "id": "sokzCpi7RCuv"
      },
      "source": [
        "Nem sempre você precisará começar do zero para escrever uma classe. Se a classe que você estiver escrevendo for uma versão especializada de outra classe já criada, a herança poderá ser usada. Quando uma classe herda de outra, ela assumirá automaticamente todos os atributos e métodos da primeira classe. A classe original se chama classe-pai e a nova classe é a classe-filha. A classe-filha herda todos os atributos e método de sua classe-pai, mas também é livre para definir novos atributos e métodos próprios."
      ]
    },
    {
      "cell_type": "markdown",
      "metadata": {
        "id": "7w_s5buHRCvO"
      },
      "source": [
        "### 9.3.1. Método __init__() de uma classe-filha"
      ]
    },
    {
      "cell_type": "code",
      "execution_count": null,
      "metadata": {
        "id": "odJoLDcYRCvS",
        "outputId": "8f63573c-7c24-4b4c-c328-0a5c23fda47d"
      },
      "outputs": [
        {
          "name": "stdout",
          "output_type": "stream",
          "text": [
            "2016, marca Tesla, modelo Model S\n",
            "A kilometragem do carro está em: 0km\n",
            "A kilometragem foi atualizada para: 200 km\n",
            "A kilometragem foi atualizada para: 1300 km\n"
          ]
        }
      ],
      "source": [
        "#criando a classe-pai\n",
        "class Carro():\n",
        "    def __init__(self, marca, modelo, ano): #\"odometro\" é default e vale 0\n",
        "        self.marca = marca\n",
        "        self.modelo = modelo\n",
        "        self.ano = ano\n",
        "        self.odometro = 0 #\"odometro\" é default e vale 0\n",
        "        self.tamanho_tanque = 100\n",
        "    def descricao(self):\n",
        "        nome_completo = str(self.ano) + ', marca ' + self.marca.title() + ', modelo ' + self.modelo.title()\n",
        "        return nome_completo\n",
        "    def ler_odometro(self):\n",
        "        print('A kilometragem do carro está em: ' + str(self.odometro) + 'km')\n",
        "    def atualizar_odometro(self,leitura): #função que atualiza a leitura do odômetro\n",
        "        if leitura <= self.odometro:\n",
        "            print('Você não pode voltar o odômetro, seu trapaceiro!')\n",
        "        else:\n",
        "            self.odometro = leitura\n",
        "            print('A kilometragem foi atualizada para:',str(self.odometro),'km')\n",
        "    def incrementar_odometro(self,kilometragem): #função que incrementa o odômetro\n",
        "        if kilometragem >= 0:\n",
        "            self.odometro += kilometragem\n",
        "            print('A kilometragem foi atualizada para:',str(self.odometro),'km')\n",
        "        else:\n",
        "            print('Você não pode voltar o odômetro, seu trapaceiro!')\n",
        "    def encher_tanque(self):\n",
        "        print('O tanque de',self.tamanho_tanque,'L está abastecido.')\n",
        "\n",
        "#criando a classe-filha\n",
        "class CarroEletrico(Carro): #referencia a classe-pai Carro\n",
        "    def __init__(self, marca, modelo, ano): #inicializa os atributos da classe-pai\n",
        "        super().__init__(marca, modelo, ano)\n",
        "\n",
        "#instanciando a classe-filha\n",
        "carro_eletrico1 = CarroEletrico('tesla','model S',2016)\n",
        "\n",
        "#acessando atributos e métodos da classe-pai\n",
        "print(carro_eletrico1.descricao())\n",
        "carro_eletrico1.ler_odometro()\n",
        "carro_eletrico1.atualizar_odometro(200)\n",
        "carro_eletrico1.incrementar_odometro(1100)"
      ]
    },
    {
      "cell_type": "markdown",
      "metadata": {
        "id": "7VPwJwrcRCvT"
      },
      "source": [
        "### 9.3.2. Definindo atributos e métodos de classe-filha"
      ]
    },
    {
      "cell_type": "markdown",
      "metadata": {
        "id": "8hu3sY2-RCvT"
      },
      "source": [
        "Depois que tiver uma classe-filha que herde de uma classe-pai, você pode adicionar qualquer atributo ou método novo necessários para diferenciar a classe-filha da classe-pai."
      ]
    },
    {
      "cell_type": "code",
      "execution_count": null,
      "metadata": {
        "id": "gsm_niCFRCvU",
        "outputId": "d4e60271-7637-4219-fd83-a63b643ad7c5"
      },
      "outputs": [
        {
          "name": "stdout",
          "output_type": "stream",
          "text": [
            "Esse carro contem uma bateria no tamanho 70 kWh.\n"
          ]
        }
      ],
      "source": [
        "#criando a classe-filha\n",
        "class CarroEletrico(Carro): #referencia a classe-pai Carro\n",
        "    def __init__(self, marca, modelo, ano): #inicializa os atributos da classe-pai\n",
        "        super().__init__(marca, modelo, ano)\n",
        "        self.tamanho_bateria = 70 #cria atributo da classe-filha referente ao tamanho da bateria\n",
        "    def descricao_bateria(self):\n",
        "        print('Esse carro contem uma bateria no tamanho',str(self.tamanho_bateria),'kWh.')\n",
        "\n",
        "carro_eletrico1 = CarroEletrico('tesla','model S',2016)\n",
        "carro_eletrico1.descricao_bateria()"
      ]
    },
    {
      "cell_type": "markdown",
      "metadata": {
        "id": "Bl37I_0DRCvV"
      },
      "source": [
        "### 9.3.3. Sobrepondo métodos da classe-pai"
      ]
    },
    {
      "cell_type": "markdown",
      "metadata": {
        "id": "P9en7znBRCvW"
      },
      "source": [
        "Qualquer método da classe-pai que não se enquadre no que você estiver tentando modelar com a classe-filha pode ser sobrescrito. Para isso, defina um método na classe-filha com o mesmo nome do método da classe-pai que você deseja sobrescrever. Python desprezará o método da classe-pai e só prestará atenção no método definido na classe-filha."
      ]
    },
    {
      "cell_type": "code",
      "execution_count": null,
      "metadata": {
        "id": "UGu3ce6MRCvW",
        "outputId": "3f27db35-74af-4d14-c70d-db2cb7cb25cc"
      },
      "outputs": [
        {
          "name": "stdout",
          "output_type": "stream",
          "text": [
            "Carros elétricos não tem tanque de combustível.\n"
          ]
        }
      ],
      "source": [
        "#sobrepondo o método \"encher_tanque\" da classe-pai\n",
        "class CarroEletrico(Carro): #referencia a classe-pai Carro\n",
        "    def __init__(self, marca, modelo, ano): #inicializa os atributos da classe-pai\n",
        "        super().__init__(marca, modelo, ano)\n",
        "        self.tamanho_bateria = 70 #cria atributo da classe-filha referente ao tamanho da bateria\n",
        "    def descricao_bateria(self):\n",
        "        print('Esse carro contem uma bateria no tamanho',str(self.tamanho_bateria),'kWh.')\n",
        "    def encher_tanque(self):\n",
        "        print('Carros elétricos não tem tanque de combustível.')\n",
        "\n",
        "#tentando encher o tanque de um carro elétrico\n",
        "carro_eletrico1 = CarroEletrico('tesla','model S',2016)\n",
        "carro_eletrico1.encher_tanque()"
      ]
    },
    {
      "cell_type": "markdown",
      "metadata": {
        "id": "0n5Ne8VrRCvX"
      },
      "source": [
        "### 9.3.4. Instâncias como atributos"
      ]
    },
    {
      "cell_type": "markdown",
      "metadata": {
        "id": "RUGLAk20RCvY"
      },
      "source": [
        "Ao modelar algo do mundo real no código você poderá perceber que está adicionando cada vez mais detalhes em uma classe. Poderá notar que há uma lista crescente de atributos e métodos e que seus arquivos estão começando a ficar extensos. Nessas situações, talvez você perceba que parte de uma classe pode ser escrita como uma classe separada. Sua classe maior poderá ser dividida em partes menores que funcionem em conjunto.\n",
        "\n",
        "Por exemplo, se continuarmos adicionando detalhes à classe ElectricCar, podemos perceber que estamos acrescentando muitos atributos e métodos específicos à bateria do carro. Se percebermos que isso está acontecendo, podemos parar e transferir esses atributos e métodos para uma classe diferente chamada Battery. Então podemos usar uma instância de Battery como atributo da classe ElectricCar:"
      ]
    },
    {
      "cell_type": "code",
      "execution_count": null,
      "metadata": {
        "id": "m8a5m40aRCva",
        "outputId": "261dabdd-bb5c-4fe9-e59f-954c3d05ac29"
      },
      "outputs": [
        {
          "name": "stdout",
          "output_type": "stream",
          "text": [
            "2016, marca Tesla, modelo Model S\n",
            "Esse carro tem uma bateria de 75 kWh.\n",
            "Carros elétricos não têm tanque de combustível.\n"
          ]
        }
      ],
      "source": [
        "# Criando a classe-pai\n",
        "class Carro:\n",
        "    def __init__(self, marca, modelo, ano):\n",
        "        self.marca = marca\n",
        "        self.modelo = modelo\n",
        "        self.ano = ano\n",
        "        self.odometro = 0  # \"odometro\" é default e vale 0\n",
        "        self.tamanho_tanque = 100\n",
        "\n",
        "    def descricao(self):\n",
        "        nome_completo = f\"{self.ano}, marca {self.marca.title()}, modelo {self.modelo.title()}\"\n",
        "        return nome_completo\n",
        "\n",
        "    def ler_odometro(self):\n",
        "        print(f'A kilometragem do carro está em: {self.odometro}km')\n",
        "\n",
        "    def atualizar_odometro(self, leitura):\n",
        "        if leitura <= self.odometro:\n",
        "            print('Você não pode voltar o odômetro, seu trapaceiro!')\n",
        "        else:\n",
        "            self.odometro = leitura\n",
        "            print(f'A kilometragem foi atualizada para: {self.odometro}km')\n",
        "\n",
        "    def incrementar_odometro(self, kilometragem):\n",
        "        if kilometragem >= 0:\n",
        "            self.odometro += kilometragem\n",
        "            print(f'A kilometragem foi atualizada para: {self.odometro}km')\n",
        "        else:\n",
        "            print('Você não pode voltar o odômetro, seu trapaceiro!')\n",
        "\n",
        "    def encher_tanque(self):\n",
        "        print(f'O tanque de {self.tamanho_tanque}L está abastecido.')\n",
        "\n",
        "# Criando a classe Bateria\n",
        "class Bateria:\n",
        "    def __init__(self, tamanho=75):  # Define um valor padrão para tamanho\n",
        "        self.tamanho = tamanho\n",
        "\n",
        "    def descrever_bateria(self):\n",
        "        print(f'Esse carro tem uma bateria de {self.tamanho} kWh.')\n",
        "\n",
        "\n",
        "\n",
        "# Criando a classe-filha\n",
        "class CarroEletrico(Carro):\n",
        "    def __init__(self, marca, modelo, ano):\n",
        "        super().__init__(marca, modelo, ano)\n",
        "        self.bateria = Bateria()  # Cria instância de Bateria()\n",
        "\n",
        "    def descricao_bateria(self):\n",
        "        self.bateria.descrever_bateria()\n",
        "\n",
        "    def encher_tanque(self):\n",
        "        print('Carros elétricos não têm tanque de combustível.')\n",
        "\n",
        "# Testando a classe CarroEletrico\n",
        "carro_eletrico1 = CarroEletrico('tesla', 'model S', 2016)\n",
        "print(carro_eletrico1.descricao())\n",
        "carro_eletrico1.descricao_bateria()\n",
        "carro_eletrico1.encher_tanque()\n"
      ]
    },
    {
      "cell_type": "markdown",
      "metadata": {
        "id": "GXW5h2PxRCvb"
      },
      "source": [
        "### 9.3.5. Modelando objetos do mundo real"
      ]
    },
    {
      "cell_type": "markdown",
      "metadata": {
        "id": "ZyYpS2HqRCvb"
      },
      "source": [
        "À medida que começar a modelar itens mais complexos como carros elétricos, você vai ter que encarar perguntas interessantes. A distância que um carro elétrico é capaz de percorrer é uma propriedade da bateria ou do carro? Se estivermos descrevendo apenas um carro, provavelmente não haverá problemas em manter a associação do método get_range() com a classe Battery. Entretanto, se estivermos descrevendo toda uma linha de carros de um fabricante, é provável que vamos querer transferir get_range() para a classe ElectricCar. O método get_range() continuaria verificando a capacidade da bateria antes de determinar a distância que o carro é capaz de percorrer, mas informaria um alcance específico para o tipo de carro com o qual está associado. De modo alternativo, poderíamos manter a associação entre o método get_range() e a bateria, mas passaríamos um parâmetro a ele, por exemplo, car_model. O método get_range() então informaria a distância que o carro poderá percorrer de acordo com a capacidade da bateria e o modelo do carro.\n",
        "\n",
        "Isso leva você a um ponto interessante em seu crescimento como programador. Quando tiver que encarar questões como essa, você estará pensando em um nível lógico mais alto, em vez de se concentrar no nível da sintaxe. Estará pensando não em Python, mas no modo de representar o mundo real como um código. Quando atingir esse ponto, você perceberá que, muitas vezes, não há abordagens certas ou erradas para modelar situações do mundo real. Algumas abordagens são mais eficientes que outras, mas descobrir as representações mais eficientes exige prática. Se seu código estiver funcionando conforme desejado, é sinal de que você está se saindo bem! Não desanime se perceber que está destruindo suas classes e reescrevendo-as várias vezes usando diferentes abordagens. No caminho para escrever um código preciso e eficiente, todos passam por esse processo."
      ]
    },
    {
      "cell_type": "markdown",
      "metadata": {
        "id": "qcENOHXqRCvc"
      },
      "source": [
        "### 9.3.6. Exercícios"
      ]
    },
    {
      "cell_type": "markdown",
      "metadata": {
        "id": "MzpF5D85RCvc"
      },
      "source": [
        "9.6 – Sorveteria: Uma sorveteria é um tipo específico de restaurante. Escreva uma classe chamada IceCreamStand que herde da classe Restaurant escrita no Exercício 9.1 (página 225) ou no Exercício 9.4 (página 232). Qualquer versão da classe funcionará; basta escolher aquela de que você mais gosta. Adicione um atributo chamado flavors que armazene uma lista de sabores de sorvete. Escreva um método para mostrar esses sabores. Crie uma instância de IceCreamStand e chame esse método."
      ]
    },
    {
      "cell_type": "code",
      "execution_count": null,
      "metadata": {
        "id": "c-qOHyPMRCvd",
        "outputId": "a1af048c-27d3-4a6c-aaf9-6edde14bb31e"
      },
      "outputs": [
        {
          "name": "stdout",
          "output_type": "stream",
          "text": [
            "O(a) Sorveteria Do Pretinho é um restaurante com sorveteria.\n",
            "Sabores disponíveis:\n",
            "- chocolate\n",
            "- morango\n",
            "- baunilha\n",
            "- creme\n"
          ]
        }
      ],
      "source": [
        "# Criando a classe Restaurante\n",
        "class Restaurante:\n",
        "    def __init__(self, nome, cozinha):\n",
        "        self.nome = nome\n",
        "        self.cozinha = cozinha\n",
        "        self.num_clientes = 0  # adiciona o atributo \"num_clientes\"\n",
        "\n",
        "    def descricao(self):\n",
        "        print(f'O(a) {self.nome.title()} é um restaurante com {self.cozinha}.')\n",
        "\n",
        "    def abrir(self):\n",
        "        print('O restaurante está aberto agora!')\n",
        "\n",
        "    def fechar(self):\n",
        "        print('O restaurante está fechado agora!')\n",
        "\n",
        "    def alt_num_clientes(self, num):  # método que incrementa o \"num_clientes\"\n",
        "        self.num_clientes += num\n",
        "\n",
        "# Criando a classe Sorveteria\n",
        "class Sorveteria(Restaurante):\n",
        "    def __init__(self, nome, cozinha='sorveteria'):\n",
        "        super().__init__(nome, cozinha)\n",
        "        self.sabores = ['chocolate', 'morango', 'baunilha', 'creme']\n",
        "\n",
        "    def mostrar_sabores(self):\n",
        "        print('Sabores disponíveis:')\n",
        "        for sabor in self.sabores:\n",
        "            print(f'- {sabor}')\n",
        "\n",
        "# Criando uma instância de Sorveteria e chamando o método mostrar_sabores\n",
        "sorveteria1 = Sorveteria('Sorveteria do Pretinho')\n",
        "sorveteria1.descricao()\n",
        "sorveteria1.mostrar_sabores()\n"
      ]
    },
    {
      "cell_type": "markdown",
      "metadata": {
        "id": "5326CyL9RCve"
      },
      "source": [
        "9.7 – Admin: Um administrador é um tipo especial de usuário. Escreva uma classe chamada Admin que herde da classe User escrita no Exercício 9.3 (página 226), ou no Exercício 9.5 (página 232). Adicione um atributo privileges que armazene uma lista de strings como \"can add post\", \"can delete post\" \"can ban user\", e assim por diante. Escreva um método chamado show_privileges() que liste o conjunto de privilégios de um administrador. Crie uma instância de Admin e chame seu método."
      ]
    },
    {
      "cell_type": "code",
      "execution_count": null,
      "metadata": {
        "id": "8t38UEVMRCvf",
        "outputId": "e0ecec8f-efca-4f63-d688-d826d1139777"
      },
      "outputs": [
        {
          "name": "stdout",
          "output_type": "stream",
          "text": [
            "Um usuário do tipo ADMIN tem os seguintes privilégios:\n",
            "*Deletar Post\n",
            "*Adicionar Posts\n",
            "*Banir Usuários\n"
          ]
        }
      ],
      "source": [
        "class Usuario:\n",
        "\n",
        "    def __init__(self, nome, sobrenome):\n",
        "        self.nome = nome\n",
        "        self.sobrenome = sobrenome\n",
        "        self.tentativas_login = 0\n",
        "\n",
        "    def descricao(self):\n",
        "        print('\\nNome:',self.nome.title(),'\\nSobrenome:',self.sobrenome.title())\n",
        "\n",
        "    def saudacao(self):\n",
        "        print('\\nSaudações, ó grandioso',self.nome.title(),self.sobrenome.title())\n",
        "\n",
        "    def incrementa_tentativas_login(self): #cria o método que incrementa tentativas de login\n",
        "        self.tentativas_login += 1\n",
        "\n",
        "    def resetar_tentativas_login(self): #cria o método que reseta o número de tentativas de login\n",
        "        self.tentativas_login = 0\n",
        "\n",
        "class Admin(Usuario):\n",
        "    def __init__(self,nome,sobrenome):\n",
        "        super().__init__(nome,sobrenome)\n",
        "        self.privilegios = ['deletar post','adicionar posts','banir usuários']\n",
        "\n",
        "    def exibir_privilegios(self):\n",
        "        print('Um usuário do tipo ADMIN tem os seguintes privilégios:')\n",
        "        for privilegio in self.privilegios:\n",
        "            print(f'*{privilegio.title()}')\n",
        "\n",
        "admin1 = Admin('Naldo','benni')\n",
        "admin1.exibir_privilegios()"
      ]
    },
    {
      "cell_type": "markdown",
      "metadata": {
        "id": "KBpnIIdTRCvg"
      },
      "source": [
        "9.8 – Privilégios: Escreva uma classe Privileges separada. A classe deve ter um atributo privileges que armazene uma lista de strings conforme descrita no Exercício 9.7. Transfira o método show_privileges() para essa classe. Crie uma instância de Privileges como um atributo da classe Admin. Crie uma nova instância de Admin e use seu método para exibir os privilégios."
      ]
    },
    {
      "cell_type": "code",
      "execution_count": null,
      "metadata": {
        "id": "1R8ixzoJRCvg",
        "outputId": "bed1aeb2-22be-4d80-8c2c-439faa122eb6"
      },
      "outputs": [
        {
          "name": "stdout",
          "output_type": "stream",
          "text": [
            "\n",
            "Nome: Naldo \n",
            "Sobrenome: Benni\n",
            "Um usuário do tipo ADMIN tem os seguintes privilégios:\n",
            "- deletar post\n",
            "- adicionar post\n",
            "- banir usuário\n"
          ]
        }
      ],
      "source": [
        "class Usuario:\n",
        "    def __init__(self, nome, sobrenome):\n",
        "        self.nome = nome\n",
        "        self.sobrenome = sobrenome\n",
        "        self.tentativas_login = 0\n",
        "\n",
        "    def descricao(self):\n",
        "        print('\\nNome:', self.nome.title(), '\\nSobrenome:', self.sobrenome.title())\n",
        "\n",
        "    def saudacao(self):\n",
        "        print('\\nSaudações, ó grandioso', self.nome.title(), self.sobrenome.title())\n",
        "\n",
        "    def incrementa_tentativas_login(self):\n",
        "        self.tentativas_login += 1\n",
        "\n",
        "    def resetar_tentativas_login(self):\n",
        "        self.tentativas_login = 0\n",
        "\n",
        "class Privileges:\n",
        "    def __init__(self):\n",
        "        self.privilegios = ['deletar post', 'adicionar post', 'banir usuário']\n",
        "\n",
        "    def show_privileges(self):\n",
        "        print('Um usuário do tipo ADMIN tem os seguintes privilégios:')\n",
        "        for privilegio in self.privilegios:\n",
        "            print(f'- {privilegio}')\n",
        "\n",
        "class Admin(Usuario):\n",
        "    def __init__(self, nome, sobrenome):\n",
        "        super().__init__(nome, sobrenome)\n",
        "        self.privilegios = Privileges()\n",
        "\n",
        "# Criando uma instância de Admin e chamando o método show_privileges\n",
        "admin1 = Admin('Naldo', 'Benni')\n",
        "admin1.descricao()\n",
        "admin1.privilegios.show_privileges()"
      ]
    },
    {
      "cell_type": "markdown",
      "metadata": {
        "id": "yGTNntKhRCvh"
      },
      "source": [
        "9.9 – Upgrade de bateria: Use a última versão de electric_car.py desta seção. Acrescente um método chamado upgrade_battery() na classe Battery. Esse método deve verificar a capacidade da bateria e defini-la com 85 se o valor for diferente. Crie um carro elétrico com uma capacidade de bateria default, chame get_range() uma vez e, em seguida, chame get_range() uma segunda vez após fazer um upgrade da bateria. Você deverá ver um aumento na distância que o carro é capaz de percorrer."
      ]
    },
    {
      "cell_type": "code",
      "execution_count": null,
      "metadata": {
        "id": "LM4OXIpRRCvi",
        "outputId": "3679d759-b9ad-44ea-bb5e-28261cfd51fe"
      },
      "outputs": [
        {
          "name": "stdout",
          "output_type": "stream",
          "text": [
            "2016, marca Tesla, modelo Model S\n",
            "Esse carro tem uma bateria de 75 kWh.\n",
            "Esse carro pode percorrer aproximadamente 240 km com a carga completa.\n",
            "Esse carro tem uma bateria de 85 kWh.\n",
            "Esse carro pode percorrer aproximadamente 270 km com a carga completa.\n"
          ]
        }
      ],
      "source": [
        "class Carro:\n",
        "    def __init__(self, marca, modelo, ano):\n",
        "        self.marca = marca\n",
        "        self.modelo = modelo\n",
        "        self.ano = ano\n",
        "        self.odometro = 0  # \"odometro\" é default e vale 0\n",
        "        self.tamanho_tanque = 100\n",
        "\n",
        "    def descricao(self):\n",
        "        nome_completo = f\"{self.ano}, marca {self.marca.title()}, modelo {self.modelo.title()}\"\n",
        "        return nome_completo\n",
        "\n",
        "    def ler_odometro(self):\n",
        "        print(f'A kilometragem do carro está em: {self.odometro}km')\n",
        "\n",
        "    def atualizar_odometro(self, leitura):\n",
        "        if leitura <= self.odometro:\n",
        "            print('Você não pode voltar o odômetro, seu trapaceiro!')\n",
        "        else:\n",
        "            self.odometro = leitura\n",
        "            print(f'A kilometragem foi atualizada para: {self.odometro}km')\n",
        "\n",
        "    def incrementar_odometro(self, kilometragem):\n",
        "        if kilometragem >= 0:\n",
        "            self.odometro += kilometragem\n",
        "            print(f'A kilometragem foi atualizada para: {self.odometro}km')\n",
        "        else:\n",
        "            print('Você não pode voltar o odômetro, seu trapaceiro!')\n",
        "\n",
        "    def encher_tanque(self):\n",
        "        print(f'O tanque de {self.tamanho_tanque}L está abastecido.')\n",
        "\n",
        "class Battery:\n",
        "    def __init__(self, tamanho=75):\n",
        "        self.tamanho = tamanho\n",
        "\n",
        "    def descrever_bateria(self):\n",
        "        print(f'Esse carro tem uma bateria de {self.tamanho} kWh.')\n",
        "\n",
        "    def upgrade_battery(self):\n",
        "        if self.tamanho != 85:\n",
        "            self.tamanho = 85\n",
        "\n",
        "    def get_range(self):\n",
        "        if self.tamanho == 75:\n",
        "            range = 240\n",
        "        elif self.tamanho == 85:\n",
        "            range = 270\n",
        "        print(f'Esse carro pode percorrer aproximadamente {range} km com a carga completa.')\n",
        "\n",
        "class CarroEletrico(Carro):\n",
        "    def __init__(self, marca, modelo, ano):\n",
        "        super().__init__(marca, modelo, ano)\n",
        "        self.bateria = Battery()\n",
        "\n",
        "    def descricao_bateria(self):\n",
        "        self.bateria.descrever_bateria()\n",
        "\n",
        "    def encher_tanque(self):\n",
        "        print('Carros elétricos não têm tanque de combustível.')\n",
        "\n",
        "# Testando a classe CarroEletrico com upgrade de bateria\n",
        "carro_eletrico1 = CarroEletrico('tesla', 'model S', 2016)\n",
        "print(carro_eletrico1.descricao())\n",
        "carro_eletrico1.bateria.descrever_bateria()\n",
        "carro_eletrico1.bateria.get_range()\n",
        "\n",
        "# Fazendo o upgrade da bateria e verificando a nova autonomia\n",
        "carro_eletrico1.bateria.upgrade_battery()\n",
        "carro_eletrico1.bateria.descrever_bateria()\n",
        "carro_eletrico1.bateria.get_range()"
      ]
    },
    {
      "cell_type": "markdown",
      "metadata": {
        "id": "5cJ1jgMDRCvk"
      },
      "source": [
        "## 9.4. Importando classes"
      ]
    },
    {
      "cell_type": "markdown",
      "metadata": {
        "id": "92MrmD0KRCvl"
      },
      "source": [
        "### 9.4.1. Importando uma única classe"
      ]
    },
    {
      "cell_type": "code",
      "execution_count": null,
      "metadata": {
        "id": "V6Uik_paRCvm",
        "outputId": "a5a60c49-03d4-4651-81ce-f68d71f9ea45"
      },
      "outputs": [
        {
          "name": "stdout",
          "output_type": "stream",
          "text": [
            "Pare de tentar trapacear!\n",
            "Pare de tentar trapacear!\n"
          ]
        },
        {
          "data": {
            "text/plain": [
              "2000"
            ]
          },
          "execution_count": 3,
          "metadata": {},
          "output_type": "execute_result"
        }
      ],
      "source": [
        "#importando a classe Carro do arquivo carro\n",
        "from carro import Carro\n",
        "\n",
        "#instanciando essa classe\n",
        "carro1 = Carro('Fiat','Uno',2005)\n",
        "\n",
        "#usando os atributos e métodos dessa classe\n",
        "carro1.apresentar_descricao()\n",
        "carro1.hodometro\n",
        "carro1.atualizar_hodometro(2000)\n",
        "carro1.hodometro\n",
        "carro1.incrementar_hodometro(-100)\n",
        "carro1.hodometro\n",
        "carro1.atualizar_hodometro(1500)\n",
        "carro1.hodometro"
      ]
    },
    {
      "cell_type": "markdown",
      "metadata": {
        "id": "kmN41mqzRCvn"
      },
      "source": [
        "### 9.4.2. Armazenando várias classes em um módulo"
      ]
    },
    {
      "cell_type": "code",
      "execution_count": null,
      "metadata": {
        "id": "qTUqUlnIRCvo",
        "outputId": "183885ff-4b39-431e-8278-614759387b74"
      },
      "outputs": [
        {
          "name": "stdout",
          "output_type": "stream",
          "text": [
            "Esse carro tem uma bateria de 70 kWh.\n",
            "Esse carro pode percorrer aproximadamente 240 km com uma carga.\n"
          ]
        }
      ],
      "source": [
        "#importando a classe CarroEletrico do arquivo carro\n",
        "from carro import CarroEletrico\n",
        "\n",
        "#instanciando a classe CarroEletrico\n",
        "carro_eletrico1 = CarroEletrico('BYD','Seal','2023',tamanho=70)\n",
        "\n",
        "#usando atributos e métodos da classe CarroEletrico\n",
        "carro_eletrico1.apresentar_descricao()\n",
        "carro_eletrico1.bateria.descrever_bateria()\n",
        "carro_eletrico1.bateria.calcular_distancia()"
      ]
    },
    {
      "cell_type": "markdown",
      "metadata": {
        "id": "clTRTS6FRCvo"
      },
      "source": [
        "### 9.4.3. Importando várias classes de um módulo"
      ]
    },
    {
      "cell_type": "code",
      "execution_count": null,
      "metadata": {
        "id": "0sBqZ-qRRCvo",
        "outputId": "11b76d0a-1b5e-4faf-a7af-9f76959fc78b"
      },
      "outputs": [
        {
          "name": "stdout",
          "output_type": "stream",
          "text": [
            "1970 Volks Fusca\n",
            "2016 Tesla Roadster\n",
            "Esse carro tem uma bateria de 70 kWh.\n",
            "Esse carro pode percorrer aproximadamente 240 km com uma carga.\n"
          ]
        }
      ],
      "source": [
        "#importando as classes Carro() e CarroEletrico(Carro)\n",
        "from carro import Carro, CarroEletrico\n",
        "\n",
        "#instanciando e usando métodos\n",
        "carro1 = Carro('Volks','Fusca','1970')\n",
        "print(carro1.apresentar_descricao())\n",
        "\n",
        "carro_eletrico1 = CarroEletrico('Tesla','Roadster',2016,70)\n",
        "print(carro_eletrico1.apresentar_descricao())\n",
        "carro_eletrico1.bateria.descrever_bateria()\n",
        "carro_eletrico1.bateria.calcular_distancia()\n"
      ]
    },
    {
      "cell_type": "markdown",
      "metadata": {
        "id": "LnCIHYGvRCvp"
      },
      "source": [
        "### 9.4.4. Importando um módulo completo"
      ]
    },
    {
      "cell_type": "code",
      "execution_count": null,
      "metadata": {
        "id": "53eATGq2RCvp",
        "outputId": "c67774b0-f306-41f3-b780-d7a881919933"
      },
      "outputs": [
        {
          "name": "stdout",
          "output_type": "stream",
          "text": [
            "1970 Volks Fusca\n",
            "2016 Tesla Roadster\n",
            "Esse carro tem uma bateria de 70 kWh.\n",
            "Esse carro pode percorrer aproximadamente 240 km com uma carga.\n"
          ]
        }
      ],
      "source": [
        "#importando o módulo com toas as suas classes\n",
        "import carro\n",
        "\n",
        "#instanciando e usando atributos e métodos\n",
        "carro1 = carro.Carro('Volks','Fusca','1970')\n",
        "print(carro1.apresentar_descricao())\n",
        "\n",
        "carro_eletrico1 = carro.CarroEletrico('Tesla','Roadster',2016,70)\n",
        "print(carro_eletrico1.apresentar_descricao())\n",
        "carro_eletrico1.bateria.descrever_bateria()\n",
        "carro_eletrico1.bateria.calcular_distancia()"
      ]
    },
    {
      "cell_type": "markdown",
      "metadata": {
        "id": "f1hkdu37RCvq"
      },
      "source": [
        "### 9.4.5. Importando todas as classes de um módulo"
      ]
    },
    {
      "cell_type": "code",
      "execution_count": null,
      "metadata": {
        "id": "Mqg3mZ8WRCvq",
        "outputId": "e8a8451c-0357-4f70-fe42-5c19acf39e3a"
      },
      "outputs": [
        {
          "name": "stdout",
          "output_type": "stream",
          "text": [
            "1970 Volks Fusca\n",
            "2016 Tesla Roadster\n",
            "Esse carro tem uma bateria de 70 kWh.\n",
            "Esse carro pode percorrer aproximadamente 240 km com uma carga.\n"
          ]
        }
      ],
      "source": [
        "#importando todas as classes do módulo carro\n",
        "from carro import*\n",
        "\n",
        "#instanciando e usando atributos e métodos\n",
        "carro1 = Carro('Volks','Fusca','1970')\n",
        "print(carro1.apresentar_descricao())\n",
        "\n",
        "carro_eletrico1 = CarroEletrico('Tesla','Roadster',2016,70)\n",
        "print(carro_eletrico1.apresentar_descricao())\n",
        "carro_eletrico1.bateria.descrever_bateria()\n",
        "carro_eletrico1.bateria.calcular_distancia()"
      ]
    },
    {
      "cell_type": "markdown",
      "metadata": {
        "id": "bxy3tOLNRCvr"
      },
      "source": [
        "### 9.4.6. Importando um módulo em um módulo"
      ]
    },
    {
      "cell_type": "code",
      "execution_count": null,
      "metadata": {
        "id": "F2RjP3-QRCvr",
        "outputId": "6abbb3c0-fb80-4493-d826-9f1c4765830c"
      },
      "outputs": [
        {
          "name": "stdout",
          "output_type": "stream",
          "text": [
            "1970 Volks Fusca\n",
            "2016 Tesla Roadster\n",
            "Esse carro tem uma bateria de 70 kWh.\n",
            "Esse carro pode percorrer aproximadamente 240 km com uma carga.\n"
          ]
        }
      ],
      "source": [
        "from classe_carro import Carro\n",
        "from classe_carro_eletrico import CarroEletrico #depende da classe Carro() e da classe Bateria(),\n",
        "                                                #por isso importamos essas duas classes de seus\n",
        "                                                #arquivos de origem lá no arquivo classe_carro_eletrico.\n",
        "from classe_bateria import Bateria\n",
        "\n",
        "#instanciando e usando atributos e métodos\n",
        "carro1 = Carro('Volks','Fusca','1970')\n",
        "print(carro1.apresentar_descricao())\n",
        "\n",
        "carro_eletrico1 = CarroEletrico('Tesla','Roadster',2016,70)\n",
        "print(carro_eletrico1.apresentar_descricao())\n",
        "carro_eletrico1.bateria.descrever_bateria()\n",
        "carro_eletrico1.bateria.calcular_distancia()"
      ]
    },
    {
      "cell_type": "markdown",
      "metadata": {
        "id": "TEzC5x6kRCvs"
      },
      "source": [
        "### 9.4.7. Definindo o seu próprio fluxo de trabalho"
      ]
    },
    {
      "cell_type": "markdown",
      "metadata": {
        "id": "86093dlCRCvs"
      },
      "source": [
        "Como podemos ver, Python oferece muitas opções para estruturar o código em um projeto de grande porte. É importante conhecer todas\n",
        "essas possibilidades para que você possa determinar a melhor maneira de organizar seus projetos, assim como entender o projeto de outras pessoas.\n",
        "\n",
        "Quando estiver começando a programar, mantenha a estrutura de seu código simples. Procure fazer tudo em um só arquivo e transfira suas classes para módulos separados depois que tudo estiver funcionando. Se gostar do modo como os módulos e os arquivos interagem, experimente armazenar suas classes em módulos quando iniciar um projeto. Encontre uma abordagem que permita escrever um código que\n",
        "funcione, e comece a partir daí."
      ]
    },
    {
      "cell_type": "markdown",
      "metadata": {
        "id": "-Poz7tgGRCvs"
      },
      "source": [
        "### 9.4.8. Exercícios"
      ]
    },
    {
      "cell_type": "markdown",
      "metadata": {
        "id": "hIR6bKAyRCvt"
      },
      "source": [
        "9.10 – Importando Restaurant: Usando sua classe Restaurant mais recente, armazene-a em um módulo. Crie um arquivo separado que importe Restaurant. Crie uma instância de Restaurant e chame um de seus métodos para mostrar que a instrução import funciona de forma apropriada."
      ]
    },
    {
      "cell_type": "code",
      "execution_count": null,
      "metadata": {
        "id": "XqwAKOt8RCvt",
        "outputId": "49bbfebd-df81-416f-c313-053925dbe8e5"
      },
      "outputs": [
        {
          "name": "stdout",
          "output_type": "stream",
          "text": [
            "O(a) Cozinha Do Xiquinho é um restaurante com Fogão e Chapa\n",
            "O restaurante está aberto agora!\n",
            "O restaurante está fechado agora!\n",
            "0\n",
            "40\n"
          ]
        }
      ],
      "source": [
        "from classe_restaurante import Restaurante\n",
        "\n",
        "restaurante1 = Restaurante('Cozinha do Xiquinho','Fogão e Chapa')\n",
        "\n",
        "restaurante1.descricao()\n",
        "restaurante1.abrir()\n",
        "restaurante1.fechar()\n",
        "print(restaurante1.num_clientes)\n",
        "restaurante1.alt_num_clientes(40)\n",
        "print(restaurante1.num_clientes)"
      ]
    },
    {
      "cell_type": "markdown",
      "metadata": {
        "id": "O6_ODicKRCvt"
      },
      "source": [
        "9.11 – Importando Admin: Comece com seu programa do Exercício 9.8 (página 241). Armazene as classes User, Privileges e Admin em um módulo. Crie um arquivo separado e uma instância de Admin e chame show_privileges() para mostrar que tudo está funcionando de forma apropriada."
      ]
    },
    {
      "cell_type": "code",
      "execution_count": null,
      "metadata": {
        "id": "AAi3mLfSRCvu",
        "outputId": "246cc592-5c32-495b-cf76-00cfd9140550"
      },
      "outputs": [
        {
          "name": "stdout",
          "output_type": "stream",
          "text": [
            "\n",
            "Nome: José \n",
            "Sobrenome: Martin\n",
            "\n",
            "Saudações, ó grandioso José Martin\n",
            "0\n",
            "1\n",
            "\n",
            "Nome: Naldo \n",
            "Sobrenome: Benny\n",
            "Um usuário do tipo ADMIN tem os seguintes privilégios:\n",
            "- deletar post\n",
            "- adicionar post\n",
            "- banir usuário\n"
          ]
        }
      ],
      "source": [
        "from classes_upa import Usuario, Privileges, Admin\n",
        "\n",
        "#instanciando e explorando a classe Usuario()\n",
        "usuario1 = Usuario('josé','martin')\n",
        "\n",
        "usuario1.descricao()\n",
        "usuario1.saudacao()\n",
        "print(usuario1.tentativas_login)\n",
        "usuario1.incrementa_tentativas_login()\n",
        "print(usuario1.tentativas_login)\n",
        "\n",
        "#instanciando e explorando a classe Admin()\n",
        "admin1 = Admin('naldo','benny')\n",
        "\n",
        "admin1.descricao()\n",
        "admin1.privilegios.show_privileges()"
      ]
    },
    {
      "cell_type": "markdown",
      "metadata": {
        "id": "kqKLLDceRCvu"
      },
      "source": [
        "9.12 – Vários módulos: Armazene a classe User em um módulo e as classes Privileges e Admin em um módulo separado. Em outro arquivo, crie uma instância de Admin e chame show_privileges() para mostrar que tudo continua funcionando de forma apropriada."
      ]
    },
    {
      "cell_type": "code",
      "execution_count": null,
      "metadata": {
        "id": "xi6jpIcyRCvu",
        "outputId": "55686ae1-7fcb-4ecc-f2ab-34146395ac1e"
      },
      "outputs": [
        {
          "name": "stdout",
          "output_type": "stream",
          "text": [
            "Um usuário do tipo ADMIN tem os seguintes privilégios:\n",
            "- deletar post\n",
            "- adicionar post\n",
            "- banir usuário\n"
          ]
        }
      ],
      "source": [
        "from classe_usuario import Usuario\n",
        "from classes_privileges_e_admin import Privileges, Admin\n",
        "\n",
        "admin1 = Admin('joan','martin')\n",
        "admin1.privilegios.show_privileges()"
      ]
    },
    {
      "cell_type": "markdown",
      "metadata": {
        "id": "8gQNz131RCvv"
      },
      "source": [
        "## 9.5. Biblioteca-padrão de Python"
      ]
    },
    {
      "cell_type": "markdown",
      "metadata": {
        "id": "TJGyb7IJRCvv"
      },
      "source": [
        "A biblioteca-padrão de Python é um conjunto de módulos incluído em todas as instalações de Python. Agora que temos uma compreensão básica de como as classes funcionam, podemos começar a usar módulos como esses, escritos por outros programadores. Podemos usar qualquer função ou classe da biblioteca-padrão incluindo uma instrução import simples no início do arquivo. Vamos analisar a classe OrderedDict do\n",
        "módulo collections.\n",
        "\n",
        "Os dicionários permitem associar informações, mas eles não mantêm um controle da ordem em que os pares chave-valor são acrescentados.\n",
        "Se você estiver criando um dicionário e quiser manter o controle da ordem em que os pares chave-valor são adicionados, a classe OrderedDict do módulo collections poderá ser usada. Instâncias da classe OrderedDict se comportam quase do mesmo modo que os dicionários, exceto que mantêm o controle da ordem em que os pares chave-valor são adicionados."
      ]
    },
    {
      "cell_type": "code",
      "execution_count": null,
      "metadata": {
        "id": "6mfatWRpRCvw",
        "outputId": "2ef998c9-84f4-429c-ba2b-6889c9e63b00"
      },
      "outputs": [
        {
          "name": "stdout",
          "output_type": "stream",
          "text": [
            "A linguegem favorita de Mário é Python\n",
            "A linguegem favorita de Marlon é Excel\n",
            "A linguegem favorita de Mãe é Reclamar\n",
            "A linguegem favorita de Pai é Grosseria\n"
          ]
        }
      ],
      "source": [
        "from collections import OrderedDict\n",
        "\n",
        "ling_fav = OrderedDict()\n",
        "\n",
        "ling_fav['mário'] = 'python'\n",
        "ling_fav['marlon'] = 'excel'\n",
        "ling_fav['mãe'] = 'reclamar'\n",
        "ling_fav['pai'] = 'grosseria'\n",
        "\n",
        "for nome, linguagem in ling_fav.items():\n",
        "    print('A linguegem favorita de',nome.title(),'é',linguagem.title())"
      ]
    },
    {
      "cell_type": "markdown",
      "metadata": {
        "id": "tdspPMj5RCvx"
      },
      "source": [
        "### 9.5.1. Exercícios"
      ]
    },
    {
      "cell_type": "markdown",
      "metadata": {
        "id": "l3ZPd5DERCvx"
      },
      "source": [
        "9.13 – Reescrevendo o programa com OrderedDict: Comece com o Exercício 6.4 (página 155), em que usamos um dicionário-padrão para representar um glossário. Reescreva o programa usando a classe OrderedDict e certifique-se de que a ordem da saída coincida com a ordem em que os pares chave-valor foram adicionados ao dicionário."
      ]
    },
    {
      "cell_type": "code",
      "execution_count": null,
      "metadata": {
        "id": "tU-nt57ZRCvy",
        "outputId": "8f5c97bb-d0f8-47a0-f421-ac92721535a5"
      },
      "outputs": [
        {
          "name": "stdout",
          "output_type": "stream",
          "text": [
            "Front-end : Desenvolvimento da interface do usuário e experiência visual de um aplicativo ou site.\n",
            "Back-end : Gerenciamento de servidores, bancos de dados e lógica de aplicação que suportam a parte visível ao usuário.\n",
            "Análise de dados : Processamento e interpretação de dados para obter insights e suportar decisões empresariais.\n",
            "Ciência de dados : Uso de métodos estatísticos e algoritmos para extrair conhecimento e previsões a partir de dados complexos.\n",
            "Engenharia de dados : Construção e manutenção de infraestrutura e pipelines para coletar, armazenar e processar grandes volumes de dados.\n"
          ]
        }
      ],
      "source": [
        "glossario_ord = OrderedDict()\n",
        "glossario_ord[\"Front-end\"] = \"Desenvolvimento da interface do usuário e experiência visual de um aplicativo ou site.\"\n",
        "glossario_ord[\"Back-end\"] = \"Gerenciamento de servidores, bancos de dados e lógica de aplicação que suportam a parte visível ao usuário.\"\n",
        "glossario_ord[\"Análise de dados\"] = \"Processamento e interpretação de dados para obter insights e suportar decisões empresariais.\"\n",
        "glossario_ord[\"Ciência de dados\"] = \"Uso de métodos estatísticos e algoritmos para extrair conhecimento e previsões a partir de dados complexos.\"\n",
        "glossario_ord[\"Engenharia de dados\"] = \"Construção e manutenção de infraestrutura e pipelines para coletar, armazenar e processar grandes volumes de dados.\"\n",
        "\n",
        "for area,descricao in glossario_ord.items():\n",
        "    print(area,':',descricao)"
      ]
    },
    {
      "cell_type": "markdown",
      "metadata": {
        "id": "P3EyNoynRCvz"
      },
      "source": [
        "9.14 – Dados: O módulo random contém funções que geram números aleatórios de várias maneiras. A função randint() devolve um inteiro no intervalo especificado por você. O código a seguir devolve um número entre 1 e 6: from random import randint x = randint(1, 6). Crie uma classe Dice com um atributo chamado sides, cujo valor default é 6.\n",
        "\n",
        "Escreva um método chamado roll_dice() que exiba um número aleatório entre 1 e o número de lados do dado. Crie um dado de seis dados e lance-o dez vezes. Crie um dado de dez lados e outro de vinte lados. Lance cada dado dez vezes."
      ]
    },
    {
      "cell_type": "code",
      "execution_count": null,
      "metadata": {
        "id": "bRbtDAC1RCvz",
        "outputId": "f2876703-82d8-46a4-f679-ef18071ff66f"
      },
      "outputs": [
        {
          "name": "stdout",
          "output_type": "stream",
          "text": [
            "Rolando dado de 6 lados.\n",
            "O valor sorteado foi 6\n",
            "Rolando dado de 10 lados.\n",
            "O valor sorteado foi 2\n",
            "Rolando dado de 20 lados.\n",
            "O valor sorteado foi 4\n"
          ]
        }
      ],
      "source": [
        "from random import randint\n",
        "\n",
        "class Dado():\n",
        "    \"\"\"Uma classe que simula um dado\"\"\"\n",
        "    def __init__(self,lados=6):\n",
        "        \"\"\"Inicializando os atributos da classe\"\"\"\n",
        "        self.lados = lados\n",
        "\n",
        "    def rolar_dado(self):\n",
        "        print('Rolando dado de',self.lados,'lados.')\n",
        "        print('O valor sorteado foi',randint(1,self.lados))\n",
        "\n",
        "d6 = Dado(6)\n",
        "d6.lados\n",
        "d6.rolar_dado()\n",
        "\n",
        "d10 = Dado(10)\n",
        "d10.lados\n",
        "d10.rolar_dado()\n",
        "\n",
        "d20 = Dado(20)\n",
        "d20.lados\n",
        "d20.rolar_dado()\n"
      ]
    },
    {
      "cell_type": "markdown",
      "metadata": {
        "id": "FU3M478aRCv0"
      },
      "source": [
        "9.15 – Módulo Python da semana: Um excelente recurso para explorar a biblioteca-padrão de Python é um site chamado Python Module of the Week (Módulo Python da semana). Acesse http://pymotw.com/ e observe a tabela de conteúdo. Encontre um módulo que pareça ser interessante e leia a sua descrição ou explore a documentação dos módulos collections e random."
      ]
    }
  ],
  "metadata": {
    "kernelspec": {
      "display_name": "Python 3",
      "language": "python",
      "name": "python3"
    },
    "language_info": {
      "codemirror_mode": {
        "name": "ipython",
        "version": 3
      },
      "file_extension": ".py",
      "mimetype": "text/x-python",
      "name": "python",
      "nbconvert_exporter": "python",
      "pygments_lexer": "ipython3",
      "version": "3.10.12"
    },
    "colab": {
      "provenance": [],
      "toc_visible": true,
      "include_colab_link": true
    }
  },
  "nbformat": 4,
  "nbformat_minor": 0
}