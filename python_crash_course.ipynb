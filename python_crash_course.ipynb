{
  "cells": [
    {
      "cell_type": "markdown",
      "metadata": {
        "id": "view-in-github",
        "colab_type": "text"
      },
      "source": [
        "<a href=\"https://colab.research.google.com/github/quemariox/Estudos_python/blob/main/python_crash_course.ipynb\" target=\"_parent\"><img src=\"https://colab.research.google.com/assets/colab-badge.svg\" alt=\"Open In Colab\"/></a>"
      ]
    },
    {
      "cell_type": "markdown",
      "metadata": {
        "id": "pJinprUe6ojr"
      },
      "source": [
        "# Capítulo 2. Variáveis e tipos de dados simples"
      ]
    },
    {
      "cell_type": "markdown",
      "metadata": {
        "id": "7txZ9jOP6ojv"
      },
      "source": [
        "## 2.1. Strings"
      ]
    },
    {
      "cell_type": "markdown",
      "metadata": {
        "id": "7fm5vrXa6ojw"
      },
      "source": [
        "Uma string é simplesmente uma série de caracteres. Tudo que estiver entre aspas é considerada uma string em Python, e você pode usar aspas simples ou duplas em torno de suas strings, assim:\n",
        "- \"This is a string.\"\n",
        "- 'This is also a string.'\n",
        "\n",
        "Essa flexibilidade permite usar aspas e apóstrofos em suas strings:\n",
        "- 'I told my friend, \"Python is my favorite language!\"'\n",
        "- \"The language 'Python' is named after Monty Python, not the snake.\"\n",
        "- \"One of Python's strengths is its diverse and supportive community.\""
      ]
    },
    {
      "cell_type": "markdown",
      "metadata": {
        "id": "5QthAliQ6ojx"
      },
      "source": [
        "### 2.1.1. Atribuição"
      ]
    },
    {
      "cell_type": "markdown",
      "metadata": {
        "id": "HG9f1UC66ojy"
      },
      "source": [
        "2.1 – Mensagem simples: Armazene uma mensagem em uma variável e, em seguida, exiba essa mensagem.\n",
        "\n",
        "2.2 – Mensagens simples: Armazene uma mensagem em uma variável e, em seguida, exiba essa mensagem. Então altere o valor de sua variável para uma nova mensagem e mostre essa nova mensagem."
      ]
    },
    {
      "cell_type": "code",
      "execution_count": null,
      "metadata": {
        "id": "79SDF_Dz6ojz",
        "outputId": "b3517bed-ec0e-4df6-cef0-036429c3e1e4"
      },
      "outputs": [
        {
          "name": "stdout",
          "output_type": "stream",
          "text": [
            "uma mensagem\n",
            "uma OUTRA mensagem\n"
          ]
        }
      ],
      "source": [
        "msg = 'uma mensagem'\n",
        "print(msg)\n",
        "\n",
        "msg = 'uma OUTRA mensagem'\n",
        "print(msg)"
      ]
    },
    {
      "cell_type": "markdown",
      "metadata": {
        "id": "l5-SbOg96oj0"
      },
      "source": [
        "### 2.1.2. Mudando para letras maiúsculas e minúsculas em uma string usando métodos"
      ]
    },
    {
      "cell_type": "code",
      "execution_count": null,
      "metadata": {
        "id": "I8rFve2q6oj0",
        "outputId": "3c07e933-3753-444d-bd1c-c21f62ef66be"
      },
      "outputs": [
        {
          "name": "stdout",
          "output_type": "stream",
          "text": [
            "Mário Lucas Miguel\n",
            "mário lucas miguel\n",
            "MÁRIO LUCAS MIGUEL\n"
          ]
        }
      ],
      "source": [
        "nome = 'mário lucas miguel'\n",
        "\n",
        "#método para formatar como título\n",
        "print(nome.title())\n",
        "\n",
        "#método para caixa baixa\n",
        "print(nome.lower())\n",
        "\n",
        "#método para caixa alta\n",
        "print(nome.upper())"
      ]
    },
    {
      "cell_type": "markdown",
      "metadata": {
        "id": "GAQr4E-p6oj1"
      },
      "source": [
        "### 2.1.3. Combinando ou concatenando strings"
      ]
    },
    {
      "cell_type": "code",
      "execution_count": null,
      "metadata": {
        "id": "ZPU1HAkd6oj3",
        "outputId": "bc56e6fc-08db-4806-e9af-ce7184b22852"
      },
      "outputs": [
        {
          "name": "stdout",
          "output_type": "stream",
          "text": [
            "O nome completo é: Mário Lucas Miguel\n"
          ]
        }
      ],
      "source": [
        "nome_1 = 'mário'\n",
        "nome_2 = 'lucas'\n",
        "nome_3 = 'miguel'\n",
        "\n",
        "nome_completo =  nome_1 + ' ' + nome_2 + ' ' +nome_3\n",
        "nome_completo = nome_completo.title()\n",
        "print(\"O nome completo é: \" + nome_completo)"
      ]
    },
    {
      "cell_type": "markdown",
      "metadata": {
        "id": "hvNnFRY46oj3"
      },
      "source": [
        "### 2.1.4. Acrescentando espaços em branco em strings com tabulações ou quebras de linha"
      ]
    },
    {
      "cell_type": "code",
      "execution_count": null,
      "metadata": {
        "id": "WQwitXpd6oj4",
        "outputId": "edee309d-9fa2-4e11-cf7d-2e624608b2b8"
      },
      "outputs": [
        {
          "name": "stdout",
          "output_type": "stream",
          "text": [
            "Lingugens de programação: \n",
            "\t Python; \n",
            "\t C#; \n",
            "\t JavaScript\n"
          ]
        }
      ],
      "source": [
        "# \"\\t\": tabulações\n",
        "# \"\\n\": quebra de linha\n",
        "\n",
        "print(\"Lingugens de programação: \\n\\t Python; \\n\\t C#; \\n\\t JavaScript\")"
      ]
    },
    {
      "cell_type": "markdown",
      "metadata": {
        "id": "Vpm1KFpe6oj4"
      },
      "source": [
        "### 2.1.5. Removendo espaços em branco"
      ]
    },
    {
      "cell_type": "code",
      "execution_count": null,
      "metadata": {
        "id": "vrB07V_46oj4",
        "outputId": "4ee83721-1eb0-4ea5-85a7-8f0830f9e9b3"
      },
      "outputs": [
        {
          "name": "stdout",
          "output_type": "stream",
          "text": [
            "False\n",
            "msg\n",
            "msg\n",
            "msg\n",
            "True\n"
          ]
        }
      ],
      "source": [
        "#o python conta o espaço em branco como um caractere\n",
        "str1 = 'msg        ' #espaço no final\n",
        "str2 = '        msg' #espaço no início\n",
        "str3 = '    msg    ' #espaço antes e depois\n",
        "str4 = 'msg' #sem espaço\n",
        "\n",
        "print(str1 == str2 == str3 == str4) #False pois as strings são diferentes\n",
        "\n",
        "str1 = str1.rstrip() #remove espaços do final\n",
        "str2 = str2.lstrip() #remove espaços do início\n",
        "str3 = str3.strip() #remove espaços\n",
        "\n",
        "print(str1)\n",
        "print(str2)\n",
        "print(str3)\n",
        "print(str1 == str2 == str3 == str4) #True pois as strings agora são iguais\n"
      ]
    },
    {
      "cell_type": "markdown",
      "metadata": {
        "id": "zhytaql56oj4"
      },
      "source": [
        "### 2.1.6. Exercícios"
      ]
    },
    {
      "cell_type": "markdown",
      "metadata": {
        "id": "XNMkU_xG6oj5"
      },
      "source": [
        "2.3 – Mensagem pessoal: Armazene o nome de uma pessoa em uma variável e apresente uma mensagem a essa pessoa. Sua mensagem deve ser simples, como “Alô Eric, você gostaria de aprender um pouco de Python hoje?”.\n",
        "\n",
        "2.4 – Letras maiúsculas e minúsculas em nomes: Armazene o nome de uma pessoa em uma variável e então apresente o nome dessa pessoa em letras minúsculas, em letras maiúsculas e somente com a primeira letra maiúscula."
      ]
    },
    {
      "cell_type": "code",
      "execution_count": null,
      "metadata": {
        "id": "CXH_nAeN6oj5",
        "outputId": "f4a9a181-e7f4-44ca-e038-21c162b0dbaa"
      },
      "outputs": [
        {
          "name": "stdout",
          "output_type": "stream",
          "text": [
            " Olá, . \n",
            " Como vai você? \n",
            " Gostaria de aprender um pouco de Python hoje?\n"
          ]
        }
      ],
      "source": [
        "nome = input('Qual o seu nome?')\n",
        "nome = nome.title().strip()\n",
        "print(f\" Olá, {nome}. \\n Como vai você? \\n Gostaria de aprender um pouco de Python hoje?\")"
      ]
    },
    {
      "cell_type": "markdown",
      "metadata": {
        "id": "Vjm9ACiu6oj6"
      },
      "source": [
        "2.5 – Citação famosa: Encontre uma citação de uma pessoa famosa que você admire. Exiba a citação e o nome do autor. Sua saída deverá ter a aparência a seguir, incluindo as aspas: Albert Einstein certa vez disse: “Uma pessoa que\n",
        "nunca cometeu um erro jamais tentou nada novo.”\n",
        "\n",
        "2.6 – Citação famosa 2: Repita o Exercício 2.5, porém, desta vez, armazene o nome da pessoa famosa em uma variável chamada famous_person. Em seguida, componha sua mensagem e armazene-a em uma nova variável chamada message. Exiba sua mensagem.\n",
        "\n",
        "2.7 – Removendo caracteres em branco de nomes: Armazene o nome de uma pessoa e inclua alguns caracteres em branco no início e no final do nome. Lembre-se de usar cada combinação de caracteres, \"\\t\" e \"\\n\", pelo menos uma vez. Exiba o nome uma vez, de modo que os espaços em branco em torno do nome sejam mostrados. Em seguida, exiba o nome usando cada uma das três funções de remoção de espaços: lstrip(), rstrip() e strip()."
      ]
    },
    {
      "cell_type": "code",
      "execution_count": null,
      "metadata": {
        "id": "dokmsFqv6oj6",
        "outputId": "8e264b28-b14f-4bb8-dc07-561ed7f44e6d"
      },
      "outputs": [
        {
          "name": "stdout",
          "output_type": "stream",
          "text": [
            "\t\"\" \n",
            " \t \t \t \t \t \t \t- .\n"
          ]
        }
      ],
      "source": [
        "autor = input('Digite o nome do autor: ')\n",
        "citacao = input('Digite a citação: ')\n",
        "\n",
        "autor = autor.title().strip()\n",
        "\n",
        "print(f'\\t\"{citacao}\" \\n \\t \\t \\t \\t \\t \\t \\t- {autor}.')"
      ]
    },
    {
      "cell_type": "markdown",
      "metadata": {
        "id": "0D4E_jQt6oj6"
      },
      "source": [
        "## 2.2. Números"
      ]
    },
    {
      "cell_type": "markdown",
      "metadata": {
        "id": "XCjj3Cal6oj7"
      },
      "source": [
        "Os números são usados com muita frequência em programação para armazenar pontuações em jogos, representar dados em visualizações, guardar informações em aplicações web e assim por diante. Python trata números de várias maneiras diferentes, de acordo com o modo como são usados. Vamos analisar inicialmente como Python trata inteiros, pois eles são os dados mais simples para trabalhar."
      ]
    },
    {
      "cell_type": "markdown",
      "metadata": {
        "id": "NGA1v_G06oj7"
      },
      "source": [
        "### 2.2.1. Inteiros"
      ]
    },
    {
      "cell_type": "code",
      "execution_count": null,
      "metadata": {
        "id": "IH3vmKY26oj7",
        "outputId": "8726a3f6-0f9d-452d-8ccc-e59581cacc1e"
      },
      "outputs": [
        {
          "name": "stdout",
          "output_type": "stream",
          "text": [
            "5\n",
            "-1\n",
            "6\n",
            "0.6666666666666666\n",
            "2\n",
            "1\n",
            "9\n"
          ]
        }
      ],
      "source": [
        "print(2 + 3) #soma\n",
        "print(2 - 3) #subtração\n",
        "print(2 * 3)#multiplicação\n",
        "print(2 / 3) #divisão\n",
        "print(5 // 2) #parte inteira da divisão\n",
        "print(5 % 2) #resto da divisão\n",
        "print(3 ** 2) #potência"
      ]
    },
    {
      "cell_type": "markdown",
      "metadata": {
        "id": "MMvn7EyY6oj8"
      },
      "source": [
        "A ordem das operações importa"
      ]
    },
    {
      "cell_type": "code",
      "execution_count": null,
      "metadata": {
        "id": "t8HhprIc6oj8",
        "outputId": "a7f87604-092a-4900-9ecc-1e444bb1ed48"
      },
      "outputs": [
        {
          "name": "stdout",
          "output_type": "stream",
          "text": [
            "14\n",
            "20\n"
          ]
        }
      ],
      "source": [
        "print(2 + 3*4)\n",
        "print((2+3)*4)"
      ]
    },
    {
      "cell_type": "markdown",
      "metadata": {
        "id": "gfBTeoov6oj8"
      },
      "source": [
        "### 2.2.2. Ponto flutuante"
      ]
    },
    {
      "cell_type": "code",
      "execution_count": null,
      "metadata": {
        "id": "Iy3kJyvf6oj9",
        "outputId": "dbb7809b-32f8-48cb-86cf-5cdec1784b02"
      },
      "outputs": [
        {
          "name": "stdout",
          "output_type": "stream",
          "text": [
            "0.4\n",
            "0.30000000000000004\n"
          ]
        }
      ],
      "source": [
        "print(2*0.2) #uma casa decimal\n",
        "print(3*0.1) #16 casas decimais"
      ]
    },
    {
      "cell_type": "markdown",
      "metadata": {
        "id": "8L7rNzmm6oj9"
      },
      "source": [
        "### 2.2.3. Evitando erros de tipo com a função str()"
      ]
    },
    {
      "cell_type": "markdown",
      "metadata": {
        "id": "h4NFR83k6oj9"
      },
      "source": [
        "Só podemos concatenar str com outras str. Por isso, as vezes é necessário fazer uma operação de TypeCasting para que seja possível transformar outros tipos em str."
      ]
    },
    {
      "cell_type": "code",
      "execution_count": null,
      "metadata": {
        "id": "br13ozri6oj9",
        "outputId": "f3d2ca27-ecc0-4744-ebf7-2b8b5832e11f"
      },
      "outputs": [
        {
          "name": "stdout",
          "output_type": "stream",
          "text": [
            "Mário Lucas Miguel tem 27 anos.\n"
          ]
        }
      ],
      "source": [
        "nome = input('Qual o seu nome?')\n",
        "idade = int(input(\"Qual sua idade\"))\n",
        "nome = nome.title().strip()\n",
        "\n",
        "#é preciso transformar o int \"idade\" em str para poder concatenar com outras str\n",
        "msg = nome + ' tem ' + str(idade) + ' anos.'\n",
        "print(msg)"
      ]
    },
    {
      "cell_type": "markdown",
      "metadata": {
        "id": "56F4xZxy6oj-"
      },
      "source": [
        "### 2.2.4. Exercícios"
      ]
    },
    {
      "cell_type": "markdown",
      "metadata": {
        "id": "P-JljKr16oj-"
      },
      "source": [
        "2.8 – Número oito: Escreva operações de adição, subtração, multiplicação e divisão que resultem no número 8. Lembre-se de colocar suas operações em instruções print para ver os resultados. Você deve criar quatro linhas como esta: print(5 + 3) Sua saída deve simplesmente ser composta de quatro linhas, com o número 8 em cada uma das linhas.\n",
        "\n",
        "2.9 – Número favorito: Armazene seu número favorito em uma variável. Em seguida, usando essa variável, crie uma mensagem que revele o seu número favorito. Exiba essa mensagem.\n",
        "\n",
        "2.10 – Acrescentando comentários: Escolha dois dos programas que você escreveu e acrescente pelo menos um comentário em cada um. Se você não tiver nada específico para escrever porque o programa é muito simples no momento, basta adicionar seu nome e a data de hoje no início de cada arquivo de programa. Em seguida, escreva uma frase que descreva o que o programa faz.\n",
        "\n",
        "2.11 – Zen de Python: Digite import this em uma sessão de terminal de Python e dê uma olhada nos princípios adicionais."
      ]
    },
    {
      "cell_type": "code",
      "execution_count": null,
      "metadata": {
        "id": "ufeseLUb6oj-",
        "outputId": "dd1be358-a93d-4fb0-8a32-74b6f12d4fdd"
      },
      "outputs": [
        {
          "name": "stdout",
          "output_type": "stream",
          "text": [
            "8.0\n"
          ]
        }
      ],
      "source": [
        "#meu número favorito é 8\n",
        "print(2 + (2*3) - 4 + (4/2)**2)"
      ]
    },
    {
      "cell_type": "markdown",
      "metadata": {
        "id": "H7XX7AhG6oj_"
      },
      "source": [
        "### 2.2.5. Zen python"
      ]
    },
    {
      "cell_type": "code",
      "execution_count": null,
      "metadata": {
        "id": "BCb6Yja36oj_"
      },
      "outputs": [],
      "source": [
        "#manifesto \"The Zen of Python\" de Tim Peters\n",
        "import this"
      ]
    },
    {
      "cell_type": "markdown",
      "metadata": {
        "id": "RjWYWUBj61s5"
      },
      "source": [
        "# Capítulo 3. Introdução às listas"
      ]
    },
    {
      "cell_type": "markdown",
      "metadata": {
        "id": "JAmzrHXe61s8"
      },
      "source": [
        "## 3.1. O que é uma lista?"
      ]
    },
    {
      "cell_type": "markdown",
      "metadata": {
        "id": "zFoWVzOP61s8"
      },
      "source": [
        "Neste capítulo e no próximo, veremos o que são listas e como começar a trabalhar com os elementos de uma lista. As listas permitem armazenar conjuntos de informações em um só lugar independentemente de termos alguns itens ou milhões deles. As listas são um dos recursos mais eficazes de Python, prontamente acessíveis aos novos programadores, e elas agregam muitos conceitos importantes em programação.\n",
        "\n",
        "Uma lista é uma coleção de itens em uma ordem em particular. Podemos criar uma lista que inclua as letras do alfabeto, os dígitos de 0 a 9 ou os nomes de todas as pessoas de sua família. Você pode colocar qualquer informação que quiser em uma lista, e os itens de sua lista não precisam estar relacionados de nenhum modo em particular. Como uma lista geralmente contém mais de um elemento, é uma boa ideia deixar seu nome no plural, por exemplo, letters, digits ou names."
      ]
    },
    {
      "cell_type": "markdown",
      "metadata": {
        "id": "sQIotM0w61s9"
      },
      "source": [
        "### 3.1.1. Criando listas acessando e usando seus elementos"
      ]
    },
    {
      "cell_type": "code",
      "execution_count": null,
      "metadata": {
        "id": "gn0uFiQG61s9",
        "outputId": "c2a6e4f5-0f83-4ae6-d09d-11c47b1ed4c5"
      },
      "outputs": [
        {
          "name": "stdout",
          "output_type": "stream",
          "text": [
            "['speed', 'custom', 'naked', 'trail', 'scooter', 'street', 'touring', 'off-road']\n",
            "speed\n",
            "Custom\n",
            "off-road\n",
            "Minha primeira moto foi uma Naked.\n"
          ]
        }
      ],
      "source": [
        "bikes = ['speed','custom','naked','trail','scooter','street','touring','off-road'] #cria a lista\n",
        "print(bikes) #exibe toda a lista\n",
        "\n",
        "print(bikes[0]) #exibe o primeiro elemento\n",
        "print(bikes[1].title().strip()) #exibe o segundo elemento formatado\n",
        "print(bikes[-1]) #exibe o último elemento\n",
        "\n",
        "print(\"Minha primeira moto foi uma \" + bikes[2].title().strip() + \".\")"
      ]
    },
    {
      "cell_type": "markdown",
      "metadata": {
        "id": "C33qr1h361s_"
      },
      "source": [
        "### 3.1.2. Exercícios"
      ]
    },
    {
      "cell_type": "markdown",
      "metadata": {
        "id": "UBLFYhJK61s_"
      },
      "source": [
        "3.1 – Nomes: Armazene os nomes de alguns de seus amigos em uma lista chamada names. Exiba o nome de cada pessoa acessando cada elemento da lista, um de cada vez.\n",
        "\n",
        "3.2 – Saudações: Comece com a lista usada no Exercício 3.1, mas em vez de simplesmente exibir o nome de cada pessoa, apresente uma mensagem a elas. O texto de cada mensagem deve ser o mesmo, porém cada mensagem deve estar personalizada com o nome da pessoa.\n",
        "\n",
        "3.3 – Sua própria lista: Pense em seu meio de transporte preferido, como motocicleta ou carro, e crie uma lista que armazene vários exemplos. Utilize sua lista para exibir uma série de frases sobre esses itens, como “Gostaria de ter uma moto Honda”."
      ]
    },
    {
      "cell_type": "code",
      "execution_count": null,
      "metadata": {
        "id": "pAwPd32861s_",
        "outputId": "7c1f8b76-c626-4bdb-e204-4c4e3b78f14f"
      },
      "outputs": [
        {
          "name": "stdout",
          "output_type": "stream",
          "text": [
            "Olá, amigx Nathália! Você é um amigo! Vamos andar de Carro?\n",
            "Olá, amigx Gabriel! Você é um amigo! Vamos andar de Moto?\n",
            "Olá, amigx Theresa! Você é um amigo! Vamos andar de Helicóptero?\n"
          ]
        }
      ],
      "source": [
        "amigos = ['nathália', 'gabriel', 'theresa']\n",
        "veiculos = ['carro', 'moto', 'helicóptero']\n",
        "\n",
        "# Usando zip para emparelhar os elementos das duas listas\n",
        "for amigo, veiculo in zip(amigos, veiculos):\n",
        "    print(f'Olá, amigx {amigo.title().strip()}! Você é um amigo! Vamos andar de {veiculo.title().strip()}?')"
      ]
    },
    {
      "cell_type": "markdown",
      "metadata": {
        "id": "6ADtvbca61tA"
      },
      "source": [
        "## 3.2. Alterando/Acrescentando/Inserindo e Removendo elementos de uma lista"
      ]
    },
    {
      "cell_type": "markdown",
      "metadata": {
        "id": "ha23kE3d61tC"
      },
      "source": [
        "`lista.append('valor')`: adiciona 'valor' ao final da lista.\n",
        "\n",
        "`lista.extend([outra_lista])`: adiciona [outra_lista] ao final da lista.\n",
        "\n",
        "`lista.insert(índice, 'valor')`: insere 'valor' no índice [índice] da lista."
      ]
    },
    {
      "cell_type": "code",
      "execution_count": null,
      "metadata": {
        "id": "dRTTzxKV61tC",
        "outputId": "ac2e5902-c9dd-460c-e15e-572dc0bd50bb"
      },
      "outputs": [
        {
          "name": "stdout",
          "output_type": "stream",
          "text": [
            "['honda', 'yamaha', 'zuzuki']\n",
            "['ducati', 'yamaha', 'zuzuki']\n",
            "['ducati', 'yamaha', 'zuzuki', 'honda']\n",
            "['ducati', 'yamaha', 'zuzuki', 'honda', 'bmw', 'dafra']\n",
            "['ducati', 'yamaha', 'zuzuki', 'aprilha', 'honda', 'bmw', 'dafra']\n"
          ]
        }
      ],
      "source": [
        "marcas_moto = ['honda','yamaha','zuzuki'] #cria a lista\n",
        "print(marcas_moto)\n",
        "\n",
        "marcas_moto[0] = 'ducati' #altera o primeiro elemento\n",
        "print(marcas_moto)\n",
        "\n",
        "marcas_moto.append('honda') #adiciona 'honda' ao fim da lista\n",
        "print(marcas_moto)\n",
        "\n",
        "marcas_moto.extend(['bmw','dafra']) #adiciona uma lista ao fim da lista\n",
        "print(marcas_moto)\n",
        "\n",
        "marcas_moto.insert(3,'aprilha')\n",
        "print(marcas_moto)"
      ]
    },
    {
      "cell_type": "markdown",
      "metadata": {
        "id": "zbiQMe_y61tC"
      },
      "source": [
        "`del lista[posição]`: remove ítem da lista de acordo com a sua posição\n",
        "`lista.pop()`: remove último ítem da lista, podendo salvá-lo em uma variável\n",
        "`lista.pop(posição)`: remove ítem da lista em uma posição específica, podendo salvá-lo em uma variável\n",
        "`lista.remove('valor')`: remove ítem da lista de acordo com seu valor"
      ]
    },
    {
      "cell_type": "code",
      "execution_count": null,
      "metadata": {
        "id": "EsTkqbs261tC",
        "outputId": "b7fe9230-02a4-4066-e339-f9a15aaa54c0"
      },
      "outputs": [
        {
          "name": "stdout",
          "output_type": "stream",
          "text": [
            "['ducati', 'yamaha', 'zuzuki', 'aprilha', 'honda', 'bmw', 'dafra']\n",
            "['yamaha', 'zuzuki', 'aprilha', 'honda', 'bmw', 'dafra']\n",
            "['yamaha', 'zuzuki', 'aprilha', 'honda', 'bmw']\n",
            "dafra\n",
            "['yamaha', 'zuzuki', 'aprilha', 'bmw']\n",
            "honda\n",
            "['yamaha', 'zuzuki', 'aprilha']\n"
          ]
        }
      ],
      "source": [
        "marcas_moto = ['ducati', 'yamaha', 'zuzuki', 'aprilha', 'honda', 'bmw', 'dafra']\n",
        "print(marcas_moto)\n",
        "\n",
        "del marcas_moto[0] #deleta elemento da lista baseado na posição\n",
        "print(marcas_moto)\n",
        "\n",
        "ultima_moto_pop = marcas_moto.pop() #remove o último ítem e salva em uma variável\n",
        "print(marcas_moto)\n",
        "print(ultima_moto_pop)\n",
        "\n",
        "terceira_moto_pop = marcas_moto.pop(3) #remove o quarto ítem e salva em uma variável\n",
        "print(marcas_moto)\n",
        "print(terceira_moto_pop)\n",
        "\n",
        "marcas_moto.remove('bmw') #remove ítem da lista pelo seu valor\n",
        "print(marcas_moto)"
      ]
    },
    {
      "cell_type": "markdown",
      "metadata": {
        "id": "PouhaghM61tC"
      },
      "source": [
        "### 3.2.1. Exercícios"
      ]
    },
    {
      "cell_type": "markdown",
      "metadata": {
        "id": "2LMMKEWx61tD"
      },
      "source": [
        "3.4 – Lista de convidados: Se pudesse convidar alguém, vivo ou morto, para o jantar, quem você convidaria? Crie uma lista que inclua pelo menos três pessoas que você gostaria de convidar para jantar. Em seguida, utilize sua lista para exibir uma mensagem para cada pessoa, convidando-a para jantar."
      ]
    },
    {
      "cell_type": "code",
      "execution_count": null,
      "metadata": {
        "id": "tX65Xmcq61tD",
        "outputId": "16e5de77-55e1-4b0d-898c-1e4c47741da3"
      },
      "outputs": [
        {
          "name": "stdout",
          "output_type": "stream",
          "text": [
            "Olá, Marlon, você está convidado(a) para um jantar comigo.\n",
            "Olá, Alícia, você está convidado(a) para um jantar comigo.\n",
            "Olá, Véia, você está convidado(a) para um jantar comigo.\n",
            "Olá, Véio, você está convidado(a) para um jantar comigo.\n",
            "Olá, Nathália, você está convidado(a) para um jantar comigo.\n",
            "Olá, Gabriel, você está convidado(a) para um jantar comigo.\n",
            "Nathália não poderá comparecer ao jantar.\n"
          ]
        }
      ],
      "source": [
        "#3.4\n",
        "convidados = ['marlon','alícia','véia','véio','nathália','gabriel']\n",
        "for conv in convidados:\n",
        "    print(f'Olá, {conv.title().strip()}, você está convidado(a) para um jantar comigo.')\n",
        "\n",
        "#3.5\n",
        "print(f'{convidados[4].title().strip()} não poderá comparecer ao jantar.')"
      ]
    },
    {
      "cell_type": "markdown",
      "metadata": {
        "id": "zRur-M1j61tD"
      },
      "source": [
        "3.5 – Alterando a lista de convidados: Você acabou de saber que um de seus convidados não poderá comparecer ao jantar, portanto será necessário enviar um novo conjunto de convites. Você deverá pensar em outra pessoa para convidar.\n",
        "\n",
        "- Comece com seu programa do Exercício 3.4. Acrescente uma instrução print no final de seu programa, especificando o nome do convidado que não poderá comparecer.\n",
        "- Modifique sua lista, substituindo o nome do convidado que não poderá comparecer pelo nome da nova pessoa que você está convidando.\n",
        "- Exiba um segundo conjunto de mensagens com o convite, uma para cada pessoa que continua presente em sua lista."
      ]
    },
    {
      "cell_type": "code",
      "execution_count": null,
      "metadata": {
        "id": "feBMaXXe61tE",
        "outputId": "6833e724-a279-4c0d-caed-185ad7ef6875"
      },
      "outputs": [
        {
          "name": "stdout",
          "output_type": "stream",
          "text": [
            "Olá, Marlon, você está convidado(a) para um jantar comigo.\n",
            "Olá, Alícia, você está convidado(a) para um jantar comigo.\n",
            "Olá, Véia, você está convidado(a) para um jantar comigo.\n",
            "Olá, Véio, você está convidado(a) para um jantar comigo.\n",
            "Olá, Gabriel, você está convidado(a) para um jantar comigo.\n",
            "Olá, Gianlucca, você está convidado(a) para um jantar comigo.\n",
            "['marlon', 'alícia', 'véia', 'véio', 'gabriel', 'gianlucca']\n",
            "Olá, Marlon. Nós encontramos uma mesa maior e por isso teremos mais convidados.\n",
            "Olá, Alícia. Nós encontramos uma mesa maior e por isso teremos mais convidados.\n",
            "Olá, Véia. Nós encontramos uma mesa maior e por isso teremos mais convidados.\n",
            "Olá, Véio. Nós encontramos uma mesa maior e por isso teremos mais convidados.\n",
            "Olá, Gabriel. Nós encontramos uma mesa maior e por isso teremos mais convidados.\n",
            "Olá, Gianlucca. Nós encontramos uma mesa maior e por isso teremos mais convidados.\n"
          ]
        }
      ],
      "source": [
        "#3.5\n",
        "convidados = ['marlon','alícia','véia','véio','nathália','gabriel']\n",
        "convidados.remove('nathália')\n",
        "convidados.append('gianlucca')\n",
        "for conv in convidados:\n",
        "    print(f'Olá, {conv.title().strip()}, você está convidado(a) para um jantar comigo.')\n",
        "\n",
        "#3.6\n",
        "for conv in convidados:\n",
        "    print(f'Olá, {conv.title().strip()}. Nós encontramos uma mesa maior e por isso teremos mais convidados.')"
      ]
    },
    {
      "cell_type": "markdown",
      "metadata": {
        "id": "8J3UX_NT61tE"
      },
      "source": [
        "3.6 – Mais convidados: Você acabou de encontrar uma mesa de jantar maior, portanto agora tem mais espaço disponível. Pense em mais três convidados para o jantar.\n",
        "\n",
        "- Comece com seu programa do Exercício 3.4 ou do Exercício 3.5. Acrescente uma instrução print no final de seu programa informando às pessoas que você encontrou uma mesa de jantar maior.\n",
        "- Utilize insert() para adicionar um novo convidado no início de sua lista.\n",
        "- Utilize insert() para adicionar um novo convidado no meio de sua lista.\n",
        "- Utilize append() para adicionar um novo convidado no final de sua lista.\n",
        "- Exiba um novo conjunto de mensagens de convite, uma para cada pessoa que está em sua lista."
      ]
    },
    {
      "cell_type": "code",
      "execution_count": null,
      "metadata": {
        "id": "Q3HbStJQ61tE",
        "outputId": "f348f863-0b88-43f7-d465-ff7c919959c5"
      },
      "outputs": [
        {
          "name": "stdout",
          "output_type": "stream",
          "text": [
            "Olá Mário. Você está convidado para um jantar comigo.\n",
            "Olá Marlon. Você está convidado para um jantar comigo.\n",
            "Olá Alícia. Você está convidado para um jantar comigo.\n",
            "Olá Maria. Você está convidado para um jantar comigo.\n",
            "Olá Véia. Você está convidado para um jantar comigo.\n",
            "Olá Véio. Você está convidado para um jantar comigo.\n",
            "Olá Gabriel. Você está convidado para um jantar comigo.\n",
            "Olá Gianlucca. Você está convidado para um jantar comigo.\n",
            "Olá Kassião. Você está convidado para um jantar comigo.\n",
            "Tivemos um problema Kassião. Só poderei convidar duas pessoas para o jantar \n"
          ]
        }
      ],
      "source": [
        "#3.6\n",
        "convidados = ['marlon', 'alícia', 'véia', 'véio', 'gabriel', 'gianlucca']\n",
        "\n",
        "convidados.insert(0,'mário')\n",
        "convidados.insert(3,'maria')\n",
        "convidados.append('kassião')\n",
        "\n",
        "for conv in convidados:\n",
        "    print(f'Olá {conv.title().strip()}. Você está convidado para um jantar comigo.')\n",
        "\n",
        "#3.7\n",
        "for conv in convidados:\n",
        "    print(f'Tivemos um problema {conv.title().strip()}. Só poderei convidar duas pessoas para o jantar ')"
      ]
    },
    {
      "cell_type": "markdown",
      "metadata": {
        "id": "ycg8R5jG61tF"
      },
      "source": [
        "3.7 – Reduzindo a lista de convidados: Você acabou de descobrir que sua nova mesa de jantar não chegará a tempo para o jantar e tem espaço para somente dois convidados.\n",
        "\n",
        "- Comece com seu programa do Exercício 3.6. Acrescente uma nova linha que mostre uma mensagem informando que você pode convidar apenas duas pessoas para o jantar.\n",
        "- Utilize pop() para remover os convidados de sua lista, um de cada vez, até que apenas dois nomes permaneçam em sua lista. Sempre que remover um nome de sua lista, mostre uma mensagem a essa pessoa, permitindo que ela saiba que você sente muito por não poder convidá-la para o jantar.\n",
        "- Apresente uma mensagem para cada uma das duas pessoas que continuam na lista, permitindo que elas saibam que ainda estão convidadas.\n",
        "- Utilize del para remover os dois últimos nomes de sua lista, de modo que você tenha uma lista vazia. Mostre sua lista para garantir que você realmente tem uma lista vazia no final de seu programa."
      ]
    },
    {
      "cell_type": "code",
      "execution_count": null,
      "metadata": {
        "id": "VE-rptDt61tF",
        "outputId": "18afc841-9251-4ce9-ab5b-dde72d45741d"
      },
      "outputs": [
        {
          "name": "stdout",
          "output_type": "stream",
          "text": [
            "Desculpe, Gianlucca terei que te desconvidar.\n",
            "Desculpe, Gabriel terei que te desconvidar.\n",
            "Desculpe, Véio terei que te desconvidar.\n",
            "Desculpe, Véia terei que te desconvidar.\n",
            "Parabéns Marlon, você ainda está convidado(a).\n",
            "Parabéns Alícia, você ainda está convidado(a).\n",
            "['alícia']\n",
            "[]\n"
          ]
        }
      ],
      "source": [
        "convidados = ['marlon', 'alícia', 'véia', 'véio', 'gabriel', 'gianlucca']\n",
        "\n",
        "for conv in convidados[2:]:\n",
        "    print(f'Desculpe, {convidados.pop().title().strip()} terei que te desconvidar.')\n",
        "for conv in convidados:\n",
        "    print(f'Parabéns {conv.title().strip()}, você ainda está convidado(a).')\n",
        "\n",
        "del convidados[0]\n",
        "del convidados[0]\n",
        "\n",
        "print(convidados)"
      ]
    },
    {
      "cell_type": "markdown",
      "metadata": {
        "id": "5Vru1Lh961tF"
      },
      "source": [
        "## 3.3. Organizando uma lista"
      ]
    },
    {
      "cell_type": "markdown",
      "metadata": {
        "id": "pbKR3r5N61tG"
      },
      "source": [
        "### 3.3.1. Ordenando uma lista de forma permanente com o método sort()"
      ]
    },
    {
      "cell_type": "code",
      "execution_count": null,
      "metadata": {
        "id": "6k25GPeL61tG",
        "outputId": "1b1c4159-5fe5-483a-e6f5-4189d24f96a3"
      },
      "outputs": [
        {
          "name": "stdout",
          "output_type": "stream",
          "text": [
            "['bmw', 'audi', 'wolks', 'ford', 'gm']\n",
            "['audi', 'bmw', 'ford', 'gm', 'wolks']\n",
            "['wolks', 'gm', 'ford', 'bmw', 'audi']\n"
          ]
        }
      ],
      "source": [
        "carros = ['bmw','audi','wolks','ford','gm'] #lista original, desordenada\n",
        "print(carros)\n",
        "\n",
        "carros.sort() #ordenação permanente (ordem alfabética)\n",
        "print(carros)\n",
        "\n",
        "carros.sort(reverse=True) #ordenação permanente (ordem anti alfabética)\n",
        "print(carros)"
      ]
    },
    {
      "cell_type": "markdown",
      "metadata": {
        "id": "msPi9Fw561tH"
      },
      "source": [
        "### 3.3.2. Ordenando uma lista temporariamente com a função sorted()"
      ]
    },
    {
      "cell_type": "code",
      "execution_count": null,
      "metadata": {
        "id": "cj_Z9A1B61tH",
        "outputId": "f51eeb12-a772-49c7-a124-b867f234d42f"
      },
      "outputs": [
        {
          "name": "stdout",
          "output_type": "stream",
          "text": [
            "['bmw', 'audi', 'wolks', 'ford', 'gm']\n",
            "['audi', 'bmw', 'ford', 'gm', 'wolks']\n",
            "['wolks', 'gm', 'ford', 'bmw', 'audi']\n",
            "['bmw', 'audi', 'wolks', 'ford', 'gm']\n"
          ]
        }
      ],
      "source": [
        "carros = ['bmw','audi','wolks','ford','gm'] #lista original, desordenada\n",
        "print(carros)\n",
        "\n",
        "carros = ['bmw','audi','wolks','ford','gm'] #lista original, desordenada\n",
        "\n",
        "print(sorted(carros)) #carros ordenada temporariamente\n",
        "print(sorted(carros, reverse=True)) #carros ordenada temporariamente (anti alfabética)\n",
        "\n",
        "print(carros) #lista original permanece inalterada"
      ]
    },
    {
      "cell_type": "markdown",
      "metadata": {
        "id": "JV5e15P561tH"
      },
      "source": [
        "### 3.3.3. Exibindo uma lista em ordem inversa"
      ]
    },
    {
      "cell_type": "code",
      "execution_count": null,
      "metadata": {
        "id": "coyv8Nrv61tI",
        "outputId": "67f46cfc-aedd-4250-d910-f6779c538adc"
      },
      "outputs": [
        {
          "name": "stdout",
          "output_type": "stream",
          "text": [
            "['bmw', 'audi', 'wolks', 'ford', 'gm']\n",
            "['gm', 'ford', 'wolks', 'audi', 'bmw']\n"
          ]
        }
      ],
      "source": [
        "carros = ['bmw','audi','wolks','ford','gm'] #lista original, desordenada\n",
        "print(carros)\n",
        "\n",
        "carros.reverse() #inverte permanentemente a lista\n",
        "print(carros)"
      ]
    },
    {
      "cell_type": "markdown",
      "metadata": {
        "id": "o4NVn_Gr61tI"
      },
      "source": [
        "### 3.3.4. Descobrindo o tamanho de uma lista"
      ]
    },
    {
      "cell_type": "code",
      "execution_count": null,
      "metadata": {
        "id": "v9pGEW8W61tJ",
        "outputId": "d14b3afc-b8bc-47a0-941a-0ea74bbbfd6b"
      },
      "outputs": [
        {
          "name": "stdout",
          "output_type": "stream",
          "text": [
            "['bmw', 'audi', 'wolks', 'ford', 'gm']\n",
            "5\n"
          ]
        }
      ],
      "source": [
        "carros = ['bmw','audi','wolks','ford','gm'] #lista original, desordenada\n",
        "print(carros)\n",
        "print(len(carros))#tamanho da lista"
      ]
    },
    {
      "cell_type": "markdown",
      "metadata": {
        "id": "nXS3jCZx61tJ"
      },
      "source": [
        "### 3.3.5. Exercícios"
      ]
    },
    {
      "cell_type": "markdown",
      "metadata": {
        "id": "zV3KAv2861tJ"
      },
      "source": [
        "3.8 – Conhecendo o mundo: Pense em pelo menos cinco lugares do mundo que você gostaria de visitar.\n",
        "\n",
        "- Armazene as localidades em uma lista. Certifique-se de que a lista não esteja em ordem alfabética.\n",
        "- Exiba sua lista na ordem original. Não se preocupe em exibir a lista de forma elegante; basta exibi-la como uma lista Python pura.\n",
        "- Utilize sorted() para exibir sua lista em ordem alfabética, sem modificar a lista propriamente dita.\n",
        "- Mostre que sua lista manteve sua ordem original exibindo-a.\n",
        "- Utilize sorted() para exibir sua lista em ordem alfabética inversa sem alterar a ordem da lista original.\n",
        "- Mostre que sua lista manteve sua ordem original exibindo-a novamente.\n",
        "- Utilize reverse() para mudar a ordem de sua lista. Exiba a lista para mostrar que sua ordem mudou.\n",
        "- Utilize reverse() para mudar a ordem de sua lista novamente. Exiba a lista para mostrar que ela voltou à sua ordem original.\n",
        "- Utilize sort() para mudar sua lista de modo que ela seja armazenada em ordem alfabética. Exiba a lista para mostrar que sua ordem mudou.\n",
        "- Utilize sort() para mudar sua lista de modo que ela seja armazenada em ordem alfabética inversa.\n",
        "\n",
        "Exiba a lista para mostrar que sua ordem mudou."
      ]
    },
    {
      "cell_type": "code",
      "execution_count": null,
      "metadata": {
        "id": "dk-Pj37S61tK",
        "outputId": "ed357a78-5283-4d06-f818-55f6cb98eaf9"
      },
      "outputs": [
        {
          "name": "stdout",
          "output_type": "stream",
          "text": [
            "['china', 'coreia', 'japão', 'marrocos', 'brasil', 'europa']\n",
            "['brasil', 'china', 'coreia', 'europa', 'japão', 'marrocos']\n",
            "['china', 'coreia', 'japão', 'marrocos', 'brasil', 'europa']\n",
            "['europa', 'brasil', 'marrocos', 'japão', 'coreia', 'china']\n",
            "['china', 'coreia', 'japão', 'marrocos', 'brasil', 'europa']\n",
            "['brasil', 'china', 'coreia', 'europa', 'japão', 'marrocos']\n",
            "['marrocos', 'japão', 'europa', 'coreia', 'china', 'brasil']\n"
          ]
        }
      ],
      "source": [
        "locais = ['china','coreia','japão','marrocos','brasil','europa'] #cria lista\n",
        "print(locais) #exibe lista original\n",
        "print(sorted(locais)) #exibe locais em ordem aflabética\n",
        "print(locais) #a lista original não foi alterada\n",
        "\n",
        "locais.reverse() #inverte a lista original\n",
        "print(locais)\n",
        "\n",
        "locais.reverse() #inverte novamente para voltar ao original\n",
        "print(locais)\n",
        "\n",
        "locais.sort() #ordena permanentemente\n",
        "print(locais)\n",
        "\n",
        "locais.sort(reverse=True) #ordem anti alfabetica permanente\n",
        "print(locais)"
      ]
    },
    {
      "cell_type": "markdown",
      "metadata": {
        "id": "uf1xorw261tK"
      },
      "source": [
        "3.9 – Convidados para o jantar: Trabalhando com um dos programas dos Exercícios de 3.4 a 3.7 (páginas 80 e 81), use len() para exibir uma mensagem informando o número de pessoas que você está convidando para o jantar."
      ]
    },
    {
      "cell_type": "code",
      "execution_count": null,
      "metadata": {
        "id": "4VscY3vl61tL",
        "outputId": "1cc1a72e-da33-4d64-bcce-09cdaa854bd0"
      },
      "outputs": [
        {
          "name": "stdout",
          "output_type": "stream",
          "text": [
            "6\n",
            "5\n",
            "4\n",
            "5\n"
          ]
        }
      ],
      "source": [
        "convidados = ['marlon','alícia','véia','véio','nathália','gabriel']\n",
        "print(len(convidados))\n",
        "\n",
        "del convidados[0]\n",
        "print(len(convidados))\n",
        "\n",
        "convidados.remove('alícia')\n",
        "print(len(convidados))\n",
        "\n",
        "convidados.append('gianlucca')\n",
        "print(len(convidados))"
      ]
    },
    {
      "cell_type": "markdown",
      "metadata": {
        "id": "EtME7SC261tL"
      },
      "source": [
        "3.10 – Todas as funções: Pensa em algo que você poderia armazenar em uma lista. Por exemplo, você poderia criar uma lista de montanhas, rios, países, cidades, idiomas ou qualquer outro item que quiser. Escreva um programa que crie uma lista contendo esses itens e então utilize cada função apresentada neste capítulo pelo menos uma vez."
      ]
    },
    {
      "cell_type": "code",
      "execution_count": null,
      "metadata": {
        "id": "O_yKCf1M61tL",
        "outputId": "f64f45f3-db3a-42d2-fc74-2b79035ac072"
      },
      "outputs": [
        {
          "name": "stdout",
          "output_type": "stream",
          "text": [
            "['dindin', 'carro', 'fêmea']\n",
            "['dindin', 'carro', 'fêmea', 'casa', 'moto', 'emprego', 'filhos']\n",
            "['carro', 'fêmea', 'casa', 'moto', 'emprego']\n",
            "['carro', 'fêmea', 'filhos', 'dindin', 'casa', 'moto', 'emprego']\n",
            "['fêmea', 'filhos', 'dindin', 'casa', 'emprego']\n"
          ]
        }
      ],
      "source": [
        "lista = ['dindin','carro','fêmea'] #criando lista\n",
        "print(lista)\n",
        "\n",
        "lista.append('casa') #adiciona ao fim da lista\n",
        "lista.extend(['moto','emprego','filhos']) #adiciona lista o final\n",
        "print(lista)\n",
        "\n",
        "item1 = lista.pop() #remove último ítem e salva na variável \"item1\"\n",
        "item2 = lista.pop(0) #remove primeiro ítem e salva na variável \"item2\"\n",
        "print(lista)\n",
        "\n",
        "lista.insert(2, item1) #insere item1 na posição 2\n",
        "lista.insert(3, item2) #insere item2 na posição 3\n",
        "print(lista)\n",
        "\n",
        "lista.remove('moto')\n",
        "del lista[0]\n",
        "print(lista)"
      ]
    },
    {
      "cell_type": "markdown",
      "metadata": {
        "id": "oa6jmcxm7A7z"
      },
      "source": [
        "# Capítulo 4. Trabalhando com listas"
      ]
    },
    {
      "cell_type": "markdown",
      "metadata": {
        "id": "I91emMAP7A72"
      },
      "source": [
        "## 4.1. Percorrendo uma lista inteira com um laço"
      ]
    },
    {
      "cell_type": "markdown",
      "metadata": {
        "id": "tRVA8d6t7A72"
      },
      "source": [
        "Neste capítulo veremos como percorrer uma lista inteira com um laço usando apenas algumas linhas de código, independentemente do tamanho da lista. Percorrer listas com laços permite executar a mesma ação – ou conjunto de ações – em todos os itens de uma lista. Como resultado, você poderá trabalhar de modo eficiente com listas de qualquer tamanho, incluindo aquelas com milhares ou até mesmo milhões de itens."
      ]
    },
    {
      "cell_type": "markdown",
      "metadata": {
        "id": "lio06xbo7A73"
      },
      "source": [
        "### 4.1.1. Percorrendo uma lista inteira com um laço"
      ]
    },
    {
      "cell_type": "markdown",
      "metadata": {
        "id": "ejYPOtlf7A73"
      },
      "source": [
        "4.1 – Pizzas: Pense em pelo menos três tipos de pizzas favoritas. Armazene os nomes dessas pizzas e, então, utilize um laço for para exibir o nome de cada pizza.\n",
        "\n",
        "- Modifique seu laço for para mostrar uma frase usando o nome da pizza em vez de exibir apenas o nome dela. Para cada pizza, você deve ter uma linha na saída contendo uma frase simples como Gosto de pizza de pepperoni.\n",
        "- Acrescente uma linha no final de seu programa, fora do laço for, que informe quanto você gosta de pizza. A saída deve ser constituída de três ou mais linhas sobre os tipos de pizza que você gosta e de uma frase adicional, por exemplo, Eu realmente adoro pizza!"
      ]
    },
    {
      "cell_type": "code",
      "execution_count": null,
      "metadata": {
        "id": "pmUEfua87A74",
        "outputId": "f95254f7-bb13-41c4-b6dc-4e9cac9cd19e"
      },
      "outputs": [
        {
          "name": "stdout",
          "output_type": "stream",
          "text": [
            "Sabores de pizza:\n",
            "1. Calabresa é uma delícia!\n",
            "2. Bacon E Milho é uma delícia!\n",
            "3. À Moda é uma delícia!\n",
            "Gosto mais de Bacon E Milho mas também como Calabresa e À Moda\n"
          ]
        }
      ],
      "source": [
        "pizzas = ['calabresa','bacon e milho','à moda'] #lista de pizzas\n",
        "\n",
        "print('Sabores de pizza:')\n",
        "i = 1\n",
        "for pizza in pizzas:\n",
        "    print(f'{i}.',pizza.title().strip(),'é uma delícia!')\n",
        "    i += 1\n",
        "print(f'Gosto mais de {pizzas[1].title().strip()} \\\n",
        "mas também como {pizzas[0].title().strip()} \\\n",
        "e {pizzas[2].title().strip()}')"
      ]
    },
    {
      "cell_type": "markdown",
      "metadata": {
        "id": "YtKOrYho7A75"
      },
      "source": [
        "4.2 – Animais: Pense em pelo menos três animais diferentes que tenham uma característica em comum. Armazene os nomes desses animais em uma lista e, então, utilize um laço for para exibir o nome de cada animal.\n",
        "\n",
        "- Modifique seu programa para exibir uma frase sobre cada animal, por exemplo, Um cachorro seria um ótimo animal de estimação.\n",
        "- Acrescente uma linha no final de seu programa informando o que esses animais têm em comum. Você poderia exibir uma frase como Qualquer um desses animais seria um ótimo animal de estimação!"
      ]
    },
    {
      "cell_type": "code",
      "execution_count": null,
      "metadata": {
        "id": "lHvxr0h-7A76",
        "outputId": "57777d62-638e-4482-d3cf-93fad451b94a"
      },
      "outputs": [
        {
          "name": "stdout",
          "output_type": "stream",
          "text": [
            "Cão seria um ótimo animal de estimação\n",
            "Gato seria um ótimo animal de estimação\n",
            "Pássaro seria um ótimo animal de estimação\n",
            "Qualquer um desses animais seria um ótimo animal de estimação.\n"
          ]
        }
      ],
      "source": [
        "animais = ['cão','gato','pássaro']\n",
        "\n",
        "for animal in animais:\n",
        "    print(f'{animal.title().strip()} seria um ótimo animal de estimação')\n",
        "print('Qualquer um desses animais seria um ótimo animal de estimação.')"
      ]
    },
    {
      "cell_type": "markdown",
      "metadata": {
        "id": "MKXAyVxX7A76"
      },
      "source": [
        "## 4.2. Criando listas numéricas"
      ]
    },
    {
      "cell_type": "markdown",
      "source": [
        "### 4.2.1. Contagens básicas com range\n"
      ],
      "metadata": {
        "id": "sIV6xSAt-Lri"
      }
    },
    {
      "cell_type": "markdown",
      "metadata": {
        "id": "mdJ2thNc7A77"
      },
      "source": [
        "\n",
        "`range(n)`: conta de 0 até n-1\n",
        "\n",
        "`range(n1,n2)`: conta de n1 até n2-1\n",
        "\n",
        "`range(n1,n2,s)`: conta de n1 até n2-1 com saltos de tamanho s"
      ]
    },
    {
      "cell_type": "code",
      "execution_count": null,
      "metadata": {
        "id": "o-Qcc5el7A78"
      },
      "outputs": [],
      "source": [
        "#contagem de 0 a 5\n",
        "for i in range(6):\n",
        "    print(i)\n",
        "print('fim da contagem.')\n",
        "\n",
        "#contagem de 1 a 5\n",
        "for i in range(1,6):\n",
        "    print(i)\n",
        "print('fim da contagem.')\n",
        "\n",
        "#contagem de 1 a 5 pulando de 2 em 2.\n",
        "for i in range(1,6,2):\n",
        "    print(i)"
      ]
    },
    {
      "cell_type": "markdown",
      "metadata": {
        "id": "ZTijQno17A78"
      },
      "source": [
        "Também podemos usar o range para criar listas de números"
      ]
    },
    {
      "cell_type": "code",
      "execution_count": null,
      "metadata": {
        "id": "mdDRBrD37A78",
        "outputId": "b0f6e219-d863-4eab-aa69-31ce9a6a0df9"
      },
      "outputs": [
        {
          "name": "stdout",
          "output_type": "stream",
          "text": [
            "[0, 1, 2, 3, 4, 5]\n",
            "[1, 4, 7, 10, 13, 16, 19]\n"
          ]
        }
      ],
      "source": [
        "#lista de 0 a 5\n",
        "lista1 = list(range(6))\n",
        "print(lista1)\n",
        "\n",
        "#lista de 1 a 20 saltando de 3 em 3\n",
        "lista2 = list(range(1,20,3))\n",
        "print(lista2)"
      ]
    },
    {
      "cell_type": "markdown",
      "metadata": {
        "id": "3Jmg5UZf7A79"
      },
      "source": [
        "Aliando essa ideia de listas numéricas ao conceito de loops podemos criar listas numéricas baseadas em iterações de uma determinada lei matemática"
      ]
    },
    {
      "cell_type": "code",
      "execution_count": null,
      "metadata": {
        "id": "GvDxDKGj7A79",
        "outputId": "489da9cb-b088-4799-a5fd-435af24e2032"
      },
      "outputs": [
        {
          "name": "stdout",
          "output_type": "stream",
          "text": [
            "[1, 2, 3, 4, 5, 6, 7, 8, 9, 10]\n",
            " [2, 4, 6, 8, 10, 12, 14, 16, 18, 20] \n",
            " [1, 4, 9, 16, 25, 36, 49, 64, 81, 100] \n",
            " [2, 4, 8, 16, 32, 64, 128, 256, 512, 1024]\n"
          ]
        }
      ],
      "source": [
        "lista = list(range(1, 11))\n",
        "print(lista)\n",
        "\n",
        "dobros = []\n",
        "quadrados = []\n",
        "potencias2 = []\n",
        "\n",
        "for valor in lista:\n",
        "    dobros.append(valor*2)\n",
        "    quadrados.append(valor**2)\n",
        "    potencias2.append(2**valor)\n",
        "\n",
        "print(\"\",dobros,\"\\n\",quadrados,\"\\n\",potencias2)"
      ]
    },
    {
      "cell_type": "markdown",
      "metadata": {
        "id": "RaO_ymm77A79"
      },
      "source": [
        "### 4.2.2. Estatísticas simples com uma lista de números"
      ]
    },
    {
      "cell_type": "markdown",
      "metadata": {
        "id": "bqQBhQCP7A7-"
      },
      "source": [
        "É possível usar métodos estatísticos simples sobre uma lista:\n",
        "\n",
        "`min(list)`: mínimo da lista\n",
        "`max(list)`: máximo da lista\n",
        "`sum(list)`: soma da lista"
      ]
    },
    {
      "cell_type": "code",
      "execution_count": null,
      "metadata": {
        "id": "WaNUBEG17A7-",
        "outputId": "42d142bf-279c-4c79-c247-3660f9ad7d48"
      },
      "outputs": [
        {
          "name": "stdout",
          "output_type": "stream",
          "text": [
            "[0, 10, 20, 30, 40, 50, 60, 70, 80, 90]\n",
            "O valor máximo é 90.\n",
            "O valor mínimo é 0.\n",
            "A soma dos valores da lista é 450.\n"
          ]
        }
      ],
      "source": [
        "lista = list(range(0,100,10))\n",
        "print(lista)\n",
        "\n",
        "print(f'O valor máximo é {max(lista)}.')\n",
        "print(f'O valor mínimo é {min(lista)}.')\n",
        "print(f'A soma dos valores da lista é {sum(lista)}.')"
      ]
    },
    {
      "cell_type": "markdown",
      "metadata": {
        "id": "yE9oUBnr7A7-"
      },
      "source": [
        "É possível combinar esses métodos para produzir novos parametros estatísticos"
      ]
    },
    {
      "cell_type": "code",
      "execution_count": null,
      "metadata": {
        "id": "w1nq0KAa7A7-"
      },
      "outputs": [],
      "source": [
        "!pip install numpy"
      ]
    },
    {
      "cell_type": "code",
      "execution_count": null,
      "metadata": {
        "id": "XkqcGC8F7A7-",
        "outputId": "651f9fac-fee7-4bf9-9972-408e14499752"
      },
      "outputs": [
        {
          "name": "stdout",
          "output_type": "stream",
          "text": [
            "[0, 10, 20, 30, 40, 50, 60, 70, 80, 90]\n",
            "A média é 45.0.\n",
            "[2025.0, 1225.0, 625.0, 225.0, 25.0, 25.0, 225.0, 625.0, 1225.0, 2025.0]\n",
            "30.276503540974915\n"
          ]
        }
      ],
      "source": [
        "import numpy as np\n",
        "\n",
        "lista = list(range(0,100,10))\n",
        "print(lista)\n",
        "\n",
        "media = sum(lista)/len(lista)\n",
        "print(f'A média é {media}.')\n",
        "\n",
        "desvios_media_quadr = []\n",
        "for i in lista:\n",
        "    desvios_media_quadr.append((i-media)**2)\n",
        "print(desvios_media_quadr)\n",
        "\n",
        "desvio_padrao = np.sqrt(sum(desvios_media_quadr)/(len(desvios_media_quadr)-1))\n",
        "print(desvio_padrao)"
      ]
    },
    {
      "cell_type": "markdown",
      "metadata": {
        "id": "SKehbKb-7A7-"
      },
      "source": [
        "### 4.2.3. List Comprehension"
      ]
    },
    {
      "cell_type": "markdown",
      "metadata": {
        "id": "wPMZu8Gh7A7-"
      },
      "source": [
        "Uma list comprehension combina o laço for e a criação de novos elementos em\n",
        "uma linha, e concatena cada novo elemento automaticamente. As list comprehensions nem sempre são apresentadas aos iniciantes, mas eu as incluí aqui porque é bem provável que você as veja assim que começar a analisar códigos de outras pessoas."
      ]
    },
    {
      "cell_type": "code",
      "execution_count": null,
      "metadata": {
        "id": "PO_yI6Oh7A7_",
        "outputId": "0a2465d6-7263-47ca-b9b1-5f2fbada3336"
      },
      "outputs": [
        {
          "name": "stdout",
          "output_type": "stream",
          "text": [
            "[0, 1, 2, 3, 4, 5, 6, 7, 8, 9, 10]\n",
            "[0, 1, 4, 9, 16, 25, 36, 49, 64, 81, 100]\n",
            "[0, 3, 6, 9, 12, 15, 18, 21, 24, 27, 30]\n",
            "[0.0, 1.0, 1.4142135623730951, 1.7320508075688772, 2.0, 2.23606797749979, 2.449489742783178, 2.6457513110645907, 2.8284271247461903, 3.0, 3.1622776601683795]\n"
          ]
        }
      ],
      "source": [
        "#contagem de 0 a 10:\n",
        "lista = [x for x in range(11)]\n",
        "print(lista)\n",
        "\n",
        "#lista de quadrados\n",
        "quadr_x = [x**2 for x in range(11)]\n",
        "print(quadr_x)\n",
        "\n",
        "#lista de triplos\n",
        "tripl_x = [3*x for x in range(11)]\n",
        "print(tripl_x)\n",
        "\n",
        "#raízes quadradas\n",
        "sqrt_x = [float(np.sqrt(x)) for x in range(11)]\n",
        "print(sqrt_x)"
      ]
    },
    {
      "cell_type": "markdown",
      "metadata": {
        "id": "NFLrdwdH7A7_"
      },
      "source": [
        "### 4.2.4. Exercícios"
      ]
    },
    {
      "cell_type": "markdown",
      "metadata": {
        "id": "TCZIAAJR7A7_"
      },
      "source": [
        "4.3 – Contando até vinte: Use um laço for para exibir os números de 1 a 20, incluindo-os."
      ]
    },
    {
      "cell_type": "code",
      "execution_count": null,
      "metadata": {
        "id": "IoifflKS7A7_"
      },
      "outputs": [],
      "source": [
        "for i in range(21):\n",
        "    print(i)"
      ]
    },
    {
      "cell_type": "markdown",
      "metadata": {
        "id": "DY3dCfvC7A8A"
      },
      "source": [
        "4.4 – Um milhão: Crie uma lista de números de um a um milhão e, então, use um laço for para exibir os números. (Se a saída estiver demorando demais, interrompa pressionando CTRL-C ou feche a janela de saída.)\n",
        "\n",
        "4.5 – Somando um milhão: Crie uma lista de números de um a um milhão e, em seguida, use min() e max() para garantir que sua lista realmente começa em um e termina em um milhão. Além disso, utilize a função sum() para ver a rapidez com que Python é capaz de somar um milhão de números."
      ]
    },
    {
      "cell_type": "code",
      "execution_count": 1,
      "metadata": {
        "id": "XpfwVVxY7A8A",
        "outputId": "ad7ed81e-1a71-4bd2-b3da-69dbc036f23a",
        "colab": {
          "base_uri": "https://localhost:8080/",
          "height": 211
        }
      },
      "outputs": [
        {
          "output_type": "error",
          "ename": "NameError",
          "evalue": "name 'lista' is not defined",
          "traceback": [
            "\u001b[0;31m---------------------------------------------------------------------------\u001b[0m",
            "\u001b[0;31mNameError\u001b[0m                                 Traceback (most recent call last)",
            "\u001b[0;32m<ipython-input-1-d9fb32418a72>\u001b[0m in \u001b[0;36m<cell line: 6>\u001b[0;34m()\u001b[0m\n\u001b[1;32m      4\u001b[0m \u001b[0;31m#    lista.append(i)\u001b[0m\u001b[0;34m\u001b[0m\u001b[0;34m\u001b[0m\u001b[0m\n\u001b[1;32m      5\u001b[0m \u001b[0;34m\u001b[0m\u001b[0m\n\u001b[0;32m----> 6\u001b[0;31m \u001b[0mprint\u001b[0m\u001b[0;34m(\u001b[0m\u001b[0;34m'Lista de 1 a 1000000'\u001b[0m\u001b[0;34m,\u001b[0m \u001b[0mlista\u001b[0m\u001b[0;34m)\u001b[0m\u001b[0;34m\u001b[0m\u001b[0;34m\u001b[0m\u001b[0m\n\u001b[0m\u001b[1;32m      7\u001b[0m \u001b[0mprint\u001b[0m\u001b[0;34m(\u001b[0m\u001b[0;34m'A soma da lista é:'\u001b[0m\u001b[0;34m,\u001b[0m \u001b[0msum\u001b[0m\u001b[0;34m(\u001b[0m\u001b[0mlista\u001b[0m\u001b[0;34m)\u001b[0m\u001b[0;34m)\u001b[0m\u001b[0;34m\u001b[0m\u001b[0;34m\u001b[0m\u001b[0m\n\u001b[1;32m      8\u001b[0m \u001b[0mprint\u001b[0m\u001b[0;34m(\u001b[0m\u001b[0;34m'O menor valor é'\u001b[0m\u001b[0;34m,\u001b[0m \u001b[0mmin\u001b[0m\u001b[0;34m(\u001b[0m\u001b[0mlista\u001b[0m\u001b[0;34m)\u001b[0m\u001b[0;34m)\u001b[0m\u001b[0;34m\u001b[0m\u001b[0;34m\u001b[0m\u001b[0m\n",
            "\u001b[0;31mNameError\u001b[0m: name 'lista' is not defined"
          ]
        }
      ],
      "source": [
        "#por questões de memória contei até 100k\n",
        "#lista = []\n",
        "#for i in range(1,100001):\n",
        "#    lista.append(i)\n",
        "\n",
        "print('Lista de 1 a 1000000', lista)\n",
        "print('A soma da lista é:', sum(lista))\n",
        "print('O menor valor é', min(lista))\n",
        "print('O maior valor é', max(lista))"
      ]
    },
    {
      "cell_type": "markdown",
      "metadata": {
        "id": "1C9LW_Rw7A8A"
      },
      "source": [
        "4.6 – Números ímpares: Use o terceiro argumento da função range() para criar uma lista de números ímpares de 1 a 20. Utilize um laço for para exibir todos os números.\n",
        "\n",
        "4.7– Três: Crie uma lista de múltiplos de 3, de 3 a 30. Use um laço for para exibir os números de sua lista.\n",
        "\n",
        "4.8 – Cubos: Um número elevado à terceira potência é chamado de cubo. Por exemplo, o cubo de 2 é escrito como 2**3 em Python. Crie uma lista dos dez primeiros cubos (isto é, o cubo de cada inteiro de 1 a 10), e utilize um laço for para exibir o valor de cada cubo."
      ]
    },
    {
      "cell_type": "code",
      "execution_count": null,
      "metadata": {
        "id": "TWL6UzPj7A8B",
        "outputId": "48019b9a-2bb7-4d81-84a3-1765c7fadbd3"
      },
      "outputs": [
        {
          "name": "stdout",
          "output_type": "stream",
          "text": [
            "[1, 3, 5, 7, 9, 11, 13, 15, 17, 19]\n",
            "[0, 3, 6, 9, 12, 15, 18, 21, 24, 27, 30]\n",
            "[1, 8, 27, 64, 125, 216, 343, 512, 729, 1000]\n",
            "[1, 8, 27, 64, 125, 216, 343, 512, 729, 1000]\n"
          ]
        }
      ],
      "source": [
        "#4.6\n",
        "impares = [x for x in range(1,20,2)]\n",
        "print(impares)\n",
        "\n",
        "#4.7\n",
        "mult3 = [3*x for x in range(11)]\n",
        "print(mult3)\n",
        "\n",
        "#4.8\n",
        "cubos = []\n",
        "for i in range(1,11):\n",
        "    cubos.append(i**3)\n",
        "print(cubos)\n",
        "\n",
        "#4.9\n",
        "cubos_lc = [x**3 for x in range(1,11)]\n",
        "print(cubos_lc)"
      ]
    },
    {
      "cell_type": "markdown",
      "metadata": {
        "id": "9zZujq-X7A8B"
      },
      "source": [
        "## 4.3. Trabalhando com parte de uma lista"
      ]
    },
    {
      "cell_type": "markdown",
      "metadata": {
        "id": "iy3T4Yvg7A8C"
      },
      "source": [
        "### 4.3.1. Fatiando uma lista"
      ]
    },
    {
      "cell_type": "code",
      "execution_count": null,
      "metadata": {
        "id": "J_Q9mjQt7A8C",
        "outputId": "3222e2eb-532d-4bd8-d779-918a0fbc5b57"
      },
      "outputs": [
        {
          "name": "stdout",
          "output_type": "stream",
          "text": [
            "['zé', 'jão', 'max', 'paulo', 'marcos', 'pedro', 'caio']\n",
            "['zé', 'jão', 'max']\n",
            "['zé', 'jão', 'max']\n",
            "['max', 'paulo', 'marcos', 'pedro', 'caio']\n",
            "['pedro', 'caio']\n"
          ]
        }
      ],
      "source": [
        "jogadores = ['zé','jão','max','paulo','marcos','pedro','caio'] #cria a lista\n",
        "print(jogadores)\n",
        "\n",
        "print(jogadores[0:3]) #exibe os elementos [0] até [2]\n",
        "print(jogadores[:3]) #do início até [2]\n",
        "print(jogadores[2:]) #do elemento [2] até o final\n",
        "print(jogadores[-2:]) #dos dois últimos até o final"
      ]
    },
    {
      "cell_type": "markdown",
      "metadata": {
        "id": "ySru5Fi-7A8C"
      },
      "source": [
        "### 4.3.2. Percorrendo uma fatia com um laço"
      ]
    },
    {
      "cell_type": "code",
      "execution_count": null,
      "metadata": {
        "id": "VbOgGU2n7A8C",
        "outputId": "808bc3dc-ed8a-4e1a-dc39-66fd532327d7"
      },
      "outputs": [
        {
          "name": "stdout",
          "output_type": "stream",
          "text": [
            "Aqui estão os três primeiros jogadores do time:\n",
            "Zé\n",
            "Jão\n",
            "Max\n",
            "Aqui estão três últimos jogadores do time:\n",
            "Marcos\n",
            "Pedro\n",
            "Caio\n",
            "O jogador do meior é:\n",
            "Paulo\n"
          ]
        }
      ],
      "source": [
        "jogadores = ['zé','jão','max','paulo','marcos','pedro','caio'] #cria a lista\n",
        "\n",
        "print(\"Aqui estão os três primeiros jogadores do time:\")\n",
        "for jogador in jogadores[:3]:\n",
        "    print(jogador.title().strip())\n",
        "\n",
        "print(\"Aqui estão três últimos jogadores do time:\")\n",
        "for jogador in jogadores[-3:]:\n",
        "    print(jogador.title().strip())\n",
        "\n",
        "print(\"O jogador do meior é:\")\n",
        "print(jogadores[round((len(jogadores)-1)/2)].title().strip())"
      ]
    },
    {
      "cell_type": "markdown",
      "metadata": {
        "id": "6Iie8mZU7A8D"
      },
      "source": [
        "Para copiar uma lista, podemos criar uma fatia que inclua a lista original inteira omitindo o primeiro e o segundo índices ([:]). Isso diz a Python para criar uma lista que começa no primeiro item e termina no último, gerando uma cópia da lista toda."
      ]
    },
    {
      "cell_type": "code",
      "execution_count": null,
      "metadata": {
        "id": "ARGLwWOp7A8D",
        "outputId": "3929694f-c7ef-46c1-d6aa-ca3d3db8528a"
      },
      "outputs": [
        {
          "name": "stdout",
          "output_type": "stream",
          "text": [
            "['zé', 'jão', 'max', 'paulo', 'marcos', 'pedro', 'caio']\n",
            "['zé', 'jão', 'max', 'paulo', 'marcos', 'pedro', 'caio']\n",
            "['zé', 'jão', 'max', 'paulo', 'marcos', 'pedro', 'caio', 'mariazinha']\n",
            "['zé', 'jão', 'max', 'paulo', 'marcos', 'pedro', 'caio']\n"
          ]
        }
      ],
      "source": [
        "jogadores = ['zé','jão','max','paulo','marcos','pedro','caio'] #cria a lista\n",
        "print(jogadores) #lista original antes de adicionalr \"mariazinha\"\n",
        "\n",
        "copia = jogadores[:] #criando a cópia\n",
        "print(copia) #exibindo a copia\n",
        "\n",
        "jogadores.append('mariazinha')\n",
        "print(jogadores) #depois de adicionar \"mariazinha\"\n",
        "print(copia) #como a cópia foi feita antes de adicionar \"mariazinha\" ela não contém \"mariazinha\""
      ]
    },
    {
      "cell_type": "markdown",
      "metadata": {
        "id": "8DqGnrGx7A8D"
      },
      "source": [
        "### 4.3.3. Exercícios"
      ]
    },
    {
      "cell_type": "markdown",
      "metadata": {
        "id": "KvUM4cXi7A8D"
      },
      "source": [
        "4.10 – Fatias: Usando um dos programas que você escreveu neste capítulo, acrescente várias linhas no final do programa que façam o seguinte:\n",
        "\n",
        "- Exiba a mensagem Os três primeiros itens da lista são: Em seguida, use uma fatia para exibir os três primeiros itens da lista desse programa.\n",
        "- Exiba a mensagem Três itens do meio da lista são:. Use uma fatia para exibir três itens do meio da lista.\n",
        "- Exiba a mensagem Os três últimos itens da lista são:. Use uma fatia para exibir os três últimos itens da lista."
      ]
    },
    {
      "cell_type": "code",
      "execution_count": null,
      "metadata": {
        "id": "mgShNIsG7A8E",
        "outputId": "5803829b-0757-44d6-be59-4404f912651d"
      },
      "outputs": [
        {
          "name": "stdout",
          "output_type": "stream",
          "text": [
            "Todas as nossas pizzas:  ['calabresa', 'bacon e milho', 'à moda', 'lombinho', 'marguerita', 'portuguesa', 'chocolate']\n",
            "4\n",
            "As três primeiras pizzas são ['calabresa', 'bacon e milho', 'à moda']\n",
            "A pizza do meio é: marguerita\n",
            "As três últimas pizzas são ['marguerita', 'portuguesa', 'chocolate']\n"
          ]
        }
      ],
      "source": [
        "pizzas = ['calabresa','bacon e milho','à moda','lombinho','marguerita','portuguesa','chocolate'] #lista de pizzas\n",
        "print(\"Todas as nossas pizzas: \",pizzas)\n",
        "\n",
        "meio = round(len(pizzas)/2)\n",
        "print(meio)\n",
        "\n",
        "print(f'As três primeiras pizzas são {pizzas[:3]}')\n",
        "print(f'A pizza do meio é: {pizzas[meio]}')\n",
        "print(f'As três últimas pizzas são {pizzas[-3:]}')"
      ]
    },
    {
      "cell_type": "markdown",
      "metadata": {
        "id": "tUx11kH97A8E"
      },
      "source": [
        "4.11 – Minhas pizzas, suas pizzas: Comece com seu programa do Exercício 4.1 (página 97). Faça uma cópia da lista de pizzas e chame-a de friend_pizzas. Então faça o seguinte: • Adicione uma nova pizza à lista original.\n",
        "\n",
        "- Adicione uma pizza diferente à lista friend_pizzas.\n",
        "- Prove que você tem duas listas diferentes. Exiba a mensagem Minhas pizzas favoritas são:; em seguida, utilize um laço for para exibir a primeira lista.\n",
        "\n",
        "Exiba a mensagem As pizzas favoritas de meu amigo são:; em seguida, utilize um laço for para exibir a segunda lista. Certifique-se de que cada pizza nova esteja armazenada na lista apropriada."
      ]
    },
    {
      "cell_type": "code",
      "execution_count": null,
      "metadata": {
        "id": "G8lNrppm7A8E",
        "outputId": "5749425c-4e8e-4237-86b9-d2e661d7b111"
      },
      "outputs": [
        {
          "name": "stdout",
          "output_type": "stream",
          "text": [
            " ['calabresa', 'bacon e milho', 'à moda', 'lombinho', 'marguerita', 'portuguesa', 'chocolate'] \n",
            " ['calabresa', 'bacon e milho', 'à moda', 'lombinho', 'marguerita', 'portuguesa', 'chocolate']\n",
            "As pizzas: ['calabresa', 'bacon e milho', 'à moda', 'lombinho', 'marguerita', 'portuguesa', 'chocolate', 'bosta'] \n",
            "Favoritas: ['calabresa', 'bacon e milho', 'à moda', 'lombinho', 'marguerita', 'portuguesa', 'chocolate', 'mijo']\n"
          ]
        }
      ],
      "source": [
        "pizzas = ['calabresa','bacon e milho','à moda','lombinho','marguerita','portuguesa','chocolate'] #lista de pizzas\n",
        "pizzas_manos = pizzas[:] #cópia da pizza\n",
        "\n",
        "print(\"\",pizzas,\"\\n\",pizzas_manos) #as listas são idênticas\n",
        "\n",
        "pizzas.append('bosta')\n",
        "pizzas_manos.append('mijo')\n",
        "\n",
        "print(\"As pizzas:\",pizzas,\"\\nFavoritas:\",pizzas_manos) #as listas NÃO são mais idênticas"
      ]
    },
    {
      "cell_type": "markdown",
      "metadata": {
        "id": "iaIE0FiY7A8E"
      },
      "source": [
        "## 4.4. Tuplas"
      ]
    },
    {
      "cell_type": "markdown",
      "metadata": {
        "id": "0OZ6Y3RF7A8F"
      },
      "source": [
        "As listas funcionam bem para armazenar conjuntos de itens que podem mudar durante a vida de um programa. A capacidade de modificar listas é particularmente importante quando trabalhamos com uma lista de usuários em um site ou com uma lista de personagens em um jogo. No entanto, às vezes, você vai querer criar uma lista de itens que não poderá mudar. As tuplas permitir fazer exatamente isso. Python refere-se a valores que não podem mudar como imutáveis, e uma lista imutável é chamada de tupla."
      ]
    },
    {
      "cell_type": "markdown",
      "metadata": {
        "id": "V41txzov7A8F"
      },
      "source": [
        "### 4.4.1. Definindo uma tupla"
      ]
    },
    {
      "cell_type": "markdown",
      "metadata": {
        "id": "bTRMocxw7A8F"
      },
      "source": [
        "Tuplas são imutáveis. Isso significa que uma vez criada não podemos sobrescrevê-la."
      ]
    },
    {
      "cell_type": "code",
      "execution_count": null,
      "metadata": {
        "id": "aeqf_ZE-7A8G"
      },
      "outputs": [],
      "source": [
        "dimensions = (100,250) #definindo a tupla\n",
        "\n",
        "print(dimensions) #exibindo a tupla\n",
        "print(type(dimensions)) #exibindo o tipo: 'tuple'\n",
        "\n",
        "#Tuplas são imutáveis:\n",
        "\n",
        "#dimensions[1] = 500 #retorna um TypeError\n",
        "#dimensions.append(500) #retorna um AtributeError\n",
        "#dimensions.extend((10)) #retorna um AtributeError"
      ]
    },
    {
      "cell_type": "markdown",
      "metadata": {
        "id": "lJY90f2u7A8G"
      },
      "source": [
        "Quando estamos percorrendo todos os valores de uma tupla com um laço é possível usar as técnicas de fatiamento para percorrer apenas a parte de interesse."
      ]
    },
    {
      "cell_type": "code",
      "execution_count": null,
      "metadata": {
        "id": "TPaqlQlE7A8G",
        "outputId": "eb6209b6-2df9-4711-a560-3db8d54b1c8d"
      },
      "outputs": [
        {
          "name": "stdout",
          "output_type": "stream",
          "text": [
            "9\n",
            "7\n",
            "8\n",
            "6\n",
            "5\n",
            "6\n",
            "4\n",
            "3\n",
            "2\n",
            "3\n",
            "acabou\n",
            "6\n",
            "4\n",
            "3\n",
            "2\n",
            "3\n",
            "acabou\n"
          ]
        }
      ],
      "source": [
        "tupla1 = (9,7,8,6,5,6,4,3,2,3) #criando a tupla\n",
        "\n",
        "for elem in tupla1: #percorrendo toda a tupla\n",
        "    print(elem)\n",
        "print('acabou')\n",
        "\n",
        "for elem in tupla1[-5:]: #percorrendo os 5 últimos ítens\n",
        "    print(elem)\n",
        "print('acabou')"
      ]
    },
    {
      "cell_type": "markdown",
      "metadata": {
        "id": "53QcXkhn7A8H"
      },
      "source": [
        "Embora não seja possível modificar uma tupla, podemos atribuir um novo valor a uma variável que armazena uma tupla. Portanto, se quiséssemos alterar nossas dimensões, poderíamos redefinir a tupla\n",
        "toda:"
      ]
    },
    {
      "cell_type": "code",
      "execution_count": null,
      "metadata": {
        "id": "eS9V4-kf7A8H",
        "outputId": "e8b097b0-9cc6-42ca-823e-c04d9071c743"
      },
      "outputs": [
        {
          "name": "stdout",
          "output_type": "stream",
          "text": [
            "Tupla original: Dimensão x: 100 | Dimensão y: 50\n",
            "Tupla alterada: Dimensão x: 200 | Dimensão y: 80\n"
          ]
        }
      ],
      "source": [
        "dimensions = (100,50) #define a tupla: 100x50\n",
        "print(f'Tupla original: Dimensão x: {dimensions[0]} | Dimensão y: {dimensions[1]}') #exibe 100x50\n",
        "\n",
        "dimensions = (200,80) #sobrescreve a tupla: 20x80\n",
        "print(f'Tupla alterada: Dimensão x: {dimensions[0]} | Dimensão y: {dimensions[1]}') #exibe 200x80\n"
      ]
    },
    {
      "cell_type": "markdown",
      "metadata": {
        "id": "hxY00Nl87A8I"
      },
      "source": [
        "### 4.4.2. Exemplos"
      ]
    },
    {
      "cell_type": "markdown",
      "metadata": {
        "id": "wch4Nzfx7A8I"
      },
      "source": [
        "4.13 – Buffet: Um restaurante do tipo buffet oferece apenas cinco tipos básicos de comida. Pense em cinco pratos simples e armazene-os em uma tupla.\n",
        "\n",
        "- Use um laço for para exibir cada prato oferecido pelo restaurante.\n",
        "- Tente modificar um dos itens e cerifique-se de que Python rejeita a mudança.\n",
        "- O restaurante muda seu cardápio, substituindo dois dos itens com pratos diferentes. Acrescente um bloco de código que reescreva a tupla e, em seguida, use um laço for para exibir cada um dos itens do cardápio revisado."
      ]
    },
    {
      "cell_type": "code",
      "execution_count": null,
      "metadata": {
        "id": "NzafC8b-7A8I",
        "outputId": "4e5de2dd-4401-4899-cfe3-30ec97f4c51d"
      },
      "outputs": [
        {
          "name": "stdout",
          "output_type": "stream",
          "text": [
            "Segue uma lista com os nossos pratos: \n",
            "1 . Almondegas\n",
            "2 . Macarronada\n",
            "3 . Lazanha\n",
            "4 . Risoto\n",
            "5 . Tropeiro\n",
            "Segue uma lista com os nossos NOVOS pratos: \n",
            "1 . Inhoque\n",
            "2 . Pizza\n",
            "3 . Lasanha\n",
            "4 . Risoto\n",
            "5 . Tropeiro\n"
          ]
        }
      ],
      "source": [
        "#criando o cardápio:\n",
        "pratos = ('almondegas','macarronada','lazanha','risoto','tropeiro')\n",
        "\n",
        "#exibindo os pratos:\n",
        "print(\"Segue uma lista com os nossos pratos: \")\n",
        "n = 1\n",
        "for prato in pratos:\n",
        "    print(n,'.',prato.title().strip())\n",
        "    n += 1\n",
        "\n",
        "#tentando alterar a tupla (e falhando):\n",
        "#pratos[2] = 'pizza' #retorna um TypeError\n",
        "\n",
        "#sobrescrevendo a tupla:\n",
        "pratos = ('inhoque','pizza','lasanha','risoto','tropeiro')\n",
        "print(\"Segue uma lista com os nossos NOVOS pratos: \")\n",
        "n = 1\n",
        "for prato in pratos:\n",
        "    print(n,'.',prato.title().strip())\n",
        "    n += 1"
      ]
    },
    {
      "cell_type": "markdown",
      "metadata": {
        "id": "j7upBV067A8J"
      },
      "source": [
        "## 4.5. Estilo e Padronização PEP - 8"
      ]
    },
    {
      "cell_type": "markdown",
      "metadata": {
        "id": "t_Kuqdet7A8J"
      },
      "source": [
        "PEP-8 é o guia de estilo para o código Python, que estabelece convenções para escrever código Python limpo e legível. Aqui estão algumas das principais regras e recomendações do PEP-8:\n",
        "\n",
        "### 4.5.1. Convenções de Nomenclatura\n",
        "\n",
        "1. **Nomes de Variáveis e Funções:**\n",
        "   - Use `snake_case` para nomes de variáveis e funções.\n",
        "   - Exemplo: `minha_variavel`, `minha_funcao()`.\n",
        "\n",
        "2. **Nomes de Classes:**\n",
        "   - Use `CamelCase` para nomes de classes.\n",
        "   - Exemplo: `MinhaClasse`.\n",
        "\n",
        "3. **Constantes:**\n",
        "   - Use `UPPER_CASE` para constantes.\n",
        "   - Exemplo: `MINHA_CONSTANTE`.\n",
        "\n",
        "### Formatação de Código\n",
        "\n",
        "4. **Indentação:**\n",
        "   - Use 4 espaços por nível de indentação.\n",
        "   - Não use tabulações.\n",
        "\n",
        "5. **Comprimento da Linha:**\n",
        "   - Limite as linhas a no máximo 79 caracteres.\n",
        "   - Para docstrings ou comentários, limite a 72 caracteres.\n",
        "\n",
        "6. **Quebra de Linha:**\n",
        "   - Para expressões longas, use a continuação de linha entre parênteses, colchetes ou chaves. Evite usar a barra invertida `\\` para continuação de linha.\n",
        "   - Exemplo:\n",
        "     ```python\n",
        "     resultado = (alguma_variavel\n",
        "                  + outra_variavel\n",
        "                  - terceira_variavel)\n",
        "     ```\n",
        "\n",
        "### Espaços em Branco\n",
        "\n",
        "7. **Espaço em Branco em Expressões e Instruções:**\n",
        "   - Use espaços ao redor de operadores (por exemplo, `=`, `+`, `-`, `==`, etc.).\n",
        "   - Não use espaços imediatamente dentro de parênteses, colchetes ou chaves.\n",
        "   - Exemplo:\n",
        "     ```python\n",
        "     x = 1\n",
        "     y = x + 2\n",
        "     lista = [1, 2, 3]\n",
        "     ```\n",
        "\n",
        "8. **Linhas em Branco:**\n",
        "   - Separe definições de funções e classes com duas linhas em branco.\n",
        "   - Separe métodos dentro de uma classe com uma linha em branco.\n",
        "   - Exemplo:\n",
        "     ```python\n",
        "     class MinhaClasse:\n",
        "         \n",
        "         def metodo_1(self):\n",
        "             pass\n",
        "         \n",
        "         def metodo_2(self):\n",
        "             pass\n",
        "     ```\n",
        "\n",
        "### Comentários\n",
        "\n",
        "9. **Comentários:**\n",
        "   - Use comentários para explicar o \"porquê\" do código, não o \"como\".\n",
        "   - Utilize comentários de linha única com `#` e mantenha-os curtos e claros.\n",
        "   - Docstrings devem ser usadas para documentação de módulos, funções, classes e métodos. Use aspas triplas `\"\"\"`.\n",
        "\n",
        "### Importações\n",
        "\n",
        "10. **Importações:**\n",
        "    - Coloque todas as importações no início do arquivo.\n",
        "    - Organize as importações em três grupos: importações da biblioteca padrão, importações de terceiros e importações locais.\n",
        "    - Use uma linha por importação.\n",
        "    - Exemplo:\n",
        "      ```python\n",
        "      import os\n",
        "      import sys\n",
        "\n",
        "      import numpy as np\n",
        "      import pandas as pd\n",
        "\n",
        "      from meu_modulo import MinhaClasse, minha_funcao\n",
        "      ```\n",
        "\n",
        "### Diversos\n",
        "\n",
        "11. **Comparações:**\n",
        "    - Use `is` para comparação com `None`.\n",
        "    - Use `==` para comparações de igualdade.\n",
        "    - Exemplo:\n",
        "      ```python\n",
        "      if variavel is None:\n",
        "          pass\n",
        "      if variavel == 10:\n",
        "          pass\n",
        "      ```\n",
        "\n",
        "12. **Definição de Funções com Argumentos Padrão:**\n",
        "    - Não use valores mutáveis (como listas) como valores padrão para argumentos.\n",
        "    - Exemplo:\n",
        "      ```python\n",
        "      def minha_funcao(arg1, arg2=None):\n",
        "          if arg2 is None:\n",
        "              arg2 = []\n",
        "      ```\n",
        "\n",
        "Seguir essas regras ajuda a manter um estilo de código consistente e facilita a leitura e manutenção do código por outros desenvolvedores. Para mais detalhes, você pode consultar a [documentação oficial do PEP-8](https://www.python.org/dev/peps/pep-0008/)."
      ]
    },
    {
      "cell_type": "markdown",
      "metadata": {
        "id": "RdF4_6N0WOCL"
      },
      "source": [
        "# Capítulo 5. Instruções if/elif/else"
      ]
    },
    {
      "cell_type": "markdown",
      "metadata": {
        "id": "cXLiJKd2WOCN"
      },
      "source": [
        "## 5.1. Testes condicionais e operadores"
      ]
    },
    {
      "cell_type": "markdown",
      "metadata": {
        "id": "Fz-SPgG3WOCP"
      },
      "source": [
        "### 5.1.1. Operadores atribuição '=',igualdade(comparador) '==' e diferença `!=`"
      ]
    },
    {
      "cell_type": "code",
      "execution_count": null,
      "metadata": {
        "id": "Urm2f6yuWOCQ",
        "outputId": "fdd110d8-add3-4c91-e700-9fcdaaa3c940"
      },
      "outputs": [
        {
          "name": "stdout",
          "output_type": "stream",
          "text": [
            "Audi\n",
            "BMW\n",
            "Subaru\n",
            "Toyota\n"
          ]
        }
      ],
      "source": [
        "carros = ['audi', 'bmw', 'subaru', 'toyota']\n",
        "\n",
        "for carro in carros:\n",
        "    if carro == 'bmw':\n",
        "        print(carro.upper()) #caixa alta apenas para a 'bmw'\n",
        "    else:\n",
        "        print(carro.title().strip())"
      ]
    },
    {
      "cell_type": "markdown",
      "metadata": {
        "id": "gfEZUr37WOCU"
      },
      "source": [
        "O operador de igualdade(comparador) faz distinção entre maiúsculos e minúsculos.\n",
        "\n",
        "Os sites impõem determinadas regras para os dados fornecidos pelos usuários de modo semelhante a esse. Por exemplo, um site pode usar um teste condicional desse tipo para garantir que todos os usuários tenham um nome realmente único, e não apenas uma variação quanto ao uso de letras maiúsculas em relação ao nome de usuário de outra pessoa. Quando alguém submeter um novo nome de usuário, esse nome será convertido para letras minúsculas e comparado às versões com letras minúsculas de todos os nomes de usuário existentes. Durante essa verificação, um nome de usuário como 'John' será rejeitado se houver qualquer variação de 'john' já em uso."
      ]
    },
    {
      "cell_type": "code",
      "execution_count": null,
      "metadata": {
        "id": "TlRRHWeiWOCV"
      },
      "outputs": [],
      "source": [
        "#adicione nome = 'Mario' e depois nome = 'mario'\n",
        "pergunta = str(input('Deseja cadastrar um nome? [s/n]'))\n",
        "base_nomes = []\n",
        "while pergunta == 's':\n",
        "    nome = str(input('Digite seu nome'))\n",
        "    if nome.lower() in base_nomes:\n",
        "        print('usuário já está cadastrado!')\n",
        "        pergunta = str(input('Deseja cadastrar outro nome? [s/n]'))\n",
        "    else:\n",
        "        base_nomes.append(nome.lower())\n",
        "        pergunta = str(input('Deseja cadastrar outro nome? [s/n]'))\n",
        "print(list(base_nomes))"
      ]
    },
    {
      "cell_type": "markdown",
      "metadata": {
        "id": "_Kh3PwMZWOCW"
      },
      "source": [
        "Se quiser determinar se dois valores não são iguais, você poderá combinar um ponto de exclamação e um sinal de igualdade (!=)."
      ]
    },
    {
      "cell_type": "code",
      "execution_count": null,
      "metadata": {
        "id": "8r9BHowCWOCW",
        "outputId": "41a67130-2f1c-402f-ecf2-81a50c46487d"
      },
      "outputs": [
        {
          "name": "stdout",
          "output_type": "stream",
          "text": [
            "True\n",
            "False\n"
          ]
        }
      ],
      "source": [
        "print(2 != 1) #retorna True\n",
        "print(2 != 2) #retorna False"
      ]
    },
    {
      "cell_type": "markdown",
      "metadata": {
        "id": "j-7Div5eWOCX"
      },
      "source": [
        "Também é possível fazer comparações numéricaverdadeiras"
      ]
    },
    {
      "cell_type": "code",
      "execution_count": null,
      "metadata": {
        "id": "DPFzI_BVWOCY",
        "outputId": "f6f24506-5225-4ff9-be1a-4d36a4ea399c"
      },
      "outputs": [
        {
          "name": "stdout",
          "output_type": "stream",
          "text": [
            "Nada de festa de 18 anos para você amigo...\n"
          ]
        }
      ],
      "source": [
        "idade = int(input('qual a sua idade?    '))\n",
        "if idade != 18:\n",
        "    print('Nada de festa de 18 anos para você amigo...')\n",
        "else:\n",
        "    print('Prepare o pó! Apenas prepare!')"
      ]
    },
    {
      "cell_type": "markdown",
      "metadata": {
        "id": "230rByc5WOCZ"
      },
      "source": [
        "### 5.1.2. Operadores lógicos `and`, `or` e `not`"
      ]
    },
    {
      "cell_type": "code",
      "execution_count": null,
      "metadata": {
        "id": "AkpvkT7xWOCa",
        "outputId": "2cea538c-cc55-485f-d2c1-6ad782f5623c"
      },
      "outputs": [
        {
          "name": "stdout",
          "output_type": "stream",
          "text": [
            "AND com ambas verdadeiras retorna True\n",
            "OR com apenas uma verdadeira retorna True\n",
            "NOT com uma falsa retorna True\n"
          ]
        }
      ],
      "source": [
        "idade1 = 42\n",
        "idade2 = 36\n",
        "\n",
        "if idade1 > 40 and idade2 < 40:\n",
        "    print(\"AND com ambas verdadeiras retorna True\")\n",
        "if idade1 > 50 or idade2 < 40:\n",
        "    print(\"OR com apenas uma verdadeira retorna True\")\n",
        "if not(idade1 > 50):\n",
        "    print(\"NOT com uma falsa retorna True\")"
      ]
    },
    {
      "cell_type": "markdown",
      "metadata": {
        "id": "KlePJDmSWOCb"
      },
      "source": [
        "### 5.3.3. Pertinência de um elemento a uma lista usando `in`"
      ]
    },
    {
      "cell_type": "code",
      "execution_count": null,
      "metadata": {
        "id": "eEVttK5lWOCb",
        "outputId": "28fb9d77-d812-474f-e9a4-12dca83dd962"
      },
      "outputs": [
        {
          "name": "stdout",
          "output_type": "stream",
          "text": [
            "True\n",
            "False\n"
          ]
        }
      ],
      "source": [
        "adicionais = ['milho','cebola','chedar','bacon']\n",
        "\n",
        "print('milho' in adicionais) #retorna True\n",
        "print('banana' in adicionais) #retorna False"
      ]
    },
    {
      "cell_type": "markdown",
      "metadata": {
        "id": "TPupciIYWOCb"
      },
      "source": [
        "## 5.2. Usando if/elif/else"
      ]
    },
    {
      "cell_type": "markdown",
      "metadata": {
        "id": "jLS7yPOkWOCb"
      },
      "source": [
        "Muitas vezes, você precisará testar mais de duas situações possíveis; para avaliar isso, a sintaxe if-elif-else de Python poderá ser usada. Python executa apenas um bloco em uma cadeia if-elif-else. Cada teste condicional é executado em sequência, até que um deles passe. Quando um teste passar, o código após esse teste será executado e Python ignorará o restante dos testes.\n",
        "\n",
        "Python não exige um bloco else no final de uma cadeia if-elif. Às vezes, um bloco else é útil; outras vezes, é mais claro usar uma instrução elif adicional que capture a condição específica de interesse:"
      ]
    },
    {
      "cell_type": "code",
      "execution_count": null,
      "metadata": {
        "id": "JzPoGQo2WOCc",
        "outputId": "e6977ffa-0783-45ce-9a34-f1f644fd22bc"
      },
      "outputs": [
        {
          "name": "stdout",
          "output_type": "stream",
          "text": [
            "Sua entrada custa 20 reais.\n",
            "Bem vindo ao rolê! Divirta-se!\n"
          ]
        }
      ],
      "source": [
        "idade = float(input('Qual sua idade?'))\n",
        "\n",
        "if idade < 5:\n",
        "    preco = 0\n",
        "    print(f'Sua entrada custa {preco} reais.')\n",
        "elif idade < 10:\n",
        "    preco = 5\n",
        "    print(f'Sua entrada custa {preco} reais.')\n",
        "elif idade < 18:\n",
        "    preco = 10\n",
        "    print(f'Sua entrada custa {preco} reais.')\n",
        "else: #pode ser substituido por \"elif idade >= 18:\" caso queira omitir o else\n",
        "    preco = 20\n",
        "    print(f'Sua entrada custa {preco} reais.')\n",
        "\n",
        "print('Bem vindo ao rolê! Divirta-se!')"
      ]
    },
    {
      "cell_type": "markdown",
      "metadata": {
        "id": "I7NisGcoWOCd"
      },
      "source": [
        "### 5.2.1. Exercícios"
      ]
    },
    {
      "cell_type": "markdown",
      "metadata": {
        "id": "wX_GM9DSWOCd"
      },
      "source": [
        "5.3 – Cores de alienígenas #1: Suponha que um alienígena acabou de ser atingido em um jogo. Crie uma variável chamada alien_color e atribua-lhe um valor igual a 'green', 'yellow' ou 'red'.\n",
        "\n",
        "- Escreva uma instrução if para testar se a cor do alienígena é verde. Se for, mostre uma mensagem informando que o jogador acabou de ganhar cinco pontos.\n",
        "- Escreva uma versão desse programa em que o teste if passe e outro em que ele falhe. (A versão que falha não terá nenhuma saída.)\n",
        "\n",
        "5.4 – Cores de alienígenas #2: Escolha uma cor para um alienígena, como foi feito no\n",
        "Exercício 5.3, e escreva uma cadeia if-else.\n",
        "\n",
        "- Se a cor do alienígena for verde, mostre uma frase informando que o jogador acabou de ganhar cinco pontos por atingir o alienígena.\n",
        "- Se a cor do alienígena não for verde, mostre uma frase informando que o jogador acabou de ganhar dez pontos.\n",
        "- Escreva uma versão desse programa que execute o bloco if e outro que execute o bloco else."
      ]
    },
    {
      "cell_type": "code",
      "execution_count": null,
      "metadata": {
        "id": "VkHjeSo1WOCe",
        "outputId": "3f52c6dc-cbdc-45a7-954b-38c5a0e10a21"
      },
      "outputs": [
        {
          "name": "stdout",
          "output_type": "stream",
          "text": [
            "Ganhou 5 pts.\n"
          ]
        }
      ],
      "source": [
        "cor = 'verde'\n",
        "#['verde','amarelo','vermelho']\n",
        "\n",
        "if cor == 'verde':\n",
        "    print(\"Ganhou 5 pts.\")\n",
        "else:\n",
        "    print('Ganhou 10 pts.')"
      ]
    },
    {
      "cell_type": "markdown",
      "metadata": {
        "id": "eSZPqaTFWOCe"
      },
      "source": [
        "5.5 – Cores de alienígenas #3: Transforme sua cadeia if-else do Exercício 5.4 em uma cadeia if-elif-else.\n",
        "\n",
        "- Se o alienígena for verde, mostre uma mensagem informando que o jogador ganhou cinco pontos.\n",
        "- Se o alienígena for amarelo, mostre uma mensagem informando que o jogador ganhou dez pontos.\n",
        "- Se o alienígena for vermelho, mostre uma mensagem informando que o jogador ganhou quinze pontos.\n",
        "- Escreva três versões desse programa, garantindo que cada mensagem seja exibida para a cor apropriada do alienígena."
      ]
    },
    {
      "cell_type": "code",
      "execution_count": null,
      "metadata": {
        "id": "EYZ4YW9JWOCf",
        "outputId": "a3e6bca3-dc28-44c3-a31c-edfb364108b6"
      },
      "outputs": [
        {
          "name": "stdout",
          "output_type": "stream",
          "text": [
            "Ganhou 15 pts.\n"
          ]
        }
      ],
      "source": [
        "#cor = 'verde'\n",
        "#cor = 'amarelo'\n",
        "cor = 'vermelho'\n",
        "\n",
        "if cor == 'verde':\n",
        "    print(\"Ganhou 5 pts.\")\n",
        "elif cor == 'amarelo':\n",
        "    print(\"Ganhou 10 pts.\")\n",
        "elif cor == 'vermelho':\n",
        "    print('Ganhou 15 pts.')"
      ]
    },
    {
      "cell_type": "markdown",
      "metadata": {
        "id": "a3nKb5HTWOCf"
      },
      "source": [
        "5.6 – Estágios da vida: Escreva uma cadeia if-elif-else que determine o estágio da vida de uma pessoa. Defina um valor para a variável age e então:\n",
        "\n",
        "- Se a pessoa tiver menos de 2 anos de idade, mostre uma mensagem dizendo que ela é um bebê.\n",
        "- Se a pessoa tiver pelo menos 2 anos, mas menos de 4, mostre uma mensagem dizendo que ela é uma criança.\n",
        "- Se a pessoa tiver pelo menos 4 anos, mas menos de 13, mostre uma mensagem dizendo que ela é um(a) garoto(a).\n",
        "- Se a pessoa tiver pelo menos 13 anos, mas menos de 20, mostre uma mensagem dizendo que ela é um(a) adolescente.\n",
        "- Se a pessoa tiver pelo menos 20 anos, mas menos de 65, mostre uma mensagem dizendo que ela é adulto.\n",
        "- Se a pessoa tiver 65 anos ou mais, mostre uma mensagem dizendo que essa pessoa é idoso."
      ]
    },
    {
      "cell_type": "code",
      "execution_count": null,
      "metadata": {
        "id": "r9xeSMp8WOCg",
        "outputId": "b6471102-4d28-44a9-9eb7-19ab6ef2fa1b"
      },
      "outputs": [
        {
          "name": "stdout",
          "output_type": "stream",
          "text": [
            "Você é um idoso\n"
          ]
        }
      ],
      "source": [
        "idade = int(input(\"Qual sua idade?\"))\n",
        "\n",
        "if idade < 2:\n",
        "    print(\"Você é um bebê.\")\n",
        "elif idade < 4:\n",
        "    print(\"Você é uma criança.\")\n",
        "elif idade < 13:\n",
        "    print(\"Você é um(a) garoto(a).\")\n",
        "elif idade < 20:\n",
        "    print(\"Você é um(a) adolescente.\")\n",
        "elif idade < 65:\n",
        "    print(\"Você é um(a) adulto.\")\n",
        "else:\n",
        "    print(\"Você é um idoso.\")"
      ]
    },
    {
      "cell_type": "markdown",
      "metadata": {
        "id": "kLPVdso0WOCg"
      },
      "source": [
        "5.7 – Fruta favorita: Faça uma lista de suas frutas favoritas e, então, escreva uma série de instruções if independentes que verifiquem se determinadas frutas estão em sua lista.\n",
        "\n",
        "- Crie uma lista com suas três frutas favoritas e chame-a de favorite_fruits.\n",
        "- Escreva cinco instruções if. Cada instrução deve verificar se uma determinada fruta está em sua lista. Se estiver, o bloco if deverá exibir uma frase, por exemplo, Você realmente gosta de bananas!"
      ]
    },
    {
      "cell_type": "code",
      "execution_count": null,
      "metadata": {
        "id": "KRUQiNQyWOCg",
        "outputId": "dc1152f7-774a-4f28-d3d7-e1957e1ed3ed"
      },
      "outputs": [
        {
          "name": "stdout",
          "output_type": "stream",
          "text": [
            "Você realmente gosta de maças.\n",
            "Você realmente gosta de bananas.\n",
            "Você realmente gosta de melancia.\n"
          ]
        }
      ],
      "source": [
        "frutas = ['maça','banana','melancia']\n",
        "\n",
        "if 'maça' in frutas:\n",
        "    print(\"Você realmente gosta de maças.\")\n",
        "if 'banana' in frutas:\n",
        "    print(\"Você realmente gosta de bananas.\")\n",
        "if 'kiwi' in frutas:\n",
        "    print(\"Você realmente gosta de kiwi.\")\n",
        "if 'laranja' in frutas:\n",
        "    print(\"Você realmente gosta de laranja.\")\n",
        "if 'melancia' in frutas:\n",
        "    print(\"Você realmente gosta de melancia.\")"
      ]
    },
    {
      "cell_type": "markdown",
      "metadata": {
        "id": "jDa4PdttWOCh"
      },
      "source": [
        "### 5.2.2. Condicionais e Listas"
      ]
    },
    {
      "cell_type": "markdown",
      "metadata": {
        "id": "3IpWgC2hWOCi"
      },
      "source": [
        "Algumas tarefas interessantes podem ser feitas se combinarmos listas com instruções if. Podemos prestar atenção em valores especiais, que devam ser tratados de modo diferente de outros valores da lista."
      ]
    },
    {
      "cell_type": "code",
      "execution_count": null,
      "metadata": {
        "id": "WE97WYANWOCi"
      },
      "outputs": [],
      "source": [
        "adicionais = ['milho','bacon','azeitona','mussarela']\n",
        "\n",
        "#colocando adicionais na pizza:\n",
        "for ingr in adicionais:\n",
        "    print(ingr.title(),\"Adicionado à sua pizza\")\n",
        "print(\"Pizza finalizada!\")\n",
        "print(\"\\n\")\n",
        "\n",
        "#inserindo o condicional if:\n",
        "for ingr in adicionais:\n",
        "    if ingr == 'bacon':\n",
        "        print(\"Foi mal, estamos sem \",ingr)\n",
        "    else:\n",
        "        print(ingr.title(),\"Adicionado à sua pizza\")\n",
        "print(\"Pizza finalizada!\")"
      ]
    },
    {
      "cell_type": "markdown",
      "metadata": {
        "id": "xPiL_9VwWOCi"
      },
      "source": [
        "Podemos introduzir um testes de verificação para averiguar se a lista esta vazia:"
      ]
    },
    {
      "cell_type": "code",
      "execution_count": null,
      "metadata": {
        "id": "iCxCNP7RWOCi"
      },
      "outputs": [],
      "source": [
        "adicionais = ['milho','bacon','azeitona','mussarela']\n",
        "#dicionais = []\n",
        "\n",
        "if adicionais:\n",
        "    for ingr in adicionais:\n",
        "        print(ingr.title(),\"foi adicionado à sua pizza.\")\n",
        "else:\n",
        "    print(\"Tem certeza que deseja uma pizza sem nada?\")\n",
        "\n",
        "print(\"Sua pizza está pronta!\")"
      ]
    },
    {
      "cell_type": "markdown",
      "metadata": {
        "id": "UY9xzeraWOCj"
      },
      "source": [
        "Também podemos comparar se o adicional pedido está na lista dos adicionais disponíveis"
      ]
    },
    {
      "cell_type": "code",
      "execution_count": null,
      "metadata": {
        "id": "8ippvLM-WOCj",
        "outputId": "7fef98d5-77f0-45ff-c1c1-514cb515aa22"
      },
      "outputs": [
        {
          "name": "stdout",
          "output_type": "stream",
          "text": [
            "Lamento Feijoada não está disponível!\n",
            "Milho adicionado à sua pizza!\n",
            "Bacon adicionado à sua pizza!\n",
            "Azeitona adicionado à sua pizza!\n",
            "Mussarela adicionado à sua pizza!\n"
          ]
        }
      ],
      "source": [
        "disponiveis = ['milho','azeitona','bacon','picles','azeitona','mussarela','presunto']\n",
        "adicionais = ['feijoada','milho','bacon','azeitona','mussarela']\n",
        "#adicionais = []\n",
        "\n",
        "if adicionais: #verifica se a lista de adicionais está vazia\n",
        "    for ingr in adicionais:\n",
        "        if ingr in disponiveis: #verifica se o ingrediente está disponível\n",
        "            print(ingr.title(),\"adicionado à sua pizza!\")\n",
        "        else:\n",
        "            print(\"Lamento\",ingr.title(),\"não está disponível!\")\n",
        "else:\n",
        "    print(\"Você quer uma pizza sem nada???\")"
      ]
    },
    {
      "cell_type": "markdown",
      "metadata": {
        "id": "nQ7GzQz4WOCk"
      },
      "source": [
        "### 5.2.3. Exercícios"
      ]
    },
    {
      "cell_type": "markdown",
      "metadata": {
        "id": "5PFlnOEFWOCk"
      },
      "source": [
        "5.8 – Olá admin: Crie uma lista com cinco ou mais nomes de usuários, incluindo o nome 'admin'. Suponha que você esteja escrevendo um código que exibirá uma saudação a cada usuário depois que eles fizerem login em um site. Percorra a lista com um laço e mostre uma saudação para cada usuário:\n",
        "\n",
        "- Se o nome do usuário for 'admin', mostre uma saudação especial, por exemplo, Olá admin, gostaria de ver um relatório de status?\n",
        "- Caso contrário, mostre uma saudação genérica, como Olá Eric, obrigado por fazer login novamente."
      ]
    },
    {
      "cell_type": "code",
      "execution_count": null,
      "metadata": {
        "id": "Du2LHRJmWOCk",
        "outputId": "0a69a1f4-b3de-4f53-ce15-94589f7a7192"
      },
      "outputs": [
        {
          "name": "stdout",
          "output_type": "stream",
          "text": [
            "Olá, como vai João ?\n",
            "Olá Admin gostaria de ver um relatório de status?\n",
            "Olá, como vai José ?\n",
            "Olá, como vai Paulo ?\n",
            "Olá, como vai Carlos ?\n"
          ]
        }
      ],
      "source": [
        "users = ['joão','admin','josé','paulo','carlos']\n",
        "for user in users:\n",
        "    if user.lower() == 'admin':\n",
        "        print('Olá',user.title(), 'gostaria de ver um relatório de status?')\n",
        "    else:\n",
        "        print('Olá, como vai', user.title(),'?')"
      ]
    },
    {
      "cell_type": "markdown",
      "metadata": {
        "id": "3jbcHdRmWOCk"
      },
      "source": [
        "5.9 – Sem usuários: Acrescente um teste if em hello_admin.py para garantir que a lista de usuários não esteja vazia.\n",
        "\n",
        "- Se a lista estiver vazia, mostre a mensagem Precisamos encontrar alguns usuários!\n",
        "- Remova todos os nomes de usuário de sua lista e certifique-se de que a mensagem correta seja exibida."
      ]
    },
    {
      "cell_type": "code",
      "execution_count": null,
      "metadata": {
        "id": "2Vx8hN-lWOCk",
        "outputId": "5fa628b4-b2b4-412e-ed7d-0c06b6cebe24"
      },
      "outputs": [
        {
          "name": "stdout",
          "output_type": "stream",
          "text": [
            "Olá, como vai João ?\n",
            "Olá Admin gostaria de ver um relatório de status?\n",
            "Olá, como vai José ?\n",
            "Olá, como vai Paulo ?\n",
            "Olá, como vai Carlos ?\n"
          ]
        }
      ],
      "source": [
        "users = ['joão','admin','josé','paulo','carlos']\n",
        "#users = []\n",
        "\n",
        "if users:\n",
        "    for user in users:\n",
        "        if user.lower() == 'admin':\n",
        "            print('Olá',user.title(), 'gostaria de ver um relatório de status?')\n",
        "        else:\n",
        "            print('Olá, como vai', user.title(),'?')\n",
        "else:\n",
        "    print('Precisamos encontrar novos usuários!')"
      ]
    },
    {
      "cell_type": "markdown",
      "metadata": {
        "id": "1N_81Q0NWOCl"
      },
      "source": [
        "5.10 – Verificando nomes de usuários: Faça o seguinte para criar um programa que simule o modo como os sites garantem que todos tenham um nome de usuário único.\n",
        "\n",
        "- Crie uma lista chamada current_users com cinco ou mais nomes de usuários.\n",
        "- Crie outra lista chamada new_users com cinco nomes de usuários. Garanta que um ou dois dos novos usuários também estejam na lista current_users.\n",
        "- Percorra a lista new_users com um laço para ver se cada novo nome de usuário já foi usado. Em caso afirmativo, mostre uma mensagem informando que a pessoa deverá fornecer um novo nome. Se um nome de usuário não foi usado, apresente uma mensagem dizendo que o nome do usuário está\n",
        "disponível.\n",
        "- Certifique-se de que sua comparação não levará em conta as diferenças entre letras maiúsculas e minúsculas. Se 'John' foi usado, 'JOHN' não deverá ser aceito."
      ]
    },
    {
      "cell_type": "code",
      "execution_count": null,
      "metadata": {
        "id": "C3pHBg8VWOCl",
        "outputId": "7410691b-b850-4a43-a334-9756e3aaf164"
      },
      "outputs": [
        {
          "name": "stdout",
          "output_type": "stream",
          "text": [
            " Base antiga: ['joão', 'mario', 'josé', 'paulo', 'carlos'] \n",
            "\n",
            "joão já está cadastrado em nossa base!\n",
            "Mario já está cadastrado em nossa base!\n",
            "marcia foi adicionado à nossa base\n",
            "\n",
            " Base atualizada: ['joão', 'mario', 'josé', 'paulo', 'carlos', 'marcia']\n"
          ]
        }
      ],
      "source": [
        "users = ['joão','mario','josé','paulo','carlos']\n",
        "print(' Base antiga:', users,'\\n')\n",
        "\n",
        "novos_users = ['joão','Mario','marcia']\n",
        "\n",
        "for n_user in novos_users:\n",
        "    if n_user.lower() in users:\n",
        "        print(n_user,'já está cadastrado em nossa base!')\n",
        "    else:\n",
        "        print(n_user.lower(),'foi adicionado à nossa base')\n",
        "        users.append(n_user)\n",
        "\n",
        "print('\\n','Base atualizada:', users)"
      ]
    },
    {
      "cell_type": "markdown",
      "metadata": {
        "id": "DckwJPrXWOCl"
      },
      "source": [
        "5.11 – Números ordinais: Números ordinais indicam sua posição em uma lista, por exemplo, 1st ou 2nd, em inglês. A maioria dos números ordinais nessa língua termina com th, exceto 1, 2 e 3.\n",
        "\n",
        "- Armazene os números de 1 a 9 em uma lista.\n",
        "- Percorra a lista com um laço.\n",
        "- Use uma cadeia if-elif-else no laço para exibir a terminação apropriada para cada número ordinal. Sua saída deverá conter \"1st 2nd 3rd 4th 5th 6th 7th 8th 9th\", e cada resultado deve estar em uma linha separada."
      ]
    },
    {
      "cell_type": "code",
      "execution_count": null,
      "metadata": {
        "id": "asKNxejPWOCm",
        "outputId": "1926837f-68d2-461d-8a8d-9be111b29067"
      },
      "outputs": [
        {
          "name": "stdout",
          "output_type": "stream",
          "text": [
            "[1, 2, 3, 4, 5, 6, 7, 8, 9]\n",
            "1 st\n",
            "2 nd\n",
            "3 rd\n",
            "4 th\n",
            "5 th\n",
            "6 th\n",
            "7 th\n",
            "8 th\n",
            "9 th\n"
          ]
        }
      ],
      "source": [
        "num = [x for x in range(1, 10)]\n",
        "print(num)\n",
        "\n",
        "for n in num:\n",
        "    if n == 1:\n",
        "        print(n,'st')\n",
        "    elif n == 2:\n",
        "        print(n,'nd')\n",
        "    elif n == 3:\n",
        "        print(n,'rd')\n",
        "    else:\n",
        "        print(n,'th')"
      ]
    },
    {
      "cell_type": "markdown",
      "metadata": {
        "id": "opZPRPJZ2Yu3"
      },
      "source": [
        "# Capítulo 6. Dicionários"
      ]
    },
    {
      "cell_type": "markdown",
      "metadata": {
        "id": "7PqWhQuq2Yu6"
      },
      "source": [
        "Neste capítulo aprenderemos a usar dicionários Python, que permitem conectar informações relacionadas. Veremos como acessar as informações depois que elas estiverem em um dicionário e modificá-las. Pelo fato de os dicionários serem capazes de armazenar uma quantidade quase ilimitada de informações, mostraremos como percorrer os dados de um dicionário com um laço. Além disso, aprenderemos a aninhar dicionários em listas, listas em dicionários e até mesmo dicionários em outros dicionários."
      ]
    },
    {
      "cell_type": "markdown",
      "metadata": {
        "id": "BFqNv6l82Yu8"
      },
      "source": [
        "## 6.1. Um dicionário simples"
      ]
    },
    {
      "cell_type": "markdown",
      "metadata": {
        "id": "gRwO1Fu_2Yu9"
      },
      "source": [
        "Um dicionário em Python é uma coleção de pares chave-valor. Cada chave é conectada a um valor, e você pode usar uma chave para acessar o valor associado a ela. O valor de uma chave pode ser um número, uma string, uma lista ou até mesmo outro dicionário. De fato, podemos usar qualquer objeto que possa ser criado em Python como valor de um dicionário.\n",
        "\n",
        "Em Python, um dicionário é representado entre chaves, {}, com uma série de pares chave-valor entre elas, como mostramos no exemplo anterior: alien_0 = {'color': 'green', 'points': 5}. Um par chave-valor é um conjunto de valores associados um ao outro.\n",
        "\n",
        "Quando fornecemos uma chave, Python devolve o valor associado a essa chave. Toda chave é associada a seu valor por meio de dois-pontos, e pares chave-valor individuais são separados por vírgulas. Podemos armazenar quantos pares chave-valor quisermos em um dicionário."
      ]
    },
    {
      "cell_type": "code",
      "execution_count": null,
      "metadata": {
        "id": "gD2N05Qu2Yu_",
        "outputId": "6a6f0b97-9bc8-42ed-efcb-88c340d7df69"
      },
      "outputs": [
        {
          "name": "stdout",
          "output_type": "stream",
          "text": [
            "Dicionário: {'cor': 'verde', 'pontos': 5}\n",
            "valor da chave \"cor\": verde\n",
            "valor da chave \"pontos\": 5\n"
          ]
        }
      ],
      "source": [
        "#criando um dicionário\n",
        "alien_0 = {'cor':'verde','pontos':5}\n",
        "print('Dicionário:',alien_0)\n",
        "\n",
        "#acessando seus elementos\n",
        "print('valor da chave \"cor\":',alien_0['cor'])\n",
        "print('valor da chave \"pontos\":',alien_0['pontos'])"
      ]
    },
    {
      "cell_type": "markdown",
      "metadata": {
        "id": "HqE9nUic2YvA"
      },
      "source": [
        "Dicionários são estruturas dinâmicas, e você pode adicionar novos pares chave-valor a um dicionário a qualquer momento. Por exemplo, para acrescentar um novo par chave-valor, especifique o nome do dicionário, seguido da nova chave entre colchetes, juntamente com o novo valor."
      ]
    },
    {
      "cell_type": "code",
      "execution_count": null,
      "metadata": {
        "id": "asuNUTUu2YvB",
        "outputId": "f14b54b1-88da-4b4f-89f1-e8837103975f"
      },
      "outputs": [
        {
          "name": "stdout",
          "output_type": "stream",
          "text": [
            "Dicionário: {'cor': 'verde', 'pontos': 5}\n",
            "Dicionário atualizado: {'cor': 'verde', 'pontos': 5, 'x_pos': 0, 'y_pos': 25}\n"
          ]
        }
      ],
      "source": [
        "#criando um dicionário\n",
        "alien_0 = {'cor':'verde','pontos':5}\n",
        "print('Dicionário:',alien_0)\n",
        "\n",
        "#adicionando pares chave-valor\n",
        "alien_0['x_pos'] = 0\n",
        "alien_0['y_pos'] = 25\n",
        "print('Dicionário atualizado:',alien_0)"
      ]
    },
    {
      "cell_type": "markdown",
      "metadata": {
        "id": "uL5Nx-NN2YvC"
      },
      "source": [
        "Python não se importa com a ordem em que armazenamos\n",
        "cada par chave-valor; ele só se importa com a conexão entre cada chave e seu valor."
      ]
    },
    {
      "cell_type": "markdown",
      "metadata": {
        "id": "JzDuifPD2YvD"
      },
      "source": [
        "### 6.1.1. Começando com um dicionário vazio"
      ]
    },
    {
      "cell_type": "code",
      "execution_count": null,
      "metadata": {
        "id": "rzkY7X2A2YvE",
        "outputId": "4f1bc1c1-4319-4e0a-a8a7-15dfa75634ae"
      },
      "outputs": [
        {
          "name": "stdout",
          "output_type": "stream",
          "text": [
            "Dicionário vazio: {}\n",
            "Dicionário adicionando chaves: {'cor': 'verde', 'pontos': 5}\n",
            "Dicionário chaves alteradas: {'cor': 'rosa', 'pontos': 10}\n"
          ]
        }
      ],
      "source": [
        "#criando um dicionário vazio\n",
        "alien_0 = {}\n",
        "print('Dicionário vazio:',alien_0)\n",
        "\n",
        "#adicionando chaves e seus valores\n",
        "alien_0['cor'] = 'verde'\n",
        "alien_0['pontos'] = 5\n",
        "print('Dicionário adicionando chaves:',alien_0)\n",
        "\n",
        "#modificando valores em um dicionário\n",
        "alien_0['cor'] = 'rosa'\n",
        "alien_0['pontos'] = 10\n",
        "print('Dicionário chaves alteradas:',alien_0)\n"
      ]
    },
    {
      "cell_type": "markdown",
      "metadata": {
        "id": "sRf-Rt-u2YvE"
      },
      "source": [
        "Para ver um exemplo mais interessante, vamos monitorar a posição de um alienígena que pode se deslocar com velocidades diferentes. Armazenaremos um valor que representa a velocidade atual do alienígena e, então, usaremos esse valor para determinar a distância que o alienígena deve se mover para a direita:"
      ]
    },
    {
      "cell_type": "code",
      "execution_count": null,
      "metadata": {
        "id": "C4IcXYBr2YvG",
        "outputId": "48ac5349-78dd-4eff-9fa4-7ae46ba8474e"
      },
      "outputs": [
        {
          "name": "stdout",
          "output_type": "stream",
          "text": [
            "Start: {'t': 0, 'x': 10, 'y': 20, 'vx': 'lento', 'vy': 'lento'}\n",
            "Final: {'t': 10, 'x': 55, 'y': 65, 'vx': 'lento', 'vy': 'lento'}\n"
          ]
        }
      ],
      "source": [
        "#criando o dicionário\n",
        "alien_0 = {'t':0,'x':10,'y':20,'vx':'lento','vy':'lento'}\n",
        "\n",
        "print('Start:',alien_0)\n",
        "\n",
        "for t in range(1,10):\n",
        "    #incremento da posição x\n",
        "    if alien_0['vx'] == 'lento':\n",
        "        dx = 1\n",
        "        alien_0['x'] = alien_0['x'] + dx*t\n",
        "        alien_0['t'] = t + 1\n",
        "    elif alien_0['vx'] == 'medio':\n",
        "        dx = 2\n",
        "        alien_0['x'] = alien_0['x'] + dx*t\n",
        "        alien_0['t'] = t + 1\n",
        "    elif alien_0['vx'] == 'rapido':\n",
        "        dx = 3\n",
        "        alien_0['x'] = alien_0['x'] + dx*t\n",
        "        alien_0['t'] = t + 1\n",
        "    #incremento da posição y\n",
        "    if alien_0['vy'] == 'lento':\n",
        "        dy = 1\n",
        "        alien_0['y'] = alien_0['y'] + dy*t\n",
        "        alien_0['t'] = t + 1\n",
        "    elif alien_0['vy'] == 'medio':\n",
        "        dy = 2\n",
        "        alien_0['y'] = alien_0['y'] + dy*t\n",
        "        alien_0['t'] = t + 1\n",
        "    elif alien_0['vy'] == 'rapido':\n",
        "        dy = 3\n",
        "        alien_0['y'] = alien_0['y'] + dy*t\n",
        "        alien_0['t'] = t + 1\n",
        "\n",
        "print('Final:',alien_0)\n"
      ]
    },
    {
      "cell_type": "markdown",
      "metadata": {
        "id": "6Z2e7tvh2YvG"
      },
      "source": [
        "Quando não houver mais necessidade de uma informação armazenada em um dicionário, podemos usar a instrução del para remover totalmente um par chave-valor. Tudo de que del precisa é do nome do dicionário e da chave que você deseja remover."
      ]
    },
    {
      "cell_type": "code",
      "execution_count": null,
      "metadata": {
        "id": "ynyTmtoS2YvG",
        "outputId": "046615df-a782-48ad-bcbd-4ae0829de9d1"
      },
      "outputs": [
        {
          "name": "stdout",
          "output_type": "stream",
          "text": [
            "{'cor': 'verde', 'pontos': 5}\n",
            "{'pontos': 5}\n",
            "{}\n"
          ]
        }
      ],
      "source": [
        "alien_0 = {'cor':'verde','pontos':5}\n",
        "print(alien_0)\n",
        "\n",
        "del alien_0['cor']\n",
        "print(alien_0)\n",
        "\n",
        "del alien_0['pontos']\n",
        "print(alien_0)"
      ]
    },
    {
      "cell_type": "markdown",
      "metadata": {
        "id": "XpaIymfl2YvH"
      },
      "source": [
        "Quando souber que precisará de mais de uma linha para definir um dicionário, tecle ENTER depois da chave de abertura. Em seguida, indente a próxima linha em um nível (quatro espaços) e escreva o primeiro par chave-valor, seguido de uma vírgula. A partir desse ponto, quando pressionar ENTER, seu editor de texto deverá indentar automaticamente todos os pares chave-valor subsequentes para que estejam de acordo com o primeiro par chave-valor."
      ]
    },
    {
      "cell_type": "code",
      "execution_count": null,
      "metadata": {
        "id": "q5BcsnJM2YvH",
        "outputId": "f2d1ffc0-4d55-4d2f-8f51-66a3be2b977f"
      },
      "outputs": [
        {
          "name": "stdout",
          "output_type": "stream",
          "text": [
            "{'mario': 'python', 'alícia': 'javascript', 'véia': 'c#', 'véio': 'java', 'marlon': 'ruby', 'gabriel': 'node', 'alguem': 'c'}\n"
          ]
        }
      ],
      "source": [
        "fav_ling = {\n",
        "    'mario':'python','alícia':'javascript',\n",
        "    'véia':'c#','véio':'java','marlon':'ruby',\n",
        "    'gabriel':'node','alguem':'c'\n",
        "}\n",
        "print(fav_ling)"
      ]
    },
    {
      "cell_type": "markdown",
      "metadata": {
        "id": "VdAae7Dy2YvH"
      },
      "source": [
        "### 6.1.2. Exercícios"
      ]
    },
    {
      "cell_type": "markdown",
      "metadata": {
        "id": "4t3a2vUq2YvI"
      },
      "source": [
        "6.1 – Pessoa: Use um dicionário para armazenar informações sobre uma pessoa que você conheça. Armazene seu primeiro nome, o sobrenome, a idade e a cidade em que ela vive. Você deverá ter chaves como first_name, last_name, age e city. Mostre cada informação armazenada em seu dicionário."
      ]
    },
    {
      "cell_type": "code",
      "execution_count": null,
      "metadata": {
        "id": "1ZdwoNQV2YvJ",
        "outputId": "d52fbc33-b229-45c9-caf6-e676416f999c"
      },
      "outputs": [
        {
          "name": "stdout",
          "output_type": "stream",
          "text": [
            "nome : mário\n",
            "sobrenome : miguel\n",
            "idade : 27\n",
            "cidade : juatuba\n"
          ]
        }
      ],
      "source": [
        "pessoa = {'nome':'mário','sobrenome':'miguel','idade':'27','cidade':'juatuba'}\n",
        "\n",
        "for chave in pessoa: #para cada \"chave\" em \"pessoa\"\n",
        "    print(chave,':',pessoa.get(chave)) #exiba \"chave\":\"valor\""
      ]
    },
    {
      "cell_type": "markdown",
      "metadata": {
        "id": "U5M5e2yf2YvJ"
      },
      "source": [
        "6.2 – Números favoritos: Use um dicionário para armazenar os números favoritos de algumas pessoas. Pense em cinco nomes e use-os como chaves em seu dicionário. Pense em um número favorito para cada pessoa e armazene cada um como um valor em seu dicionário. Exiba o nome de cada pessoa e seu número favorito. Para que seja mais divertido ainda, faça uma enquete com alguns amigos e obtenha alguns dados reais para o seu programa."
      ]
    },
    {
      "cell_type": "code",
      "execution_count": null,
      "metadata": {
        "id": "C9j8EYBu2YvK",
        "outputId": "79d731c1-b7e7-42f1-8a7d-e3b2685ffaa6"
      },
      "outputs": [
        {
          "name": "stdout",
          "output_type": "stream",
          "text": [
            "José , cujo o nº favorito é: 1\n",
            "Luís , cujo o nº favorito é: 13\n",
            "Jair , cujo o nº favorito é: 22\n",
            "Carl , cujo o nº favorito é: 6\n",
            "Zig , cujo o nº favorito é: 1\n"
          ]
        }
      ],
      "source": [
        "fav_num = {'josé':1,'luís':13,'jair':22,'carl':6, 'zig':1}\n",
        "\n",
        "for chave in fav_num:\n",
        "    print(chave.title(),', cujo o nº favorito é:',fav_num.get(chave))"
      ]
    },
    {
      "cell_type": "markdown",
      "metadata": {
        "id": "8RutoiZP2YvK"
      },
      "source": [
        "6.3 – Glossário: Um dicionário Python pode ser usado para modelar um dicionário de verdade. No entanto, para evitar confusão, vamos chamá-lo de glossário.\n",
        "\n",
        "- Pense em cinco palavras relacionadas à programação que você conheceu nos capítulos anteriores. Use essas palavras como chaves em seu glossário e armazene seus significados como valores.\n",
        "- Mostre cada palavra e seu significado em uma saída formatada de modo elegante. Você pode exibir a palavra seguida de dois-pontos e depois o seu significado, ou apresentar a palavra em uma linha e então exibir seu\n",
        "significado indentado em uma segunda linha. Utilize o caractere de quebra de linha (\\n) para inserir uma linha em branco entre cada par palavra-significado em sua saída."
      ]
    },
    {
      "cell_type": "code",
      "execution_count": null,
      "metadata": {
        "id": "B5o4R2fi2YvL",
        "outputId": "8b307793-ad00-4ade-83d8-3e633b2e8915"
      },
      "outputs": [
        {
          "name": "stdout",
          "output_type": "stream",
          "text": [
            "1 . Front-end : Desenvolvimento da interface do usuário e experiência visual de um aplicativo ou site.\n",
            "\n",
            "\n",
            "2 . Back-end : Gerenciamento de servidores, bancos de dados e lógica de aplicação que suportam a parte visível ao usuário.\n",
            "\n",
            "\n",
            "3 . Análise de dados : Processamento e interpretação de dados para obter insights e suportar decisões empresariais.\n",
            "\n",
            "\n",
            "4 . Ciência de dados : Uso de métodos estatísticos e algoritmos para extrair conhecimento e previsões a partir de dados complexos.\n",
            "\n",
            "\n",
            "5 . Engenharia de dados : Construção e manutenção de infraestrutura e pipelines para coletar, armazenar e processar grandes volumes de dados.\n",
            "\n",
            "\n"
          ]
        }
      ],
      "source": [
        "glossario = {\n",
        "    \"Front-end\":\"Desenvolvimento da interface do usuário e experiência visual de um aplicativo ou site.\",\n",
        "    \"Back-end\":\"Gerenciamento de servidores, bancos de dados e lógica de aplicação que suportam a parte visível ao usuário.\",\n",
        "    \"Análise de dados\": \"Processamento e interpretação de dados para obter insights e suportar decisões empresariais.\",\n",
        "    \"Ciência de dados\": \"Uso de métodos estatísticos e algoritmos para extrair conhecimento e previsões a partir de dados complexos.\",\n",
        "    \"Engenharia de dados\": \"Construção e manutenção de infraestrutura e pipelines para coletar, armazenar e processar grandes volumes de dados.\"\n",
        "}\n",
        "\n",
        "i = 1\n",
        "for chave in glossario:\n",
        "  Exercícios  print(i,'.',chave,\":\",glossario.get(chave))\n",
        "    print('\\n')\n",
        "    i += 1"
      ]
    },
    {
      "cell_type": "markdown",
      "metadata": {
        "id": "bXFyBxIj2YvL"
      },
      "source": [
        "## 6.2. Percorrendo um dicionário com um laço"
      ]
    },
    {
      "cell_type": "markdown",
      "metadata": {
        "id": "-Jydslgy2YvL"
      },
      "source": [
        "Um único dicionário Python pode conter apenas alguns pares chave-valor ou milhões deles. Como um dicionário pode conter uma grande quantidade de dados, Python permite percorrer um dicionário com um laço. Dicionários podem ser usados para armazenar informações de várias maneiras; assim, há diversos modos diferentes de percorrê-los com um laço. Podemos percorrer todos os pares chave-valor de um dicionário usando suas chaves ou seus valores."
      ]
    },
    {
      "cell_type": "markdown",
      "metadata": {
        "id": "fSLbkM592YvM"
      },
      "source": [
        "`dicionario.itens()`: Retorna uma visão dos pares chave-valor do dicionário como tuplas.\n",
        "\n",
        "`dicionario.keys()`: Retorna uma visão de todas as chaves do dicionário.\n",
        "\n",
        "`dicionario.values()`: Retorna uma visão de todos os valores do dicionário.\n",
        "\n",
        "`dicionario.get(chave, valor_padrao=None)`: Retorna o valor para a chave especificada, ou valor_padrao se a chave não existir"
      ]
    },
    {
      "cell_type": "code",
      "execution_count": null,
      "metadata": {
        "id": "qFc-b8nj2YvM"
      },
      "outputs": [],
      "source": [
        "#criando o dicionário\n",
        "user_0 = {'nick':'darth_marius','nome':'mário','sobrenome':'miguel'}\n",
        "print('Dicionário:',user_0,'\\n')\n",
        "\n",
        "#exibindo todas as chaves\n",
        "print('Lista de chaves:')\n",
        "for k in user_0.keys():\n",
        "    print('Chave:',k)\n",
        "print('\\n')\n",
        "\n",
        "#exibindo todos os valores\n",
        "print('Lista de valores:')\n",
        "for v in user_0.values():\n",
        "    print('Valor',v)\n",
        "print('\\n')\n",
        "\n",
        "#percorrendo o dicionário\n",
        "print('Lista de chaves-valores:')\n",
        "for k,v in user_0.items():\n",
        "    print(\"Chave:\" + k + \"\\tValor:\" + v)"
      ]
    },
    {
      "cell_type": "markdown",
      "metadata": {
        "id": "sCJJdjHi2YvM"
      },
      "source": [
        "6.4 – Glossário 2: Agora que você já sabe como percorrer um dicionário com um laço, limpe o código do Exercício 6.3 (página 148), substituindo sua sequência de instruções print por um laço que percorra as chaves e os valores do dicionário. Quando tiver certeza de que seu laço funciona acrescente mais cinco termos de Python ao seu glossário. Ao executar seu programa novamente, essas palavras e significados novos deverão ser automaticamente incluídos na saída."
      ]
    },
    {
      "cell_type": "code",
      "execution_count": null,
      "metadata": {
        "id": "dX4d6mwP2YvM",
        "outputId": "42d86b06-94e7-400a-cccb-06ff913a1ab4"
      },
      "outputs": [
        {
          "name": "stdout",
          "output_type": "stream",
          "text": [
            "1 . Front-end : Desenvolvimento da interface do usuário e experiência visual de um aplicativo ou site.\n",
            "2 . Back-end : Gerenciamento de servidores, bancos de dados e lógica de aplicação que suportam a parte visível ao usuário.\n",
            "3 . Análise de dados : Processamento e interpretação de dados para obter insights e suportar decisões empresariais.\n",
            "4 . Ciência de dados : Uso de métodos estatísticos e algoritmos para extrair conhecimento e previsões a partir de dados complexos.\n",
            "5 . Engenharia de dados : Construção e manutenção de infraestrutura e pipelines para coletar, armazenar e processar grandes volumes de dados.\n"
          ]
        }
      ],
      "source": [
        "#criando o dicionário\n",
        "glossario = {\n",
        "    \"Front-end\":\"Desenvolvimento da interface do usuário e experiência visual de um aplicativo ou site.\",\n",
        "    \"Back-end\":\"Gerenciamento de servidores, bancos de dados e lógica de aplicação que suportam a parte visível ao usuário.\",\n",
        "    \"Análise de dados\": \"Processamento e interpretação de dados para obter insights e suportar decisões empresariais.\",\n",
        "    \"Ciência de dados\": \"Uso de métodos estatísticos e algoritmos para extrair conhecimento e previsões a partir de dados complexos.\",\n",
        "    \"Engenharia de dados\": \"Construção e manutenção de infraestrutura e pipelines para coletar, armazenar e processar grandes volumes de dados.\"\n",
        "}\n",
        "#percorrendo  o dicionário\n",
        "i = 1\n",
        "for k,v in glossario.items():\n",
        "    print(i,\".\",k,\":\",v)\n",
        "    i += 1"
      ]
    },
    {
      "cell_type": "markdown",
      "metadata": {
        "id": "BOy35ZL82YvN"
      },
      "source": [
        "6.5 – Rios: Crie um dicionário que contenha três rios importantes e o país que cada rio corta. Um par chave-valor poderia ser 'nilo': 'egito'.\n",
        "\n",
        "- Use um laço para exibir uma frase sobre cada rio, por exemplo, O Nilo corre pelo Egito.\n",
        "- Use um laço para exibir o nome de cada rio incluído no dicionário.\n",
        "- Use um laço para exibir o nome de cada país incluído no dicionário."
      ]
    },
    {
      "cell_type": "code",
      "execution_count": null,
      "metadata": {
        "id": "PqYPO_x42YvN"
      },
      "outputs": [],
      "source": [
        "rios = {'nilo':'egito','amazônas':'brasil','amarelo':'china'}\n",
        "\n",
        "print('Chaves-Valores:')\n",
        "for k,v in rios.items():\n",
        "    print('O rio ' + k.title() + ' fica no(a) ' + v.title() )\n",
        "print('\\n')\n",
        "\n",
        "print('Chaves:')\n",
        "for k in rios.keys():\n",
        "    print('Rio:',k.title())\n",
        "print('\\n')\n",
        "\n",
        "print('Valores:')\n",
        "for v in rios.values():\n",
        "    print('País:',v.title())"
      ]
    },
    {
      "cell_type": "markdown",
      "metadata": {
        "id": "D-wHbnRy2YvO"
      },
      "source": [
        "6.6 – Enquete: Utilize o código em favorite_languages.py\n",
        "\n",
        "- Crie uma lista de pessoas que devam participar da enquete sobre linguagem favorita. Inclua alguns nomes que já estejam no dicionário e outros que não estão.\n",
        "- Percorra a lista de pessoas que devem participar da enquete. Se elas já tiverem respondido à enquete, mostre uma mensagem agradecendo-lhes por responder. Se ainda não participaram da enquete, apresente uma mensagem convidando-as a responder."
      ]
    },
    {
      "cell_type": "code",
      "execution_count": null,
      "metadata": {
        "id": "R1htQIqu2YvO",
        "outputId": "f3b3d8ee-67dc-4145-c79c-451a8d24f4f2"
      },
      "outputs": [
        {
          "name": "stdout",
          "output_type": "stream",
          "text": [
            "José Você já participou da enquete, suma daqui!\n",
            "Luís Você já participou da enquete, suma daqui!\n",
            "Olá Paulo gostaria de responder a uma enquete?\n",
            "Olá Mário gostaria de responder a uma enquete?\n",
            "Carl Você já participou da enquete, suma daqui!\n",
            "Zig Você já participou da enquete, suma daqui!\n",
            "Olá Ester gostaria de responder a uma enquete?\n",
            "Jair Você já participou da enquete, suma daqui!\n"
          ]
        }
      ],
      "source": [
        "nomes = ['josé','luís','paulo','mário','carl','zig','ester','jair']\n",
        "fav_num = {'josé':1,'luís':13,'jair':22,'carl':6, 'zig':1}\n",
        "\n",
        "for nome in nomes:\n",
        "    if nome in fav_num.keys():\n",
        "        print(nome.title() + ' Você já participou da enquete, suma daqui!')\n",
        "    else:\n",
        "        print('Olá ' + nome.title() + ' gostaria de responder a uma enquete?')"
      ]
    },
    {
      "cell_type": "markdown",
      "metadata": {
        "id": "ENJ0mB_i2YvP"
      },
      "source": [
        "## 6.3. Informações aninhadas"
      ]
    },
    {
      "cell_type": "markdown",
      "metadata": {
        "id": "1z1L8Krq2YvP"
      },
      "source": [
        "Às vezes, você vai querer armazenar um conjunto de dicionários em uma lista ou uma lista de itens como um valor em um dicionário. Isso é conhecido como aninhar informações. Podemos aninhar um conjunto de dicionários em uma lista, uma lista de itens em um dicionário ou até mesmo um dicionário em outro dicionário. Aninhar informações é um recurso eficaz, como mostrarão os próximos exemplos."
      ]
    },
    {
      "cell_type": "markdown",
      "metadata": {
        "id": "72Bg-Ivy2YvP"
      },
      "source": [
        "### 6.3.1. Lista de dicionários"
      ]
    },
    {
      "cell_type": "markdown",
      "metadata": {
        "id": "0Srf-hhQ2YvP"
      },
      "source": [
        "Criando manualmente"
      ]
    },
    {
      "cell_type": "code",
      "execution_count": null,
      "metadata": {
        "id": "zF5Rli0Y2YvP",
        "outputId": "32a063fe-6323-494f-f343-9ca0f65a019f"
      },
      "outputs": [
        {
          "name": "stdout",
          "output_type": "stream",
          "text": [
            "Alien 1: {'cor': 'vermelho', 'pontos': 15}\n",
            "Alien 2: {'cor': 'amarelo', 'pontos': 10}\n",
            "Alien 3: {'cor': 'verde', 'pontos': 5}\n"
          ]
        }
      ],
      "source": [
        "#dicionários de aliens\n",
        "alien_0 = {'cor':'vermelho','pontos':15}\n",
        "alien_1 = {'cor':'amarelo','pontos':10}\n",
        "alien_2 = {'cor':'verde','pontos':5}\n",
        "\n",
        "#lista de dicionários\n",
        "aliens = [alien_0, alien_1, alien_2]\n",
        "\n",
        "#exibindo os dicionários da lista\n",
        "cont = 1\n",
        "for alien in aliens:\n",
        "    print('Alien ' + str(cont) + ': ' + str(alien))\n",
        "    cont += 1"
      ]
    },
    {
      "cell_type": "markdown",
      "metadata": {
        "id": "gvt6rUON2YvP"
      },
      "source": [
        "Criando com um loop"
      ]
    },
    {
      "cell_type": "code",
      "execution_count": null,
      "metadata": {
        "id": "EvXNP8A82YvP"
      },
      "outputs": [],
      "source": [
        "aliens = []\n",
        "\n",
        "#criando 30 dicionários de \"novo_alien\" e adicionando à lista \"aliens\"\n",
        "for alien in range(30):\n",
        "    novo_alien = {'cor':'verde','pontos':5,'vel':'lento'}\n",
        "    aliens.append(novo_alien)\n",
        "\n",
        "#exibindo os 5 primeiros aliens da lista \"aliens\"\n",
        "cont = 0\n",
        "for alien in aliens[:5]:\n",
        "    print('Alien ' + str(cont) + ': ' + str(alien))\n",
        "    cont += 1\n",
        "\n",
        "#alterando as características dos aliens\n",
        "for alien in aliens[15:26]:\n",
        "    alien['cor'] = 'amarelo'\n",
        "    alien['pontos'] = 10\n",
        "    alien['vel'] = 'medio'\n",
        "for alien in aliens [26:]:\n",
        "    alien['cor'] = 'vermelho'\n",
        "    alien['pontos'] = 15\n",
        "    alien['vel'] = 'rápido'\n",
        "\n",
        "#exibindo os 5 primeiros aliens da lista \"aliens\"\n",
        "cont = 0\n",
        "for alien in aliens[:]:\n",
        "    print('Alien ' + str(cont) + ': ' + str(alien))\n",
        "    cont += 1"
      ]
    },
    {
      "cell_type": "markdown",
      "metadata": {
        "id": "I-Z_Xzdk2YvQ"
      },
      "source": [
        "### 6.3.2. Uma lista em um dicionário"
      ]
    },
    {
      "cell_type": "markdown",
      "metadata": {
        "id": "z7Wh-ApO2YvQ"
      },
      "source": [
        "Criando um dicionário com listas em seus valores"
      ]
    },
    {
      "cell_type": "code",
      "execution_count": null,
      "metadata": {
        "id": "AAbFiQYC2YvQ"
      },
      "outputs": [],
      "source": [
        "#criando um dicionário cujo os valores são listas\n",
        "pizza = {'tamanho':['p','m','g','xg'],\n",
        "        'massa':['fina','grossa'],\n",
        "        'borda':['simples','recheada'],\n",
        "        'adicionais':['bacon','queijo','nutella']}\n",
        "\n",
        "#exibindo os ítens do dicionário\n",
        "print('Dicionário completo:')\n",
        "for k,v in pizza.items():\n",
        "    print(k,' : ',v)\n",
        "print('\\n')\n",
        "\n",
        "#exibindo as chaves\n",
        "print('Lista de chaves:')\n",
        "for k in pizza.keys():\n",
        "    print(k)\n",
        "print('\\n')\n",
        "\n",
        "#exibindo os valores\n",
        "print('Lista de valores:')\n",
        "for v in pizza.values():\n",
        "    print(v)"
      ]
    },
    {
      "cell_type": "markdown",
      "metadata": {
        "id": "UXrKdPsx2YvR"
      },
      "source": [
        "Passeando pelas listas(valores)"
      ]
    },
    {
      "cell_type": "code",
      "execution_count": null,
      "metadata": {
        "id": "UeEuzyO72YvR"
      },
      "outputs": [],
      "source": [
        "#criando um dicionário cujo os valores são listas\n",
        "pizza = {'tamanho':['p','m','g','xg'],\n",
        "        'massa':['fina','grossa'],\n",
        "        'borda':['simples','recheada'],\n",
        "        'adicional':['bacon','queijo','nutella']}\n",
        "\n",
        "#exibindo lista de tamanhos\n",
        "print('Tamanhos:')\n",
        "for i in pizza['tamanho']:\n",
        "    print(i)\n",
        "print('\\n')\n",
        "\n",
        "#exibindo lista de massas\n",
        "print('Massas:')\n",
        "for i in pizza['massa']:\n",
        "    print(i)\n",
        "print('\\n')\n",
        "\n",
        "#exibindo lista de bordas\n",
        "print('Bordas:')\n",
        "for i in pizza['borda']:\n",
        "    print(i)\n",
        "print('\\n')\n",
        "\n",
        "#exibindo lista de massas\n",
        "print('Adicionais:')\n",
        "for i in pizza['adicional']:\n",
        "    print(i)\n",
        "print('\\n')"
      ]
    },
    {
      "cell_type": "markdown",
      "metadata": {
        "id": "RQVT1VJu2YvR"
      },
      "source": [
        "Abrindo as chaves e valores simultaneamente:"
      ]
    },
    {
      "cell_type": "code",
      "execution_count": null,
      "metadata": {
        "id": "-DbnbQcB2YvR"
      },
      "outputs": [],
      "source": [
        "#criando um dicionário cujo os valores são listas\n",
        "pizza = {'tamanho':['p','m','g','xg'],\n",
        "        'massa':['fina','grossa'],\n",
        "        'borda':['simples','recheada'],\n",
        "        'adicional':['bacon','queijo','nutella']}\n",
        "\n",
        "cont_k = 1\n",
        "for k in pizza.keys():\n",
        "    print(str(cont_k) + '.' + k.title() + ':')\n",
        "    cont_k += 1\n",
        "    cont_v = 1\n",
        "    for v in pizza[k]:\n",
        "        print('\\t' + str(cont_v) + '. ' + v.title())\n",
        "        cont_v += 1"
      ]
    },
    {
      "cell_type": "markdown",
      "metadata": {
        "id": "8glxHChr2YvS"
      },
      "source": [
        "### 6.3.4. Dicionários de dicionários"
      ]
    },
    {
      "cell_type": "markdown",
      "metadata": {
        "id": "xhZL8T602YvS"
      },
      "source": [
        "Podemos aninhar um dicionário em outro dicionário, mas o código poderá ficar complicado rapidamente se isso for feito. Por exemplo, se você tiver vários usuários em um site, cada um com um nome único, os nomes dos usuários poderão ser usados como chaves em um dicionário.\n",
        "\n",
        "Você poderá então armazenar informações sobre cada usuário usando um dicionário como o valor associado a cada nome de usuário. Na listagem a seguir, armazenamos três informações sobre cada usuário:\n",
        "\n",
        "                            \"seu primeiro nome, o sobrenome e a localidade.\"\n",
        "\n",
        "Acessaremos essas informações percorrendo os nomes dos usuários em um laço e o dicionário de informações associado a cada nome de usuário:"
      ]
    },
    {
      "cell_type": "code",
      "execution_count": null,
      "metadata": {
        "id": "YYc-MdFQ2YvS",
        "outputId": "f7e409a0-d7db-4d0a-a8cd-7df59e1ed546"
      },
      "outputs": [
        {
          "name": "stdout",
          "output_type": "stream",
          "text": [
            "\n",
            " Usuário: Aeinstein\n",
            " Informações: Albert Einstein mora em Princeton.\n",
            "\n",
            " Usuário: Mcurie\n",
            " Informações: Marie Curie mora em Paris.\n"
          ]
        }
      ],
      "source": [
        "#criando um dicionário onde os valores são dicionários\n",
        "users = {\n",
        "        'aeinstein': {'nome': 'albert', 'sobrenome': 'einstein', 'lugar': 'princeton', },\n",
        "        'mcurie': {'nome': 'marie', 'sobrenome': 'curie', 'lugar': 'paris', },\n",
        "}\n",
        "\n",
        "for k, vd in users.items():\n",
        "    print('\\n Usuário: ' + k.title())\n",
        "    print(f\"\"\" Informações: {vd['nome'].title()} {vd['sobrenome'].title()} mora em {vd['lugar'].title()}.\"\"\")"
      ]
    },
    {
      "cell_type": "markdown",
      "metadata": {
        "id": "KBf042VI2YvT"
      },
      "source": [
        "### 6.3.5. Exercícios"
      ]
    },
    {
      "cell_type": "markdown",
      "metadata": {
        "id": "0Efi2R0M2YvT"
      },
      "source": [
        "6.7 – Pessoas: Comece com o programa que você escreveu no Exercício 6.1. Crie dois novos dicionários que representem pessoas diferentes e armazene os três dicionários em uma lista chamada people. Percorra sua lista\n",
        "de pessoas com um laço. À medida que percorrer a lista, apresente tudo que você sabe sobre cada pessoa."
      ]
    },
    {
      "cell_type": "code",
      "execution_count": null,
      "metadata": {
        "id": "ahduTUUe2YvT",
        "outputId": "09e581aa-a63f-4350-aef6-55a9149cfd57"
      },
      "outputs": [
        {
          "name": "stdout",
          "output_type": "stream",
          "text": [
            "Mário Miguel tem 27 anos e mora em Juatuba\n",
            "Marlon Miguel tem 23 anos e mora em Juatuba\n",
            "Alícia Santos Miguel tem 5 anos e mora em Florestal\n"
          ]
        }
      ],
      "source": [
        "#criando dicionários\n",
        "pessoa0 = {'nome':'mário','sobrenome':'miguel','idade':'27','cidade':'juatuba'}\n",
        "pessoa1 = {'nome':'marlon','sobrenome':'miguel','idade':'23','cidade':'juatuba'}\n",
        "pessoa2 = {'nome':'alícia','sobrenome':'santos miguel','idade':'5','cidade':'florestal'}\n",
        "\n",
        "#lista de pessoas\n",
        "pessoas = [pessoa0,pessoa1,pessoa2]\n",
        "\n",
        "#percorrendo a lista de dicionários\n",
        "for pessoa in pessoas:\n",
        "    print(pessoa['nome'].title() + ' ' + pessoa['sobrenome'].title()\\\n",
        "          + ' tem ' + pessoa['idade'] + ' anos e mora em ' + pessoa['cidade'].title())"
      ]
    },
    {
      "cell_type": "markdown",
      "metadata": {
        "id": "oyafG2cB2YvU"
      },
      "source": [
        "6.8 – Animais de estimação: Crie vários dicionários, em que o nome de cada dicionário seja o nome de um animal de estimação. Em cada dicionário, inclua o tipo do animal e o nome do dono. Armazene esses dicionários em uma lista chamada pets. Em seguida, percorra sua lista com um laço e, à medida que fizer isso, apresente tudo que você sabe sobre cada animal de estimação."
      ]
    },
    {
      "cell_type": "code",
      "execution_count": null,
      "metadata": {
        "id": "Y4j4o5A82YvU",
        "outputId": "5d33ae52-d07c-48ac-c3f1-dcdf5801e595"
      },
      "outputs": [
        {
          "name": "stdout",
          "output_type": "stream",
          "text": [
            "O cão kiara pertence a aparecida\n",
            "O cão bibola pertence a mário antônio\n",
            "O gato lion pertence a papai do céu\n"
          ]
        }
      ],
      "source": [
        "#criando dicionários\n",
        "kiara = {'nome':'kiara','tipo':'cão', 'dono':'aparecida'}\n",
        "bibola = {'nome':'bibola','tipo':'cão', 'dono':'mário antônio'}\n",
        "lion = {'nome':'lion','tipo':'gato', 'dono':'papai do céu'}\n",
        "\n",
        "#lista de pets\n",
        "pets = [kiara, bibola, lion]\n",
        "\n",
        "#percorrendo a lista de dicionários\n",
        "for pet in pets:\n",
        "    print('O ' + pet['tipo'] + ' ' + pet['nome'] + ' pertence a ' + pet['dono'])"
      ]
    },
    {
      "cell_type": "markdown",
      "metadata": {
        "id": "7ymon0Zn2YvU"
      },
      "source": [
        "6.9 – Lugares favoritos: Crie um dicionário chamado favorite_places. Pense em três nomes para usar como chaves do dicionário e armazene de um a três lugares favoritos para cada pessoa. Para deixar este exercício um pouco mais interessante, peça a alguns amigos que nomeiem alguns de seus lugares favoritos. Percorra o dicionário com um laço e apresente o nome de cada pessoa e seus lugares favoritos."
      ]
    },
    {
      "cell_type": "code",
      "execution_count": null,
      "metadata": {
        "id": "hV4522gC2YvV",
        "outputId": "ab5edaf3-5ac1-4c22-be3b-2c24a4b29f2f"
      },
      "outputs": [
        {
          "name": "stdout",
          "output_type": "stream",
          "text": [
            "Mario gosta dos seguintes lugares:\n",
            "\t 1 . Brasil\n",
            "\t 2 . China\n",
            "\t 3 . Quarto\n",
            "Marlon gosta dos seguintes lugares:\n",
            "\t 1 . Brasil\n",
            "\t 2 . Eua\n",
            "\t 3 . Israel\n",
            "Alicia gosta dos seguintes lugares:\n",
            "\t 1 . Florestal\n",
            "\t 2 . Juatuba\n"
          ]
        }
      ],
      "source": [
        "lugares_favoritos = {'mario':['brasil','china','quarto'],\n",
        "           'marlon':['brasil','eua','israel'],\n",
        "           'alicia':['florestal','juatuba']\n",
        "           }\n",
        "\n",
        "for k, vl in lugares_favoritos.items():\n",
        "    print(k.title(),'gosta dos seguintes lugares:')\n",
        "    cont = 1\n",
        "    for lugar in vl:\n",
        "        print('\\t',cont,'.',lugar.title())\n",
        "        cont += 1\n"
      ]
    },
    {
      "cell_type": "markdown",
      "metadata": {
        "id": "M6B2MYI52YvV"
      },
      "source": [
        "6.10 – Números favoritos: Modifique o seu programa do Exercício 6.2 para que cada pessoa possa ter mais de um número favorito. Em seguida, apresente o nome de cada pessoa, juntamente com seus números favoritos."
      ]
    },
    {
      "cell_type": "code",
      "execution_count": null,
      "metadata": {
        "id": "7KdC00DY2YvV",
        "outputId": "52fb1652-28db-43d5-a9a9-0fdb9df11432"
      },
      "outputs": [
        {
          "name": "stdout",
          "output_type": "stream",
          "text": [
            "Mario tem como seus números favoritos:\n",
            "1\n",
            "2\n",
            "Carlos tem como seus números favoritos:\n",
            "4\n",
            "7\n",
            "Paulo tem como seus números favoritos:\n",
            "9\n",
            "Ana tem como seus números favoritos:\n",
            "2\n",
            "3\n",
            "8\n",
            "Mariane tem como seus números favoritos:\n",
            "5\n"
          ]
        }
      ],
      "source": [
        "#criando dicionário\n",
        "fav_num = {'mario':[1,2],'carlos':[4,7],'paulo':[9],'ana':[2,3,8],'mariane':[5]}\n",
        "\n",
        "#percorrendo o dicionário\n",
        "for k, vl in fav_num.items():\n",
        "    print(k.title(),'tem como seus números favoritos:')\n",
        "    for numero in vl:\n",
        "        print(numero)"
      ]
    },
    {
      "cell_type": "markdown",
      "metadata": {
        "id": "LoCBu0BN2YvV"
      },
      "source": [
        "\n",
        "6.11 – Cidades: Crie um dicionário chamado cities. Use os nomes de três cidades como chaves em seu dicionário. Crie um dicionário com informações sobre cada cidade e inclua o país em que a cidade está localizada, a população aproximada e um fato sobre essa cidade. As chaves do dicionário de cada cidade devem ser algo como country, population e fact. Apresente o nome de cada cidade e todas as informações que você armazenou sobre ela."
      ]
    },
    {
      "cell_type": "code",
      "execution_count": null,
      "metadata": {
        "id": "0l1DIdiP2YvW",
        "outputId": "9cb4e7d1-b173-4a11-cc72-e303bf943726"
      },
      "outputs": [
        {
          "name": "stdout",
          "output_type": "stream",
          "text": [
            "Sobre a cidade de Juatuba :\n",
            "\t País : Brasil\n",
            "\t Pop : 30 mil\n",
            "\t Fato : É a terra dos juás\n",
            "Sobre a cidade de Tokio :\n",
            "\t País : Japão\n",
            "\t Pop : 14 milhões\n",
            "\t Fato : É a terra do cyberpunk\n",
            "Sobre a cidade de Cairo :\n",
            "\t País : Egito\n",
            "\t Pop : 10 milhões\n",
            "\t Fato : É a terra dos faraós\n"
          ]
        }
      ],
      "source": [
        "cidades = {'juatuba':{'país':'brasil','pop':'30 mil','fato':'é a terra dos Juás'},\n",
        "           'tokio':{'país':'japão','pop':'14 milhões','fato':'é a terra do cyberpunk'},\n",
        "           'cairo':{'país':'egito','pop':'10 milhões','fato':'é a terra dos faraós'},\n",
        "}\n",
        "\n",
        "for k, vd in cidades.items():\n",
        "    print('Sobre a cidade de',k.title(),':')\n",
        "    for kvd, vdvd in vd.items():\n",
        "        print('\\t',kvd.title(),':', vdvd.capitalize())\n",
        "\n"
      ]
    },
    {
      "cell_type": "markdown",
      "metadata": {
        "id": "h1v-Z1Um2YvW"
      },
      "source": [
        "\n",
        "6.12 – Extensões: Estamos trabalhando agora com exemplos complexos o bastante para poderem ser estendidos de várias maneiras. Use um dos programas de exemplo deste capítulo e estenda-o acrescentando novas chaves e valores, alterando o contexto do programa ou melhorando a formatação da saída."
      ]
    },
    {
      "cell_type": "markdown",
      "metadata": {
        "id": "BllTvv3yOngm"
      },
      "source": [
        "# Capítulo 7. Entrada de usuário e laços while"
      ]
    },
    {
      "cell_type": "markdown",
      "metadata": {
        "id": "PWjVlrDPOngw"
      },
      "source": [
        "## 7.1. Como a função imput() trabalha"
      ]
    },
    {
      "cell_type": "markdown",
      "metadata": {
        "id": "KsCF3K4SOngy"
      },
      "source": [
        "Entrada de dados, casting de tipos e verificação de condicionais"
      ]
    },
    {
      "cell_type": "code",
      "execution_count": null,
      "metadata": {
        "id": "gfCjINblOngz",
        "outputId": "b5475799-c27e-4bbd-c67b-11160fd48c21"
      },
      "outputs": [
        {
          "name": "stdout",
          "output_type": "stream",
          "text": [
            "Mário  tem 77 anos e 1.78 m de altura.\n",
            "você já se alistou?\n",
            "você já vota?\n",
            "você já entrou com o processo de aposentadoria?\n"
          ]
        }
      ],
      "source": [
        "nome = input('qual o seu nome? ')\n",
        "idade = int(input('qual sua idade? '))\n",
        "altura = float(input('qual a sua altura? '))\n",
        "\n",
        "print(nome,'tem',idade,'anos e',altura,'m de altura. \\n')\n",
        "\n",
        "if idade > 16:\n",
        "    print('você já se alistou?')\n",
        "if idade > 18:\n",
        "    print('você já vota?')\n",
        "if idade > 65:\n",
        "    print('você já entrou com o processo de aposentadoria?')"
      ]
    },
    {
      "cell_type": "markdown",
      "metadata": {
        "id": "vkq6bZzNOng5"
      },
      "source": [
        "Verificação de paridade"
      ]
    },
    {
      "cell_type": "code",
      "execution_count": null,
      "metadata": {
        "id": "z7N594P0Ong6",
        "outputId": "dbd35934-6e13-4d82-f026-6e6326c197e1"
      },
      "outputs": [
        {
          "name": "stdout",
          "output_type": "stream",
          "text": [
            "34 é par!\n"
          ]
        }
      ],
      "source": [
        "n = int(input('digite um número inteiro: '))\n",
        "\n",
        "if n%2 == 0:\n",
        "    print(n,'é par!')\n",
        "else:\n",
        "    print(n,'é ímpar')"
      ]
    },
    {
      "cell_type": "markdown",
      "metadata": {
        "id": "mYfG_YBZOng8"
      },
      "source": [
        "Verificação de primos"
      ]
    },
    {
      "cell_type": "code",
      "execution_count": null,
      "metadata": {
        "id": "VpHaf__SOng9",
        "outputId": "f041179c-f483-46d8-f43f-b717345ed430"
      },
      "outputs": [
        {
          "name": "stdout",
          "output_type": "stream",
          "text": [
            "[2, 4, 5, 8, 10, 16, 20, 25, 32, 40, 50, 80, 100, 125, 160, 200, 250, 400, 500, 625, 800, 1000, 1250, 2000, 2500, 3125, 4000, 5000, 6250, 10000, 12500, 20000, 25000, 50000]\n"
          ]
        }
      ],
      "source": [
        "n = int(input('digite um número inteiro: '))\n",
        "\n",
        "divisores = [x for x in range(2,n)]\n",
        "div_n = []\n",
        "for x in divisores:\n",
        "    if n%x == 0:\n",
        "        div_n.append(x)\n",
        "print(div_n)"
      ]
    },
    {
      "cell_type": "markdown",
      "metadata": {
        "id": "Nnd12TGhOnhA"
      },
      "source": [
        "### 7.1.1. Exercícios"
      ]
    },
    {
      "cell_type": "markdown",
      "metadata": {
        "id": "OoTMq4sWOnhD"
      },
      "source": [
        "7.1 – Locação de automóveis: Escreva um programa que pergunte ao usuário qual tipo de carro ele gostaria de alugar. Mostre uma mensagem sobre esse carro, por exemplo, “Deixe-me ver se consigo um Subaru para você.”"
      ]
    },
    {
      "cell_type": "code",
      "execution_count": null,
      "metadata": {
        "id": "bWJ_SJKeOnhF",
        "outputId": "bd8c3af9-58c9-4f05-b216-610315a3e56a"
      },
      "outputs": [
        {
          "name": "stdout",
          "output_type": "stream",
          "text": [
            "Deixe me ver se temos um Clio para você...\n"
          ]
        }
      ],
      "source": [
        "carro = input('Qual carro você quer alugar?' )\n",
        "print('Deixe me ver se temos um',carro.title(),'para você...')"
      ]
    },
    {
      "cell_type": "markdown",
      "metadata": {
        "id": "AItC5iVtOnhH"
      },
      "source": [
        "7.2 – Lugares em um restaurante: Escreva um programa que pergunte ao usuário quantas pessoas estão em seu grupo para jantar. Se a resposta for maior que oito, exiba uma mensagem dizendo que eles deverão esperar uma mesa. Caso contrário, informe que sua mesa está pronta."
      ]
    },
    {
      "cell_type": "code",
      "execution_count": null,
      "metadata": {
        "id": "kMjvP6VSOnhI",
        "outputId": "6412f237-1ec1-4826-b2e2-e51ee9098eab"
      },
      "outputs": [
        {
          "name": "stdout",
          "output_type": "stream",
          "text": [
            "A sua mesa está pronta!\n"
          ]
        }
      ],
      "source": [
        "n = int(input('Quantas pessoas vão jantar? '))\n",
        "if n <= 8:\n",
        "    print('A sua mesa está pronta!')\n",
        "else:\n",
        "    print('Estamos preparando sua mesa, por favor aguarde...')"
      ]
    },
    {
      "cell_type": "markdown",
      "metadata": {
        "id": "Zri28GMkOnhJ"
      },
      "source": [
        "7.3 – Múltiplos de dez: Peça um número ao usuário e, em seguida, informe se o número é múltiplo de dez ou não."
      ]
    },
    {
      "cell_type": "code",
      "execution_count": null,
      "metadata": {
        "id": "NY0KZN7_OnhK",
        "outputId": "4d900efd-6b03-4b96-8dad-b90613bd4757"
      },
      "outputs": [
        {
          "name": "stdout",
          "output_type": "stream",
          "text": [
            "2 não é múltiplo de 10.\n"
          ]
        }
      ],
      "source": [
        "n = int(input('Digite um número inteiro: '))\n",
        "if n%10 == 0:\n",
        "    print(n,'é múltiplo de 10.')\n",
        "else:\n",
        "    print(n,'não é múltiplo de 10.')"
      ]
    },
    {
      "cell_type": "markdown",
      "metadata": {
        "id": "04pNvfEaOnhM"
      },
      "source": [
        "## 7.2. Introdução aos laços while"
      ]
    },
    {
      "cell_type": "markdown",
      "metadata": {
        "id": "TE9mCV75OnhN"
      },
      "source": [
        "O laço for toma uma coleção de itens e executa um bloco de código uma vez para cada item da coleção. Em comparação, o laço while executa durante o tempo em que, ou enquanto, uma determinada condição for verdadeira."
      ]
    },
    {
      "cell_type": "markdown",
      "metadata": {
        "id": "aaGk8UKgOnhN"
      },
      "source": [
        "Contadores"
      ]
    },
    {
      "cell_type": "code",
      "execution_count": null,
      "metadata": {
        "id": "iLU1O6LgOnhN"
      },
      "outputs": [],
      "source": [
        "#contagem simples\n",
        "cont = 0\n",
        "while cont <= 5:\n",
        "    print(cont)\n",
        "    cont += 1\n",
        "print('acabou...\\n')\n",
        "\n",
        "#contagem invertida\n",
        "cont = 5\n",
        "while cont >= 0:\n",
        "    print(cont)\n",
        "    cont -= 1\n",
        "print('acabou...\\n')\n",
        "\n",
        "#contagem com saltos\n",
        "cont = 0\n",
        "salto = 20\n",
        "while cont <= 100:\n",
        "    print(cont)\n",
        "    cont += salto\n",
        "print('acabou...\\n')"
      ]
    },
    {
      "cell_type": "markdown",
      "metadata": {
        "id": "hqBqvDj8OnhP"
      },
      "source": [
        "Usuário decidindo se quer sair"
      ]
    },
    {
      "cell_type": "code",
      "execution_count": null,
      "metadata": {
        "id": "YUHjSwq5OnhP",
        "outputId": "bd56a186-3830-4cf1-95b4-6083debc47da"
      },
      "outputs": [
        {
          "name": "stdout",
          "output_type": "stream",
          "text": [
            "então vamos continuar...\n",
            "então vamos continuar...\n",
            "então vamos continuar...\n",
            "então vamos continuar...\n",
            "acabou...\n"
          ]
        }
      ],
      "source": [
        "msg = ''\n",
        "while msg.lower() != 'n':\n",
        "    msg = input('deseja continuar? [s/n] ')\n",
        "    print('então vamos continuar...')\n",
        "print('acabou...')"
      ]
    },
    {
      "cell_type": "markdown",
      "metadata": {
        "id": "7NJHgTpWOnhR"
      },
      "source": [
        "### 7.2.1 Usando uma `flag`"
      ]
    },
    {
      "cell_type": "markdown",
      "metadata": {
        "id": "c187pr0JOnhS"
      },
      "source": [
        "No exemplo anterior, tínhamos um programa que executava determinadas tarefas enquanto uma dada condição era verdadeira. E como ficaria em programas mais complicados, em que muitos eventos diferentes poderiam fazer o programa parar de executar?"
      ]
    },
    {
      "cell_type": "markdown",
      "metadata": {
        "id": "qLS0d-D-OnhS"
      },
      "source": [
        "Para um programa que deva executar somente enquanto muitas condições forem verdadeiras, podemos definir uma variável que determina se o programa como um todo deve estar ativo. Essa variável, chamada de flag, atua como um sinal para o programa. Podemos\n",
        "escrever nossos programas de modo que executem enquanto a flag estiver definida com True e parem de executar quando qualquer um dos vários eventos definir o valor da flag com False. Como resultado, nossa instrução while geral precisa verificar apenas uma condição: se a flag, no momento, é True. Então todos os nossos demais testes (para ver se um evento que deve definir a flag com False ocorreu) podem estar bem organizados no restante do programa."
      ]
    },
    {
      "cell_type": "code",
      "execution_count": null,
      "metadata": {
        "id": "jY7lMTOgOnhT",
        "outputId": "e8cfe401-ebeb-4223-a7c8-5ebd6cd55b15"
      },
      "outputs": [
        {
          "name": "stdout",
          "output_type": "stream",
          "text": [
            "então vamos continuar...\n",
            "então vamos continuar...\n",
            "acabou...\n"
          ]
        }
      ],
      "source": [
        "flag = True\n",
        "while flag:\n",
        "    msg = input('deseja continuar? [s/n] ')\n",
        "    if msg == 'n':\n",
        "        flag = False\n",
        "    else:\n",
        "        print('então vamos continuar...')\n",
        "print('acabou...')"
      ]
    },
    {
      "cell_type": "markdown",
      "metadata": {
        "id": "WwJZuFH7OnhV"
      },
      "source": [
        "### 7.2.2. Saindo do laço com `brak`"
      ]
    },
    {
      "cell_type": "markdown",
      "metadata": {
        "id": "v_AHj4g0OnhW"
      },
      "source": [
        "Para sair de um laço while de imediato, sem executar qualquer código restante no laço, independentemente do resultado de qualquer teste condicional, utilize a instrução break. A instrução break direciona o fluxo de seu programa; podemos usá-la para controlar quais linhas de código são ou não são executadas, de modo que o programa execute apenas o código que você quiser, quando você quiser."
      ]
    },
    {
      "cell_type": "code",
      "execution_count": null,
      "metadata": {
        "id": "d3Am4FI8OnhW",
        "outputId": "f22a8d19-6e79-4fb6-a4f0-2918e7c89708"
      },
      "outputs": [
        {
          "name": "stdout",
          "output_type": "stream",
          "text": [
            "Cairo uma linda cidade sem dúvidas.\n",
            "Juatuba uma linda cidade sem dúvidas.\n"
          ]
        }
      ],
      "source": [
        "while True:\n",
        "    cidade = input('Digite uma cidade ou [n] para sair: ')\n",
        "    if cidade.lower() == 'n':\n",
        "        break\n",
        "    else:\n",
        "        print(cidade.title(),'uma linda cidade sem dúvidas.')\n",
        "print('acabou...')"
      ]
    },
    {
      "cell_type": "markdown",
      "metadata": {
        "id": "7nmTrQ4kOnhX"
      },
      "source": [
        "### 7.2.3. Usando `continue` em um laço"
      ]
    },
    {
      "cell_type": "markdown",
      "metadata": {
        "id": "QDcwFeCzOnhY"
      },
      "source": [
        "Em vez de sair totalmente de um laço sem executar o restante de seu código, podemos usar a instrução continue para retornar ao início, com base no resultado de um teste condicional."
      ]
    },
    {
      "cell_type": "code",
      "execution_count": null,
      "metadata": {
        "id": "j39_6YqEOnha",
        "outputId": "41217633-8e32-4e66-bf7c-95d73459ac94"
      },
      "outputs": [
        {
          "name": "stdout",
          "output_type": "stream",
          "text": [
            "1\n",
            "3\n",
            "5\n",
            "7\n",
            "9\n"
          ]
        }
      ],
      "source": [
        "n = 0\n",
        "while n < 10:\n",
        "    n += 1\n",
        "    if n%2 == 0:\n",
        "        continue\n",
        "    print(n)"
      ]
    },
    {
      "cell_type": "markdown",
      "metadata": {
        "id": "Sj8UU7eEOnhb"
      },
      "source": [
        "### 7.2.4. Exercícios"
      ]
    },
    {
      "cell_type": "markdown",
      "metadata": {
        "id": "GcA3JG62Onhd"
      },
      "source": [
        "7.4 – Ingredientes para uma pizza: Escreva um laço que peça ao usuário para fornecer uma série de ingredientes para uma pizza até que o valor 'quit' seja fornecido. À medida que cada ingrediente é especificado, apresente uma mensagem informando que você acrescentará esse ingrediente à pizza."
      ]
    },
    {
      "cell_type": "code",
      "execution_count": null,
      "metadata": {
        "id": "DfD3aASKOnhe",
        "outputId": "df9484db-2f31-4005-e1c1-6027e394b6ad"
      },
      "outputs": [
        {
          "name": "stdout",
          "output_type": "stream",
          "text": [
            "Sua pizza com: ['asdasd', 'asd', 'asdasd'] está a caminho...\n"
          ]
        }
      ],
      "source": [
        "ingr = ''\n",
        "adicionais = []\n",
        "\n",
        "while ingr.lower() != 'q':\n",
        "    ingr = input('Digite o adicional ou [Q] para sair: ')\n",
        "    adicionais.append(ingr)\n",
        "\n",
        "adicionais.pop() #remove o 'q' do final da lista\n",
        "print('Sua pizza com:',adicionais,'está a caminho...')"
      ]
    },
    {
      "cell_type": "markdown",
      "metadata": {
        "id": "YQIEmnDnOnhf"
      },
      "source": [
        "7.5 – Ingressos para o cinema: Um cinema cobra preços diferentes para os ingressos de acordo com a idade de uma pessoa. Se uma pessoa tiver menos de 3 anos de idade, o ingresso será gratuito; se tiver entre 3 e 12 anos, o ingresso custará 10 dólares; se tiver mais de 12 anos, o ingresso custará 15 dólares. Escreva um laço em que você pergunte a idade aos usuários e, então, informe-lhes o preço do ingresso do cinema."
      ]
    },
    {
      "cell_type": "code",
      "execution_count": null,
      "metadata": {
        "id": "J-ferHjyOnhg",
        "outputId": "28f46cab-e0b2-4eff-b121-50896d362286"
      },
      "outputs": [
        {
          "name": "stdout",
          "output_type": "stream",
          "text": [
            "['bacon', 'carne']\n"
          ]
        }
      ],
      "source": [
        "pergunta = input('Deseja comprar ingressos? [s/n] ')\n",
        "\n",
        "while pergunta.lower() != 'n':\n",
        "    idade = int(input('Qual é a sua idade? '))\n",
        "\n",
        "    if idade < 3: print('Entrada gratuita!')\n",
        "    elif 3 <= idade <= 12: print('Entrada custa 10 dólares!')\n",
        "    else: print('Entrada custa 20 dólares!')\n",
        "\n",
        "    pergunta = input('Deseja comprar ingressos? [s/n] ')\n",
        "print('Divirta-se!!!')"
      ]
    },
    {
      "cell_type": "markdown",
      "metadata": {
        "id": "Vl9Ii9KnOnhi"
      },
      "source": [
        "7.6 – Três saídas: Escreva versões diferentes do Exercício 7.4 ou do Exercício 7.5 que faça o seguinte, pelo menos uma vez:\n",
        "\n",
        "• use um teste condicional na instrução while para encerrar o laço;\n",
        "• use uma variável active para controlar o tempo que o laço executará;\n",
        "• use uma instrução break para sair do laço quando o usuário fornecer o valor 'quit'.\n",
        "\n",
        "                                #####FAREMOS COM O 7.4#####\n",
        "`7.4 – Ingredientes para uma pizza: Escreva um laço que peça ao usuário para fornecer uma série de ingredientes para uma pizza até que o valor 'quit' seja fornecido. À medida que cada ingrediente é especificado, apresente uma mensagem informando que você acrescentará esse ingrediente à pizza.`"
      ]
    },
    {
      "cell_type": "code",
      "execution_count": null,
      "metadata": {
        "id": "3PPwEQttOnhj",
        "outputId": "167d8b6a-aad1-4719-b0e4-2722cf1a60f9"
      },
      "outputs": [
        {
          "name": "stdout",
          "output_type": "stream",
          "text": [
            "Sua pizza com ['bacon', 'tomate', 'mussarela'] está a caminho!\n"
          ]
        }
      ],
      "source": [
        "#use um teste condicional na instrução while para encerrar o laço\n",
        "adic = []\n",
        "ingr = input('Digite seu adicional ou [Q] para sair.')\n",
        "\n",
        "while ingr.lower() != 'q':\n",
        "    adic.append(ingr)\n",
        "    ingr = input('Digite seu adicional ou [Q] para sair.')\n",
        "\n",
        "print('Sua pizza com',adic,'está a caminho!')"
      ]
    },
    {
      "cell_type": "code",
      "execution_count": null,
      "metadata": {
        "id": "EQFUr85KOnhk",
        "outputId": "dec1d597-dd94-41c2-9b94-5359acb56cef"
      },
      "outputs": [
        {
          "name": "stdout",
          "output_type": "stream",
          "text": [
            "Sua pizza com ['bacon', 'tomate', 'mussarela'] está a caminho!\n"
          ]
        }
      ],
      "source": [
        "#use uma variável active para controlar o tempo que o laço executará;\n",
        "active = True\n",
        "adic = []\n",
        "ingr = input('Digite seu adicional ou [Q] para sair.')\n",
        "\n",
        "while active:\n",
        "    adic.append(ingr)\n",
        "    ingr = input('Digite seu adicional ou [Q] para sair.')\n",
        "    if ingr.lower() == 'q':\n",
        "        active = False\n",
        "\n",
        "print('Sua pizza com',adic,'está a caminho!')"
      ]
    },
    {
      "cell_type": "code",
      "execution_count": null,
      "metadata": {
        "id": "aJdjYfXDOnhm",
        "outputId": "512a133a-4a3f-4c0b-f1c9-20d25e011970"
      },
      "outputs": [
        {
          "name": "stdout",
          "output_type": "stream",
          "text": [
            "Sua pizza com ['bacon', 'tomate', 'mussarela'] está a caminho!\n"
          ]
        }
      ],
      "source": [
        "#use uma instrução break para sair do laço quando o usuário fornecer o valor 'quit'.\n",
        "adic = []\n",
        "ingr = input('Digite seu adicional ou [Q] para sair.')\n",
        "\n",
        "while True:\n",
        "    if ingr.lower() == 'q':\n",
        "        break\n",
        "    else:\n",
        "        adic.append(ingr)\n",
        "    ingr = input('Digite seu adicional ou [Q] para sair.')\n",
        "\n",
        "print('Sua pizza com',adic,'está a caminho!')"
      ]
    },
    {
      "cell_type": "markdown",
      "metadata": {
        "id": "wpYzCcYSOnhn"
      },
      "source": [
        "7.7 – Infinito: Escreva um laço que nunca termine e execute-o. (Para encerrar o laço, pressione CTRL-C ou feche a janela que está exibindo a saída.)"
      ]
    },
    {
      "cell_type": "markdown",
      "metadata": {
        "id": "gl927FukOnho"
      },
      "source": [
        "## 7.3. Usando um laço while com listas e dicionários"
      ]
    },
    {
      "cell_type": "markdown",
      "metadata": {
        "id": "pp3bxkxWOnhp"
      },
      "source": [
        "Até agora trabalhamos com apenas uma informação do usuário a cada vez. Recebemos a entrada do usuário e então a exibimos ou apresentamos uma resposta a ela. Na próxima passagem pelo laço while, recebíamos outro valor de entrada e respondíamos a ela. Contudo, para controlar muitos usuários e informações, precisaremos usar listas e dicionários com nossos laços while.\n",
        "\n",
        "Um laço for é eficiente para percorrer uma lista, mas você não deve modificar uma lista em um laço for, pois Python terá problemas para manter o controle dos itens da lista. Para modificar uma lista enquanto trabalhar com ela, utilize um laço while. Usar laços while com listas e dicionários permite coletar, armazenar e organizar muitas entradas a fim de analisá-las e apresentá-las posteriormente."
      ]
    },
    {
      "cell_type": "markdown",
      "metadata": {
        "id": "ntN_DIlTOnhq"
      },
      "source": [
        "### 7.3.1. Tranferindo ítens de uma lista para outra"
      ]
    },
    {
      "cell_type": "markdown",
      "metadata": {
        "id": "zUmTaUFXOnhr"
      },
      "source": [
        "Considere uma lista de usuários recém-registrados em um site, porém não verificados. Depois de conferir esses usuários, como podemos transferi-los para uma lista separada de usuários confirmados? Uma maneira seria usar um laço while para extrair os usuários da lista de usuários não confirmados à medida que os verificarmos e então adicioná-los em uma lista separada de usuários confirmados."
      ]
    },
    {
      "cell_type": "code",
      "execution_count": null,
      "metadata": {
        "id": "mblocV_UOnhr",
        "outputId": "2cbf1636-3390-45d8-933c-a2d047d16723"
      },
      "outputs": [
        {
          "name": "stdout",
          "output_type": "stream",
          "text": [
            "Verificando usuário: Ana\n",
            "Verificando usuário: José\n",
            "Verificando usuário: Paulo\n",
            "Verificando usuário: Mario\n",
            "['ana', 'josé', 'paulo', 'mario']\n"
          ]
        }
      ],
      "source": [
        "nao_conf = ['mario','paulo','josé','ana']\n",
        "conf = []\n",
        "\n",
        "while nao_conf:\n",
        "    user = nao_conf.pop()\n",
        "    print('Verificando usuário:',user.title())\n",
        "    conf.append(user)\n",
        "print(conf)"
      ]
    },
    {
      "cell_type": "markdown",
      "metadata": {
        "id": "vmv-KVpHOnht"
      },
      "source": [
        "### 7.3.2. Removendo todas as instâncias de valores específicos de uma lista"
      ]
    },
    {
      "cell_type": "markdown",
      "metadata": {
        "id": "MI3TOw8iOnhv"
      },
      "source": [
        "No Capítulo 3 usamos remove() para remover um valor específico de uma lista. A função remove() era apropriada porque o valor em que estávamos interessados aparecia apenas uma vez na lista. Porém, e se quiséssemos remover da lista todas as instâncias de um valor?"
      ]
    },
    {
      "cell_type": "code",
      "execution_count": null,
      "metadata": {
        "id": "oB4kHIY0Onhw",
        "outputId": "ebc0645f-6aa2-439b-bb74-cd8496e47b2d"
      },
      "outputs": [
        {
          "name": "stdout",
          "output_type": "stream",
          "text": [
            "['dog', 'dog', 'goldfish', 'rabbit']\n"
          ]
        }
      ],
      "source": [
        "pets = ['dog', 'cat', 'dog', 'goldfish', 'cat', 'rabbit',\n",
        "'cat']\n",
        "\n",
        "while 'cat' in pets:\n",
        "    pets.remove('cat')\n",
        "print(pets)"
      ]
    },
    {
      "cell_type": "markdown",
      "metadata": {
        "id": "jdwqiU97Onhx"
      },
      "source": [
        "### 7.3.3. Preenchendo um dicionário com dados de entrada do usuário"
      ]
    },
    {
      "cell_type": "code",
      "execution_count": null,
      "metadata": {
        "id": "RaxlPga7Onhz",
        "outputId": "60548d95-c8ee-468a-d7d8-2fd41b493532"
      },
      "outputs": [
        {
          "name": "stdout",
          "output_type": "stream",
          "text": [
            "{'mario': 'preto', 'marcos': 'vermelho', 'dara': 'azul'}\n"
          ]
        }
      ],
      "source": [
        "respostas = {} #dicionário vazio\n",
        "active = True #flag\n",
        "\n",
        "while active:\n",
        "    nome = input('Qual o seu nome? ')\n",
        "    resp = input('Qual sua cor favorita? ')\n",
        "    respostas[nome] = resp\n",
        "\n",
        "    repetir = input('Adicionar mais dados? [s/n] ')\n",
        "\n",
        "    if repetir.lower() == 'n':\n",
        "        active = False\n",
        "print(respostas)"
      ]
    },
    {
      "cell_type": "markdown",
      "metadata": {
        "id": "LdKP25qTOnh1"
      },
      "source": [
        "### 7.3.4. Exercícios"
      ]
    },
    {
      "cell_type": "markdown",
      "metadata": {
        "id": "F1fSVPzQOnh2"
      },
      "source": [
        "7.8 – Lanchonete: Crie uma lista chamada sandwich_orders e a preencha com os nomes de vários sanduíches. Em seguida, crie uma lista vazia chamada finished_sandwiches. Percorra a lista de pedidos de sanduíches com um laço e mostre uma mensagem para cada pedido, por exemplo, Preparei seu sanduíche de atum. À medida que cada sanduíche for preparado transfira-o para a lista de sanduíches prontos Depois que todos os sanduíches estiverem prontos mostre uma mensagem que liste cada sanduíche preparado."
      ]
    },
    {
      "cell_type": "code",
      "execution_count": null,
      "metadata": {
        "id": "QkcSZ5qqOnh2",
        "outputId": "f503cb70-c27d-452c-ee06-e6d8052dd1f5"
      },
      "outputs": [
        {
          "name": "stdout",
          "output_type": "stream",
          "text": [
            "lista de pedidos: ['fazer', 'fan', 'twister', 'harley', 'falcon'] \n",
            "\n",
            "Preparando o seu falcon ... por favor aguarde.\n",
            "Seu falcon saiu para a entrega.\n",
            "Preparando o seu harley ... por favor aguarde.\n",
            "Seu harley saiu para a entrega.\n",
            "Preparando o seu twister ... por favor aguarde.\n",
            "Seu twister saiu para a entrega.\n",
            "Preparando o seu fan ... por favor aguarde.\n",
            "Seu fan saiu para a entrega.\n",
            "Preparando o seu fazer ... por favor aguarde.\n",
            "Seu fazer saiu para a entrega.\n",
            "\n",
            "lista de entregas: ['falcon', 'harley', 'twister', 'fan', 'fazer']\n",
            "lista de pedidos: []\n"
          ]
        }
      ],
      "source": [
        "pedidos = ['fazer','fan','twister','harley','falcon']\n",
        "entregas = []\n",
        "\n",
        "print('lista de pedidos:',pedidos,'\\n')\n",
        "while pedidos:\n",
        "    sanduiche = pedidos.pop()\n",
        "    print('Preparando o seu',sanduiche,'... por favor aguarde.')\n",
        "    entregas.append(sanduiche)\n",
        "    print('Seu',sanduiche,'saiu para a entrega.')\n",
        "print('\\nlista de entregas:',entregas)\n",
        "print('lista de pedidos:',pedidos)"
      ]
    },
    {
      "cell_type": "markdown",
      "metadata": {
        "id": "GyuC9ILhOnh3"
      },
      "source": [
        "7.9 – Sem pastrami: Usando a lista sandwich_orders do Exercício 7.8, garanta que o sanduíche de 'pastrami' apareça na lista pelo menos três vezes. Acrescente um código próximo ao início de seu programa para exibir uma mensagem informando que a lanchonete está sem pastrami e, então, use um laço while para remover todas as ocorrências de 'pastrami' e sandwich_orders. Garanta que nenhum sanduíche de pastrami acabe em finished_sandwiches."
      ]
    },
    {
      "cell_type": "code",
      "execution_count": null,
      "metadata": {
        "id": "seR_ncJGOnh4",
        "outputId": "07ef2a5c-f9e1-41ef-baab-3383fc768ea0"
      },
      "outputs": [
        {
          "name": "stdout",
          "output_type": "stream",
          "text": [
            " Pedidos: ['pastrami', 'fazer', 'fan', 'pastrami', 'twister', 'pastrami', 'harley', 'falcon', 'pastrami'] \n",
            " Entregas: []\n",
            " Estamos sem pastrami no momento...\n",
            " Pedidos: [] \n",
            " Entregas: ['falcon', 'harley', 'twister', 'fan', 'fazer']\n"
          ]
        }
      ],
      "source": [
        "pedidos = ['pastrami','fazer','fan','pastrami','twister','pastrami','harley','falcon','pastrami']\n",
        "entregas = []\n",
        "\n",
        "print(' Pedidos:',pedidos,'\\n Entregas:',entregas)\n",
        "\n",
        "print(' Estamos sem pastrami no momento...')\n",
        "while pedidos:\n",
        "    if 'pastrami' in pedidos:\n",
        "        pedidos.remove('pastrami')\n",
        "        continue\n",
        "    sanduiche = pedidos.pop()\n",
        "    entregas.append(sanduiche)\n",
        "print(' Pedidos:',pedidos,'\\n Entregas:',entregas)"
      ]
    },
    {
      "cell_type": "markdown",
      "metadata": {
        "id": "rh2g8RlCOnh5"
      },
      "source": [
        "7.10 – Férias dos sonhos: Escreva um programa que faça uma enquete sobre as férias dos sonhos dos usuários. Escreva um prompt semelhante a este: Se pudesse visitar um lugar do mundo, para onde você iria? Inclua um bloco de código que apresente os resultados da enquete."
      ]
    },
    {
      "cell_type": "code",
      "execution_count": null,
      "metadata": {
        "id": "BY7Lsk4nOnh6",
        "outputId": "8348c4ca-c321-490d-e70c-fb43341c38a1"
      },
      "outputs": [
        {
          "name": "stdout",
          "output_type": "stream",
          "text": [
            "{'josé': 'paris', 'cairo': 'joana', 'marcola': 'luanda'}\n"
          ]
        }
      ],
      "source": [
        "resps = {}\n",
        "while True:\n",
        "    nome = input('Qual o seu nome? ')\n",
        "    lugar = input('Para onde você gostaria de viajar?')\n",
        "    resps[nome] = lugar\n",
        "\n",
        "    ficar = input('Deseja continuar? [s/n]')\n",
        "    if ficar.lower() == 'n': break\n",
        "print(resps)"
      ]
    }
  ],
  "metadata": {
    "kernelspec": {
      "display_name": "Python 3",
      "language": "python",
      "name": "python3"
    },
    "language_info": {
      "codemirror_mode": {
        "name": "ipython",
        "version": 3
      },
      "file_extension": ".py",
      "mimetype": "text/x-python",
      "name": "python",
      "nbconvert_exporter": "python",
      "pygments_lexer": "ipython3",
      "version": "3.10.12"
    },
    "colab": {
      "provenance": [],
      "toc_visible": true,
      "include_colab_link": true
    }
  },
  "nbformat": 4,
  "nbformat_minor": 0
}