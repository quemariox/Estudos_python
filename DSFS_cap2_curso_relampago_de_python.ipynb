{
  "nbformat": 4,
  "nbformat_minor": 0,
  "metadata": {
    "colab": {
      "private_outputs": true,
      "provenance": [],
      "authorship_tag": "ABX9TyMnZREZbJQUszEISsurbawc",
      "include_colab_link": true
    },
    "kernelspec": {
      "name": "python3",
      "display_name": "Python 3"
    },
    "language_info": {
      "name": "python"
    }
  },
  "cells": [
    {
      "cell_type": "markdown",
      "metadata": {
        "id": "view-in-github",
        "colab_type": "text"
      },
      "source": [
        "<a href=\"https://colab.research.google.com/github/quemariox/Estudos_python/blob/main/Curso_Rel%C3%A2mpago_de_Python.ipynb\" target=\"_parent\"><img src=\"https://colab.research.google.com/assets/colab-badge.svg\" alt=\"Open In Colab\"/></a>"
      ]
    },
    {
      "cell_type": "markdown",
      "source": [
        "# CAPÍTULO 2. Curso Relâmpago de Python"
      ],
      "metadata": {
        "id": "sXXh8GFBIQYT"
      }
    },
    {
      "cell_type": "markdown",
      "source": [
        "## 2.1. O Básico"
      ],
      "metadata": {
        "id": "JbAzATnhIcNu"
      }
    },
    {
      "cell_type": "markdown",
      "source": [
        "### 2.1.1. Formatação e espaço em branco"
      ],
      "metadata": {
        "id": "ySsrjvjzJFFI"
      }
    },
    {
      "cell_type": "markdown",
      "source": [
        "Muitas linguagens usam chaves para delimitar blocos de código. Python usa\n",
        "indentação:"
      ],
      "metadata": {
        "id": "Vfl5F6ThJZ4W"
      }
    },
    {
      "cell_type": "code",
      "source": [
        "for i in [1,2,3,4,5]:\n",
        "  print(i) #first line of \"for i\" block\n",
        "  for j in [1,2,3,4,5]:\n",
        "    print(j) #first line of \"for j\" block\n",
        "    print(i+j) #last line of \"for j\" block\n",
        "  print(i) #last line of \"for j\" block\n",
        "print('done looping')"
      ],
      "metadata": {
        "id": "bzJp4d45Ja5f",
        "collapsed": true
      },
      "execution_count": null,
      "outputs": []
    },
    {
      "cell_type": "markdown",
      "source": [
        "Isso faz com que o código Python seja bem legível, mas também significa que você tem que ser muito cuidadoso com a sua formatação. O espaço em branco é ignorado dentro dos parênteses e colchetes, o que poder ser muito útil em computações intermináveis.\n",
        "\n",
        "Além disso, também podemos utilizar \";\" para terminar uma linha e logo em seguida iniciar a próxima linha"
      ],
      "metadata": {
        "id": "sr6rLAMVK25H"
      }
    },
    {
      "cell_type": "code",
      "source": [
        "#being able to use whitespaces makes the code easier to read:\n",
        "long_computation = (1 + 2 + 3 + 4 + 5 + 6 + 7 + 8 + 9 + 10 + 11)\n",
        "\n",
        "list_of_lists = [[1,2,3],\n",
        "                 [4,5,6],\n",
        "                 [7,8,9]]\n",
        "\n",
        "#we can use the backslash to continue the statement on next line:\n",
        "two_plus_three = 2 + \\\n",
        "3\n",
        "print(two_plus_three)\n",
        "\n",
        "#podemos usar \" ; \" para encerrar uma linha\n",
        "var_1 = 3; var_2 = 'azul'; var_3 = True;\n",
        "print(var_1, var_2, var_3)"
      ],
      "metadata": {
        "id": "QQDO72SiJK0l"
      },
      "execution_count": null,
      "outputs": []
    },
    {
      "cell_type": "markdown",
      "source": [
        "### 2.1.2. Módulos"
      ],
      "metadata": {
        "id": "uqW5ILegMzCa"
      }
    },
    {
      "cell_type": "markdown",
      "source": [
        "Alguns recursos de Python não são carregados por padrão. Isto inclui tanto recursos como parte da linguagem assim como recursos de terceiros, que você\n",
        "baixa por conta própria. Para usar esses recursos, você precisará import (importar) os módulos que os contêm. Tambem é possível dar apelidos para um módulo."
      ],
      "metadata": {
        "id": "F0x676yjNFTu"
      }
    },
    {
      "cell_type": "code",
      "source": [
        "#we can give the library a nickname:\n",
        "import matplotlib.pyplot as plt"
      ],
      "metadata": {
        "id": "L05DJ_ptNUKJ"
      },
      "execution_count": null,
      "outputs": []
    },
    {
      "cell_type": "markdown",
      "source": [
        "Se você precisar de alguns valores específicos de um módulo, pode importá-los explicitamente e usá-los sem qualificação. Se você fosse uma pessoa má, você poderia importar o conteúdo inteiro de um módulo dentro do seu conjunto de nomes, o que talvez pudesse sobrescrever\n",
        "variáveis que você já tinha definido"
      ],
      "metadata": {
        "id": "ARhkA42aNjbu"
      }
    },
    {
      "cell_type": "code",
      "source": [
        "from collections import defaultdict, Counter\n",
        "\n",
        "lookup = defaultdict(int)\n",
        "my_counter = Counter()\n",
        "\n",
        "print(lookup)\n",
        "print(my_counter)"
      ],
      "metadata": {
        "id": "6JE830nhNta1"
      },
      "execution_count": null,
      "outputs": []
    },
    {
      "cell_type": "markdown",
      "source": [
        "### 2.1.3. Aritmética"
      ],
      "metadata": {
        "id": "83bKS4c_PEOC"
      }
    },
    {
      "cell_type": "markdown",
      "source": [
        "Python 2.7 usa a divisão de inteiros por padrão, portanto 5/2 é igual a 2. Quase sempre isso não é o que queremos, então sempre começaremos nossos arquivos\n",
        "com a importação do método $division$ da biblioteca $__future__$.\n",
        "\n",
        "Depois disso, 5/2 é igual a 2.5. Todo exemplo de código neste livro usa esse novo estilo de divisão. Na grande maioria dos casos em que precisaremos de divisão de inteiros, poderemos obtê-la com uma barra dupla 5 // 2."
      ],
      "metadata": {
        "id": "oqUbA46XPJpP"
      }
    },
    {
      "cell_type": "code",
      "source": [
        "print(5/2) #it looks like Python 3 already fixed this...\n",
        "           #we don't need to import the future library\n",
        "\n",
        "#Euclidian division\n",
        "print(5//2) #integer part of division = 2\n",
        "print(5%2) #rest of the division = 1\n",
        "\n",
        "from __future__ import division\n",
        "print(5/2)"
      ],
      "metadata": {
        "id": "TghHrHVQPeoX"
      },
      "execution_count": null,
      "outputs": []
    },
    {
      "cell_type": "markdown",
      "source": [
        "### 2.1.4. Funções"
      ],
      "metadata": {
        "id": "mcqOUPG0R56H"
      }
    },
    {
      "cell_type": "markdown",
      "source": [
        "Uma função é uma regra para pegar zero e mais entradas e retornar uma saída correspondente. As funções de Python são de primeira classe, que significa que podemos atribuí-las a variáveis e passá-las para as funções como quaisquer outros argumentos:"
      ],
      "metadata": {
        "id": "P9rOVfxGR2cS"
      }
    },
    {
      "cell_type": "code",
      "source": [
        "def double_plus_three(x):\n",
        "  \"\"\"Esta função multiplica sua entrada por 2 e soma 3.\"\"\"\n",
        "  return 2*x + 3\n",
        "\n",
        "def apply_to_one(f):\n",
        "  \"\"\"Chama a função f com 1 como seu argumento.\"\"\"\n",
        "  return f(1)\n",
        "\n",
        "function_1 = double_plus_three  # Atribuímos a função double_plus_three à variável my_double\n",
        "x = apply_to_one(function_1)  # Passamos a variável function_1 (onde está armazenada a função duble_plus_three) para apply_to_one, que retorna 5\n",
        "\n",
        "print(x)"
      ],
      "metadata": {
        "id": "j8e8pJSJSKAZ"
      },
      "execution_count": null,
      "outputs": []
    },
    {
      "cell_type": "markdown",
      "source": [
        "Também é fácil criar pequenas funções anônimas, ou lambdas. Você pode atribuir lambdas a variáveis, apesar de que maioria das pessoas lhe dirão para usar def:"
      ],
      "metadata": {
        "id": "XV3l0IiELNUF"
      }
    },
    {
      "cell_type": "code",
      "source": [
        "y = apply_to_one(lambda x: x + 4) #é igual a 5\n",
        "\n",
        "another_double = lambda x: 2*x #não faça isso\n",
        "\n",
        "def another_double(x): return 2*x #faça isso"
      ],
      "metadata": {
        "id": "Ff3ATbt6LX6J"
      },
      "execution_count": null,
      "outputs": []
    },
    {
      "cell_type": "markdown",
      "source": [
        "Os parâmetros de função também podem receber argumentos padrões, que só precisam ser especificados quando você quiser um valor além do padrão:"
      ],
      "metadata": {
        "id": "bfx_6W0bMWi4"
      }
    },
    {
      "cell_type": "code",
      "source": [
        "def my_print(message=\"my default message\"): print(message)\n",
        "\n",
        "my_print(\"hello\") # exibe 'hello'\n",
        "my_print() # exibe 'my default message'"
      ],
      "metadata": {
        "id": "uUNejOWgMYAW"
      },
      "execution_count": null,
      "outputs": []
    },
    {
      "cell_type": "markdown",
      "source": [
        "Às vezes é útil especificar argumentos pelo nome:"
      ],
      "metadata": {
        "id": "In2UWo8QMi2j"
      }
    },
    {
      "cell_type": "code",
      "source": [
        "def subtract(a = 1, b = 8): return a - b\n",
        "\n",
        "x = subtract(10, 5) # retorna 5\n",
        "y = subtract(0, 5) # retorna -5\n",
        "z = subtract(b = 5) # retorna -4\n",
        "v = subtract(a = 3) # retorna -5\n",
        "w = subtract() # retorna -7\n",
        "\n",
        "print(x,y,z,v,w)"
      ],
      "metadata": {
        "id": "rEdQdzfsMqls"
      },
      "execution_count": null,
      "outputs": []
    },
    {
      "cell_type": "markdown",
      "source": [
        "### 2.1.5. Strings"
      ],
      "metadata": {
        "id": "tWYEdnUII4Ff"
      }
    },
    {
      "cell_type": "markdown",
      "source": [
        "As strings podem ser delimitadas por aspas simples ou duplas (mas elas devem combinar).\n",
        "\n",
        "O Python usa a barra invertida para codificar caracteres especiais. Se você quiser barras invertidas como barras invertidas (que você vê nos nomes dos diretórios ou expressões regulares no Windows), você pode criar uma string bruta usando $r\"\"$:\n",
        "\n",
        "Você pode criar strings múltiplas usando aspas triplas ou duplas:"
      ],
      "metadata": {
        "id": "3OykD1vPNdEA"
      }
    },
    {
      "cell_type": "code",
      "source": [
        "single_quoted_string = 'data science'\n",
        "double_quoted_string = \"data science\"\n",
        "\n",
        "tab_string = \"texto, texto, texto, antes ... \\t ... depois mais texto (notou o tab?)\" #representa o caractere tab\n",
        "print(tab_string)\n",
        "\n",
        "not_tab_string = r\"\\t\" # representa os caracteres '\\' e 't'\n",
        "len(tab_string) #é1\n",
        "print(not_tab_string)\n",
        "\n",
        "multi_line_string = \"\"\"esta é a primeira linha.\n",
        "e esta é a segunda\n",
        "e esta é a terceira\"\"\"\n",
        "print(multi_line_string)"
      ],
      "metadata": {
        "id": "EU6rPE0SNWHw"
      },
      "execution_count": null,
      "outputs": []
    },
    {
      "cell_type": "markdown",
      "source": [
        "### 2.1.6. Exceções"
      ],
      "metadata": {
        "id": "wUUtRvwlOoCd"
      }
    },
    {
      "cell_type": "markdown",
      "source": [
        "Quando algo dá errado, o Python exibe uma exceção. Se não for manipulada, o programa travará. Você pode manipulá-las usando try e except. Apesar de serem consideradas ruins em muitas linguagens, as exceções são\n",
        "usadas livremente no Python para dar uma limpeza no código e, ocasionalmente, faremos o mesmo."
      ],
      "metadata": {
        "id": "ANU2RBqQO8nx"
      }
    },
    {
      "cell_type": "code",
      "source": [
        "try:\n",
        "  print(0 / 0)\n",
        "except ZeroDivisionError:\n",
        "  print(\"cannot divide by zero\")"
      ],
      "metadata": {
        "id": "gDOZ_qcNO1sl"
      },
      "execution_count": null,
      "outputs": []
    },
    {
      "cell_type": "markdown",
      "source": [
        "### 2.1.7. Listas"
      ],
      "metadata": {
        "id": "GmkzeadrP6GX"
      }
    },
    {
      "cell_type": "markdown",
      "source": [
        "Provavelmente, a estrutura de dados mais básica em Python é a list. Uma lista é apenas uma coleção ordenada. É parecida com o array das outras linguagens, mas com algumas funcionalidades a mais."
      ],
      "metadata": {
        "id": "GJfWPo0JQPBc"
      }
    },
    {
      "cell_type": "code",
      "source": [
        "#tipos de lista\n",
        "integer_list = [1, 2, 3]\n",
        "heterogeneous_list = [\"string\", 0.1, True]\n",
        "list_of_lists = [ integer_list, heterogeneous_list, [] ]\n",
        "\n",
        "#métodos úteis\n",
        "list_length = len(integer_list) # é igual a 3\n",
        "list_sum = sum(integer_list) # é igual a 6\n",
        "print(list_sum, list_length)"
      ],
      "metadata": {
        "id": "u8X6Z6JfQY4Q"
      },
      "execution_count": null,
      "outputs": []
    },
    {
      "cell_type": "markdown",
      "source": [
        "Você pode ter ou configurar o elemento n-ésimo de uma lista com colchetes:"
      ],
      "metadata": {
        "id": "vsqQm23KQhuD"
      }
    },
    {
      "cell_type": "code",
      "source": [
        "x = list(range(10)) # é a lista [0, 1, ..., 9]\n",
        "print(x)\n",
        "\n",
        "zero = x[0] # é igual a 0, as listas são indexadas a partir de 0\n",
        "one = x[1] # é igual a 1\n",
        "nine = x[-1] # é igual a 9, 'Pythonic' para o último elemento\n",
        "eight = x[-2] # é igual a 8, 'Pythonic' para o anterior ao último elemento\n",
        "\n",
        "x[0] = -1 # agora x é [-1, 1, 2, 3, ..., 9]\n",
        "print(x)"
      ],
      "metadata": {
        "id": "30n1HqDhQoWQ"
      },
      "execution_count": null,
      "outputs": []
    },
    {
      "cell_type": "markdown",
      "source": [
        "Você também pode usar os colchetes para repartir as listas:"
      ],
      "metadata": {
        "id": "SoDFtkkeQ0Gi"
      }
    },
    {
      "cell_type": "code",
      "source": [
        "x = list(range(10)) # é a lista [0, 1, ..., 9]\n",
        "first_three = x[:3] # [-1, 1, 2]\n",
        "three_to_end = x[3:] # [3, 4, ..., 9]\n",
        "one_to_four = x[1:5] # [1, 2, 3, 4]\n",
        "last_three = x[-3:] # [7, 8, 9]\n",
        "without_first_and_last = x[1:-1] # [1, 2, ..., 8]\n",
        "copy_of_x = x[:] # [-1, 1, 2, ..., 9]\n",
        "\n",
        "print(x)\n",
        "print(first_three)\n",
        "print(three_to_end)\n",
        "print(one_to_four)\n",
        "print(last_three)\n",
        "print(without_first_and_last)\n",
        "print(copy_of_x)"
      ],
      "metadata": {
        "id": "zd4gYV6pQ0-e"
      },
      "execution_count": null,
      "outputs": []
    },
    {
      "cell_type": "markdown",
      "source": [
        "O Python possui o operador in para verificar a associação à lista. Essa verificação envolve examinar os elementos de uma lista um de cada vez, o que significa que você provavelmente não deveria usá-la a menos que você saiba\n",
        "que sua lista é pequena (ou a menos que você não se importe em quanto tempo a verificação durará)."
      ],
      "metadata": {
        "id": "lJlslosCRWE3"
      }
    },
    {
      "cell_type": "code",
      "source": [
        "stat_a = 1 in [1, 2, 3] # Verdadeiro\n",
        "stat_b = 0 in [1, 2, 3] # Falso\n",
        "\n",
        "print(stat_a)\n",
        "print(stat_b)"
      ],
      "metadata": {
        "id": "sydDoGFARXsF"
      },
      "execution_count": null,
      "outputs": []
    },
    {
      "cell_type": "markdown",
      "source": [
        "É fácil concatenar as listas juntas:"
      ],
      "metadata": {
        "id": "RcYiC1q5Vl7Z"
      }
    },
    {
      "cell_type": "code",
      "source": [
        "# alterando/extendendo a lista original\n",
        "x = [1,2,3]\n",
        "x.extend([4,5,6])\n",
        "print(x)\n",
        "\n",
        "# preservando a lista original\n",
        "x = [1,2,3]\n",
        "y = x + [4,5,6]\n",
        "print(x)\n",
        "print(y)\n",
        "\n",
        "# anexandp um itens ao final da lista\n",
        "x = [1,2,3]\n",
        "x.append(0)\n",
        "print(x)"
      ],
      "metadata": {
        "id": "sW-EcJaDVp14"
      },
      "execution_count": null,
      "outputs": []
    },
    {
      "cell_type": "markdown",
      "source": [
        "Às vezes é conveniente desfazer as listas se você sabe quantos elementos elas\n",
        "possuem. apesar de que você receberá um ValueError se não tiver os mesmos números de\n",
        "elementos dos dois lados."
      ],
      "metadata": {
        "id": "Ht3HVB0fprno"
      }
    },
    {
      "cell_type": "code",
      "source": [
        "# para guardar as posições da lista em um conjuto de variáveis é preciso conhecer o comprimento da lista\n",
        "lista = [1,2,3]\n",
        "x,y,_ = lista\n",
        "\n",
        "# é comum usar um sublinhado para um valor que você descartará:\n",
        "\n",
        "print(x)\n",
        "print(y)\n",
        "print(_) # esse não importa\n",
        "print(lista)"
      ],
      "metadata": {
        "id": "L534xqbDp2uI"
      },
      "execution_count": null,
      "outputs": []
    },
    {
      "cell_type": "markdown",
      "source": [
        "### 2.1.8. Tuplas"
      ],
      "metadata": {
        "id": "g4WFpKU6P9r3"
      }
    },
    {
      "cell_type": "markdown",
      "source": [
        "São as primas imutáveis das listas. Quase tudo que você pode fazer com uma lista, que não envolva modificá-la, é possível ser feito em uma tupla. Você especifica uma tupla ao usar parênteses (ou nada) em vez de colchetes:"
      ],
      "metadata": {
        "id": "iUT2qnYVqoyw"
      }
    },
    {
      "cell_type": "code",
      "source": [
        "my_list = [1,2] #criando lista\n",
        "my_tuple = (1,2) #criando tupla\n",
        "\n",
        "my_list[1] = 3 #listas são mutáveis\n",
        "\n",
        "#tuplas são imutáveis\n",
        "try:\n",
        "  my_tuple[1] = 3\n",
        "except TypeError:\n",
        "  print(\"Não se pode modificar uma tupla\")"
      ],
      "metadata": {
        "id": "Y1aFJz0dqxB1"
      },
      "execution_count": null,
      "outputs": []
    },
    {
      "cell_type": "markdown",
      "source": [
        "As tuplas são uma maneira eficaz de retornar múltiplos valores a partir das funções:"
      ],
      "metadata": {
        "id": "Hf5O4FQZrR82"
      }
    },
    {
      "cell_type": "code",
      "source": [
        "def sum_and_product(x, y):\n",
        "  return (x + y), (x * y) #tem duas saídas\n",
        "\n",
        "sp = sum_and_product(2,3) #a saída é a tupla (2+3, 2*3) = (5, 6)\n",
        "s,p = sum_and_product(2,3) #as saídas são s = 5 e p = 6, aqui usamos atribuição múltipla\n",
        "\n",
        "print(sp)\n",
        "print(s)\n",
        "print(p)"
      ],
      "metadata": {
        "id": "8Dc7KwrmrT6Q"
      },
      "execution_count": null,
      "outputs": []
    },
    {
      "cell_type": "markdown",
      "source": [
        "As tuplas (e listas) também podem ser usadas para atribuições múltiplas:"
      ],
      "metadata": {
        "id": "b5Tw4S2usOmu"
      }
    },
    {
      "cell_type": "code",
      "source": [
        "#atribuição múltipla\n",
        "tupla_1 = (x,y) = 1,2\n",
        "print(x,y)\n",
        "print(tupla_1)\n",
        "\n",
        "#troca valores\n",
        "x,y = y,x\n",
        "print(x,y)"
      ],
      "metadata": {
        "id": "qfYRquRJsQuZ"
      },
      "execution_count": null,
      "outputs": []
    },
    {
      "cell_type": "markdown",
      "source": [
        "### 2.1.9. Dicionários"
      ],
      "metadata": {
        "id": "cbyPJR07P_N3"
      }
    },
    {
      "cell_type": "markdown",
      "source": [
        "Outra estrutura fundamental é um dicionário, que associa valores com chaves e permite que você recupere o valor correspondente de uma dada chave\n",
        "rapidamente:"
      ],
      "metadata": {
        "id": "YGq4GZrSss-Q"
      }
    },
    {
      "cell_type": "code",
      "source": [
        "empty_dict = {} #cria dicionário vazio\n",
        "empty_dict2 = dict() #outro jeito de criar um dicionário\n",
        "pontos = {'joel':80,'tim':95} #criando dicionário manualmente\n",
        "\n",
        "#procurando o valor pela chave\n",
        "pontuacao_joel = pontos['joel']\n",
        "pontuacao_tim = pontos['tim']\n",
        "print(pontuacao_joel)\n",
        "print(pontuacao_tim)\n",
        "\n",
        "#procurar por chaves que não existem retorna erro\n",
        "try:\n",
        "  pontuacao_kate = pontos['kate']\n",
        "  print(pontuacao_kate)\n",
        "except KeyError:\n",
        "  print('chave não encontrada!')\n",
        "\n",
        "#podemos verificar se uma chave existe no dicionário\n",
        "stat_a = 'joel' in pontos\n",
        "print(stat_a)\n",
        "\n",
        "stat_b = 'kate' in pontos\n",
        "print(stat_b)"
      ],
      "metadata": {
        "id": "eS8m2_G2svU1"
      },
      "execution_count": null,
      "outputs": []
    },
    {
      "cell_type": "markdown",
      "source": [
        "Os dicionários possuem o método get que retorna um valor padrão (em vez de levantar uma exceção) quando você procura por uma chave que não esteja no\n",
        "dicionário:"
      ],
      "metadata": {
        "id": "vqz0Q5ihuhiV"
      }
    },
    {
      "cell_type": "code",
      "source": [
        "pontuacao_joel = pontos.get('joel',0) #como a chave 'joel' existe seu valor será retornado\n",
        "print(pontuacao_joel)\n",
        "\n",
        "pontuacao_kate = pontos.get('kate',0) #como a chave 'kate' não existe o valor retornado será zero\n",
        "print(pontuacao_kate)"
      ],
      "metadata": {
        "id": "S4HgV02Tu6-H"
      },
      "execution_count": null,
      "outputs": []
    },
    {
      "cell_type": "markdown",
      "source": [
        "Podemos atribuir/sobrescrever pales de chave-valor usando os colchetes, tal qual é feito com as listas. Para remover valores usamos nome_dicionario.pop(nome_da_chave)\n"
      ],
      "metadata": {
        "id": "mZf1V87o0EJZ"
      }
    },
    {
      "cell_type": "code",
      "source": [
        "pontos = {'joel':80,'tim':95} #criando dicionário manualmente\n",
        "print(pontos)\n",
        "\n",
        "pontos['kate'] = 100 #finalmente adicionamos a kate\n",
        "print(pontos)\n",
        "\n",
        "pontos['josh'], pontos['marcus'] = 25, 39 #usando atribuição múltipla\n",
        "print(pontos)\n",
        "\n",
        "pontos.pop('tim') #removendo a chave 'tim'\n",
        "print(pontos)\n",
        "\n",
        "pontos['joel'] = 70 #mudando a pontuação de 'joel'\n",
        "print(pontos)\n",
        "\n",
        "num_students = len(pontos)\n",
        "print(num_students)"
      ],
      "metadata": {
        "id": "CNah9eKG0QaJ"
      },
      "execution_count": null,
      "outputs": []
    },
    {
      "cell_type": "markdown",
      "source": [
        "Frequentemente usaremos dicionários como uma simples maneira de representar dados estruturados:"
      ],
      "metadata": {
        "id": "O0eTqnXo11Pj"
      }
    },
    {
      "cell_type": "code",
      "source": [
        "tweet = {\n",
        "\"user\" : \"joelgrus\",\n",
        "\"text\" : \"Data Science is Awesome\",\n",
        "\"retweet_count\" : 100,\n",
        "\"hashtags\" : [\"#data\", \"#science\", \"#datascience\", \"#awesome\", \"#yolo\"]\n",
        "}\n",
        "print(tweet)"
      ],
      "metadata": {
        "id": "7AqlgimM13yU"
      },
      "execution_count": null,
      "outputs": []
    },
    {
      "cell_type": "markdown",
      "source": [
        "Além de procurar por chaves específicas, podemos olhar para todas elas:"
      ],
      "metadata": {
        "id": "5HZvoaad2Aut"
      }
    },
    {
      "cell_type": "code",
      "source": [
        "tweet_keys = tweet.keys() # lista de chaves\n",
        "print(tweet_keys)\n",
        "\n",
        "tweet_values = tweet.values() # lista de valores-chave\n",
        "print(tweet_values)\n",
        "\n",
        "tweet_items = tweet.items() # lista de (chave, valor) tuplas\n",
        "print(tweet_items)\n",
        "\n",
        "print(\"user\" in tweet_keys) # Verdadeiro, mas usa list in, mais lento\n",
        "print(\"user\" in tweet) # mais Pythonic, usa dict in, mais rápido\n",
        "print(\"joelgrus\" in tweet_values) # Verdadeiro"
      ],
      "metadata": {
        "id": "9ELfJGnz2Crp"
      },
      "execution_count": null,
      "outputs": []
    },
    {
      "cell_type": "markdown",
      "source": [
        "As chaves dos dicionários devem ser imutáveis; particularmente, você não pode usar lists como chaves. Se você precisar de uma chave multipart, você deveria usar uma tuple ou descobrir uma forma de transformar uma chave em uma string."
      ],
      "metadata": {
        "id": "Y_cDCVzC25wR"
      }
    },
    {
      "cell_type": "markdown",
      "source": [
        "#### defaultdict"
      ],
      "metadata": {
        "id": "rtOSUe651aiG"
      }
    },
    {
      "cell_type": "markdown",
      "source": [
        "Imagine que você esteja tentando contar as palavras em um documento.\n",
        "- Um método claro é criar um dicionário no qual as chaves são palavras e os valores são contagens. Conforme você vai verificando cada palavra, você pode incrementar sua contagem se ela já estiver no dicionário e adicioná-la no dicionário se não estiver.\n",
        "\n",
        "- Você também poderia usar o método “perdão é melhor do que permissão” e apenas manipular a exceção a partir da tentativa de procurar pela chave perdida.\n",
        "\n",
        "- Uma terceira abordagem é usar get, que se comporta muito bem com as chaves\n",
        "perdidas."
      ],
      "metadata": {
        "id": "MA-bvXGu3vxm"
      }
    },
    {
      "cell_type": "code",
      "source": [
        "#criando arquivo\n",
        "%%writefile musica.txt\n",
        "Roda Viva\n",
        "Chico Buarque\n",
        "\n",
        "Tem dias que a gente se sente\n",
        "Como quem partiu ou morreu\n",
        "A gente estancou de repente\n",
        "Ou foi o mundo então que cresceu\n",
        "A gente quer ter voz ativa\n",
        "No nosso destino mandar\n",
        "Mas eis que chega a roda viva\n",
        "E carrega o destino pra lá\n",
        "\n",
        "Roda mundo, roda-gigante\n",
        "Roda moinho, roda pião\n",
        "\n",
        "O tempo rodou num instante\n",
        "Nas voltas do meu coração\n",
        "A gente vai contra a corrente\n",
        "Até não poder resistir\n",
        "Na volta do barco é que sente\n",
        "O quanto deixou de cumprir\n",
        "Faz tempo que a gente cultiva\n",
        "A mais linda roseira que há\n",
        "Mas eis que chega a roda viva\n",
        "E carrega a roseira pra lá\n",
        "\n",
        "Roda mundo, roda-gigante\n",
        "Roda moinho, roda pião"
      ],
      "metadata": {
        "id": "z1hQLAqw8OuD"
      },
      "execution_count": null,
      "outputs": []
    },
    {
      "cell_type": "code",
      "source": [
        "#definindo a função que lê o arquivo de texto e transforma\n",
        "def doc_read(nome_doc: str):\n",
        "  with open(nome_doc, mode='r', encoding='utf-8') as arquivo:\n",
        "    conteudo = []\n",
        "    for linha in arquivo: # Itera sobre cada linha do arquivo\n",
        "      palavras = linha.strip().split()  # Remove espaços e divide a linha em palavras e salva na lista palavras\n",
        "      conteudo.extend(palavras)  # Adiciona todas as palavras à lista conteudo\n",
        "\n",
        "  return conteudo\n",
        "\n",
        "#chamando a função para teste e salvando em uma variável list \"documento\"\n",
        "documento = doc_read('musica.txt')\n",
        "\n",
        "#criando dicionário de contagem de palavras\n",
        "contagem_palavras = {}\n",
        "\n",
        "# contando palavras com if/else\n",
        "for palavra in documento:\n",
        "  if palavra in contagem_palavras:\n",
        "    contagem_palavras[palavra] += 1\n",
        "  else:\n",
        "    contagem_palavras[palavra] = 1\n",
        "\n",
        "# contando palavras com try/except\n",
        "for palavra in documento:\n",
        "  try:\n",
        "    contagem_palavras[palavra] += 1\n",
        "  except:\n",
        "    contagem_palavras[palavra] = 1\n",
        "\n",
        "# contando palavras com .get()\n",
        "for palavra in documento:\n",
        "  contagem_antes = contagem_palavras.get(palavra,0) #verifica se a chave \"palavra\" já existe, caso sim, retorna sua contagem, caso não, retorna 0\n",
        "  contagem_palavras[palavra] = contagem_antes + 1 #adiciona +1 à contagem anterior da chave \"palavra\"word_counts = {}\n",
        "\n",
        "#exibe dicionário atualizado\n",
        "print(contagem_palavras)\n",
        "for chave, valor in contagem_palavras.items():\n",
        "  print(f'{chave}:{valor}')"
      ],
      "metadata": {
        "id": "X2fAWJ9i8fVz",
        "collapsed": true
      },
      "execution_count": null,
      "outputs": []
    },
    {
      "cell_type": "markdown",
      "source": [
        "Tudo isso é levemente complicado, por isso o defaultdict é útil. Um defaultdict é como um dicionário comum, exceto que, quando você tenta procurar por uma chave que ele não possui, ele primeiro adiciona um valor para ela usando a\n",
        "função de argumento zero que você forneceu ao criá-lo. Para usar defaultdicts, você tem que importá-los das collections:"
      ],
      "metadata": {
        "id": "FgzNYmMFX1AE"
      }
    },
    {
      "cell_type": "code",
      "source": [
        "from collections import defaultdict\n",
        "\n",
        "contagem_palavras = defaultdict(int)\n",
        "\n",
        "for palavra in documento:\n",
        "  contagem_palavras[palavra] += 1\n",
        "\n",
        "print(contagem_palavras)"
      ],
      "metadata": {
        "id": "_ecch72gX6dt"
      },
      "execution_count": null,
      "outputs": []
    },
    {
      "cell_type": "markdown",
      "source": [
        "Eles também podem ser úteis com list ou dict ou até mesmo com suas próprias funções. Isso será útil quando você usar dicionários para “coletar” resultados por alguma chave e não quiser verificar toda vez para ver se ela ainda existe."
      ],
      "metadata": {
        "id": "-Sdx0e7sYQJf"
      }
    },
    {
      "cell_type": "code",
      "source": [
        "dd_list = defaultdict(list) # list() produz uma lista vazia\n",
        "dd_list[2].append(1) # agora dd_list contém {2: [1]}\n",
        "dd_list[3].append(4) # agora dd_list contém {2: [1], 3: [4]}\n",
        "print(dd_list)\n",
        "\n",
        "dd_dict = defaultdict(dict) # dict() produz um dict vazio\n",
        "dd_dict[\"Joel\"][\"City\"] = \"Seattle\" # { \"Joel\" : { \"City\" : Seattle\"}}\n",
        "\n",
        "dd_pair = defaultdict(lambda: [0, 0])\n",
        "dd_pair[2][1] = 1  # agora dd_pair contêm {2: [0,1]}"
      ],
      "metadata": {
        "id": "zsqyGFY0YTGu"
      },
      "execution_count": null,
      "outputs": []
    },
    {
      "cell_type": "markdown",
      "source": [
        "#### Counter"
      ],
      "metadata": {
        "id": "LPZ4Y5e31g6C"
      }
    },
    {
      "cell_type": "markdown",
      "source": [
        "O módulo collections da biblioteca padrão do Python oferece várias estruturas de dados de contêineres especializadas. Uma das mais úteis é a classe Counter, que é usada para contar elementos hasháveis (por exemplo, números, strings, etc.). Counter é uma subclasse do dicionário que facilita a contagem de elementos hasháveis. Ele conta automaticamente o número de ocorrências de cada elemento. Você pode criar um Counter de várias maneiras, como a partir de uma lista, string, ou outro iterável."
      ],
      "metadata": {
        "id": "g-nPyVK3YoyH"
      }
    },
    {
      "cell_type": "code",
      "source": [
        "# a partir de uma lista\n",
        "from collections import Counter\n",
        "\n",
        "# Lista de elementos\n",
        "lista = ['a', 'b', 'c', 'a', 'b', 'a']\n",
        "\n",
        "# Criação do Counter\n",
        "contador = Counter(lista)\n",
        "\n",
        "print(contador)"
      ],
      "metadata": {
        "id": "cpdBy-r812F2"
      },
      "execution_count": null,
      "outputs": []
    },
    {
      "cell_type": "code",
      "source": [
        "# a partir de uma string\n",
        "from collections import Counter\n",
        "\n",
        "# String\n",
        "string = \"abracadabra\"\n",
        "\n",
        "# Criação do Counter\n",
        "contador = Counter(string)\n",
        "\n",
        "print(contador)\n",
        "\n",
        "# podemos acessar a contagem de um elemento específico\n",
        "print(contador['a'])  # Saída: 5"
      ],
      "metadata": {
        "id": "W9ChEXWs2Chs"
      },
      "execution_count": null,
      "outputs": []
    },
    {
      "cell_type": "markdown",
      "source": [
        "Modos úteis do counter"
      ],
      "metadata": {
        "id": "c4BmkoRe2tD0"
      }
    },
    {
      "cell_type": "code",
      "source": [
        "# elements(): Retorna um iterador sobre os elementos do Counter.\n",
        "elementos = list(contador.elements())\n",
        "print(elementos)\n",
        "\n",
        "# most_common([n]): Retorna uma lista dos n elementos mais comuns e suas contagens a partir do mais comum.\n",
        "mais_comuns = contador.most_common(2)\n",
        "print(mais_comuns)\n",
        "\n",
        "# subtract([iterable-or-mapping]): Subtrai elementos de um iterável ou mapeamento (sem contar negativos).\n",
        "subtracao = Counter(a=4, b=2, c=0, d=-2)\n",
        "contador.subtract(subtracao)\n",
        "print(contador)"
      ],
      "metadata": {
        "id": "rIXZNpfE2IMo"
      },
      "execution_count": null,
      "outputs": []
    },
    {
      "cell_type": "markdown",
      "source": [
        "Isso nos mostra uma forma simples de resolver nosso problema de contagem de palavras:"
      ],
      "metadata": {
        "id": "JJo27KPPe2GR"
      }
    },
    {
      "cell_type": "code",
      "source": [
        "contagem_palavras = Counter(documento)\n",
        "print(contagem_palavras)"
      ],
      "metadata": {
        "id": "hP8iLOQ2e5En"
      },
      "execution_count": null,
      "outputs": []
    },
    {
      "cell_type": "markdown",
      "source": [
        "### 2.1.10. Conjuntos"
      ],
      "metadata": {
        "id": "8Eus4ceRQDWA"
      }
    },
    {
      "cell_type": "markdown",
      "source": [
        "Outra estrutura de dados é o set (conjunto), que representa uma coleção de elementos distintos:"
      ],
      "metadata": {
        "id": "-VKrKUcV7QQm"
      }
    },
    {
      "cell_type": "code",
      "source": [
        "s = set() #cria conjunto vazio\n",
        "print(s)\n",
        "\n",
        "s.add(1) #adiciona 1 ao set\n",
        "s.add(2) #adiciona 2 ao set\n",
        "s.add(2) #não é possível adicionar elementos repetidos ao conjunto\n",
        "print(s)\n",
        "\n",
        "print(len(s)) #tamanho do conjunto\n",
        "print(2 in s) #2 está em s\n",
        "print(3 in s) #3 não está em s"
      ],
      "metadata": {
        "id": "gGtpAB9s-pM5"
      },
      "execution_count": null,
      "outputs": []
    },
    {
      "cell_type": "markdown",
      "source": [
        "Usaremos os conjuntos por duas razões principais. A primeira é que in é uma operação muito rápida em conjuntos. Se tivermos uma grande coleção de itens\n",
        "que queiramos usar para um teste de sociedade, um conjunto é mais adequado do que uma lista.\n",
        "\n",
        "- **List:** Verificar se um elemento está em uma lista (list) envolve uma busca linear (O(n)), onde n é o número de elementos na lista. Isso significa que, no pior caso, o tempo de busca é proporcional ao número de elementos.\n",
        "\n",
        "- **Set:** Verificar se um elemento está em um conjunto (set) envolve uma busca constante (O(1)), devido à implementação interna baseada em tabelas hash. Isso significa que o tempo de busca é geralmente independente do número de elementos."
      ],
      "metadata": {
        "id": "L1oGIC5y_oIB"
      }
    },
    {
      "cell_type": "code",
      "source": [
        "lista = [x for x in range(0,100000)]\n",
        "print(lista)\n",
        "\n",
        "#verificando lista O(n)\n",
        "print(\"zip\" in lista)  # Falso, mas tem que verificar todos os elementos\n",
        "\n",
        "#verificando set O(1)\n",
        "lista_set = set(lista) #Esta conversão é uma operação O(n), mas é realizada apenas uma vez.\n",
        "print(\"zip\" in lista_set)  # muito rápido para verificar"
      ],
      "metadata": {
        "id": "H2ZXP8Qc_2F-"
      },
      "execution_count": null,
      "outputs": []
    },
    {
      "cell_type": "markdown",
      "source": [
        "A segunda razão é encontrar os itens distintos em uma coleção:"
      ],
      "metadata": {
        "id": "rV7l67BjDiO2"
      }
    },
    {
      "cell_type": "code",
      "source": [
        "lista = [1,2,3,1,2,3]\n",
        "print(lista)\n",
        "print(len(lista))\n",
        "\n",
        "lista_set = set(lista)\n",
        "print(lista_set)\n",
        "print(len(lista_set))\n",
        "\n",
        "lista_itens_distintos = list(lista_set)"
      ],
      "metadata": {
        "id": "gUEorDpIDjEZ"
      },
      "execution_count": null,
      "outputs": []
    },
    {
      "cell_type": "markdown",
      "source": [
        "### 2.1.11. Controle de Fluxo"
      ],
      "metadata": {
        "id": "pDkE_ZY1QGly"
      }
    },
    {
      "cell_type": "markdown",
      "source": [
        "Como na maioria das linguagens de programação, você pode desempenhar uma ação condicionalmente usando if:"
      ],
      "metadata": {
        "id": "CJ8OllMwEolj"
      }
    },
    {
      "cell_type": "code",
      "source": [
        "if 1 > 2:\n",
        "  msg = \"if: 1 é maior que 2\"\n",
        "elif 1 > 3:\n",
        "  msg = \"elif, se: 1 é maior que 3\"\n",
        "else:\n",
        "  msg = \"else: quando todos os if e elifs falham\"\n",
        "\n",
        "print(msg)"
      ],
      "metadata": {
        "id": "ibFowD33Esgd"
      },
      "execution_count": null,
      "outputs": []
    },
    {
      "cell_type": "markdown",
      "source": [
        "Você também pode escrever um ternário if-then-else em uma linha, o que faremos ocasionalmente:"
      ],
      "metadata": {
        "id": "OF8G8YyjFcY6"
      }
    },
    {
      "cell_type": "code",
      "source": [
        "x = 11\n",
        "paridade = \"par\" if x%2 == 0 else \"ímpar\"\n",
        "print(f'{x} é {paridade}')"
      ],
      "metadata": {
        "id": "o9G1SMZOFfj1"
      },
      "execution_count": null,
      "outputs": []
    },
    {
      "cell_type": "markdown",
      "source": [
        "Python possui um loop while, embora usaremos mais for e in:"
      ],
      "metadata": {
        "id": "_12lKIyGF-Jf"
      }
    },
    {
      "cell_type": "code",
      "source": [
        "\n",
        "x = 0\n",
        "while x < 10:\n",
        "  print(x, 'é menor que 10 (usando while)')\n",
        "  x += 1\n",
        "\n",
        "for y in range(10):\n",
        "  print(y, 'é menor que 10 (usando for)')"
      ],
      "metadata": {
        "id": "_3JQULPDF7Wy"
      },
      "execution_count": null,
      "outputs": []
    },
    {
      "cell_type": "markdown",
      "source": [
        "Se você precisar de uma lógica mais complexa, pode usar continue e break:"
      ],
      "metadata": {
        "id": "9OIB6R60GqPO"
      }
    },
    {
      "cell_type": "code",
      "source": [
        "for z in range(10):\n",
        "  if z == 3:\n",
        "    continue #quando z = 3 vai para a próxima iteração imediatamente\n",
        "  if z == 5:\n",
        "    break #quando z = 5 sai do loop completamente\n",
        "  print(z)"
      ],
      "metadata": {
        "id": "qdo0F_VoGs_z"
      },
      "execution_count": null,
      "outputs": []
    },
    {
      "cell_type": "markdown",
      "source": [
        "### 2.1.12. Veracidade"
      ],
      "metadata": {
        "id": "Wpc2_AukQMS4"
      }
    },
    {
      "cell_type": "markdown",
      "source": [
        "Os Booleanos em Python funcionam como na maioria das linguagens, exceto que eles são iniciados por letras maiúsculas:"
      ],
      "metadata": {
        "id": "wnNIAgmyHE9-"
      }
    },
    {
      "cell_type": "code",
      "source": [
        "print(1 < 2) # é igual a True\n",
        "print(True == False) # é igual a False\n",
        "\n",
        "x = None\n",
        "print(x == None) # imprime True mas não é Pythonic\n",
        "print(x is None) # imprime True e é Pythonic"
      ],
      "metadata": {
        "id": "HMpOUInIHSGU"
      },
      "execution_count": null,
      "outputs": []
    },
    {
      "cell_type": "markdown",
      "source": [
        "O Python permite que você use qualquer valor que espera por um Booleano. Todos os exemplos a seguir são “Falsos”:\n",
        "\n",
        "- False\n",
        "- None\n",
        "- [] (uma list vazia)\n",
        "- {} (um dict vazio)\n",
        "- \"\"\n",
        "- set()\n",
        "- 0\n",
        "- 0.0\n",
        "\n",
        "Quase todo o restante pode ser tratado como True. Isso permite que você use declarações if para testar listas, strings ou dicionários vazios e assim por diante. Às vezes isso causa alguns pequenos bugs se você estiver esperando por este\n",
        "comportamento:"
      ],
      "metadata": {
        "id": "VmHAiMz-J2yI"
      }
    },
    {
      "cell_type": "code",
      "source": [
        "s = lambda x: \"uma_string\" #define a função lambda para obter a string INDEPENDENTE do valor passador\n",
        "result = s(None)  #Chama s usando o parametro \"None\" e isso retorna \"uma_string\", pois a função retorna isso INDEPENDENTE do parametro de entrada\n",
        "\n",
        "if result: #o resultado é TRUE, existe algo nele, no caso a string \"uma_string\"\n",
        "  first_char = result[0]\n",
        "else:\n",
        "  first_char = \"\"\n",
        "\n",
        "print(first_char)  # Saída: 'u'"
      ],
      "metadata": {
        "id": "mIZ3KJiIKogW"
      },
      "execution_count": null,
      "outputs": []
    },
    {
      "cell_type": "markdown",
      "source": [
        "Uma forma mais simples de fazer o mesmo é:\n",
        "```\n",
        "first_char = s and s[0]\n",
        "```\n",
        "já que and retorna seu segundo valor quando o primeiro é “verdadeiro”, ou o primeiro valor quando não é. Da mesma forma, se x é um número ou,possivelmente, None:\n",
        "```\n",
        "safe_x = x or 0\n",
        "```\n",
        "definitivamente é um número."
      ],
      "metadata": {
        "id": "uPniVGyAMeYv"
      }
    },
    {
      "cell_type": "markdown",
      "source": [
        "Python possui uma função all, que pega uma lista e retorna True precisamente quando todos os elementos forem verdadeiros, e uma função any, que retorna True quando pelo menos um elemento é verdadeiro:"
      ],
      "metadata": {
        "id": "Ev-gC70pKVqL"
      }
    },
    {
      "cell_type": "code",
      "source": [
        "print(all([True, 1, { 3 }])) # True\n",
        "print(all([True, 1, {}])) # False, {} é falso\n",
        "print(any([True, 1, {}])) # True, True é verdadeiro\n",
        "print(all([])) # True, sem elementos falsos na lista\n",
        "print(any([])) # False, sem elementos verdadeiros na lista"
      ],
      "metadata": {
        "id": "RG51q0uvKbZa"
      },
      "execution_count": null,
      "outputs": []
    },
    {
      "cell_type": "markdown",
      "source": [
        "## 2.2. Não Tão Básico"
      ],
      "metadata": {
        "id": "YYErcAr_MtTX"
      }
    },
    {
      "cell_type": "markdown",
      "source": [
        "### 2.2.1. Ordenação"
      ],
      "metadata": {
        "id": "ln8RLAzBM9R1"
      }
    },
    {
      "cell_type": "markdown",
      "source": [
        "Toda lista de Python possui um método sort que ordena seu espaço. Se você não quer sobrescrever sua lista, você pode usar a função sorted, que retornam uma lista nova. Por padrão, sort (e sorted) organizam uma lista da menor para a maior baseada em uma comparação ingênua de elementos uns com os outros."
      ],
      "metadata": {
        "id": "d4RsvuYRgxkW"
      }
    },
    {
      "cell_type": "code",
      "source": [
        "x = [4,1,2,5,3] #lista original desordenada\n",
        "print(x)\n",
        "y = sorted(x) #ordena e salva em outra variável\n",
        "print(y)\n",
        "x.sort() #ordena a lista x sobrescrevendo-a\n",
        "print(x)"
      ],
      "metadata": {
        "id": "vH43dox3g8MQ"
      },
      "execution_count": null,
      "outputs": []
    },
    {
      "cell_type": "markdown",
      "source": [
        "Se você quer que os elementos sejam organizados do maior para o menor, você pode especificar o parâmetro reverse=True. E, em vez de comparar os elementos com eles mesmos, compare os resultados da função que você especificar com key:"
      ],
      "metadata": {
        "id": "m1yeJ29yhtOB"
      }
    },
    {
      "cell_type": "code",
      "source": [
        "# organiza a lista pelo módulo do maior para o menor\n",
        "x = sorted([-4,1,-2,3], key=abs, reverse=True) # is [-4,3,-2,1]\n",
        "# organiza as palavras e contagens da mais alta para a mais baixa\n",
        "wc = sorted(contagem_palavras.items(), key=lambda (palavra, contador): contador, reverse=True)"
      ],
      "metadata": {
        "collapsed": true,
        "id": "GIQ9Eoy6hwKw"
      },
      "execution_count": null,
      "outputs": []
    },
    {
      "cell_type": "markdown",
      "source": [
        "### 2.2.2. Compreensão de Listas"
      ],
      "metadata": {
        "id": "xvKEX5_MM_2Z"
      }
    },
    {
      "cell_type": "markdown",
      "source": [
        "Com frequência, você vai querer transformar uma lista em outra, escolhendo apenas alguns elementos, transformando tais elementos ou ambos. O modo Pythonic de fazer isso são as compreensões de lista:"
      ],
      "metadata": {
        "id": "7gaWIEMvjlZ3"
      }
    },
    {
      "cell_type": "code",
      "source": [
        "num_pares = [x for x in range(10) if x%2 == 0]\n",
        "print(num_pares)\n",
        "\n",
        "quadrados = [x**2 for x in range(5)]\n",
        "print(quadrados)\n",
        "\n",
        "quadrados_pares = [x**2 for x in num_pares]\n",
        "print(quadrados_pares)"
      ],
      "metadata": {
        "id": "5rnk_8-tjw1J"
      },
      "execution_count": null,
      "outputs": []
    },
    {
      "cell_type": "markdown",
      "source": [
        "O mesmo pode ser feito para dicionários:"
      ],
      "metadata": {
        "id": "bkLqOqTMl8BE"
      }
    },
    {
      "cell_type": "code",
      "source": [
        "quadrados_dict = {x: x**2 for x in range(5)}\n",
        "print(quadrados_dict)\n",
        "\n",
        "quadrados_set = {x**2 for x in [-2, -1, 0, 1, 2, 3]}\n",
        "print(quadrados_set)"
      ],
      "metadata": {
        "id": "gnyfIOPkmBtA"
      },
      "execution_count": null,
      "outputs": []
    },
    {
      "cell_type": "markdown",
      "source": [
        "Uma compreensão de lista pode incluir múltiplos for:"
      ],
      "metadata": {
        "id": "CcB-EYpInBCx"
      }
    },
    {
      "cell_type": "code",
      "source": [
        "pares_ord = [(x,y) for x in range (10) for y in range(10)]\n",
        "print(pares_ord)\n",
        "\n",
        "pares_ord_incrementados = [(x,y) for x in range(10) for y in range(x+1, 10)]\n",
        "print(pares_ord_incrementados)"
      ],
      "metadata": {
        "id": "faY4X28tnCsu"
      },
      "execution_count": null,
      "outputs": []
    },
    {
      "cell_type": "markdown",
      "source": [
        "### 2.2.3. Geradores e iteradores"
      ],
      "metadata": {
        "id": "wNf4ar_2NEns"
      }
    },
    {
      "cell_type": "markdown",
      "source": [
        "Um problema com as listas é que elas podem crescer sem parar facilmente. range(1000000) cria uma lista com um milhão de elementos. Se você apenas precisa lidar com eles um de cada vez, isso pode ser uma fonte infinita de ineficiência (ou esgotamento de memória). Se você precisar de poucos valores, calcular\n",
        "todos seria uma perda de tempo.\n",
        "Um gerador é algo sobre o qual você pode iterar (para nós, geralmente usando for) mas cujos valores são produzidos apenas quando necessários\n",
        "(preguiçosamente)."
      ],
      "metadata": {
        "id": "5tbnRVi2n6eo"
      }
    },
    {
      "cell_type": "code",
      "source": [
        "#Uma forma de criar geradores é com funções e o operador yield:\n",
        "def lazy_range(n):\n",
        "  \"Uma versão preguiçosa do range\"\n",
        "  i = 0\n",
        "  while i < n:\n",
        "    yield i\n",
        "    i += 1\n",
        "\n",
        "# O loop a seguir consumirá os valores yield um de cada vez até não sobrar mais nenhum:\n",
        "for i in lazy_range(10):\n",
        "  print(i**2)"
      ],
      "metadata": {
        "collapsed": true,
        "id": "NguDl2aIoFKq"
      },
      "execution_count": null,
      "outputs": []
    },
    {
      "cell_type": "markdown",
      "source": [
        "(O Python geralmente vem com uma função lazy_range chamada xrange e, em Python 3, range é, em si, preguiçoso (lazy).) Isso significa que você poderia criar uma sequência infinita embora você não deveria iterar sobre ela sem usar algum tipo de lógica break."
      ],
      "metadata": {
        "id": "e_cays4O3UZ1"
      }
    },
    {
      "cell_type": "code",
      "source": [
        "def natural_numbers():\n",
        "  \"retorna 1,2,3,...\"\n",
        "  n = 1\n",
        "  while True:\n",
        "    yield n\n",
        "    n += 1\n",
        ""
      ],
      "metadata": {
        "id": "JqK5gnhD3YMB"
      },
      "execution_count": null,
      "outputs": []
    },
    {
      "cell_type": "markdown",
      "source": [
        "Uma segunda forma de criar geradores é usar compreensões de for dentro de parênteses:"
      ],
      "metadata": {
        "id": "J5nuZ4ay4g5N"
      }
    },
    {
      "cell_type": "code",
      "source": [
        "#gerador gigante\n",
        "lazy_pares = (i for i in lazy_range(200000000000) if i % 2 == 0)\n",
        "\n",
        "#Para acessar os elementos de um gerador, você pode iterar sobre ele usando um loop for sob demanda\n",
        "count = 0\n",
        "for i in lazy_pares:\n",
        "  if count == 1000:\n",
        "    print(i)\n",
        "    break\n",
        "  count += 1\n"
      ],
      "metadata": {
        "id": "Sl7202584i_o"
      },
      "execution_count": null,
      "outputs": []
    },
    {
      "cell_type": "markdown",
      "source": [
        "Lembre-se de que cada dict possui um método items() que retorna uma lista de seus\n",
        "pares valores-chave. Veremos com mais frequência o método iteritems(), que preguiçosamente yields (chama) os pares de valor-chave um de cada vez conforme iteramos sobre ele."
      ],
      "metadata": {
        "id": "7xS1CCp17iux"
      }
    },
    {
      "cell_type": "markdown",
      "source": [
        "### 2.2.4. Aleatoriedade"
      ],
      "metadata": {
        "id": "iUYYNh7mNJiV"
      }
    },
    {
      "cell_type": "markdown",
      "source": [
        "Conforme aprendemos data science, precisaremos gerar números aleatórios com\n",
        "uma certa frequência, o que pode ser feito com o módulo random:"
      ],
      "metadata": {
        "id": "_vcnEH847mc5"
      }
    },
    {
      "cell_type": "code",
      "source": [
        "import random\n",
        "\n",
        "lista_aleat = [random.random() for _ in range(4)]\n",
        "print(lista_aleat)\n",
        "\n",
        "# random.random() produz números aleatórios uniformemente entre 0 e 1."
      ],
      "metadata": {
        "id": "9rDhwsB87pZN"
      },
      "execution_count": null,
      "outputs": []
    },
    {
      "cell_type": "markdown",
      "source": [
        "O módulo random de fato produz números pseudoaleatórios (ou seja, determinísticos) baseado em um estado interno que você pode configurar com random.seed se quiser obter resultados reproduzíveis:"
      ],
      "metadata": {
        "id": "OIWHPs928KCu"
      }
    },
    {
      "cell_type": "code",
      "source": [
        "random.seed(10) #configura seed para 10\n",
        "print(random.random()) #retorna 0.5714025946899135\n",
        "\n",
        "random.seed(10) #reinicia o seed para 10\n",
        "print(random.random()) #retorna 0.5714025946899135 NOVAMENTE\n",
        "\n",
        "random.seed(42) #configura seed para 42\n",
        "print(random.random()) #retorna 0.6394267984578837 que é OUTRO VALOR\n",
        "\n",
        "random.seed(10)\n",
        "print(random.random()) #retorna 0.5714025946899135 NOVAMENTE"
      ],
      "metadata": {
        "id": "4vb28BYf8Mvt"
      },
      "execution_count": null,
      "outputs": []
    },
    {
      "cell_type": "markdown",
      "source": [
        "Às vezes usaremos random.randrange, que leva um ou dois argumentos e retorna um elemento escolhido aleatoriamente do range() correspondente:"
      ],
      "metadata": {
        "id": "iuE_v9z39Rro"
      }
    },
    {
      "cell_type": "code",
      "source": [
        "print(random.randrange(10)) #escolhe aleatoriamente inteiros em [0, 1, 2, ..., 8, 9]\n",
        "print(random.randrange(3, 6)) #escolhe aleatoriamente inteiros em [3, 4, 5]"
      ],
      "metadata": {
        "id": "ypJSfRak9T3k"
      },
      "execution_count": null,
      "outputs": []
    },
    {
      "cell_type": "markdown",
      "source": [
        "Existem mais alguns métodos que achamos convenientes em certas ocasiões. random.shuffle reordena os elementos de uma lista aleatoriamente:"
      ],
      "metadata": {
        "id": "zfknrtUz9-nh"
      }
    },
    {
      "cell_type": "code",
      "source": [
        "menor_10 = [x for x in range(10)] #gera lista ordenada\n",
        "print(menor_10)\n",
        "\n",
        "random.shuffle(menor_10) #embaralha a lista\n",
        "print(menor_10)"
      ],
      "metadata": {
        "id": "L50_Hzsh-Bjr"
      },
      "execution_count": null,
      "outputs": []
    },
    {
      "cell_type": "markdown",
      "source": [
        "Se você precisar escolher um elemento randomicamente de uma lista, você pode usar random.choice:"
      ],
      "metadata": {
        "id": "UvSmhY1G_PqT"
      }
    },
    {
      "cell_type": "code",
      "source": [
        "amigos = ['joão', 'paulo', 'carlos', 'josé', 'adão']\n",
        "melhor_amigo = random.choice(amigos)\n",
        "print(melhor_amigo)"
      ],
      "metadata": {
        "id": "Ao0Sai3m_4Yq"
      },
      "execution_count": null,
      "outputs": []
    },
    {
      "cell_type": "markdown",
      "source": [
        "E se você precisar escolher aleatoriamente uma amostra dos elementos sem substituição (por exemplo, sem duplicatas), você pode usar random.sample:"
      ],
      "metadata": {
        "id": "32r8L7D9BI-b"
      }
    },
    {
      "cell_type": "code",
      "source": [
        "num_loteria = [x for x in range(60)]\n",
        "\n",
        "vencedores = random.sample(num_loteria, 6)\n",
        "print(vencedores)"
      ],
      "metadata": {
        "id": "F5LXOSRBBKOY"
      },
      "execution_count": null,
      "outputs": []
    },
    {
      "cell_type": "markdown",
      "source": [
        "Para escolher uma amostra de elementos com substituição (por exemplo, permitindo duplicatas), você pode fazer múltiplas chamadas para random.choice:"
      ],
      "metadata": {
        "id": "0ZH8JVUGDQy5"
      }
    },
    {
      "cell_type": "code",
      "source": [
        "com_repeticao = [random.choice(range(5)) for x in range(4)]\n",
        "print(com_repeticao)"
      ],
      "metadata": {
        "id": "mYpQ0I6wDSXJ"
      },
      "execution_count": null,
      "outputs": []
    },
    {
      "cell_type": "markdown",
      "source": [
        "### 2.2.5. Expressões regulares"
      ],
      "metadata": {
        "id": "o1KC6NjzNVOq"
      }
    },
    {
      "cell_type": "markdown",
      "source": [
        "As expressões regulares fornecem uma maneira de procurar por texto. São\n",
        "incrivelmente úteis mas um pouco complicadas, tanto que até existem livros sobre elas. Explicaremos mais detoalhes nas poucas vezes que as encontrarmos; estes são alguns exemplos de como usá-las em Python:"
      ],
      "metadata": {
        "id": "4NWHHxqxFQXp"
      }
    },
    {
      "cell_type": "code",
      "source": [
        "import re # Importa a biblioteca para expressões regulares\n",
        "\n",
        "print(all([ # Imprime o resultado da função all aplicada à lista\n",
        "  not re.match(\"a\",\"cat\"), # Verifica se 'a' não corresponde ao início de 'cat' (True)\n",
        "  re.search(\"a\",\"car\",), # Verifica se 'a' está presente em 'car' (True)\n",
        "  not re.search(\"c\",\"dog\"), # Verifica se 'c' não está presente em 'dog' (True)\n",
        "  3 == len(re.split(\"[ab]\",\"carbs\")), # Verifica se a divisão de 'carbs' por 'a' ou 'b' resulta em 3 elementos (True)\n",
        "  \"R-D-\" == re.sub(\"[0-9]\",\"-\",\"R2D2\") # Verifica se substituir números em 'R2D2' por '-' resulta em 'R-D-' (True)\n",
        "])) # Fecha a lista e a chamada da função all"
      ],
      "metadata": {
        "id": "e5B8Y7hvEKBU"
      },
      "execution_count": null,
      "outputs": []
    },
    {
      "cell_type": "markdown",
      "source": [
        "### 2.2.6. Programação orientada a objetos"
      ],
      "metadata": {
        "id": "scQpGNUhNbvF"
      }
    },
    {
      "cell_type": "markdown",
      "source": [
        "Como muitas linguagens, o Python permite que você defina classes que encapsulam dados e as funções que as operam. As usaremos algumas vezes para tornar nosso código mais limpo e simples. Provavelmente é mais fácil explicá-las ao construir um exemplo repleto de anotações.\n",
        "\n",
        "Imagine que não tivéssemos o set embutido em Python. Portanto, talvez quiséssemos criar nossa própria classe Set. Qual comportamento nossa classe deveria ter? Dado um exemplo de Set, deveremos ser capazes de add (adicionar) itens nele, remove (remover) itens dele e\n",
        "verificar se ele contains (contém) um determinado valor. Criaremos todos eles como funções de membro, o que significa que os acessaremos com um ponto depois de um objeto Set:\n"
      ],
      "metadata": {
        "id": "OH-FO4a_FwC5"
      }
    },
    {
      "cell_type": "code",
      "source": [
        "# Por convenção, damos nomes PascalCase às classes\n",
        "class Set:\n",
        "  # Estas são as funções de membro (métodos) da classe\n",
        "  # Cada método recebe um parâmetro \"self\" (convenção)\n",
        "  # que se refere à instância do objeto Set em uso\n",
        "  def __init__(self, values=None):\n",
        "    \"\"\"Este é o construtor da classe Set.\n",
        "    Ele é chamado automaticamente quando você cria um novo objeto Set.\n",
        "\n",
        "    Exemplo de uso:\n",
        "    s1 = Set()  # Cria um conjunto vazio\n",
        "    s2 = Set([1, 2, 2, 3])  # Cria um conjunto com os valores fornecidos\n",
        "    \"\"\"\n",
        "    self.dict = {}  # Cada instância de Set possui um dicionário para armazenar seus elementos\n",
        "    if values is not None:\n",
        "      for value in values:\n",
        "        self.add(value)  # Adiciona cada valor fornecido ao conjunto\n",
        "\n",
        "  def __repr__(self):\n",
        "    \"\"\"Este método define como uma instância de Set será representada como string.\"\"\"\n",
        "    return \"Set: \" + str(self.dict.keys())  # Retorna uma representação em string do conjunto\n",
        "\n",
        "  # Representaremos a associação como uma chave sendo presente no dicionário\n",
        "  def add(self, value):\n",
        "    \"\"\"Adiciona um valor ao conjunto, se ele ainda não estiver presente.\"\"\"\n",
        "    self.dict[value] = True  # A chave é o valor, e o valor associado é True (indicando presença)\n",
        "\n",
        "  def contains(self, value):\n",
        "    \"\"\"Verifica se um valor está presente no conjunto.\"\"\"\n",
        "    return value in self.dict  # Retorna True se o valor estiver no dicionário, False caso contrário\n",
        "\n",
        "  def remove(self, value):\n",
        "    del self.dict[value]"
      ],
      "metadata": {
        "id": "k-bcb7P_MoZm"
      },
      "execution_count": null,
      "outputs": []
    },
    {
      "cell_type": "markdown",
      "source": [
        "Que poderíamos usar desta forma:"
      ],
      "metadata": {
        "id": "yTTR3sQWRSRD"
      }
    },
    {
      "cell_type": "code",
      "source": [
        "s = Set([1,2,3]) #cria o objeto \"s\" da classe \"Set\"\n",
        "print(s)\n",
        "\n",
        "s.add(4) #adiciona o item \"4\" a \"s\"\n",
        "print(s)\n",
        "\n",
        "s.add(4) #objetos \"Set\" não admite elementos(chaves) duplicadas\n",
        "print(s)\n",
        "\n",
        "s.remove(2) #removendo \"2\" de \"s\"\n",
        "print(s)"
      ],
      "metadata": {
        "id": "p_pQXPp-RUSd"
      },
      "execution_count": null,
      "outputs": []
    },
    {
      "cell_type": "markdown",
      "source": [
        "### 2.2.7. Ferramentas funcionais"
      ],
      "metadata": {
        "id": "5kwrXIk1NhHl"
      }
    },
    {
      "cell_type": "markdown",
      "source": [
        "Ao passar as funções, algumas vezes queremos aplicá-las parcialmente para criar funções novas. Em um simples exemplo, imagine que temos uma função com duas variáveis:"
      ],
      "metadata": {
        "id": "RoNwsSGQSRoQ"
      }
    },
    {
      "cell_type": "code",
      "source": [
        "def exp(base, expoente):\n",
        "  return base**expoente\n",
        "\n",
        "print(exp(3,4))"
      ],
      "metadata": {
        "id": "8Vonr1nrUZn5"
      },
      "execution_count": null,
      "outputs": []
    },
    {
      "cell_type": "markdown",
      "source": [
        "e queremos usá-la para criar uma função de uma variável dois_elev cuja entrada é\n",
        "um power e cuja saída é o resultado de exp(2, power). Podemos, é claro, fazer isso com def, mas pode ser um pouco complicado:"
      ],
      "metadata": {
        "id": "U7wVy_ehUu5H"
      }
    },
    {
      "cell_type": "code",
      "source": [
        "def dois_elev(expoente):\n",
        "  return exp(2, expoente)\n",
        "\n",
        "print(dois_elev(3))"
      ],
      "metadata": {
        "id": "kpFyl02RUztZ"
      },
      "execution_count": null,
      "outputs": []
    },
    {
      "cell_type": "markdown",
      "source": [
        "**partial**"
      ],
      "metadata": {
        "id": "KwFO3AuZYfXz"
      }
    },
    {
      "cell_type": "markdown",
      "source": [
        "Uma abordagem diferente é usar functools.partial:"
      ],
      "metadata": {
        "id": "2S-k1-6xVKxT"
      }
    },
    {
      "cell_type": "code",
      "source": [
        "from functools import partial\n",
        "\n",
        "dois_elev = partial(exp,2) #agora é uma funcao de uma variável\n",
        "print(dois_elev(4))"
      ],
      "metadata": {
        "id": "jRTaoLf6VL8M"
      },
      "execution_count": null,
      "outputs": []
    },
    {
      "cell_type": "markdown",
      "source": [
        "Você também pode usar partial para preencher os argumentos que virão depois sevocê especificar seus nomes:"
      ],
      "metadata": {
        "id": "G6wCu_8hVgG8"
      }
    },
    {
      "cell_type": "code",
      "source": [
        "quadrado_de = partial(exp, expoente=2)\n",
        "print(quadrado_de(3))"
      ],
      "metadata": {
        "id": "bQ9g_5AoVg60"
      },
      "execution_count": null,
      "outputs": []
    },
    {
      "cell_type": "markdown",
      "source": [
        "Começa a ficar bagunçado quando você adiciona argumentos no meio da função, portanto tentaremos evitar isso.\n",
        "\n",
        "Ocasionalmente usaremos map, reduce e filter, que fornecem alternativas funcionais para as compreensões de lista:"
      ],
      "metadata": {
        "id": "QlGwN70CVxiW"
      }
    },
    {
      "cell_type": "code",
      "source": [
        "def dobro(x):\n",
        "  return 2*x\n",
        "\n",
        "#lista\n",
        "xs = [x for x in range(100)]\n",
        "print(xs)\n",
        "\n",
        "#quatro jeitos de achar o dobro da lista\n",
        "dobro_xs = [dobro(x) for x in xs] #list comprehension\n",
        "print(dobro_xs)\n",
        "\n",
        "dobro_xs = list(map(dobro,xs)) #função map\n",
        "print(dobro_xs)\n",
        "\n",
        "funcao_dobradora = partial(map,dobro) #funcao que dobra a lista\n",
        "dobro_xs = list(funcao_dobradora(xs))\n",
        "print(dobro_xs)"
      ],
      "metadata": {
        "id": "mqzH4Jl6V1GX"
      },
      "execution_count": null,
      "outputs": []
    },
    {
      "cell_type": "markdown",
      "source": [
        "**map**"
      ],
      "metadata": {
        "id": "970mdZ8MYk5n"
      }
    },
    {
      "cell_type": "markdown",
      "source": [
        "Você pode usar map com funções de múltiplos argumentos se fornecer múltiplas listas:"
      ],
      "metadata": {
        "id": "NHHa6fMvXaz4"
      }
    },
    {
      "cell_type": "code",
      "source": [
        "def multiplicar(x,y):\n",
        "  return x*y\n",
        "\n",
        "produtos = list(map(multiplicar,[1,2],[4,5]))\n",
        "print(produtos)"
      ],
      "metadata": {
        "id": "Qq966iHVXd6l"
      },
      "execution_count": null,
      "outputs": []
    },
    {
      "cell_type": "markdown",
      "source": [
        "**filter**"
      ],
      "metadata": {
        "id": "4ApEgAZ-Yp1N"
      }
    },
    {
      "cell_type": "markdown",
      "source": [
        "Igualmente, filter faz o trabalho de uma compreensão de lista if:"
      ],
      "metadata": {
        "id": "D2b-NeRXYtUI"
      }
    },
    {
      "cell_type": "code",
      "source": [
        "def e_par(x):\n",
        "  \"True se x for par, False se x for ímpar\"\n",
        "  return x%2 == 0\n",
        "\n",
        "#lista\n",
        "xs = [x for x in range(30)]\n",
        "print(xs)\n",
        "\n",
        "# três formas de separar os pares\n",
        "x_pares = [x for x in xs if e_par(x)]\n",
        "print(x_pares)\n",
        "\n",
        "x_pares = list(filter(e_par, xs))\n",
        "print(x_pares)\n",
        "\n",
        "funcao_filtra_pares = partial(filter, e_par)\n",
        "x_pares = list(funcao_filtra_pares(xs))\n",
        "print(x_pares)"
      ],
      "metadata": {
        "id": "uo0QIsqJYsOe"
      },
      "execution_count": null,
      "outputs": []
    },
    {
      "cell_type": "markdown",
      "source": [
        "**reduce**"
      ],
      "metadata": {
        "id": "jG_fFrpadntX"
      }
    },
    {
      "cell_type": "markdown",
      "source": [
        "reduce combina os dois primeiros elementos de uma lista, então esse resultado com o terceiro e esse resultado com o quarto; e assim por diante, produzindo um único resultado:"
      ],
      "metadata": {
        "id": "NYfTpHTodqEj"
      }
    },
    {
      "cell_type": "code",
      "source": [
        "from functools import reduce\n",
        "\n",
        "def multiplicador(x, y):\n",
        "  return x * y\n",
        "\n",
        "#lista\n",
        "xs = [x for x in range(1, 5)]\n",
        "print(xs)\n",
        "\n",
        "#duas formas de usar o reduce\n",
        "x_prod = reduce(multiplicador, xs)\n",
        "print(x_prod)\n",
        "\n",
        "funcao_prod_list = partial(reduce, multiplicador)\n",
        "x_prod = funcao_prod_list(xs)\n",
        "print(x_prod)"
      ],
      "metadata": {
        "id": "ptzPl49sdu3U"
      },
      "execution_count": null,
      "outputs": []
    },
    {
      "cell_type": "markdown",
      "source": [
        "### 2.2.8. Enumeração"
      ],
      "metadata": {
        "id": "5eU4hUs-NmEg"
      }
    },
    {
      "cell_type": "markdown",
      "source": [
        "Com alguma frequência, você vai querer iterar por uma lista e usar seus elementos e seus índices:"
      ],
      "metadata": {
        "id": "MFm6XkHef8ZC"
      }
    },
    {
      "cell_type": "code",
      "source": [
        "#criando uma lista\n",
        "lista = [x for x in range(25)]\n",
        "print(\"lista original\", lista)\n",
        "\n",
        "#função a faça algo\n",
        "def faca_algo(a,b):\n",
        "  return print(a,b)\n",
        "\n",
        "#ITERANDO SOBRE A LISTA:\n",
        "\n",
        "#um jeito tradicional\n",
        "for i in range(len(lista)):\n",
        "  itens_lista = lista[i]\n",
        "  faca_algo(i, itens_lista)\n",
        "\n",
        "#outro jeito tradicional\n",
        "i = 0\n",
        "for itens in lista:\n",
        "  faca_algo(i, itens)\n",
        "  i += 1\n",
        "\n",
        "#se quisermos só os índices jeito tradicional\n",
        "for i in range(len(lista)): faca_algo(i)\n",
        "\n",
        "#JEITO PYTHON\n",
        "for i, itens in enumerate(lista):\n",
        "  faca_algo(i, lista)\n",
        "\n",
        "#se quisermos só os índices JEITO PYTHON\n",
        "for i, _ in enumerate(lista): faca_algo(i)"
      ],
      "metadata": {
        "collapsed": true,
        "id": "lwozzFYngC-P"
      },
      "execution_count": null,
      "outputs": []
    },
    {
      "cell_type": "markdown",
      "source": [
        "### 2.2.9. Descompactação de Zip e Argumentos"
      ],
      "metadata": {
        "id": "Xt-QyL6FNqMf"
      }
    },
    {
      "cell_type": "markdown",
      "source": [],
      "metadata": {
        "id": "zvy-KWpWmDdN"
      }
    },
    {
      "cell_type": "markdown",
      "source": [
        "### 2.2.10. args e kwargs"
      ],
      "metadata": {
        "id": "MiFvjxHuNwv9"
      }
    },
    {
      "cell_type": "markdown",
      "source": [
        "Digamos que queremos criar uma função de ordem alta que tem como entrada uma função f e retorna uma função nova que retorna duas vezes o valor de f para qualquer entrada:"
      ],
      "metadata": {
        "id": "TVTB2kn9k8PP"
      }
    },
    {
      "cell_type": "code",
      "source": [
        "def dobrar(f):\n",
        "  def g(x):\n",
        "    return 2*f(x)\n",
        "  return g"
      ],
      "metadata": {
        "id": "h-mXheFvlIZz"
      },
      "execution_count": null,
      "outputs": []
    },
    {
      "cell_type": "markdown",
      "source": [
        "Isto funciona em alguns casos:"
      ],
      "metadata": {
        "id": "T37bviRwlcEB"
      }
    },
    {
      "cell_type": "code",
      "source": [
        "def f1(x):\n",
        "  return x + 1\n",
        "\n",
        "g = dobrar(f1)\n",
        "\n",
        "print(g(3))\n",
        "print(g(-1))"
      ],
      "metadata": {
        "id": "bW5QR30Gldbv"
      },
      "execution_count": null,
      "outputs": []
    },
    {
      "cell_type": "markdown",
      "source": [
        "No entanto, ele falha com funções que possuem mais de um único argumento:"
      ],
      "metadata": {
        "id": "pOvC3R5BlztM"
      }
    },
    {
      "cell_type": "code",
      "source": [
        "def f2(x,y):\n",
        "  return x + y\n",
        "\n",
        "g = dobrar(f2)\n",
        "\n",
        "print(g(1,2)) #falha, pois g() pega apenas 1 argumento e 2 dados"
      ],
      "metadata": {
        "collapsed": true,
        "id": "RKhAgu6dl0gk"
      },
      "execution_count": null,
      "outputs": []
    },
    {
      "cell_type": "markdown",
      "source": [
        "O que precisamos é de alguma maneira de especificar uma função que leva argumentos arbitrários. Podemos fazer isso com a descompactação de argumento e um pouco de mágica:"
      ],
      "metadata": {
        "id": "Mr4MJpTdmVtY"
      }
    },
    {
      "cell_type": "code",
      "source": [
        "def magic(*args, **kwargs):\n",
        "  print \"unnamed args:\", args\n",
        "  print \"keyword args:\", kwargs\n",
        "magic(1, 2, key=\"word\", key2=\"word2\")\n",
        "# imprime\n",
        "# unnamed args: (1, 2)\n",
        "# keyword args:{'key2': 'word2', 'key': 'word'}"
      ],
      "metadata": {
        "id": "Ls5omDJMmZDp"
      },
      "execution_count": null,
      "outputs": []
    },
    {
      "cell_type": "markdown",
      "source": [
        "Ou seja, quando definimos uma função como essa, args é uma tupla dos seusargumentos sem nome e kwargs é um dict dos seus argumentos com nome.\n",
        "Funciona da forma contrária também, se você quiser usar uma list (ou tuple) e dict para fornecer argumentos para uma função:"
      ],
      "metadata": {
        "id": "WbFf_fudmmwZ"
      }
    },
    {
      "cell_type": "code",
      "source": [
        "def other_way_magic(x, y, z):\n",
        "  return x + y + z\n",
        "\n",
        "x_y_list = [1, 2]\n",
        "z_dict = { \"z\" : 3 }\n",
        "\n",
        "print other_way_magic(*x_y_list, **z_dict) # 6"
      ],
      "metadata": {
        "id": "gQpcMqH9moMp"
      },
      "execution_count": null,
      "outputs": []
    }
  ]
}
