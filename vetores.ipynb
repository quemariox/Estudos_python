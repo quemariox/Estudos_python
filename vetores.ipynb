{
  "nbformat": 4,
  "nbformat_minor": 0,
  "metadata": {
    "colab": {
      "private_outputs": true,
      "provenance": [],
      "authorship_tag": "ABX9TyNN7BsiDVHLEvQLas8hufFE",
      "include_colab_link": true
    },
    "kernelspec": {
      "name": "python3",
      "display_name": "Python 3"
    },
    "language_info": {
      "name": "python"
    }
  },
  "cells": [
    {
      "cell_type": "markdown",
      "metadata": {
        "id": "view-in-github",
        "colab_type": "text"
      },
      "source": [
        "<a href=\"https://colab.research.google.com/github/quemariox/Estudos_python/blob/main/vetores.ipynb\" target=\"_parent\"><img src=\"https://colab.research.google.com/assets/colab-badge.svg\" alt=\"Open In Colab\"/></a>"
      ]
    },
    {
      "cell_type": "markdown",
      "source": [
        "# Soma de dois vetores"
      ],
      "metadata": {
        "id": "paxOIB_rZyPI"
      }
    },
    {
      "cell_type": "code",
      "source": [
        "def soma_vec(vec_a: list,vec_b: list):\n",
        "  if len(vec_a) == len(vec_b):\n",
        "    dim = len(vec_a)\n",
        "    vetor_soma = [vec_a[i] + vec_b[i] for i in range(dim)]\n",
        "\n",
        "  elif len(vec_a) > len(vec_b):\n",
        "    dim = len(vec_a)\n",
        "    for j in range (len(vec_b), len(vec_a)):\n",
        "      vec_b.append(0)\n",
        "    vetor_soma = [vec_a[i] + vec_b[i] for i in range(dim)]\n",
        "\n",
        "  elif len(vec_b) > len(vec_a):\n",
        "    dim = len(vec_b)\n",
        "    for k in range (len(vec_a), len(vec_b)):\n",
        "      vec_a.append(0)\n",
        "    vetor_soma = [vec_a[i] + vec_b[i] for i in range(dim)]\n",
        "\n",
        "  return vetor_soma\n",
        "\n",
        "print(soma_vec([1,2],[3,4,2,3,4]))\n",
        ""
      ],
      "metadata": {
        "id": "f_xlBph3RxG4"
      },
      "execution_count": null,
      "outputs": []
    },
    {
      "cell_type": "markdown",
      "source": [
        "# Diferença de dois vetores"
      ],
      "metadata": {
        "id": "WeHD_svMZ4wR"
      }
    },
    {
      "cell_type": "code",
      "source": [
        "def dif_vec(vec_a: list,vec_b: list):\n",
        "  if len(vec_a) == len(vec_b):\n",
        "    dim = len(vec_a)\n",
        "    vetor_diferenca = [vec_a[i] - vec_b[i] for i in range(dim)]\n",
        "\n",
        "  elif len(vec_a) > len(vec_b):\n",
        "    dim = len(vec_a)\n",
        "    for j in range (len(vec_b), len(vec_a)):\n",
        "      vec_b.append(0)\n",
        "    vetor_diferenca = [vec_a[i] - vec_b[i] for i in range(dim)]\n",
        "\n",
        "  elif len(vec_b) > len(vec_a):\n",
        "    dim = len(vec_b)\n",
        "    for k in range (len(vec_a), len(vec_b)):\n",
        "      vec_a.append(0)\n",
        "    vetor_diferenca = [vec_a[i] - vec_b[i] for i in range(dim)]\n",
        "\n",
        "  return vetor_diferenca\n",
        "\n",
        "print(dif_vec([1,2],[3,4,2,3,4]))\n",
        ""
      ],
      "metadata": {
        "id": "UMwsafihYXau"
      },
      "execution_count": null,
      "outputs": []
    },
    {
      "cell_type": "markdown",
      "source": [
        "# Múltiplicação por escalar"
      ],
      "metadata": {
        "id": "LgPKtmkzbYN1"
      }
    },
    {
      "cell_type": "code",
      "source": [
        "def mult_esc(num: float, vec: list):\n",
        "  dim = (len(vec))\n",
        "  vetor_mult = [num*vec[i] for i in range(dim)]\n",
        "\n",
        "  return vetor_mult\n",
        "\n",
        "print(mult_esc(-2,[1,2,3]))"
      ],
      "metadata": {
        "id": "wHJlm1q4be2D"
      },
      "execution_count": null,
      "outputs": []
    },
    {
      "cell_type": "markdown",
      "source": [
        "# Combinação linear de dois vetores\n"
      ],
      "metadata": {
        "id": "tYjoiss7bfXQ"
      }
    },
    {
      "cell_type": "code",
      "source": [],
      "metadata": {
        "id": "CCMbEgjvbjH2"
      },
      "execution_count": null,
      "outputs": []
    },
    {
      "cell_type": "markdown",
      "source": [
        "# Produto interno"
      ],
      "metadata": {
        "id": "KUbbXpVQbjkX"
      }
    },
    {
      "cell_type": "code",
      "source": [],
      "metadata": {
        "id": "-HLfjlePbsrU"
      },
      "execution_count": null,
      "outputs": []
    },
    {
      "cell_type": "markdown",
      "source": [
        "# Produto vetorial"
      ],
      "metadata": {
        "id": "nE9Ze3oEbou8"
      }
    },
    {
      "cell_type": "code",
      "source": [],
      "metadata": {
        "id": "UocHE0b1btUL"
      },
      "execution_count": null,
      "outputs": []
    },
    {
      "cell_type": "code",
      "execution_count": null,
      "metadata": {
        "id": "hKHZhPAKbpkz"
      },
      "outputs": [],
      "source": [
        "import numpy as np\n",
        "\n",
        "\n",
        "\n",
        "\n",
        "\n",
        "#Combinação linear 2*vec_1 + 3*vec_2\n",
        "vec_comb = [None]*3\n",
        "for i in range(3):\n",
        "  vec_comb[i] = 2*vec_1[i] + 3*vec_2[i]\n",
        "print(f'combinação linear: 2*vec_1 + 3*vec_2 = {vec_comb}')\n",
        "print('\\n')"
      ]
    },
    {
      "cell_type": "code",
      "source": [
        "#Produto interno\n",
        "norma_1 = 0\n",
        "norma_2 = 0\n",
        "for i in range(3):\n",
        "  norma_1 += vec_1[i]*vec_1[i]\n",
        "  norma_2 += vec_2[i]*vec_2[i]\n",
        "norma_1 = np.sqrt(norma_1)\n",
        "norma_2 = np.sqrt(norma_2)\n",
        "print(f'normas: |vec_1| = {norma_1}, |vec_2| = {norma_2}')\n",
        "print('\\n')\n",
        "\n",
        "#Norma\n",
        "inner_12 = 0\n",
        "for i in range(3):\n",
        "  inner_12 += vec_1[i]*vec_2[i]\n",
        "print(f'produto interno: <vec_1|vec_2> = {inner_12}')\n",
        "print('\\n')"
      ],
      "metadata": {
        "id": "Py5fWIOIl39I"
      },
      "execution_count": null,
      "outputs": []
    },
    {
      "cell_type": "code",
      "source": [
        "#Produto vetorial\n",
        "vec_prod_12 = [None]*3\n",
        "vec_prod_12[0] = vec_1[1]*vec_2[2]-vec_1[2]*vec_2[1]\n",
        "vec_prod_12[1] = vec_1[2]*vec_2[0]-vec_1[0]*vec_2[2]\n",
        "vec_prod_12[2] = vec_1[0]*vec_2[1]-vec_1[1]*vec_2[0]\n",
        "\n",
        "vec_prod_21 = [None]*3\n",
        "vec_prod_21[0] = -1*vec_prod_12[0]\n",
        "vec_prod_21[1] = -1*vec_prod_12[1]\n",
        "vec_prod_21[2] = -1*vec_prod_12[2]\n",
        "\n",
        "print(f'produto vetorial vec_1 x vec_2 = {vec_prod_12}')\n",
        "print(f'produto vetorial vec_2 x vec_1 = {vec_prod_21}')\n",
        "print('\\n')"
      ],
      "metadata": {
        "id": "qmJEsmJTlvtc"
      },
      "execution_count": null,
      "outputs": []
    },
    {
      "cell_type": "markdown",
      "source": [],
      "metadata": {
        "id": "Mb2yFFdIbVRd"
      }
    }
  ]
}