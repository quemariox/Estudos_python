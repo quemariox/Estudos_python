{
  "nbformat": 4,
  "nbformat_minor": 0,
  "metadata": {
    "colab": {
      "private_outputs": true,
      "provenance": [],
      "authorship_tag": "ABX9TyOBYOmbqaP4jmpY6lKdTACA",
      "include_colab_link": true
    },
    "kernelspec": {
      "name": "python3",
      "display_name": "Python 3"
    },
    "language_info": {
      "name": "python"
    }
  },
  "cells": [
    {
      "cell_type": "markdown",
      "metadata": {
        "id": "view-in-github",
        "colab_type": "text"
      },
      "source": [
        "<a href=\"https://colab.research.google.com/github/quemariox/Estudos_python/blob/main/vetores.ipynb\" target=\"_parent\"><img src=\"https://colab.research.google.com/assets/colab-badge.svg\" alt=\"Open In Colab\"/></a>"
      ]
    },
    {
      "cell_type": "code",
      "execution_count": null,
      "metadata": {
        "id": "hKHZhPAKbpkz"
      },
      "outputs": [],
      "source": [
        "import numpy as np\n",
        "\n",
        "#Definindo dois vetores\n",
        "vec_1 = [1,2,3]\n",
        "vec_2 = [4,5,6]\n",
        "\n",
        "#Soma vec_1 + vec_2\n",
        "vec_sum = [None]*3\n",
        "for i in range(3):\n",
        "  vec_sum[i] = vec_1[i] + vec_2[i]\n",
        "print(f'soma: vec_1 + vec_2 = {vec_sum}')\n",
        "print('\\n')\n",
        "\n",
        "#Subtração vec_1 - vec_2\n",
        "vec_sub = [None]*3\n",
        "for i in range(3):\n",
        "  vec_sub[i] = vec_1[i] - vec_2[i]\n",
        "print(f'diferença: vec_1 - vec_2 = {vec_sub}')\n",
        "print('\\n')\n",
        "\n",
        "#Combinação linear 2*vec_1 + 3*vec_2\n",
        "vec_comb = [None]*3\n",
        "for i in range(3):\n",
        "  vec_comb[i] = 2*vec_1[i] + 3*vec_2[i]\n",
        "print(f'combinação linear: 2*vec_1 + 3*vec_2 = {vec_comb}')\n",
        "print('\\n')"
      ]
    },
    {
      "cell_type": "code",
      "source": [
        "#Produto interno\n",
        "norma_1 = 0\n",
        "norma_2 = 0\n",
        "for i in range(3):\n",
        "  norma_1 += vec_1[i]*vec_1[i]\n",
        "  norma_2 += vec_2[i]*vec_2[i]\n",
        "norma_1 = np.sqrt(norma_1)\n",
        "norma_2 = np.sqrt(norma_2)\n",
        "print(f'normas: |vec_1| = {norma_1}, |vec_2| = {norma_2}')\n",
        "print('\\n')\n",
        "\n",
        "#Norma\n",
        "inner_12 = 0\n",
        "for i in range(3):\n",
        "  inner_12 += vec_1[i]*vec_2[i]\n",
        "print(f'produto interno: <vec_1|vec_2> = {inner_12}')\n",
        "print('\\n')"
      ],
      "metadata": {
        "id": "Py5fWIOIl39I"
      },
      "execution_count": null,
      "outputs": []
    },
    {
      "cell_type": "code",
      "source": [
        "#Produto vetorial\n",
        "vec_prod_12 = [None]*3\n",
        "vec_prod_12[0] = vec_1[1]*vec_2[2]-vec_1[2]*vec_2[1]\n",
        "vec_prod_12[1] = vec_1[2]*vec_2[0]-vec_1[0]*vec_2[2]\n",
        "vec_prod_12[2] = vec_1[0]*vec_2[1]-vec_1[1]*vec_2[0]\n",
        "\n",
        "vec_prod_21 = [None]*3\n",
        "vec_prod_21[0] = -1*vec_prod_12[0]\n",
        "vec_prod_21[1] = -1*vec_prod_12[1]\n",
        "vec_prod_21[2] = -1*vec_prod_12[2]\n",
        "\n",
        "print(f'produto vetorial vec_1 x vec_2 = {vec_prod_12}')\n",
        "print(f'produto vetorial vec_2 x vec_1 = {vec_prod_21}')\n",
        "print('\\n')"
      ],
      "metadata": {
        "id": "qmJEsmJTlvtc"
      },
      "execution_count": null,
      "outputs": []
    }
  ]
}