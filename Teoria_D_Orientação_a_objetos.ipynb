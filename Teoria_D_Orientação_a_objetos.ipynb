{
  "nbformat": 4,
  "nbformat_minor": 0,
  "metadata": {
    "colab": {
      "private_outputs": true,
      "provenance": [],
      "authorship_tag": "ABX9TyPn2R4VquTMdShN+7LbdR0u",
      "include_colab_link": true
    },
    "kernelspec": {
      "name": "python3",
      "display_name": "Python 3"
    },
    "language_info": {
      "name": "python"
    }
  },
  "cells": [
    {
      "cell_type": "markdown",
      "metadata": {
        "id": "view-in-github",
        "colab_type": "text"
      },
      "source": [
        "<a href=\"https://colab.research.google.com/github/quemariox/Estudos_python/blob/main/Teoria_D_Orienta%C3%A7%C3%A3o_a_objetos.ipynb\" target=\"_parent\"><img src=\"https://colab.research.google.com/assets/colab-badge.svg\" alt=\"Open In Colab\"/></a>"
      ]
    },
    {
      "cell_type": "markdown",
      "source": [
        "# OOP em Python"
      ],
      "metadata": {
        "id": "Ocac3QpgEJnZ"
      }
    },
    {
      "cell_type": "markdown",
      "source": [
        "## 1. Classe e objetos"
      ],
      "metadata": {
        "id": "zCvyIhgTDrop"
      }
    },
    {
      "cell_type": "markdown",
      "source": [
        "### 1.1. Criando a classe"
      ],
      "metadata": {
        "id": "I4h5g32OCvew"
      }
    },
    {
      "cell_type": "markdown",
      "source": [
        "1. Em Python, definimos uma nova classe fornecendo um nome e um conjunto de métodos que são sintaticamente semelhantes às definições de função.\n",
        "\n",
        "2. O primeiro método que todas as classes devem fornecer é o construtor. O construtor define a maneira como os objetos de dados são criados.\n",
        "\n",
        "3. Para criar um objeto Fraction, precisaremos fornecer dois dados, o numerador e denominador. Em Python, o método construtor é sempre chamado __init__ (com dois underscores antes e depois de init) e é mostrado na Listagem 2.\n",
        "\n"
      ],
      "metadata": {
        "id": "we3P-D7iB0aJ"
      }
    },
    {
      "cell_type": "code",
      "execution_count": null,
      "metadata": {
        "id": "Dh_Vp4os-fgm"
      },
      "outputs": [],
      "source": [
        "class Fraction:\n",
        "\n",
        "    def __init__(self, cima, baixo):\n",
        "\n",
        "        self.num = cima\n",
        "        self.den = baixo"
      ]
    },
    {
      "cell_type": "markdown",
      "source": [
        "4. Note que a lista formal de parâmetros contém três itens (self, cima, baixo). O self é um parâmetro especial que sempre deve ser usado como uma referência ao próprio objeto.\n",
        "Deve ser sempre o primeiro parâmetro formal; no entanto, esse parâmetro nunca receberá um valor na chamada.\n",
        "\n",
        "5. Como descrito anteriormente, as frações requerem dois objetos de dados de estado, o numerador e o denominador. A notação self.num no construtor define que um objeto Fraction tenha um objeto de dados interno chamado num como parte de seu estado. Da mesma forma, self.den cria o denominador. Os valores dos dois parâmetros formais são inicialmente atribuídos ao estado, permitindo que o novo objeto Fraction receba o seu valor inicial.\n",
        "\n"
      ],
      "metadata": {
        "id": "plmLpsxNCa7s"
      }
    },
    {
      "cell_type": "markdown",
      "source": [
        "### 1.2. Criando objetos"
      ],
      "metadata": {
        "id": "pp02nTeSC339"
      }
    },
    {
      "cell_type": "markdown",
      "source": [
        "6. Para criar uma instância da classe Fraction, devemos invocar o construtor. Isso acontece quando usamos o nome da classe e passamos valores necessários para iniciar o estado (note que nunca invocamos __init__ diretamente). O código abaixo cria um objeto myfraction que representa a fração 3/5."
      ],
      "metadata": {
        "id": "E1-wLuyrEUqZ"
      }
    },
    {
      "cell_type": "code",
      "source": [
        "myfraction = Fraction(3,5)\n",
        "print(myfraction)"
      ],
      "metadata": {
        "id": "7-64VHf8_G5c"
      },
      "execution_count": null,
      "outputs": []
    },
    {
      "cell_type": "markdown",
      "source": [
        "7. O objeto Fraction, myfraction, não sabe como responder a esse pedido para imprimir. A função print requer que o objeto se converta em uma string (cadeia de caracteres) para que a string possa ser escrita na saída. A única escolha do myfraction é mostrar a referência real que é armazenada na variável (o próprio endereço). Isto não é o que nós queremos.\n",
        "\n",
        "8. Existem duas maneiras de resolver este problema. Uma é definindo um método chamado show (mostrar) que permitirá que o objeto Fraction seja impresso como uma string. Podemos implementar este método como mostrado na Listagem 3. Se criarmos um objeto Fraction como antes, nós podemos lhe pedir para se mostrar, ou em outras palavras, para imprimir seu valor no formato apropriado. Infelizmente, isso geralmente não funciona. Para que a impressão funcione corretamente, precisamos dizer à classe Fraction como se converter em uma string. Isto é o que a função print precisa para fazer o trabalho dela."
      ],
      "metadata": {
        "id": "-G7RYcYrFSfZ"
      }
    },
    {
      "cell_type": "code",
      "source": [
        "#redefinindo a classe\n",
        "class Fraction:\n",
        "  def __init__(self, cima, baixo):\n",
        "    self.num = cima\n",
        "    self.den = baixo\n",
        "  def show(self):\n",
        "    print(self.num,\"/\",self.den)\n",
        "\n",
        "#criando objeto myfraction\n",
        "myfraction = Fraction(3,5)\n",
        "\n",
        "#usando o método show()\n",
        "myfraction.show()"
      ],
      "metadata": {
        "id": "XTsnYSwvFkTS"
      },
      "execution_count": null,
      "outputs": []
    },
    {
      "cell_type": "markdown",
      "source": [
        "9. No Python, todas as classes têm um conjunto de métodos padrão que são fornecidos mas podem não funcionar corretamente. Um desses, __str__, é o método para converter um objeto em uma string. A implementação default para este método é retornar a string correspondente ao endereço da instância, como já vimos. O que precisamos fazer é fornecer uma implementação “melhor” para esse método. Dizemos que esta implementação sobrescreve a anterior, ou que redefine o comportamento do método.\n",
        "\n",
        "10. Para fazer isso, nós simplesmente definimos um método com o nome __str__ e fornecemos uma nova implementação como mostrado na Listagem 4. Esta definição não precisa de nenhuma outra informação exceto o parâmetro especial self. Por sua vez, o método irá construir uma string convertendo cada pedaço dos dados de estado interno em strings e depois colocando um caractere / entre as strings por concatenação. A string resultante será retornada sempre que um objeto Fraction for solicitado para se converter em string. Observe que há várias maneiras de se usar essa função."
      ],
      "metadata": {
        "id": "ll6APgoZHSN6"
      }
    },
    {
      "cell_type": "code",
      "source": [
        "class Fraction:\n",
        "  def __init__(self, cima, baixo):\n",
        "    self.num = cima\n",
        "    self.den = baixo\n",
        "  def __str__(self):\n",
        "    return str(self.num)+\"/\"+str(self.den)\n",
        "\n",
        "myfraction = Fraction(3,5)\n",
        "\n",
        "print(myfraction)\n",
        "print(\"Eu comi\", myfraction,\"da pizza\")\n"
      ],
      "metadata": {
        "id": "4OMuObR3HbQR"
      },
      "execution_count": null,
      "outputs": []
    },
    {
      "cell_type": "markdown",
      "source": [
        "# Referências\n"
      ],
      "metadata": {
        "id": "QOV2og8vD-Uc"
      }
    },
    {
      "cell_type": "markdown",
      "source": [
        "https://panda.ime.usp.br/panda/static/pythonds_pt/01-Introducao/13-poo.html"
      ],
      "metadata": {
        "id": "iuNCYffJEDJs"
      }
    }
  ]
}